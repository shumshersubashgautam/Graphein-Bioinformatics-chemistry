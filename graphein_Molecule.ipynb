{
  "nbformat": 4,
  "nbformat_minor": 0,
  "metadata": {
    "colab": {
      "provenance": [],
      "authorship_tag": "ABX9TyNJcBYyhNxlhyy6pmvqLfQS",
      "include_colab_link": true
    },
    "kernelspec": {
      "name": "python3",
      "display_name": "Python 3"
    },
    "language_info": {
      "name": "python"
    },
    "gpuClass": "standard",
    "accelerator": "GPU"
  },
  "cells": [
    {
      "cell_type": "markdown",
      "metadata": {
        "id": "view-in-github",
        "colab_type": "text"
      },
      "source": [
        "<a href=\"https://colab.research.google.com/github/shumshersubashgautam/Graphein-Bioinformatics-chemistry/blob/main/graphein_Molecule.ipynb\" target=\"_parent\"><img src=\"https://colab.research.google.com/assets/colab-badge.svg\" alt=\"Open In Colab\"/></a>"
      ]
    },
    {
      "cell_type": "code",
      "source": [
        "!git clone https://github.com/a-r-j/graphein.git"
      ],
      "metadata": {
        "colab": {
          "base_uri": "https://localhost:8080/"
        },
        "id": "ffxStSGwcC89",
        "outputId": "3ca2df61-765f-4b0c-bcd6-dcbd57bd2ef6"
      },
      "execution_count": 1,
      "outputs": [
        {
          "output_type": "stream",
          "name": "stdout",
          "text": [
            "Cloning into 'graphein'...\n",
            "remote: Enumerating objects: 6803, done.\u001b[K\n",
            "remote: Counting objects: 100% (779/779), done.\u001b[K\n",
            "remote: Compressing objects: 100% (315/315), done.\u001b[K\n",
            "remote: Total 6803 (delta 620), reused 533 (delta 464), pack-reused 6024\u001b[K\n",
            "Receiving objects: 100% (6803/6803), 89.41 MiB | 27.04 MiB/s, done.\n",
            "Resolving deltas: 100% (4072/4072), done.\n"
          ]
        }
      ]
    },
    {
      "cell_type": "code",
      "source": [
        "cd graphein"
      ],
      "metadata": {
        "colab": {
          "base_uri": "https://localhost:8080/"
        },
        "id": "TOamKSZtcMRP",
        "outputId": "83194c23-b2d7-4c7a-cdd4-7031fd433a5d"
      },
      "execution_count": 5,
      "outputs": [
        {
          "output_type": "stream",
          "name": "stdout",
          "text": [
            "/content/graphein\n"
          ]
        }
      ]
    },
    {
      "cell_type": "code",
      "source": [
        "%load_ext watermark\n",
        "%watermark\n",
        "print(\"Graphein version: \", graphein.__version__)"
      ],
      "metadata": {
        "colab": {
          "base_uri": "https://localhost:8080/"
        },
        "id": "RSvcNxWOce6I",
        "outputId": "21e49fe8-2497-4a83-fb4e-399dedd7f22f"
      },
      "execution_count": 19,
      "outputs": [
        {
          "output_type": "stream",
          "name": "stdout",
          "text": [
            "Last updated: 2023-03-13T15:19:39.200991+00:00\n",
            "\n",
            "Python implementation: CPython\n",
            "Python version       : 3.9.16\n",
            "IPython version      : 7.9.0\n",
            "\n",
            "Compiler    : GCC 9.4.0\n",
            "OS          : Linux\n",
            "Release     : 5.10.147+\n",
            "Machine     : x86_64\n",
            "Processor   : x86_64\n",
            "CPU cores   : 2\n",
            "Architecture: 64bit\n",
            "\n",
            "Graphein version:  1.5.2\n"
          ]
        }
      ]
    },
    {
      "cell_type": "code",
      "source": [
        "!pwd"
      ],
      "metadata": {
        "colab": {
          "base_uri": "https://localhost:8080/"
        },
        "id": "1FRteMIHhkrE",
        "outputId": "4418df90-e303-4e19-d4c2-21220189988a"
      },
      "execution_count": 21,
      "outputs": [
        {
          "output_type": "stream",
          "name": "stdout",
          "text": [
            "/content/graphein\n"
          ]
        }
      ]
    },
    {
      "cell_type": "code",
      "source": [
        "!pip install graphein[extras]"
      ],
      "metadata": {
        "colab": {
          "base_uri": "https://localhost:8080/"
        },
        "id": "xx08RndljyYU",
        "outputId": "b32862ed-cf5d-4aeb-b88b-32be178dee39"
      },
      "execution_count": 23,
      "outputs": [
        {
          "output_type": "stream",
          "name": "stdout",
          "text": [
            "Looking in indexes: https://pypi.org/simple, https://us-python.pkg.dev/colab-wheels/public/simple/\n",
            "Requirement already satisfied: graphein[extras] in /usr/local/lib/python3.9/dist-packages (1.5.2)\n",
            "Requirement already satisfied: multipledispatch in /usr/local/lib/python3.9/dist-packages (from graphein[extras]) (0.6.0)\n",
            "Requirement already satisfied: pydantic in /usr/local/lib/python3.9/dist-packages (from graphein[extras]) (1.10.5)\n",
            "Requirement already satisfied: plotly in /usr/local/lib/python3.9/dist-packages (from graphein[extras]) (5.5.0)\n",
            "Requirement already satisfied: scikit-learn in /usr/local/lib/python3.9/dist-packages (from graphein[extras]) (1.2.1)\n",
            "Requirement already satisfied: deepdiff in /usr/local/lib/python3.9/dist-packages (from graphein[extras]) (6.2.3)\n",
            "Requirement already satisfied: matplotlib>=3.4.3 in /usr/local/lib/python3.9/dist-packages (from graphein[extras]) (3.5.3)\n",
            "Requirement already satisfied: tqdm in /usr/local/lib/python3.9/dist-packages (from graphein[extras]) (4.65.0)\n",
            "Requirement already satisfied: pyyaml<6.*,>=5.1 in /usr/local/lib/python3.9/dist-packages (from graphein[extras]) (5.4.1)\n",
            "Requirement already satisfied: pandas in /usr/local/lib/python3.9/dist-packages (from graphein[extras]) (1.3.5)\n",
            "Requirement already satisfied: biopython in /usr/local/lib/python3.9/dist-packages (from graphein[extras]) (1.81)\n",
            "Requirement already satisfied: xarray in /usr/local/lib/python3.9/dist-packages (from graphein[extras]) (2022.12.0)\n",
            "Requirement already satisfied: networkx in /usr/local/lib/python3.9/dist-packages (from graphein[extras]) (3.0)\n",
            "Requirement already satisfied: numpy in /usr/local/lib/python3.9/dist-packages (from graphein[extras]) (1.22.4)\n",
            "Requirement already satisfied: bioservices>=1.10.0 in /usr/local/lib/python3.9/dist-packages (from graphein[extras]) (1.11.2)\n",
            "Requirement already satisfied: typing-extensions in /usr/local/lib/python3.9/dist-packages (from graphein[extras]) (4.5.0)\n",
            "Requirement already satisfied: loguru in /usr/local/lib/python3.9/dist-packages (from graphein[extras]) (0.6.0)\n",
            "Requirement already satisfied: seaborn in /usr/local/lib/python3.9/dist-packages (from graphein[extras]) (0.11.2)\n",
            "Requirement already satisfied: rich in /usr/local/lib/python3.9/dist-packages (from graphein[extras]) (13.3.2)\n",
            "Requirement already satisfied: scipy in /usr/local/lib/python3.9/dist-packages (from graphein[extras]) (1.10.1)\n",
            "Requirement already satisfied: biopandas>=0.4.1 in /usr/local/lib/python3.9/dist-packages (from graphein[extras]) (0.4.1)\n",
            "Requirement already satisfied: rich-click in /usr/local/lib/python3.9/dist-packages (from graphein[extras]) (1.6.1)\n",
            "Requirement already satisfied: wget in /usr/local/lib/python3.9/dist-packages (from graphein[extras]) (3.2)\n",
            "Collecting pandoc\n",
            "  Downloading pandoc-2.3.tar.gz (33 kB)\n",
            "  Preparing metadata (setup.py) ... \u001b[?25l\u001b[?25hdone\n",
            "Collecting pycodestyle\n",
            "  Downloading pycodestyle-2.10.0-py2.py3-none-any.whl (41 kB)\n",
            "\u001b[2K     \u001b[90m━━━━━━━━━━━━━━━━━━━━━━━━━━━━━━━━━━━━━━━━\u001b[0m \u001b[32m41.3/41.3 KB\u001b[0m \u001b[31m6.0 MB/s\u001b[0m eta \u001b[36m0:00:00\u001b[0m\n",
            "\u001b[?25hCollecting hypothesis\n",
            "  Downloading hypothesis-6.68.2-py3-none-any.whl (402 kB)\n",
            "\u001b[2K     \u001b[90m━━━━━━━━━━━━━━━━━━━━━━━━━━━━━━━━━━━━━━\u001b[0m \u001b[32m402.7/402.7 KB\u001b[0m \u001b[31m37.0 MB/s\u001b[0m eta \u001b[36m0:00:00\u001b[0m\n",
            "\u001b[?25hCollecting nbval\n",
            "  Downloading nbval-0.10.0-py2.py3-none-any.whl (24 kB)\n",
            "Collecting pydocstyle\n",
            "  Downloading pydocstyle-6.3.0-py3-none-any.whl (38 kB)\n",
            "Collecting isort\n",
            "  Downloading isort-5.12.0-py3-none-any.whl (91 kB)\n",
            "\u001b[2K     \u001b[90m━━━━━━━━━━━━━━━━━━━━━━━━━━━━━━━━━━━━━━━━\u001b[0m \u001b[32m91.2/91.2 KB\u001b[0m \u001b[31m11.6 MB/s\u001b[0m eta \u001b[36m0:00:00\u001b[0m\n",
            "\u001b[?25hCollecting black\n",
            "  Downloading black-23.1.0-cp39-cp39-manylinux_2_17_x86_64.manylinux2014_x86_64.whl (1.6 MB)\n",
            "\u001b[2K     \u001b[90m━━━━━━━━━━━━━━━━━━━━━━━━━━━━━━━━━━━━━━━━\u001b[0m \u001b[32m1.6/1.6 MB\u001b[0m \u001b[31m63.4 MB/s\u001b[0m eta \u001b[36m0:00:00\u001b[0m\n",
            "\u001b[?25hCollecting interrogate\n",
            "  Downloading interrogate-1.5.0-py3-none-any.whl (45 kB)\n",
            "\u001b[2K     \u001b[90m━━━━━━━━━━━━━━━━━━━━━━━━━━━━━━━━━━━━━━━━\u001b[0m \u001b[32m45.3/45.3 KB\u001b[0m \u001b[31m6.0 MB/s\u001b[0m eta \u001b[36m0:00:00\u001b[0m\n",
            "\u001b[?25hCollecting pytest-xdist\n",
            "  Downloading pytest_xdist-3.2.1-py3-none-any.whl (41 kB)\n",
            "\u001b[2K     \u001b[90m━━━━━━━━━━━━━━━━━━━━━━━━━━━━━━━━━━━━━━━━\u001b[0m \u001b[32m41.0/41.0 KB\u001b[0m \u001b[31m5.7 MB/s\u001b[0m eta \u001b[36m0:00:00\u001b[0m\n",
            "\u001b[?25hRequirement already satisfied: pytest in /usr/local/lib/python3.9/dist-packages (from graphein[extras]) (3.6.4)\n",
            "Collecting nbstripout\n",
            "  Downloading nbstripout-0.6.1-py2.py3-none-any.whl (15 kB)\n",
            "Collecting pytest-cov\n",
            "  Downloading pytest_cov-4.0.0-py3-none-any.whl (21 kB)\n",
            "Collecting pre-commit\n",
            "  Downloading pre_commit-3.1.1-py2.py3-none-any.whl (202 kB)\n",
            "\u001b[2K     \u001b[90m━━━━━━━━━━━━━━━━━━━━━━━━━━━━━━━━━━━━━━\u001b[0m \u001b[32m202.3/202.3 KB\u001b[0m \u001b[31m22.9 MB/s\u001b[0m eta \u001b[36m0:00:00\u001b[0m\n",
            "\u001b[?25hCollecting flake8\n",
            "  Downloading flake8-6.0.0-py2.py3-none-any.whl (57 kB)\n",
            "\u001b[2K     \u001b[90m━━━━━━━━━━━━━━━━━━━━━━━━━━━━━━━━━━━━━━━━\u001b[0m \u001b[32m57.8/57.8 KB\u001b[0m \u001b[31m7.3 MB/s\u001b[0m eta \u001b[36m0:00:00\u001b[0m\n",
            "\u001b[?25hRequirement already satisfied: setuptools in /usr/local/lib/python3.9/dist-packages (from biopandas>=0.4.1->graphein[extras]) (57.4.0)\n",
            "Requirement already satisfied: lxml in /usr/local/lib/python3.9/dist-packages (from bioservices>=1.10.0->graphein[extras]) (4.9.2)\n",
            "Requirement already satisfied: requests in /usr/local/lib/python3.9/dist-packages (from bioservices>=1.10.0->graphein[extras]) (2.25.1)\n",
            "Requirement already satisfied: xmltodict in /usr/local/lib/python3.9/dist-packages (from bioservices>=1.10.0->graphein[extras]) (0.13.0)\n",
            "Requirement already satisfied: appdirs in /usr/local/lib/python3.9/dist-packages (from bioservices>=1.10.0->graphein[extras]) (1.4.4)\n",
            "Requirement already satisfied: beautifulsoup4 in /usr/local/lib/python3.9/dist-packages (from bioservices>=1.10.0->graphein[extras]) (4.6.3)\n",
            "Requirement already satisfied: grequests in /usr/local/lib/python3.9/dist-packages (from bioservices>=1.10.0->graphein[extras]) (0.6.0)\n",
            "Requirement already satisfied: easydev>=0.12.0 in /usr/local/lib/python3.9/dist-packages (from bioservices>=1.10.0->graphein[extras]) (0.12.1)\n",
            "Requirement already satisfied: wrapt in /usr/local/lib/python3.9/dist-packages (from bioservices>=1.10.0->graphein[extras]) (1.15.0)\n",
            "Requirement already satisfied: suds-community>=0.7 in /usr/local/lib/python3.9/dist-packages (from bioservices>=1.10.0->graphein[extras]) (1.1.2)\n",
            "Requirement already satisfied: requests-cache in /usr/local/lib/python3.9/dist-packages (from bioservices>=1.10.0->graphein[extras]) (1.0.0)\n",
            "Requirement already satisfied: colorlog in /usr/local/lib/python3.9/dist-packages (from bioservices>=1.10.0->graphein[extras]) (6.7.0)\n",
            "Requirement already satisfied: python-dateutil>=2.7 in /usr/local/lib/python3.9/dist-packages (from matplotlib>=3.4.3->graphein[extras]) (2.8.2)\n",
            "Requirement already satisfied: cycler>=0.10 in /usr/local/lib/python3.9/dist-packages (from matplotlib>=3.4.3->graphein[extras]) (0.11.0)\n",
            "Requirement already satisfied: pillow>=6.2.0 in /usr/local/lib/python3.9/dist-packages (from matplotlib>=3.4.3->graphein[extras]) (8.4.0)\n",
            "Requirement already satisfied: kiwisolver>=1.0.1 in /usr/local/lib/python3.9/dist-packages (from matplotlib>=3.4.3->graphein[extras]) (1.4.4)\n",
            "Requirement already satisfied: packaging>=20.0 in /usr/local/lib/python3.9/dist-packages (from matplotlib>=3.4.3->graphein[extras]) (23.0)\n",
            "Requirement already satisfied: pyparsing>=2.2.1 in /usr/local/lib/python3.9/dist-packages (from matplotlib>=3.4.3->graphein[extras]) (3.0.9)\n",
            "Requirement already satisfied: fonttools>=4.22.0 in /usr/local/lib/python3.9/dist-packages (from matplotlib>=3.4.3->graphein[extras]) (4.39.0)\n",
            "Requirement already satisfied: pytz>=2017.3 in /usr/local/lib/python3.9/dist-packages (from pandas->graphein[extras]) (2022.7.1)\n",
            "Requirement already satisfied: tomli>=1.1.0 in /usr/local/lib/python3.9/dist-packages (from black->graphein[extras]) (2.0.1)\n",
            "Collecting pathspec>=0.9.0\n",
            "  Downloading pathspec-0.11.0-py3-none-any.whl (29 kB)\n",
            "Requirement already satisfied: platformdirs>=2 in /usr/local/lib/python3.9/dist-packages (from black->graphein[extras]) (3.1.0)\n",
            "Requirement already satisfied: click>=8.0.0 in /usr/local/lib/python3.9/dist-packages (from black->graphein[extras]) (8.1.3)\n",
            "Collecting mypy-extensions>=0.4.3\n",
            "  Downloading mypy_extensions-1.0.0-py3-none-any.whl (4.7 kB)\n",
            "Requirement already satisfied: ordered-set<4.2.0,>=4.0.2 in /usr/local/lib/python3.9/dist-packages (from deepdiff->graphein[extras]) (4.1.0)\n",
            "Requirement already satisfied: orjson in /usr/local/lib/python3.9/dist-packages (from deepdiff->graphein[extras]) (3.8.7)\n",
            "Collecting pyflakes<3.1.0,>=3.0.0\n",
            "  Downloading pyflakes-3.0.1-py2.py3-none-any.whl (62 kB)\n",
            "\u001b[2K     \u001b[90m━━━━━━━━━━━━━━━━━━━━━━━━━━━━━━━━━━━━━━━━\u001b[0m \u001b[32m62.8/62.8 KB\u001b[0m \u001b[31m8.2 MB/s\u001b[0m eta \u001b[36m0:00:00\u001b[0m\n",
            "\u001b[?25hCollecting mccabe<0.8.0,>=0.7.0\n",
            "  Downloading mccabe-0.7.0-py2.py3-none-any.whl (7.3 kB)\n",
            "Requirement already satisfied: exceptiongroup>=1.0.0 in /usr/local/lib/python3.9/dist-packages (from hypothesis->graphein[extras]) (1.1.1)\n",
            "Requirement already satisfied: sortedcontainers<3.0.0,>=2.1.0 in /usr/local/lib/python3.9/dist-packages (from hypothesis->graphein[extras]) (2.4.0)\n",
            "Requirement already satisfied: attrs>=19.2.0 in /usr/local/lib/python3.9/dist-packages (from hypothesis->graphein[extras]) (22.2.0)\n",
            "Requirement already satisfied: colorama in /usr/local/lib/python3.9/dist-packages (from interrogate->graphein[extras]) (0.4.6)\n",
            "Requirement already satisfied: toml in /usr/local/lib/python3.9/dist-packages (from interrogate->graphein[extras]) (0.10.2)\n",
            "Requirement already satisfied: tabulate in /usr/local/lib/python3.9/dist-packages (from interrogate->graphein[extras]) (0.8.10)\n",
            "Requirement already satisfied: py in /usr/local/lib/python3.9/dist-packages (from interrogate->graphein[extras]) (1.11.0)\n",
            "Requirement already satisfied: six in /usr/local/lib/python3.9/dist-packages (from multipledispatch->graphein[extras]) (1.15.0)\n",
            "Requirement already satisfied: nbformat in /usr/local/lib/python3.9/dist-packages (from nbstripout->graphein[extras]) (5.7.3)\n",
            "Collecting coverage\n",
            "  Downloading coverage-7.2.1-cp39-cp39-manylinux_2_5_x86_64.manylinux1_x86_64.manylinux_2_17_x86_64.manylinux2014_x86_64.whl (226 kB)\n",
            "\u001b[2K     \u001b[90m━━━━━━━━━━━━━━━━━━━━━━━━━━━━━━━━━━━━━━\u001b[0m \u001b[32m226.9/226.9 KB\u001b[0m \u001b[31m27.6 MB/s\u001b[0m eta \u001b[36m0:00:00\u001b[0m\n",
            "\u001b[?25hRequirement already satisfied: jupyter-client in /usr/local/lib/python3.9/dist-packages (from nbval->graphein[extras]) (6.1.12)\n",
            "Requirement already satisfied: ipykernel in /usr/local/lib/python3.9/dist-packages (from nbval->graphein[extras]) (5.3.4)\n",
            "Requirement already satisfied: pluggy<0.8,>=0.5 in /usr/local/lib/python3.9/dist-packages (from pytest->graphein[extras]) (0.7.1)\n",
            "Requirement already satisfied: atomicwrites>=1.0 in /usr/local/lib/python3.9/dist-packages (from pytest->graphein[extras]) (1.4.1)\n",
            "Requirement already satisfied: more-itertools>=4.0.0 in /usr/local/lib/python3.9/dist-packages (from pytest->graphein[extras]) (9.1.0)\n",
            "Collecting plumbum\n",
            "  Downloading plumbum-1.8.1-py3-none-any.whl (126 kB)\n",
            "\u001b[2K     \u001b[90m━━━━━━━━━━━━━━━━━━━━━━━━━━━━━━━━━━━━━━\u001b[0m \u001b[32m126.7/126.7 KB\u001b[0m \u001b[31m19.3 MB/s\u001b[0m eta \u001b[36m0:00:00\u001b[0m\n",
            "\u001b[?25hCollecting ply\n",
            "  Downloading ply-3.11-py2.py3-none-any.whl (49 kB)\n",
            "\u001b[2K     \u001b[90m━━━━━━━━━━━━━━━━━━━━━━━━━━━━━━━━━━━━━━━━\u001b[0m \u001b[32m49.6/49.6 KB\u001b[0m \u001b[31m7.2 MB/s\u001b[0m eta \u001b[36m0:00:00\u001b[0m\n",
            "\u001b[?25hRequirement already satisfied: tenacity>=6.2.0 in /usr/local/lib/python3.9/dist-packages (from plotly->graphein[extras]) (8.2.2)\n",
            "Collecting identify>=1.0.0\n",
            "  Downloading identify-2.5.20-py2.py3-none-any.whl (98 kB)\n",
            "\u001b[2K     \u001b[90m━━━━━━━━━━━━━━━━━━━━━━━━━━━━━━━━━━━━━━━━\u001b[0m \u001b[32m98.8/98.8 KB\u001b[0m \u001b[31m13.9 MB/s\u001b[0m eta \u001b[36m0:00:00\u001b[0m\n",
            "\u001b[?25hCollecting cfgv>=2.0.0\n",
            "  Downloading cfgv-3.3.1-py2.py3-none-any.whl (7.3 kB)\n",
            "Collecting virtualenv>=20.10.0\n",
            "  Downloading virtualenv-20.21.0-py3-none-any.whl (8.7 MB)\n",
            "\u001b[2K     \u001b[90m━━━━━━━━━━━━━━━━━━━━━━━━━━━━━━━━━━━━━━━━\u001b[0m \u001b[32m8.7/8.7 MB\u001b[0m \u001b[31m109.5 MB/s\u001b[0m eta \u001b[36m0:00:00\u001b[0m\n",
            "\u001b[?25hCollecting nodeenv>=0.11.1\n",
            "  Downloading nodeenv-1.7.0-py2.py3-none-any.whl (21 kB)\n",
            "Requirement already satisfied: snowballstemmer>=2.2.0 in /usr/local/lib/python3.9/dist-packages (from pydocstyle->graphein[extras]) (2.2.0)\n",
            "Collecting pytest\n",
            "  Downloading pytest-7.2.2-py3-none-any.whl (317 kB)\n",
            "\u001b[2K     \u001b[90m━━━━━━━━━━━━━━━━━━━━━━━━━━━━━━━━━━━━━━\u001b[0m \u001b[32m317.2/317.2 KB\u001b[0m \u001b[31m41.5 MB/s\u001b[0m eta \u001b[36m0:00:00\u001b[0m\n",
            "\u001b[?25hCollecting iniconfig\n",
            "  Downloading iniconfig-2.0.0-py3-none-any.whl (5.9 kB)\n",
            "Collecting pytest\n",
            "  Downloading pytest-7.2.1-py3-none-any.whl (317 kB)\n",
            "\u001b[2K     \u001b[90m━━━━━━━━━━━━━━━━━━━━━━━━━━━━━━━━━━━━━━\u001b[0m \u001b[32m317.1/317.1 KB\u001b[0m \u001b[31m42.5 MB/s\u001b[0m eta \u001b[36m0:00:00\u001b[0m\n",
            "\u001b[?25h  Downloading pytest-7.2.0-py3-none-any.whl (316 kB)\n",
            "\u001b[2K     \u001b[90m━━━━━━━━━━━━━━━━━━━━━━━━━━━━━━━━━━━━━━\u001b[0m \u001b[32m316.8/316.8 KB\u001b[0m \u001b[31m41.8 MB/s\u001b[0m eta \u001b[36m0:00:00\u001b[0m\n",
            "\u001b[?25h  Downloading pytest-7.1.3-py3-none-any.whl (298 kB)\n",
            "\u001b[2K     \u001b[90m━━━━━━━━━━━━━━━━━━━━━━━━━━━━━━━━━━━━━━\u001b[0m \u001b[32m298.2/298.2 KB\u001b[0m \u001b[31m35.4 MB/s\u001b[0m eta \u001b[36m0:00:00\u001b[0m\n",
            "\u001b[?25h  Downloading pytest-7.1.2-py3-none-any.whl (297 kB)\n",
            "\u001b[2K     \u001b[90m━━━━━━━━━━━━━━━━━━━━━━━━━━━━━━━━━━━━━━\u001b[0m \u001b[32m297.0/297.0 KB\u001b[0m \u001b[31m38.5 MB/s\u001b[0m eta \u001b[36m0:00:00\u001b[0m\n",
            "\u001b[?25h  Downloading pytest-7.1.1-py3-none-any.whl (297 kB)\n",
            "\u001b[2K     \u001b[90m━━━━━━━━━━━━━━━━━━━━━━━━━━━━━━━━━━━━━━\u001b[0m \u001b[32m297.0/297.0 KB\u001b[0m \u001b[31m38.8 MB/s\u001b[0m eta \u001b[36m0:00:00\u001b[0m\n",
            "\u001b[?25h  Downloading pytest-7.1.0-py3-none-any.whl (297 kB)\n",
            "\u001b[2K     \u001b[90m━━━━━━━━━━━━━━━━━━━━━━━━━━━━━━━━━━━━━━\u001b[0m \u001b[32m297.0/297.0 KB\u001b[0m \u001b[31m25.7 MB/s\u001b[0m eta \u001b[36m0:00:00\u001b[0m\n",
            "\u001b[?25h  Downloading pytest-7.0.1-py3-none-any.whl (296 kB)\n",
            "\u001b[2K     \u001b[90m━━━━━━━━━━━━━━━━━━━━━━━━━━━━━━━━━━━━━━\u001b[0m \u001b[32m297.0/297.0 KB\u001b[0m \u001b[31m36.4 MB/s\u001b[0m eta \u001b[36m0:00:00\u001b[0m\n",
            "\u001b[?25h  Downloading pytest-7.0.0-py3-none-any.whl (296 kB)\n",
            "\u001b[2K     \u001b[90m━━━━━━━━━━━━━━━━━━━━━━━━━━━━━━━━━━━━━━\u001b[0m \u001b[32m296.5/296.5 KB\u001b[0m \u001b[31m35.1 MB/s\u001b[0m eta \u001b[36m0:00:00\u001b[0m\n",
            "\u001b[?25h  Downloading pytest-6.2.5-py3-none-any.whl (280 kB)\n",
            "\u001b[2K     \u001b[90m━━━━━━━━━━━━━━━━━━━━━━━━━━━━━━━━━━━━━━\u001b[0m \u001b[32m280.7/280.7 KB\u001b[0m \u001b[31m33.0 MB/s\u001b[0m eta \u001b[36m0:00:00\u001b[0m\n",
            "\u001b[?25h  Downloading pytest-6.2.4-py3-none-any.whl (280 kB)\n",
            "\u001b[2K     \u001b[90m━━━━━━━━━━━━━━━━━━━━━━━━━━━━━━━━━━━━━━\u001b[0m \u001b[32m280.6/280.6 KB\u001b[0m \u001b[31m32.8 MB/s\u001b[0m eta \u001b[36m0:00:00\u001b[0m\n",
            "\u001b[?25h  Downloading pytest-6.2.3-py3-none-any.whl (280 kB)\n",
            "\u001b[2K     \u001b[90m━━━━━━━━━━━━━━━━━━━━━━━━━━━━━━━━━━━━━━\u001b[0m \u001b[32m280.5/280.5 KB\u001b[0m \u001b[31m39.2 MB/s\u001b[0m eta \u001b[36m0:00:00\u001b[0m\n",
            "\u001b[?25h  Downloading pytest-6.2.2-py3-none-any.whl (280 kB)\n",
            "\u001b[2K     \u001b[90m━━━━━━━━━━━━━━━━━━━━━━━━━━━━━━━━━━━━━━\u001b[0m \u001b[32m280.1/280.1 KB\u001b[0m \u001b[31m39.0 MB/s\u001b[0m eta \u001b[36m0:00:00\u001b[0m\n",
            "\u001b[?25h  Downloading pytest-6.2.1-py3-none-any.whl (279 kB)\n",
            "\u001b[2K     \u001b[90m━━━━━━━━━━━━━━━━━━━━━━━━━━━━━━━━━━━━━━\u001b[0m \u001b[32m279.9/279.9 KB\u001b[0m \u001b[31m34.2 MB/s\u001b[0m eta \u001b[36m0:00:00\u001b[0m\n",
            "\u001b[?25h  Downloading pytest-6.2.0-py3-none-any.whl (279 kB)\n",
            "\u001b[2K     \u001b[90m━━━━━━━━━━━━━━━━━━━━━━━━━━━━━━━━━━━━━━\u001b[0m \u001b[32m279.6/279.6 KB\u001b[0m \u001b[31m36.4 MB/s\u001b[0m eta \u001b[36m0:00:00\u001b[0m\n",
            "\u001b[?25h  Downloading pytest-6.1.2-py3-none-any.whl (272 kB)\n",
            "\u001b[2K     \u001b[90m━━━━━━━━━━━━━━━━━━━━━━━━━━━━━━━━━━━━━━\u001b[0m \u001b[32m272.4/272.4 KB\u001b[0m \u001b[31m37.0 MB/s\u001b[0m eta \u001b[36m0:00:00\u001b[0m\n",
            "\u001b[?25h  Downloading pytest-6.1.1-py3-none-any.whl (272 kB)\n",
            "\u001b[2K     \u001b[90m━━━━━━━━━━━━━━━━━━━━━━━━━━━━━━━━━━━━━━\u001b[0m \u001b[32m272.2/272.2 KB\u001b[0m \u001b[31m35.0 MB/s\u001b[0m eta \u001b[36m0:00:00\u001b[0m\n",
            "\u001b[?25h  Downloading pytest-6.1.0-py3-none-any.whl (272 kB)\n",
            "\u001b[2K     \u001b[90m━━━━━━━━━━━━━━━━━━━━━━━━━━━━━━━━━━━━━━\u001b[0m \u001b[32m272.3/272.3 KB\u001b[0m \u001b[31m39.7 MB/s\u001b[0m eta \u001b[36m0:00:00\u001b[0m\n",
            "\u001b[?25h  Downloading pytest-6.0.2-py3-none-any.whl (270 kB)\n",
            "\u001b[2K     \u001b[90m━━━━━━━━━━━━━━━━━━━━━━━━━━━━━━━━━━━━━━\u001b[0m \u001b[32m270.8/270.8 KB\u001b[0m \u001b[31m36.3 MB/s\u001b[0m eta \u001b[36m0:00:00\u001b[0m\n",
            "\u001b[?25h  Downloading pytest-6.0.1-py3-none-any.whl (270 kB)\n",
            "\u001b[2K     \u001b[90m━━━━━━━━━━━━━━━━━━━━━━━━━━━━━━━━━━━━━━\u001b[0m \u001b[32m270.6/270.6 KB\u001b[0m \u001b[31m32.8 MB/s\u001b[0m eta \u001b[36m0:00:00\u001b[0m\n",
            "\u001b[?25h  Downloading pytest-6.0.0-py3-none-any.whl (270 kB)\n",
            "\u001b[2K     \u001b[90m━━━━━━━━━━━━━━━━━━━━━━━━━━━━━━━━━━━━━━\u001b[0m \u001b[32m270.6/270.6 KB\u001b[0m \u001b[31m33.2 MB/s\u001b[0m eta \u001b[36m0:00:00\u001b[0m\n",
            "\u001b[?25h  Downloading pytest-5.4.3-py3-none-any.whl (248 kB)\n",
            "\u001b[2K     \u001b[90m━━━━━━━━━━━━━━━━━━━━━━━━━━━━━━━━━━━━━━\u001b[0m \u001b[32m248.1/248.1 KB\u001b[0m \u001b[31m29.5 MB/s\u001b[0m eta \u001b[36m0:00:00\u001b[0m\n",
            "\u001b[?25hRequirement already satisfied: wcwidth in /usr/local/lib/python3.9/dist-packages (from pytest->graphein[extras]) (0.2.6)\n",
            "  Downloading pytest-5.4.2-py3-none-any.whl (247 kB)\n",
            "\u001b[2K     \u001b[90m━━━━━━━━━━━━━━━━━━━━━━━━━━━━━━━━━━━━━━\u001b[0m \u001b[32m247.4/247.4 KB\u001b[0m \u001b[31m32.8 MB/s\u001b[0m eta \u001b[36m0:00:00\u001b[0m\n",
            "\u001b[?25h  Downloading pytest-5.4.1-py3-none-any.whl (246 kB)\n",
            "\u001b[2K     \u001b[90m━━━━━━━━━━━━━━━━━━━━━━━━━━━━━━━━━━━━━━\u001b[0m \u001b[32m246.7/246.7 KB\u001b[0m \u001b[31m25.8 MB/s\u001b[0m eta \u001b[36m0:00:00\u001b[0m\n",
            "\u001b[?25h  Downloading pytest-5.4.0-py3-none-any.whl (247 kB)\n",
            "\u001b[2K     \u001b[90m━━━━━━━━━━━━━━━━━━━━━━━━━━━━━━━━━━━━━━\u001b[0m \u001b[32m247.0/247.0 KB\u001b[0m \u001b[31m33.9 MB/s\u001b[0m eta \u001b[36m0:00:00\u001b[0m\n",
            "\u001b[?25h  Downloading pytest-5.3.5-py3-none-any.whl (235 kB)\n",
            "\u001b[2K     \u001b[90m━━━━━━━━━━━━━━━━━━━━━━━━━━━━━━━━━━━━━━\u001b[0m \u001b[32m235.2/235.2 KB\u001b[0m \u001b[31m26.3 MB/s\u001b[0m eta \u001b[36m0:00:00\u001b[0m\n",
            "\u001b[?25h  Downloading pytest-5.3.4-py3-none-any.whl (235 kB)\n",
            "\u001b[2K     \u001b[90m━━━━━━━━━━━━━━━━━━━━━━━━━━━━━━━━━━━━━━\u001b[0m \u001b[32m235.3/235.3 KB\u001b[0m \u001b[31m32.3 MB/s\u001b[0m eta \u001b[36m0:00:00\u001b[0m\n",
            "\u001b[?25h  Downloading pytest-5.3.3-py3-none-any.whl (235 kB)\n",
            "\u001b[2K     \u001b[90m━━━━━━━━━━━━━━━━━━━━━━━━━━━━━━━━━━━━━━\u001b[0m \u001b[32m235.5/235.5 KB\u001b[0m \u001b[31m29.5 MB/s\u001b[0m eta \u001b[36m0:00:00\u001b[0m\n",
            "\u001b[?25h  Downloading pytest-5.3.2-py3-none-any.whl (234 kB)\n",
            "\u001b[2K     \u001b[90m━━━━━━━━━━━━━━━━━━━━━━━━━━━━━━━━━━━━━━\u001b[0m \u001b[32m234.5/234.5 KB\u001b[0m \u001b[31m33.1 MB/s\u001b[0m eta \u001b[36m0:00:00\u001b[0m\n",
            "\u001b[?25h  Downloading pytest-5.3.1-py3-none-any.whl (233 kB)\n",
            "\u001b[2K     \u001b[90m━━━━━━━━━━━━━━━━━━━━━━━━━━━━━━━━━━━━━━\u001b[0m \u001b[32m233.9/233.9 KB\u001b[0m \u001b[31m32.2 MB/s\u001b[0m eta \u001b[36m0:00:00\u001b[0m\n",
            "\u001b[?25h  Downloading pytest-5.3.0-py3-none-any.whl (233 kB)\n",
            "\u001b[2K     \u001b[90m━━━━━━━━━━━━━━━━━━━━━━━━━━━━━━━━━━━━━━\u001b[0m \u001b[32m233.7/233.7 KB\u001b[0m \u001b[31m34.4 MB/s\u001b[0m eta \u001b[36m0:00:00\u001b[0m\n",
            "\u001b[?25h  Downloading pytest-5.2.4-py3-none-any.whl (227 kB)\n",
            "\u001b[2K     \u001b[90m━━━━━━━━━━━━━━━━━━━━━━━━━━━━━━━━━━━━━━\u001b[0m \u001b[32m227.4/227.4 KB\u001b[0m \u001b[31m31.0 MB/s\u001b[0m eta \u001b[36m0:00:00\u001b[0m\n",
            "\u001b[?25h  Downloading pytest-5.2.3-py3-none-any.whl (227 kB)\n",
            "\u001b[2K     \u001b[90m━━━━━━━━━━━━━━━━━━━━━━━━━━━━━━━━━━━━━━\u001b[0m \u001b[32m227.4/227.4 KB\u001b[0m \u001b[31m31.8 MB/s\u001b[0m eta \u001b[36m0:00:00\u001b[0m\n",
            "\u001b[?25h  Downloading pytest-5.2.2-py3-none-any.whl (227 kB)\n",
            "\u001b[2K     \u001b[90m━━━━━━━━━━━━━━━━━━━━━━━━━━━━━━━━━━━━━━\u001b[0m \u001b[32m227.3/227.3 KB\u001b[0m \u001b[31m31.1 MB/s\u001b[0m eta \u001b[36m0:00:00\u001b[0m\n",
            "\u001b[?25h  Downloading pytest-5.2.1-py3-none-any.whl (226 kB)\n",
            "\u001b[2K     \u001b[90m━━━━━━━━━━━━━━━━━━━━━━━━━━━━━━━━━━━━━━\u001b[0m \u001b[32m226.8/226.8 KB\u001b[0m \u001b[31m32.1 MB/s\u001b[0m eta \u001b[36m0:00:00\u001b[0m\n",
            "\u001b[?25h  Downloading pytest-5.2.0-py3-none-any.whl (226 kB)\n",
            "\u001b[2K     \u001b[90m━━━━━━━━━━━━━━━━━━━━━━━━━━━━━━━━━━━━━━\u001b[0m \u001b[32m226.7/226.7 KB\u001b[0m \u001b[31m30.3 MB/s\u001b[0m eta \u001b[36m0:00:00\u001b[0m\n",
            "\u001b[?25h  Downloading pytest-5.1.3-py3-none-any.whl (224 kB)\n",
            "\u001b[2K     \u001b[90m━━━━━━━━━━━━━━━━━━━━━━━━━━━━━━━━━━━━━━\u001b[0m \u001b[32m224.1/224.1 KB\u001b[0m \u001b[31m32.4 MB/s\u001b[0m eta \u001b[36m0:00:00\u001b[0m\n",
            "\u001b[?25h  Downloading pytest-5.1.2-py3-none-any.whl (224 kB)\n",
            "\u001b[2K     \u001b[90m━━━━━━━━━━━━━━━━━━━━━━━━━━━━━━━━━━━━━━\u001b[0m \u001b[32m224.2/224.2 KB\u001b[0m \u001b[31m32.4 MB/s\u001b[0m eta \u001b[36m0:00:00\u001b[0m\n",
            "\u001b[?25h  Downloading pytest-5.1.1-py3-none-any.whl (223 kB)\n",
            "\u001b[2K     \u001b[90m━━━━━━━━━━━━━━━━━━━━━━━━━━━━━━━━━━━━━━\u001b[0m \u001b[32m223.6/223.6 KB\u001b[0m \u001b[31m26.5 MB/s\u001b[0m eta \u001b[36m0:00:00\u001b[0m\n",
            "\u001b[?25h  Downloading pytest-5.1.0-py3-none-any.whl (223 kB)\n",
            "\u001b[2K     \u001b[90m━━━━━━━━━━━━━━━━━━━━━━━━━━━━━━━━━━━━━━\u001b[0m \u001b[32m223.6/223.6 KB\u001b[0m \u001b[31m32.4 MB/s\u001b[0m eta \u001b[36m0:00:00\u001b[0m\n",
            "\u001b[?25h  Downloading pytest-5.0.1-py3-none-any.whl (221 kB)\n",
            "\u001b[2K     \u001b[90m━━━━━━━━━━━━━━━━━━━━━━━━━━━━━━━━━━━━━━\u001b[0m \u001b[32m221.8/221.8 KB\u001b[0m \u001b[31m33.2 MB/s\u001b[0m eta \u001b[36m0:00:00\u001b[0m\n",
            "\u001b[?25hRequirement already satisfied: importlib-metadata>=0.12 in /usr/local/lib/python3.9/dist-packages (from pytest->graphein[extras]) (6.0.0)\n",
            "  Downloading pytest-5.0.0-py3-none-any.whl (221 kB)\n",
            "\u001b[2K     \u001b[90m━━━━━━━━━━━━━━━━━━━━━━━━━━━━━━━━━━━━━━\u001b[0m \u001b[32m221.8/221.8 KB\u001b[0m \u001b[31m32.9 MB/s\u001b[0m eta \u001b[36m0:00:00\u001b[0m\n",
            "\u001b[?25h  Downloading pytest-4.6.11-py2.py3-none-any.whl (231 kB)\n",
            "\u001b[2K     \u001b[90m━━━━━━━━━━━━━━━━━━━━━━━━━━━━━━━━━━━━━━\u001b[0m \u001b[32m231.6/231.6 KB\u001b[0m \u001b[31m32.2 MB/s\u001b[0m eta \u001b[36m0:00:00\u001b[0m\n",
            "\u001b[?25h  Downloading pytest-4.6.10-py2.py3-none-any.whl (231 kB)\n",
            "\u001b[2K     \u001b[90m━━━━━━━━━━━━━━━━━━━━━━━━━━━━━━━━━━━━━━\u001b[0m \u001b[32m231.6/231.6 KB\u001b[0m \u001b[31m29.1 MB/s\u001b[0m eta \u001b[36m0:00:00\u001b[0m\n",
            "\u001b[?25h  Downloading pytest-4.6.9-py2.py3-none-any.whl (231 kB)\n",
            "\u001b[2K     \u001b[90m━━━━━━━━━━━━━━━━━━━━━━━━━━━━━━━━━━━━━━\u001b[0m \u001b[32m231.1/231.1 KB\u001b[0m \u001b[31m32.4 MB/s\u001b[0m eta \u001b[36m0:00:00\u001b[0m\n",
            "\u001b[?25h  Downloading pytest-4.6.8-py2.py3-none-any.whl (230 kB)\n",
            "\u001b[2K     \u001b[90m━━━━━━━━━━━━━━━━━━━━━━━━━━━━━━━━━━━━━━\u001b[0m \u001b[32m230.5/230.5 KB\u001b[0m \u001b[31m32.5 MB/s\u001b[0m eta \u001b[36m0:00:00\u001b[0m\n",
            "\u001b[?25h  Downloading pytest-4.6.7-py2.py3-none-any.whl (230 kB)\n",
            "\u001b[2K     \u001b[90m━━━━━━━━━━━━━━━━━━━━━━━━━━━━━━━━━━━━━━\u001b[0m \u001b[32m230.4/230.4 KB\u001b[0m \u001b[31m33.1 MB/s\u001b[0m eta \u001b[36m0:00:00\u001b[0m\n",
            "\u001b[?25h  Downloading pytest-4.6.6-py2.py3-none-any.whl (230 kB)\n",
            "\u001b[2K     \u001b[90m━━━━━━━━━━━━━━━━━━━━━━━━━━━━━━━━━━━━━━\u001b[0m \u001b[32m230.2/230.2 KB\u001b[0m \u001b[31m33.6 MB/s\u001b[0m eta \u001b[36m0:00:00\u001b[0m\n",
            "\u001b[?25h  Downloading pytest-4.6.5-py2.py3-none-any.whl (230 kB)\n",
            "\u001b[2K     \u001b[90m━━━━━━━━━━━━━━━━━━━━━━━━━━━━━━━━━━━━━━\u001b[0m \u001b[32m230.1/230.1 KB\u001b[0m \u001b[31m33.3 MB/s\u001b[0m eta \u001b[36m0:00:00\u001b[0m\n",
            "\u001b[?25h  Downloading pytest-4.6.4-py2.py3-none-any.whl (229 kB)\n",
            "\u001b[2K     \u001b[90m━━━━━━━━━━━━━━━━━━━━━━━━━━━━━━━━━━━━━━\u001b[0m \u001b[32m229.6/229.6 KB\u001b[0m \u001b[31m31.7 MB/s\u001b[0m eta \u001b[36m0:00:00\u001b[0m\n",
            "\u001b[?25h  Downloading pytest-4.6.3-py2.py3-none-any.whl (229 kB)\n",
            "\u001b[2K     \u001b[90m━━━━━━━━━━━━━━━━━━━━━━━━━━━━━━━━━━━━━━\u001b[0m \u001b[32m229.6/229.6 KB\u001b[0m \u001b[31m33.4 MB/s\u001b[0m eta \u001b[36m0:00:00\u001b[0m\n",
            "\u001b[?25h  Downloading pytest-4.6.2-py2.py3-none-any.whl (229 kB)\n",
            "\u001b[2K     \u001b[90m━━━━━━━━━━━━━━━━━━━━━━━━━━━━━━━━━━━━━━\u001b[0m \u001b[32m229.5/229.5 KB\u001b[0m \u001b[31m32.2 MB/s\u001b[0m eta \u001b[36m0:00:00\u001b[0m\n",
            "\u001b[?25h  Downloading pytest-4.6.1-py2.py3-none-any.whl (229 kB)\n",
            "\u001b[2K     \u001b[90m━━━━━━━━━━━━━━━━━━━━━━━━━━━━━━━━━━━━━━\u001b[0m \u001b[32m229.9/229.9 KB\u001b[0m \u001b[31m32.1 MB/s\u001b[0m eta \u001b[36m0:00:00\u001b[0m\n",
            "\u001b[?25h  Downloading pytest-4.6.0-py2.py3-none-any.whl (229 kB)\n",
            "\u001b[2K     \u001b[90m━━━━━━━━━━━━━━━━━━━━━━━━━━━━━━━━━━━━━━\u001b[0m \u001b[32m229.8/229.8 KB\u001b[0m \u001b[31m31.8 MB/s\u001b[0m eta \u001b[36m0:00:00\u001b[0m\n",
            "\u001b[?25hINFO: pip is looking at multiple versions of pytest-cov to determine which version is compatible with other requirements. This could take a while.\n",
            "Collecting pytest-cov\n",
            "  Downloading pytest_cov-3.0.0-py3-none-any.whl (20 kB)\n",
            "  Downloading pytest_cov-2.12.1-py2.py3-none-any.whl (20 kB)\n",
            "  Downloading pytest_cov-2.12.0-py2.py3-none-any.whl (20 kB)\n",
            "  Downloading pytest_cov-2.11.1-py2.py3-none-any.whl (20 kB)\n",
            "  Downloading pytest_cov-2.11.0-py2.py3-none-any.whl (20 kB)\n",
            "  Downloading pytest_cov-2.10.1-py2.py3-none-any.whl (19 kB)\n",
            "  Downloading pytest_cov-2.10.0-py2.py3-none-any.whl (19 kB)\n",
            "INFO: pip is looking at multiple versions of pytest-cov to determine which version is compatible with other requirements. This could take a while.\n",
            "  Downloading pytest_cov-2.9.0-py2.py3-none-any.whl (19 kB)\n",
            "Collecting execnet>=1.1\n",
            "  Downloading execnet-1.9.0-py2.py3-none-any.whl (39 kB)\n",
            "INFO: pip is looking at multiple versions of pytest-xdist to determine which version is compatible with other requirements. This could take a while.\n",
            "Collecting pytest-xdist\n",
            "  Downloading pytest_xdist-3.2.0-py3-none-any.whl (40 kB)\n",
            "\u001b[2K     \u001b[90m━━━━━━━━━━━━━━━━━━━━━━━━━━━━━━━━━━━━━━━━\u001b[0m \u001b[32m40.9/40.9 KB\u001b[0m \u001b[31m6.5 MB/s\u001b[0m eta \u001b[36m0:00:00\u001b[0m\n",
            "\u001b[?25h  Downloading pytest_xdist-3.1.0-py3-none-any.whl (36 kB)\n",
            "  Downloading pytest_xdist-3.0.2-py3-none-any.whl (36 kB)\n",
            "  Downloading pytest_xdist-2.5.0-py3-none-any.whl (41 kB)\n",
            "\u001b[2K     \u001b[90m━━━━━━━━━━━━━━━━━━━━━━━━━━━━━━━━━━━━━━━━\u001b[0m \u001b[32m41.7/41.7 KB\u001b[0m \u001b[31m6.4 MB/s\u001b[0m eta \u001b[36m0:00:00\u001b[0m\n",
            "\u001b[?25hCollecting pytest-forked\n",
            "  Downloading pytest_forked-1.6.0-py3-none-any.whl (4.9 kB)\n",
            "Collecting pytest-xdist\n",
            "  Downloading pytest_xdist-2.4.0-py3-none-any.whl (38 kB)\n",
            "  Downloading pytest_xdist-2.3.0-py3-none-any.whl (37 kB)\n",
            "  Downloading pytest_xdist-2.2.1-py3-none-any.whl (37 kB)\n",
            "INFO: pip is looking at multiple versions of pytest-xdist to determine which version is compatible with other requirements. This could take a while.\n",
            "  Downloading pytest_xdist-2.2.0-py3-none-any.whl (36 kB)\n",
            "  Downloading pytest_xdist-2.1.0-py3-none-any.whl (36 kB)\n",
            "  Downloading pytest_xdist-2.0.0-py2.py3-none-any.whl (36 kB)\n",
            "Requirement already satisfied: psutil>=3.0.0 in /usr/local/lib/python3.9/dist-packages (from pytest-xdist->graphein[extras]) (5.9.4)\n",
            "  Downloading pytest_xdist-1.34.0-py2.py3-none-any.whl (36 kB)\n",
            "Collecting pytest\n",
            "  Downloading pytest-4.5.0-py2.py3-none-any.whl (227 kB)\n",
            "\u001b[2K     \u001b[90m━━━━━━━━━━━━━━━━━━━━━━━━━━━━━━━━━━━━━━\u001b[0m \u001b[32m227.5/227.5 KB\u001b[0m \u001b[31m32.3 MB/s\u001b[0m eta \u001b[36m0:00:00\u001b[0m\n",
            "\u001b[?25h  Downloading pytest-4.4.2-py2.py3-none-any.whl (224 kB)\n",
            "\u001b[2K     \u001b[90m━━━━━━━━━━━━━━━━━━━━━━━━━━━━━━━━━━━━━━\u001b[0m \u001b[32m224.0/224.0 KB\u001b[0m \u001b[31m34.3 MB/s\u001b[0m eta \u001b[36m0:00:00\u001b[0m\n",
            "\u001b[?25h  Downloading pytest-4.4.1-py2.py3-none-any.whl (223 kB)\n",
            "\u001b[2K     \u001b[90m━━━━━━━━━━━━━━━━━━━━━━━━━━━━━━━━━━━━━━\u001b[0m \u001b[32m223.9/223.9 KB\u001b[0m \u001b[31m31.6 MB/s\u001b[0m eta \u001b[36m0:00:00\u001b[0m\n",
            "\u001b[?25h  Downloading pytest-4.4.0-py2.py3-none-any.whl (223 kB)\n",
            "\u001b[2K     \u001b[90m━━━━━━━━━━━━━━━━━━━━━━━━━━━━━━━━━━━━━━\u001b[0m \u001b[32m223.6/223.6 KB\u001b[0m \u001b[31m24.7 MB/s\u001b[0m eta \u001b[36m0:00:00\u001b[0m\n",
            "\u001b[?25hCollecting pytest-xdist\n",
            "  Downloading pytest_xdist-1.33.0-py2.py3-none-any.whl (36 kB)\n",
            "INFO: This is taking longer than usual. You might need to provide the dependency resolver with stricter constraints to reduce runtime. See https://pip.pypa.io/warnings/backtracking for guidance. If you want to abort this run, press Ctrl + C.\n",
            "  Downloading pytest_xdist-1.32.0-py2.py3-none-any.whl (36 kB)\n",
            "  Downloading pytest_xdist-1.31.0-py2.py3-none-any.whl (36 kB)\n",
            "  Downloading pytest_xdist-1.30.0-py2.py3-none-any.whl (35 kB)\n",
            "  Downloading pytest_xdist-1.29.0-py2.py3-none-any.whl (35 kB)\n",
            "  Downloading pytest_xdist-1.28.0-py2.py3-none-any.whl (34 kB)\n",
            "  Downloading pytest_xdist-1.27.0-py2.py3-none-any.whl (35 kB)\n",
            "Requirement already satisfied: markdown-it-py<3.0.0,>=2.2.0 in /usr/local/lib/python3.9/dist-packages (from rich->graphein[extras]) (2.2.0)\n",
            "Requirement already satisfied: pygments<3.0.0,>=2.13.0 in /usr/local/lib/python3.9/dist-packages (from rich->graphein[extras]) (2.14.0)\n",
            "Requirement already satisfied: joblib>=1.1.1 in /usr/local/lib/python3.9/dist-packages (from scikit-learn->graphein[extras]) (1.2.0)\n",
            "Requirement already satisfied: threadpoolctl>=2.0.0 in /usr/local/lib/python3.9/dist-packages (from scikit-learn->graphein[extras]) (3.1.0)\n",
            "Requirement already satisfied: pexpect in /usr/local/lib/python3.9/dist-packages (from easydev>=0.12.0->bioservices>=1.10.0->graphein[extras]) (4.8.0)\n",
            "Requirement already satisfied: mdurl~=0.1 in /usr/local/lib/python3.9/dist-packages (from markdown-it-py<3.0.0,>=2.2.0->rich->graphein[extras]) (0.1.2)\n",
            "Requirement already satisfied: filelock<4,>=3.4.1 in /usr/local/lib/python3.9/dist-packages (from virtualenv>=20.10.0->pre-commit->graphein[extras]) (3.9.0)\n",
            "Collecting distlib<1,>=0.3.6\n",
            "  Downloading distlib-0.3.6-py2.py3-none-any.whl (468 kB)\n",
            "\u001b[2K     \u001b[90m━━━━━━━━━━━━━━━━━━━━━━━━━━━━━━━━━━━━━━\u001b[0m \u001b[32m468.5/468.5 KB\u001b[0m \u001b[31m45.2 MB/s\u001b[0m eta \u001b[36m0:00:00\u001b[0m\n",
            "\u001b[?25hRequirement already satisfied: gevent in /usr/local/lib/python3.9/dist-packages (from grequests->bioservices>=1.10.0->graphein[extras]) (22.10.2)\n",
            "Requirement already satisfied: traitlets>=4.1.0 in /usr/local/lib/python3.9/dist-packages (from ipykernel->nbval->graphein[extras]) (5.7.1)\n",
            "Requirement already satisfied: tornado>=4.2 in /usr/local/lib/python3.9/dist-packages (from ipykernel->nbval->graphein[extras]) (6.2)\n",
            "Requirement already satisfied: ipython>=5.0.0 in /usr/local/lib/python3.9/dist-packages (from ipykernel->nbval->graphein[extras]) (7.9.0)\n",
            "Requirement already satisfied: jupyter-core>=4.6.0 in /usr/local/lib/python3.9/dist-packages (from jupyter-client->nbval->graphein[extras]) (5.2.0)\n",
            "Requirement already satisfied: pyzmq>=13 in /usr/local/lib/python3.9/dist-packages (from jupyter-client->nbval->graphein[extras]) (23.2.1)\n",
            "Requirement already satisfied: fastjsonschema in /usr/local/lib/python3.9/dist-packages (from nbformat->nbstripout->graphein[extras]) (2.16.3)\n",
            "Requirement already satisfied: jsonschema>=2.6 in /usr/local/lib/python3.9/dist-packages (from nbformat->nbstripout->graphein[extras]) (4.3.3)\n",
            "Collecting pytest\n",
            "  Downloading pytest-4.3.1-py2.py3-none-any.whl (219 kB)\n",
            "\u001b[2K     \u001b[90m━━━━━━━━━━━━━━━━━━━━━━━━━━━━━━━━━━━━━━\u001b[0m \u001b[32m219.4/219.4 KB\u001b[0m \u001b[31m28.7 MB/s\u001b[0m eta \u001b[36m0:00:00\u001b[0m\n",
            "\u001b[?25hRequirement already satisfied: chardet<5,>=3.0.2 in /usr/local/lib/python3.9/dist-packages (from requests->bioservices>=1.10.0->graphein[extras]) (4.0.0)\n",
            "Requirement already satisfied: urllib3<1.27,>=1.21.1 in /usr/local/lib/python3.9/dist-packages (from requests->bioservices>=1.10.0->graphein[extras]) (1.26.14)\n",
            "Requirement already satisfied: idna<3,>=2.5 in /usr/local/lib/python3.9/dist-packages (from requests->bioservices>=1.10.0->graphein[extras]) (2.10)\n",
            "Requirement already satisfied: certifi>=2017.4.17 in /usr/local/lib/python3.9/dist-packages (from requests->bioservices>=1.10.0->graphein[extras]) (2022.12.7)\n",
            "Requirement already satisfied: cattrs>=22.2 in /usr/local/lib/python3.9/dist-packages (from requests-cache->bioservices>=1.10.0->graphein[extras]) (22.2.0)\n",
            "Requirement already satisfied: url-normalize>=1.4 in /usr/local/lib/python3.9/dist-packages (from requests-cache->bioservices>=1.10.0->graphein[extras]) (1.4.3)\n",
            "Requirement already satisfied: jedi>=0.10 in /usr/local/lib/python3.9/dist-packages (from ipython>=5.0.0->ipykernel->nbval->graphein[extras]) (0.18.2)\n",
            "Requirement already satisfied: decorator in /usr/local/lib/python3.9/dist-packages (from ipython>=5.0.0->ipykernel->nbval->graphein[extras]) (4.4.2)\n",
            "Requirement already satisfied: pickleshare in /usr/local/lib/python3.9/dist-packages (from ipython>=5.0.0->ipykernel->nbval->graphein[extras]) (0.7.5)\n",
            "Requirement already satisfied: prompt-toolkit<2.1.0,>=2.0.0 in /usr/local/lib/python3.9/dist-packages (from ipython>=5.0.0->ipykernel->nbval->graphein[extras]) (2.0.10)\n",
            "Requirement already satisfied: backcall in /usr/local/lib/python3.9/dist-packages (from ipython>=5.0.0->ipykernel->nbval->graphein[extras]) (0.2.0)\n",
            "Requirement already satisfied: pyrsistent!=0.17.0,!=0.17.1,!=0.17.2,>=0.14.0 in /usr/local/lib/python3.9/dist-packages (from jsonschema>=2.6->nbformat->nbstripout->graphein[extras]) (0.19.3)\n",
            "Requirement already satisfied: zope.event in /usr/local/lib/python3.9/dist-packages (from gevent->grequests->bioservices>=1.10.0->graphein[extras]) (4.6)\n",
            "Requirement already satisfied: zope.interface in /usr/local/lib/python3.9/dist-packages (from gevent->grequests->bioservices>=1.10.0->graphein[extras]) (5.5.2)\n",
            "Requirement already satisfied: greenlet>=2.0.0 in /usr/local/lib/python3.9/dist-packages (from gevent->grequests->bioservices>=1.10.0->graphein[extras]) (2.0.2)\n",
            "Requirement already satisfied: ptyprocess>=0.5 in /usr/local/lib/python3.9/dist-packages (from pexpect->easydev>=0.12.0->bioservices>=1.10.0->graphein[extras]) (0.7.0)\n",
            "Requirement already satisfied: parso<0.9.0,>=0.8.0 in /usr/local/lib/python3.9/dist-packages (from jedi>=0.10->ipython>=5.0.0->ipykernel->nbval->graphein[extras]) (0.8.3)\n",
            "Building wheels for collected packages: pandoc\n",
            "  Building wheel for pandoc (setup.py) ... \u001b[?25l\u001b[?25hdone\n",
            "  Created wheel for pandoc: filename=pandoc-2.3-py3-none-any.whl size=33284 sha256=efa47843accafcb713d3218b257a25d8ab8054c59609f5ac69ccd15aa522e99f\n",
            "  Stored in directory: /root/.cache/pip/wheels/69/e6/a1/1daa96d919c9e09a71473649b717b8da286f3f8d7719d1cfc5\n",
            "Successfully built pandoc\n",
            "Installing collected packages: ply, distlib, virtualenv, pytest, pyflakes, pydocstyle, pycodestyle, plumbum, pathspec, nodeenv, mypy-extensions, mccabe, isort, interrogate, identify, hypothesis, execnet, coverage, cfgv, pytest-forked, pytest-cov, pre-commit, pandoc, flake8, black, pytest-xdist, nbstripout, nbval\n",
            "  Attempting uninstall: pytest\n",
            "    Found existing installation: pytest 3.6.4\n",
            "    Uninstalling pytest-3.6.4:\n",
            "      Successfully uninstalled pytest-3.6.4\n",
            "Successfully installed black-23.1.0 cfgv-3.3.1 coverage-7.2.1 distlib-0.3.6 execnet-1.9.0 flake8-6.0.0 hypothesis-6.68.2 identify-2.5.20 interrogate-1.5.0 isort-5.12.0 mccabe-0.7.0 mypy-extensions-1.0.0 nbstripout-0.6.1 nbval-0.10.0 nodeenv-1.7.0 pandoc-2.3 pathspec-0.11.0 plumbum-1.8.1 ply-3.11 pre-commit-3.1.1 pycodestyle-2.10.0 pydocstyle-6.3.0 pyflakes-3.0.1 pytest-4.3.1 pytest-cov-2.9.0 pytest-forked-1.6.0 pytest-xdist-1.27.0 virtualenv-20.21.0\n"
          ]
        }
      ]
    },
    {
      "cell_type": "code",
      "source": [
        "!pip install rdkit"
      ],
      "metadata": {
        "colab": {
          "base_uri": "https://localhost:8080/"
        },
        "id": "7saF6sYQkG1u",
        "outputId": "9cd68bc4-1912-40e7-e2f9-8403c2aa6469"
      },
      "execution_count": 28,
      "outputs": [
        {
          "output_type": "stream",
          "name": "stdout",
          "text": [
            "Looking in indexes: https://pypi.org/simple, https://us-python.pkg.dev/colab-wheels/public/simple/\n",
            "Collecting rdkit\n",
            "  Downloading rdkit-2022.9.5-cp39-cp39-manylinux_2_17_x86_64.manylinux2014_x86_64.whl (29.4 MB)\n",
            "\u001b[2K     \u001b[90m━━━━━━━━━━━━━━━━━━━━━━━━━━━━━━━━━━━━━━━━\u001b[0m \u001b[32m29.4/29.4 MB\u001b[0m \u001b[31m53.7 MB/s\u001b[0m eta \u001b[36m0:00:00\u001b[0m\n",
            "\u001b[?25hRequirement already satisfied: Pillow in /usr/local/lib/python3.9/dist-packages (from rdkit) (8.4.0)\n",
            "Requirement already satisfied: numpy in /usr/local/lib/python3.9/dist-packages (from rdkit) (1.22.4)\n",
            "Installing collected packages: rdkit\n",
            "Successfully installed rdkit-2022.9.5\n"
          ]
        }
      ]
    },
    {
      "cell_type": "code",
      "source": [
        "import networkx as nx\n",
        "import logging\n",
        "from rich import inspect, print\n",
        "logging.getLogger(\"matplotlib\").setLevel(logging.WARNING)\n",
        "\n",
        "import graphein.molecule as gm"
      ],
      "metadata": {
        "colab": {
          "base_uri": "https://localhost:8080/"
        },
        "id": "b0ar37YQig3R",
        "outputId": "0ef347cb-3ecb-4e82-a6f9-c4f9a01430d0"
      },
      "execution_count": 29,
      "outputs": [
        {
          "output_type": "stream",
          "name": "stdout",
          "text": [
            "Creating directory /root/.config/bioservices \n"
          ]
        }
      ]
    },
    {
      "cell_type": "code",
      "source": [
        "config = gm.MoleculeGraphConfig()\n",
        "inspect(config)"
      ],
      "metadata": {
        "colab": {
          "base_uri": "https://localhost:8080/",
          "height": 545
        },
        "id": "Kzb2Mpx1kM6G",
        "outputId": "3a26e8c5-a4e1-46e8-a917-ebc51c3b5fbd"
      },
      "execution_count": 30,
      "outputs": [
        {
          "output_type": "display_data",
          "data": {
            "text/plain": [
              "\u001b[34m╭─\u001b[0m\u001b[34m────────────────\u001b[0m\u001b[34m \u001b[0m\u001b[1;34m<\u001b[0m\u001b[1;95mclass\u001b[0m\u001b[39m \u001b[0m\u001b[32m'graphein.molecule.config.MoleculeGraphConfig'\u001b[0m\u001b[1;34m>\u001b[0m\u001b[34m \u001b[0m\u001b[34m─────────────────\u001b[0m\u001b[34m─╮\u001b[0m\n",
              "\u001b[34m│\u001b[0m \u001b[36mConfig Object for Molecule Structure Graph Construction.\u001b[0m                                  \u001b[34m│\u001b[0m\n",
              "\u001b[34m│\u001b[0m                                                                                           \u001b[34m│\u001b[0m\n",
              "\u001b[34m│\u001b[0m \u001b[32m╭───────────────────────────────────────────────────────────────────────────────────────╮\u001b[0m \u001b[34m│\u001b[0m\n",
              "\u001b[34m│\u001b[0m \u001b[32m│\u001b[0m \u001b[1;35mMoleculeGraphConfig\u001b[0m\u001b[1m(\u001b[0m                                                                  \u001b[32m│\u001b[0m \u001b[34m│\u001b[0m\n",
              "\u001b[34m│\u001b[0m \u001b[32m│\u001b[0m \u001b[2;32m│   \u001b[0m\u001b[33mverbose\u001b[0m=\u001b[3;91mFalse\u001b[0m,                                                                    \u001b[32m│\u001b[0m \u001b[34m│\u001b[0m\n",
              "\u001b[34m│\u001b[0m \u001b[32m│\u001b[0m \u001b[2;32m│   \u001b[0m\u001b[33madd_hs\u001b[0m=\u001b[3;91mFalse\u001b[0m,                                                                     \u001b[32m│\u001b[0m \u001b[34m│\u001b[0m\n",
              "\u001b[34m│\u001b[0m \u001b[32m│\u001b[0m \u001b[2;32m│   \u001b[0m\u001b[33mgenerate_conformer\u001b[0m=\u001b[3;91mFalse\u001b[0m,                                                         \u001b[32m│\u001b[0m \u001b[34m│\u001b[0m\n",
              "\u001b[34m│\u001b[0m \u001b[32m│\u001b[0m \u001b[2;32m│   \u001b[0m\u001b[33medge_construction_functions\u001b[0m=\u001b[1m[\u001b[0m                                                     \u001b[32m│\u001b[0m \u001b[34m│\u001b[0m\n",
              "\u001b[34m│\u001b[0m \u001b[32m│\u001b[0m \u001b[2;32m│   │   \u001b[0m\u001b[1m<\u001b[0m\u001b[1;95mfunction\u001b[0m\u001b[39m add_fully_connected_edges at \u001b[0m\u001b[1;36m0x7f12ee28d670\u001b[0m\u001b[39m>,\u001b[0m                       \u001b[32m│\u001b[0m \u001b[34m│\u001b[0m\n",
              "\u001b[34m│\u001b[0m \u001b[32m│\u001b[0m \u001b[2;32m│   │   \u001b[0m\u001b[39m<function add_k_nn_edges at \u001b[0m\u001b[1;36m0x7f12ee28d700\u001b[0m\u001b[39m>,\u001b[0m                                  \u001b[32m│\u001b[0m \u001b[34m│\u001b[0m\n",
              "\u001b[34m│\u001b[0m \u001b[32m│\u001b[0m \u001b[2;32m│   │   \u001b[0m\u001b[39m<function add_distance_threshold at \u001b[0m\u001b[1;36m0x7f12ee28d5e0\u001b[0m\u001b[39m>,\u001b[0m                          \u001b[32m│\u001b[0m \u001b[34m│\u001b[0m\n",
              "\u001b[34m│\u001b[0m \u001b[32m│\u001b[0m \u001b[2;32m│   │   \u001b[0m\u001b[39m<function add_atom_bonds at \u001b[0m\u001b[1;36m0x7f12ee28d160\u001b[0m\u001b[39m>\u001b[0m                                   \u001b[32m│\u001b[0m \u001b[34m│\u001b[0m\n",
              "\u001b[34m│\u001b[0m \u001b[32m│\u001b[0m \u001b[2;32m│   \u001b[0m\u001b[1;39m]\u001b[0m\u001b[39m,\u001b[0m                                                                                \u001b[32m│\u001b[0m \u001b[34m│\u001b[0m\n",
              "\u001b[34m│\u001b[0m \u001b[32m│\u001b[0m \u001b[2;32m│   \u001b[0m\u001b[33mnode_metadata_functions\u001b[0m\u001b[39m=\u001b[0m\u001b[1;39m[\u001b[0m\u001b[39m<function atom_type_one_hot at \u001b[0m\u001b[1;36m0x7f12ecf3b670\u001b[0m\u001b[1m>\u001b[0m\u001b[1m]\u001b[0m,         \u001b[32m│\u001b[0m \u001b[34m│\u001b[0m\n",
              "\u001b[34m│\u001b[0m \u001b[32m│\u001b[0m \u001b[2;32m│   \u001b[0m\u001b[33medge_metadata_functions\u001b[0m=\u001b[3;35mNone\u001b[0m,                                                     \u001b[32m│\u001b[0m \u001b[34m│\u001b[0m\n",
              "\u001b[34m│\u001b[0m \u001b[32m│\u001b[0m \u001b[2;32m│   \u001b[0m\u001b[33mgraph_metadata_functions\u001b[0m=\u001b[3;35mNone\u001b[0m                                                     \u001b[32m│\u001b[0m \u001b[34m│\u001b[0m\n",
              "\u001b[34m│\u001b[0m \u001b[32m│\u001b[0m \u001b[1m)\u001b[0m                                                                                     \u001b[32m│\u001b[0m \u001b[34m│\u001b[0m\n",
              "\u001b[34m│\u001b[0m \u001b[32m╰───────────────────────────────────────────────────────────────────────────────────────╯\u001b[0m \u001b[34m│\u001b[0m\n",
              "\u001b[34m│\u001b[0m                                                                                           \u001b[34m│\u001b[0m\n",
              "\u001b[34m│\u001b[0m                      \u001b[3;33madd_hs\u001b[0m = \u001b[3;91mFalse\u001b[0m                                                       \u001b[34m│\u001b[0m\n",
              "\u001b[34m│\u001b[0m \u001b[3;33medge_construction_functions\u001b[0m = \u001b[1m[\u001b[0m                                                           \u001b[34m│\u001b[0m\n",
              "\u001b[34m│\u001b[0m                                   \u001b[1m<\u001b[0m\u001b[1;95mfunction\u001b[0m\u001b[39m add_fully_connected_edges at \u001b[0m\u001b[1;36m0x7f12ee28d670\u001b[0m\u001b[39m>,\u001b[0m \u001b[34m│\u001b[0m\n",
              "\u001b[34m│\u001b[0m                               \u001b[39m    <function add_k_nn_edges at \u001b[0m\u001b[1;36m0x7f12ee28d700\u001b[0m\u001b[39m>,\u001b[0m            \u001b[34m│\u001b[0m\n",
              "\u001b[34m│\u001b[0m                               \u001b[39m    <function add_distance_threshold at \u001b[0m\u001b[1;36m0x7f12ee28d5e0\u001b[0m\u001b[39m>,\u001b[0m    \u001b[34m│\u001b[0m\n",
              "\u001b[34m│\u001b[0m                               \u001b[39m    <function add_atom_bonds at \u001b[0m\u001b[1;36m0x7f12ee28d160\u001b[0m\u001b[1m>\u001b[0m             \u001b[34m│\u001b[0m\n",
              "\u001b[34m│\u001b[0m                               \u001b[1m]\u001b[0m                                                           \u001b[34m│\u001b[0m\n",
              "\u001b[34m│\u001b[0m     \u001b[3;33medge_metadata_functions\u001b[0m = \u001b[3;35mNone\u001b[0m                                                        \u001b[34m│\u001b[0m\n",
              "\u001b[34m│\u001b[0m          \u001b[3;33mgenerate_conformer\u001b[0m = \u001b[3;91mFalse\u001b[0m                                                       \u001b[34m│\u001b[0m\n",
              "\u001b[34m│\u001b[0m    \u001b[3;33mgraph_metadata_functions\u001b[0m = \u001b[3;35mNone\u001b[0m                                                        \u001b[34m│\u001b[0m\n",
              "\u001b[34m│\u001b[0m     \u001b[3;33mnode_metadata_functions\u001b[0m = \u001b[1m[\u001b[0m\u001b[1m<\u001b[0m\u001b[1;95mfunction\u001b[0m\u001b[39m atom_type_one_hot at \u001b[0m\u001b[1;36m0x7f12ecf3b670\u001b[0m\u001b[1m>\u001b[0m\u001b[1m]\u001b[0m            \u001b[34m│\u001b[0m\n",
              "\u001b[34m│\u001b[0m                     \u001b[3;33mverbose\u001b[0m = \u001b[3;91mFalse\u001b[0m                                                       \u001b[34m│\u001b[0m\n",
              "\u001b[34m╰───────────────────────────────────────────────────────────────────────────────────────────╯\u001b[0m\n"
            ],
            "text/html": [
              "<pre style=\"white-space:pre;overflow-x:auto;line-height:normal;font-family:Menlo,'DejaVu Sans Mono',consolas,'Courier New',monospace\"><span style=\"color: #000080; text-decoration-color: #000080\">╭───────────────── </span><span style=\"color: #000080; text-decoration-color: #000080; font-weight: bold\">&lt;</span><span style=\"color: #ff00ff; text-decoration-color: #ff00ff; font-weight: bold\">class</span><span style=\"color: #000000; text-decoration-color: #000000\"> </span><span style=\"color: #008000; text-decoration-color: #008000\">'graphein.molecule.config.MoleculeGraphConfig'</span><span style=\"color: #000080; text-decoration-color: #000080; font-weight: bold\">&gt;</span><span style=\"color: #000080; text-decoration-color: #000080\"> ──────────────────╮</span>\n",
              "<span style=\"color: #000080; text-decoration-color: #000080\">│</span> <span style=\"color: #008080; text-decoration-color: #008080\">Config Object for Molecule Structure Graph Construction.</span>                                  <span style=\"color: #000080; text-decoration-color: #000080\">│</span>\n",
              "<span style=\"color: #000080; text-decoration-color: #000080\">│</span>                                                                                           <span style=\"color: #000080; text-decoration-color: #000080\">│</span>\n",
              "<span style=\"color: #000080; text-decoration-color: #000080\">│</span> <span style=\"color: #008000; text-decoration-color: #008000\">╭───────────────────────────────────────────────────────────────────────────────────────╮</span> <span style=\"color: #000080; text-decoration-color: #000080\">│</span>\n",
              "<span style=\"color: #000080; text-decoration-color: #000080\">│</span> <span style=\"color: #008000; text-decoration-color: #008000\">│</span> <span style=\"color: #800080; text-decoration-color: #800080; font-weight: bold\">MoleculeGraphConfig</span><span style=\"font-weight: bold\">(</span>                                                                  <span style=\"color: #008000; text-decoration-color: #008000\">│</span> <span style=\"color: #000080; text-decoration-color: #000080\">│</span>\n",
              "<span style=\"color: #000080; text-decoration-color: #000080\">│</span> <span style=\"color: #008000; text-decoration-color: #008000\">│</span> <span style=\"color: #7fbf7f; text-decoration-color: #7fbf7f\">│   </span><span style=\"color: #808000; text-decoration-color: #808000\">verbose</span>=<span style=\"color: #ff0000; text-decoration-color: #ff0000; font-style: italic\">False</span>,                                                                    <span style=\"color: #008000; text-decoration-color: #008000\">│</span> <span style=\"color: #000080; text-decoration-color: #000080\">│</span>\n",
              "<span style=\"color: #000080; text-decoration-color: #000080\">│</span> <span style=\"color: #008000; text-decoration-color: #008000\">│</span> <span style=\"color: #7fbf7f; text-decoration-color: #7fbf7f\">│   </span><span style=\"color: #808000; text-decoration-color: #808000\">add_hs</span>=<span style=\"color: #ff0000; text-decoration-color: #ff0000; font-style: italic\">False</span>,                                                                     <span style=\"color: #008000; text-decoration-color: #008000\">│</span> <span style=\"color: #000080; text-decoration-color: #000080\">│</span>\n",
              "<span style=\"color: #000080; text-decoration-color: #000080\">│</span> <span style=\"color: #008000; text-decoration-color: #008000\">│</span> <span style=\"color: #7fbf7f; text-decoration-color: #7fbf7f\">│   </span><span style=\"color: #808000; text-decoration-color: #808000\">generate_conformer</span>=<span style=\"color: #ff0000; text-decoration-color: #ff0000; font-style: italic\">False</span>,                                                         <span style=\"color: #008000; text-decoration-color: #008000\">│</span> <span style=\"color: #000080; text-decoration-color: #000080\">│</span>\n",
              "<span style=\"color: #000080; text-decoration-color: #000080\">│</span> <span style=\"color: #008000; text-decoration-color: #008000\">│</span> <span style=\"color: #7fbf7f; text-decoration-color: #7fbf7f\">│   </span><span style=\"color: #808000; text-decoration-color: #808000\">edge_construction_functions</span>=<span style=\"font-weight: bold\">[</span>                                                     <span style=\"color: #008000; text-decoration-color: #008000\">│</span> <span style=\"color: #000080; text-decoration-color: #000080\">│</span>\n",
              "<span style=\"color: #000080; text-decoration-color: #000080\">│</span> <span style=\"color: #008000; text-decoration-color: #008000\">│</span> <span style=\"color: #7fbf7f; text-decoration-color: #7fbf7f\">│   │   </span><span style=\"font-weight: bold\">&lt;</span><span style=\"color: #ff00ff; text-decoration-color: #ff00ff; font-weight: bold\">function</span><span style=\"color: #000000; text-decoration-color: #000000\"> add_fully_connected_edges at </span><span style=\"color: #008080; text-decoration-color: #008080; font-weight: bold\">0x7f12ee28d670</span><span style=\"color: #000000; text-decoration-color: #000000\">&gt;,</span>                       <span style=\"color: #008000; text-decoration-color: #008000\">│</span> <span style=\"color: #000080; text-decoration-color: #000080\">│</span>\n",
              "<span style=\"color: #000080; text-decoration-color: #000080\">│</span> <span style=\"color: #008000; text-decoration-color: #008000\">│</span> <span style=\"color: #7fbf7f; text-decoration-color: #7fbf7f\">│   │   </span><span style=\"color: #000000; text-decoration-color: #000000\">&lt;function add_k_nn_edges at </span><span style=\"color: #008080; text-decoration-color: #008080; font-weight: bold\">0x7f12ee28d700</span><span style=\"color: #000000; text-decoration-color: #000000\">&gt;,</span>                                  <span style=\"color: #008000; text-decoration-color: #008000\">│</span> <span style=\"color: #000080; text-decoration-color: #000080\">│</span>\n",
              "<span style=\"color: #000080; text-decoration-color: #000080\">│</span> <span style=\"color: #008000; text-decoration-color: #008000\">│</span> <span style=\"color: #7fbf7f; text-decoration-color: #7fbf7f\">│   │   </span><span style=\"color: #000000; text-decoration-color: #000000\">&lt;function add_distance_threshold at </span><span style=\"color: #008080; text-decoration-color: #008080; font-weight: bold\">0x7f12ee28d5e0</span><span style=\"color: #000000; text-decoration-color: #000000\">&gt;,</span>                          <span style=\"color: #008000; text-decoration-color: #008000\">│</span> <span style=\"color: #000080; text-decoration-color: #000080\">│</span>\n",
              "<span style=\"color: #000080; text-decoration-color: #000080\">│</span> <span style=\"color: #008000; text-decoration-color: #008000\">│</span> <span style=\"color: #7fbf7f; text-decoration-color: #7fbf7f\">│   │   </span><span style=\"color: #000000; text-decoration-color: #000000\">&lt;function add_atom_bonds at </span><span style=\"color: #008080; text-decoration-color: #008080; font-weight: bold\">0x7f12ee28d160</span><span style=\"color: #000000; text-decoration-color: #000000\">&gt;</span>                                   <span style=\"color: #008000; text-decoration-color: #008000\">│</span> <span style=\"color: #000080; text-decoration-color: #000080\">│</span>\n",
              "<span style=\"color: #000080; text-decoration-color: #000080\">│</span> <span style=\"color: #008000; text-decoration-color: #008000\">│</span> <span style=\"color: #7fbf7f; text-decoration-color: #7fbf7f\">│   </span><span style=\"color: #000000; text-decoration-color: #000000; font-weight: bold\">]</span><span style=\"color: #000000; text-decoration-color: #000000\">,</span>                                                                                <span style=\"color: #008000; text-decoration-color: #008000\">│</span> <span style=\"color: #000080; text-decoration-color: #000080\">│</span>\n",
              "<span style=\"color: #000080; text-decoration-color: #000080\">│</span> <span style=\"color: #008000; text-decoration-color: #008000\">│</span> <span style=\"color: #7fbf7f; text-decoration-color: #7fbf7f\">│   </span><span style=\"color: #808000; text-decoration-color: #808000\">node_metadata_functions</span><span style=\"color: #000000; text-decoration-color: #000000\">=</span><span style=\"color: #000000; text-decoration-color: #000000; font-weight: bold\">[</span><span style=\"color: #000000; text-decoration-color: #000000\">&lt;function atom_type_one_hot at </span><span style=\"color: #008080; text-decoration-color: #008080; font-weight: bold\">0x7f12ecf3b670</span><span style=\"font-weight: bold\">&gt;]</span>,         <span style=\"color: #008000; text-decoration-color: #008000\">│</span> <span style=\"color: #000080; text-decoration-color: #000080\">│</span>\n",
              "<span style=\"color: #000080; text-decoration-color: #000080\">│</span> <span style=\"color: #008000; text-decoration-color: #008000\">│</span> <span style=\"color: #7fbf7f; text-decoration-color: #7fbf7f\">│   </span><span style=\"color: #808000; text-decoration-color: #808000\">edge_metadata_functions</span>=<span style=\"color: #800080; text-decoration-color: #800080; font-style: italic\">None</span>,                                                     <span style=\"color: #008000; text-decoration-color: #008000\">│</span> <span style=\"color: #000080; text-decoration-color: #000080\">│</span>\n",
              "<span style=\"color: #000080; text-decoration-color: #000080\">│</span> <span style=\"color: #008000; text-decoration-color: #008000\">│</span> <span style=\"color: #7fbf7f; text-decoration-color: #7fbf7f\">│   </span><span style=\"color: #808000; text-decoration-color: #808000\">graph_metadata_functions</span>=<span style=\"color: #800080; text-decoration-color: #800080; font-style: italic\">None</span>                                                     <span style=\"color: #008000; text-decoration-color: #008000\">│</span> <span style=\"color: #000080; text-decoration-color: #000080\">│</span>\n",
              "<span style=\"color: #000080; text-decoration-color: #000080\">│</span> <span style=\"color: #008000; text-decoration-color: #008000\">│</span> <span style=\"font-weight: bold\">)</span>                                                                                     <span style=\"color: #008000; text-decoration-color: #008000\">│</span> <span style=\"color: #000080; text-decoration-color: #000080\">│</span>\n",
              "<span style=\"color: #000080; text-decoration-color: #000080\">│</span> <span style=\"color: #008000; text-decoration-color: #008000\">╰───────────────────────────────────────────────────────────────────────────────────────╯</span> <span style=\"color: #000080; text-decoration-color: #000080\">│</span>\n",
              "<span style=\"color: #000080; text-decoration-color: #000080\">│</span>                                                                                           <span style=\"color: #000080; text-decoration-color: #000080\">│</span>\n",
              "<span style=\"color: #000080; text-decoration-color: #000080\">│</span>                      <span style=\"color: #808000; text-decoration-color: #808000; font-style: italic\">add_hs</span> = <span style=\"color: #ff0000; text-decoration-color: #ff0000; font-style: italic\">False</span>                                                       <span style=\"color: #000080; text-decoration-color: #000080\">│</span>\n",
              "<span style=\"color: #000080; text-decoration-color: #000080\">│</span> <span style=\"color: #808000; text-decoration-color: #808000; font-style: italic\">edge_construction_functions</span> = <span style=\"font-weight: bold\">[</span>                                                           <span style=\"color: #000080; text-decoration-color: #000080\">│</span>\n",
              "<span style=\"color: #000080; text-decoration-color: #000080\">│</span>                                   <span style=\"font-weight: bold\">&lt;</span><span style=\"color: #ff00ff; text-decoration-color: #ff00ff; font-weight: bold\">function</span><span style=\"color: #000000; text-decoration-color: #000000\"> add_fully_connected_edges at </span><span style=\"color: #008080; text-decoration-color: #008080; font-weight: bold\">0x7f12ee28d670</span><span style=\"color: #000000; text-decoration-color: #000000\">&gt;,</span> <span style=\"color: #000080; text-decoration-color: #000080\">│</span>\n",
              "<span style=\"color: #000080; text-decoration-color: #000080\">│</span>                               <span style=\"color: #000000; text-decoration-color: #000000\">    &lt;function add_k_nn_edges at </span><span style=\"color: #008080; text-decoration-color: #008080; font-weight: bold\">0x7f12ee28d700</span><span style=\"color: #000000; text-decoration-color: #000000\">&gt;,</span>            <span style=\"color: #000080; text-decoration-color: #000080\">│</span>\n",
              "<span style=\"color: #000080; text-decoration-color: #000080\">│</span>                               <span style=\"color: #000000; text-decoration-color: #000000\">    &lt;function add_distance_threshold at </span><span style=\"color: #008080; text-decoration-color: #008080; font-weight: bold\">0x7f12ee28d5e0</span><span style=\"color: #000000; text-decoration-color: #000000\">&gt;,</span>    <span style=\"color: #000080; text-decoration-color: #000080\">│</span>\n",
              "<span style=\"color: #000080; text-decoration-color: #000080\">│</span>                               <span style=\"color: #000000; text-decoration-color: #000000\">    &lt;function add_atom_bonds at </span><span style=\"color: #008080; text-decoration-color: #008080; font-weight: bold\">0x7f12ee28d160</span><span style=\"font-weight: bold\">&gt;</span>             <span style=\"color: #000080; text-decoration-color: #000080\">│</span>\n",
              "<span style=\"color: #000080; text-decoration-color: #000080\">│</span>                               <span style=\"font-weight: bold\">]</span>                                                           <span style=\"color: #000080; text-decoration-color: #000080\">│</span>\n",
              "<span style=\"color: #000080; text-decoration-color: #000080\">│</span>     <span style=\"color: #808000; text-decoration-color: #808000; font-style: italic\">edge_metadata_functions</span> = <span style=\"color: #800080; text-decoration-color: #800080; font-style: italic\">None</span>                                                        <span style=\"color: #000080; text-decoration-color: #000080\">│</span>\n",
              "<span style=\"color: #000080; text-decoration-color: #000080\">│</span>          <span style=\"color: #808000; text-decoration-color: #808000; font-style: italic\">generate_conformer</span> = <span style=\"color: #ff0000; text-decoration-color: #ff0000; font-style: italic\">False</span>                                                       <span style=\"color: #000080; text-decoration-color: #000080\">│</span>\n",
              "<span style=\"color: #000080; text-decoration-color: #000080\">│</span>    <span style=\"color: #808000; text-decoration-color: #808000; font-style: italic\">graph_metadata_functions</span> = <span style=\"color: #800080; text-decoration-color: #800080; font-style: italic\">None</span>                                                        <span style=\"color: #000080; text-decoration-color: #000080\">│</span>\n",
              "<span style=\"color: #000080; text-decoration-color: #000080\">│</span>     <span style=\"color: #808000; text-decoration-color: #808000; font-style: italic\">node_metadata_functions</span> = <span style=\"font-weight: bold\">[&lt;</span><span style=\"color: #ff00ff; text-decoration-color: #ff00ff; font-weight: bold\">function</span><span style=\"color: #000000; text-decoration-color: #000000\"> atom_type_one_hot at </span><span style=\"color: #008080; text-decoration-color: #008080; font-weight: bold\">0x7f12ecf3b670</span><span style=\"font-weight: bold\">&gt;]</span>            <span style=\"color: #000080; text-decoration-color: #000080\">│</span>\n",
              "<span style=\"color: #000080; text-decoration-color: #000080\">│</span>                     <span style=\"color: #808000; text-decoration-color: #808000; font-style: italic\">verbose</span> = <span style=\"color: #ff0000; text-decoration-color: #ff0000; font-style: italic\">False</span>                                                       <span style=\"color: #000080; text-decoration-color: #000080\">│</span>\n",
              "<span style=\"color: #000080; text-decoration-color: #000080\">╰───────────────────────────────────────────────────────────────────────────────────────────╯</span>\n",
              "</pre>\n"
            ]
          },
          "metadata": {}
        }
      ]
    },
    {
      "cell_type": "code",
      "source": [
        "graph = gm.construct_graph(smiles=\"CC(=O)OC1=CC=CC=C1C(=O)O\", config=config)\n",
        "print(graph)\n",
        "nx.draw(graph)\n",
        "graph.graph[\"rdmol\"]"
      ],
      "metadata": {
        "colab": {
          "base_uri": "https://localhost:8080/",
          "height": 485
        },
        "id": "D3owPfvRkhUi",
        "outputId": "04cf55aa-7bda-4752-ba0b-1670107726d3"
      },
      "execution_count": 31,
      "outputs": [
        {
          "output_type": "display_data",
          "data": {
            "text/plain": [
              "Graph named \u001b[32m'CC\u001b[0m\u001b[32m(\u001b[0m\u001b[32m=O\u001b[0m\u001b[32m)\u001b[0m\u001b[32mOC1\u001b[0m\u001b[32m=\u001b[0m\u001b[32mCC\u001b[0m\u001b[32m=\u001b[0m\u001b[32mCC\u001b[0m\u001b[32m=\u001b[0m\u001b[32mC1C\u001b[0m\u001b[32m(\u001b[0m\u001b[32m=O\u001b[0m\u001b[32m)\u001b[0m\u001b[32mO'\u001b[0m with \u001b[1;36m13\u001b[0m nodes and \u001b[1;36m13\u001b[0m edges\n"
            ],
            "text/html": [
              "<pre style=\"white-space:pre;overflow-x:auto;line-height:normal;font-family:Menlo,'DejaVu Sans Mono',consolas,'Courier New',monospace\">Graph named <span style=\"color: #008000; text-decoration-color: #008000\">'CC(=O)OC1=CC=CC=C1C(=O)O'</span> with <span style=\"color: #008080; text-decoration-color: #008080; font-weight: bold\">13</span> nodes and <span style=\"color: #008080; text-decoration-color: #008080; font-weight: bold\">13</span> edges\n",
              "</pre>\n"
            ]
          },
          "metadata": {}
        },
        {
          "output_type": "execute_result",
          "data": {
            "text/plain": [
              "<rdkit.Chem.rdchem.Mol at 0x7f12ecfe77b0>"
            ],
            "image/png": "[encoded data removed]"
          },
          "metadata": {},
          "execution_count": 31
        },
        {
          "output_type": "display_data",
          "data": {
            "text/plain": [
              "<Figure size 432x288 with 1 Axes>"
            ],
            "image/png": "[encoded data removed]"
          },
          "metadata": {}
        }
      ]
    },
    {
      "cell_type": "code",
      "source": [
        "# Node metadata\n",
        "for n, d in graph.nodes(data=True):\n",
        "    print(d)"
      ],
      "metadata": {
        "colab": {
          "base_uri": "https://localhost:8080/",
          "height": 1000
        },
        "id": "A1K78I6GkmeR",
        "outputId": "3339b21c-1d78-4367-e4ee-3da0480dcdf1"
      },
      "execution_count": 32,
      "outputs": [
        {
          "output_type": "display_data",
          "data": {
            "text/plain": [
              "\u001b[1m{\u001b[0m\n",
              "    \u001b[32m'atomic_num'\u001b[0m: \u001b[1;36m6\u001b[0m,\n",
              "    \u001b[32m'element'\u001b[0m: \u001b[32m'C'\u001b[0m,\n",
              "    \u001b[32m'rdmol_atom'\u001b[0m: \u001b[1m<\u001b[0m\u001b[1;95mrdkit.Chem.rdchem.Atom\u001b[0m\u001b[39m object at \u001b[0m\u001b[1;36m0x7f12ecfe75f0\u001b[0m\u001b[1m>\u001b[0m,\n",
              "    \u001b[32m'coords'\u001b[0m: \u001b[3;35mNone\u001b[0m,\n",
              "    \u001b[32m'atom_type_one_hot'\u001b[0m: \u001b[1;35marray\u001b[0m\u001b[1m(\u001b[0m\u001b[1m[\u001b[0m\u001b[1;36m1\u001b[0m, \u001b[1;36m0\u001b[0m, \u001b[1;36m0\u001b[0m, \u001b[1;36m0\u001b[0m, \u001b[1;36m0\u001b[0m, \u001b[1;36m0\u001b[0m, \u001b[1;36m0\u001b[0m, \u001b[1;36m0\u001b[0m, \u001b[1;36m0\u001b[0m, \u001b[1;36m0\u001b[0m, \u001b[1;36m0\u001b[0m\u001b[1m]\u001b[0m\u001b[1m)\u001b[0m\n",
              "\u001b[1m}\u001b[0m\n"
            ],
            "text/html": [
              "<pre style=\"white-space:pre;overflow-x:auto;line-height:normal;font-family:Menlo,'DejaVu Sans Mono',consolas,'Courier New',monospace\"><span style=\"font-weight: bold\">{</span>\n",
              "    <span style=\"color: #008000; text-decoration-color: #008000\">'atomic_num'</span>: <span style=\"color: #008080; text-decoration-color: #008080; font-weight: bold\">6</span>,\n",
              "    <span style=\"color: #008000; text-decoration-color: #008000\">'element'</span>: <span style=\"color: #008000; text-decoration-color: #008000\">'C'</span>,\n",
              "    <span style=\"color: #008000; text-decoration-color: #008000\">'rdmol_atom'</span>: <span style=\"font-weight: bold\">&lt;</span><span style=\"color: #ff00ff; text-decoration-color: #ff00ff; font-weight: bold\">rdkit.Chem.rdchem.Atom</span><span style=\"color: #000000; text-decoration-color: #000000\"> object at </span><span style=\"color: #008080; text-decoration-color: #008080; font-weight: bold\">0x7f12ecfe75f0</span><span style=\"font-weight: bold\">&gt;</span>,\n",
              "    <span style=\"color: #008000; text-decoration-color: #008000\">'coords'</span>: <span style=\"color: #800080; text-decoration-color: #800080; font-style: italic\">None</span>,\n",
              "    <span style=\"color: #008000; text-decoration-color: #008000\">'atom_type_one_hot'</span>: <span style=\"color: #800080; text-decoration-color: #800080; font-weight: bold\">array</span><span style=\"font-weight: bold\">([</span><span style=\"color: #008080; text-decoration-color: #008080; font-weight: bold\">1</span>, <span style=\"color: #008080; text-decoration-color: #008080; font-weight: bold\">0</span>, <span style=\"color: #008080; text-decoration-color: #008080; font-weight: bold\">0</span>, <span style=\"color: #008080; text-decoration-color: #008080; font-weight: bold\">0</span>, <span style=\"color: #008080; text-decoration-color: #008080; font-weight: bold\">0</span>, <span style=\"color: #008080; text-decoration-color: #008080; font-weight: bold\">0</span>, <span style=\"color: #008080; text-decoration-color: #008080; font-weight: bold\">0</span>, <span style=\"color: #008080; text-decoration-color: #008080; font-weight: bold\">0</span>, <span style=\"color: #008080; text-decoration-color: #008080; font-weight: bold\">0</span>, <span style=\"color: #008080; text-decoration-color: #008080; font-weight: bold\">0</span>, <span style=\"color: #008080; text-decoration-color: #008080; font-weight: bold\">0</span><span style=\"font-weight: bold\">])</span>\n",
              "<span style=\"font-weight: bold\">}</span>\n",
              "</pre>\n"
            ]
          },
          "metadata": {}
        },
        {
          "output_type": "display_data",
          "data": {
            "text/plain": [
              "\u001b[1m{\u001b[0m\n",
              "    \u001b[32m'atomic_num'\u001b[0m: \u001b[1;36m6\u001b[0m,\n",
              "    \u001b[32m'element'\u001b[0m: \u001b[32m'C'\u001b[0m,\n",
              "    \u001b[32m'rdmol_atom'\u001b[0m: \u001b[1m<\u001b[0m\u001b[1;95mrdkit.Chem.rdchem.Atom\u001b[0m\u001b[39m object at \u001b[0m\u001b[1;36m0x7f12ecfe7820\u001b[0m\u001b[1m>\u001b[0m,\n",
              "    \u001b[32m'coords'\u001b[0m: \u001b[3;35mNone\u001b[0m,\n",
              "    \u001b[32m'atom_type_one_hot'\u001b[0m: \u001b[1;35marray\u001b[0m\u001b[1m(\u001b[0m\u001b[1m[\u001b[0m\u001b[1;36m1\u001b[0m, \u001b[1;36m0\u001b[0m, \u001b[1;36m0\u001b[0m, \u001b[1;36m0\u001b[0m, \u001b[1;36m0\u001b[0m, \u001b[1;36m0\u001b[0m, \u001b[1;36m0\u001b[0m, \u001b[1;36m0\u001b[0m, \u001b[1;36m0\u001b[0m, \u001b[1;36m0\u001b[0m, \u001b[1;36m0\u001b[0m\u001b[1m]\u001b[0m\u001b[1m)\u001b[0m\n",
              "\u001b[1m}\u001b[0m\n"
            ],
            "text/html": [
              "<pre style=\"white-space:pre;overflow-x:auto;line-height:normal;font-family:Menlo,'DejaVu Sans Mono',consolas,'Courier New',monospace\"><span style=\"font-weight: bold\">{</span>\n",
              "    <span style=\"color: #008000; text-decoration-color: #008000\">'atomic_num'</span>: <span style=\"color: #008080; text-decoration-color: #008080; font-weight: bold\">6</span>,\n",
              "    <span style=\"color: #008000; text-decoration-color: #008000\">'element'</span>: <span style=\"color: #008000; text-decoration-color: #008000\">'C'</span>,\n",
              "    <span style=\"color: #008000; text-decoration-color: #008000\">'rdmol_atom'</span>: <span style=\"font-weight: bold\">&lt;</span><span style=\"color: #ff00ff; text-decoration-color: #ff00ff; font-weight: bold\">rdkit.Chem.rdchem.Atom</span><span style=\"color: #000000; text-decoration-color: #000000\"> object at </span><span style=\"color: #008080; text-decoration-color: #008080; font-weight: bold\">0x7f12ecfe7820</span><span style=\"font-weight: bold\">&gt;</span>,\n",
              "    <span style=\"color: #008000; text-decoration-color: #008000\">'coords'</span>: <span style=\"color: #800080; text-decoration-color: #800080; font-style: italic\">None</span>,\n",
              "    <span style=\"color: #008000; text-decoration-color: #008000\">'atom_type_one_hot'</span>: <span style=\"color: #800080; text-decoration-color: #800080; font-weight: bold\">array</span><span style=\"font-weight: bold\">([</span><span style=\"color: #008080; text-decoration-color: #008080; font-weight: bold\">1</span>, <span style=\"color: #008080; text-decoration-color: #008080; font-weight: bold\">0</span>, <span style=\"color: #008080; text-decoration-color: #008080; font-weight: bold\">0</span>, <span style=\"color: #008080; text-decoration-color: #008080; font-weight: bold\">0</span>, <span style=\"color: #008080; text-decoration-color: #008080; font-weight: bold\">0</span>, <span style=\"color: #008080; text-decoration-color: #008080; font-weight: bold\">0</span>, <span style=\"color: #008080; text-decoration-color: #008080; font-weight: bold\">0</span>, <span style=\"color: #008080; text-decoration-color: #008080; font-weight: bold\">0</span>, <span style=\"color: #008080; text-decoration-color: #008080; font-weight: bold\">0</span>, <span style=\"color: #008080; text-decoration-color: #008080; font-weight: bold\">0</span>, <span style=\"color: #008080; text-decoration-color: #008080; font-weight: bold\">0</span><span style=\"font-weight: bold\">])</span>\n",
              "<span style=\"font-weight: bold\">}</span>\n",
              "</pre>\n"
            ]
          },
          "metadata": {}
        },
        {
          "output_type": "display_data",
          "data": {
            "text/plain": [
              "\u001b[1m{\u001b[0m\n",
              "    \u001b[32m'atomic_num'\u001b[0m: \u001b[1;36m8\u001b[0m,\n",
              "    \u001b[32m'element'\u001b[0m: \u001b[32m'O'\u001b[0m,\n",
              "    \u001b[32m'rdmol_atom'\u001b[0m: \u001b[1m<\u001b[0m\u001b[1;95mrdkit.Chem.rdchem.Atom\u001b[0m\u001b[39m object at \u001b[0m\u001b[1;36m0x7f12ecfe76d0\u001b[0m\u001b[1m>\u001b[0m,\n",
              "    \u001b[32m'coords'\u001b[0m: \u001b[3;35mNone\u001b[0m,\n",
              "    \u001b[32m'atom_type_one_hot'\u001b[0m: \u001b[1;35marray\u001b[0m\u001b[1m(\u001b[0m\u001b[1m[\u001b[0m\u001b[1;36m0\u001b[0m, \u001b[1;36m0\u001b[0m, \u001b[1;36m1\u001b[0m, \u001b[1;36m0\u001b[0m, \u001b[1;36m0\u001b[0m, \u001b[1;36m0\u001b[0m, \u001b[1;36m0\u001b[0m, \u001b[1;36m0\u001b[0m, \u001b[1;36m0\u001b[0m, \u001b[1;36m0\u001b[0m, \u001b[1;36m0\u001b[0m\u001b[1m]\u001b[0m\u001b[1m)\u001b[0m\n",
              "\u001b[1m}\u001b[0m\n"
            ],
            "text/html": [
              "<pre style=\"white-space:pre;overflow-x:auto;line-height:normal;font-family:Menlo,'DejaVu Sans Mono',consolas,'Courier New',monospace\"><span style=\"font-weight: bold\">{</span>\n",
              "    <span style=\"color: #008000; text-decoration-color: #008000\">'atomic_num'</span>: <span style=\"color: #008080; text-decoration-color: #008080; font-weight: bold\">8</span>,\n",
              "    <span style=\"color: #008000; text-decoration-color: #008000\">'element'</span>: <span style=\"color: #008000; text-decoration-color: #008000\">'O'</span>,\n",
              "    <span style=\"color: #008000; text-decoration-color: #008000\">'rdmol_atom'</span>: <span style=\"font-weight: bold\">&lt;</span><span style=\"color: #ff00ff; text-decoration-color: #ff00ff; font-weight: bold\">rdkit.Chem.rdchem.Atom</span><span style=\"color: #000000; text-decoration-color: #000000\"> object at </span><span style=\"color: #008080; text-decoration-color: #008080; font-weight: bold\">0x7f12ecfe76d0</span><span style=\"font-weight: bold\">&gt;</span>,\n",
              "    <span style=\"color: #008000; text-decoration-color: #008000\">'coords'</span>: <span style=\"color: #800080; text-decoration-color: #800080; font-style: italic\">None</span>,\n",
              "    <span style=\"color: #008000; text-decoration-color: #008000\">'atom_type_one_hot'</span>: <span style=\"color: #800080; text-decoration-color: #800080; font-weight: bold\">array</span><span style=\"font-weight: bold\">([</span><span style=\"color: #008080; text-decoration-color: #008080; font-weight: bold\">0</span>, <span style=\"color: #008080; text-decoration-color: #008080; font-weight: bold\">0</span>, <span style=\"color: #008080; text-decoration-color: #008080; font-weight: bold\">1</span>, <span style=\"color: #008080; text-decoration-color: #008080; font-weight: bold\">0</span>, <span style=\"color: #008080; text-decoration-color: #008080; font-weight: bold\">0</span>, <span style=\"color: #008080; text-decoration-color: #008080; font-weight: bold\">0</span>, <span style=\"color: #008080; text-decoration-color: #008080; font-weight: bold\">0</span>, <span style=\"color: #008080; text-decoration-color: #008080; font-weight: bold\">0</span>, <span style=\"color: #008080; text-decoration-color: #008080; font-weight: bold\">0</span>, <span style=\"color: #008080; text-decoration-color: #008080; font-weight: bold\">0</span>, <span style=\"color: #008080; text-decoration-color: #008080; font-weight: bold\">0</span><span style=\"font-weight: bold\">])</span>\n",
              "<span style=\"font-weight: bold\">}</span>\n",
              "</pre>\n"
            ]
          },
          "metadata": {}
        },
        {
          "output_type": "display_data",
          "data": {
            "text/plain": [
              "\u001b[1m{\u001b[0m\n",
              "    \u001b[32m'atomic_num'\u001b[0m: \u001b[1;36m8\u001b[0m,\n",
              "    \u001b[32m'element'\u001b[0m: \u001b[32m'O'\u001b[0m,\n",
              "    \u001b[32m'rdmol_atom'\u001b[0m: \u001b[1m<\u001b[0m\u001b[1;95mrdkit.Chem.rdchem.Atom\u001b[0m\u001b[39m object at \u001b[0m\u001b[1;36m0x7f12ecfe7890\u001b[0m\u001b[1m>\u001b[0m,\n",
              "    \u001b[32m'coords'\u001b[0m: \u001b[3;35mNone\u001b[0m,\n",
              "    \u001b[32m'atom_type_one_hot'\u001b[0m: \u001b[1;35marray\u001b[0m\u001b[1m(\u001b[0m\u001b[1m[\u001b[0m\u001b[1;36m0\u001b[0m, \u001b[1;36m0\u001b[0m, \u001b[1;36m1\u001b[0m, \u001b[1;36m0\u001b[0m, \u001b[1;36m0\u001b[0m, \u001b[1;36m0\u001b[0m, \u001b[1;36m0\u001b[0m, \u001b[1;36m0\u001b[0m, \u001b[1;36m0\u001b[0m, \u001b[1;36m0\u001b[0m, \u001b[1;36m0\u001b[0m\u001b[1m]\u001b[0m\u001b[1m)\u001b[0m\n",
              "\u001b[1m}\u001b[0m\n"
            ],
            "text/html": [
              "<pre style=\"white-space:pre;overflow-x:auto;line-height:normal;font-family:Menlo,'DejaVu Sans Mono',consolas,'Courier New',monospace\"><span style=\"font-weight: bold\">{</span>\n",
              "    <span style=\"color: #008000; text-decoration-color: #008000\">'atomic_num'</span>: <span style=\"color: #008080; text-decoration-color: #008080; font-weight: bold\">8</span>,\n",
              "    <span style=\"color: #008000; text-decoration-color: #008000\">'element'</span>: <span style=\"color: #008000; text-decoration-color: #008000\">'O'</span>,\n",
              "    <span style=\"color: #008000; text-decoration-color: #008000\">'rdmol_atom'</span>: <span style=\"font-weight: bold\">&lt;</span><span style=\"color: #ff00ff; text-decoration-color: #ff00ff; font-weight: bold\">rdkit.Chem.rdchem.Atom</span><span style=\"color: #000000; text-decoration-color: #000000\"> object at </span><span style=\"color: #008080; text-decoration-color: #008080; font-weight: bold\">0x7f12ecfe7890</span><span style=\"font-weight: bold\">&gt;</span>,\n",
              "    <span style=\"color: #008000; text-decoration-color: #008000\">'coords'</span>: <span style=\"color: #800080; text-decoration-color: #800080; font-style: italic\">None</span>,\n",
              "    <span style=\"color: #008000; text-decoration-color: #008000\">'atom_type_one_hot'</span>: <span style=\"color: #800080; text-decoration-color: #800080; font-weight: bold\">array</span><span style=\"font-weight: bold\">([</span><span style=\"color: #008080; text-decoration-color: #008080; font-weight: bold\">0</span>, <span style=\"color: #008080; text-decoration-color: #008080; font-weight: bold\">0</span>, <span style=\"color: #008080; text-decoration-color: #008080; font-weight: bold\">1</span>, <span style=\"color: #008080; text-decoration-color: #008080; font-weight: bold\">0</span>, <span style=\"color: #008080; text-decoration-color: #008080; font-weight: bold\">0</span>, <span style=\"color: #008080; text-decoration-color: #008080; font-weight: bold\">0</span>, <span style=\"color: #008080; text-decoration-color: #008080; font-weight: bold\">0</span>, <span style=\"color: #008080; text-decoration-color: #008080; font-weight: bold\">0</span>, <span style=\"color: #008080; text-decoration-color: #008080; font-weight: bold\">0</span>, <span style=\"color: #008080; text-decoration-color: #008080; font-weight: bold\">0</span>, <span style=\"color: #008080; text-decoration-color: #008080; font-weight: bold\">0</span><span style=\"font-weight: bold\">])</span>\n",
              "<span style=\"font-weight: bold\">}</span>\n",
              "</pre>\n"
            ]
          },
          "metadata": {}
        },
        {
          "output_type": "display_data",
          "data": {
            "text/plain": [
              "\u001b[1m{\u001b[0m\n",
              "    \u001b[32m'atomic_num'\u001b[0m: \u001b[1;36m6\u001b[0m,\n",
              "    \u001b[32m'element'\u001b[0m: \u001b[32m'C'\u001b[0m,\n",
              "    \u001b[32m'rdmol_atom'\u001b[0m: \u001b[1m<\u001b[0m\u001b[1;95mrdkit.Chem.rdchem.Atom\u001b[0m\u001b[39m object at \u001b[0m\u001b[1;36m0x7f12ecfe7900\u001b[0m\u001b[1m>\u001b[0m,\n",
              "    \u001b[32m'coords'\u001b[0m: \u001b[3;35mNone\u001b[0m,\n",
              "    \u001b[32m'atom_type_one_hot'\u001b[0m: \u001b[1;35marray\u001b[0m\u001b[1m(\u001b[0m\u001b[1m[\u001b[0m\u001b[1;36m1\u001b[0m, \u001b[1;36m0\u001b[0m, \u001b[1;36m0\u001b[0m, \u001b[1;36m0\u001b[0m, \u001b[1;36m0\u001b[0m, \u001b[1;36m0\u001b[0m, \u001b[1;36m0\u001b[0m, \u001b[1;36m0\u001b[0m, \u001b[1;36m0\u001b[0m, \u001b[1;36m0\u001b[0m, \u001b[1;36m0\u001b[0m\u001b[1m]\u001b[0m\u001b[1m)\u001b[0m\n",
              "\u001b[1m}\u001b[0m\n"
            ],
            "text/html": [
              "<pre style=\"white-space:pre;overflow-x:auto;line-height:normal;font-family:Menlo,'DejaVu Sans Mono',consolas,'Courier New',monospace\"><span style=\"font-weight: bold\">{</span>\n",
              "    <span style=\"color: #008000; text-decoration-color: #008000\">'atomic_num'</span>: <span style=\"color: #008080; text-decoration-color: #008080; font-weight: bold\">6</span>,\n",
              "    <span style=\"color: #008000; text-decoration-color: #008000\">'element'</span>: <span style=\"color: #008000; text-decoration-color: #008000\">'C'</span>,\n",
              "    <span style=\"color: #008000; text-decoration-color: #008000\">'rdmol_atom'</span>: <span style=\"font-weight: bold\">&lt;</span><span style=\"color: #ff00ff; text-decoration-color: #ff00ff; font-weight: bold\">rdkit.Chem.rdchem.Atom</span><span style=\"color: #000000; text-decoration-color: #000000\"> object at </span><span style=\"color: #008080; text-decoration-color: #008080; font-weight: bold\">0x7f12ecfe7900</span><span style=\"font-weight: bold\">&gt;</span>,\n",
              "    <span style=\"color: #008000; text-decoration-color: #008000\">'coords'</span>: <span style=\"color: #800080; text-decoration-color: #800080; font-style: italic\">None</span>,\n",
              "    <span style=\"color: #008000; text-decoration-color: #008000\">'atom_type_one_hot'</span>: <span style=\"color: #800080; text-decoration-color: #800080; font-weight: bold\">array</span><span style=\"font-weight: bold\">([</span><span style=\"color: #008080; text-decoration-color: #008080; font-weight: bold\">1</span>, <span style=\"color: #008080; text-decoration-color: #008080; font-weight: bold\">0</span>, <span style=\"color: #008080; text-decoration-color: #008080; font-weight: bold\">0</span>, <span style=\"color: #008080; text-decoration-color: #008080; font-weight: bold\">0</span>, <span style=\"color: #008080; text-decoration-color: #008080; font-weight: bold\">0</span>, <span style=\"color: #008080; text-decoration-color: #008080; font-weight: bold\">0</span>, <span style=\"color: #008080; text-decoration-color: #008080; font-weight: bold\">0</span>, <span style=\"color: #008080; text-decoration-color: #008080; font-weight: bold\">0</span>, <span style=\"color: #008080; text-decoration-color: #008080; font-weight: bold\">0</span>, <span style=\"color: #008080; text-decoration-color: #008080; font-weight: bold\">0</span>, <span style=\"color: #008080; text-decoration-color: #008080; font-weight: bold\">0</span><span style=\"font-weight: bold\">])</span>\n",
              "<span style=\"font-weight: bold\">}</span>\n",
              "</pre>\n"
            ]
          },
          "metadata": {}
        },
        {
          "output_type": "display_data",
          "data": {
            "text/plain": [
              "\u001b[1m{\u001b[0m\n",
              "    \u001b[32m'atomic_num'\u001b[0m: \u001b[1;36m6\u001b[0m,\n",
              "    \u001b[32m'element'\u001b[0m: \u001b[32m'C'\u001b[0m,\n",
              "    \u001b[32m'rdmol_atom'\u001b[0m: \u001b[1m<\u001b[0m\u001b[1;95mrdkit.Chem.rdchem.Atom\u001b[0m\u001b[39m object at \u001b[0m\u001b[1;36m0x7f12ecfe7970\u001b[0m\u001b[1m>\u001b[0m,\n",
              "    \u001b[32m'coords'\u001b[0m: \u001b[3;35mNone\u001b[0m,\n",
              "    \u001b[32m'atom_type_one_hot'\u001b[0m: \u001b[1;35marray\u001b[0m\u001b[1m(\u001b[0m\u001b[1m[\u001b[0m\u001b[1;36m1\u001b[0m, \u001b[1;36m0\u001b[0m, \u001b[1;36m0\u001b[0m, \u001b[1;36m0\u001b[0m, \u001b[1;36m0\u001b[0m, \u001b[1;36m0\u001b[0m, \u001b[1;36m0\u001b[0m, \u001b[1;36m0\u001b[0m, \u001b[1;36m0\u001b[0m, \u001b[1;36m0\u001b[0m, \u001b[1;36m0\u001b[0m\u001b[1m]\u001b[0m\u001b[1m)\u001b[0m\n",
              "\u001b[1m}\u001b[0m\n"
            ],
            "text/html": [
              "<pre style=\"white-space:pre;overflow-x:auto;line-height:normal;font-family:Menlo,'DejaVu Sans Mono',consolas,'Courier New',monospace\"><span style=\"font-weight: bold\">{</span>\n",
              "    <span style=\"color: #008000; text-decoration-color: #008000\">'atomic_num'</span>: <span style=\"color: #008080; text-decoration-color: #008080; font-weight: bold\">6</span>,\n",
              "    <span style=\"color: #008000; text-decoration-color: #008000\">'element'</span>: <span style=\"color: #008000; text-decoration-color: #008000\">'C'</span>,\n",
              "    <span style=\"color: #008000; text-decoration-color: #008000\">'rdmol_atom'</span>: <span style=\"font-weight: bold\">&lt;</span><span style=\"color: #ff00ff; text-decoration-color: #ff00ff; font-weight: bold\">rdkit.Chem.rdchem.Atom</span><span style=\"color: #000000; text-decoration-color: #000000\"> object at </span><span style=\"color: #008080; text-decoration-color: #008080; font-weight: bold\">0x7f12ecfe7970</span><span style=\"font-weight: bold\">&gt;</span>,\n",
              "    <span style=\"color: #008000; text-decoration-color: #008000\">'coords'</span>: <span style=\"color: #800080; text-decoration-color: #800080; font-style: italic\">None</span>,\n",
              "    <span style=\"color: #008000; text-decoration-color: #008000\">'atom_type_one_hot'</span>: <span style=\"color: #800080; text-decoration-color: #800080; font-weight: bold\">array</span><span style=\"font-weight: bold\">([</span><span style=\"color: #008080; text-decoration-color: #008080; font-weight: bold\">1</span>, <span style=\"color: #008080; text-decoration-color: #008080; font-weight: bold\">0</span>, <span style=\"color: #008080; text-decoration-color: #008080; font-weight: bold\">0</span>, <span style=\"color: #008080; text-decoration-color: #008080; font-weight: bold\">0</span>, <span style=\"color: #008080; text-decoration-color: #008080; font-weight: bold\">0</span>, <span style=\"color: #008080; text-decoration-color: #008080; font-weight: bold\">0</span>, <span style=\"color: #008080; text-decoration-color: #008080; font-weight: bold\">0</span>, <span style=\"color: #008080; text-decoration-color: #008080; font-weight: bold\">0</span>, <span style=\"color: #008080; text-decoration-color: #008080; font-weight: bold\">0</span>, <span style=\"color: #008080; text-decoration-color: #008080; font-weight: bold\">0</span>, <span style=\"color: #008080; text-decoration-color: #008080; font-weight: bold\">0</span><span style=\"font-weight: bold\">])</span>\n",
              "<span style=\"font-weight: bold\">}</span>\n",
              "</pre>\n"
            ]
          },
          "metadata": {}
        },
        {
          "output_type": "display_data",
          "data": {
            "text/plain": [
              "\u001b[1m{\u001b[0m\n",
              "    \u001b[32m'atomic_num'\u001b[0m: \u001b[1;36m6\u001b[0m,\n",
              "    \u001b[32m'element'\u001b[0m: \u001b[32m'C'\u001b[0m,\n",
              "    \u001b[32m'rdmol_atom'\u001b[0m: \u001b[1m<\u001b[0m\u001b[1;95mrdkit.Chem.rdchem.Atom\u001b[0m\u001b[39m object at \u001b[0m\u001b[1;36m0x7f12ecfe7740\u001b[0m\u001b[1m>\u001b[0m,\n",
              "    \u001b[32m'coords'\u001b[0m: \u001b[3;35mNone\u001b[0m,\n",
              "    \u001b[32m'atom_type_one_hot'\u001b[0m: \u001b[1;35marray\u001b[0m\u001b[1m(\u001b[0m\u001b[1m[\u001b[0m\u001b[1;36m1\u001b[0m, \u001b[1;36m0\u001b[0m, \u001b[1;36m0\u001b[0m, \u001b[1;36m0\u001b[0m, \u001b[1;36m0\u001b[0m, \u001b[1;36m0\u001b[0m, \u001b[1;36m0\u001b[0m, \u001b[1;36m0\u001b[0m, \u001b[1;36m0\u001b[0m, \u001b[1;36m0\u001b[0m, \u001b[1;36m0\u001b[0m\u001b[1m]\u001b[0m\u001b[1m)\u001b[0m\n",
              "\u001b[1m}\u001b[0m\n"
            ],
            "text/html": [
              "<pre style=\"white-space:pre;overflow-x:auto;line-height:normal;font-family:Menlo,'DejaVu Sans Mono',consolas,'Courier New',monospace\"><span style=\"font-weight: bold\">{</span>\n",
              "    <span style=\"color: #008000; text-decoration-color: #008000\">'atomic_num'</span>: <span style=\"color: #008080; text-decoration-color: #008080; font-weight: bold\">6</span>,\n",
              "    <span style=\"color: #008000; text-decoration-color: #008000\">'element'</span>: <span style=\"color: #008000; text-decoration-color: #008000\">'C'</span>,\n",
              "    <span style=\"color: #008000; text-decoration-color: #008000\">'rdmol_atom'</span>: <span style=\"font-weight: bold\">&lt;</span><span style=\"color: #ff00ff; text-decoration-color: #ff00ff; font-weight: bold\">rdkit.Chem.rdchem.Atom</span><span style=\"color: #000000; text-decoration-color: #000000\"> object at </span><span style=\"color: #008080; text-decoration-color: #008080; font-weight: bold\">0x7f12ecfe7740</span><span style=\"font-weight: bold\">&gt;</span>,\n",
              "    <span style=\"color: #008000; text-decoration-color: #008000\">'coords'</span>: <span style=\"color: #800080; text-decoration-color: #800080; font-style: italic\">None</span>,\n",
              "    <span style=\"color: #008000; text-decoration-color: #008000\">'atom_type_one_hot'</span>: <span style=\"color: #800080; text-decoration-color: #800080; font-weight: bold\">array</span><span style=\"font-weight: bold\">([</span><span style=\"color: #008080; text-decoration-color: #008080; font-weight: bold\">1</span>, <span style=\"color: #008080; text-decoration-color: #008080; font-weight: bold\">0</span>, <span style=\"color: #008080; text-decoration-color: #008080; font-weight: bold\">0</span>, <span style=\"color: #008080; text-decoration-color: #008080; font-weight: bold\">0</span>, <span style=\"color: #008080; text-decoration-color: #008080; font-weight: bold\">0</span>, <span style=\"color: #008080; text-decoration-color: #008080; font-weight: bold\">0</span>, <span style=\"color: #008080; text-decoration-color: #008080; font-weight: bold\">0</span>, <span style=\"color: #008080; text-decoration-color: #008080; font-weight: bold\">0</span>, <span style=\"color: #008080; text-decoration-color: #008080; font-weight: bold\">0</span>, <span style=\"color: #008080; text-decoration-color: #008080; font-weight: bold\">0</span>, <span style=\"color: #008080; text-decoration-color: #008080; font-weight: bold\">0</span><span style=\"font-weight: bold\">])</span>\n",
              "<span style=\"font-weight: bold\">}</span>\n",
              "</pre>\n"
            ]
          },
          "metadata": {}
        },
        {
          "output_type": "display_data",
          "data": {
            "text/plain": [
              "\u001b[1m{\u001b[0m\n",
              "    \u001b[32m'atomic_num'\u001b[0m: \u001b[1;36m6\u001b[0m,\n",
              "    \u001b[32m'element'\u001b[0m: \u001b[32m'C'\u001b[0m,\n",
              "    \u001b[32m'rdmol_atom'\u001b[0m: \u001b[1m<\u001b[0m\u001b[1;95mrdkit.Chem.rdchem.Atom\u001b[0m\u001b[39m object at \u001b[0m\u001b[1;36m0x7f12ecfe7cf0\u001b[0m\u001b[1m>\u001b[0m,\n",
              "    \u001b[32m'coords'\u001b[0m: \u001b[3;35mNone\u001b[0m,\n",
              "    \u001b[32m'atom_type_one_hot'\u001b[0m: \u001b[1;35marray\u001b[0m\u001b[1m(\u001b[0m\u001b[1m[\u001b[0m\u001b[1;36m1\u001b[0m, \u001b[1;36m0\u001b[0m, \u001b[1;36m0\u001b[0m, \u001b[1;36m0\u001b[0m, \u001b[1;36m0\u001b[0m, \u001b[1;36m0\u001b[0m, \u001b[1;36m0\u001b[0m, \u001b[1;36m0\u001b[0m, \u001b[1;36m0\u001b[0m, \u001b[1;36m0\u001b[0m, \u001b[1;36m0\u001b[0m\u001b[1m]\u001b[0m\u001b[1m)\u001b[0m\n",
              "\u001b[1m}\u001b[0m\n"
            ],
            "text/html": [
              "<pre style=\"white-space:pre;overflow-x:auto;line-height:normal;font-family:Menlo,'DejaVu Sans Mono',consolas,'Courier New',monospace\"><span style=\"font-weight: bold\">{</span>\n",
              "    <span style=\"color: #008000; text-decoration-color: #008000\">'atomic_num'</span>: <span style=\"color: #008080; text-decoration-color: #008080; font-weight: bold\">6</span>,\n",
              "    <span style=\"color: #008000; text-decoration-color: #008000\">'element'</span>: <span style=\"color: #008000; text-decoration-color: #008000\">'C'</span>,\n",
              "    <span style=\"color: #008000; text-decoration-color: #008000\">'rdmol_atom'</span>: <span style=\"font-weight: bold\">&lt;</span><span style=\"color: #ff00ff; text-decoration-color: #ff00ff; font-weight: bold\">rdkit.Chem.rdchem.Atom</span><span style=\"color: #000000; text-decoration-color: #000000\"> object at </span><span style=\"color: #008080; text-decoration-color: #008080; font-weight: bold\">0x7f12ecfe7cf0</span><span style=\"font-weight: bold\">&gt;</span>,\n",
              "    <span style=\"color: #008000; text-decoration-color: #008000\">'coords'</span>: <span style=\"color: #800080; text-decoration-color: #800080; font-style: italic\">None</span>,\n",
              "    <span style=\"color: #008000; text-decoration-color: #008000\">'atom_type_one_hot'</span>: <span style=\"color: #800080; text-decoration-color: #800080; font-weight: bold\">array</span><span style=\"font-weight: bold\">([</span><span style=\"color: #008080; text-decoration-color: #008080; font-weight: bold\">1</span>, <span style=\"color: #008080; text-decoration-color: #008080; font-weight: bold\">0</span>, <span style=\"color: #008080; text-decoration-color: #008080; font-weight: bold\">0</span>, <span style=\"color: #008080; text-decoration-color: #008080; font-weight: bold\">0</span>, <span style=\"color: #008080; text-decoration-color: #008080; font-weight: bold\">0</span>, <span style=\"color: #008080; text-decoration-color: #008080; font-weight: bold\">0</span>, <span style=\"color: #008080; text-decoration-color: #008080; font-weight: bold\">0</span>, <span style=\"color: #008080; text-decoration-color: #008080; font-weight: bold\">0</span>, <span style=\"color: #008080; text-decoration-color: #008080; font-weight: bold\">0</span>, <span style=\"color: #008080; text-decoration-color: #008080; font-weight: bold\">0</span>, <span style=\"color: #008080; text-decoration-color: #008080; font-weight: bold\">0</span><span style=\"font-weight: bold\">])</span>\n",
              "<span style=\"font-weight: bold\">}</span>\n",
              "</pre>\n"
            ]
          },
          "metadata": {}
        },
        {
          "output_type": "display_data",
          "data": {
            "text/plain": [
              "\u001b[1m{\u001b[0m\n",
              "    \u001b[32m'atomic_num'\u001b[0m: \u001b[1;36m6\u001b[0m,\n",
              "    \u001b[32m'element'\u001b[0m: \u001b[32m'C'\u001b[0m,\n",
              "    \u001b[32m'rdmol_atom'\u001b[0m: \u001b[1m<\u001b[0m\u001b[1;95mrdkit.Chem.rdchem.Atom\u001b[0m\u001b[39m object at \u001b[0m\u001b[1;36m0x7f12ecfe7c80\u001b[0m\u001b[1m>\u001b[0m,\n",
              "    \u001b[32m'coords'\u001b[0m: \u001b[3;35mNone\u001b[0m,\n",
              "    \u001b[32m'atom_type_one_hot'\u001b[0m: \u001b[1;35marray\u001b[0m\u001b[1m(\u001b[0m\u001b[1m[\u001b[0m\u001b[1;36m1\u001b[0m, \u001b[1;36m0\u001b[0m, \u001b[1;36m0\u001b[0m, \u001b[1;36m0\u001b[0m, \u001b[1;36m0\u001b[0m, \u001b[1;36m0\u001b[0m, \u001b[1;36m0\u001b[0m, \u001b[1;36m0\u001b[0m, \u001b[1;36m0\u001b[0m, \u001b[1;36m0\u001b[0m, \u001b[1;36m0\u001b[0m\u001b[1m]\u001b[0m\u001b[1m)\u001b[0m\n",
              "\u001b[1m}\u001b[0m\n"
            ],
            "text/html": [
              "<pre style=\"white-space:pre;overflow-x:auto;line-height:normal;font-family:Menlo,'DejaVu Sans Mono',consolas,'Courier New',monospace\"><span style=\"font-weight: bold\">{</span>\n",
              "    <span style=\"color: #008000; text-decoration-color: #008000\">'atomic_num'</span>: <span style=\"color: #008080; text-decoration-color: #008080; font-weight: bold\">6</span>,\n",
              "    <span style=\"color: #008000; text-decoration-color: #008000\">'element'</span>: <span style=\"color: #008000; text-decoration-color: #008000\">'C'</span>,\n",
              "    <span style=\"color: #008000; text-decoration-color: #008000\">'rdmol_atom'</span>: <span style=\"font-weight: bold\">&lt;</span><span style=\"color: #ff00ff; text-decoration-color: #ff00ff; font-weight: bold\">rdkit.Chem.rdchem.Atom</span><span style=\"color: #000000; text-decoration-color: #000000\"> object at </span><span style=\"color: #008080; text-decoration-color: #008080; font-weight: bold\">0x7f12ecfe7c80</span><span style=\"font-weight: bold\">&gt;</span>,\n",
              "    <span style=\"color: #008000; text-decoration-color: #008000\">'coords'</span>: <span style=\"color: #800080; text-decoration-color: #800080; font-style: italic\">None</span>,\n",
              "    <span style=\"color: #008000; text-decoration-color: #008000\">'atom_type_one_hot'</span>: <span style=\"color: #800080; text-decoration-color: #800080; font-weight: bold\">array</span><span style=\"font-weight: bold\">([</span><span style=\"color: #008080; text-decoration-color: #008080; font-weight: bold\">1</span>, <span style=\"color: #008080; text-decoration-color: #008080; font-weight: bold\">0</span>, <span style=\"color: #008080; text-decoration-color: #008080; font-weight: bold\">0</span>, <span style=\"color: #008080; text-decoration-color: #008080; font-weight: bold\">0</span>, <span style=\"color: #008080; text-decoration-color: #008080; font-weight: bold\">0</span>, <span style=\"color: #008080; text-decoration-color: #008080; font-weight: bold\">0</span>, <span style=\"color: #008080; text-decoration-color: #008080; font-weight: bold\">0</span>, <span style=\"color: #008080; text-decoration-color: #008080; font-weight: bold\">0</span>, <span style=\"color: #008080; text-decoration-color: #008080; font-weight: bold\">0</span>, <span style=\"color: #008080; text-decoration-color: #008080; font-weight: bold\">0</span>, <span style=\"color: #008080; text-decoration-color: #008080; font-weight: bold\">0</span><span style=\"font-weight: bold\">])</span>\n",
              "<span style=\"font-weight: bold\">}</span>\n",
              "</pre>\n"
            ]
          },
          "metadata": {}
        },
        {
          "output_type": "display_data",
          "data": {
            "text/plain": [
              "\u001b[1m{\u001b[0m\n",
              "    \u001b[32m'atomic_num'\u001b[0m: \u001b[1;36m6\u001b[0m,\n",
              "    \u001b[32m'element'\u001b[0m: \u001b[32m'C'\u001b[0m,\n",
              "    \u001b[32m'rdmol_atom'\u001b[0m: \u001b[1m<\u001b[0m\u001b[1;95mrdkit.Chem.rdchem.Atom\u001b[0m\u001b[39m object at \u001b[0m\u001b[1;36m0x7f12ecfe7f20\u001b[0m\u001b[1m>\u001b[0m,\n",
              "    \u001b[32m'coords'\u001b[0m: \u001b[3;35mNone\u001b[0m,\n",
              "    \u001b[32m'atom_type_one_hot'\u001b[0m: \u001b[1;35marray\u001b[0m\u001b[1m(\u001b[0m\u001b[1m[\u001b[0m\u001b[1;36m1\u001b[0m, \u001b[1;36m0\u001b[0m, \u001b[1;36m0\u001b[0m, \u001b[1;36m0\u001b[0m, \u001b[1;36m0\u001b[0m, \u001b[1;36m0\u001b[0m, \u001b[1;36m0\u001b[0m, \u001b[1;36m0\u001b[0m, \u001b[1;36m0\u001b[0m, \u001b[1;36m0\u001b[0m, \u001b[1;36m0\u001b[0m\u001b[1m]\u001b[0m\u001b[1m)\u001b[0m\n",
              "\u001b[1m}\u001b[0m\n"
            ],
            "text/html": [
              "<pre style=\"white-space:pre;overflow-x:auto;line-height:normal;font-family:Menlo,'DejaVu Sans Mono',consolas,'Courier New',monospace\"><span style=\"font-weight: bold\">{</span>\n",
              "    <span style=\"color: #008000; text-decoration-color: #008000\">'atomic_num'</span>: <span style=\"color: #008080; text-decoration-color: #008080; font-weight: bold\">6</span>,\n",
              "    <span style=\"color: #008000; text-decoration-color: #008000\">'element'</span>: <span style=\"color: #008000; text-decoration-color: #008000\">'C'</span>,\n",
              "    <span style=\"color: #008000; text-decoration-color: #008000\">'rdmol_atom'</span>: <span style=\"font-weight: bold\">&lt;</span><span style=\"color: #ff00ff; text-decoration-color: #ff00ff; font-weight: bold\">rdkit.Chem.rdchem.Atom</span><span style=\"color: #000000; text-decoration-color: #000000\"> object at </span><span style=\"color: #008080; text-decoration-color: #008080; font-weight: bold\">0x7f12ecfe7f20</span><span style=\"font-weight: bold\">&gt;</span>,\n",
              "    <span style=\"color: #008000; text-decoration-color: #008000\">'coords'</span>: <span style=\"color: #800080; text-decoration-color: #800080; font-style: italic\">None</span>,\n",
              "    <span style=\"color: #008000; text-decoration-color: #008000\">'atom_type_one_hot'</span>: <span style=\"color: #800080; text-decoration-color: #800080; font-weight: bold\">array</span><span style=\"font-weight: bold\">([</span><span style=\"color: #008080; text-decoration-color: #008080; font-weight: bold\">1</span>, <span style=\"color: #008080; text-decoration-color: #008080; font-weight: bold\">0</span>, <span style=\"color: #008080; text-decoration-color: #008080; font-weight: bold\">0</span>, <span style=\"color: #008080; text-decoration-color: #008080; font-weight: bold\">0</span>, <span style=\"color: #008080; text-decoration-color: #008080; font-weight: bold\">0</span>, <span style=\"color: #008080; text-decoration-color: #008080; font-weight: bold\">0</span>, <span style=\"color: #008080; text-decoration-color: #008080; font-weight: bold\">0</span>, <span style=\"color: #008080; text-decoration-color: #008080; font-weight: bold\">0</span>, <span style=\"color: #008080; text-decoration-color: #008080; font-weight: bold\">0</span>, <span style=\"color: #008080; text-decoration-color: #008080; font-weight: bold\">0</span>, <span style=\"color: #008080; text-decoration-color: #008080; font-weight: bold\">0</span><span style=\"font-weight: bold\">])</span>\n",
              "<span style=\"font-weight: bold\">}</span>\n",
              "</pre>\n"
            ]
          },
          "metadata": {}
        },
        {
          "output_type": "display_data",
          "data": {
            "text/plain": [
              "\u001b[1m{\u001b[0m\n",
              "    \u001b[32m'atomic_num'\u001b[0m: \u001b[1;36m6\u001b[0m,\n",
              "    \u001b[32m'element'\u001b[0m: \u001b[32m'C'\u001b[0m,\n",
              "    \u001b[32m'rdmol_atom'\u001b[0m: \u001b[1m<\u001b[0m\u001b[1;95mrdkit.Chem.rdchem.Atom\u001b[0m\u001b[39m object at \u001b[0m\u001b[1;36m0x7f12ecfd1740\u001b[0m\u001b[1m>\u001b[0m,\n",
              "    \u001b[32m'coords'\u001b[0m: \u001b[3;35mNone\u001b[0m,\n",
              "    \u001b[32m'atom_type_one_hot'\u001b[0m: \u001b[1;35marray\u001b[0m\u001b[1m(\u001b[0m\u001b[1m[\u001b[0m\u001b[1;36m1\u001b[0m, \u001b[1;36m0\u001b[0m, \u001b[1;36m0\u001b[0m, \u001b[1;36m0\u001b[0m, \u001b[1;36m0\u001b[0m, \u001b[1;36m0\u001b[0m, \u001b[1;36m0\u001b[0m, \u001b[1;36m0\u001b[0m, \u001b[1;36m0\u001b[0m, \u001b[1;36m0\u001b[0m, \u001b[1;36m0\u001b[0m\u001b[1m]\u001b[0m\u001b[1m)\u001b[0m\n",
              "\u001b[1m}\u001b[0m\n"
            ],
            "text/html": [
              "<pre style=\"white-space:pre;overflow-x:auto;line-height:normal;font-family:Menlo,'DejaVu Sans Mono',consolas,'Courier New',monospace\"><span style=\"font-weight: bold\">{</span>\n",
              "    <span style=\"color: #008000; text-decoration-color: #008000\">'atomic_num'</span>: <span style=\"color: #008080; text-decoration-color: #008080; font-weight: bold\">6</span>,\n",
              "    <span style=\"color: #008000; text-decoration-color: #008000\">'element'</span>: <span style=\"color: #008000; text-decoration-color: #008000\">'C'</span>,\n",
              "    <span style=\"color: #008000; text-decoration-color: #008000\">'rdmol_atom'</span>: <span style=\"font-weight: bold\">&lt;</span><span style=\"color: #ff00ff; text-decoration-color: #ff00ff; font-weight: bold\">rdkit.Chem.rdchem.Atom</span><span style=\"color: #000000; text-decoration-color: #000000\"> object at </span><span style=\"color: #008080; text-decoration-color: #008080; font-weight: bold\">0x7f12ecfd1740</span><span style=\"font-weight: bold\">&gt;</span>,\n",
              "    <span style=\"color: #008000; text-decoration-color: #008000\">'coords'</span>: <span style=\"color: #800080; text-decoration-color: #800080; font-style: italic\">None</span>,\n",
              "    <span style=\"color: #008000; text-decoration-color: #008000\">'atom_type_one_hot'</span>: <span style=\"color: #800080; text-decoration-color: #800080; font-weight: bold\">array</span><span style=\"font-weight: bold\">([</span><span style=\"color: #008080; text-decoration-color: #008080; font-weight: bold\">1</span>, <span style=\"color: #008080; text-decoration-color: #008080; font-weight: bold\">0</span>, <span style=\"color: #008080; text-decoration-color: #008080; font-weight: bold\">0</span>, <span style=\"color: #008080; text-decoration-color: #008080; font-weight: bold\">0</span>, <span style=\"color: #008080; text-decoration-color: #008080; font-weight: bold\">0</span>, <span style=\"color: #008080; text-decoration-color: #008080; font-weight: bold\">0</span>, <span style=\"color: #008080; text-decoration-color: #008080; font-weight: bold\">0</span>, <span style=\"color: #008080; text-decoration-color: #008080; font-weight: bold\">0</span>, <span style=\"color: #008080; text-decoration-color: #008080; font-weight: bold\">0</span>, <span style=\"color: #008080; text-decoration-color: #008080; font-weight: bold\">0</span>, <span style=\"color: #008080; text-decoration-color: #008080; font-weight: bold\">0</span><span style=\"font-weight: bold\">])</span>\n",
              "<span style=\"font-weight: bold\">}</span>\n",
              "</pre>\n"
            ]
          },
          "metadata": {}
        },
        {
          "output_type": "display_data",
          "data": {
            "text/plain": [
              "\u001b[1m{\u001b[0m\n",
              "    \u001b[32m'atomic_num'\u001b[0m: \u001b[1;36m8\u001b[0m,\n",
              "    \u001b[32m'element'\u001b[0m: \u001b[32m'O'\u001b[0m,\n",
              "    \u001b[32m'rdmol_atom'\u001b[0m: \u001b[1m<\u001b[0m\u001b[1;95mrdkit.Chem.rdchem.Atom\u001b[0m\u001b[39m object at \u001b[0m\u001b[1;36m0x7f12ecfd1660\u001b[0m\u001b[1m>\u001b[0m,\n",
              "    \u001b[32m'coords'\u001b[0m: \u001b[3;35mNone\u001b[0m,\n",
              "    \u001b[32m'atom_type_one_hot'\u001b[0m: \u001b[1;35marray\u001b[0m\u001b[1m(\u001b[0m\u001b[1m[\u001b[0m\u001b[1;36m0\u001b[0m, \u001b[1;36m0\u001b[0m, \u001b[1;36m1\u001b[0m, \u001b[1;36m0\u001b[0m, \u001b[1;36m0\u001b[0m, \u001b[1;36m0\u001b[0m, \u001b[1;36m0\u001b[0m, \u001b[1;36m0\u001b[0m, \u001b[1;36m0\u001b[0m, \u001b[1;36m0\u001b[0m, \u001b[1;36m0\u001b[0m\u001b[1m]\u001b[0m\u001b[1m)\u001b[0m\n",
              "\u001b[1m}\u001b[0m\n"
            ],
            "text/html": [
              "<pre style=\"white-space:pre;overflow-x:auto;line-height:normal;font-family:Menlo,'DejaVu Sans Mono',consolas,'Courier New',monospace\"><span style=\"font-weight: bold\">{</span>\n",
              "    <span style=\"color: #008000; text-decoration-color: #008000\">'atomic_num'</span>: <span style=\"color: #008080; text-decoration-color: #008080; font-weight: bold\">8</span>,\n",
              "    <span style=\"color: #008000; text-decoration-color: #008000\">'element'</span>: <span style=\"color: #008000; text-decoration-color: #008000\">'O'</span>,\n",
              "    <span style=\"color: #008000; text-decoration-color: #008000\">'rdmol_atom'</span>: <span style=\"font-weight: bold\">&lt;</span><span style=\"color: #ff00ff; text-decoration-color: #ff00ff; font-weight: bold\">rdkit.Chem.rdchem.Atom</span><span style=\"color: #000000; text-decoration-color: #000000\"> object at </span><span style=\"color: #008080; text-decoration-color: #008080; font-weight: bold\">0x7f12ecfd1660</span><span style=\"font-weight: bold\">&gt;</span>,\n",
              "    <span style=\"color: #008000; text-decoration-color: #008000\">'coords'</span>: <span style=\"color: #800080; text-decoration-color: #800080; font-style: italic\">None</span>,\n",
              "    <span style=\"color: #008000; text-decoration-color: #008000\">'atom_type_one_hot'</span>: <span style=\"color: #800080; text-decoration-color: #800080; font-weight: bold\">array</span><span style=\"font-weight: bold\">([</span><span style=\"color: #008080; text-decoration-color: #008080; font-weight: bold\">0</span>, <span style=\"color: #008080; text-decoration-color: #008080; font-weight: bold\">0</span>, <span style=\"color: #008080; text-decoration-color: #008080; font-weight: bold\">1</span>, <span style=\"color: #008080; text-decoration-color: #008080; font-weight: bold\">0</span>, <span style=\"color: #008080; text-decoration-color: #008080; font-weight: bold\">0</span>, <span style=\"color: #008080; text-decoration-color: #008080; font-weight: bold\">0</span>, <span style=\"color: #008080; text-decoration-color: #008080; font-weight: bold\">0</span>, <span style=\"color: #008080; text-decoration-color: #008080; font-weight: bold\">0</span>, <span style=\"color: #008080; text-decoration-color: #008080; font-weight: bold\">0</span>, <span style=\"color: #008080; text-decoration-color: #008080; font-weight: bold\">0</span>, <span style=\"color: #008080; text-decoration-color: #008080; font-weight: bold\">0</span><span style=\"font-weight: bold\">])</span>\n",
              "<span style=\"font-weight: bold\">}</span>\n",
              "</pre>\n"
            ]
          },
          "metadata": {}
        },
        {
          "output_type": "display_data",
          "data": {
            "text/plain": [
              "\u001b[1m{\u001b[0m\n",
              "    \u001b[32m'atomic_num'\u001b[0m: \u001b[1;36m8\u001b[0m,\n",
              "    \u001b[32m'element'\u001b[0m: \u001b[32m'O'\u001b[0m,\n",
              "    \u001b[32m'rdmol_atom'\u001b[0m: \u001b[1m<\u001b[0m\u001b[1;95mrdkit.Chem.rdchem.Atom\u001b[0m\u001b[39m object at \u001b[0m\u001b[1;36m0x7f12ecfd17b0\u001b[0m\u001b[1m>\u001b[0m,\n",
              "    \u001b[32m'coords'\u001b[0m: \u001b[3;35mNone\u001b[0m,\n",
              "    \u001b[32m'atom_type_one_hot'\u001b[0m: \u001b[1;35marray\u001b[0m\u001b[1m(\u001b[0m\u001b[1m[\u001b[0m\u001b[1;36m0\u001b[0m, \u001b[1;36m0\u001b[0m, \u001b[1;36m1\u001b[0m, \u001b[1;36m0\u001b[0m, \u001b[1;36m0\u001b[0m, \u001b[1;36m0\u001b[0m, \u001b[1;36m0\u001b[0m, \u001b[1;36m0\u001b[0m, \u001b[1;36m0\u001b[0m, \u001b[1;36m0\u001b[0m, \u001b[1;36m0\u001b[0m\u001b[1m]\u001b[0m\u001b[1m)\u001b[0m\n",
              "\u001b[1m}\u001b[0m\n"
            ],
            "text/html": [
              "<pre style=\"white-space:pre;overflow-x:auto;line-height:normal;font-family:Menlo,'DejaVu Sans Mono',consolas,'Courier New',monospace\"><span style=\"font-weight: bold\">{</span>\n",
              "    <span style=\"color: #008000; text-decoration-color: #008000\">'atomic_num'</span>: <span style=\"color: #008080; text-decoration-color: #008080; font-weight: bold\">8</span>,\n",
              "    <span style=\"color: #008000; text-decoration-color: #008000\">'element'</span>: <span style=\"color: #008000; text-decoration-color: #008000\">'O'</span>,\n",
              "    <span style=\"color: #008000; text-decoration-color: #008000\">'rdmol_atom'</span>: <span style=\"font-weight: bold\">&lt;</span><span style=\"color: #ff00ff; text-decoration-color: #ff00ff; font-weight: bold\">rdkit.Chem.rdchem.Atom</span><span style=\"color: #000000; text-decoration-color: #000000\"> object at </span><span style=\"color: #008080; text-decoration-color: #008080; font-weight: bold\">0x7f12ecfd17b0</span><span style=\"font-weight: bold\">&gt;</span>,\n",
              "    <span style=\"color: #008000; text-decoration-color: #008000\">'coords'</span>: <span style=\"color: #800080; text-decoration-color: #800080; font-style: italic\">None</span>,\n",
              "    <span style=\"color: #008000; text-decoration-color: #008000\">'atom_type_one_hot'</span>: <span style=\"color: #800080; text-decoration-color: #800080; font-weight: bold\">array</span><span style=\"font-weight: bold\">([</span><span style=\"color: #008080; text-decoration-color: #008080; font-weight: bold\">0</span>, <span style=\"color: #008080; text-decoration-color: #008080; font-weight: bold\">0</span>, <span style=\"color: #008080; text-decoration-color: #008080; font-weight: bold\">1</span>, <span style=\"color: #008080; text-decoration-color: #008080; font-weight: bold\">0</span>, <span style=\"color: #008080; text-decoration-color: #008080; font-weight: bold\">0</span>, <span style=\"color: #008080; text-decoration-color: #008080; font-weight: bold\">0</span>, <span style=\"color: #008080; text-decoration-color: #008080; font-weight: bold\">0</span>, <span style=\"color: #008080; text-decoration-color: #008080; font-weight: bold\">0</span>, <span style=\"color: #008080; text-decoration-color: #008080; font-weight: bold\">0</span>, <span style=\"color: #008080; text-decoration-color: #008080; font-weight: bold\">0</span>, <span style=\"color: #008080; text-decoration-color: #008080; font-weight: bold\">0</span><span style=\"font-weight: bold\">])</span>\n",
              "<span style=\"font-weight: bold\">}</span>\n",
              "</pre>\n"
            ]
          },
          "metadata": {}
        }
      ]
    },
    {
      "cell_type": "code",
      "source": [
        "# Edge metadata\n",
        "for u, v, d in graph.edges(data=True):\n",
        "    print(d)"
      ],
      "metadata": {
        "colab": {
          "base_uri": "https://localhost:8080/",
          "height": 225
        },
        "id": "XeEsbCDwkrw8",
        "outputId": "8c047d39-c0d5-4d0c-ab99-ba81b3e077e3"
      },
      "execution_count": 33,
      "outputs": [
        {
          "output_type": "display_data",
          "data": {
            "text/plain": [
              "\u001b[1m{\u001b[0m\u001b[32m'kind'\u001b[0m: \u001b[1m{\u001b[0m\u001b[32m'bond'\u001b[0m\u001b[1m}\u001b[0m, \u001b[32m'bond'\u001b[0m: \u001b[1m<\u001b[0m\u001b[1;95mrdkit.Chem.rdchem.Bond\u001b[0m\u001b[39m object at \u001b[0m\u001b[1;36m0x7f12f26536d0\u001b[0m\u001b[1m>\u001b[0m\u001b[1m}\u001b[0m\n"
            ],
            "text/html": [
              "<pre style=\"white-space:pre;overflow-x:auto;line-height:normal;font-family:Menlo,'DejaVu Sans Mono',consolas,'Courier New',monospace\"><span style=\"font-weight: bold\">{</span><span style=\"color: #008000; text-decoration-color: #008000\">'kind'</span>: <span style=\"font-weight: bold\">{</span><span style=\"color: #008000; text-decoration-color: #008000\">'bond'</span><span style=\"font-weight: bold\">}</span>, <span style=\"color: #008000; text-decoration-color: #008000\">'bond'</span>: <span style=\"font-weight: bold\">&lt;</span><span style=\"color: #ff00ff; text-decoration-color: #ff00ff; font-weight: bold\">rdkit.Chem.rdchem.Bond</span><span style=\"color: #000000; text-decoration-color: #000000\"> object at </span><span style=\"color: #008080; text-decoration-color: #008080; font-weight: bold\">0x7f12f26536d0</span><span style=\"font-weight: bold\">&gt;}</span>\n",
              "</pre>\n"
            ]
          },
          "metadata": {}
        },
        {
          "output_type": "display_data",
          "data": {
            "text/plain": [
              "\u001b[1m{\u001b[0m\u001b[32m'kind'\u001b[0m: \u001b[1m{\u001b[0m\u001b[32m'bond'\u001b[0m\u001b[1m}\u001b[0m, \u001b[32m'bond'\u001b[0m: \u001b[1m<\u001b[0m\u001b[1;95mrdkit.Chem.rdchem.Bond\u001b[0m\u001b[39m object at \u001b[0m\u001b[1;36m0x7f12f2653f20\u001b[0m\u001b[1m>\u001b[0m\u001b[1m}\u001b[0m\n"
            ],
            "text/html": [
              "<pre style=\"white-space:pre;overflow-x:auto;line-height:normal;font-family:Menlo,'DejaVu Sans Mono',consolas,'Courier New',monospace\"><span style=\"font-weight: bold\">{</span><span style=\"color: #008000; text-decoration-color: #008000\">'kind'</span>: <span style=\"font-weight: bold\">{</span><span style=\"color: #008000; text-decoration-color: #008000\">'bond'</span><span style=\"font-weight: bold\">}</span>, <span style=\"color: #008000; text-decoration-color: #008000\">'bond'</span>: <span style=\"font-weight: bold\">&lt;</span><span style=\"color: #ff00ff; text-decoration-color: #ff00ff; font-weight: bold\">rdkit.Chem.rdchem.Bond</span><span style=\"color: #000000; text-decoration-color: #000000\"> object at </span><span style=\"color: #008080; text-decoration-color: #008080; font-weight: bold\">0x7f12f2653f20</span><span style=\"font-weight: bold\">&gt;}</span>\n",
              "</pre>\n"
            ]
          },
          "metadata": {}
        },
        {
          "output_type": "display_data",
          "data": {
            "text/plain": [
              "\u001b[1m{\u001b[0m\u001b[32m'kind'\u001b[0m: \u001b[1m{\u001b[0m\u001b[32m'bond'\u001b[0m\u001b[1m}\u001b[0m, \u001b[32m'bond'\u001b[0m: \u001b[1m<\u001b[0m\u001b[1;95mrdkit.Chem.rdchem.Bond\u001b[0m\u001b[39m object at \u001b[0m\u001b[1;36m0x7f12f2653900\u001b[0m\u001b[1m>\u001b[0m\u001b[1m}\u001b[0m\n"
            ],
            "text/html": [
              "<pre style=\"white-space:pre;overflow-x:auto;line-height:normal;font-family:Menlo,'DejaVu Sans Mono',consolas,'Courier New',monospace\"><span style=\"font-weight: bold\">{</span><span style=\"color: #008000; text-decoration-color: #008000\">'kind'</span>: <span style=\"font-weight: bold\">{</span><span style=\"color: #008000; text-decoration-color: #008000\">'bond'</span><span style=\"font-weight: bold\">}</span>, <span style=\"color: #008000; text-decoration-color: #008000\">'bond'</span>: <span style=\"font-weight: bold\">&lt;</span><span style=\"color: #ff00ff; text-decoration-color: #ff00ff; font-weight: bold\">rdkit.Chem.rdchem.Bond</span><span style=\"color: #000000; text-decoration-color: #000000\"> object at </span><span style=\"color: #008080; text-decoration-color: #008080; font-weight: bold\">0x7f12f2653900</span><span style=\"font-weight: bold\">&gt;}</span>\n",
              "</pre>\n"
            ]
          },
          "metadata": {}
        },
        {
          "output_type": "display_data",
          "data": {
            "text/plain": [
              "\u001b[1m{\u001b[0m\u001b[32m'kind'\u001b[0m: \u001b[1m{\u001b[0m\u001b[32m'bond'\u001b[0m\u001b[1m}\u001b[0m, \u001b[32m'bond'\u001b[0m: \u001b[1m<\u001b[0m\u001b[1;95mrdkit.Chem.rdchem.Bond\u001b[0m\u001b[39m object at \u001b[0m\u001b[1;36m0x7f12f2653040\u001b[0m\u001b[1m>\u001b[0m\u001b[1m}\u001b[0m\n"
            ],
            "text/html": [
              "<pre style=\"white-space:pre;overflow-x:auto;line-height:normal;font-family:Menlo,'DejaVu Sans Mono',consolas,'Courier New',monospace\"><span style=\"font-weight: bold\">{</span><span style=\"color: #008000; text-decoration-color: #008000\">'kind'</span>: <span style=\"font-weight: bold\">{</span><span style=\"color: #008000; text-decoration-color: #008000\">'bond'</span><span style=\"font-weight: bold\">}</span>, <span style=\"color: #008000; text-decoration-color: #008000\">'bond'</span>: <span style=\"font-weight: bold\">&lt;</span><span style=\"color: #ff00ff; text-decoration-color: #ff00ff; font-weight: bold\">rdkit.Chem.rdchem.Bond</span><span style=\"color: #000000; text-decoration-color: #000000\"> object at </span><span style=\"color: #008080; text-decoration-color: #008080; font-weight: bold\">0x7f12f2653040</span><span style=\"font-weight: bold\">&gt;}</span>\n",
              "</pre>\n"
            ]
          },
          "metadata": {}
        },
        {
          "output_type": "display_data",
          "data": {
            "text/plain": [
              "\u001b[1m{\u001b[0m\u001b[32m'kind'\u001b[0m: \u001b[1m{\u001b[0m\u001b[32m'bond'\u001b[0m\u001b[1m}\u001b[0m, \u001b[32m'bond'\u001b[0m: \u001b[1m<\u001b[0m\u001b[1;95mrdkit.Chem.rdchem.Bond\u001b[0m\u001b[39m object at \u001b[0m\u001b[1;36m0x7f12f26530b0\u001b[0m\u001b[1m>\u001b[0m\u001b[1m}\u001b[0m\n"
            ],
            "text/html": [
              "<pre style=\"white-space:pre;overflow-x:auto;line-height:normal;font-family:Menlo,'DejaVu Sans Mono',consolas,'Courier New',monospace\"><span style=\"font-weight: bold\">{</span><span style=\"color: #008000; text-decoration-color: #008000\">'kind'</span>: <span style=\"font-weight: bold\">{</span><span style=\"color: #008000; text-decoration-color: #008000\">'bond'</span><span style=\"font-weight: bold\">}</span>, <span style=\"color: #008000; text-decoration-color: #008000\">'bond'</span>: <span style=\"font-weight: bold\">&lt;</span><span style=\"color: #ff00ff; text-decoration-color: #ff00ff; font-weight: bold\">rdkit.Chem.rdchem.Bond</span><span style=\"color: #000000; text-decoration-color: #000000\"> object at </span><span style=\"color: #008080; text-decoration-color: #008080; font-weight: bold\">0x7f12f26530b0</span><span style=\"font-weight: bold\">&gt;}</span>\n",
              "</pre>\n"
            ]
          },
          "metadata": {}
        },
        {
          "output_type": "display_data",
          "data": {
            "text/plain": [
              "\u001b[1m{\u001b[0m\u001b[32m'kind'\u001b[0m: \u001b[1m{\u001b[0m\u001b[32m'bond'\u001b[0m\u001b[1m}\u001b[0m, \u001b[32m'bond'\u001b[0m: \u001b[1m<\u001b[0m\u001b[1;95mrdkit.Chem.rdchem.Bond\u001b[0m\u001b[39m object at \u001b[0m\u001b[1;36m0x7f12f26533c0\u001b[0m\u001b[1m>\u001b[0m\u001b[1m}\u001b[0m\n"
            ],
            "text/html": [
              "<pre style=\"white-space:pre;overflow-x:auto;line-height:normal;font-family:Menlo,'DejaVu Sans Mono',consolas,'Courier New',monospace\"><span style=\"font-weight: bold\">{</span><span style=\"color: #008000; text-decoration-color: #008000\">'kind'</span>: <span style=\"font-weight: bold\">{</span><span style=\"color: #008000; text-decoration-color: #008000\">'bond'</span><span style=\"font-weight: bold\">}</span>, <span style=\"color: #008000; text-decoration-color: #008000\">'bond'</span>: <span style=\"font-weight: bold\">&lt;</span><span style=\"color: #ff00ff; text-decoration-color: #ff00ff; font-weight: bold\">rdkit.Chem.rdchem.Bond</span><span style=\"color: #000000; text-decoration-color: #000000\"> object at </span><span style=\"color: #008080; text-decoration-color: #008080; font-weight: bold\">0x7f12f26533c0</span><span style=\"font-weight: bold\">&gt;}</span>\n",
              "</pre>\n"
            ]
          },
          "metadata": {}
        },
        {
          "output_type": "display_data",
          "data": {
            "text/plain": [
              "\u001b[1m{\u001b[0m\u001b[32m'kind'\u001b[0m: \u001b[1m{\u001b[0m\u001b[32m'bond'\u001b[0m\u001b[1m}\u001b[0m, \u001b[32m'bond'\u001b[0m: \u001b[1m<\u001b[0m\u001b[1;95mrdkit.Chem.rdchem.Bond\u001b[0m\u001b[39m object at \u001b[0m\u001b[1;36m0x7f12f2653120\u001b[0m\u001b[1m>\u001b[0m\u001b[1m}\u001b[0m\n"
            ],
            "text/html": [
              "<pre style=\"white-space:pre;overflow-x:auto;line-height:normal;font-family:Menlo,'DejaVu Sans Mono',consolas,'Courier New',monospace\"><span style=\"font-weight: bold\">{</span><span style=\"color: #008000; text-decoration-color: #008000\">'kind'</span>: <span style=\"font-weight: bold\">{</span><span style=\"color: #008000; text-decoration-color: #008000\">'bond'</span><span style=\"font-weight: bold\">}</span>, <span style=\"color: #008000; text-decoration-color: #008000\">'bond'</span>: <span style=\"font-weight: bold\">&lt;</span><span style=\"color: #ff00ff; text-decoration-color: #ff00ff; font-weight: bold\">rdkit.Chem.rdchem.Bond</span><span style=\"color: #000000; text-decoration-color: #000000\"> object at </span><span style=\"color: #008080; text-decoration-color: #008080; font-weight: bold\">0x7f12f2653120</span><span style=\"font-weight: bold\">&gt;}</span>\n",
              "</pre>\n"
            ]
          },
          "metadata": {}
        },
        {
          "output_type": "display_data",
          "data": {
            "text/plain": [
              "\u001b[1m{\u001b[0m\u001b[32m'kind'\u001b[0m: \u001b[1m{\u001b[0m\u001b[32m'bond'\u001b[0m\u001b[1m}\u001b[0m, \u001b[32m'bond'\u001b[0m: \u001b[1m<\u001b[0m\u001b[1;95mrdkit.Chem.rdchem.Bond\u001b[0m\u001b[39m object at \u001b[0m\u001b[1;36m0x7f12f2653190\u001b[0m\u001b[1m>\u001b[0m\u001b[1m}\u001b[0m\n"
            ],
            "text/html": [
              "<pre style=\"white-space:pre;overflow-x:auto;line-height:normal;font-family:Menlo,'DejaVu Sans Mono',consolas,'Courier New',monospace\"><span style=\"font-weight: bold\">{</span><span style=\"color: #008000; text-decoration-color: #008000\">'kind'</span>: <span style=\"font-weight: bold\">{</span><span style=\"color: #008000; text-decoration-color: #008000\">'bond'</span><span style=\"font-weight: bold\">}</span>, <span style=\"color: #008000; text-decoration-color: #008000\">'bond'</span>: <span style=\"font-weight: bold\">&lt;</span><span style=\"color: #ff00ff; text-decoration-color: #ff00ff; font-weight: bold\">rdkit.Chem.rdchem.Bond</span><span style=\"color: #000000; text-decoration-color: #000000\"> object at </span><span style=\"color: #008080; text-decoration-color: #008080; font-weight: bold\">0x7f12f2653190</span><span style=\"font-weight: bold\">&gt;}</span>\n",
              "</pre>\n"
            ]
          },
          "metadata": {}
        },
        {
          "output_type": "display_data",
          "data": {
            "text/plain": [
              "\u001b[1m{\u001b[0m\u001b[32m'kind'\u001b[0m: \u001b[1m{\u001b[0m\u001b[32m'bond'\u001b[0m\u001b[1m}\u001b[0m, \u001b[32m'bond'\u001b[0m: \u001b[1m<\u001b[0m\u001b[1;95mrdkit.Chem.rdchem.Bond\u001b[0m\u001b[39m object at \u001b[0m\u001b[1;36m0x7f12f26532e0\u001b[0m\u001b[1m>\u001b[0m\u001b[1m}\u001b[0m\n"
            ],
            "text/html": [
              "<pre style=\"white-space:pre;overflow-x:auto;line-height:normal;font-family:Menlo,'DejaVu Sans Mono',consolas,'Courier New',monospace\"><span style=\"font-weight: bold\">{</span><span style=\"color: #008000; text-decoration-color: #008000\">'kind'</span>: <span style=\"font-weight: bold\">{</span><span style=\"color: #008000; text-decoration-color: #008000\">'bond'</span><span style=\"font-weight: bold\">}</span>, <span style=\"color: #008000; text-decoration-color: #008000\">'bond'</span>: <span style=\"font-weight: bold\">&lt;</span><span style=\"color: #ff00ff; text-decoration-color: #ff00ff; font-weight: bold\">rdkit.Chem.rdchem.Bond</span><span style=\"color: #000000; text-decoration-color: #000000\"> object at </span><span style=\"color: #008080; text-decoration-color: #008080; font-weight: bold\">0x7f12f26532e0</span><span style=\"font-weight: bold\">&gt;}</span>\n",
              "</pre>\n"
            ]
          },
          "metadata": {}
        },
        {
          "output_type": "display_data",
          "data": {
            "text/plain": [
              "\u001b[1m{\u001b[0m\u001b[32m'kind'\u001b[0m: \u001b[1m{\u001b[0m\u001b[32m'bond'\u001b[0m\u001b[1m}\u001b[0m, \u001b[32m'bond'\u001b[0m: \u001b[1m<\u001b[0m\u001b[1;95mrdkit.Chem.rdchem.Bond\u001b[0m\u001b[39m object at \u001b[0m\u001b[1;36m0x7f12f26534a0\u001b[0m\u001b[1m>\u001b[0m\u001b[1m}\u001b[0m\n"
            ],
            "text/html": [
              "<pre style=\"white-space:pre;overflow-x:auto;line-height:normal;font-family:Menlo,'DejaVu Sans Mono',consolas,'Courier New',monospace\"><span style=\"font-weight: bold\">{</span><span style=\"color: #008000; text-decoration-color: #008000\">'kind'</span>: <span style=\"font-weight: bold\">{</span><span style=\"color: #008000; text-decoration-color: #008000\">'bond'</span><span style=\"font-weight: bold\">}</span>, <span style=\"color: #008000; text-decoration-color: #008000\">'bond'</span>: <span style=\"font-weight: bold\">&lt;</span><span style=\"color: #ff00ff; text-decoration-color: #ff00ff; font-weight: bold\">rdkit.Chem.rdchem.Bond</span><span style=\"color: #000000; text-decoration-color: #000000\"> object at </span><span style=\"color: #008080; text-decoration-color: #008080; font-weight: bold\">0x7f12f26534a0</span><span style=\"font-weight: bold\">&gt;}</span>\n",
              "</pre>\n"
            ]
          },
          "metadata": {}
        },
        {
          "output_type": "display_data",
          "data": {
            "text/plain": [
              "\u001b[1m{\u001b[0m\u001b[32m'kind'\u001b[0m: \u001b[1m{\u001b[0m\u001b[32m'bond'\u001b[0m\u001b[1m}\u001b[0m, \u001b[32m'bond'\u001b[0m: \u001b[1m<\u001b[0m\u001b[1;95mrdkit.Chem.rdchem.Bond\u001b[0m\u001b[39m object at \u001b[0m\u001b[1;36m0x7f12f2653350\u001b[0m\u001b[1m>\u001b[0m\u001b[1m}\u001b[0m\n"
            ],
            "text/html": [
              "<pre style=\"white-space:pre;overflow-x:auto;line-height:normal;font-family:Menlo,'DejaVu Sans Mono',consolas,'Courier New',monospace\"><span style=\"font-weight: bold\">{</span><span style=\"color: #008000; text-decoration-color: #008000\">'kind'</span>: <span style=\"font-weight: bold\">{</span><span style=\"color: #008000; text-decoration-color: #008000\">'bond'</span><span style=\"font-weight: bold\">}</span>, <span style=\"color: #008000; text-decoration-color: #008000\">'bond'</span>: <span style=\"font-weight: bold\">&lt;</span><span style=\"color: #ff00ff; text-decoration-color: #ff00ff; font-weight: bold\">rdkit.Chem.rdchem.Bond</span><span style=\"color: #000000; text-decoration-color: #000000\"> object at </span><span style=\"color: #008080; text-decoration-color: #008080; font-weight: bold\">0x7f12f2653350</span><span style=\"font-weight: bold\">&gt;}</span>\n",
              "</pre>\n"
            ]
          },
          "metadata": {}
        },
        {
          "output_type": "display_data",
          "data": {
            "text/plain": [
              "\u001b[1m{\u001b[0m\u001b[32m'kind'\u001b[0m: \u001b[1m{\u001b[0m\u001b[32m'bond'\u001b[0m\u001b[1m}\u001b[0m, \u001b[32m'bond'\u001b[0m: \u001b[1m<\u001b[0m\u001b[1;95mrdkit.Chem.rdchem.Bond\u001b[0m\u001b[39m object at \u001b[0m\u001b[1;36m0x7f12f2653510\u001b[0m\u001b[1m>\u001b[0m\u001b[1m}\u001b[0m\n"
            ],
            "text/html": [
              "<pre style=\"white-space:pre;overflow-x:auto;line-height:normal;font-family:Menlo,'DejaVu Sans Mono',consolas,'Courier New',monospace\"><span style=\"font-weight: bold\">{</span><span style=\"color: #008000; text-decoration-color: #008000\">'kind'</span>: <span style=\"font-weight: bold\">{</span><span style=\"color: #008000; text-decoration-color: #008000\">'bond'</span><span style=\"font-weight: bold\">}</span>, <span style=\"color: #008000; text-decoration-color: #008000\">'bond'</span>: <span style=\"font-weight: bold\">&lt;</span><span style=\"color: #ff00ff; text-decoration-color: #ff00ff; font-weight: bold\">rdkit.Chem.rdchem.Bond</span><span style=\"color: #000000; text-decoration-color: #000000\"> object at </span><span style=\"color: #008080; text-decoration-color: #008080; font-weight: bold\">0x7f12f2653510</span><span style=\"font-weight: bold\">&gt;}</span>\n",
              "</pre>\n"
            ]
          },
          "metadata": {}
        },
        {
          "output_type": "display_data",
          "data": {
            "text/plain": [
              "\u001b[1m{\u001b[0m\u001b[32m'kind'\u001b[0m: \u001b[1m{\u001b[0m\u001b[32m'bond'\u001b[0m\u001b[1m}\u001b[0m, \u001b[32m'bond'\u001b[0m: \u001b[1m<\u001b[0m\u001b[1;95mrdkit.Chem.rdchem.Bond\u001b[0m\u001b[39m object at \u001b[0m\u001b[1;36m0x7f12f2653dd0\u001b[0m\u001b[1m>\u001b[0m\u001b[1m}\u001b[0m\n"
            ],
            "text/html": [
              "<pre style=\"white-space:pre;overflow-x:auto;line-height:normal;font-family:Menlo,'DejaVu Sans Mono',consolas,'Courier New',monospace\"><span style=\"font-weight: bold\">{</span><span style=\"color: #008000; text-decoration-color: #008000\">'kind'</span>: <span style=\"font-weight: bold\">{</span><span style=\"color: #008000; text-decoration-color: #008000\">'bond'</span><span style=\"font-weight: bold\">}</span>, <span style=\"color: #008000; text-decoration-color: #008000\">'bond'</span>: <span style=\"font-weight: bold\">&lt;</span><span style=\"color: #ff00ff; text-decoration-color: #ff00ff; font-weight: bold\">rdkit.Chem.rdchem.Bond</span><span style=\"color: #000000; text-decoration-color: #000000\"> object at </span><span style=\"color: #008080; text-decoration-color: #008080; font-weight: bold\">0x7f12f2653dd0</span><span style=\"font-weight: bold\">&gt;}</span>\n",
              "</pre>\n"
            ]
          },
          "metadata": {}
        }
      ]
    },
    {
      "cell_type": "code",
      "source": [
        "graph = gm.construct_graph(path=\"/content/graphein/tests/molecule/test_data/long_test.sdf\", config=config)\n",
        "print(graph)\n",
        "graph.graph[\"rdmol\"]"
      ],
      "metadata": {
        "colab": {
          "base_uri": "https://localhost:8080/",
          "height": 183
        },
        "id": "XwugOABjkwW0",
        "outputId": "c4159471-7649-40d2-fe64-121932756f1d"
      },
      "execution_count": 35,
      "outputs": [
        {
          "output_type": "display_data",
          "data": {
            "text/plain": [
              "Graph named \u001b[32m'long_test'\u001b[0m with \u001b[1;36m20\u001b[0m nodes and \u001b[1;36m21\u001b[0m edges\n"
            ],
            "text/html": [
              "<pre style=\"white-space:pre;overflow-x:auto;line-height:normal;font-family:Menlo,'DejaVu Sans Mono',consolas,'Courier New',monospace\">Graph named <span style=\"color: #008000; text-decoration-color: #008000\">'long_test'</span> with <span style=\"color: #008080; text-decoration-color: #008080; font-weight: bold\">20</span> nodes and <span style=\"color: #008080; text-decoration-color: #008080; font-weight: bold\">21</span> edges\n",
              "</pre>\n"
            ]
          },
          "metadata": {}
        },
        {
          "output_type": "execute_result",
          "data": {
            "text/plain": [
              "<rdkit.Chem.rdchem.Mol at 0x7f12eae25f90>"
            ],
            "image/png": "[encoded data removed]"
          },
          "metadata": {},
          "execution_count": 35
        }
      ]
    },
    {
      "cell_type": "code",
      "source": [
        "gm.plotly_molecular_graph(graph)"
      ],
      "metadata": {
        "colab": {
          "base_uri": "https://localhost:8080/",
          "height": 667
        },
        "id": "VsJvi0Rjk0ND",
        "outputId": "b967a09f-795e-4476-ae4e-7938604a35a0"
      },
      "execution_count": 36,
      "outputs": [
        {
          "output_type": "display_data",
          "data": {
            "text/html": [
              "<html>\n",
              "<head><meta charset=\"utf-8\" /></head>\n",
              "<body>\n",
              "    <div>            <script src=\"https://cdnjs.cloudflare.com/ajax/libs/mathjax/2.7.5/MathJax.js?config=TeX-AMS-MML_SVG\"></script><script type=\"text/javascript\">if (window.MathJax) {MathJax.Hub.Config({SVG: {font: \"STIX-Web\"}});}</script>                <script type=\"text/javascript\">window.PlotlyConfig = {MathJaxConfig: 'local'};</script>\n",
              "        <script src=\"https://cdn.plot.ly/plotly-2.8.3.min.js\"></script>                <div id=\"0a3d0556-7b29-4c3b-99a7-feb4e22df448\" class=\"plotly-graph-div\" style=\"height:650px; width:620px;\"></div>            <script type=\"text/javascript\">                                    window.PLOTLYENV=window.PLOTLYENV || {};                                    if (document.getElementById(\"0a3d0556-7b29-4c3b-99a7-feb4e22df448\")) {                    Plotly.newPlot(                        \"0a3d0556-7b29-4c3b-99a7-feb4e22df448\",                        [{\"hoverinfo\":\"text+x+y+z\",\"marker\":{\"color\":[[0.610667,0.090204,0.619951,1.0],[0.050383,0.029803,0.527975,1.0],[0.050383,0.029803,0.527975,1.0],[0.050383,0.029803,0.527975,1.0],[0.050383,0.029803,0.527975,1.0],[0.050383,0.029803,0.527975,1.0],[0.050383,0.029803,0.527975,1.0],[0.050383,0.029803,0.527975,1.0],[0.050383,0.029803,0.527975,1.0],[0.928329,0.472975,0.326067,1.0],[0.050383,0.029803,0.527975,1.0],[0.610667,0.090204,0.619951,1.0],[0.050383,0.029803,0.527975,1.0],[0.050383,0.029803,0.527975,1.0],[0.050383,0.029803,0.527975,1.0],[0.050383,0.029803,0.527975,1.0],[0.050383,0.029803,0.527975,1.0],[0.050383,0.029803,0.527975,1.0],[0.050383,0.029803,0.527975,1.0],[0.928329,0.472975,0.326067,1.0]],\"opacity\":0.7,\"size\":[21.0,22.0,23.0,23.0,22.0,22.0,22.0,22.0,22.0,22.0,23.0,23.0,22.0,22.0,22.0,22.0,22.0,22.0,22.0,21.0],\"symbol\":\"circle\"},\"mode\":\"markers\",\"text\":[\"N:0\",\"C:1\",\"C:2\",\"C:3\",\"C:4\",\"C:5\",\"C:6\",\"C:7\",\"C:8\",\"O:9\",\"C:10\",\"N:11\",\"C:12\",\"C:13\",\"C:14\",\"C:15\",\"C:16\",\"C:17\",\"C:18\",\"O:19\"],\"x\":[0.0827,-0.2337,-0.5725,-1.9878,-3.0104,-4.3161,-4.6176,-3.6151,-2.3087,0.3185,1.5766,1.4085,2.0266,1.6039,0.6968,0.5918,2.5496,3.2834,4.2003,4.3897],\"y\":[-2.9412,-2.1602,-1.178,-0.6494,-1.0888,-0.6181,0.2938,0.738,0.2699,-0.048,-0.3002,-0.2613,-1.1143,-0.7925,0.2869,0.5945,0.7131,1.6016,2.5282,2.502],\"z\":[2.6643,1.8642,0.8083,0.9699,0.1126,0.2646,1.2738,2.1328,1.9837,0.8373,0.205,-1.2546,-2.1377,-3.409,-3.2936,-1.9555,0.742,0.0514,0.7561,1.9648],\"type\":\"scatter3d\"},{\"hoverinfo\":\"text\",\"line\":{\"color\":[[0.050383,0.029803,0.527975,1.0],[0.050383,0.029803,0.527975,1.0],[0.050383,0.029803,0.527975,1.0],[0.050383,0.029803,0.527975,1.0],[0.050383,0.029803,0.527975,1.0],[0.050383,0.029803,0.527975,1.0],[0.050383,0.029803,0.527975,1.0],[0.050383,0.029803,0.527975,1.0],[0.050383,0.029803,0.527975,1.0],[0.050383,0.029803,0.527975,1.0],[0.050383,0.029803,0.527975,1.0],[0.050383,0.029803,0.527975,1.0],[0.050383,0.029803,0.527975,1.0],[0.050383,0.029803,0.527975,1.0],[0.050383,0.029803,0.527975,1.0],[0.050383,0.029803,0.527975,1.0],[0.050383,0.029803,0.527975,1.0],[0.050383,0.029803,0.527975,1.0],[0.050383,0.029803,0.527975,1.0],[0.050383,0.029803,0.527975,1.0],[0.050383,0.029803,0.527975,1.0],[0.050383,0.029803,0.527975,1.0],[0.050383,0.029803,0.527975,1.0],[0.050383,0.029803,0.527975,1.0],[0.050383,0.029803,0.527975,1.0],[0.050383,0.029803,0.527975,1.0],[0.050383,0.029803,0.527975,1.0],[0.050383,0.029803,0.527975,1.0],[0.050383,0.029803,0.527975,1.0],[0.050383,0.029803,0.527975,1.0],[0.050383,0.029803,0.527975,1.0],[0.050383,0.029803,0.527975,1.0],[0.050383,0.029803,0.527975,1.0],[0.050383,0.029803,0.527975,1.0],[0.050383,0.029803,0.527975,1.0],[0.050383,0.029803,0.527975,1.0],[0.050383,0.029803,0.527975,1.0],[0.050383,0.029803,0.527975,1.0],[0.050383,0.029803,0.527975,1.0],[0.050383,0.029803,0.527975,1.0],[0.050383,0.029803,0.527975,1.0],[0.050383,0.029803,0.527975,1.0],[0.050383,0.029803,0.527975,1.0],[0.050383,0.029803,0.527975,1.0],[0.050383,0.029803,0.527975,1.0],[0.050383,0.029803,0.527975,1.0],[0.050383,0.029803,0.527975,1.0],[0.050383,0.029803,0.527975,1.0],[0.050383,0.029803,0.527975,1.0],[0.050383,0.029803,0.527975,1.0],[0.050383,0.029803,0.527975,1.0],[0.050383,0.029803,0.527975,1.0],[0.050383,0.029803,0.527975,1.0],[0.050383,0.029803,0.527975,1.0],[0.050383,0.029803,0.527975,1.0],[0.050383,0.029803,0.527975,1.0],[0.050383,0.029803,0.527975,1.0],[0.050383,0.029803,0.527975,1.0],[0.050383,0.029803,0.527975,1.0],[0.050383,0.029803,0.527975,1.0],[0.050383,0.029803,0.527975,1.0],[0.050383,0.029803,0.527975,1.0],[0.050383,0.029803,0.527975,1.0]],\"width\":10},\"mode\":\"lines\",\"text\":[\"bond\",\"bond\",\"bond\",\"bond\",\"bond\",\"bond\",\"bond\",\"bond\",\"bond\",\"bond\",\"bond\",\"bond\",\"bond\",\"bond\",\"bond\",\"bond\",\"bond\",\"bond\",\"bond\",\"bond\",\"bond\",\"bond\",\"bond\",\"bond\",\"bond\",\"bond\",\"bond\",\"bond\",\"bond\",\"bond\",\"bond\",\"bond\",\"bond\",\"bond\",\"bond\",\"bond\",\"bond\",\"bond\",\"bond\",\"bond\",\"bond\",\"bond\",\"bond\",\"bond\",\"bond\",\"bond\",\"bond\",\"bond\",\"bond\",\"bond\",\"bond\",\"bond\",\"bond\",\"bond\",\"bond\",\"bond\",\"bond\",\"bond\",\"bond\",\"bond\",\"bond\",\"bond\",\"bond\"],\"x\":[0.0827,-0.2337,null,-0.2337,-0.5725,null,-0.5725,-1.9878,null,-0.5725,0.3185,null,-1.9878,-3.0104,null,-1.9878,-2.3087,null,-3.0104,-4.3161,null,-4.3161,-4.6176,null,-4.6176,-3.6151,null,-3.6151,-2.3087,null,0.3185,1.5766,null,1.5766,1.4085,null,1.5766,2.5496,null,1.4085,2.0266,null,1.4085,0.5918,null,2.0266,1.6039,null,1.6039,0.6968,null,0.6968,0.5918,null,2.5496,3.2834,null,3.2834,4.2003,null,4.2003,4.3897,null],\"y\":[-2.9412,-2.1602,null,-2.1602,-1.178,null,-1.178,-0.6494,null,-1.178,-0.048,null,-0.6494,-1.0888,null,-0.6494,0.2699,null,-1.0888,-0.6181,null,-0.6181,0.2938,null,0.2938,0.738,null,0.738,0.2699,null,-0.048,-0.3002,null,-0.3002,-0.2613,null,-0.3002,0.7131,null,-0.2613,-1.1143,null,-0.2613,0.5945,null,-1.1143,-0.7925,null,-0.7925,0.2869,null,0.2869,0.5945,null,0.7131,1.6016,null,1.6016,2.5282,null,2.5282,2.502,null],\"z\":[2.6643,1.8642,null,1.8642,0.8083,null,0.8083,0.9699,null,0.8083,0.8373,null,0.9699,0.1126,null,0.9699,1.9837,null,0.1126,0.2646,null,0.2646,1.2738,null,1.2738,2.1328,null,2.1328,1.9837,null,0.8373,0.205,null,0.205,-1.2546,null,0.205,0.742,null,-1.2546,-2.1377,null,-1.2546,-1.9555,null,-2.1377,-3.409,null,-3.409,-3.2936,null,-3.2936,-1.9555,null,0.742,0.0514,null,0.0514,0.7561,null,0.7561,1.9648,null],\"type\":\"scatter3d\"}],                        {\"height\":650,\"margin\":{\"t\":100},\"scene\":{\"xaxis\":{\"showbackground\":false,\"showgrid\":false,\"showline\":false,\"showticklabels\":false,\"title\":{\"text\":\"\"},\"zeroline\":false},\"yaxis\":{\"showbackground\":false,\"showgrid\":false,\"showline\":false,\"showticklabels\":false,\"title\":{\"text\":\"\"},\"zeroline\":false},\"zaxis\":{\"showbackground\":false,\"showgrid\":false,\"showline\":false,\"showticklabels\":false,\"title\":{\"text\":\"\"},\"zeroline\":false}},\"showlegend\":false,\"width\":620,\"template\":{\"data\":{\"bar\":[{\"error_x\":{\"color\":\"#2a3f5f\"},\"error_y\":{\"color\":\"#2a3f5f\"},\"marker\":{\"line\":{\"color\":\"#E5ECF6\",\"width\":0.5},\"pattern\":{\"fillmode\":\"overlay\",\"size\":10,\"solidity\":0.2}},\"type\":\"bar\"}],\"barpolar\":[{\"marker\":{\"line\":{\"color\":\"#E5ECF6\",\"width\":0.5},\"pattern\":{\"fillmode\":\"overlay\",\"size\":10,\"solidity\":0.2}},\"type\":\"barpolar\"}],\"carpet\":[{\"aaxis\":{\"endlinecolor\":\"#2a3f5f\",\"gridcolor\":\"white\",\"linecolor\":\"white\",\"minorgridcolor\":\"white\",\"startlinecolor\":\"#2a3f5f\"},\"baxis\":{\"endlinecolor\":\"#2a3f5f\",\"gridcolor\":\"white\",\"linecolor\":\"white\",\"minorgridcolor\":\"white\",\"startlinecolor\":\"#2a3f5f\"},\"type\":\"carpet\"}],\"choropleth\":[{\"colorbar\":{\"outlinewidth\":0,\"ticks\":\"\"},\"type\":\"choropleth\"}],\"contour\":[{\"colorbar\":{\"outlinewidth\":0,\"ticks\":\"\"},\"colorscale\":[[0.0,\"#0d0887\"],[0.1111111111111111,\"#46039f\"],[0.2222222222222222,\"#7201a8\"],[0.3333333333333333,\"#9c179e\"],[0.4444444444444444,\"#bd3786\"],[0.5555555555555556,\"#d8576b\"],[0.6666666666666666,\"#ed7953\"],[0.7777777777777778,\"#fb9f3a\"],[0.8888888888888888,\"#fdca26\"],[1.0,\"#f0f921\"]],\"type\":\"contour\"}],\"contourcarpet\":[{\"colorbar\":{\"outlinewidth\":0,\"ticks\":\"\"},\"type\":\"contourcarpet\"}],\"heatmap\":[{\"colorbar\":{\"outlinewidth\":0,\"ticks\":\"\"},\"colorscale\":[[0.0,\"#0d0887\"],[0.1111111111111111,\"#46039f\"],[0.2222222222222222,\"#7201a8\"],[0.3333333333333333,\"#9c179e\"],[0.4444444444444444,\"#bd3786\"],[0.5555555555555556,\"#d8576b\"],[0.6666666666666666,\"#ed7953\"],[0.7777777777777778,\"#fb9f3a\"],[0.8888888888888888,\"#fdca26\"],[1.0,\"#f0f921\"]],\"type\":\"heatmap\"}],\"heatmapgl\":[{\"colorbar\":{\"outlinewidth\":0,\"ticks\":\"\"},\"colorscale\":[[0.0,\"#0d0887\"],[0.1111111111111111,\"#46039f\"],[0.2222222222222222,\"#7201a8\"],[0.3333333333333333,\"#9c179e\"],[0.4444444444444444,\"#bd3786\"],[0.5555555555555556,\"#d8576b\"],[0.6666666666666666,\"#ed7953\"],[0.7777777777777778,\"#fb9f3a\"],[0.8888888888888888,\"#fdca26\"],[1.0,\"#f0f921\"]],\"type\":\"heatmapgl\"}],\"histogram\":[{\"marker\":{\"pattern\":{\"fillmode\":\"overlay\",\"size\":10,\"solidity\":0.2}},\"type\":\"histogram\"}],\"histogram2d\":[{\"colorbar\":{\"outlinewidth\":0,\"ticks\":\"\"},\"colorscale\":[[0.0,\"#0d0887\"],[0.1111111111111111,\"#46039f\"],[0.2222222222222222,\"#7201a8\"],[0.3333333333333333,\"#9c179e\"],[0.4444444444444444,\"#bd3786\"],[0.5555555555555556,\"#d8576b\"],[0.6666666666666666,\"#ed7953\"],[0.7777777777777778,\"#fb9f3a\"],[0.8888888888888888,\"#fdca26\"],[1.0,\"#f0f921\"]],\"type\":\"histogram2d\"}],\"histogram2dcontour\":[{\"colorbar\":{\"outlinewidth\":0,\"ticks\":\"\"},\"colorscale\":[[0.0,\"#0d0887\"],[0.1111111111111111,\"#46039f\"],[0.2222222222222222,\"#7201a8\"],[0.3333333333333333,\"#9c179e\"],[0.4444444444444444,\"#bd3786\"],[0.5555555555555556,\"#d8576b\"],[0.6666666666666666,\"#ed7953\"],[0.7777777777777778,\"#fb9f3a\"],[0.8888888888888888,\"#fdca26\"],[1.0,\"#f0f921\"]],\"type\":\"histogram2dcontour\"}],\"mesh3d\":[{\"colorbar\":{\"outlinewidth\":0,\"ticks\":\"\"},\"type\":\"mesh3d\"}],\"parcoords\":[{\"line\":{\"colorbar\":{\"outlinewidth\":0,\"ticks\":\"\"}},\"type\":\"parcoords\"}],\"pie\":[{\"automargin\":true,\"type\":\"pie\"}],\"scatter\":[{\"marker\":{\"colorbar\":{\"outlinewidth\":0,\"ticks\":\"\"}},\"type\":\"scatter\"}],\"scatter3d\":[{\"line\":{\"colorbar\":{\"outlinewidth\":0,\"ticks\":\"\"}},\"marker\":{\"colorbar\":{\"outlinewidth\":0,\"ticks\":\"\"}},\"type\":\"scatter3d\"}],\"scattercarpet\":[{\"marker\":{\"colorbar\":{\"outlinewidth\":0,\"ticks\":\"\"}},\"type\":\"scattercarpet\"}],\"scattergeo\":[{\"marker\":{\"colorbar\":{\"outlinewidth\":0,\"ticks\":\"\"}},\"type\":\"scattergeo\"}],\"scattergl\":[{\"marker\":{\"colorbar\":{\"outlinewidth\":0,\"ticks\":\"\"}},\"type\":\"scattergl\"}],\"scattermapbox\":[{\"marker\":{\"colorbar\":{\"outlinewidth\":0,\"ticks\":\"\"}},\"type\":\"scattermapbox\"}],\"scatterpolar\":[{\"marker\":{\"colorbar\":{\"outlinewidth\":0,\"ticks\":\"\"}},\"type\":\"scatterpolar\"}],\"scatterpolargl\":[{\"marker\":{\"colorbar\":{\"outlinewidth\":0,\"ticks\":\"\"}},\"type\":\"scatterpolargl\"}],\"scatterternary\":[{\"marker\":{\"colorbar\":{\"outlinewidth\":0,\"ticks\":\"\"}},\"type\":\"scatterternary\"}],\"surface\":[{\"colorbar\":{\"outlinewidth\":0,\"ticks\":\"\"},\"colorscale\":[[0.0,\"#0d0887\"],[0.1111111111111111,\"#46039f\"],[0.2222222222222222,\"#7201a8\"],[0.3333333333333333,\"#9c179e\"],[0.4444444444444444,\"#bd3786\"],[0.5555555555555556,\"#d8576b\"],[0.6666666666666666,\"#ed7953\"],[0.7777777777777778,\"#fb9f3a\"],[0.8888888888888888,\"#fdca26\"],[1.0,\"#f0f921\"]],\"type\":\"surface\"}],\"table\":[{\"cells\":{\"fill\":{\"color\":\"#EBF0F8\"},\"line\":{\"color\":\"white\"}},\"header\":{\"fill\":{\"color\":\"#C8D4E3\"},\"line\":{\"color\":\"white\"}},\"type\":\"table\"}]},\"layout\":{\"annotationdefaults\":{\"arrowcolor\":\"#2a3f5f\",\"arrowhead\":0,\"arrowwidth\":1},\"autotypenumbers\":\"strict\",\"coloraxis\":{\"colorbar\":{\"outlinewidth\":0,\"ticks\":\"\"}},\"colorscale\":{\"diverging\":[[0,\"#8e0152\"],[0.1,\"#c51b7d\"],[0.2,\"#de77ae\"],[0.3,\"#f1b6da\"],[0.4,\"#fde0ef\"],[0.5,\"#f7f7f7\"],[0.6,\"#e6f5d0\"],[0.7,\"#b8e186\"],[0.8,\"#7fbc41\"],[0.9,\"#4d9221\"],[1,\"#276419\"]],\"sequential\":[[0.0,\"#0d0887\"],[0.1111111111111111,\"#46039f\"],[0.2222222222222222,\"#7201a8\"],[0.3333333333333333,\"#9c179e\"],[0.4444444444444444,\"#bd3786\"],[0.5555555555555556,\"#d8576b\"],[0.6666666666666666,\"#ed7953\"],[0.7777777777777778,\"#fb9f3a\"],[0.8888888888888888,\"#fdca26\"],[1.0,\"#f0f921\"]],\"sequentialminus\":[[0.0,\"#0d0887\"],[0.1111111111111111,\"#46039f\"],[0.2222222222222222,\"#7201a8\"],[0.3333333333333333,\"#9c179e\"],[0.4444444444444444,\"#bd3786\"],[0.5555555555555556,\"#d8576b\"],[0.6666666666666666,\"#ed7953\"],[0.7777777777777778,\"#fb9f3a\"],[0.8888888888888888,\"#fdca26\"],[1.0,\"#f0f921\"]]},\"colorway\":[\"#636efa\",\"#EF553B\",\"#00cc96\",\"#ab63fa\",\"#FFA15A\",\"#19d3f3\",\"#FF6692\",\"#B6E880\",\"#FF97FF\",\"#FECB52\"],\"font\":{\"color\":\"#2a3f5f\"},\"geo\":{\"bgcolor\":\"white\",\"lakecolor\":\"white\",\"landcolor\":\"#E5ECF6\",\"showlakes\":true,\"showland\":true,\"subunitcolor\":\"white\"},\"hoverlabel\":{\"align\":\"left\"},\"hovermode\":\"closest\",\"mapbox\":{\"style\":\"light\"},\"paper_bgcolor\":\"white\",\"plot_bgcolor\":\"#E5ECF6\",\"polar\":{\"angularaxis\":{\"gridcolor\":\"white\",\"linecolor\":\"white\",\"ticks\":\"\"},\"bgcolor\":\"#E5ECF6\",\"radialaxis\":{\"gridcolor\":\"white\",\"linecolor\":\"white\",\"ticks\":\"\"}},\"scene\":{\"xaxis\":{\"backgroundcolor\":\"#E5ECF6\",\"gridcolor\":\"white\",\"gridwidth\":2,\"linecolor\":\"white\",\"showbackground\":true,\"ticks\":\"\",\"zerolinecolor\":\"white\"},\"yaxis\":{\"backgroundcolor\":\"#E5ECF6\",\"gridcolor\":\"white\",\"gridwidth\":2,\"linecolor\":\"white\",\"showbackground\":true,\"ticks\":\"\",\"zerolinecolor\":\"white\"},\"zaxis\":{\"backgroundcolor\":\"#E5ECF6\",\"gridcolor\":\"white\",\"gridwidth\":2,\"linecolor\":\"white\",\"showbackground\":true,\"ticks\":\"\",\"zerolinecolor\":\"white\"}},\"shapedefaults\":{\"line\":{\"color\":\"#2a3f5f\"}},\"ternary\":{\"aaxis\":{\"gridcolor\":\"white\",\"linecolor\":\"white\",\"ticks\":\"\"},\"baxis\":{\"gridcolor\":\"white\",\"linecolor\":\"white\",\"ticks\":\"\"},\"bgcolor\":\"#E5ECF6\",\"caxis\":{\"gridcolor\":\"white\",\"linecolor\":\"white\",\"ticks\":\"\"}},\"title\":{\"x\":0.05},\"xaxis\":{\"automargin\":true,\"gridcolor\":\"white\",\"linecolor\":\"white\",\"ticks\":\"\",\"title\":{\"standoff\":15},\"zerolinecolor\":\"white\",\"zerolinewidth\":2},\"yaxis\":{\"automargin\":true,\"gridcolor\":\"white\",\"linecolor\":\"white\",\"ticks\":\"\",\"title\":{\"standoff\":15},\"zerolinecolor\":\"white\",\"zerolinewidth\":2}}}},                        {\"responsive\": true}                    ).then(function(){\n",
              "                            \n",
              "var gd = document.getElementById('0a3d0556-7b29-4c3b-99a7-feb4e22df448');\n",
              "var x = new MutationObserver(function (mutations, observer) {{\n",
              "        var display = window.getComputedStyle(gd).display;\n",
              "        if (!display || display === 'none') {{\n",
              "            console.log([gd, 'removed!']);\n",
              "            Plotly.purge(gd);\n",
              "            observer.disconnect();\n",
              "        }}\n",
              "}});\n",
              "\n",
              "// Listen for the removal of the full notebook cells\n",
              "var notebookContainer = gd.closest('#notebook-container');\n",
              "if (notebookContainer) {{\n",
              "    x.observe(notebookContainer, {childList: true});\n",
              "}}\n",
              "\n",
              "// Listen for the clearing of the current output cell\n",
              "var outputEl = gd.closest('.output');\n",
              "if (outputEl) {{\n",
              "    x.observe(outputEl, {childList: true});\n",
              "}}\n",
              "\n",
              "                        })                };                            </script>        </div>\n",
              "</body>\n",
              "</html>"
            ]
          },
          "metadata": {}
        }
      ]
    },
    {
      "cell_type": "code",
      "source": [
        "graph = gm.construct_graph(path=\"/content/graphein/tests/molecule/test_data/short_test.mol2\", config=config)\n",
        "print(graph)\n",
        "graph.graph[\"rdmol\"]"
      ],
      "metadata": {
        "colab": {
          "base_uri": "https://localhost:8080/",
          "height": 183
        },
        "id": "LsNPraMQlEAk",
        "outputId": "47a12653-9d8f-4a8f-9b47-516a554d96c1"
      },
      "execution_count": 38,
      "outputs": [
        {
          "output_type": "display_data",
          "data": {
            "text/plain": [
              "Graph named \u001b[32m'short_test'\u001b[0m with \u001b[1;36m3\u001b[0m nodes and \u001b[1;36m2\u001b[0m edges\n"
            ],
            "text/html": [
              "<pre style=\"white-space:pre;overflow-x:auto;line-height:normal;font-family:Menlo,'DejaVu Sans Mono',consolas,'Courier New',monospace\">Graph named <span style=\"color: #008000; text-decoration-color: #008000\">'short_test'</span> with <span style=\"color: #008080; text-decoration-color: #008080; font-weight: bold\">3</span> nodes and <span style=\"color: #008080; text-decoration-color: #008080; font-weight: bold\">2</span> edges\n",
              "</pre>\n"
            ]
          },
          "metadata": {}
        },
        {
          "output_type": "execute_result",
          "data": {
            "text/plain": [
              "<rdkit.Chem.rdchem.Mol at 0x7f12eab17cf0>"
            ],
            "image/png": "[encoded data removed]"
          },
          "metadata": {},
          "execution_count": 38
        }
      ]
    },
    {
      "cell_type": "code",
      "source": [
        "gm.plotly_molecular_graph(graph)"
      ],
      "metadata": {
        "colab": {
          "base_uri": "https://localhost:8080/",
          "height": 667
        },
        "id": "XQ1p56AUlL_7",
        "outputId": "882ba0c6-5230-4887-e9a7-fd28ca6fbf81"
      },
      "execution_count": 39,
      "outputs": [
        {
          "output_type": "display_data",
          "data": {
            "text/html": [
              "<html>\n",
              "<head><meta charset=\"utf-8\" /></head>\n",
              "<body>\n",
              "    <div>            <script src=\"https://cdnjs.cloudflare.com/ajax/libs/mathjax/2.7.5/MathJax.js?config=TeX-AMS-MML_SVG\"></script><script type=\"text/javascript\">if (window.MathJax) {MathJax.Hub.Config({SVG: {font: \"STIX-Web\"}});}</script>                <script type=\"text/javascript\">window.PlotlyConfig = {MathJaxConfig: 'local'};</script>\n",
              "        <script src=\"https://cdn.plot.ly/plotly-2.8.3.min.js\"></script>                <div id=\"5947f3b2-3d2b-40ad-9176-ad53e954b1df\" class=\"plotly-graph-div\" style=\"height:650px; width:620px;\"></div>            <script type=\"text/javascript\">                                    window.PLOTLYENV=window.PLOTLYENV || {};                                    if (document.getElementById(\"5947f3b2-3d2b-40ad-9176-ad53e954b1df\")) {                    Plotly.newPlot(                        \"5947f3b2-3d2b-40ad-9176-ad53e954b1df\",                        [{\"hoverinfo\":\"text+x+y+z\",\"marker\":{\"color\":[[0.050383,0.029803,0.527975,1.0],[0.050383,0.029803,0.527975,1.0],[0.798216,0.280197,0.469538,1.0]],\"opacity\":0.7,\"size\":[21.0,22.0,21.0],\"symbol\":\"circle\"},\"mode\":\"markers\",\"text\":[\"C:0\",\"C:1\",\"N:2\"],\"x\":[0.9862,-0.2052,-1.4201],\"y\":[-0.257,0.2236,0.2357],\"z\":[-0.1905,0.6206,-0.1847],\"type\":\"scatter3d\"},{\"hoverinfo\":\"text\",\"line\":{\"color\":[[0.050383,0.029803,0.527975,1.0],[0.050383,0.029803,0.527975,1.0],[0.050383,0.029803,0.527975,1.0],[0.050383,0.029803,0.527975,1.0],[0.050383,0.029803,0.527975,1.0],[0.050383,0.029803,0.527975,1.0]],\"width\":10},\"mode\":\"lines\",\"text\":[\"bond\",\"bond\",\"bond\",\"bond\",\"bond\",\"bond\"],\"x\":[0.9862,-0.2052,null,-0.2052,-1.4201,null],\"y\":[-0.257,0.2236,null,0.2236,0.2357,null],\"z\":[-0.1905,0.6206,null,0.6206,-0.1847,null],\"type\":\"scatter3d\"}],                        {\"height\":650,\"margin\":{\"t\":100},\"scene\":{\"xaxis\":{\"showbackground\":false,\"showgrid\":false,\"showline\":false,\"showticklabels\":false,\"title\":{\"text\":\"\"},\"zeroline\":false},\"yaxis\":{\"showbackground\":false,\"showgrid\":false,\"showline\":false,\"showticklabels\":false,\"title\":{\"text\":\"\"},\"zeroline\":false},\"zaxis\":{\"showbackground\":false,\"showgrid\":false,\"showline\":false,\"showticklabels\":false,\"title\":{\"text\":\"\"},\"zeroline\":false}},\"showlegend\":false,\"width\":620,\"template\":{\"data\":{\"bar\":[{\"error_x\":{\"color\":\"#2a3f5f\"},\"error_y\":{\"color\":\"#2a3f5f\"},\"marker\":{\"line\":{\"color\":\"#E5ECF6\",\"width\":0.5},\"pattern\":{\"fillmode\":\"overlay\",\"size\":10,\"solidity\":0.2}},\"type\":\"bar\"}],\"barpolar\":[{\"marker\":{\"line\":{\"color\":\"#E5ECF6\",\"width\":0.5},\"pattern\":{\"fillmode\":\"overlay\",\"size\":10,\"solidity\":0.2}},\"type\":\"barpolar\"}],\"carpet\":[{\"aaxis\":{\"endlinecolor\":\"#2a3f5f\",\"gridcolor\":\"white\",\"linecolor\":\"white\",\"minorgridcolor\":\"white\",\"startlinecolor\":\"#2a3f5f\"},\"baxis\":{\"endlinecolor\":\"#2a3f5f\",\"gridcolor\":\"white\",\"linecolor\":\"white\",\"minorgridcolor\":\"white\",\"startlinecolor\":\"#2a3f5f\"},\"type\":\"carpet\"}],\"choropleth\":[{\"colorbar\":{\"outlinewidth\":0,\"ticks\":\"\"},\"type\":\"choropleth\"}],\"contour\":[{\"colorbar\":{\"outlinewidth\":0,\"ticks\":\"\"},\"colorscale\":[[0.0,\"#0d0887\"],[0.1111111111111111,\"#46039f\"],[0.2222222222222222,\"#7201a8\"],[0.3333333333333333,\"#9c179e\"],[0.4444444444444444,\"#bd3786\"],[0.5555555555555556,\"#d8576b\"],[0.6666666666666666,\"#ed7953\"],[0.7777777777777778,\"#fb9f3a\"],[0.8888888888888888,\"#fdca26\"],[1.0,\"#f0f921\"]],\"type\":\"contour\"}],\"contourcarpet\":[{\"colorbar\":{\"outlinewidth\":0,\"ticks\":\"\"},\"type\":\"contourcarpet\"}],\"heatmap\":[{\"colorbar\":{\"outlinewidth\":0,\"ticks\":\"\"},\"colorscale\":[[0.0,\"#0d0887\"],[0.1111111111111111,\"#46039f\"],[0.2222222222222222,\"#7201a8\"],[0.3333333333333333,\"#9c179e\"],[0.4444444444444444,\"#bd3786\"],[0.5555555555555556,\"#d8576b\"],[0.6666666666666666,\"#ed7953\"],[0.7777777777777778,\"#fb9f3a\"],[0.8888888888888888,\"#fdca26\"],[1.0,\"#f0f921\"]],\"type\":\"heatmap\"}],\"heatmapgl\":[{\"colorbar\":{\"outlinewidth\":0,\"ticks\":\"\"},\"colorscale\":[[0.0,\"#0d0887\"],[0.1111111111111111,\"#46039f\"],[0.2222222222222222,\"#7201a8\"],[0.3333333333333333,\"#9c179e\"],[0.4444444444444444,\"#bd3786\"],[0.5555555555555556,\"#d8576b\"],[0.6666666666666666,\"#ed7953\"],[0.7777777777777778,\"#fb9f3a\"],[0.8888888888888888,\"#fdca26\"],[1.0,\"#f0f921\"]],\"type\":\"heatmapgl\"}],\"histogram\":[{\"marker\":{\"pattern\":{\"fillmode\":\"overlay\",\"size\":10,\"solidity\":0.2}},\"type\":\"histogram\"}],\"histogram2d\":[{\"colorbar\":{\"outlinewidth\":0,\"ticks\":\"\"},\"colorscale\":[[0.0,\"#0d0887\"],[0.1111111111111111,\"#46039f\"],[0.2222222222222222,\"#7201a8\"],[0.3333333333333333,\"#9c179e\"],[0.4444444444444444,\"#bd3786\"],[0.5555555555555556,\"#d8576b\"],[0.6666666666666666,\"#ed7953\"],[0.7777777777777778,\"#fb9f3a\"],[0.8888888888888888,\"#fdca26\"],[1.0,\"#f0f921\"]],\"type\":\"histogram2d\"}],\"histogram2dcontour\":[{\"colorbar\":{\"outlinewidth\":0,\"ticks\":\"\"},\"colorscale\":[[0.0,\"#0d0887\"],[0.1111111111111111,\"#46039f\"],[0.2222222222222222,\"#7201a8\"],[0.3333333333333333,\"#9c179e\"],[0.4444444444444444,\"#bd3786\"],[0.5555555555555556,\"#d8576b\"],[0.6666666666666666,\"#ed7953\"],[0.7777777777777778,\"#fb9f3a\"],[0.8888888888888888,\"#fdca26\"],[1.0,\"#f0f921\"]],\"type\":\"histogram2dcontour\"}],\"mesh3d\":[{\"colorbar\":{\"outlinewidth\":0,\"ticks\":\"\"},\"type\":\"mesh3d\"}],\"parcoords\":[{\"line\":{\"colorbar\":{\"outlinewidth\":0,\"ticks\":\"\"}},\"type\":\"parcoords\"}],\"pie\":[{\"automargin\":true,\"type\":\"pie\"}],\"scatter\":[{\"marker\":{\"colorbar\":{\"outlinewidth\":0,\"ticks\":\"\"}},\"type\":\"scatter\"}],\"scatter3d\":[{\"line\":{\"colorbar\":{\"outlinewidth\":0,\"ticks\":\"\"}},\"marker\":{\"colorbar\":{\"outlinewidth\":0,\"ticks\":\"\"}},\"type\":\"scatter3d\"}],\"scattercarpet\":[{\"marker\":{\"colorbar\":{\"outlinewidth\":0,\"ticks\":\"\"}},\"type\":\"scattercarpet\"}],\"scattergeo\":[{\"marker\":{\"colorbar\":{\"outlinewidth\":0,\"ticks\":\"\"}},\"type\":\"scattergeo\"}],\"scattergl\":[{\"marker\":{\"colorbar\":{\"outlinewidth\":0,\"ticks\":\"\"}},\"type\":\"scattergl\"}],\"scattermapbox\":[{\"marker\":{\"colorbar\":{\"outlinewidth\":0,\"ticks\":\"\"}},\"type\":\"scattermapbox\"}],\"scatterpolar\":[{\"marker\":{\"colorbar\":{\"outlinewidth\":0,\"ticks\":\"\"}},\"type\":\"scatterpolar\"}],\"scatterpolargl\":[{\"marker\":{\"colorbar\":{\"outlinewidth\":0,\"ticks\":\"\"}},\"type\":\"scatterpolargl\"}],\"scatterternary\":[{\"marker\":{\"colorbar\":{\"outlinewidth\":0,\"ticks\":\"\"}},\"type\":\"scatterternary\"}],\"surface\":[{\"colorbar\":{\"outlinewidth\":0,\"ticks\":\"\"},\"colorscale\":[[0.0,\"#0d0887\"],[0.1111111111111111,\"#46039f\"],[0.2222222222222222,\"#7201a8\"],[0.3333333333333333,\"#9c179e\"],[0.4444444444444444,\"#bd3786\"],[0.5555555555555556,\"#d8576b\"],[0.6666666666666666,\"#ed7953\"],[0.7777777777777778,\"#fb9f3a\"],[0.8888888888888888,\"#fdca26\"],[1.0,\"#f0f921\"]],\"type\":\"surface\"}],\"table\":[{\"cells\":{\"fill\":{\"color\":\"#EBF0F8\"},\"line\":{\"color\":\"white\"}},\"header\":{\"fill\":{\"color\":\"#C8D4E3\"},\"line\":{\"color\":\"white\"}},\"type\":\"table\"}]},\"layout\":{\"annotationdefaults\":{\"arrowcolor\":\"#2a3f5f\",\"arrowhead\":0,\"arrowwidth\":1},\"autotypenumbers\":\"strict\",\"coloraxis\":{\"colorbar\":{\"outlinewidth\":0,\"ticks\":\"\"}},\"colorscale\":{\"diverging\":[[0,\"#8e0152\"],[0.1,\"#c51b7d\"],[0.2,\"#de77ae\"],[0.3,\"#f1b6da\"],[0.4,\"#fde0ef\"],[0.5,\"#f7f7f7\"],[0.6,\"#e6f5d0\"],[0.7,\"#b8e186\"],[0.8,\"#7fbc41\"],[0.9,\"#4d9221\"],[1,\"#276419\"]],\"sequential\":[[0.0,\"#0d0887\"],[0.1111111111111111,\"#46039f\"],[0.2222222222222222,\"#7201a8\"],[0.3333333333333333,\"#9c179e\"],[0.4444444444444444,\"#bd3786\"],[0.5555555555555556,\"#d8576b\"],[0.6666666666666666,\"#ed7953\"],[0.7777777777777778,\"#fb9f3a\"],[0.8888888888888888,\"#fdca26\"],[1.0,\"#f0f921\"]],\"sequentialminus\":[[0.0,\"#0d0887\"],[0.1111111111111111,\"#46039f\"],[0.2222222222222222,\"#7201a8\"],[0.3333333333333333,\"#9c179e\"],[0.4444444444444444,\"#bd3786\"],[0.5555555555555556,\"#d8576b\"],[0.6666666666666666,\"#ed7953\"],[0.7777777777777778,\"#fb9f3a\"],[0.8888888888888888,\"#fdca26\"],[1.0,\"#f0f921\"]]},\"colorway\":[\"#636efa\",\"#EF553B\",\"#00cc96\",\"#ab63fa\",\"#FFA15A\",\"#19d3f3\",\"#FF6692\",\"#B6E880\",\"#FF97FF\",\"#FECB52\"],\"font\":{\"color\":\"#2a3f5f\"},\"geo\":{\"bgcolor\":\"white\",\"lakecolor\":\"white\",\"landcolor\":\"#E5ECF6\",\"showlakes\":true,\"showland\":true,\"subunitcolor\":\"white\"},\"hoverlabel\":{\"align\":\"left\"},\"hovermode\":\"closest\",\"mapbox\":{\"style\":\"light\"},\"paper_bgcolor\":\"white\",\"plot_bgcolor\":\"#E5ECF6\",\"polar\":{\"angularaxis\":{\"gridcolor\":\"white\",\"linecolor\":\"white\",\"ticks\":\"\"},\"bgcolor\":\"#E5ECF6\",\"radialaxis\":{\"gridcolor\":\"white\",\"linecolor\":\"white\",\"ticks\":\"\"}},\"scene\":{\"xaxis\":{\"backgroundcolor\":\"#E5ECF6\",\"gridcolor\":\"white\",\"gridwidth\":2,\"linecolor\":\"white\",\"showbackground\":true,\"ticks\":\"\",\"zerolinecolor\":\"white\"},\"yaxis\":{\"backgroundcolor\":\"#E5ECF6\",\"gridcolor\":\"white\",\"gridwidth\":2,\"linecolor\":\"white\",\"showbackground\":true,\"ticks\":\"\",\"zerolinecolor\":\"white\"},\"zaxis\":{\"backgroundcolor\":\"#E5ECF6\",\"gridcolor\":\"white\",\"gridwidth\":2,\"linecolor\":\"white\",\"showbackground\":true,\"ticks\":\"\",\"zerolinecolor\":\"white\"}},\"shapedefaults\":{\"line\":{\"color\":\"#2a3f5f\"}},\"ternary\":{\"aaxis\":{\"gridcolor\":\"white\",\"linecolor\":\"white\",\"ticks\":\"\"},\"baxis\":{\"gridcolor\":\"white\",\"linecolor\":\"white\",\"ticks\":\"\"},\"bgcolor\":\"#E5ECF6\",\"caxis\":{\"gridcolor\":\"white\",\"linecolor\":\"white\",\"ticks\":\"\"}},\"title\":{\"x\":0.05},\"xaxis\":{\"automargin\":true,\"gridcolor\":\"white\",\"linecolor\":\"white\",\"ticks\":\"\",\"title\":{\"standoff\":15},\"zerolinecolor\":\"white\",\"zerolinewidth\":2},\"yaxis\":{\"automargin\":true,\"gridcolor\":\"white\",\"linecolor\":\"white\",\"ticks\":\"\",\"title\":{\"standoff\":15},\"zerolinecolor\":\"white\",\"zerolinewidth\":2}}}},                        {\"responsive\": true}                    ).then(function(){\n",
              "                            \n",
              "var gd = document.getElementById('5947f3b2-3d2b-40ad-9176-ad53e954b1df');\n",
              "var x = new MutationObserver(function (mutations, observer) {{\n",
              "        var display = window.getComputedStyle(gd).display;\n",
              "        if (!display || display === 'none') {{\n",
              "            console.log([gd, 'removed!']);\n",
              "            Plotly.purge(gd);\n",
              "            observer.disconnect();\n",
              "        }}\n",
              "}});\n",
              "\n",
              "// Listen for the removal of the full notebook cells\n",
              "var notebookContainer = gd.closest('#notebook-container');\n",
              "if (notebookContainer) {{\n",
              "    x.observe(notebookContainer, {childList: true});\n",
              "}}\n",
              "\n",
              "// Listen for the clearing of the current output cell\n",
              "var outputEl = gd.closest('.output');\n",
              "if (outputEl) {{\n",
              "    x.observe(outputEl, {childList: true});\n",
              "}}\n",
              "\n",
              "                        })                };                            </script>        </div>\n",
              "</body>\n",
              "</html>"
            ]
          },
          "metadata": {}
        }
      ]
    },
    {
      "cell_type": "code",
      "source": [
        "from functools import partial\n",
        "\n",
        "config = gm.MoleculeGraphConfig(\n",
        "    node_metadata_functions=[\n",
        "        gm.atom_type_one_hot,\n",
        "        gm.atomic_mass,\n",
        "        gm.degree,\n",
        "        gm.total_degree,\n",
        "        gm.total_valence,\n",
        "        gm.explicit_valence,\n",
        "        gm.implicit_valence,\n",
        "        gm.num_explicit_h,\n",
        "        gm.num_implicit_h,\n",
        "        gm.total_num_h,\n",
        "        gm.num_radical_electrons,\n",
        "        gm.formal_charge,\n",
        "        gm.hybridization,\n",
        "        gm.is_aromatic,\n",
        "        gm.is_isotope,\n",
        "        gm.is_ring,\n",
        "        gm.chiral_tag,\n",
        "        partial(gm.is_ring_size, ring_size=5),\n",
        "        partial(gm.is_ring_size, ring_size=7)\n",
        "    ]\n",
        ")\n",
        "graph = gm.construct_graph(path=\"/content/graphein/tests/molecule/test_data/short_test.mol2\", config=config)\n",
        "\n",
        "for n, d in graph.nodes(data=True):\n",
        "    print(d)"
      ],
      "metadata": {
        "colab": {
          "base_uri": "https://localhost:8080/",
          "height": 1000
        },
        "id": "spcx4yOXlMr7",
        "outputId": "b96ac426-c790-4381-d137-82225f0bd03e"
      },
      "execution_count": 41,
      "outputs": [
        {
          "output_type": "display_data",
          "data": {
            "text/plain": [
              "\u001b[1m{\u001b[0m\n",
              "    \u001b[32m'atomic_num'\u001b[0m: \u001b[1;36m6\u001b[0m,\n",
              "    \u001b[32m'element'\u001b[0m: \u001b[32m'C'\u001b[0m,\n",
              "    \u001b[32m'rdmol_atom'\u001b[0m: \u001b[1m<\u001b[0m\u001b[1;95mrdkit.Chem.rdchem.Atom\u001b[0m\u001b[39m object at \u001b[0m\u001b[1;36m0x7f12eaad19e0\u001b[0m\u001b[1m>\u001b[0m,\n",
              "    \u001b[32m'coords'\u001b[0m: \u001b[1;35marray\u001b[0m\u001b[1m(\u001b[0m\u001b[1m[\u001b[0m \u001b[1;36m0.9862\u001b[0m, \u001b[1;36m-0.257\u001b[0m , \u001b[1;36m-0.1905\u001b[0m\u001b[1m]\u001b[0m\u001b[1m)\u001b[0m,\n",
              "    \u001b[32m'atom_type_one_hot'\u001b[0m: \u001b[1;35marray\u001b[0m\u001b[1m(\u001b[0m\u001b[1m[\u001b[0m\u001b[1;36m1\u001b[0m, \u001b[1;36m0\u001b[0m, \u001b[1;36m0\u001b[0m, \u001b[1;36m0\u001b[0m, \u001b[1;36m0\u001b[0m, \u001b[1;36m0\u001b[0m, \u001b[1;36m0\u001b[0m, \u001b[1;36m0\u001b[0m, \u001b[1;36m0\u001b[0m, \u001b[1;36m0\u001b[0m, \u001b[1;36m0\u001b[0m\u001b[1m]\u001b[0m\u001b[1m)\u001b[0m,\n",
              "    \u001b[32m'mass'\u001b[0m: \u001b[1;36m12.011\u001b[0m,\n",
              "    \u001b[32m'degree'\u001b[0m: \u001b[1;36m1\u001b[0m,\n",
              "    \u001b[32m'total_degree'\u001b[0m: \u001b[1;36m4\u001b[0m,\n",
              "    \u001b[32m'total_valence'\u001b[0m: \u001b[1;36m4\u001b[0m,\n",
              "    \u001b[32m'explicit_valence'\u001b[0m: \u001b[1;36m4\u001b[0m,\n",
              "    \u001b[32m'implicit_valence'\u001b[0m: \u001b[1;36m0\u001b[0m,\n",
              "    \u001b[32m'num_explicit_h'\u001b[0m: \u001b[1;36m3\u001b[0m,\n",
              "    \u001b[32m'num_implicit_h'\u001b[0m: \u001b[1;36m0\u001b[0m,\n",
              "    \u001b[32m'total_num_h'\u001b[0m: \u001b[1;36m3\u001b[0m,\n",
              "    \u001b[32m'num_radical_electrons'\u001b[0m: \u001b[1;36m0\u001b[0m,\n",
              "    \u001b[32m'formal_charge'\u001b[0m: \u001b[1;36m0\u001b[0m,\n",
              "    \u001b[32m'hybridization'\u001b[0m: rdkit.Chem.rdchem.HybridizationType.SP3,\n",
              "    \u001b[32m'is_aromatic'\u001b[0m: \u001b[3;91mFalse\u001b[0m,\n",
              "    \u001b[32m'is_isotope'\u001b[0m: \u001b[1;36m0\u001b[0m,\n",
              "    \u001b[32m'is_ring'\u001b[0m: \u001b[3;91mFalse\u001b[0m,\n",
              "    \u001b[32m'chiral_tag'\u001b[0m: rdkit.Chem.rdchem.ChiralType.CHI_UNSPECIFIED,\n",
              "    \u001b[32m'is_ring_5'\u001b[0m: \u001b[3;91mFalse\u001b[0m,\n",
              "    \u001b[32m'is_ring_7'\u001b[0m: \u001b[3;91mFalse\u001b[0m\n",
              "\u001b[1m}\u001b[0m\n"
            ],
            "text/html": [
              "<pre style=\"white-space:pre;overflow-x:auto;line-height:normal;font-family:Menlo,'DejaVu Sans Mono',consolas,'Courier New',monospace\"><span style=\"font-weight: bold\">{</span>\n",
              "    <span style=\"color: #008000; text-decoration-color: #008000\">'atomic_num'</span>: <span style=\"color: #008080; text-decoration-color: #008080; font-weight: bold\">6</span>,\n",
              "    <span style=\"color: #008000; text-decoration-color: #008000\">'element'</span>: <span style=\"color: #008000; text-decoration-color: #008000\">'C'</span>,\n",
              "    <span style=\"color: #008000; text-decoration-color: #008000\">'rdmol_atom'</span>: <span style=\"font-weight: bold\">&lt;</span><span style=\"color: #ff00ff; text-decoration-color: #ff00ff; font-weight: bold\">rdkit.Chem.rdchem.Atom</span><span style=\"color: #000000; text-decoration-color: #000000\"> object at </span><span style=\"color: #008080; text-decoration-color: #008080; font-weight: bold\">0x7f12eaad19e0</span><span style=\"font-weight: bold\">&gt;</span>,\n",
              "    <span style=\"color: #008000; text-decoration-color: #008000\">'coords'</span>: <span style=\"color: #800080; text-decoration-color: #800080; font-weight: bold\">array</span><span style=\"font-weight: bold\">([</span> <span style=\"color: #008080; text-decoration-color: #008080; font-weight: bold\">0.9862</span>, <span style=\"color: #008080; text-decoration-color: #008080; font-weight: bold\">-0.257</span> , <span style=\"color: #008080; text-decoration-color: #008080; font-weight: bold\">-0.1905</span><span style=\"font-weight: bold\">])</span>,\n",
              "    <span style=\"color: #008000; text-decoration-color: #008000\">'atom_type_one_hot'</span>: <span style=\"color: #800080; text-decoration-color: #800080; font-weight: bold\">array</span><span style=\"font-weight: bold\">([</span><span style=\"color: #008080; text-decoration-color: #008080; font-weight: bold\">1</span>, <span style=\"color: #008080; text-decoration-color: #008080; font-weight: bold\">0</span>, <span style=\"color: #008080; text-decoration-color: #008080; font-weight: bold\">0</span>, <span style=\"color: #008080; text-decoration-color: #008080; font-weight: bold\">0</span>, <span style=\"color: #008080; text-decoration-color: #008080; font-weight: bold\">0</span>, <span style=\"color: #008080; text-decoration-color: #008080; font-weight: bold\">0</span>, <span style=\"color: #008080; text-decoration-color: #008080; font-weight: bold\">0</span>, <span style=\"color: #008080; text-decoration-color: #008080; font-weight: bold\">0</span>, <span style=\"color: #008080; text-decoration-color: #008080; font-weight: bold\">0</span>, <span style=\"color: #008080; text-decoration-color: #008080; font-weight: bold\">0</span>, <span style=\"color: #008080; text-decoration-color: #008080; font-weight: bold\">0</span><span style=\"font-weight: bold\">])</span>,\n",
              "    <span style=\"color: #008000; text-decoration-color: #008000\">'mass'</span>: <span style=\"color: #008080; text-decoration-color: #008080; font-weight: bold\">12.011</span>,\n",
              "    <span style=\"color: #008000; text-decoration-color: #008000\">'degree'</span>: <span style=\"color: #008080; text-decoration-color: #008080; font-weight: bold\">1</span>,\n",
              "    <span style=\"color: #008000; text-decoration-color: #008000\">'total_degree'</span>: <span style=\"color: #008080; text-decoration-color: #008080; font-weight: bold\">4</span>,\n",
              "    <span style=\"color: #008000; text-decoration-color: #008000\">'total_valence'</span>: <span style=\"color: #008080; text-decoration-color: #008080; font-weight: bold\">4</span>,\n",
              "    <span style=\"color: #008000; text-decoration-color: #008000\">'explicit_valence'</span>: <span style=\"color: #008080; text-decoration-color: #008080; font-weight: bold\">4</span>,\n",
              "    <span style=\"color: #008000; text-decoration-color: #008000\">'implicit_valence'</span>: <span style=\"color: #008080; text-decoration-color: #008080; font-weight: bold\">0</span>,\n",
              "    <span style=\"color: #008000; text-decoration-color: #008000\">'num_explicit_h'</span>: <span style=\"color: #008080; text-decoration-color: #008080; font-weight: bold\">3</span>,\n",
              "    <span style=\"color: #008000; text-decoration-color: #008000\">'num_implicit_h'</span>: <span style=\"color: #008080; text-decoration-color: #008080; font-weight: bold\">0</span>,\n",
              "    <span style=\"color: #008000; text-decoration-color: #008000\">'total_num_h'</span>: <span style=\"color: #008080; text-decoration-color: #008080; font-weight: bold\">3</span>,\n",
              "    <span style=\"color: #008000; text-decoration-color: #008000\">'num_radical_electrons'</span>: <span style=\"color: #008080; text-decoration-color: #008080; font-weight: bold\">0</span>,\n",
              "    <span style=\"color: #008000; text-decoration-color: #008000\">'formal_charge'</span>: <span style=\"color: #008080; text-decoration-color: #008080; font-weight: bold\">0</span>,\n",
              "    <span style=\"color: #008000; text-decoration-color: #008000\">'hybridization'</span>: rdkit.Chem.rdchem.HybridizationType.SP3,\n",
              "    <span style=\"color: #008000; text-decoration-color: #008000\">'is_aromatic'</span>: <span style=\"color: #ff0000; text-decoration-color: #ff0000; font-style: italic\">False</span>,\n",
              "    <span style=\"color: #008000; text-decoration-color: #008000\">'is_isotope'</span>: <span style=\"color: #008080; text-decoration-color: #008080; font-weight: bold\">0</span>,\n",
              "    <span style=\"color: #008000; text-decoration-color: #008000\">'is_ring'</span>: <span style=\"color: #ff0000; text-decoration-color: #ff0000; font-style: italic\">False</span>,\n",
              "    <span style=\"color: #008000; text-decoration-color: #008000\">'chiral_tag'</span>: rdkit.Chem.rdchem.ChiralType.CHI_UNSPECIFIED,\n",
              "    <span style=\"color: #008000; text-decoration-color: #008000\">'is_ring_5'</span>: <span style=\"color: #ff0000; text-decoration-color: #ff0000; font-style: italic\">False</span>,\n",
              "    <span style=\"color: #008000; text-decoration-color: #008000\">'is_ring_7'</span>: <span style=\"color: #ff0000; text-decoration-color: #ff0000; font-style: italic\">False</span>\n",
              "<span style=\"font-weight: bold\">}</span>\n",
              "</pre>\n"
            ]
          },
          "metadata": {}
        },
        {
          "output_type": "display_data",
          "data": {
            "text/plain": [
              "\u001b[1m{\u001b[0m\n",
              "    \u001b[32m'atomic_num'\u001b[0m: \u001b[1;36m6\u001b[0m,\n",
              "    \u001b[32m'element'\u001b[0m: \u001b[32m'C'\u001b[0m,\n",
              "    \u001b[32m'rdmol_atom'\u001b[0m: \u001b[1m<\u001b[0m\u001b[1;95mrdkit.Chem.rdchem.Atom\u001b[0m\u001b[39m object at \u001b[0m\u001b[1;36m0x7f12eaad1a50\u001b[0m\u001b[1m>\u001b[0m,\n",
              "    \u001b[32m'coords'\u001b[0m: \u001b[1;35marray\u001b[0m\u001b[1m(\u001b[0m\u001b[1m[\u001b[0m\u001b[1;36m-0.2052\u001b[0m,  \u001b[1;36m0.2236\u001b[0m,  \u001b[1;36m0.6206\u001b[0m\u001b[1m]\u001b[0m\u001b[1m)\u001b[0m,\n",
              "    \u001b[32m'atom_type_one_hot'\u001b[0m: \u001b[1;35marray\u001b[0m\u001b[1m(\u001b[0m\u001b[1m[\u001b[0m\u001b[1;36m1\u001b[0m, \u001b[1;36m0\u001b[0m, \u001b[1;36m0\u001b[0m, \u001b[1;36m0\u001b[0m, \u001b[1;36m0\u001b[0m, \u001b[1;36m0\u001b[0m, \u001b[1;36m0\u001b[0m, \u001b[1;36m0\u001b[0m, \u001b[1;36m0\u001b[0m, \u001b[1;36m0\u001b[0m, \u001b[1;36m0\u001b[0m\u001b[1m]\u001b[0m\u001b[1m)\u001b[0m,\n",
              "    \u001b[32m'mass'\u001b[0m: \u001b[1;36m12.011\u001b[0m,\n",
              "    \u001b[32m'degree'\u001b[0m: \u001b[1;36m2\u001b[0m,\n",
              "    \u001b[32m'total_degree'\u001b[0m: \u001b[1;36m4\u001b[0m,\n",
              "    \u001b[32m'total_valence'\u001b[0m: \u001b[1;36m4\u001b[0m,\n",
              "    \u001b[32m'explicit_valence'\u001b[0m: \u001b[1;36m4\u001b[0m,\n",
              "    \u001b[32m'implicit_valence'\u001b[0m: \u001b[1;36m0\u001b[0m,\n",
              "    \u001b[32m'num_explicit_h'\u001b[0m: \u001b[1;36m2\u001b[0m,\n",
              "    \u001b[32m'num_implicit_h'\u001b[0m: \u001b[1;36m0\u001b[0m,\n",
              "    \u001b[32m'total_num_h'\u001b[0m: \u001b[1;36m2\u001b[0m,\n",
              "    \u001b[32m'num_radical_electrons'\u001b[0m: \u001b[1;36m0\u001b[0m,\n",
              "    \u001b[32m'formal_charge'\u001b[0m: \u001b[1;36m0\u001b[0m,\n",
              "    \u001b[32m'hybridization'\u001b[0m: rdkit.Chem.rdchem.HybridizationType.SP3,\n",
              "    \u001b[32m'is_aromatic'\u001b[0m: \u001b[3;91mFalse\u001b[0m,\n",
              "    \u001b[32m'is_isotope'\u001b[0m: \u001b[1;36m0\u001b[0m,\n",
              "    \u001b[32m'is_ring'\u001b[0m: \u001b[3;91mFalse\u001b[0m,\n",
              "    \u001b[32m'chiral_tag'\u001b[0m: rdkit.Chem.rdchem.ChiralType.CHI_UNSPECIFIED,\n",
              "    \u001b[32m'is_ring_5'\u001b[0m: \u001b[3;91mFalse\u001b[0m,\n",
              "    \u001b[32m'is_ring_7'\u001b[0m: \u001b[3;91mFalse\u001b[0m\n",
              "\u001b[1m}\u001b[0m\n"
            ],
            "text/html": [
              "<pre style=\"white-space:pre;overflow-x:auto;line-height:normal;font-family:Menlo,'DejaVu Sans Mono',consolas,'Courier New',monospace\"><span style=\"font-weight: bold\">{</span>\n",
              "    <span style=\"color: #008000; text-decoration-color: #008000\">'atomic_num'</span>: <span style=\"color: #008080; text-decoration-color: #008080; font-weight: bold\">6</span>,\n",
              "    <span style=\"color: #008000; text-decoration-color: #008000\">'element'</span>: <span style=\"color: #008000; text-decoration-color: #008000\">'C'</span>,\n",
              "    <span style=\"color: #008000; text-decoration-color: #008000\">'rdmol_atom'</span>: <span style=\"font-weight: bold\">&lt;</span><span style=\"color: #ff00ff; text-decoration-color: #ff00ff; font-weight: bold\">rdkit.Chem.rdchem.Atom</span><span style=\"color: #000000; text-decoration-color: #000000\"> object at </span><span style=\"color: #008080; text-decoration-color: #008080; font-weight: bold\">0x7f12eaad1a50</span><span style=\"font-weight: bold\">&gt;</span>,\n",
              "    <span style=\"color: #008000; text-decoration-color: #008000\">'coords'</span>: <span style=\"color: #800080; text-decoration-color: #800080; font-weight: bold\">array</span><span style=\"font-weight: bold\">([</span><span style=\"color: #008080; text-decoration-color: #008080; font-weight: bold\">-0.2052</span>,  <span style=\"color: #008080; text-decoration-color: #008080; font-weight: bold\">0.2236</span>,  <span style=\"color: #008080; text-decoration-color: #008080; font-weight: bold\">0.6206</span><span style=\"font-weight: bold\">])</span>,\n",
              "    <span style=\"color: #008000; text-decoration-color: #008000\">'atom_type_one_hot'</span>: <span style=\"color: #800080; text-decoration-color: #800080; font-weight: bold\">array</span><span style=\"font-weight: bold\">([</span><span style=\"color: #008080; text-decoration-color: #008080; font-weight: bold\">1</span>, <span style=\"color: #008080; text-decoration-color: #008080; font-weight: bold\">0</span>, <span style=\"color: #008080; text-decoration-color: #008080; font-weight: bold\">0</span>, <span style=\"color: #008080; text-decoration-color: #008080; font-weight: bold\">0</span>, <span style=\"color: #008080; text-decoration-color: #008080; font-weight: bold\">0</span>, <span style=\"color: #008080; text-decoration-color: #008080; font-weight: bold\">0</span>, <span style=\"color: #008080; text-decoration-color: #008080; font-weight: bold\">0</span>, <span style=\"color: #008080; text-decoration-color: #008080; font-weight: bold\">0</span>, <span style=\"color: #008080; text-decoration-color: #008080; font-weight: bold\">0</span>, <span style=\"color: #008080; text-decoration-color: #008080; font-weight: bold\">0</span>, <span style=\"color: #008080; text-decoration-color: #008080; font-weight: bold\">0</span><span style=\"font-weight: bold\">])</span>,\n",
              "    <span style=\"color: #008000; text-decoration-color: #008000\">'mass'</span>: <span style=\"color: #008080; text-decoration-color: #008080; font-weight: bold\">12.011</span>,\n",
              "    <span style=\"color: #008000; text-decoration-color: #008000\">'degree'</span>: <span style=\"color: #008080; text-decoration-color: #008080; font-weight: bold\">2</span>,\n",
              "    <span style=\"color: #008000; text-decoration-color: #008000\">'total_degree'</span>: <span style=\"color: #008080; text-decoration-color: #008080; font-weight: bold\">4</span>,\n",
              "    <span style=\"color: #008000; text-decoration-color: #008000\">'total_valence'</span>: <span style=\"color: #008080; text-decoration-color: #008080; font-weight: bold\">4</span>,\n",
              "    <span style=\"color: #008000; text-decoration-color: #008000\">'explicit_valence'</span>: <span style=\"color: #008080; text-decoration-color: #008080; font-weight: bold\">4</span>,\n",
              "    <span style=\"color: #008000; text-decoration-color: #008000\">'implicit_valence'</span>: <span style=\"color: #008080; text-decoration-color: #008080; font-weight: bold\">0</span>,\n",
              "    <span style=\"color: #008000; text-decoration-color: #008000\">'num_explicit_h'</span>: <span style=\"color: #008080; text-decoration-color: #008080; font-weight: bold\">2</span>,\n",
              "    <span style=\"color: #008000; text-decoration-color: #008000\">'num_implicit_h'</span>: <span style=\"color: #008080; text-decoration-color: #008080; font-weight: bold\">0</span>,\n",
              "    <span style=\"color: #008000; text-decoration-color: #008000\">'total_num_h'</span>: <span style=\"color: #008080; text-decoration-color: #008080; font-weight: bold\">2</span>,\n",
              "    <span style=\"color: #008000; text-decoration-color: #008000\">'num_radical_electrons'</span>: <span style=\"color: #008080; text-decoration-color: #008080; font-weight: bold\">0</span>,\n",
              "    <span style=\"color: #008000; text-decoration-color: #008000\">'formal_charge'</span>: <span style=\"color: #008080; text-decoration-color: #008080; font-weight: bold\">0</span>,\n",
              "    <span style=\"color: #008000; text-decoration-color: #008000\">'hybridization'</span>: rdkit.Chem.rdchem.HybridizationType.SP3,\n",
              "    <span style=\"color: #008000; text-decoration-color: #008000\">'is_aromatic'</span>: <span style=\"color: #ff0000; text-decoration-color: #ff0000; font-style: italic\">False</span>,\n",
              "    <span style=\"color: #008000; text-decoration-color: #008000\">'is_isotope'</span>: <span style=\"color: #008080; text-decoration-color: #008080; font-weight: bold\">0</span>,\n",
              "    <span style=\"color: #008000; text-decoration-color: #008000\">'is_ring'</span>: <span style=\"color: #ff0000; text-decoration-color: #ff0000; font-style: italic\">False</span>,\n",
              "    <span style=\"color: #008000; text-decoration-color: #008000\">'chiral_tag'</span>: rdkit.Chem.rdchem.ChiralType.CHI_UNSPECIFIED,\n",
              "    <span style=\"color: #008000; text-decoration-color: #008000\">'is_ring_5'</span>: <span style=\"color: #ff0000; text-decoration-color: #ff0000; font-style: italic\">False</span>,\n",
              "    <span style=\"color: #008000; text-decoration-color: #008000\">'is_ring_7'</span>: <span style=\"color: #ff0000; text-decoration-color: #ff0000; font-style: italic\">False</span>\n",
              "<span style=\"font-weight: bold\">}</span>\n",
              "</pre>\n"
            ]
          },
          "metadata": {}
        },
        {
          "output_type": "display_data",
          "data": {
            "text/plain": [
              "\u001b[1m{\u001b[0m\n",
              "    \u001b[32m'atomic_num'\u001b[0m: \u001b[1;36m7\u001b[0m,\n",
              "    \u001b[32m'element'\u001b[0m: \u001b[32m'N'\u001b[0m,\n",
              "    \u001b[32m'rdmol_atom'\u001b[0m: \u001b[1m<\u001b[0m\u001b[1;95mrdkit.Chem.rdchem.Atom\u001b[0m\u001b[39m object at \u001b[0m\u001b[1;36m0x7f12eaad1ac0\u001b[0m\u001b[1m>\u001b[0m,\n",
              "    \u001b[32m'coords'\u001b[0m: \u001b[1;35marray\u001b[0m\u001b[1m(\u001b[0m\u001b[1m[\u001b[0m\u001b[1;36m-1.4201\u001b[0m,  \u001b[1;36m0.2357\u001b[0m, \u001b[1;36m-0.1847\u001b[0m\u001b[1m]\u001b[0m\u001b[1m)\u001b[0m,\n",
              "    \u001b[32m'atom_type_one_hot'\u001b[0m: \u001b[1;35marray\u001b[0m\u001b[1m(\u001b[0m\u001b[1m[\u001b[0m\u001b[1;36m0\u001b[0m, \u001b[1;36m0\u001b[0m, \u001b[1;36m0\u001b[0m, \u001b[1;36m1\u001b[0m, \u001b[1;36m0\u001b[0m, \u001b[1;36m0\u001b[0m, \u001b[1;36m0\u001b[0m, \u001b[1;36m0\u001b[0m, \u001b[1;36m0\u001b[0m, \u001b[1;36m0\u001b[0m, \u001b[1;36m0\u001b[0m\u001b[1m]\u001b[0m\u001b[1m)\u001b[0m,\n",
              "    \u001b[32m'mass'\u001b[0m: \u001b[1;36m14.007\u001b[0m,\n",
              "    \u001b[32m'degree'\u001b[0m: \u001b[1;36m1\u001b[0m,\n",
              "    \u001b[32m'total_degree'\u001b[0m: \u001b[1;36m3\u001b[0m,\n",
              "    \u001b[32m'total_valence'\u001b[0m: \u001b[1;36m3\u001b[0m,\n",
              "    \u001b[32m'explicit_valence'\u001b[0m: \u001b[1;36m3\u001b[0m,\n",
              "    \u001b[32m'implicit_valence'\u001b[0m: \u001b[1;36m0\u001b[0m,\n",
              "    \u001b[32m'num_explicit_h'\u001b[0m: \u001b[1;36m2\u001b[0m,\n",
              "    \u001b[32m'num_implicit_h'\u001b[0m: \u001b[1;36m0\u001b[0m,\n",
              "    \u001b[32m'total_num_h'\u001b[0m: \u001b[1;36m2\u001b[0m,\n",
              "    \u001b[32m'num_radical_electrons'\u001b[0m: \u001b[1;36m0\u001b[0m,\n",
              "    \u001b[32m'formal_charge'\u001b[0m: \u001b[1;36m0\u001b[0m,\n",
              "    \u001b[32m'hybridization'\u001b[0m: rdkit.Chem.rdchem.HybridizationType.SP3,\n",
              "    \u001b[32m'is_aromatic'\u001b[0m: \u001b[3;91mFalse\u001b[0m,\n",
              "    \u001b[32m'is_isotope'\u001b[0m: \u001b[1;36m0\u001b[0m,\n",
              "    \u001b[32m'is_ring'\u001b[0m: \u001b[3;91mFalse\u001b[0m,\n",
              "    \u001b[32m'chiral_tag'\u001b[0m: rdkit.Chem.rdchem.ChiralType.CHI_UNSPECIFIED,\n",
              "    \u001b[32m'is_ring_5'\u001b[0m: \u001b[3;91mFalse\u001b[0m,\n",
              "    \u001b[32m'is_ring_7'\u001b[0m: \u001b[3;91mFalse\u001b[0m\n",
              "\u001b[1m}\u001b[0m\n"
            ],
            "text/html": [
              "<pre style=\"white-space:pre;overflow-x:auto;line-height:normal;font-family:Menlo,'DejaVu Sans Mono',consolas,'Courier New',monospace\"><span style=\"font-weight: bold\">{</span>\n",
              "    <span style=\"color: #008000; text-decoration-color: #008000\">'atomic_num'</span>: <span style=\"color: #008080; text-decoration-color: #008080; font-weight: bold\">7</span>,\n",
              "    <span style=\"color: #008000; text-decoration-color: #008000\">'element'</span>: <span style=\"color: #008000; text-decoration-color: #008000\">'N'</span>,\n",
              "    <span style=\"color: #008000; text-decoration-color: #008000\">'rdmol_atom'</span>: <span style=\"font-weight: bold\">&lt;</span><span style=\"color: #ff00ff; text-decoration-color: #ff00ff; font-weight: bold\">rdkit.Chem.rdchem.Atom</span><span style=\"color: #000000; text-decoration-color: #000000\"> object at </span><span style=\"color: #008080; text-decoration-color: #008080; font-weight: bold\">0x7f12eaad1ac0</span><span style=\"font-weight: bold\">&gt;</span>,\n",
              "    <span style=\"color: #008000; text-decoration-color: #008000\">'coords'</span>: <span style=\"color: #800080; text-decoration-color: #800080; font-weight: bold\">array</span><span style=\"font-weight: bold\">([</span><span style=\"color: #008080; text-decoration-color: #008080; font-weight: bold\">-1.4201</span>,  <span style=\"color: #008080; text-decoration-color: #008080; font-weight: bold\">0.2357</span>, <span style=\"color: #008080; text-decoration-color: #008080; font-weight: bold\">-0.1847</span><span style=\"font-weight: bold\">])</span>,\n",
              "    <span style=\"color: #008000; text-decoration-color: #008000\">'atom_type_one_hot'</span>: <span style=\"color: #800080; text-decoration-color: #800080; font-weight: bold\">array</span><span style=\"font-weight: bold\">([</span><span style=\"color: #008080; text-decoration-color: #008080; font-weight: bold\">0</span>, <span style=\"color: #008080; text-decoration-color: #008080; font-weight: bold\">0</span>, <span style=\"color: #008080; text-decoration-color: #008080; font-weight: bold\">0</span>, <span style=\"color: #008080; text-decoration-color: #008080; font-weight: bold\">1</span>, <span style=\"color: #008080; text-decoration-color: #008080; font-weight: bold\">0</span>, <span style=\"color: #008080; text-decoration-color: #008080; font-weight: bold\">0</span>, <span style=\"color: #008080; text-decoration-color: #008080; font-weight: bold\">0</span>, <span style=\"color: #008080; text-decoration-color: #008080; font-weight: bold\">0</span>, <span style=\"color: #008080; text-decoration-color: #008080; font-weight: bold\">0</span>, <span style=\"color: #008080; text-decoration-color: #008080; font-weight: bold\">0</span>, <span style=\"color: #008080; text-decoration-color: #008080; font-weight: bold\">0</span><span style=\"font-weight: bold\">])</span>,\n",
              "    <span style=\"color: #008000; text-decoration-color: #008000\">'mass'</span>: <span style=\"color: #008080; text-decoration-color: #008080; font-weight: bold\">14.007</span>,\n",
              "    <span style=\"color: #008000; text-decoration-color: #008000\">'degree'</span>: <span style=\"color: #008080; text-decoration-color: #008080; font-weight: bold\">1</span>,\n",
              "    <span style=\"color: #008000; text-decoration-color: #008000\">'total_degree'</span>: <span style=\"color: #008080; text-decoration-color: #008080; font-weight: bold\">3</span>,\n",
              "    <span style=\"color: #008000; text-decoration-color: #008000\">'total_valence'</span>: <span style=\"color: #008080; text-decoration-color: #008080; font-weight: bold\">3</span>,\n",
              "    <span style=\"color: #008000; text-decoration-color: #008000\">'explicit_valence'</span>: <span style=\"color: #008080; text-decoration-color: #008080; font-weight: bold\">3</span>,\n",
              "    <span style=\"color: #008000; text-decoration-color: #008000\">'implicit_valence'</span>: <span style=\"color: #008080; text-decoration-color: #008080; font-weight: bold\">0</span>,\n",
              "    <span style=\"color: #008000; text-decoration-color: #008000\">'num_explicit_h'</span>: <span style=\"color: #008080; text-decoration-color: #008080; font-weight: bold\">2</span>,\n",
              "    <span style=\"color: #008000; text-decoration-color: #008000\">'num_implicit_h'</span>: <span style=\"color: #008080; text-decoration-color: #008080; font-weight: bold\">0</span>,\n",
              "    <span style=\"color: #008000; text-decoration-color: #008000\">'total_num_h'</span>: <span style=\"color: #008080; text-decoration-color: #008080; font-weight: bold\">2</span>,\n",
              "    <span style=\"color: #008000; text-decoration-color: #008000\">'num_radical_electrons'</span>: <span style=\"color: #008080; text-decoration-color: #008080; font-weight: bold\">0</span>,\n",
              "    <span style=\"color: #008000; text-decoration-color: #008000\">'formal_charge'</span>: <span style=\"color: #008080; text-decoration-color: #008080; font-weight: bold\">0</span>,\n",
              "    <span style=\"color: #008000; text-decoration-color: #008000\">'hybridization'</span>: rdkit.Chem.rdchem.HybridizationType.SP3,\n",
              "    <span style=\"color: #008000; text-decoration-color: #008000\">'is_aromatic'</span>: <span style=\"color: #ff0000; text-decoration-color: #ff0000; font-style: italic\">False</span>,\n",
              "    <span style=\"color: #008000; text-decoration-color: #008000\">'is_isotope'</span>: <span style=\"color: #008080; text-decoration-color: #008080; font-weight: bold\">0</span>,\n",
              "    <span style=\"color: #008000; text-decoration-color: #008000\">'is_ring'</span>: <span style=\"color: #ff0000; text-decoration-color: #ff0000; font-style: italic\">False</span>,\n",
              "    <span style=\"color: #008000; text-decoration-color: #008000\">'chiral_tag'</span>: rdkit.Chem.rdchem.ChiralType.CHI_UNSPECIFIED,\n",
              "    <span style=\"color: #008000; text-decoration-color: #008000\">'is_ring_5'</span>: <span style=\"color: #ff0000; text-decoration-color: #ff0000; font-style: italic\">False</span>,\n",
              "    <span style=\"color: #008000; text-decoration-color: #008000\">'is_ring_7'</span>: <span style=\"color: #ff0000; text-decoration-color: #ff0000; font-style: italic\">False</span>\n",
              "<span style=\"font-weight: bold\">}</span>\n",
              "</pre>\n"
            ]
          },
          "metadata": {}
        }
      ]
    },
    {
      "cell_type": "code",
      "source": [
        "config = gm.MoleculeGraphConfig(\n",
        "    edge_metadata_functions=[\n",
        "        gm.add_bond_type,\n",
        "        gm.bond_is_aromatic,\n",
        "        gm.bond_is_conjugated,\n",
        "        gm.bond_is_in_ring,\n",
        "        gm.bond_stereo,\n",
        "        partial(gm.bond_is_in_ring_size, ring_size=5),\n",
        "        partial(gm.bond_is_in_ring_size, ring_size=7)\n",
        "    ]\n",
        ")\n",
        "graph = gm.construct_graph(path=\"/content/graphein/tests/molecule/test_data/short_test.mol2\", config=config)\n",
        "\n",
        "for u, v, d in graph.edges(data=True):\n",
        "    print(d)"
      ],
      "metadata": {
        "colab": {
          "base_uri": "https://localhost:8080/",
          "height": 1000
        },
        "id": "KYhbtaCDleAo",
        "outputId": "1a6caf14-09b4-45d7-faa1-73fdbd5b324f"
      },
      "execution_count": 44,
      "outputs": [
        {
          "output_type": "display_data",
          "data": {
            "text/plain": [
              "\u001b[1m{\u001b[0m\n",
              "    \u001b[32m'kind'\u001b[0m: \u001b[1m{\u001b[0m\u001b[32m'distance_threshold'\u001b[0m, \u001b[32m'fully_connected'\u001b[0m\u001b[1m}\u001b[0m,\n",
              "    \u001b[32m'bond_type'\u001b[0m: \u001b[3;35mNone\u001b[0m,\n",
              "    \u001b[32m'aromatic'\u001b[0m: \u001b[3;35mNone\u001b[0m,\n",
              "    \u001b[32m'conjugated'\u001b[0m: \u001b[3;35mNone\u001b[0m,\n",
              "    \u001b[32m'ring'\u001b[0m: \u001b[3;35mNone\u001b[0m,\n",
              "    \u001b[32m'bond_stereo'\u001b[0m: \u001b[3;35mNone\u001b[0m,\n",
              "    \u001b[32m'ring_size_5'\u001b[0m: \u001b[3;35mNone\u001b[0m,\n",
              "    \u001b[32m'ring_size_7'\u001b[0m: \u001b[3;35mNone\u001b[0m\n",
              "\u001b[1m}\u001b[0m\n"
            ],
            "text/html": [
              "<pre style=\"white-space:pre;overflow-x:auto;line-height:normal;font-family:Menlo,'DejaVu Sans Mono',consolas,'Courier New',monospace\"><span style=\"font-weight: bold\">{</span>\n",
              "    <span style=\"color: #008000; text-decoration-color: #008000\">'kind'</span>: <span style=\"font-weight: bold\">{</span><span style=\"color: #008000; text-decoration-color: #008000\">'distance_threshold'</span>, <span style=\"color: #008000; text-decoration-color: #008000\">'fully_connected'</span><span style=\"font-weight: bold\">}</span>,\n",
              "    <span style=\"color: #008000; text-decoration-color: #008000\">'bond_type'</span>: <span style=\"color: #800080; text-decoration-color: #800080; font-style: italic\">None</span>,\n",
              "    <span style=\"color: #008000; text-decoration-color: #008000\">'aromatic'</span>: <span style=\"color: #800080; text-decoration-color: #800080; font-style: italic\">None</span>,\n",
              "    <span style=\"color: #008000; text-decoration-color: #008000\">'conjugated'</span>: <span style=\"color: #800080; text-decoration-color: #800080; font-style: italic\">None</span>,\n",
              "    <span style=\"color: #008000; text-decoration-color: #008000\">'ring'</span>: <span style=\"color: #800080; text-decoration-color: #800080; font-style: italic\">None</span>,\n",
              "    <span style=\"color: #008000; text-decoration-color: #008000\">'bond_stereo'</span>: <span style=\"color: #800080; text-decoration-color: #800080; font-style: italic\">None</span>,\n",
              "    <span style=\"color: #008000; text-decoration-color: #008000\">'ring_size_5'</span>: <span style=\"color: #800080; text-decoration-color: #800080; font-style: italic\">None</span>,\n",
              "    <span style=\"color: #008000; text-decoration-color: #008000\">'ring_size_7'</span>: <span style=\"color: #800080; text-decoration-color: #800080; font-style: italic\">None</span>\n",
              "<span style=\"font-weight: bold\">}</span>\n",
              "</pre>\n"
            ]
          },
          "metadata": {}
        },
        {
          "output_type": "display_data",
          "data": {
            "text/plain": [
              "\u001b[1m{\u001b[0m\n",
              "    \u001b[32m'kind'\u001b[0m: \u001b[1m{\u001b[0m\u001b[32m'bond'\u001b[0m, \u001b[32m'distance_threshold'\u001b[0m, \u001b[32m'fully_connected'\u001b[0m, \u001b[32m'k_nn_1'\u001b[0m\u001b[1m}\u001b[0m,\n",
              "    \u001b[32m'bond'\u001b[0m: \u001b[1m<\u001b[0m\u001b[1;95mrdkit.Chem.rdchem.Bond\u001b[0m\u001b[39m object at \u001b[0m\u001b[1;36m0x7f12eaa914a0\u001b[0m\u001b[1m>\u001b[0m,\n",
              "    \u001b[32m'bond_type'\u001b[0m: rdkit.Chem.rdchem.BondType.SINGLE,\n",
              "    \u001b[32m'_aromatic'\u001b[0m: \u001b[3;91mFalse\u001b[0m,\n",
              "    \u001b[32m'conjugated'\u001b[0m: \u001b[3;91mFalse\u001b[0m,\n",
              "    \u001b[32m'ring'\u001b[0m: \u001b[3;91mFalse\u001b[0m,\n",
              "    \u001b[32m'bond_stereo'\u001b[0m: rdkit.Chem.rdchem.BondStereo.STEREONONE,\n",
              "    \u001b[32m'ring_size_5'\u001b[0m: \u001b[3;91mFalse\u001b[0m,\n",
              "    \u001b[32m'ring_size_7'\u001b[0m: \u001b[3;91mFalse\u001b[0m\n",
              "\u001b[1m}\u001b[0m\n"
            ],
            "text/html": [
              "<pre style=\"white-space:pre;overflow-x:auto;line-height:normal;font-family:Menlo,'DejaVu Sans Mono',consolas,'Courier New',monospace\"><span style=\"font-weight: bold\">{</span>\n",
              "    <span style=\"color: #008000; text-decoration-color: #008000\">'kind'</span>: <span style=\"font-weight: bold\">{</span><span style=\"color: #008000; text-decoration-color: #008000\">'bond'</span>, <span style=\"color: #008000; text-decoration-color: #008000\">'distance_threshold'</span>, <span style=\"color: #008000; text-decoration-color: #008000\">'fully_connected'</span>, <span style=\"color: #008000; text-decoration-color: #008000\">'k_nn_1'</span><span style=\"font-weight: bold\">}</span>,\n",
              "    <span style=\"color: #008000; text-decoration-color: #008000\">'bond'</span>: <span style=\"font-weight: bold\">&lt;</span><span style=\"color: #ff00ff; text-decoration-color: #ff00ff; font-weight: bold\">rdkit.Chem.rdchem.Bond</span><span style=\"color: #000000; text-decoration-color: #000000\"> object at </span><span style=\"color: #008080; text-decoration-color: #008080; font-weight: bold\">0x7f12eaa914a0</span><span style=\"font-weight: bold\">&gt;</span>,\n",
              "    <span style=\"color: #008000; text-decoration-color: #008000\">'bond_type'</span>: rdkit.Chem.rdchem.BondType.SINGLE,\n",
              "    <span style=\"color: #008000; text-decoration-color: #008000\">'_aromatic'</span>: <span style=\"color: #ff0000; text-decoration-color: #ff0000; font-style: italic\">False</span>,\n",
              "    <span style=\"color: #008000; text-decoration-color: #008000\">'conjugated'</span>: <span style=\"color: #ff0000; text-decoration-color: #ff0000; font-style: italic\">False</span>,\n",
              "    <span style=\"color: #008000; text-decoration-color: #008000\">'ring'</span>: <span style=\"color: #ff0000; text-decoration-color: #ff0000; font-style: italic\">False</span>,\n",
              "    <span style=\"color: #008000; text-decoration-color: #008000\">'bond_stereo'</span>: rdkit.Chem.rdchem.BondStereo.STEREONONE,\n",
              "    <span style=\"color: #008000; text-decoration-color: #008000\">'ring_size_5'</span>: <span style=\"color: #ff0000; text-decoration-color: #ff0000; font-style: italic\">False</span>,\n",
              "    <span style=\"color: #008000; text-decoration-color: #008000\">'ring_size_7'</span>: <span style=\"color: #ff0000; text-decoration-color: #ff0000; font-style: italic\">False</span>\n",
              "<span style=\"font-weight: bold\">}</span>\n",
              "</pre>\n"
            ]
          },
          "metadata": {}
        },
        {
          "output_type": "display_data",
          "data": {
            "text/plain": [
              "\u001b[1m{\u001b[0m\n",
              "    \u001b[32m'kind'\u001b[0m: \u001b[1m{\u001b[0m\u001b[32m'distance_threshold'\u001b[0m, \u001b[32m'fully_connected'\u001b[0m\u001b[1m}\u001b[0m,\n",
              "    \u001b[32m'bond_type'\u001b[0m: \u001b[3;35mNone\u001b[0m,\n",
              "    \u001b[32m'aromatic'\u001b[0m: \u001b[3;35mNone\u001b[0m,\n",
              "    \u001b[32m'conjugated'\u001b[0m: \u001b[3;35mNone\u001b[0m,\n",
              "    \u001b[32m'ring'\u001b[0m: \u001b[3;35mNone\u001b[0m,\n",
              "    \u001b[32m'bond_stereo'\u001b[0m: \u001b[3;35mNone\u001b[0m,\n",
              "    \u001b[32m'ring_size_5'\u001b[0m: \u001b[3;35mNone\u001b[0m,\n",
              "    \u001b[32m'ring_size_7'\u001b[0m: \u001b[3;35mNone\u001b[0m\n",
              "\u001b[1m}\u001b[0m\n"
            ],
            "text/html": [
              "<pre style=\"white-space:pre;overflow-x:auto;line-height:normal;font-family:Menlo,'DejaVu Sans Mono',consolas,'Courier New',monospace\"><span style=\"font-weight: bold\">{</span>\n",
              "    <span style=\"color: #008000; text-decoration-color: #008000\">'kind'</span>: <span style=\"font-weight: bold\">{</span><span style=\"color: #008000; text-decoration-color: #008000\">'distance_threshold'</span>, <span style=\"color: #008000; text-decoration-color: #008000\">'fully_connected'</span><span style=\"font-weight: bold\">}</span>,\n",
              "    <span style=\"color: #008000; text-decoration-color: #008000\">'bond_type'</span>: <span style=\"color: #800080; text-decoration-color: #800080; font-style: italic\">None</span>,\n",
              "    <span style=\"color: #008000; text-decoration-color: #008000\">'aromatic'</span>: <span style=\"color: #800080; text-decoration-color: #800080; font-style: italic\">None</span>,\n",
              "    <span style=\"color: #008000; text-decoration-color: #008000\">'conjugated'</span>: <span style=\"color: #800080; text-decoration-color: #800080; font-style: italic\">None</span>,\n",
              "    <span style=\"color: #008000; text-decoration-color: #008000\">'ring'</span>: <span style=\"color: #800080; text-decoration-color: #800080; font-style: italic\">None</span>,\n",
              "    <span style=\"color: #008000; text-decoration-color: #008000\">'bond_stereo'</span>: <span style=\"color: #800080; text-decoration-color: #800080; font-style: italic\">None</span>,\n",
              "    <span style=\"color: #008000; text-decoration-color: #008000\">'ring_size_5'</span>: <span style=\"color: #800080; text-decoration-color: #800080; font-style: italic\">None</span>,\n",
              "    <span style=\"color: #008000; text-decoration-color: #008000\">'ring_size_7'</span>: <span style=\"color: #800080; text-decoration-color: #800080; font-style: italic\">None</span>\n",
              "<span style=\"font-weight: bold\">}</span>\n",
              "</pre>\n"
            ]
          },
          "metadata": {}
        },
        {
          "output_type": "display_data",
          "data": {
            "text/plain": [
              "\u001b[1m{\u001b[0m\n",
              "    \u001b[32m'kind'\u001b[0m: \u001b[1m{\u001b[0m\u001b[32m'distance_threshold'\u001b[0m, \u001b[32m'fully_connected'\u001b[0m\u001b[1m}\u001b[0m,\n",
              "    \u001b[32m'bond_type'\u001b[0m: \u001b[3;35mNone\u001b[0m,\n",
              "    \u001b[32m'aromatic'\u001b[0m: \u001b[3;35mNone\u001b[0m,\n",
              "    \u001b[32m'conjugated'\u001b[0m: \u001b[3;35mNone\u001b[0m,\n",
              "    \u001b[32m'ring'\u001b[0m: \u001b[3;35mNone\u001b[0m,\n",
              "    \u001b[32m'bond_stereo'\u001b[0m: \u001b[3;35mNone\u001b[0m,\n",
              "    \u001b[32m'ring_size_5'\u001b[0m: \u001b[3;35mNone\u001b[0m,\n",
              "    \u001b[32m'ring_size_7'\u001b[0m: \u001b[3;35mNone\u001b[0m\n",
              "\u001b[1m}\u001b[0m\n"
            ],
            "text/html": [
              "<pre style=\"white-space:pre;overflow-x:auto;line-height:normal;font-family:Menlo,'DejaVu Sans Mono',consolas,'Courier New',monospace\"><span style=\"font-weight: bold\">{</span>\n",
              "    <span style=\"color: #008000; text-decoration-color: #008000\">'kind'</span>: <span style=\"font-weight: bold\">{</span><span style=\"color: #008000; text-decoration-color: #008000\">'distance_threshold'</span>, <span style=\"color: #008000; text-decoration-color: #008000\">'fully_connected'</span><span style=\"font-weight: bold\">}</span>,\n",
              "    <span style=\"color: #008000; text-decoration-color: #008000\">'bond_type'</span>: <span style=\"color: #800080; text-decoration-color: #800080; font-style: italic\">None</span>,\n",
              "    <span style=\"color: #008000; text-decoration-color: #008000\">'aromatic'</span>: <span style=\"color: #800080; text-decoration-color: #800080; font-style: italic\">None</span>,\n",
              "    <span style=\"color: #008000; text-decoration-color: #008000\">'conjugated'</span>: <span style=\"color: #800080; text-decoration-color: #800080; font-style: italic\">None</span>,\n",
              "    <span style=\"color: #008000; text-decoration-color: #008000\">'ring'</span>: <span style=\"color: #800080; text-decoration-color: #800080; font-style: italic\">None</span>,\n",
              "    <span style=\"color: #008000; text-decoration-color: #008000\">'bond_stereo'</span>: <span style=\"color: #800080; text-decoration-color: #800080; font-style: italic\">None</span>,\n",
              "    <span style=\"color: #008000; text-decoration-color: #008000\">'ring_size_5'</span>: <span style=\"color: #800080; text-decoration-color: #800080; font-style: italic\">None</span>,\n",
              "    <span style=\"color: #008000; text-decoration-color: #008000\">'ring_size_7'</span>: <span style=\"color: #800080; text-decoration-color: #800080; font-style: italic\">None</span>\n",
              "<span style=\"font-weight: bold\">}</span>\n",
              "</pre>\n"
            ]
          },
          "metadata": {}
        },
        {
          "output_type": "display_data",
          "data": {
            "text/plain": [
              "\u001b[1m{\u001b[0m\n",
              "    \u001b[32m'kind'\u001b[0m: \u001b[1m{\u001b[0m\u001b[32m'bond'\u001b[0m, \u001b[32m'distance_threshold'\u001b[0m, \u001b[32m'fully_connected'\u001b[0m, \u001b[32m'k_nn_1'\u001b[0m\u001b[1m}\u001b[0m,\n",
              "    \u001b[32m'bond'\u001b[0m: \u001b[1m<\u001b[0m\u001b[1;95mrdkit.Chem.rdchem.Bond\u001b[0m\u001b[39m object at \u001b[0m\u001b[1;36m0x7f12eaa91740\u001b[0m\u001b[1m>\u001b[0m,\n",
              "    \u001b[32m'bond_type'\u001b[0m: rdkit.Chem.rdchem.BondType.SINGLE,\n",
              "    \u001b[32m'_aromatic'\u001b[0m: \u001b[3;91mFalse\u001b[0m,\n",
              "    \u001b[32m'conjugated'\u001b[0m: \u001b[3;91mFalse\u001b[0m,\n",
              "    \u001b[32m'ring'\u001b[0m: \u001b[3;91mFalse\u001b[0m,\n",
              "    \u001b[32m'bond_stereo'\u001b[0m: rdkit.Chem.rdchem.BondStereo.STEREONONE,\n",
              "    \u001b[32m'ring_size_5'\u001b[0m: \u001b[3;91mFalse\u001b[0m,\n",
              "    \u001b[32m'ring_size_7'\u001b[0m: \u001b[3;91mFalse\u001b[0m\n",
              "\u001b[1m}\u001b[0m\n"
            ],
            "text/html": [
              "<pre style=\"white-space:pre;overflow-x:auto;line-height:normal;font-family:Menlo,'DejaVu Sans Mono',consolas,'Courier New',monospace\"><span style=\"font-weight: bold\">{</span>\n",
              "    <span style=\"color: #008000; text-decoration-color: #008000\">'kind'</span>: <span style=\"font-weight: bold\">{</span><span style=\"color: #008000; text-decoration-color: #008000\">'bond'</span>, <span style=\"color: #008000; text-decoration-color: #008000\">'distance_threshold'</span>, <span style=\"color: #008000; text-decoration-color: #008000\">'fully_connected'</span>, <span style=\"color: #008000; text-decoration-color: #008000\">'k_nn_1'</span><span style=\"font-weight: bold\">}</span>,\n",
              "    <span style=\"color: #008000; text-decoration-color: #008000\">'bond'</span>: <span style=\"font-weight: bold\">&lt;</span><span style=\"color: #ff00ff; text-decoration-color: #ff00ff; font-weight: bold\">rdkit.Chem.rdchem.Bond</span><span style=\"color: #000000; text-decoration-color: #000000\"> object at </span><span style=\"color: #008080; text-decoration-color: #008080; font-weight: bold\">0x7f12eaa91740</span><span style=\"font-weight: bold\">&gt;</span>,\n",
              "    <span style=\"color: #008000; text-decoration-color: #008000\">'bond_type'</span>: rdkit.Chem.rdchem.BondType.SINGLE,\n",
              "    <span style=\"color: #008000; text-decoration-color: #008000\">'_aromatic'</span>: <span style=\"color: #ff0000; text-decoration-color: #ff0000; font-style: italic\">False</span>,\n",
              "    <span style=\"color: #008000; text-decoration-color: #008000\">'conjugated'</span>: <span style=\"color: #ff0000; text-decoration-color: #ff0000; font-style: italic\">False</span>,\n",
              "    <span style=\"color: #008000; text-decoration-color: #008000\">'ring'</span>: <span style=\"color: #ff0000; text-decoration-color: #ff0000; font-style: italic\">False</span>,\n",
              "    <span style=\"color: #008000; text-decoration-color: #008000\">'bond_stereo'</span>: rdkit.Chem.rdchem.BondStereo.STEREONONE,\n",
              "    <span style=\"color: #008000; text-decoration-color: #008000\">'ring_size_5'</span>: <span style=\"color: #ff0000; text-decoration-color: #ff0000; font-style: italic\">False</span>,\n",
              "    <span style=\"color: #008000; text-decoration-color: #008000\">'ring_size_7'</span>: <span style=\"color: #ff0000; text-decoration-color: #ff0000; font-style: italic\">False</span>\n",
              "<span style=\"font-weight: bold\">}</span>\n",
              "</pre>\n"
            ]
          },
          "metadata": {}
        },
        {
          "output_type": "display_data",
          "data": {
            "text/plain": [
              "\u001b[1m{\u001b[0m\n",
              "    \u001b[32m'kind'\u001b[0m: \u001b[1m{\u001b[0m\u001b[32m'distance_threshold'\u001b[0m, \u001b[32m'fully_connected'\u001b[0m\u001b[1m}\u001b[0m,\n",
              "    \u001b[32m'bond_type'\u001b[0m: \u001b[3;35mNone\u001b[0m,\n",
              "    \u001b[32m'aromatic'\u001b[0m: \u001b[3;35mNone\u001b[0m,\n",
              "    \u001b[32m'conjugated'\u001b[0m: \u001b[3;35mNone\u001b[0m,\n",
              "    \u001b[32m'ring'\u001b[0m: \u001b[3;35mNone\u001b[0m,\n",
              "    \u001b[32m'bond_stereo'\u001b[0m: \u001b[3;35mNone\u001b[0m,\n",
              "    \u001b[32m'ring_size_5'\u001b[0m: \u001b[3;35mNone\u001b[0m,\n",
              "    \u001b[32m'ring_size_7'\u001b[0m: \u001b[3;35mNone\u001b[0m\n",
              "\u001b[1m}\u001b[0m\n"
            ],
            "text/html": [
              "<pre style=\"white-space:pre;overflow-x:auto;line-height:normal;font-family:Menlo,'DejaVu Sans Mono',consolas,'Courier New',monospace\"><span style=\"font-weight: bold\">{</span>\n",
              "    <span style=\"color: #008000; text-decoration-color: #008000\">'kind'</span>: <span style=\"font-weight: bold\">{</span><span style=\"color: #008000; text-decoration-color: #008000\">'distance_threshold'</span>, <span style=\"color: #008000; text-decoration-color: #008000\">'fully_connected'</span><span style=\"font-weight: bold\">}</span>,\n",
              "    <span style=\"color: #008000; text-decoration-color: #008000\">'bond_type'</span>: <span style=\"color: #800080; text-decoration-color: #800080; font-style: italic\">None</span>,\n",
              "    <span style=\"color: #008000; text-decoration-color: #008000\">'aromatic'</span>: <span style=\"color: #800080; text-decoration-color: #800080; font-style: italic\">None</span>,\n",
              "    <span style=\"color: #008000; text-decoration-color: #008000\">'conjugated'</span>: <span style=\"color: #800080; text-decoration-color: #800080; font-style: italic\">None</span>,\n",
              "    <span style=\"color: #008000; text-decoration-color: #008000\">'ring'</span>: <span style=\"color: #800080; text-decoration-color: #800080; font-style: italic\">None</span>,\n",
              "    <span style=\"color: #008000; text-decoration-color: #008000\">'bond_stereo'</span>: <span style=\"color: #800080; text-decoration-color: #800080; font-style: italic\">None</span>,\n",
              "    <span style=\"color: #008000; text-decoration-color: #008000\">'ring_size_5'</span>: <span style=\"color: #800080; text-decoration-color: #800080; font-style: italic\">None</span>,\n",
              "    <span style=\"color: #008000; text-decoration-color: #008000\">'ring_size_7'</span>: <span style=\"color: #800080; text-decoration-color: #800080; font-style: italic\">None</span>\n",
              "<span style=\"font-weight: bold\">}</span>\n",
              "</pre>\n"
            ]
          },
          "metadata": {}
        }
      ]
    },
    {
      "cell_type": "code",
      "source": [
        "config = gm.MoleculeGraphConfig(\n",
        "    graph_metadata_functions=[\n",
        "        gm.mol_descriptors\n",
        "    ]\n",
        ")\n",
        "graph = gm.construct_graph(path=\"/content/graphein/tests/molecule/test_data/short_test.mol2\", config=config)\n",
        "\n",
        "print(graph.graph)"
      ],
      "metadata": {
        "colab": {
          "base_uri": "https://localhost:8080/",
          "height": 1000
        },
        "id": "PxQ6VIW6lnQ6",
        "outputId": "1389496f-8200-4909-adbd-1bccc16d9903"
      },
      "execution_count": 45,
      "outputs": [
        {
          "output_type": "display_data",
          "data": {
            "text/plain": [
              "\u001b[1m{\u001b[0m\n",
              "    \u001b[32m'name'\u001b[0m: \u001b[32m'short_test'\u001b[0m,\n",
              "    \u001b[32m'rdmol'\u001b[0m: \u001b[1m<\u001b[0m\u001b[1;95mrdkit.Chem.rdchem.Mol\u001b[0m\u001b[39m object at \u001b[0m\u001b[1;36m0x7f12eaab7660\u001b[0m\u001b[39m>,\u001b[0m\n",
              "\u001b[39m    \u001b[0m\u001b[32m'coords'\u001b[0m\u001b[39m: \u001b[0m\u001b[1;35marray\u001b[0m\u001b[1;39m(\u001b[0m\u001b[1;39m[\u001b[0m\u001b[1;39m[\u001b[0m\u001b[39m \u001b[0m\u001b[1;36m0.9862\u001b[0m\u001b[39m, \u001b[0m\u001b[1;36m-0.257\u001b[0m\u001b[39m , \u001b[0m\u001b[1;36m-0.1905\u001b[0m\u001b[1;39m]\u001b[0m\u001b[39m,\u001b[0m\n",
              "\u001b[39m       \u001b[0m\u001b[1;39m[\u001b[0m\u001b[1;36m-0.2052\u001b[0m\u001b[39m,  \u001b[0m\u001b[1;36m0.2236\u001b[0m\u001b[39m,  \u001b[0m\u001b[1;36m0.6206\u001b[0m\u001b[1;39m]\u001b[0m\u001b[39m,\u001b[0m\n",
              "\u001b[39m       \u001b[0m\u001b[1;39m[\u001b[0m\u001b[1;36m-1.4201\u001b[0m\u001b[39m,  \u001b[0m\u001b[1;36m0.2357\u001b[0m\u001b[39m, \u001b[0m\u001b[1;36m-0.1847\u001b[0m\u001b[1;39m]\u001b[0m\u001b[1;39m]\u001b[0m\u001b[1;39m)\u001b[0m\u001b[39m,\u001b[0m\n",
              "\u001b[39m    \u001b[0m\u001b[32m'smiles'\u001b[0m\u001b[39m: \u001b[0m\u001b[32m'CCN'\u001b[0m\u001b[39m,\u001b[0m\n",
              "\u001b[39m    \u001b[0m\u001b[32m'config'\u001b[0m\u001b[39m: \u001b[0m\u001b[1;35mMoleculeGraphConfig\u001b[0m\u001b[1;39m(\u001b[0m\n",
              "\u001b[39m        \u001b[0m\u001b[33mverbose\u001b[0m\u001b[39m=\u001b[0m\u001b[3;91mFalse\u001b[0m\u001b[39m,\u001b[0m\n",
              "\u001b[39m        \u001b[0m\u001b[33madd_hs\u001b[0m\u001b[39m=\u001b[0m\u001b[3;91mFalse\u001b[0m\u001b[39m,\u001b[0m\n",
              "\u001b[39m        \u001b[0m\u001b[33mgenerate_conformer\u001b[0m\u001b[39m=\u001b[0m\u001b[3;91mFalse\u001b[0m\u001b[39m,\u001b[0m\n",
              "\u001b[39m        \u001b[0m\u001b[33medge_construction_functions\u001b[0m\u001b[39m=\u001b[0m\u001b[1;39m[\u001b[0m\n",
              "\u001b[39m            <function add_fully_connected_edges at \u001b[0m\u001b[1;36m0x7f12ee28d670\u001b[0m\u001b[39m>,\u001b[0m\n",
              "\u001b[39m            <function add_k_nn_edges at \u001b[0m\u001b[1;36m0x7f12ee28d700\u001b[0m\u001b[39m>,\u001b[0m\n",
              "\u001b[39m            <function add_distance_threshold at \u001b[0m\u001b[1;36m0x7f12ee28d5e0\u001b[0m\u001b[39m>,\u001b[0m\n",
              "\u001b[39m            <function add_atom_bonds at \u001b[0m\u001b[1;36m0x7f12ee28d160\u001b[0m\u001b[39m>\u001b[0m\n",
              "\u001b[39m        \u001b[0m\u001b[1;39m]\u001b[0m\u001b[39m,\u001b[0m\n",
              "\u001b[39m        \u001b[0m\u001b[33mnode_metadata_functions\u001b[0m\u001b[39m=\u001b[0m\u001b[1;39m[\u001b[0m\u001b[39m<function atom_type_one_hot at \u001b[0m\u001b[1;36m0x7f12ecf3b670\u001b[0m\u001b[39m>\u001b[0m\u001b[1;39m]\u001b[0m\u001b[39m,\u001b[0m\n",
              "\u001b[39m        \u001b[0m\u001b[33medge_metadata_functions\u001b[0m\u001b[39m=\u001b[0m\u001b[3;35mNone\u001b[0m\u001b[39m,\u001b[0m\n",
              "\u001b[39m        \u001b[0m\u001b[33mgraph_metadata_functions\u001b[0m\u001b[39m=\u001b[0m\u001b[1;39m[\u001b[0m\u001b[39m<function mol_descriptors at \u001b[0m\u001b[1;36m0x7f12ee284040\u001b[0m\u001b[1m>\u001b[0m\u001b[1m]\u001b[0m\n",
              "    \u001b[1m)\u001b[0m,\n",
              "    \u001b[32m'MaxEStateIndex'\u001b[0m: \u001b[1;36m4.847222222222222\u001b[0m,\n",
              "    \u001b[32m'MinEStateIndex'\u001b[0m: \u001b[1;36m0.75\u001b[0m,\n",
              "    \u001b[32m'MaxAbsEStateIndex'\u001b[0m: \u001b[1;36m4.847222222222222\u001b[0m,\n",
              "    \u001b[32m'MinAbsEStateIndex'\u001b[0m: \u001b[1;36m0.75\u001b[0m,\n",
              "    \u001b[32m'qed'\u001b[0m: \u001b[1;36m0.40623709538988323\u001b[0m,\n",
              "    \u001b[32m'MolWt'\u001b[0m: \u001b[1;36m45.084999999999994\u001b[0m,\n",
              "    \u001b[32m'HeavyAtomMolWt'\u001b[0m: \u001b[1;36m38.028999999999996\u001b[0m,\n",
              "    \u001b[32m'ExactMolWt'\u001b[0m: \u001b[1;36m45.057849223999995\u001b[0m,\n",
              "    \u001b[32m'NumValenceElectrons'\u001b[0m: \u001b[1;36m20\u001b[0m,\n",
              "    \u001b[32m'NumRadicalElectrons'\u001b[0m: \u001b[1;36m0\u001b[0m,\n",
              "    \u001b[32m'MaxPartialCharge'\u001b[0m: \u001b[1;36m-0.010576265829206462\u001b[0m,\n",
              "    \u001b[32m'MinPartialCharge'\u001b[0m: \u001b[1;36m-0.3307484184390755\u001b[0m,\n",
              "    \u001b[32m'MaxAbsPartialCharge'\u001b[0m: \u001b[1;36m0.3307484184390755\u001b[0m,\n",
              "    \u001b[32m'MinAbsPartialCharge'\u001b[0m: \u001b[1;36m0.010576265829206462\u001b[0m,\n",
              "    \u001b[32m'FpDensityMorgan1'\u001b[0m: \u001b[1;36m2.0\u001b[0m,\n",
              "    \u001b[32m'FpDensityMorgan2'\u001b[0m: \u001b[1;36m2.0\u001b[0m,\n",
              "    \u001b[32m'FpDensityMorgan3'\u001b[0m: \u001b[1;36m2.0\u001b[0m,\n",
              "    \u001b[32m'BCUT2D_MWHI'\u001b[0m: \u001b[1;36m14.489350501685236\u001b[0m,\n",
              "    \u001b[32m'BCUT2D_MWLOW'\u001b[0m: \u001b[1;36m10.840990590774261\u001b[0m,\n",
              "    \u001b[32m'BCUT2D_CHGHI'\u001b[0m: \u001b[1;36m1.3223586846717188\u001b[0m,\n",
              "    \u001b[32m'BCUT2D_CHGLO'\u001b[0m: \u001b[1;36m-1.5255036511694584\u001b[0m,\n",
              "    \u001b[32m'BCUT2D_LOGPHI'\u001b[0m: \u001b[1;36m1.1976547781828029\u001b[0m,\n",
              "    \u001b[32m'BCUT2D_LOGPLOW'\u001b[0m: \u001b[1;36m-1.871495321468652\u001b[0m,\n",
              "    \u001b[32m'BCUT2D_MRHI'\u001b[0m: \u001b[1;36m3.9983956644101193\u001b[0m,\n",
              "    \u001b[32m'BCUT2D_MRLOW'\u001b[0m: \u001b[1;36m1.1354269715888405\u001b[0m,\n",
              "    \u001b[32m'BalabanJ'\u001b[0m: \u001b[1;36m1.6329931618554523\u001b[0m,\n",
              "    \u001b[32m'BertzCT'\u001b[0m: \u001b[1;36m2.7548875021634682\u001b[0m,\n",
              "    \u001b[32m'Chi0'\u001b[0m: \u001b[1;36m2.7071067811865475\u001b[0m,\n",
              "    \u001b[32m'Chi0n'\u001b[0m: \u001b[1;36m2.284457050376173\u001b[0m,\n",
              "    \u001b[32m'Chi0v'\u001b[0m: \u001b[1;36m2.284457050376173\u001b[0m,\n",
              "    \u001b[32m'Chi1'\u001b[0m: \u001b[1;36m1.4142135623730951\u001b[0m,\n",
              "    \u001b[32m'Chi1n'\u001b[0m: \u001b[1;36m1.1153550716504106\u001b[0m,\n",
              "    \u001b[32m'Chi1v'\u001b[0m: \u001b[1;36m1.1153550716504106\u001b[0m,\n",
              "    \u001b[32m'Chi2n'\u001b[0m: \u001b[1;36m0.408248290463863\u001b[0m,\n",
              "    \u001b[32m'Chi2v'\u001b[0m: \u001b[1;36m0.408248290463863\u001b[0m,\n",
              "    \u001b[32m'Chi3n'\u001b[0m: \u001b[1;36m0.0\u001b[0m,\n",
              "    \u001b[32m'Chi3v'\u001b[0m: \u001b[1;36m0.0\u001b[0m,\n",
              "    \u001b[32m'Chi4n'\u001b[0m: \u001b[1;36m0.0\u001b[0m,\n",
              "    \u001b[32m'Chi4v'\u001b[0m: \u001b[1;36m0.0\u001b[0m,\n",
              "    \u001b[32m'HallKierAlpha'\u001b[0m: \u001b[1;36m-0.04\u001b[0m,\n",
              "    \u001b[32m'Ipc'\u001b[0m: \u001b[1;36m2.7548875021634682\u001b[0m,\n",
              "    \u001b[32m'Kappa1'\u001b[0m: \u001b[1;36m2.9600000000000004\u001b[0m,\n",
              "    \u001b[32m'Kappa2'\u001b[0m: \u001b[1;36m1.96\u001b[0m,\n",
              "    \u001b[32m'Kappa3'\u001b[0m: \u001b[1;36m1.9600000000000033\u001b[0m,\n",
              "    \u001b[32m'LabuteASA'\u001b[0m: \u001b[1;36m20.444083839238875\u001b[0m,\n",
              "    \u001b[32m'PEOE_VSA1'\u001b[0m: \u001b[1;36m5.733667477162185\u001b[0m,\n",
              "    \u001b[32m'PEOE_VSA10'\u001b[0m: \u001b[1;36m0.0\u001b[0m,\n",
              "    \u001b[32m'PEOE_VSA11'\u001b[0m: \u001b[1;36m0.0\u001b[0m,\n",
              "    \u001b[32m'PEOE_VSA12'\u001b[0m: \u001b[1;36m0.0\u001b[0m,\n",
              "    \u001b[32m'PEOE_VSA13'\u001b[0m: \u001b[1;36m0.0\u001b[0m,\n",
              "    \u001b[32m'PEOE_VSA14'\u001b[0m: \u001b[1;36m0.0\u001b[0m,\n",
              "    \u001b[32m'PEOE_VSA2'\u001b[0m: \u001b[1;36m0.0\u001b[0m,\n",
              "    \u001b[32m'PEOE_VSA3'\u001b[0m: \u001b[1;36m0.0\u001b[0m,\n",
              "    \u001b[32m'PEOE_VSA4'\u001b[0m: \u001b[1;36m0.0\u001b[0m,\n",
              "    \u001b[32m'PEOE_VSA5'\u001b[0m: \u001b[1;36m0.0\u001b[0m,\n",
              "    \u001b[32m'PEOE_VSA6'\u001b[0m: \u001b[1;36m6.923737199690624\u001b[0m,\n",
              "    \u001b[32m'PEOE_VSA7'\u001b[0m: \u001b[1;36m6.544756405912575\u001b[0m,\n",
              "    \u001b[32m'PEOE_VSA8'\u001b[0m: \u001b[1;36m0.0\u001b[0m,\n",
              "    \u001b[32m'PEOE_VSA9'\u001b[0m: \u001b[1;36m0.0\u001b[0m,\n",
              "    \u001b[32m'SMR_VSA1'\u001b[0m: \u001b[1;36m0.0\u001b[0m,\n",
              "    \u001b[32m'SMR_VSA10'\u001b[0m: \u001b[1;36m0.0\u001b[0m,\n",
              "    \u001b[32m'SMR_VSA2'\u001b[0m: \u001b[1;36m0.0\u001b[0m,\n",
              "    \u001b[32m'SMR_VSA3'\u001b[0m: \u001b[1;36m0.0\u001b[0m,\n",
              "    \u001b[32m'SMR_VSA4'\u001b[0m: \u001b[1;36m5.733667477162185\u001b[0m,\n",
              "    \u001b[32m'SMR_VSA5'\u001b[0m: \u001b[1;36m6.923737199690624\u001b[0m,\n",
              "    \u001b[32m'SMR_VSA6'\u001b[0m: \u001b[1;36m6.544756405912575\u001b[0m,\n",
              "    \u001b[32m'SMR_VSA7'\u001b[0m: \u001b[1;36m0.0\u001b[0m,\n",
              "    \u001b[32m'SMR_VSA8'\u001b[0m: \u001b[1;36m0.0\u001b[0m,\n",
              "    \u001b[32m'SMR_VSA9'\u001b[0m: \u001b[1;36m0.0\u001b[0m,\n",
              "    \u001b[32m'SlogP_VSA1'\u001b[0m: \u001b[1;36m5.733667477162185\u001b[0m,\n",
              "    \u001b[32m'SlogP_VSA10'\u001b[0m: \u001b[1;36m0.0\u001b[0m,\n",
              "    \u001b[32m'SlogP_VSA11'\u001b[0m: \u001b[1;36m0.0\u001b[0m,\n",
              "    \u001b[32m'SlogP_VSA12'\u001b[0m: \u001b[1;36m0.0\u001b[0m,\n",
              "    \u001b[32m'SlogP_VSA2'\u001b[0m: \u001b[1;36m6.544756405912575\u001b[0m,\n",
              "    \u001b[32m'SlogP_VSA3'\u001b[0m: \u001b[1;36m0.0\u001b[0m,\n",
              "    \u001b[32m'SlogP_VSA4'\u001b[0m: \u001b[1;36m0.0\u001b[0m,\n",
              "    \u001b[32m'SlogP_VSA5'\u001b[0m: \u001b[1;36m6.923737199690624\u001b[0m,\n",
              "    \u001b[32m'SlogP_VSA6'\u001b[0m: \u001b[1;36m0.0\u001b[0m,\n",
              "    \u001b[32m'SlogP_VSA7'\u001b[0m: \u001b[1;36m0.0\u001b[0m,\n",
              "    \u001b[32m'SlogP_VSA8'\u001b[0m: \u001b[1;36m0.0\u001b[0m,\n",
              "    \u001b[32m'SlogP_VSA9'\u001b[0m: \u001b[1;36m0.0\u001b[0m,\n",
              "    \u001b[32m'TPSA'\u001b[0m: \u001b[1;36m26.02\u001b[0m,\n",
              "    \u001b[32m'EState_VSA1'\u001b[0m: \u001b[1;36m0.0\u001b[0m,\n",
              "    \u001b[32m'EState_VSA10'\u001b[0m: \u001b[1;36m0.0\u001b[0m,\n",
              "    \u001b[32m'EState_VSA11'\u001b[0m: \u001b[1;36m0.0\u001b[0m,\n",
              "    \u001b[32m'EState_VSA2'\u001b[0m: \u001b[1;36m0.0\u001b[0m,\n",
              "    \u001b[32m'EState_VSA3'\u001b[0m: \u001b[1;36m0.0\u001b[0m,\n",
              "    \u001b[32m'EState_VSA4'\u001b[0m: \u001b[1;36m6.544756405912575\u001b[0m,\n",
              "    \u001b[32m'EState_VSA5'\u001b[0m: \u001b[1;36m0.0\u001b[0m,\n",
              "    \u001b[32m'EState_VSA6'\u001b[0m: \u001b[1;36m0.0\u001b[0m,\n",
              "    \u001b[32m'EState_VSA7'\u001b[0m: \u001b[1;36m6.923737199690624\u001b[0m,\n",
              "    \u001b[32m'EState_VSA8'\u001b[0m: \u001b[1;36m0.0\u001b[0m,\n",
              "    \u001b[32m'EState_VSA9'\u001b[0m: \u001b[1;36m5.733667477162185\u001b[0m,\n",
              "    \u001b[32m'VSA_EState1'\u001b[0m: \u001b[1;36m0.0\u001b[0m,\n",
              "    \u001b[32m'VSA_EState10'\u001b[0m: \u001b[1;36m0.0\u001b[0m,\n",
              "    \u001b[32m'VSA_EState2'\u001b[0m: \u001b[1;36m0.0\u001b[0m,\n",
              "    \u001b[32m'VSA_EState3'\u001b[0m: \u001b[1;36m0.0\u001b[0m,\n",
              "    \u001b[32m'VSA_EState4'\u001b[0m: \u001b[1;36m4.847222222222222\u001b[0m,\n",
              "    \u001b[32m'VSA_EState5'\u001b[0m: \u001b[1;36m0.0\u001b[0m,\n",
              "    \u001b[32m'VSA_EState6'\u001b[0m: \u001b[1;36m0.0\u001b[0m,\n",
              "    \u001b[32m'VSA_EState7'\u001b[0m: \u001b[1;36m0.0\u001b[0m,\n",
              "    \u001b[32m'VSA_EState8'\u001b[0m: \u001b[1;36m2.6527777777777777\u001b[0m,\n",
              "    \u001b[32m'VSA_EState9'\u001b[0m: \u001b[1;36m0.0\u001b[0m,\n",
              "    \u001b[32m'FractionCSP3'\u001b[0m: \u001b[1;36m1.0\u001b[0m,\n",
              "    \u001b[32m'HeavyAtomCount'\u001b[0m: \u001b[1;36m3\u001b[0m,\n",
              "    \u001b[32m'NHOHCount'\u001b[0m: \u001b[1;36m2\u001b[0m,\n",
              "    \u001b[32m'NOCount'\u001b[0m: \u001b[1;36m1\u001b[0m,\n",
              "    \u001b[32m'NumAliphaticCarbocycles'\u001b[0m: \u001b[1;36m0\u001b[0m,\n",
              "    \u001b[32m'NumAliphaticHeterocycles'\u001b[0m: \u001b[1;36m0\u001b[0m,\n",
              "    \u001b[32m'NumAliphaticRings'\u001b[0m: \u001b[1;36m0\u001b[0m,\n",
              "    \u001b[32m'NumAromaticCarbocycles'\u001b[0m: \u001b[1;36m0\u001b[0m,\n",
              "    \u001b[32m'NumAromaticHeterocycles'\u001b[0m: \u001b[1;36m0\u001b[0m,\n",
              "    \u001b[32m'NumAromaticRings'\u001b[0m: \u001b[1;36m0\u001b[0m,\n",
              "    \u001b[32m'NumHAcceptors'\u001b[0m: \u001b[1;36m1\u001b[0m,\n",
              "    \u001b[32m'NumHDonors'\u001b[0m: \u001b[1;36m1\u001b[0m,\n",
              "    \u001b[32m'NumHeteroatoms'\u001b[0m: \u001b[1;36m1\u001b[0m,\n",
              "    \u001b[32m'NumRotatableBonds'\u001b[0m: \u001b[1;36m0\u001b[0m,\n",
              "    \u001b[32m'NumSaturatedCarbocycles'\u001b[0m: \u001b[1;36m0\u001b[0m,\n",
              "    \u001b[32m'NumSaturatedHeterocycles'\u001b[0m: \u001b[1;36m0\u001b[0m,\n",
              "    \u001b[32m'NumSaturatedRings'\u001b[0m: \u001b[1;36m0\u001b[0m,\n",
              "    \u001b[32m'RingCount'\u001b[0m: \u001b[1;36m0\u001b[0m,\n",
              "    \u001b[32m'MolLogP'\u001b[0m: \u001b[1;36m-0.03499999999999981\u001b[0m,\n",
              "    \u001b[32m'MolMR'\u001b[0m: \u001b[1;36m14.728400000000002\u001b[0m,\n",
              "    \u001b[32m'fr_Al_COO'\u001b[0m: \u001b[1;36m0\u001b[0m,\n",
              "    \u001b[32m'fr_Al_OH'\u001b[0m: \u001b[1;36m0\u001b[0m,\n",
              "    \u001b[32m'fr_Al_OH_noTert'\u001b[0m: \u001b[1;36m0\u001b[0m,\n",
              "    \u001b[32m'fr_ArN'\u001b[0m: \u001b[1;36m0\u001b[0m,\n",
              "    \u001b[32m'fr_Ar_COO'\u001b[0m: \u001b[1;36m0\u001b[0m,\n",
              "    \u001b[32m'fr_Ar_N'\u001b[0m: \u001b[1;36m0\u001b[0m,\n",
              "    \u001b[32m'fr_Ar_NH'\u001b[0m: \u001b[1;36m0\u001b[0m,\n",
              "    \u001b[32m'fr_Ar_OH'\u001b[0m: \u001b[1;36m0\u001b[0m,\n",
              "    \u001b[32m'fr_COO'\u001b[0m: \u001b[1;36m0\u001b[0m,\n",
              "    \u001b[32m'fr_COO2'\u001b[0m: \u001b[1;36m0\u001b[0m,\n",
              "    \u001b[32m'fr_C_O'\u001b[0m: \u001b[1;36m0\u001b[0m,\n",
              "    \u001b[32m'fr_C_O_noCOO'\u001b[0m: \u001b[1;36m0\u001b[0m,\n",
              "    \u001b[32m'fr_C_S'\u001b[0m: \u001b[1;36m0\u001b[0m,\n",
              "    \u001b[32m'fr_HOCCN'\u001b[0m: \u001b[1;36m0\u001b[0m,\n",
              "    \u001b[32m'fr_Imine'\u001b[0m: \u001b[1;36m0\u001b[0m,\n",
              "    \u001b[32m'fr_NH0'\u001b[0m: \u001b[1;36m0\u001b[0m,\n",
              "    \u001b[32m'fr_NH1'\u001b[0m: \u001b[1;36m0\u001b[0m,\n",
              "    \u001b[32m'fr_NH2'\u001b[0m: \u001b[1;36m1\u001b[0m,\n",
              "    \u001b[32m'fr_N_O'\u001b[0m: \u001b[1;36m0\u001b[0m,\n",
              "    \u001b[32m'fr_Ndealkylation1'\u001b[0m: \u001b[1;36m0\u001b[0m,\n",
              "    \u001b[32m'fr_Ndealkylation2'\u001b[0m: \u001b[1;36m0\u001b[0m,\n",
              "    \u001b[32m'fr_Nhpyrrole'\u001b[0m: \u001b[1;36m0\u001b[0m,\n",
              "    \u001b[32m'fr_SH'\u001b[0m: \u001b[1;36m0\u001b[0m,\n",
              "    \u001b[32m'fr_aldehyde'\u001b[0m: \u001b[1;36m0\u001b[0m,\n",
              "    \u001b[32m'fr_alkyl_carbamate'\u001b[0m: \u001b[1;36m0\u001b[0m,\n",
              "    \u001b[32m'fr_alkyl_halide'\u001b[0m: \u001b[1;36m0\u001b[0m,\n",
              "    \u001b[32m'fr_allylic_oxid'\u001b[0m: \u001b[1;36m0\u001b[0m,\n",
              "    \u001b[32m'fr_amide'\u001b[0m: \u001b[1;36m0\u001b[0m,\n",
              "    \u001b[32m'fr_amidine'\u001b[0m: \u001b[1;36m0\u001b[0m,\n",
              "    \u001b[32m'fr_aniline'\u001b[0m: \u001b[1;36m0\u001b[0m,\n",
              "    \u001b[32m'fr_aryl_methyl'\u001b[0m: \u001b[1;36m0\u001b[0m,\n",
              "    \u001b[32m'fr_azide'\u001b[0m: \u001b[1;36m0\u001b[0m,\n",
              "    \u001b[32m'fr_azo'\u001b[0m: \u001b[1;36m0\u001b[0m,\n",
              "    \u001b[32m'fr_barbitur'\u001b[0m: \u001b[1;36m0\u001b[0m,\n",
              "    \u001b[32m'fr_benzene'\u001b[0m: \u001b[1;36m0\u001b[0m,\n",
              "    \u001b[32m'fr_benzodiazepine'\u001b[0m: \u001b[1;36m0\u001b[0m,\n",
              "    \u001b[32m'fr_bicyclic'\u001b[0m: \u001b[1;36m0\u001b[0m,\n",
              "    \u001b[32m'fr_diazo'\u001b[0m: \u001b[1;36m0\u001b[0m,\n",
              "    \u001b[32m'fr_dihydropyridine'\u001b[0m: \u001b[1;36m0\u001b[0m,\n",
              "    \u001b[32m'fr_epoxide'\u001b[0m: \u001b[1;36m0\u001b[0m,\n",
              "    \u001b[32m'fr_ester'\u001b[0m: \u001b[1;36m0\u001b[0m,\n",
              "    \u001b[32m'fr_ether'\u001b[0m: \u001b[1;36m0\u001b[0m,\n",
              "    \u001b[32m'fr_furan'\u001b[0m: \u001b[1;36m0\u001b[0m,\n",
              "    \u001b[32m'fr_guanido'\u001b[0m: \u001b[1;36m0\u001b[0m,\n",
              "    \u001b[32m'fr_halogen'\u001b[0m: \u001b[1;36m0\u001b[0m,\n",
              "    \u001b[32m'fr_hdrzine'\u001b[0m: \u001b[1;36m0\u001b[0m,\n",
              "    \u001b[32m'fr_hdrzone'\u001b[0m: \u001b[1;36m0\u001b[0m,\n",
              "    \u001b[32m'fr_imidazole'\u001b[0m: \u001b[1;36m0\u001b[0m,\n",
              "    \u001b[32m'fr_imide'\u001b[0m: \u001b[1;36m0\u001b[0m,\n",
              "    \u001b[32m'fr_isocyan'\u001b[0m: \u001b[1;36m0\u001b[0m,\n",
              "    \u001b[32m'fr_isothiocyan'\u001b[0m: \u001b[1;36m0\u001b[0m,\n",
              "    \u001b[32m'fr_ketone'\u001b[0m: \u001b[1;36m0\u001b[0m,\n",
              "    \u001b[32m'fr_ketone_Topliss'\u001b[0m: \u001b[1;36m0\u001b[0m,\n",
              "    \u001b[32m'fr_lactam'\u001b[0m: \u001b[1;36m0\u001b[0m,\n",
              "    \u001b[32m'fr_lactone'\u001b[0m: \u001b[1;36m0\u001b[0m,\n",
              "    \u001b[32m'fr_methoxy'\u001b[0m: \u001b[1;36m0\u001b[0m,\n",
              "    \u001b[32m'fr_morpholine'\u001b[0m: \u001b[1;36m0\u001b[0m,\n",
              "    \u001b[32m'fr_nitrile'\u001b[0m: \u001b[1;36m0\u001b[0m,\n",
              "    \u001b[32m'fr_nitro'\u001b[0m: \u001b[1;36m0\u001b[0m,\n",
              "    \u001b[32m'fr_nitro_arom'\u001b[0m: \u001b[1;36m0\u001b[0m,\n",
              "    \u001b[32m'fr_nitro_arom_nonortho'\u001b[0m: \u001b[1;36m0\u001b[0m,\n",
              "    \u001b[32m'fr_nitroso'\u001b[0m: \u001b[1;36m0\u001b[0m,\n",
              "    \u001b[32m'fr_oxazole'\u001b[0m: \u001b[1;36m0\u001b[0m,\n",
              "    \u001b[32m'fr_oxime'\u001b[0m: \u001b[1;36m0\u001b[0m,\n",
              "    \u001b[32m'fr_para_hydroxylation'\u001b[0m: \u001b[1;36m0\u001b[0m,\n",
              "    \u001b[32m'fr_phenol'\u001b[0m: \u001b[1;36m0\u001b[0m,\n",
              "    \u001b[32m'fr_phenol_noOrthoHbond'\u001b[0m: \u001b[1;36m0\u001b[0m,\n",
              "    \u001b[32m'fr_phos_acid'\u001b[0m: \u001b[1;36m0\u001b[0m,\n",
              "    \u001b[32m'fr_phos_ester'\u001b[0m: \u001b[1;36m0\u001b[0m,\n",
              "    \u001b[32m'fr_piperdine'\u001b[0m: \u001b[1;36m0\u001b[0m,\n",
              "    \u001b[32m'fr_piperzine'\u001b[0m: \u001b[1;36m0\u001b[0m,\n",
              "    \u001b[32m'fr_priamide'\u001b[0m: \u001b[1;36m0\u001b[0m,\n",
              "    \u001b[32m'fr_prisulfonamd'\u001b[0m: \u001b[1;36m0\u001b[0m,\n",
              "    \u001b[32m'fr_pyridine'\u001b[0m: \u001b[1;36m0\u001b[0m,\n",
              "    \u001b[32m'fr_quatN'\u001b[0m: \u001b[1;36m0\u001b[0m,\n",
              "    \u001b[32m'fr_sulfide'\u001b[0m: \u001b[1;36m0\u001b[0m,\n",
              "    \u001b[32m'fr_sulfonamd'\u001b[0m: \u001b[1;36m0\u001b[0m,\n",
              "    \u001b[32m'fr_sulfone'\u001b[0m: \u001b[1;36m0\u001b[0m,\n",
              "    \u001b[32m'fr_term_acetylene'\u001b[0m: \u001b[1;36m0\u001b[0m,\n",
              "    \u001b[32m'fr_tetrazole'\u001b[0m: \u001b[1;36m0\u001b[0m,\n",
              "    \u001b[32m'fr_thiazole'\u001b[0m: \u001b[1;36m0\u001b[0m,\n",
              "    \u001b[32m'fr_thiocyan'\u001b[0m: \u001b[1;36m0\u001b[0m,\n",
              "    \u001b[32m'fr_thiophene'\u001b[0m: \u001b[1;36m0\u001b[0m,\n",
              "    \u001b[32m'fr_unbrch_alkane'\u001b[0m: \u001b[1;36m0\u001b[0m,\n",
              "    \u001b[32m'fr_urea'\u001b[0m: \u001b[1;36m0\u001b[0m\n",
              "\u001b[1m}\u001b[0m\n"
            ],
            "text/html": [
              "<pre style=\"white-space:pre;overflow-x:auto;line-height:normal;font-family:Menlo,'DejaVu Sans Mono',consolas,'Courier New',monospace\"><span style=\"font-weight: bold\">{</span>\n",
              "    <span style=\"color: #008000; text-decoration-color: #008000\">'name'</span>: <span style=\"color: #008000; text-decoration-color: #008000\">'short_test'</span>,\n",
              "    <span style=\"color: #008000; text-decoration-color: #008000\">'rdmol'</span>: <span style=\"font-weight: bold\">&lt;</span><span style=\"color: #ff00ff; text-decoration-color: #ff00ff; font-weight: bold\">rdkit.Chem.rdchem.Mol</span><span style=\"color: #000000; text-decoration-color: #000000\"> object at </span><span style=\"color: #008080; text-decoration-color: #008080; font-weight: bold\">0x7f12eaab7660</span><span style=\"color: #000000; text-decoration-color: #000000\">&gt;,</span>\n",
              "<span style=\"color: #000000; text-decoration-color: #000000\">    </span><span style=\"color: #008000; text-decoration-color: #008000\">'coords'</span><span style=\"color: #000000; text-decoration-color: #000000\">: </span><span style=\"color: #800080; text-decoration-color: #800080; font-weight: bold\">array</span><span style=\"color: #000000; text-decoration-color: #000000; font-weight: bold\">([[</span><span style=\"color: #000000; text-decoration-color: #000000\"> </span><span style=\"color: #008080; text-decoration-color: #008080; font-weight: bold\">0.9862</span><span style=\"color: #000000; text-decoration-color: #000000\">, </span><span style=\"color: #008080; text-decoration-color: #008080; font-weight: bold\">-0.257</span><span style=\"color: #000000; text-decoration-color: #000000\"> , </span><span style=\"color: #008080; text-decoration-color: #008080; font-weight: bold\">-0.1905</span><span style=\"color: #000000; text-decoration-color: #000000; font-weight: bold\">]</span><span style=\"color: #000000; text-decoration-color: #000000\">,</span>\n",
              "<span style=\"color: #000000; text-decoration-color: #000000\">       </span><span style=\"color: #000000; text-decoration-color: #000000; font-weight: bold\">[</span><span style=\"color: #008080; text-decoration-color: #008080; font-weight: bold\">-0.2052</span><span style=\"color: #000000; text-decoration-color: #000000\">,  </span><span style=\"color: #008080; text-decoration-color: #008080; font-weight: bold\">0.2236</span><span style=\"color: #000000; text-decoration-color: #000000\">,  </span><span style=\"color: #008080; text-decoration-color: #008080; font-weight: bold\">0.6206</span><span style=\"color: #000000; text-decoration-color: #000000; font-weight: bold\">]</span><span style=\"color: #000000; text-decoration-color: #000000\">,</span>\n",
              "<span style=\"color: #000000; text-decoration-color: #000000\">       </span><span style=\"color: #000000; text-decoration-color: #000000; font-weight: bold\">[</span><span style=\"color: #008080; text-decoration-color: #008080; font-weight: bold\">-1.4201</span><span style=\"color: #000000; text-decoration-color: #000000\">,  </span><span style=\"color: #008080; text-decoration-color: #008080; font-weight: bold\">0.2357</span><span style=\"color: #000000; text-decoration-color: #000000\">, </span><span style=\"color: #008080; text-decoration-color: #008080; font-weight: bold\">-0.1847</span><span style=\"color: #000000; text-decoration-color: #000000; font-weight: bold\">]])</span><span style=\"color: #000000; text-decoration-color: #000000\">,</span>\n",
              "<span style=\"color: #000000; text-decoration-color: #000000\">    </span><span style=\"color: #008000; text-decoration-color: #008000\">'smiles'</span><span style=\"color: #000000; text-decoration-color: #000000\">: </span><span style=\"color: #008000; text-decoration-color: #008000\">'CCN'</span><span style=\"color: #000000; text-decoration-color: #000000\">,</span>\n",
              "<span style=\"color: #000000; text-decoration-color: #000000\">    </span><span style=\"color: #008000; text-decoration-color: #008000\">'config'</span><span style=\"color: #000000; text-decoration-color: #000000\">: </span><span style=\"color: #800080; text-decoration-color: #800080; font-weight: bold\">MoleculeGraphConfig</span><span style=\"color: #000000; text-decoration-color: #000000; font-weight: bold\">(</span>\n",
              "<span style=\"color: #000000; text-decoration-color: #000000\">        </span><span style=\"color: #808000; text-decoration-color: #808000\">verbose</span><span style=\"color: #000000; text-decoration-color: #000000\">=</span><span style=\"color: #ff0000; text-decoration-color: #ff0000; font-style: italic\">False</span><span style=\"color: #000000; text-decoration-color: #000000\">,</span>\n",
              "<span style=\"color: #000000; text-decoration-color: #000000\">        </span><span style=\"color: #808000; text-decoration-color: #808000\">add_hs</span><span style=\"color: #000000; text-decoration-color: #000000\">=</span><span style=\"color: #ff0000; text-decoration-color: #ff0000; font-style: italic\">False</span><span style=\"color: #000000; text-decoration-color: #000000\">,</span>\n",
              "<span style=\"color: #000000; text-decoration-color: #000000\">        </span><span style=\"color: #808000; text-decoration-color: #808000\">generate_conformer</span><span style=\"color: #000000; text-decoration-color: #000000\">=</span><span style=\"color: #ff0000; text-decoration-color: #ff0000; font-style: italic\">False</span><span style=\"color: #000000; text-decoration-color: #000000\">,</span>\n",
              "<span style=\"color: #000000; text-decoration-color: #000000\">        </span><span style=\"color: #808000; text-decoration-color: #808000\">edge_construction_functions</span><span style=\"color: #000000; text-decoration-color: #000000\">=</span><span style=\"color: #000000; text-decoration-color: #000000; font-weight: bold\">[</span>\n",
              "<span style=\"color: #000000; text-decoration-color: #000000\">            &lt;function add_fully_connected_edges at </span><span style=\"color: #008080; text-decoration-color: #008080; font-weight: bold\">0x7f12ee28d670</span><span style=\"color: #000000; text-decoration-color: #000000\">&gt;,</span>\n",
              "<span style=\"color: #000000; text-decoration-color: #000000\">            &lt;function add_k_nn_edges at </span><span style=\"color: #008080; text-decoration-color: #008080; font-weight: bold\">0x7f12ee28d700</span><span style=\"color: #000000; text-decoration-color: #000000\">&gt;,</span>\n",
              "<span style=\"color: #000000; text-decoration-color: #000000\">            &lt;function add_distance_threshold at </span><span style=\"color: #008080; text-decoration-color: #008080; font-weight: bold\">0x7f12ee28d5e0</span><span style=\"color: #000000; text-decoration-color: #000000\">&gt;,</span>\n",
              "<span style=\"color: #000000; text-decoration-color: #000000\">            &lt;function add_atom_bonds at </span><span style=\"color: #008080; text-decoration-color: #008080; font-weight: bold\">0x7f12ee28d160</span><span style=\"color: #000000; text-decoration-color: #000000\">&gt;</span>\n",
              "<span style=\"color: #000000; text-decoration-color: #000000\">        </span><span style=\"color: #000000; text-decoration-color: #000000; font-weight: bold\">]</span><span style=\"color: #000000; text-decoration-color: #000000\">,</span>\n",
              "<span style=\"color: #000000; text-decoration-color: #000000\">        </span><span style=\"color: #808000; text-decoration-color: #808000\">node_metadata_functions</span><span style=\"color: #000000; text-decoration-color: #000000\">=</span><span style=\"color: #000000; text-decoration-color: #000000; font-weight: bold\">[</span><span style=\"color: #000000; text-decoration-color: #000000\">&lt;function atom_type_one_hot at </span><span style=\"color: #008080; text-decoration-color: #008080; font-weight: bold\">0x7f12ecf3b670</span><span style=\"color: #000000; text-decoration-color: #000000\">&gt;</span><span style=\"color: #000000; text-decoration-color: #000000; font-weight: bold\">]</span><span style=\"color: #000000; text-decoration-color: #000000\">,</span>\n",
              "<span style=\"color: #000000; text-decoration-color: #000000\">        </span><span style=\"color: #808000; text-decoration-color: #808000\">edge_metadata_functions</span><span style=\"color: #000000; text-decoration-color: #000000\">=</span><span style=\"color: #800080; text-decoration-color: #800080; font-style: italic\">None</span><span style=\"color: #000000; text-decoration-color: #000000\">,</span>\n",
              "<span style=\"color: #000000; text-decoration-color: #000000\">        </span><span style=\"color: #808000; text-decoration-color: #808000\">graph_metadata_functions</span><span style=\"color: #000000; text-decoration-color: #000000\">=</span><span style=\"color: #000000; text-decoration-color: #000000; font-weight: bold\">[</span><span style=\"color: #000000; text-decoration-color: #000000\">&lt;function mol_descriptors at </span><span style=\"color: #008080; text-decoration-color: #008080; font-weight: bold\">0x7f12ee284040</span><span style=\"font-weight: bold\">&gt;]</span>\n",
              "    <span style=\"font-weight: bold\">)</span>,\n",
              "    <span style=\"color: #008000; text-decoration-color: #008000\">'MaxEStateIndex'</span>: <span style=\"color: #008080; text-decoration-color: #008080; font-weight: bold\">4.847222222222222</span>,\n",
              "    <span style=\"color: #008000; text-decoration-color: #008000\">'MinEStateIndex'</span>: <span style=\"color: #008080; text-decoration-color: #008080; font-weight: bold\">0.75</span>,\n",
              "    <span style=\"color: #008000; text-decoration-color: #008000\">'MaxAbsEStateIndex'</span>: <span style=\"color: #008080; text-decoration-color: #008080; font-weight: bold\">4.847222222222222</span>,\n",
              "    <span style=\"color: #008000; text-decoration-color: #008000\">'MinAbsEStateIndex'</span>: <span style=\"color: #008080; text-decoration-color: #008080; font-weight: bold\">0.75</span>,\n",
              "    <span style=\"color: #008000; text-decoration-color: #008000\">'qed'</span>: <span style=\"color: #008080; text-decoration-color: #008080; font-weight: bold\">0.40623709538988323</span>,\n",
              "    <span style=\"color: #008000; text-decoration-color: #008000\">'MolWt'</span>: <span style=\"color: #008080; text-decoration-color: #008080; font-weight: bold\">45.084999999999994</span>,\n",
              "    <span style=\"color: #008000; text-decoration-color: #008000\">'HeavyAtomMolWt'</span>: <span style=\"color: #008080; text-decoration-color: #008080; font-weight: bold\">38.028999999999996</span>,\n",
              "    <span style=\"color: #008000; text-decoration-color: #008000\">'ExactMolWt'</span>: <span style=\"color: #008080; text-decoration-color: #008080; font-weight: bold\">45.057849223999995</span>,\n",
              "    <span style=\"color: #008000; text-decoration-color: #008000\">'NumValenceElectrons'</span>: <span style=\"color: #008080; text-decoration-color: #008080; font-weight: bold\">20</span>,\n",
              "    <span style=\"color: #008000; text-decoration-color: #008000\">'NumRadicalElectrons'</span>: <span style=\"color: #008080; text-decoration-color: #008080; font-weight: bold\">0</span>,\n",
              "    <span style=\"color: #008000; text-decoration-color: #008000\">'MaxPartialCharge'</span>: <span style=\"color: #008080; text-decoration-color: #008080; font-weight: bold\">-0.010576265829206462</span>,\n",
              "    <span style=\"color: #008000; text-decoration-color: #008000\">'MinPartialCharge'</span>: <span style=\"color: #008080; text-decoration-color: #008080; font-weight: bold\">-0.3307484184390755</span>,\n",
              "    <span style=\"color: #008000; text-decoration-color: #008000\">'MaxAbsPartialCharge'</span>: <span style=\"color: #008080; text-decoration-color: #008080; font-weight: bold\">0.3307484184390755</span>,\n",
              "    <span style=\"color: #008000; text-decoration-color: #008000\">'MinAbsPartialCharge'</span>: <span style=\"color: #008080; text-decoration-color: #008080; font-weight: bold\">0.010576265829206462</span>,\n",
              "    <span style=\"color: #008000; text-decoration-color: #008000\">'FpDensityMorgan1'</span>: <span style=\"color: #008080; text-decoration-color: #008080; font-weight: bold\">2.0</span>,\n",
              "    <span style=\"color: #008000; text-decoration-color: #008000\">'FpDensityMorgan2'</span>: <span style=\"color: #008080; text-decoration-color: #008080; font-weight: bold\">2.0</span>,\n",
              "    <span style=\"color: #008000; text-decoration-color: #008000\">'FpDensityMorgan3'</span>: <span style=\"color: #008080; text-decoration-color: #008080; font-weight: bold\">2.0</span>,\n",
              "    <span style=\"color: #008000; text-decoration-color: #008000\">'BCUT2D_MWHI'</span>: <span style=\"color: #008080; text-decoration-color: #008080; font-weight: bold\">14.489350501685236</span>,\n",
              "    <span style=\"color: #008000; text-decoration-color: #008000\">'BCUT2D_MWLOW'</span>: <span style=\"color: #008080; text-decoration-color: #008080; font-weight: bold\">10.840990590774261</span>,\n",
              "    <span style=\"color: #008000; text-decoration-color: #008000\">'BCUT2D_CHGHI'</span>: <span style=\"color: #008080; text-decoration-color: #008080; font-weight: bold\">1.3223586846717188</span>,\n",
              "    <span style=\"color: #008000; text-decoration-color: #008000\">'BCUT2D_CHGLO'</span>: <span style=\"color: #008080; text-decoration-color: #008080; font-weight: bold\">-1.5255036511694584</span>,\n",
              "    <span style=\"color: #008000; text-decoration-color: #008000\">'BCUT2D_LOGPHI'</span>: <span style=\"color: #008080; text-decoration-color: #008080; font-weight: bold\">1.1976547781828029</span>,\n",
              "    <span style=\"color: #008000; text-decoration-color: #008000\">'BCUT2D_LOGPLOW'</span>: <span style=\"color: #008080; text-decoration-color: #008080; font-weight: bold\">-1.871495321468652</span>,\n",
              "    <span style=\"color: #008000; text-decoration-color: #008000\">'BCUT2D_MRHI'</span>: <span style=\"color: #008080; text-decoration-color: #008080; font-weight: bold\">3.9983956644101193</span>,\n",
              "    <span style=\"color: #008000; text-decoration-color: #008000\">'BCUT2D_MRLOW'</span>: <span style=\"color: #008080; text-decoration-color: #008080; font-weight: bold\">1.1354269715888405</span>,\n",
              "    <span style=\"color: #008000; text-decoration-color: #008000\">'BalabanJ'</span>: <span style=\"color: #008080; text-decoration-color: #008080; font-weight: bold\">1.6329931618554523</span>,\n",
              "    <span style=\"color: #008000; text-decoration-color: #008000\">'BertzCT'</span>: <span style=\"color: #008080; text-decoration-color: #008080; font-weight: bold\">2.7548875021634682</span>,\n",
              "    <span style=\"color: #008000; text-decoration-color: #008000\">'Chi0'</span>: <span style=\"color: #008080; text-decoration-color: #008080; font-weight: bold\">2.7071067811865475</span>,\n",
              "    <span style=\"color: #008000; text-decoration-color: #008000\">'Chi0n'</span>: <span style=\"color: #008080; text-decoration-color: #008080; font-weight: bold\">2.284457050376173</span>,\n",
              "    <span style=\"color: #008000; text-decoration-color: #008000\">'Chi0v'</span>: <span style=\"color: #008080; text-decoration-color: #008080; font-weight: bold\">2.284457050376173</span>,\n",
              "    <span style=\"color: #008000; text-decoration-color: #008000\">'Chi1'</span>: <span style=\"color: #008080; text-decoration-color: #008080; font-weight: bold\">1.4142135623730951</span>,\n",
              "    <span style=\"color: #008000; text-decoration-color: #008000\">'Chi1n'</span>: <span style=\"color: #008080; text-decoration-color: #008080; font-weight: bold\">1.1153550716504106</span>,\n",
              "    <span style=\"color: #008000; text-decoration-color: #008000\">'Chi1v'</span>: <span style=\"color: #008080; text-decoration-color: #008080; font-weight: bold\">1.1153550716504106</span>,\n",
              "    <span style=\"color: #008000; text-decoration-color: #008000\">'Chi2n'</span>: <span style=\"color: #008080; text-decoration-color: #008080; font-weight: bold\">0.408248290463863</span>,\n",
              "    <span style=\"color: #008000; text-decoration-color: #008000\">'Chi2v'</span>: <span style=\"color: #008080; text-decoration-color: #008080; font-weight: bold\">0.408248290463863</span>,\n",
              "    <span style=\"color: #008000; text-decoration-color: #008000\">'Chi3n'</span>: <span style=\"color: #008080; text-decoration-color: #008080; font-weight: bold\">0.0</span>,\n",
              "    <span style=\"color: #008000; text-decoration-color: #008000\">'Chi3v'</span>: <span style=\"color: #008080; text-decoration-color: #008080; font-weight: bold\">0.0</span>,\n",
              "    <span style=\"color: #008000; text-decoration-color: #008000\">'Chi4n'</span>: <span style=\"color: #008080; text-decoration-color: #008080; font-weight: bold\">0.0</span>,\n",
              "    <span style=\"color: #008000; text-decoration-color: #008000\">'Chi4v'</span>: <span style=\"color: #008080; text-decoration-color: #008080; font-weight: bold\">0.0</span>,\n",
              "    <span style=\"color: #008000; text-decoration-color: #008000\">'HallKierAlpha'</span>: <span style=\"color: #008080; text-decoration-color: #008080; font-weight: bold\">-0.04</span>,\n",
              "    <span style=\"color: #008000; text-decoration-color: #008000\">'Ipc'</span>: <span style=\"color: #008080; text-decoration-color: #008080; font-weight: bold\">2.7548875021634682</span>,\n",
              "    <span style=\"color: #008000; text-decoration-color: #008000\">'Kappa1'</span>: <span style=\"color: #008080; text-decoration-color: #008080; font-weight: bold\">2.9600000000000004</span>,\n",
              "    <span style=\"color: #008000; text-decoration-color: #008000\">'Kappa2'</span>: <span style=\"color: #008080; text-decoration-color: #008080; font-weight: bold\">1.96</span>,\n",
              "    <span style=\"color: #008000; text-decoration-color: #008000\">'Kappa3'</span>: <span style=\"color: #008080; text-decoration-color: #008080; font-weight: bold\">1.9600000000000033</span>,\n",
              "    <span style=\"color: #008000; text-decoration-color: #008000\">'LabuteASA'</span>: <span style=\"color: #008080; text-decoration-color: #008080; font-weight: bold\">20.444083839238875</span>,\n",
              "    <span style=\"color: #008000; text-decoration-color: #008000\">'PEOE_VSA1'</span>: <span style=\"color: #008080; text-decoration-color: #008080; font-weight: bold\">5.733667477162185</span>,\n",
              "    <span style=\"color: #008000; text-decoration-color: #008000\">'PEOE_VSA10'</span>: <span style=\"color: #008080; text-decoration-color: #008080; font-weight: bold\">0.0</span>,\n",
              "    <span style=\"color: #008000; text-decoration-color: #008000\">'PEOE_VSA11'</span>: <span style=\"color: #008080; text-decoration-color: #008080; font-weight: bold\">0.0</span>,\n",
              "    <span style=\"color: #008000; text-decoration-color: #008000\">'PEOE_VSA12'</span>: <span style=\"color: #008080; text-decoration-color: #008080; font-weight: bold\">0.0</span>,\n",
              "    <span style=\"color: #008000; text-decoration-color: #008000\">'PEOE_VSA13'</span>: <span style=\"color: #008080; text-decoration-color: #008080; font-weight: bold\">0.0</span>,\n",
              "    <span style=\"color: #008000; text-decoration-color: #008000\">'PEOE_VSA14'</span>: <span style=\"color: #008080; text-decoration-color: #008080; font-weight: bold\">0.0</span>,\n",
              "    <span style=\"color: #008000; text-decoration-color: #008000\">'PEOE_VSA2'</span>: <span style=\"color: #008080; text-decoration-color: #008080; font-weight: bold\">0.0</span>,\n",
              "    <span style=\"color: #008000; text-decoration-color: #008000\">'PEOE_VSA3'</span>: <span style=\"color: #008080; text-decoration-color: #008080; font-weight: bold\">0.0</span>,\n",
              "    <span style=\"color: #008000; text-decoration-color: #008000\">'PEOE_VSA4'</span>: <span style=\"color: #008080; text-decoration-color: #008080; font-weight: bold\">0.0</span>,\n",
              "    <span style=\"color: #008000; text-decoration-color: #008000\">'PEOE_VSA5'</span>: <span style=\"color: #008080; text-decoration-color: #008080; font-weight: bold\">0.0</span>,\n",
              "    <span style=\"color: #008000; text-decoration-color: #008000\">'PEOE_VSA6'</span>: <span style=\"color: #008080; text-decoration-color: #008080; font-weight: bold\">6.923737199690624</span>,\n",
              "    <span style=\"color: #008000; text-decoration-color: #008000\">'PEOE_VSA7'</span>: <span style=\"color: #008080; text-decoration-color: #008080; font-weight: bold\">6.544756405912575</span>,\n",
              "    <span style=\"color: #008000; text-decoration-color: #008000\">'PEOE_VSA8'</span>: <span style=\"color: #008080; text-decoration-color: #008080; font-weight: bold\">0.0</span>,\n",
              "    <span style=\"color: #008000; text-decoration-color: #008000\">'PEOE_VSA9'</span>: <span style=\"color: #008080; text-decoration-color: #008080; font-weight: bold\">0.0</span>,\n",
              "    <span style=\"color: #008000; text-decoration-color: #008000\">'SMR_VSA1'</span>: <span style=\"color: #008080; text-decoration-color: #008080; font-weight: bold\">0.0</span>,\n",
              "    <span style=\"color: #008000; text-decoration-color: #008000\">'SMR_VSA10'</span>: <span style=\"color: #008080; text-decoration-color: #008080; font-weight: bold\">0.0</span>,\n",
              "    <span style=\"color: #008000; text-decoration-color: #008000\">'SMR_VSA2'</span>: <span style=\"color: #008080; text-decoration-color: #008080; font-weight: bold\">0.0</span>,\n",
              "    <span style=\"color: #008000; text-decoration-color: #008000\">'SMR_VSA3'</span>: <span style=\"color: #008080; text-decoration-color: #008080; font-weight: bold\">0.0</span>,\n",
              "    <span style=\"color: #008000; text-decoration-color: #008000\">'SMR_VSA4'</span>: <span style=\"color: #008080; text-decoration-color: #008080; font-weight: bold\">5.733667477162185</span>,\n",
              "    <span style=\"color: #008000; text-decoration-color: #008000\">'SMR_VSA5'</span>: <span style=\"color: #008080; text-decoration-color: #008080; font-weight: bold\">6.923737199690624</span>,\n",
              "    <span style=\"color: #008000; text-decoration-color: #008000\">'SMR_VSA6'</span>: <span style=\"color: #008080; text-decoration-color: #008080; font-weight: bold\">6.544756405912575</span>,\n",
              "    <span style=\"color: #008000; text-decoration-color: #008000\">'SMR_VSA7'</span>: <span style=\"color: #008080; text-decoration-color: #008080; font-weight: bold\">0.0</span>,\n",
              "    <span style=\"color: #008000; text-decoration-color: #008000\">'SMR_VSA8'</span>: <span style=\"color: #008080; text-decoration-color: #008080; font-weight: bold\">0.0</span>,\n",
              "    <span style=\"color: #008000; text-decoration-color: #008000\">'SMR_VSA9'</span>: <span style=\"color: #008080; text-decoration-color: #008080; font-weight: bold\">0.0</span>,\n",
              "    <span style=\"color: #008000; text-decoration-color: #008000\">'SlogP_VSA1'</span>: <span style=\"color: #008080; text-decoration-color: #008080; font-weight: bold\">5.733667477162185</span>,\n",
              "    <span style=\"color: #008000; text-decoration-color: #008000\">'SlogP_VSA10'</span>: <span style=\"color: #008080; text-decoration-color: #008080; font-weight: bold\">0.0</span>,\n",
              "    <span style=\"color: #008000; text-decoration-color: #008000\">'SlogP_VSA11'</span>: <span style=\"color: #008080; text-decoration-color: #008080; font-weight: bold\">0.0</span>,\n",
              "    <span style=\"color: #008000; text-decoration-color: #008000\">'SlogP_VSA12'</span>: <span style=\"color: #008080; text-decoration-color: #008080; font-weight: bold\">0.0</span>,\n",
              "    <span style=\"color: #008000; text-decoration-color: #008000\">'SlogP_VSA2'</span>: <span style=\"color: #008080; text-decoration-color: #008080; font-weight: bold\">6.544756405912575</span>,\n",
              "    <span style=\"color: #008000; text-decoration-color: #008000\">'SlogP_VSA3'</span>: <span style=\"color: #008080; text-decoration-color: #008080; font-weight: bold\">0.0</span>,\n",
              "    <span style=\"color: #008000; text-decoration-color: #008000\">'SlogP_VSA4'</span>: <span style=\"color: #008080; text-decoration-color: #008080; font-weight: bold\">0.0</span>,\n",
              "    <span style=\"color: #008000; text-decoration-color: #008000\">'SlogP_VSA5'</span>: <span style=\"color: #008080; text-decoration-color: #008080; font-weight: bold\">6.923737199690624</span>,\n",
              "    <span style=\"color: #008000; text-decoration-color: #008000\">'SlogP_VSA6'</span>: <span style=\"color: #008080; text-decoration-color: #008080; font-weight: bold\">0.0</span>,\n",
              "    <span style=\"color: #008000; text-decoration-color: #008000\">'SlogP_VSA7'</span>: <span style=\"color: #008080; text-decoration-color: #008080; font-weight: bold\">0.0</span>,\n",
              "    <span style=\"color: #008000; text-decoration-color: #008000\">'SlogP_VSA8'</span>: <span style=\"color: #008080; text-decoration-color: #008080; font-weight: bold\">0.0</span>,\n",
              "    <span style=\"color: #008000; text-decoration-color: #008000\">'SlogP_VSA9'</span>: <span style=\"color: #008080; text-decoration-color: #008080; font-weight: bold\">0.0</span>,\n",
              "    <span style=\"color: #008000; text-decoration-color: #008000\">'TPSA'</span>: <span style=\"color: #008080; text-decoration-color: #008080; font-weight: bold\">26.02</span>,\n",
              "    <span style=\"color: #008000; text-decoration-color: #008000\">'EState_VSA1'</span>: <span style=\"color: #008080; text-decoration-color: #008080; font-weight: bold\">0.0</span>,\n",
              "    <span style=\"color: #008000; text-decoration-color: #008000\">'EState_VSA10'</span>: <span style=\"color: #008080; text-decoration-color: #008080; font-weight: bold\">0.0</span>,\n",
              "    <span style=\"color: #008000; text-decoration-color: #008000\">'EState_VSA11'</span>: <span style=\"color: #008080; text-decoration-color: #008080; font-weight: bold\">0.0</span>,\n",
              "    <span style=\"color: #008000; text-decoration-color: #008000\">'EState_VSA2'</span>: <span style=\"color: #008080; text-decoration-color: #008080; font-weight: bold\">0.0</span>,\n",
              "    <span style=\"color: #008000; text-decoration-color: #008000\">'EState_VSA3'</span>: <span style=\"color: #008080; text-decoration-color: #008080; font-weight: bold\">0.0</span>,\n",
              "    <span style=\"color: #008000; text-decoration-color: #008000\">'EState_VSA4'</span>: <span style=\"color: #008080; text-decoration-color: #008080; font-weight: bold\">6.544756405912575</span>,\n",
              "    <span style=\"color: #008000; text-decoration-color: #008000\">'EState_VSA5'</span>: <span style=\"color: #008080; text-decoration-color: #008080; font-weight: bold\">0.0</span>,\n",
              "    <span style=\"color: #008000; text-decoration-color: #008000\">'EState_VSA6'</span>: <span style=\"color: #008080; text-decoration-color: #008080; font-weight: bold\">0.0</span>,\n",
              "    <span style=\"color: #008000; text-decoration-color: #008000\">'EState_VSA7'</span>: <span style=\"color: #008080; text-decoration-color: #008080; font-weight: bold\">6.923737199690624</span>,\n",
              "    <span style=\"color: #008000; text-decoration-color: #008000\">'EState_VSA8'</span>: <span style=\"color: #008080; text-decoration-color: #008080; font-weight: bold\">0.0</span>,\n",
              "    <span style=\"color: #008000; text-decoration-color: #008000\">'EState_VSA9'</span>: <span style=\"color: #008080; text-decoration-color: #008080; font-weight: bold\">5.733667477162185</span>,\n",
              "    <span style=\"color: #008000; text-decoration-color: #008000\">'VSA_EState1'</span>: <span style=\"color: #008080; text-decoration-color: #008080; font-weight: bold\">0.0</span>,\n",
              "    <span style=\"color: #008000; text-decoration-color: #008000\">'VSA_EState10'</span>: <span style=\"color: #008080; text-decoration-color: #008080; font-weight: bold\">0.0</span>,\n",
              "    <span style=\"color: #008000; text-decoration-color: #008000\">'VSA_EState2'</span>: <span style=\"color: #008080; text-decoration-color: #008080; font-weight: bold\">0.0</span>,\n",
              "    <span style=\"color: #008000; text-decoration-color: #008000\">'VSA_EState3'</span>: <span style=\"color: #008080; text-decoration-color: #008080; font-weight: bold\">0.0</span>,\n",
              "    <span style=\"color: #008000; text-decoration-color: #008000\">'VSA_EState4'</span>: <span style=\"color: #008080; text-decoration-color: #008080; font-weight: bold\">4.847222222222222</span>,\n",
              "    <span style=\"color: #008000; text-decoration-color: #008000\">'VSA_EState5'</span>: <span style=\"color: #008080; text-decoration-color: #008080; font-weight: bold\">0.0</span>,\n",
              "    <span style=\"color: #008000; text-decoration-color: #008000\">'VSA_EState6'</span>: <span style=\"color: #008080; text-decoration-color: #008080; font-weight: bold\">0.0</span>,\n",
              "    <span style=\"color: #008000; text-decoration-color: #008000\">'VSA_EState7'</span>: <span style=\"color: #008080; text-decoration-color: #008080; font-weight: bold\">0.0</span>,\n",
              "    <span style=\"color: #008000; text-decoration-color: #008000\">'VSA_EState8'</span>: <span style=\"color: #008080; text-decoration-color: #008080; font-weight: bold\">2.6527777777777777</span>,\n",
              "    <span style=\"color: #008000; text-decoration-color: #008000\">'VSA_EState9'</span>: <span style=\"color: #008080; text-decoration-color: #008080; font-weight: bold\">0.0</span>,\n",
              "    <span style=\"color: #008000; text-decoration-color: #008000\">'FractionCSP3'</span>: <span style=\"color: #008080; text-decoration-color: #008080; font-weight: bold\">1.0</span>,\n",
              "    <span style=\"color: #008000; text-decoration-color: #008000\">'HeavyAtomCount'</span>: <span style=\"color: #008080; text-decoration-color: #008080; font-weight: bold\">3</span>,\n",
              "    <span style=\"color: #008000; text-decoration-color: #008000\">'NHOHCount'</span>: <span style=\"color: #008080; text-decoration-color: #008080; font-weight: bold\">2</span>,\n",
              "    <span style=\"color: #008000; text-decoration-color: #008000\">'NOCount'</span>: <span style=\"color: #008080; text-decoration-color: #008080; font-weight: bold\">1</span>,\n",
              "    <span style=\"color: #008000; text-decoration-color: #008000\">'NumAliphaticCarbocycles'</span>: <span style=\"color: #008080; text-decoration-color: #008080; font-weight: bold\">0</span>,\n",
              "    <span style=\"color: #008000; text-decoration-color: #008000\">'NumAliphaticHeterocycles'</span>: <span style=\"color: #008080; text-decoration-color: #008080; font-weight: bold\">0</span>,\n",
              "    <span style=\"color: #008000; text-decoration-color: #008000\">'NumAliphaticRings'</span>: <span style=\"color: #008080; text-decoration-color: #008080; font-weight: bold\">0</span>,\n",
              "    <span style=\"color: #008000; text-decoration-color: #008000\">'NumAromaticCarbocycles'</span>: <span style=\"color: #008080; text-decoration-color: #008080; font-weight: bold\">0</span>,\n",
              "    <span style=\"color: #008000; text-decoration-color: #008000\">'NumAromaticHeterocycles'</span>: <span style=\"color: #008080; text-decoration-color: #008080; font-weight: bold\">0</span>,\n",
              "    <span style=\"color: #008000; text-decoration-color: #008000\">'NumAromaticRings'</span>: <span style=\"color: #008080; text-decoration-color: #008080; font-weight: bold\">0</span>,\n",
              "    <span style=\"color: #008000; text-decoration-color: #008000\">'NumHAcceptors'</span>: <span style=\"color: #008080; text-decoration-color: #008080; font-weight: bold\">1</span>,\n",
              "    <span style=\"color: #008000; text-decoration-color: #008000\">'NumHDonors'</span>: <span style=\"color: #008080; text-decoration-color: #008080; font-weight: bold\">1</span>,\n",
              "    <span style=\"color: #008000; text-decoration-color: #008000\">'NumHeteroatoms'</span>: <span style=\"color: #008080; text-decoration-color: #008080; font-weight: bold\">1</span>,\n",
              "    <span style=\"color: #008000; text-decoration-color: #008000\">'NumRotatableBonds'</span>: <span style=\"color: #008080; text-decoration-color: #008080; font-weight: bold\">0</span>,\n",
              "    <span style=\"color: #008000; text-decoration-color: #008000\">'NumSaturatedCarbocycles'</span>: <span style=\"color: #008080; text-decoration-color: #008080; font-weight: bold\">0</span>,\n",
              "    <span style=\"color: #008000; text-decoration-color: #008000\">'NumSaturatedHeterocycles'</span>: <span style=\"color: #008080; text-decoration-color: #008080; font-weight: bold\">0</span>,\n",
              "    <span style=\"color: #008000; text-decoration-color: #008000\">'NumSaturatedRings'</span>: <span style=\"color: #008080; text-decoration-color: #008080; font-weight: bold\">0</span>,\n",
              "    <span style=\"color: #008000; text-decoration-color: #008000\">'RingCount'</span>: <span style=\"color: #008080; text-decoration-color: #008080; font-weight: bold\">0</span>,\n",
              "    <span style=\"color: #008000; text-decoration-color: #008000\">'MolLogP'</span>: <span style=\"color: #008080; text-decoration-color: #008080; font-weight: bold\">-0.03499999999999981</span>,\n",
              "    <span style=\"color: #008000; text-decoration-color: #008000\">'MolMR'</span>: <span style=\"color: #008080; text-decoration-color: #008080; font-weight: bold\">14.728400000000002</span>,\n",
              "    <span style=\"color: #008000; text-decoration-color: #008000\">'fr_Al_COO'</span>: <span style=\"color: #008080; text-decoration-color: #008080; font-weight: bold\">0</span>,\n",
              "    <span style=\"color: #008000; text-decoration-color: #008000\">'fr_Al_OH'</span>: <span style=\"color: #008080; text-decoration-color: #008080; font-weight: bold\">0</span>,\n",
              "    <span style=\"color: #008000; text-decoration-color: #008000\">'fr_Al_OH_noTert'</span>: <span style=\"color: #008080; text-decoration-color: #008080; font-weight: bold\">0</span>,\n",
              "    <span style=\"color: #008000; text-decoration-color: #008000\">'fr_ArN'</span>: <span style=\"color: #008080; text-decoration-color: #008080; font-weight: bold\">0</span>,\n",
              "    <span style=\"color: #008000; text-decoration-color: #008000\">'fr_Ar_COO'</span>: <span style=\"color: #008080; text-decoration-color: #008080; font-weight: bold\">0</span>,\n",
              "    <span style=\"color: #008000; text-decoration-color: #008000\">'fr_Ar_N'</span>: <span style=\"color: #008080; text-decoration-color: #008080; font-weight: bold\">0</span>,\n",
              "    <span style=\"color: #008000; text-decoration-color: #008000\">'fr_Ar_NH'</span>: <span style=\"color: #008080; text-decoration-color: #008080; font-weight: bold\">0</span>,\n",
              "    <span style=\"color: #008000; text-decoration-color: #008000\">'fr_Ar_OH'</span>: <span style=\"color: #008080; text-decoration-color: #008080; font-weight: bold\">0</span>,\n",
              "    <span style=\"color: #008000; text-decoration-color: #008000\">'fr_COO'</span>: <span style=\"color: #008080; text-decoration-color: #008080; font-weight: bold\">0</span>,\n",
              "    <span style=\"color: #008000; text-decoration-color: #008000\">'fr_COO2'</span>: <span style=\"color: #008080; text-decoration-color: #008080; font-weight: bold\">0</span>,\n",
              "    <span style=\"color: #008000; text-decoration-color: #008000\">'fr_C_O'</span>: <span style=\"color: #008080; text-decoration-color: #008080; font-weight: bold\">0</span>,\n",
              "    <span style=\"color: #008000; text-decoration-color: #008000\">'fr_C_O_noCOO'</span>: <span style=\"color: #008080; text-decoration-color: #008080; font-weight: bold\">0</span>,\n",
              "    <span style=\"color: #008000; text-decoration-color: #008000\">'fr_C_S'</span>: <span style=\"color: #008080; text-decoration-color: #008080; font-weight: bold\">0</span>,\n",
              "    <span style=\"color: #008000; text-decoration-color: #008000\">'fr_HOCCN'</span>: <span style=\"color: #008080; text-decoration-color: #008080; font-weight: bold\">0</span>,\n",
              "    <span style=\"color: #008000; text-decoration-color: #008000\">'fr_Imine'</span>: <span style=\"color: #008080; text-decoration-color: #008080; font-weight: bold\">0</span>,\n",
              "    <span style=\"color: #008000; text-decoration-color: #008000\">'fr_NH0'</span>: <span style=\"color: #008080; text-decoration-color: #008080; font-weight: bold\">0</span>,\n",
              "    <span style=\"color: #008000; text-decoration-color: #008000\">'fr_NH1'</span>: <span style=\"color: #008080; text-decoration-color: #008080; font-weight: bold\">0</span>,\n",
              "    <span style=\"color: #008000; text-decoration-color: #008000\">'fr_NH2'</span>: <span style=\"color: #008080; text-decoration-color: #008080; font-weight: bold\">1</span>,\n",
              "    <span style=\"color: #008000; text-decoration-color: #008000\">'fr_N_O'</span>: <span style=\"color: #008080; text-decoration-color: #008080; font-weight: bold\">0</span>,\n",
              "    <span style=\"color: #008000; text-decoration-color: #008000\">'fr_Ndealkylation1'</span>: <span style=\"color: #008080; text-decoration-color: #008080; font-weight: bold\">0</span>,\n",
              "    <span style=\"color: #008000; text-decoration-color: #008000\">'fr_Ndealkylation2'</span>: <span style=\"color: #008080; text-decoration-color: #008080; font-weight: bold\">0</span>,\n",
              "    <span style=\"color: #008000; text-decoration-color: #008000\">'fr_Nhpyrrole'</span>: <span style=\"color: #008080; text-decoration-color: #008080; font-weight: bold\">0</span>,\n",
              "    <span style=\"color: #008000; text-decoration-color: #008000\">'fr_SH'</span>: <span style=\"color: #008080; text-decoration-color: #008080; font-weight: bold\">0</span>,\n",
              "    <span style=\"color: #008000; text-decoration-color: #008000\">'fr_aldehyde'</span>: <span style=\"color: #008080; text-decoration-color: #008080; font-weight: bold\">0</span>,\n",
              "    <span style=\"color: #008000; text-decoration-color: #008000\">'fr_alkyl_carbamate'</span>: <span style=\"color: #008080; text-decoration-color: #008080; font-weight: bold\">0</span>,\n",
              "    <span style=\"color: #008000; text-decoration-color: #008000\">'fr_alkyl_halide'</span>: <span style=\"color: #008080; text-decoration-color: #008080; font-weight: bold\">0</span>,\n",
              "    <span style=\"color: #008000; text-decoration-color: #008000\">'fr_allylic_oxid'</span>: <span style=\"color: #008080; text-decoration-color: #008080; font-weight: bold\">0</span>,\n",
              "    <span style=\"color: #008000; text-decoration-color: #008000\">'fr_amide'</span>: <span style=\"color: #008080; text-decoration-color: #008080; font-weight: bold\">0</span>,\n",
              "    <span style=\"color: #008000; text-decoration-color: #008000\">'fr_amidine'</span>: <span style=\"color: #008080; text-decoration-color: #008080; font-weight: bold\">0</span>,\n",
              "    <span style=\"color: #008000; text-decoration-color: #008000\">'fr_aniline'</span>: <span style=\"color: #008080; text-decoration-color: #008080; font-weight: bold\">0</span>,\n",
              "    <span style=\"color: #008000; text-decoration-color: #008000\">'fr_aryl_methyl'</span>: <span style=\"color: #008080; text-decoration-color: #008080; font-weight: bold\">0</span>,\n",
              "    <span style=\"color: #008000; text-decoration-color: #008000\">'fr_azide'</span>: <span style=\"color: #008080; text-decoration-color: #008080; font-weight: bold\">0</span>,\n",
              "    <span style=\"color: #008000; text-decoration-color: #008000\">'fr_azo'</span>: <span style=\"color: #008080; text-decoration-color: #008080; font-weight: bold\">0</span>,\n",
              "    <span style=\"color: #008000; text-decoration-color: #008000\">'fr_barbitur'</span>: <span style=\"color: #008080; text-decoration-color: #008080; font-weight: bold\">0</span>,\n",
              "    <span style=\"color: #008000; text-decoration-color: #008000\">'fr_benzene'</span>: <span style=\"color: #008080; text-decoration-color: #008080; font-weight: bold\">0</span>,\n",
              "    <span style=\"color: #008000; text-decoration-color: #008000\">'fr_benzodiazepine'</span>: <span style=\"color: #008080; text-decoration-color: #008080; font-weight: bold\">0</span>,\n",
              "    <span style=\"color: #008000; text-decoration-color: #008000\">'fr_bicyclic'</span>: <span style=\"color: #008080; text-decoration-color: #008080; font-weight: bold\">0</span>,\n",
              "    <span style=\"color: #008000; text-decoration-color: #008000\">'fr_diazo'</span>: <span style=\"color: #008080; text-decoration-color: #008080; font-weight: bold\">0</span>,\n",
              "    <span style=\"color: #008000; text-decoration-color: #008000\">'fr_dihydropyridine'</span>: <span style=\"color: #008080; text-decoration-color: #008080; font-weight: bold\">0</span>,\n",
              "    <span style=\"color: #008000; text-decoration-color: #008000\">'fr_epoxide'</span>: <span style=\"color: #008080; text-decoration-color: #008080; font-weight: bold\">0</span>,\n",
              "    <span style=\"color: #008000; text-decoration-color: #008000\">'fr_ester'</span>: <span style=\"color: #008080; text-decoration-color: #008080; font-weight: bold\">0</span>,\n",
              "    <span style=\"color: #008000; text-decoration-color: #008000\">'fr_ether'</span>: <span style=\"color: #008080; text-decoration-color: #008080; font-weight: bold\">0</span>,\n",
              "    <span style=\"color: #008000; text-decoration-color: #008000\">'fr_furan'</span>: <span style=\"color: #008080; text-decoration-color: #008080; font-weight: bold\">0</span>,\n",
              "    <span style=\"color: #008000; text-decoration-color: #008000\">'fr_guanido'</span>: <span style=\"color: #008080; text-decoration-color: #008080; font-weight: bold\">0</span>,\n",
              "    <span style=\"color: #008000; text-decoration-color: #008000\">'fr_halogen'</span>: <span style=\"color: #008080; text-decoration-color: #008080; font-weight: bold\">0</span>,\n",
              "    <span style=\"color: #008000; text-decoration-color: #008000\">'fr_hdrzine'</span>: <span style=\"color: #008080; text-decoration-color: #008080; font-weight: bold\">0</span>,\n",
              "    <span style=\"color: #008000; text-decoration-color: #008000\">'fr_hdrzone'</span>: <span style=\"color: #008080; text-decoration-color: #008080; font-weight: bold\">0</span>,\n",
              "    <span style=\"color: #008000; text-decoration-color: #008000\">'fr_imidazole'</span>: <span style=\"color: #008080; text-decoration-color: #008080; font-weight: bold\">0</span>,\n",
              "    <span style=\"color: #008000; text-decoration-color: #008000\">'fr_imide'</span>: <span style=\"color: #008080; text-decoration-color: #008080; font-weight: bold\">0</span>,\n",
              "    <span style=\"color: #008000; text-decoration-color: #008000\">'fr_isocyan'</span>: <span style=\"color: #008080; text-decoration-color: #008080; font-weight: bold\">0</span>,\n",
              "    <span style=\"color: #008000; text-decoration-color: #008000\">'fr_isothiocyan'</span>: <span style=\"color: #008080; text-decoration-color: #008080; font-weight: bold\">0</span>,\n",
              "    <span style=\"color: #008000; text-decoration-color: #008000\">'fr_ketone'</span>: <span style=\"color: #008080; text-decoration-color: #008080; font-weight: bold\">0</span>,\n",
              "    <span style=\"color: #008000; text-decoration-color: #008000\">'fr_ketone_Topliss'</span>: <span style=\"color: #008080; text-decoration-color: #008080; font-weight: bold\">0</span>,\n",
              "    <span style=\"color: #008000; text-decoration-color: #008000\">'fr_lactam'</span>: <span style=\"color: #008080; text-decoration-color: #008080; font-weight: bold\">0</span>,\n",
              "    <span style=\"color: #008000; text-decoration-color: #008000\">'fr_lactone'</span>: <span style=\"color: #008080; text-decoration-color: #008080; font-weight: bold\">0</span>,\n",
              "    <span style=\"color: #008000; text-decoration-color: #008000\">'fr_methoxy'</span>: <span style=\"color: #008080; text-decoration-color: #008080; font-weight: bold\">0</span>,\n",
              "    <span style=\"color: #008000; text-decoration-color: #008000\">'fr_morpholine'</span>: <span style=\"color: #008080; text-decoration-color: #008080; font-weight: bold\">0</span>,\n",
              "    <span style=\"color: #008000; text-decoration-color: #008000\">'fr_nitrile'</span>: <span style=\"color: #008080; text-decoration-color: #008080; font-weight: bold\">0</span>,\n",
              "    <span style=\"color: #008000; text-decoration-color: #008000\">'fr_nitro'</span>: <span style=\"color: #008080; text-decoration-color: #008080; font-weight: bold\">0</span>,\n",
              "    <span style=\"color: #008000; text-decoration-color: #008000\">'fr_nitro_arom'</span>: <span style=\"color: #008080; text-decoration-color: #008080; font-weight: bold\">0</span>,\n",
              "    <span style=\"color: #008000; text-decoration-color: #008000\">'fr_nitro_arom_nonortho'</span>: <span style=\"color: #008080; text-decoration-color: #008080; font-weight: bold\">0</span>,\n",
              "    <span style=\"color: #008000; text-decoration-color: #008000\">'fr_nitroso'</span>: <span style=\"color: #008080; text-decoration-color: #008080; font-weight: bold\">0</span>,\n",
              "    <span style=\"color: #008000; text-decoration-color: #008000\">'fr_oxazole'</span>: <span style=\"color: #008080; text-decoration-color: #008080; font-weight: bold\">0</span>,\n",
              "    <span style=\"color: #008000; text-decoration-color: #008000\">'fr_oxime'</span>: <span style=\"color: #008080; text-decoration-color: #008080; font-weight: bold\">0</span>,\n",
              "    <span style=\"color: #008000; text-decoration-color: #008000\">'fr_para_hydroxylation'</span>: <span style=\"color: #008080; text-decoration-color: #008080; font-weight: bold\">0</span>,\n",
              "    <span style=\"color: #008000; text-decoration-color: #008000\">'fr_phenol'</span>: <span style=\"color: #008080; text-decoration-color: #008080; font-weight: bold\">0</span>,\n",
              "    <span style=\"color: #008000; text-decoration-color: #008000\">'fr_phenol_noOrthoHbond'</span>: <span style=\"color: #008080; text-decoration-color: #008080; font-weight: bold\">0</span>,\n",
              "    <span style=\"color: #008000; text-decoration-color: #008000\">'fr_phos_acid'</span>: <span style=\"color: #008080; text-decoration-color: #008080; font-weight: bold\">0</span>,\n",
              "    <span style=\"color: #008000; text-decoration-color: #008000\">'fr_phos_ester'</span>: <span style=\"color: #008080; text-decoration-color: #008080; font-weight: bold\">0</span>,\n",
              "    <span style=\"color: #008000; text-decoration-color: #008000\">'fr_piperdine'</span>: <span style=\"color: #008080; text-decoration-color: #008080; font-weight: bold\">0</span>,\n",
              "    <span style=\"color: #008000; text-decoration-color: #008000\">'fr_piperzine'</span>: <span style=\"color: #008080; text-decoration-color: #008080; font-weight: bold\">0</span>,\n",
              "    <span style=\"color: #008000; text-decoration-color: #008000\">'fr_priamide'</span>: <span style=\"color: #008080; text-decoration-color: #008080; font-weight: bold\">0</span>,\n",
              "    <span style=\"color: #008000; text-decoration-color: #008000\">'fr_prisulfonamd'</span>: <span style=\"color: #008080; text-decoration-color: #008080; font-weight: bold\">0</span>,\n",
              "    <span style=\"color: #008000; text-decoration-color: #008000\">'fr_pyridine'</span>: <span style=\"color: #008080; text-decoration-color: #008080; font-weight: bold\">0</span>,\n",
              "    <span style=\"color: #008000; text-decoration-color: #008000\">'fr_quatN'</span>: <span style=\"color: #008080; text-decoration-color: #008080; font-weight: bold\">0</span>,\n",
              "    <span style=\"color: #008000; text-decoration-color: #008000\">'fr_sulfide'</span>: <span style=\"color: #008080; text-decoration-color: #008080; font-weight: bold\">0</span>,\n",
              "    <span style=\"color: #008000; text-decoration-color: #008000\">'fr_sulfonamd'</span>: <span style=\"color: #008080; text-decoration-color: #008080; font-weight: bold\">0</span>,\n",
              "    <span style=\"color: #008000; text-decoration-color: #008000\">'fr_sulfone'</span>: <span style=\"color: #008080; text-decoration-color: #008080; font-weight: bold\">0</span>,\n",
              "    <span style=\"color: #008000; text-decoration-color: #008000\">'fr_term_acetylene'</span>: <span style=\"color: #008080; text-decoration-color: #008080; font-weight: bold\">0</span>,\n",
              "    <span style=\"color: #008000; text-decoration-color: #008000\">'fr_tetrazole'</span>: <span style=\"color: #008080; text-decoration-color: #008080; font-weight: bold\">0</span>,\n",
              "    <span style=\"color: #008000; text-decoration-color: #008000\">'fr_thiazole'</span>: <span style=\"color: #008080; text-decoration-color: #008080; font-weight: bold\">0</span>,\n",
              "    <span style=\"color: #008000; text-decoration-color: #008000\">'fr_thiocyan'</span>: <span style=\"color: #008080; text-decoration-color: #008080; font-weight: bold\">0</span>,\n",
              "    <span style=\"color: #008000; text-decoration-color: #008000\">'fr_thiophene'</span>: <span style=\"color: #008080; text-decoration-color: #008080; font-weight: bold\">0</span>,\n",
              "    <span style=\"color: #008000; text-decoration-color: #008000\">'fr_unbrch_alkane'</span>: <span style=\"color: #008080; text-decoration-color: #008080; font-weight: bold\">0</span>,\n",
              "    <span style=\"color: #008000; text-decoration-color: #008000\">'fr_urea'</span>: <span style=\"color: #008080; text-decoration-color: #008080; font-weight: bold\">0</span>\n",
              "<span style=\"font-weight: bold\">}</span>\n",
              "</pre>\n"
            ]
          },
          "metadata": {}
        }
      ]
    },
    {
      "cell_type": "code",
      "source": [],
      "metadata": {
        "id": "qopXXTa5lx3L"
      },
      "execution_count": null,
      "outputs": []
    }
  ]
}