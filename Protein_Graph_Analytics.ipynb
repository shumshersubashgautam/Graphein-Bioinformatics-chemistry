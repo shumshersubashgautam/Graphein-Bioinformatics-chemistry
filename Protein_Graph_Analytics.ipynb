{
  "nbformat": 4,
  "nbformat_minor": 0,
  "metadata": {
    "colab": {
      "provenance": [],
      "authorship_tag": "ABX9TyP5fZvLclt9eBZFYpvx3ad+",
      "include_colab_link": true
    },
    "kernelspec": {
      "name": "python3",
      "display_name": "Python 3"
    },
    "language_info": {
      "name": "python"
    },
    "accelerator": "GPU",
    "gpuClass": "standard",
    "widgets": {
      "application/vnd.jupyter.widget-state+json": {
        "2a4be271efe7457c8f62aa9ebba6456e": {
          "model_module": "@jupyter-widgets/output",
          "model_name": "OutputModel",
          "model_module_version": "1.0.0",
          "state": {
            "_dom_classes": [],
            "_model_module": "@jupyter-widgets/output",
            "_model_module_version": "1.0.0",
            "_model_name": "OutputModel",
            "_view_count": null,
            "_view_module": "@jupyter-widgets/output",
            "_view_module_version": "1.0.0",
            "_view_name": "OutputView",
            "layout": "IPY_MODEL_b75ec694bcda4dfdadcb097d9214de6e",
            "msg_id": "",
            "outputs": [
              {
                "output_type": "display_data",
                "data": {
                  "text/plain": "Reading PDB file...         \u001b[38;2;114;156;31m━━━━━━━━━━━━━━━━━━━━━━━━━━━━━━━━━━━━━━━━\u001b[0m \u001b[35m100%\u001b[0m \u001b[36m0:00:00\u001b[0m\nProcessing PDB dataframe... \u001b[38;2;114;156;31m━━━━━━━━━━━━━━━━━━━━━━━━━━━━━━━━━━━━━━━━\u001b[0m \u001b[35m100%\u001b[0m \u001b[36m0:00:00\u001b[0m\nInitializing graph...       \u001b[38;2;114;156;31m━━━━━━━━━━━━━━━━━━━━━━━━━━━━━━━━━━━━━━━━\u001b[0m \u001b[35m100%\u001b[0m \u001b[36m0:00:00\u001b[0m\nConstructing edges...       \u001b[38;5;237m━━━━━━━━━━━━━━━━━━━━━━━━━━━━━━━━━━━━━━━━\u001b[0m \u001b[35m  0%\u001b[0m \u001b[36m-:--:--\u001b[0m\n",
                  "text/html": "<pre style=\"white-space:pre;overflow-x:auto;line-height:normal;font-family:Menlo,'DejaVu Sans Mono',consolas,'Courier New',monospace\">Reading PDB file...         <span style=\"color: #729c1f; text-decoration-color: #729c1f\">━━━━━━━━━━━━━━━━━━━━━━━━━━━━━━━━━━━━━━━━</span> <span style=\"color: #800080; text-decoration-color: #800080\">100%</span> <span style=\"color: #008080; text-decoration-color: #008080\">0:00:00</span>\nProcessing PDB dataframe... <span style=\"color: #729c1f; text-decoration-color: #729c1f\">━━━━━━━━━━━━━━━━━━━━━━━━━━━━━━━━━━━━━━━━</span> <span style=\"color: #800080; text-decoration-color: #800080\">100%</span> <span style=\"color: #008080; text-decoration-color: #008080\">0:00:00</span>\nInitializing graph...       <span style=\"color: #729c1f; text-decoration-color: #729c1f\">━━━━━━━━━━━━━━━━━━━━━━━━━━━━━━━━━━━━━━━━</span> <span style=\"color: #800080; text-decoration-color: #800080\">100%</span> <span style=\"color: #008080; text-decoration-color: #008080\">0:00:00</span>\nConstructing edges...       <span style=\"color: #3a3a3a; text-decoration-color: #3a3a3a\">━━━━━━━━━━━━━━━━━━━━━━━━━━━━━━━━━━━━━━━━</span> <span style=\"color: #800080; text-decoration-color: #800080\">  0%</span> <span style=\"color: #008080; text-decoration-color: #008080\">-:--:--</span>\n</pre>\n"
                },
                "metadata": {}
              }
            ]
          }
        },
        "b75ec694bcda4dfdadcb097d9214de6e": {
          "model_module": "@jupyter-widgets/base",
          "model_name": "LayoutModel",
          "model_module_version": "1.2.0",
          "state": {
            "_model_module": "@jupyter-widgets/base",
            "_model_module_version": "1.2.0",
            "_model_name": "LayoutModel",
            "_view_count": null,
            "_view_module": "@jupyter-widgets/base",
            "_view_module_version": "1.2.0",
            "_view_name": "LayoutView",
            "align_content": null,
            "align_items": null,
            "align_self": null,
            "border": null,
            "bottom": null,
            "display": null,
            "flex": null,
            "flex_flow": null,
            "grid_area": null,
            "grid_auto_columns": null,
            "grid_auto_flow": null,
            "grid_auto_rows": null,
            "grid_column": null,
            "grid_gap": null,
            "grid_row": null,
            "grid_template_areas": null,
            "grid_template_columns": null,
            "grid_template_rows": null,
            "height": null,
            "justify_content": null,
            "justify_items": null,
            "left": null,
            "margin": null,
            "max_height": null,
            "max_width": null,
            "min_height": null,
            "min_width": null,
            "object_fit": null,
            "object_position": null,
            "order": null,
            "overflow": null,
            "overflow_x": null,
            "overflow_y": null,
            "padding": null,
            "right": null,
            "top": null,
            "visibility": null,
            "width": null
          }
        },
        "5eb65fba773d44e1aed3e2c079c50197": {
          "model_module": "@jupyter-widgets/output",
          "model_name": "OutputModel",
          "model_module_version": "1.0.0",
          "state": {
            "_dom_classes": [],
            "_model_module": "@jupyter-widgets/output",
            "_model_module_version": "1.0.0",
            "_model_name": "OutputModel",
            "_view_count": null,
            "_view_module": "@jupyter-widgets/output",
            "_view_module_version": "1.0.0",
            "_view_name": "OutputView",
            "layout": "IPY_MODEL_348d10674e2748a3be014b4946fcb13b",
            "msg_id": "",
            "outputs": [
              {
                "output_type": "display_data",
                "data": {
                  "text/plain": "Reading PDB file...         \u001b[38;2;114;156;31m━━━━━━━━━━━━━━━━━━━━━━━━━━━━━━━━━━━━━━━━\u001b[0m \u001b[35m100%\u001b[0m \u001b[36m0:00:00\u001b[0m\nProcessing PDB dataframe... \u001b[38;2;114;156;31m━━━━━━━━━━━━━━━━━━━━━━━━━━━━━━━━━━━━━━━━\u001b[0m \u001b[35m100%\u001b[0m \u001b[36m0:00:00\u001b[0m\nInitializing graph...       \u001b[38;2;114;156;31m━━━━━━━━━━━━━━━━━━━━━━━━━━━━━━━━━━━━━━━━\u001b[0m \u001b[35m100%\u001b[0m \u001b[36m0:00:00\u001b[0m\nConstructing edges...       \u001b[38;5;237m━━━━━━━━━━━━━━━━━━━━━━━━━━━━━━━━━━━━━━━━\u001b[0m \u001b[35m  0%\u001b[0m \u001b[36m-:--:--\u001b[0m\n",
                  "text/html": "<pre style=\"white-space:pre;overflow-x:auto;line-height:normal;font-family:Menlo,'DejaVu Sans Mono',consolas,'Courier New',monospace\">Reading PDB file...         <span style=\"color: #729c1f; text-decoration-color: #729c1f\">━━━━━━━━━━━━━━━━━━━━━━━━━━━━━━━━━━━━━━━━</span> <span style=\"color: #800080; text-decoration-color: #800080\">100%</span> <span style=\"color: #008080; text-decoration-color: #008080\">0:00:00</span>\nProcessing PDB dataframe... <span style=\"color: #729c1f; text-decoration-color: #729c1f\">━━━━━━━━━━━━━━━━━━━━━━━━━━━━━━━━━━━━━━━━</span> <span style=\"color: #800080; text-decoration-color: #800080\">100%</span> <span style=\"color: #008080; text-decoration-color: #008080\">0:00:00</span>\nInitializing graph...       <span style=\"color: #729c1f; text-decoration-color: #729c1f\">━━━━━━━━━━━━━━━━━━━━━━━━━━━━━━━━━━━━━━━━</span> <span style=\"color: #800080; text-decoration-color: #800080\">100%</span> <span style=\"color: #008080; text-decoration-color: #008080\">0:00:00</span>\nConstructing edges...       <span style=\"color: #3a3a3a; text-decoration-color: #3a3a3a\">━━━━━━━━━━━━━━━━━━━━━━━━━━━━━━━━━━━━━━━━</span> <span style=\"color: #800080; text-decoration-color: #800080\">  0%</span> <span style=\"color: #008080; text-decoration-color: #008080\">-:--:--</span>\n</pre>\n"
                },
                "metadata": {}
              }
            ]
          }
        },
        "348d10674e2748a3be014b4946fcb13b": {
          "model_module": "@jupyter-widgets/base",
          "model_name": "LayoutModel",
          "model_module_version": "1.2.0",
          "state": {
            "_model_module": "@jupyter-widgets/base",
            "_model_module_version": "1.2.0",
            "_model_name": "LayoutModel",
            "_view_count": null,
            "_view_module": "@jupyter-widgets/base",
            "_view_module_version": "1.2.0",
            "_view_name": "LayoutView",
            "align_content": null,
            "align_items": null,
            "align_self": null,
            "border": null,
            "bottom": null,
            "display": null,
            "flex": null,
            "flex_flow": null,
            "grid_area": null,
            "grid_auto_columns": null,
            "grid_auto_flow": null,
            "grid_auto_rows": null,
            "grid_column": null,
            "grid_gap": null,
            "grid_row": null,
            "grid_template_areas": null,
            "grid_template_columns": null,
            "grid_template_rows": null,
            "height": null,
            "justify_content": null,
            "justify_items": null,
            "left": null,
            "margin": null,
            "max_height": null,
            "max_width": null,
            "min_height": null,
            "min_width": null,
            "object_fit": null,
            "object_position": null,
            "order": null,
            "overflow": null,
            "overflow_x": null,
            "overflow_y": null,
            "padding": null,
            "right": null,
            "top": null,
            "visibility": null,
            "width": null
          }
        }
      }
    }
  },
  "cells": [
    {
      "cell_type": "markdown",
      "metadata": {
        "id": "view-in-github",
        "colab_type": "text"
      },
      "source": [
        "<a href=\"https://colab.research.google.com/github/shumshersubashgautam/Graphein-Bioinformatics-chemistry/blob/main/Protein_Graph_Analytics.ipynb\" target=\"_parent\"><img src=\"https://colab.research.google.com/assets/colab-badge.svg\" alt=\"Open In Colab\"/></a>"
      ]
    },
    {
      "cell_type": "code",
      "execution_count": 1,
      "metadata": {
        "colab": {
          "base_uri": "https://localhost:8080/"
        },
        "id": "lkq2HJHGxrg4",
        "outputId": "c33ff7a3-d7e4-431d-9382-31ba827ace71"
      },
      "outputs": [
        {
          "output_type": "stream",
          "name": "stdout",
          "text": [
            "Cloning into 'graphein'...\n",
            "remote: Enumerating objects: 6803, done.\u001b[K\n",
            "remote: Counting objects: 100% (779/779), done.\u001b[K\n",
            "remote: Compressing objects: 100% (315/315), done.\u001b[K\n",
            "remote: Total 6803 (delta 620), reused 533 (delta 464), pack-reused 6024\u001b[K\n",
            "Receiving objects: 100% (6803/6803), 89.41 MiB | 21.27 MiB/s, done.\n",
            "Resolving deltas: 100% (4072/4072), done.\n"
          ]
        }
      ],
      "source": [
        "!git clone https://github.com/a-r-j/graphein.git"
      ]
    },
    {
      "cell_type": "code",
      "source": [
        "cd graphein"
      ],
      "metadata": {
        "colab": {
          "base_uri": "https://localhost:8080/"
        },
        "id": "6-2rEBVKyC5W",
        "outputId": "2c92c4a2-5fa1-41c0-9e8c-293d156f0366"
      },
      "execution_count": 2,
      "outputs": [
        {
          "output_type": "stream",
          "name": "stdout",
          "text": [
            "/content/graphein\n"
          ]
        }
      ]
    },
    {
      "cell_type": "code",
      "source": [
        "!python setup.py install"
      ],
      "metadata": {
        "colab": {
          "base_uri": "https://localhost:8080/"
        },
        "id": "4dLnkm1syHvp",
        "outputId": "7133c15e-8b43-4134-a8c8-602c63c5ca16"
      },
      "execution_count": 3,
      "outputs": [
        {
          "output_type": "stream",
          "name": "stdout",
          "text": [
            "{'all': {'black',\n",
            "         'flake8',\n",
            "         'hypothesis',\n",
            "         'interrogate',\n",
            "         'isort',\n",
            "         'nbstripout',\n",
            "         'nbval',\n",
            "         'pandoc',\n",
            "         'pre-commit',\n",
            "         'pycodestyle',\n",
            "         'pydocstyle',\n",
            "         'pytest',\n",
            "         'pytest-cov',\n",
            "         'pytest-xdist'},\n",
            " 'dev': ['black',\n",
            "         'flake8',\n",
            "         'hypothesis',\n",
            "         'interrogate',\n",
            "         'isort',\n",
            "         'nbstripout',\n",
            "         'nbval',\n",
            "         'pandoc',\n",
            "         'pre-commit',\n",
            "         'pycodestyle',\n",
            "         'pydocstyle',\n",
            "         'pytest',\n",
            "         'pytest-cov',\n",
            "         'pytest-xdist'],\n",
            " 'extras': ['black',\n",
            "            'flake8',\n",
            "            'hypothesis',\n",
            "            'interrogate',\n",
            "            'isort',\n",
            "            'nbstripout',\n",
            "            'nbval',\n",
            "            'pandoc',\n",
            "            'pre-commit',\n",
            "            'pycodestyle',\n",
            "            'pydocstyle',\n",
            "            'pytest',\n",
            "            'pytest-cov',\n",
            "            'pytest-xdist']}\n",
            "running install\n",
            "running bdist_egg\n",
            "running egg_info\n",
            "creating graphein.egg-info\n",
            "writing graphein.egg-info/PKG-INFO\n",
            "writing dependency_links to graphein.egg-info/dependency_links.txt\n",
            "writing entry points to graphein.egg-info/entry_points.txt\n",
            "writing requirements to graphein.egg-info/requires.txt\n",
            "writing top-level names to graphein.egg-info/top_level.txt\n",
            "writing manifest file 'graphein.egg-info/SOURCES.txt'\n",
            "reading manifest file 'graphein.egg-info/SOURCES.txt'\n",
            "reading manifest template 'MANIFEST.in'\n",
            "adding license file 'LICENSE'\n",
            "writing manifest file 'graphein.egg-info/SOURCES.txt'\n",
            "installing library code to build/bdist.linux-x86_64/egg\n",
            "running install_lib\n",
            "running build_py\n",
            "creating build\n",
            "creating build/lib\n",
            "creating build/lib/graphein\n",
            "copying graphein/__init__.py -> build/lib/graphein\n",
            "copying graphein/cli.py -> build/lib/graphein\n",
            "creating build/lib/tests\n",
            "copying tests/__init__.py -> build/lib/tests\n",
            "copying tests/test_graphein.py -> build/lib/tests\n",
            "creating build/lib/graphein/rna\n",
            "copying graphein/rna/config.py -> build/lib/graphein/rna\n",
            "copying graphein/rna/graphs.py -> build/lib/graphein/rna\n",
            "copying graphein/rna/constants.py -> build/lib/graphein/rna\n",
            "copying graphein/rna/__init__.py -> build/lib/graphein/rna\n",
            "copying graphein/rna/subgraphs.py -> build/lib/graphein/rna\n",
            "copying graphein/rna/visualisation.py -> build/lib/graphein/rna\n",
            "copying graphein/rna/nussinov.py -> build/lib/graphein/rna\n",
            "copying graphein/rna/utils.py -> build/lib/graphein/rna\n",
            "creating build/lib/graphein/ml\n",
            "copying graphein/ml/__init__.py -> build/lib/graphein/ml\n",
            "copying graphein/ml/diffusion.py -> build/lib/graphein/ml\n",
            "copying graphein/ml/clustering.py -> build/lib/graphein/ml\n",
            "copying graphein/ml/visualisation.py -> build/lib/graphein/ml\n",
            "copying graphein/ml/utils.py -> build/lib/graphein/ml\n",
            "copying graphein/ml/conversion.py -> build/lib/graphein/ml\n",
            "creating build/lib/graphein/utils\n",
            "copying graphein/utils/config.py -> build/lib/graphein/utils\n",
            "copying graphein/utils/__init__.py -> build/lib/graphein/utils\n",
            "copying graphein/utils/config_parser.py -> build/lib/graphein/utils\n",
            "copying graphein/utils/utils.py -> build/lib/graphein/utils\n",
            "creating build/lib/graphein/molecule\n",
            "copying graphein/molecule/config.py -> build/lib/graphein/molecule\n",
            "copying graphein/molecule/graphs.py -> build/lib/graphein/molecule\n",
            "copying graphein/molecule/__init__.py -> build/lib/graphein/molecule\n",
            "copying graphein/molecule/atoms.py -> build/lib/graphein/molecule\n",
            "copying graphein/molecule/visualisation.py -> build/lib/graphein/molecule\n",
            "copying graphein/molecule/utils.py -> build/lib/graphein/molecule\n",
            "copying graphein/molecule/chembl.py -> build/lib/graphein/molecule\n",
            "copying graphein/molecule/zinc.py -> build/lib/graphein/molecule\n",
            "creating build/lib/graphein/grn\n",
            "copying graphein/grn/config.py -> build/lib/graphein/grn\n",
            "copying graphein/grn/graphs.py -> build/lib/graphein/grn\n",
            "copying graphein/grn/__init__.py -> build/lib/graphein/grn\n",
            "copying graphein/grn/parse_regnetwork.py -> build/lib/graphein/grn\n",
            "copying graphein/grn/edges.py -> build/lib/graphein/grn\n",
            "copying graphein/grn/parse_trrust.py -> build/lib/graphein/grn\n",
            "creating build/lib/graphein/protein\n",
            "copying graphein/protein/config.py -> build/lib/graphein/protein\n",
            "copying graphein/protein/graphs.py -> build/lib/graphein/protein\n",
            "copying graphein/protein/__init__.py -> build/lib/graphein/protein\n",
            "copying graphein/protein/subgraphs.py -> build/lib/graphein/protein\n",
            "copying graphein/protein/analysis.py -> build/lib/graphein/protein\n",
            "copying graphein/protein/visualisation.py -> build/lib/graphein/protein\n",
            "copying graphein/protein/folding_utils.py -> build/lib/graphein/protein\n",
            "copying graphein/protein/utils.py -> build/lib/graphein/protein\n",
            "copying graphein/protein/resi_atoms.py -> build/lib/graphein/protein\n",
            "copying graphein/protein/meshes.py -> build/lib/graphein/protein\n",
            "creating build/lib/graphein/ppi\n",
            "copying graphein/ppi/config.py -> build/lib/graphein/ppi\n",
            "copying graphein/ppi/graphs.py -> build/lib/graphein/ppi\n",
            "copying graphein/ppi/graph_metadata.py -> build/lib/graphein/ppi\n",
            "copying graphein/ppi/parse_stringdb.py -> build/lib/graphein/ppi\n",
            "copying graphein/ppi/__init__.py -> build/lib/graphein/ppi\n",
            "copying graphein/ppi/parse_biogrid.py -> build/lib/graphein/ppi\n",
            "copying graphein/ppi/edges.py -> build/lib/graphein/ppi\n",
            "copying graphein/ppi/visualisation.py -> build/lib/graphein/ppi\n",
            "creating build/lib/graphein/testing\n",
            "copying graphein/testing/__init__.py -> build/lib/graphein/testing\n",
            "copying graphein/testing/utils.py -> build/lib/graphein/testing\n",
            "creating build/lib/graphein/rna/features\n",
            "copying graphein/rna/features/__init__.py -> build/lib/graphein/rna/features\n",
            "copying graphein/rna/features/atom.py -> build/lib/graphein/rna/features\n",
            "creating build/lib/graphein/rna/edges\n",
            "copying graphein/rna/edges/__init__.py -> build/lib/graphein/rna/edges\n",
            "copying graphein/rna/edges/atomic.py -> build/lib/graphein/rna/edges\n",
            "copying graphein/rna/edges/distance.py -> build/lib/graphein/rna/edges\n",
            "copying graphein/rna/edges/base_pairing.py -> build/lib/graphein/rna/edges\n",
            "creating build/lib/graphein/ml/metrics\n",
            "copying graphein/ml/metrics/gdt.py -> build/lib/graphein/ml/metrics\n",
            "copying graphein/ml/metrics/__init__.py -> build/lib/graphein/ml/metrics\n",
            "copying graphein/ml/metrics/tm_score.py -> build/lib/graphein/ml/metrics\n",
            "creating build/lib/graphein/ml/datasets\n",
            "copying graphein/ml/datasets/__init__.py -> build/lib/graphein/ml/datasets\n",
            "copying graphein/ml/datasets/torch_geometric_dataset.py -> build/lib/graphein/ml/datasets\n",
            "creating build/lib/graphein/utils/pymol\n",
            "copying graphein/utils/pymol/__init__.py -> build/lib/graphein/utils/pymol\n",
            "copying graphein/utils/pymol/compat.py -> build/lib/graphein/utils/pymol\n",
            "copying graphein/utils/pymol/core.py -> build/lib/graphein/utils/pymol\n",
            "creating build/lib/graphein/molecule/features\n",
            "copying graphein/molecule/features/__init__.py -> build/lib/graphein/molecule/features\n",
            "creating build/lib/graphein/molecule/edges\n",
            "copying graphein/molecule/edges/__init__.py -> build/lib/graphein/molecule/edges\n",
            "copying graphein/molecule/edges/atomic.py -> build/lib/graphein/molecule/edges\n",
            "copying graphein/molecule/edges/distance.py -> build/lib/graphein/molecule/edges\n",
            "creating build/lib/graphein/molecule/features/graph\n",
            "copying graphein/molecule/features/graph/__init__.py -> build/lib/graphein/molecule/features/graph\n",
            "copying graphein/molecule/features/graph/molecule.py -> build/lib/graphein/molecule/features/graph\n",
            "creating build/lib/graphein/molecule/features/nodes\n",
            "copying graphein/molecule/features/nodes/atom_type.py -> build/lib/graphein/molecule/features/nodes\n",
            "copying graphein/molecule/features/nodes/__init__.py -> build/lib/graphein/molecule/features/nodes\n",
            "creating build/lib/graphein/molecule/features/edges\n",
            "copying graphein/molecule/features/edges/__init__.py -> build/lib/graphein/molecule/features/edges\n",
            "copying graphein/molecule/features/edges/bonds.py -> build/lib/graphein/molecule/features/edges\n",
            "creating build/lib/graphein/grn/features\n",
            "copying graphein/grn/features/node_features.py -> build/lib/graphein/grn/features\n",
            "copying graphein/grn/features/__init__.py -> build/lib/graphein/grn/features\n",
            "creating build/lib/graphein/protein/tensor\n",
            "copying graphein/protein/tensor/plot.py -> build/lib/graphein/protein/tensor\n",
            "copying graphein/protein/tensor/__init__.py -> build/lib/graphein/protein/tensor\n",
            "copying graphein/protein/tensor/edges.py -> build/lib/graphein/protein/tensor\n",
            "copying graphein/protein/tensor/sequence.py -> build/lib/graphein/protein/tensor\n",
            "copying graphein/protein/tensor/pnerf.py -> build/lib/graphein/protein/tensor\n",
            "copying graphein/protein/tensor/io.py -> build/lib/graphein/protein/tensor\n",
            "copying graphein/protein/tensor/angles.py -> build/lib/graphein/protein/tensor\n",
            "copying graphein/protein/tensor/reconstruction.py -> build/lib/graphein/protein/tensor\n",
            "copying graphein/protein/tensor/representation.py -> build/lib/graphein/protein/tensor\n",
            "copying graphein/protein/tensor/dataloader.py -> build/lib/graphein/protein/tensor\n",
            "copying graphein/protein/tensor/types.py -> build/lib/graphein/protein/tensor\n",
            "copying graphein/protein/tensor/testing.py -> build/lib/graphein/protein/tensor\n",
            "copying graphein/protein/tensor/data.py -> build/lib/graphein/protein/tensor\n",
            "copying graphein/protein/tensor/dataset.py -> build/lib/graphein/protein/tensor\n",
            "copying graphein/protein/tensor/geometry.py -> build/lib/graphein/protein/tensor\n",
            "creating build/lib/graphein/protein/features\n",
            "copying graphein/protein/features/__init__.py -> build/lib/graphein/protein/features\n",
            "copying graphein/protein/features/utils.py -> build/lib/graphein/protein/features\n",
            "creating build/lib/graphein/protein/edges\n",
            "copying graphein/protein/edges/__init__.py -> build/lib/graphein/protein/edges\n",
            "copying graphein/protein/edges/intramolecular.py -> build/lib/graphein/protein/edges\n",
            "copying graphein/protein/edges/atomic.py -> build/lib/graphein/protein/edges\n",
            "copying graphein/protein/edges/distance.py -> build/lib/graphein/protein/edges\n",
            "creating build/lib/graphein/protein/features/sequence\n",
            "copying graphein/protein/features/sequence/__init__.py -> build/lib/graphein/protein/features/sequence\n",
            "copying graphein/protein/features/sequence/sequence.py -> build/lib/graphein/protein/features/sequence\n",
            "copying graphein/protein/features/sequence/propy.py -> build/lib/graphein/protein/features/sequence\n",
            "copying graphein/protein/features/sequence/embeddings.py -> build/lib/graphein/protein/features/sequence\n",
            "copying graphein/protein/features/sequence/utils.py -> build/lib/graphein/protein/features/sequence\n",
            "creating build/lib/graphein/protein/features/data\n",
            "copying graphein/protein/features/data/__init__.py -> build/lib/graphein/protein/features/data\n",
            "creating build/lib/graphein/protein/features/graph\n",
            "copying graphein/protein/features/graph/__init__.py -> build/lib/graphein/protein/features/graph\n",
            "copying graphein/protein/features/graph/structure.py -> build/lib/graphein/protein/features/graph\n",
            "copying graphein/protein/features/graph/dynamics.py -> build/lib/graphein/protein/features/graph\n",
            "creating build/lib/graphein/protein/features/pretrained_models\n",
            "copying graphein/protein/features/pretrained_models/__init__.py -> build/lib/graphein/protein/features/pretrained_models\n",
            "creating build/lib/graphein/protein/features/nodes\n",
            "copying graphein/protein/features/nodes/__init__.py -> build/lib/graphein/protein/features/nodes\n",
            "copying graphein/protein/features/nodes/amino_acid.py -> build/lib/graphein/protein/features/nodes\n",
            "copying graphein/protein/features/nodes/dssp.py -> build/lib/graphein/protein/features/nodes\n",
            "copying graphein/protein/features/nodes/aaindex.py -> build/lib/graphein/protein/features/nodes\n",
            "copying graphein/protein/features/nodes/geometry.py -> build/lib/graphein/protein/features/nodes\n",
            "creating build/lib/graphein/ppi/features\n",
            "copying graphein/ppi/features/node_features.py -> build/lib/graphein/ppi/features\n",
            "copying graphein/ppi/features/__init__.py -> build/lib/graphein/ppi/features\n",
            "creating build/lib/tests/rna\n",
            "copying tests/rna/__init__.py -> build/lib/tests/rna\n",
            "copying tests/rna/test_subgraphs.py -> build/lib/tests/rna\n",
            "copying tests/rna/test_graphs.py -> build/lib/tests/rna\n",
            "copying tests/rna/test_nussinov.py -> build/lib/tests/rna\n",
            "creating build/lib/tests/ml\n",
            "copying tests/ml/__init__.py -> build/lib/tests/ml\n",
            "copying tests/ml/test_conversion.py -> build/lib/tests/ml\n",
            "copying tests/ml/test_torch_geometric_dataset.py -> build/lib/tests/ml\n",
            "creating build/lib/tests/utils\n",
            "copying tests/utils/__init__.py -> build/lib/tests/utils\n",
            "copying tests/utils/test_yml_parser.py -> build/lib/tests/utils\n",
            "copying tests/utils/test_cli.py -> build/lib/tests/utils\n",
            "creating build/lib/tests/grn\n",
            "copying tests/grn/__init__.py -> build/lib/tests/grn\n",
            "copying tests/grn/test_graphs.py -> build/lib/tests/grn\n",
            "creating build/lib/tests/protein\n",
            "copying tests/protein/__init__.py -> build/lib/tests/protein\n",
            "copying tests/protein/test_subgraphs.py -> build/lib/tests/protein\n",
            "copying tests/protein/test_graphs.py -> build/lib/tests/protein\n",
            "copying tests/protein/test_utils.py -> build/lib/tests/protein\n",
            "creating build/lib/tests/ppi\n",
            "copying tests/ppi/__init__.py -> build/lib/tests/ppi\n",
            "copying tests/ppi/test_graphs.py -> build/lib/tests/ppi\n",
            "creating build/lib/tests/testing\n",
            "copying tests/testing/__init__.py -> build/lib/tests/testing\n",
            "copying tests/testing/utils.py -> build/lib/tests/testing\n",
            "creating build/lib/tests/protein/tensor\n",
            "copying tests/protein/tensor/test_representation.py -> build/lib/tests/protein/tensor\n",
            "copying tests/protein/tensor/__init__.py -> build/lib/tests/protein/tensor\n",
            "copying tests/protein/tensor/test_reconstruction.py -> build/lib/tests/protein/tensor\n",
            "copying tests/protein/tensor/test_sequence.py -> build/lib/tests/protein/tensor\n",
            "copying tests/protein/tensor/test_data.py -> build/lib/tests/protein/tensor\n",
            "copying tests/protein/tensor/test_geometry.py -> build/lib/tests/protein/tensor\n",
            "copying tests/protein/tensor/test_io.py -> build/lib/tests/protein/tensor\n",
            "copying tests/protein/tensor/test_angles.py -> build/lib/tests/protein/tensor\n",
            "creating build/lib/tests/protein/nodes\n",
            "copying tests/protein/nodes/__init__.py -> build/lib/tests/protein/nodes\n",
            "creating build/lib/tests/protein/edges\n",
            "copying tests/protein/edges/test_distance.py -> build/lib/tests/protein/edges\n",
            "copying tests/protein/edges/__init__.py -> build/lib/tests/protein/edges\n",
            "creating build/lib/tests/protein/nodes/features\n",
            "copying tests/protein/nodes/features/__init__.py -> build/lib/tests/protein/nodes/features\n",
            "copying tests/protein/nodes/features/test_geometry.py -> build/lib/tests/protein/nodes/features\n",
            "copying tests/protein/nodes/features/test_amino_acid.py -> build/lib/tests/protein/nodes/features\n",
            "copying graphein/protein/features/nodes/amino_acid_properties.csv -> build/lib/graphein/protein/features/nodes\n",
            "copying graphein/protein/features/nodes/meiler_embeddings.csv -> build/lib/graphein/protein/features/nodes\n",
            "creating build/bdist.linux-x86_64\n",
            "creating build/bdist.linux-x86_64/egg\n",
            "creating build/bdist.linux-x86_64/egg/graphein\n",
            "creating build/bdist.linux-x86_64/egg/graphein/rna\n",
            "copying build/lib/graphein/rna/config.py -> build/bdist.linux-x86_64/egg/graphein/rna\n",
            "copying build/lib/graphein/rna/graphs.py -> build/bdist.linux-x86_64/egg/graphein/rna\n",
            "copying build/lib/graphein/rna/constants.py -> build/bdist.linux-x86_64/egg/graphein/rna\n",
            "copying build/lib/graphein/rna/__init__.py -> build/bdist.linux-x86_64/egg/graphein/rna\n",
            "copying build/lib/graphein/rna/subgraphs.py -> build/bdist.linux-x86_64/egg/graphein/rna\n",
            "copying build/lib/graphein/rna/visualisation.py -> build/bdist.linux-x86_64/egg/graphein/rna\n",
            "copying build/lib/graphein/rna/nussinov.py -> build/bdist.linux-x86_64/egg/graphein/rna\n",
            "copying build/lib/graphein/rna/utils.py -> build/bdist.linux-x86_64/egg/graphein/rna\n",
            "creating build/bdist.linux-x86_64/egg/graphein/rna/features\n",
            "copying build/lib/graphein/rna/features/__init__.py -> build/bdist.linux-x86_64/egg/graphein/rna/features\n",
            "copying build/lib/graphein/rna/features/atom.py -> build/bdist.linux-x86_64/egg/graphein/rna/features\n",
            "creating build/bdist.linux-x86_64/egg/graphein/rna/edges\n",
            "copying build/lib/graphein/rna/edges/__init__.py -> build/bdist.linux-x86_64/egg/graphein/rna/edges\n",
            "copying build/lib/graphein/rna/edges/atomic.py -> build/bdist.linux-x86_64/egg/graphein/rna/edges\n",
            "copying build/lib/graphein/rna/edges/distance.py -> build/bdist.linux-x86_64/egg/graphein/rna/edges\n",
            "copying build/lib/graphein/rna/edges/base_pairing.py -> build/bdist.linux-x86_64/egg/graphein/rna/edges\n",
            "creating build/bdist.linux-x86_64/egg/graphein/ml\n",
            "creating build/bdist.linux-x86_64/egg/graphein/ml/metrics\n",
            "copying build/lib/graphein/ml/metrics/gdt.py -> build/bdist.linux-x86_64/egg/graphein/ml/metrics\n",
            "copying build/lib/graphein/ml/metrics/__init__.py -> build/bdist.linux-x86_64/egg/graphein/ml/metrics\n",
            "copying build/lib/graphein/ml/metrics/tm_score.py -> build/bdist.linux-x86_64/egg/graphein/ml/metrics\n",
            "copying build/lib/graphein/ml/__init__.py -> build/bdist.linux-x86_64/egg/graphein/ml\n",
            "copying build/lib/graphein/ml/diffusion.py -> build/bdist.linux-x86_64/egg/graphein/ml\n",
            "copying build/lib/graphein/ml/clustering.py -> build/bdist.linux-x86_64/egg/graphein/ml\n",
            "copying build/lib/graphein/ml/visualisation.py -> build/bdist.linux-x86_64/egg/graphein/ml\n",
            "creating build/bdist.linux-x86_64/egg/graphein/ml/datasets\n",
            "copying build/lib/graphein/ml/datasets/__init__.py -> build/bdist.linux-x86_64/egg/graphein/ml/datasets\n",
            "copying build/lib/graphein/ml/datasets/torch_geometric_dataset.py -> build/bdist.linux-x86_64/egg/graphein/ml/datasets\n",
            "copying build/lib/graphein/ml/utils.py -> build/bdist.linux-x86_64/egg/graphein/ml\n",
            "copying build/lib/graphein/ml/conversion.py -> build/bdist.linux-x86_64/egg/graphein/ml\n",
            "copying build/lib/graphein/__init__.py -> build/bdist.linux-x86_64/egg/graphein\n",
            "creating build/bdist.linux-x86_64/egg/graphein/utils\n",
            "copying build/lib/graphein/utils/config.py -> build/bdist.linux-x86_64/egg/graphein/utils\n",
            "copying build/lib/graphein/utils/__init__.py -> build/bdist.linux-x86_64/egg/graphein/utils\n",
            "creating build/bdist.linux-x86_64/egg/graphein/utils/pymol\n",
            "copying build/lib/graphein/utils/pymol/__init__.py -> build/bdist.linux-x86_64/egg/graphein/utils/pymol\n",
            "copying build/lib/graphein/utils/pymol/compat.py -> build/bdist.linux-x86_64/egg/graphein/utils/pymol\n",
            "copying build/lib/graphein/utils/pymol/core.py -> build/bdist.linux-x86_64/egg/graphein/utils/pymol\n",
            "copying build/lib/graphein/utils/config_parser.py -> build/bdist.linux-x86_64/egg/graphein/utils\n",
            "copying build/lib/graphein/utils/utils.py -> build/bdist.linux-x86_64/egg/graphein/utils\n",
            "creating build/bdist.linux-x86_64/egg/graphein/molecule\n",
            "copying build/lib/graphein/molecule/config.py -> build/bdist.linux-x86_64/egg/graphein/molecule\n",
            "copying build/lib/graphein/molecule/graphs.py -> build/bdist.linux-x86_64/egg/graphein/molecule\n",
            "copying build/lib/graphein/molecule/__init__.py -> build/bdist.linux-x86_64/egg/graphein/molecule\n",
            "copying build/lib/graphein/molecule/atoms.py -> build/bdist.linux-x86_64/egg/graphein/molecule\n",
            "copying build/lib/graphein/molecule/visualisation.py -> build/bdist.linux-x86_64/egg/graphein/molecule\n",
            "copying build/lib/graphein/molecule/utils.py -> build/bdist.linux-x86_64/egg/graphein/molecule\n",
            "copying build/lib/graphein/molecule/chembl.py -> build/bdist.linux-x86_64/egg/graphein/molecule\n",
            "creating build/bdist.linux-x86_64/egg/graphein/molecule/features\n",
            "copying build/lib/graphein/molecule/features/__init__.py -> build/bdist.linux-x86_64/egg/graphein/molecule/features\n",
            "creating build/bdist.linux-x86_64/egg/graphein/molecule/features/graph\n",
            "copying build/lib/graphein/molecule/features/graph/__init__.py -> build/bdist.linux-x86_64/egg/graphein/molecule/features/graph\n",
            "copying build/lib/graphein/molecule/features/graph/molecule.py -> build/bdist.linux-x86_64/egg/graphein/molecule/features/graph\n",
            "creating build/bdist.linux-x86_64/egg/graphein/molecule/features/nodes\n",
            "copying build/lib/graphein/molecule/features/nodes/atom_type.py -> build/bdist.linux-x86_64/egg/graphein/molecule/features/nodes\n",
            "copying build/lib/graphein/molecule/features/nodes/__init__.py -> build/bdist.linux-x86_64/egg/graphein/molecule/features/nodes\n",
            "creating build/bdist.linux-x86_64/egg/graphein/molecule/features/edges\n",
            "copying build/lib/graphein/molecule/features/edges/__init__.py -> build/bdist.linux-x86_64/egg/graphein/molecule/features/edges\n",
            "copying build/lib/graphein/molecule/features/edges/bonds.py -> build/bdist.linux-x86_64/egg/graphein/molecule/features/edges\n",
            "copying build/lib/graphein/molecule/zinc.py -> build/bdist.linux-x86_64/egg/graphein/molecule\n",
            "creating build/bdist.linux-x86_64/egg/graphein/molecule/edges\n",
            "copying build/lib/graphein/molecule/edges/__init__.py -> build/bdist.linux-x86_64/egg/graphein/molecule/edges\n",
            "copying build/lib/graphein/molecule/edges/atomic.py -> build/bdist.linux-x86_64/egg/graphein/molecule/edges\n",
            "copying build/lib/graphein/molecule/edges/distance.py -> build/bdist.linux-x86_64/egg/graphein/molecule/edges\n",
            "creating build/bdist.linux-x86_64/egg/graphein/grn\n",
            "copying build/lib/graphein/grn/config.py -> build/bdist.linux-x86_64/egg/graphein/grn\n",
            "copying build/lib/graphein/grn/graphs.py -> build/bdist.linux-x86_64/egg/graphein/grn\n",
            "copying build/lib/graphein/grn/__init__.py -> build/bdist.linux-x86_64/egg/graphein/grn\n",
            "copying build/lib/graphein/grn/parse_regnetwork.py -> build/bdist.linux-x86_64/egg/graphein/grn\n",
            "copying build/lib/graphein/grn/edges.py -> build/bdist.linux-x86_64/egg/graphein/grn\n",
            "copying build/lib/graphein/grn/parse_trrust.py -> build/bdist.linux-x86_64/egg/graphein/grn\n",
            "creating build/bdist.linux-x86_64/egg/graphein/grn/features\n",
            "copying build/lib/graphein/grn/features/node_features.py -> build/bdist.linux-x86_64/egg/graphein/grn/features\n",
            "copying build/lib/graphein/grn/features/__init__.py -> build/bdist.linux-x86_64/egg/graphein/grn/features\n",
            "creating build/bdist.linux-x86_64/egg/graphein/protein\n",
            "copying build/lib/graphein/protein/config.py -> build/bdist.linux-x86_64/egg/graphein/protein\n",
            "copying build/lib/graphein/protein/graphs.py -> build/bdist.linux-x86_64/egg/graphein/protein\n",
            "creating build/bdist.linux-x86_64/egg/graphein/protein/tensor\n",
            "copying build/lib/graphein/protein/tensor/plot.py -> build/bdist.linux-x86_64/egg/graphein/protein/tensor\n",
            "copying build/lib/graphein/protein/tensor/__init__.py -> build/bdist.linux-x86_64/egg/graphein/protein/tensor\n",
            "copying build/lib/graphein/protein/tensor/edges.py -> build/bdist.linux-x86_64/egg/graphein/protein/tensor\n",
            "copying build/lib/graphein/protein/tensor/sequence.py -> build/bdist.linux-x86_64/egg/graphein/protein/tensor\n",
            "copying build/lib/graphein/protein/tensor/pnerf.py -> build/bdist.linux-x86_64/egg/graphein/protein/tensor\n",
            "copying build/lib/graphein/protein/tensor/io.py -> build/bdist.linux-x86_64/egg/graphein/protein/tensor\n",
            "copying build/lib/graphein/protein/tensor/angles.py -> build/bdist.linux-x86_64/egg/graphein/protein/tensor\n",
            "copying build/lib/graphein/protein/tensor/reconstruction.py -> build/bdist.linux-x86_64/egg/graphein/protein/tensor\n",
            "copying build/lib/graphein/protein/tensor/representation.py -> build/bdist.linux-x86_64/egg/graphein/protein/tensor\n",
            "copying build/lib/graphein/protein/tensor/dataloader.py -> build/bdist.linux-x86_64/egg/graphein/protein/tensor\n",
            "copying build/lib/graphein/protein/tensor/types.py -> build/bdist.linux-x86_64/egg/graphein/protein/tensor\n",
            "copying build/lib/graphein/protein/tensor/testing.py -> build/bdist.linux-x86_64/egg/graphein/protein/tensor\n",
            "copying build/lib/graphein/protein/tensor/data.py -> build/bdist.linux-x86_64/egg/graphein/protein/tensor\n",
            "copying build/lib/graphein/protein/tensor/dataset.py -> build/bdist.linux-x86_64/egg/graphein/protein/tensor\n",
            "copying build/lib/graphein/protein/tensor/geometry.py -> build/bdist.linux-x86_64/egg/graphein/protein/tensor\n",
            "copying build/lib/graphein/protein/__init__.py -> build/bdist.linux-x86_64/egg/graphein/protein\n",
            "copying build/lib/graphein/protein/subgraphs.py -> build/bdist.linux-x86_64/egg/graphein/protein\n",
            "copying build/lib/graphein/protein/analysis.py -> build/bdist.linux-x86_64/egg/graphein/protein\n",
            "copying build/lib/graphein/protein/visualisation.py -> build/bdist.linux-x86_64/egg/graphein/protein\n",
            "copying build/lib/graphein/protein/folding_utils.py -> build/bdist.linux-x86_64/egg/graphein/protein\n",
            "copying build/lib/graphein/protein/utils.py -> build/bdist.linux-x86_64/egg/graphein/protein\n",
            "copying build/lib/graphein/protein/resi_atoms.py -> build/bdist.linux-x86_64/egg/graphein/protein\n",
            "copying build/lib/graphein/protein/meshes.py -> build/bdist.linux-x86_64/egg/graphein/protein\n",
            "creating build/bdist.linux-x86_64/egg/graphein/protein/features\n",
            "creating build/bdist.linux-x86_64/egg/graphein/protein/features/sequence\n",
            "copying build/lib/graphein/protein/features/sequence/__init__.py -> build/bdist.linux-x86_64/egg/graphein/protein/features/sequence\n",
            "copying build/lib/graphein/protein/features/sequence/sequence.py -> build/bdist.linux-x86_64/egg/graphein/protein/features/sequence\n",
            "copying build/lib/graphein/protein/features/sequence/propy.py -> build/bdist.linux-x86_64/egg/graphein/protein/features/sequence\n",
            "copying build/lib/graphein/protein/features/sequence/embeddings.py -> build/bdist.linux-x86_64/egg/graphein/protein/features/sequence\n",
            "copying build/lib/graphein/protein/features/sequence/utils.py -> build/bdist.linux-x86_64/egg/graphein/protein/features/sequence\n",
            "copying build/lib/graphein/protein/features/__init__.py -> build/bdist.linux-x86_64/egg/graphein/protein/features\n",
            "creating build/bdist.linux-x86_64/egg/graphein/protein/features/data\n",
            "copying build/lib/graphein/protein/features/data/__init__.py -> build/bdist.linux-x86_64/egg/graphein/protein/features/data\n",
            "creating build/bdist.linux-x86_64/egg/graphein/protein/features/graph\n",
            "copying build/lib/graphein/protein/features/graph/__init__.py -> build/bdist.linux-x86_64/egg/graphein/protein/features/graph\n",
            "copying build/lib/graphein/protein/features/graph/structure.py -> build/bdist.linux-x86_64/egg/graphein/protein/features/graph\n",
            "copying build/lib/graphein/protein/features/graph/dynamics.py -> build/bdist.linux-x86_64/egg/graphein/protein/features/graph\n",
            "creating build/bdist.linux-x86_64/egg/graphein/protein/features/pretrained_models\n",
            "copying build/lib/graphein/protein/features/pretrained_models/__init__.py -> build/bdist.linux-x86_64/egg/graphein/protein/features/pretrained_models\n",
            "copying build/lib/graphein/protein/features/utils.py -> build/bdist.linux-x86_64/egg/graphein/protein/features\n",
            "creating build/bdist.linux-x86_64/egg/graphein/protein/features/nodes\n",
            "copying build/lib/graphein/protein/features/nodes/meiler_embeddings.csv -> build/bdist.linux-x86_64/egg/graphein/protein/features/nodes\n",
            "copying build/lib/graphein/protein/features/nodes/__init__.py -> build/bdist.linux-x86_64/egg/graphein/protein/features/nodes\n",
            "copying build/lib/graphein/protein/features/nodes/amino_acid_properties.csv -> build/bdist.linux-x86_64/egg/graphein/protein/features/nodes\n",
            "copying build/lib/graphein/protein/features/nodes/amino_acid.py -> build/bdist.linux-x86_64/egg/graphein/protein/features/nodes\n",
            "copying build/lib/graphein/protein/features/nodes/dssp.py -> build/bdist.linux-x86_64/egg/graphein/protein/features/nodes\n",
            "copying build/lib/graphein/protein/features/nodes/aaindex.py -> build/bdist.linux-x86_64/egg/graphein/protein/features/nodes\n",
            "copying build/lib/graphein/protein/features/nodes/geometry.py -> build/bdist.linux-x86_64/egg/graphein/protein/features/nodes\n",
            "creating build/bdist.linux-x86_64/egg/graphein/protein/edges\n",
            "copying build/lib/graphein/protein/edges/__init__.py -> build/bdist.linux-x86_64/egg/graphein/protein/edges\n",
            "copying build/lib/graphein/protein/edges/intramolecular.py -> build/bdist.linux-x86_64/egg/graphein/protein/edges\n",
            "copying build/lib/graphein/protein/edges/atomic.py -> build/bdist.linux-x86_64/egg/graphein/protein/edges\n",
            "copying build/lib/graphein/protein/edges/distance.py -> build/bdist.linux-x86_64/egg/graphein/protein/edges\n",
            "creating build/bdist.linux-x86_64/egg/graphein/ppi\n",
            "copying build/lib/graphein/ppi/config.py -> build/bdist.linux-x86_64/egg/graphein/ppi\n",
            "copying build/lib/graphein/ppi/graphs.py -> build/bdist.linux-x86_64/egg/graphein/ppi\n",
            "copying build/lib/graphein/ppi/graph_metadata.py -> build/bdist.linux-x86_64/egg/graphein/ppi\n",
            "copying build/lib/graphein/ppi/parse_stringdb.py -> build/bdist.linux-x86_64/egg/graphein/ppi\n",
            "copying build/lib/graphein/ppi/__init__.py -> build/bdist.linux-x86_64/egg/graphein/ppi\n",
            "copying build/lib/graphein/ppi/parse_biogrid.py -> build/bdist.linux-x86_64/egg/graphein/ppi\n",
            "copying build/lib/graphein/ppi/edges.py -> build/bdist.linux-x86_64/egg/graphein/ppi\n",
            "copying build/lib/graphein/ppi/visualisation.py -> build/bdist.linux-x86_64/egg/graphein/ppi\n",
            "creating build/bdist.linux-x86_64/egg/graphein/ppi/features\n",
            "copying build/lib/graphein/ppi/features/node_features.py -> build/bdist.linux-x86_64/egg/graphein/ppi/features\n",
            "copying build/lib/graphein/ppi/features/__init__.py -> build/bdist.linux-x86_64/egg/graphein/ppi/features\n",
            "copying build/lib/graphein/cli.py -> build/bdist.linux-x86_64/egg/graphein\n",
            "creating build/bdist.linux-x86_64/egg/graphein/testing\n",
            "copying build/lib/graphein/testing/__init__.py -> build/bdist.linux-x86_64/egg/graphein/testing\n",
            "copying build/lib/graphein/testing/utils.py -> build/bdist.linux-x86_64/egg/graphein/testing\n",
            "creating build/bdist.linux-x86_64/egg/tests\n",
            "creating build/bdist.linux-x86_64/egg/tests/rna\n",
            "copying build/lib/tests/rna/__init__.py -> build/bdist.linux-x86_64/egg/tests/rna\n",
            "copying build/lib/tests/rna/test_subgraphs.py -> build/bdist.linux-x86_64/egg/tests/rna\n",
            "copying build/lib/tests/rna/test_graphs.py -> build/bdist.linux-x86_64/egg/tests/rna\n",
            "copying build/lib/tests/rna/test_nussinov.py -> build/bdist.linux-x86_64/egg/tests/rna\n",
            "creating build/bdist.linux-x86_64/egg/tests/ml\n",
            "copying build/lib/tests/ml/__init__.py -> build/bdist.linux-x86_64/egg/tests/ml\n",
            "copying build/lib/tests/ml/test_conversion.py -> build/bdist.linux-x86_64/egg/tests/ml\n",
            "copying build/lib/tests/ml/test_torch_geometric_dataset.py -> build/bdist.linux-x86_64/egg/tests/ml\n",
            "copying build/lib/tests/__init__.py -> build/bdist.linux-x86_64/egg/tests\n",
            "creating build/bdist.linux-x86_64/egg/tests/utils\n",
            "copying build/lib/tests/utils/__init__.py -> build/bdist.linux-x86_64/egg/tests/utils\n",
            "copying build/lib/tests/utils/test_yml_parser.py -> build/bdist.linux-x86_64/egg/tests/utils\n",
            "copying build/lib/tests/utils/test_cli.py -> build/bdist.linux-x86_64/egg/tests/utils\n",
            "copying build/lib/tests/test_graphein.py -> build/bdist.linux-x86_64/egg/tests\n",
            "creating build/bdist.linux-x86_64/egg/tests/grn\n",
            "copying build/lib/tests/grn/__init__.py -> build/bdist.linux-x86_64/egg/tests/grn\n",
            "copying build/lib/tests/grn/test_graphs.py -> build/bdist.linux-x86_64/egg/tests/grn\n",
            "creating build/bdist.linux-x86_64/egg/tests/protein\n",
            "creating build/bdist.linux-x86_64/egg/tests/protein/tensor\n",
            "copying build/lib/tests/protein/tensor/test_representation.py -> build/bdist.linux-x86_64/egg/tests/protein/tensor\n",
            "copying build/lib/tests/protein/tensor/__init__.py -> build/bdist.linux-x86_64/egg/tests/protein/tensor\n",
            "copying build/lib/tests/protein/tensor/test_reconstruction.py -> build/bdist.linux-x86_64/egg/tests/protein/tensor\n",
            "copying build/lib/tests/protein/tensor/test_sequence.py -> build/bdist.linux-x86_64/egg/tests/protein/tensor\n",
            "copying build/lib/tests/protein/tensor/test_data.py -> build/bdist.linux-x86_64/egg/tests/protein/tensor\n",
            "copying build/lib/tests/protein/tensor/test_geometry.py -> build/bdist.linux-x86_64/egg/tests/protein/tensor\n",
            "copying build/lib/tests/protein/tensor/test_io.py -> build/bdist.linux-x86_64/egg/tests/protein/tensor\n",
            "copying build/lib/tests/protein/tensor/test_angles.py -> build/bdist.linux-x86_64/egg/tests/protein/tensor\n",
            "copying build/lib/tests/protein/__init__.py -> build/bdist.linux-x86_64/egg/tests/protein\n",
            "copying build/lib/tests/protein/test_subgraphs.py -> build/bdist.linux-x86_64/egg/tests/protein\n",
            "copying build/lib/tests/protein/test_graphs.py -> build/bdist.linux-x86_64/egg/tests/protein\n",
            "copying build/lib/tests/protein/test_utils.py -> build/bdist.linux-x86_64/egg/tests/protein\n",
            "creating build/bdist.linux-x86_64/egg/tests/protein/nodes\n",
            "copying build/lib/tests/protein/nodes/__init__.py -> build/bdist.linux-x86_64/egg/tests/protein/nodes\n",
            "creating build/bdist.linux-x86_64/egg/tests/protein/nodes/features\n",
            "copying build/lib/tests/protein/nodes/features/__init__.py -> build/bdist.linux-x86_64/egg/tests/protein/nodes/features\n",
            "copying build/lib/tests/protein/nodes/features/test_geometry.py -> build/bdist.linux-x86_64/egg/tests/protein/nodes/features\n",
            "copying build/lib/tests/protein/nodes/features/test_amino_acid.py -> build/bdist.linux-x86_64/egg/tests/protein/nodes/features\n",
            "creating build/bdist.linux-x86_64/egg/tests/protein/edges\n",
            "copying build/lib/tests/protein/edges/test_distance.py -> build/bdist.linux-x86_64/egg/tests/protein/edges\n",
            "copying build/lib/tests/protein/edges/__init__.py -> build/bdist.linux-x86_64/egg/tests/protein/edges\n",
            "creating build/bdist.linux-x86_64/egg/tests/ppi\n",
            "copying build/lib/tests/ppi/__init__.py -> build/bdist.linux-x86_64/egg/tests/ppi\n",
            "copying build/lib/tests/ppi/test_graphs.py -> build/bdist.linux-x86_64/egg/tests/ppi\n",
            "creating build/bdist.linux-x86_64/egg/tests/testing\n",
            "copying build/lib/tests/testing/__init__.py -> build/bdist.linux-x86_64/egg/tests/testing\n",
            "copying build/lib/tests/testing/utils.py -> build/bdist.linux-x86_64/egg/tests/testing\n",
            "byte-compiling build/bdist.linux-x86_64/egg/graphein/rna/config.py to config.cpython-39.pyc\n",
            "byte-compiling build/bdist.linux-x86_64/egg/graphein/rna/graphs.py to graphs.cpython-39.pyc\n",
            "byte-compiling build/bdist.linux-x86_64/egg/graphein/rna/constants.py to constants.cpython-39.pyc\n",
            "byte-compiling build/bdist.linux-x86_64/egg/graphein/rna/__init__.py to __init__.cpython-39.pyc\n",
            "byte-compiling build/bdist.linux-x86_64/egg/graphein/rna/subgraphs.py to subgraphs.cpython-39.pyc\n",
            "byte-compiling build/bdist.linux-x86_64/egg/graphein/rna/visualisation.py to visualisation.cpython-39.pyc\n",
            "byte-compiling build/bdist.linux-x86_64/egg/graphein/rna/nussinov.py to nussinov.cpython-39.pyc\n",
            "byte-compiling build/bdist.linux-x86_64/egg/graphein/rna/utils.py to utils.cpython-39.pyc\n",
            "byte-compiling build/bdist.linux-x86_64/egg/graphein/rna/features/__init__.py to __init__.cpython-39.pyc\n",
            "byte-compiling build/bdist.linux-x86_64/egg/graphein/rna/features/atom.py to atom.cpython-39.pyc\n",
            "byte-compiling build/bdist.linux-x86_64/egg/graphein/rna/edges/__init__.py to __init__.cpython-39.pyc\n",
            "byte-compiling build/bdist.linux-x86_64/egg/graphein/rna/edges/atomic.py to atomic.cpython-39.pyc\n",
            "byte-compiling build/bdist.linux-x86_64/egg/graphein/rna/edges/distance.py to distance.cpython-39.pyc\n",
            "byte-compiling build/bdist.linux-x86_64/egg/graphein/rna/edges/base_pairing.py to base_pairing.cpython-39.pyc\n",
            "byte-compiling build/bdist.linux-x86_64/egg/graphein/ml/metrics/gdt.py to gdt.cpython-39.pyc\n",
            "byte-compiling build/bdist.linux-x86_64/egg/graphein/ml/metrics/__init__.py to __init__.cpython-39.pyc\n",
            "byte-compiling build/bdist.linux-x86_64/egg/graphein/ml/metrics/tm_score.py to tm_score.cpython-39.pyc\n",
            "byte-compiling build/bdist.linux-x86_64/egg/graphein/ml/__init__.py to __init__.cpython-39.pyc\n",
            "byte-compiling build/bdist.linux-x86_64/egg/graphein/ml/diffusion.py to diffusion.cpython-39.pyc\n",
            "byte-compiling build/bdist.linux-x86_64/egg/graphein/ml/clustering.py to clustering.cpython-39.pyc\n",
            "byte-compiling build/bdist.linux-x86_64/egg/graphein/ml/visualisation.py to visualisation.cpython-39.pyc\n",
            "byte-compiling build/bdist.linux-x86_64/egg/graphein/ml/datasets/__init__.py to __init__.cpython-39.pyc\n",
            "byte-compiling build/bdist.linux-x86_64/egg/graphein/ml/datasets/torch_geometric_dataset.py to torch_geometric_dataset.cpython-39.pyc\n",
            "byte-compiling build/bdist.linux-x86_64/egg/graphein/ml/utils.py to utils.cpython-39.pyc\n",
            "byte-compiling build/bdist.linux-x86_64/egg/graphein/ml/conversion.py to conversion.cpython-39.pyc\n",
            "byte-compiling build/bdist.linux-x86_64/egg/graphein/__init__.py to __init__.cpython-39.pyc\n",
            "byte-compiling build/bdist.linux-x86_64/egg/graphein/utils/config.py to config.cpython-39.pyc\n",
            "byte-compiling build/bdist.linux-x86_64/egg/graphein/utils/__init__.py to __init__.cpython-39.pyc\n",
            "byte-compiling build/bdist.linux-x86_64/egg/graphein/utils/pymol/__init__.py to __init__.cpython-39.pyc\n",
            "byte-compiling build/bdist.linux-x86_64/egg/graphein/utils/pymol/compat.py to compat.cpython-39.pyc\n",
            "byte-compiling build/bdist.linux-x86_64/egg/graphein/utils/pymol/core.py to core.cpython-39.pyc\n",
            "byte-compiling build/bdist.linux-x86_64/egg/graphein/utils/config_parser.py to config_parser.cpython-39.pyc\n",
            "byte-compiling build/bdist.linux-x86_64/egg/graphein/utils/utils.py to utils.cpython-39.pyc\n",
            "byte-compiling build/bdist.linux-x86_64/egg/graphein/molecule/config.py to config.cpython-39.pyc\n",
            "byte-compiling build/bdist.linux-x86_64/egg/graphein/molecule/graphs.py to graphs.cpython-39.pyc\n",
            "byte-compiling build/bdist.linux-x86_64/egg/graphein/molecule/__init__.py to __init__.cpython-39.pyc\n",
            "byte-compiling build/bdist.linux-x86_64/egg/graphein/molecule/atoms.py to atoms.cpython-39.pyc\n",
            "byte-compiling build/bdist.linux-x86_64/egg/graphein/molecule/visualisation.py to visualisation.cpython-39.pyc\n",
            "byte-compiling build/bdist.linux-x86_64/egg/graphein/molecule/utils.py to utils.cpython-39.pyc\n",
            "byte-compiling build/bdist.linux-x86_64/egg/graphein/molecule/chembl.py to chembl.cpython-39.pyc\n",
            "byte-compiling build/bdist.linux-x86_64/egg/graphein/molecule/features/__init__.py to __init__.cpython-39.pyc\n",
            "byte-compiling build/bdist.linux-x86_64/egg/graphein/molecule/features/graph/__init__.py to __init__.cpython-39.pyc\n",
            "byte-compiling build/bdist.linux-x86_64/egg/graphein/molecule/features/graph/molecule.py to molecule.cpython-39.pyc\n",
            "byte-compiling build/bdist.linux-x86_64/egg/graphein/molecule/features/nodes/atom_type.py to atom_type.cpython-39.pyc\n",
            "byte-compiling build/bdist.linux-x86_64/egg/graphein/molecule/features/nodes/__init__.py to __init__.cpython-39.pyc\n",
            "byte-compiling build/bdist.linux-x86_64/egg/graphein/molecule/features/edges/__init__.py to __init__.cpython-39.pyc\n",
            "byte-compiling build/bdist.linux-x86_64/egg/graphein/molecule/features/edges/bonds.py to bonds.cpython-39.pyc\n",
            "byte-compiling build/bdist.linux-x86_64/egg/graphein/molecule/zinc.py to zinc.cpython-39.pyc\n",
            "byte-compiling build/bdist.linux-x86_64/egg/graphein/molecule/edges/__init__.py to __init__.cpython-39.pyc\n",
            "byte-compiling build/bdist.linux-x86_64/egg/graphein/molecule/edges/atomic.py to atomic.cpython-39.pyc\n",
            "byte-compiling build/bdist.linux-x86_64/egg/graphein/molecule/edges/distance.py to distance.cpython-39.pyc\n",
            "byte-compiling build/bdist.linux-x86_64/egg/graphein/grn/config.py to config.cpython-39.pyc\n",
            "byte-compiling build/bdist.linux-x86_64/egg/graphein/grn/graphs.py to graphs.cpython-39.pyc\n",
            "byte-compiling build/bdist.linux-x86_64/egg/graphein/grn/__init__.py to __init__.cpython-39.pyc\n",
            "byte-compiling build/bdist.linux-x86_64/egg/graphein/grn/parse_regnetwork.py to parse_regnetwork.cpython-39.pyc\n",
            "byte-compiling build/bdist.linux-x86_64/egg/graphein/grn/edges.py to edges.cpython-39.pyc\n",
            "byte-compiling build/bdist.linux-x86_64/egg/graphein/grn/parse_trrust.py to parse_trrust.cpython-39.pyc\n",
            "byte-compiling build/bdist.linux-x86_64/egg/graphein/grn/features/node_features.py to node_features.cpython-39.pyc\n",
            "byte-compiling build/bdist.linux-x86_64/egg/graphein/grn/features/__init__.py to __init__.cpython-39.pyc\n",
            "byte-compiling build/bdist.linux-x86_64/egg/graphein/protein/config.py to config.cpython-39.pyc\n",
            "byte-compiling build/bdist.linux-x86_64/egg/graphein/protein/graphs.py to graphs.cpython-39.pyc\n",
            "byte-compiling build/bdist.linux-x86_64/egg/graphein/protein/tensor/plot.py to plot.cpython-39.pyc\n",
            "byte-compiling build/bdist.linux-x86_64/egg/graphein/protein/tensor/__init__.py to __init__.cpython-39.pyc\n",
            "byte-compiling build/bdist.linux-x86_64/egg/graphein/protein/tensor/edges.py to edges.cpython-39.pyc\n",
            "byte-compiling build/bdist.linux-x86_64/egg/graphein/protein/tensor/sequence.py to sequence.cpython-39.pyc\n",
            "byte-compiling build/bdist.linux-x86_64/egg/graphein/protein/tensor/pnerf.py to pnerf.cpython-39.pyc\n",
            "byte-compiling build/bdist.linux-x86_64/egg/graphein/protein/tensor/io.py to io.cpython-39.pyc\n",
            "byte-compiling build/bdist.linux-x86_64/egg/graphein/protein/tensor/angles.py to angles.cpython-39.pyc\n",
            "byte-compiling build/bdist.linux-x86_64/egg/graphein/protein/tensor/reconstruction.py to reconstruction.cpython-39.pyc\n",
            "byte-compiling build/bdist.linux-x86_64/egg/graphein/protein/tensor/representation.py to representation.cpython-39.pyc\n",
            "byte-compiling build/bdist.linux-x86_64/egg/graphein/protein/tensor/dataloader.py to dataloader.cpython-39.pyc\n",
            "byte-compiling build/bdist.linux-x86_64/egg/graphein/protein/tensor/types.py to types.cpython-39.pyc\n",
            "byte-compiling build/bdist.linux-x86_64/egg/graphein/protein/tensor/testing.py to testing.cpython-39.pyc\n",
            "byte-compiling build/bdist.linux-x86_64/egg/graphein/protein/tensor/data.py to data.cpython-39.pyc\n",
            "byte-compiling build/bdist.linux-x86_64/egg/graphein/protein/tensor/dataset.py to dataset.cpython-39.pyc\n",
            "byte-compiling build/bdist.linux-x86_64/egg/graphein/protein/tensor/geometry.py to geometry.cpython-39.pyc\n",
            "byte-compiling build/bdist.linux-x86_64/egg/graphein/protein/__init__.py to __init__.cpython-39.pyc\n",
            "byte-compiling build/bdist.linux-x86_64/egg/graphein/protein/subgraphs.py to subgraphs.cpython-39.pyc\n",
            "byte-compiling build/bdist.linux-x86_64/egg/graphein/protein/analysis.py to analysis.cpython-39.pyc\n",
            "byte-compiling build/bdist.linux-x86_64/egg/graphein/protein/visualisation.py to visualisation.cpython-39.pyc\n",
            "byte-compiling build/bdist.linux-x86_64/egg/graphein/protein/folding_utils.py to folding_utils.cpython-39.pyc\n",
            "byte-compiling build/bdist.linux-x86_64/egg/graphein/protein/utils.py to utils.cpython-39.pyc\n",
            "byte-compiling build/bdist.linux-x86_64/egg/graphein/protein/resi_atoms.py to resi_atoms.cpython-39.pyc\n",
            "byte-compiling build/bdist.linux-x86_64/egg/graphein/protein/meshes.py to meshes.cpython-39.pyc\n",
            "byte-compiling build/bdist.linux-x86_64/egg/graphein/protein/features/sequence/__init__.py to __init__.cpython-39.pyc\n",
            "byte-compiling build/bdist.linux-x86_64/egg/graphein/protein/features/sequence/sequence.py to sequence.cpython-39.pyc\n",
            "byte-compiling build/bdist.linux-x86_64/egg/graphein/protein/features/sequence/propy.py to propy.cpython-39.pyc\n",
            "byte-compiling build/bdist.linux-x86_64/egg/graphein/protein/features/sequence/embeddings.py to embeddings.cpython-39.pyc\n",
            "byte-compiling build/bdist.linux-x86_64/egg/graphein/protein/features/sequence/utils.py to utils.cpython-39.pyc\n",
            "byte-compiling build/bdist.linux-x86_64/egg/graphein/protein/features/__init__.py to __init__.cpython-39.pyc\n",
            "byte-compiling build/bdist.linux-x86_64/egg/graphein/protein/features/data/__init__.py to __init__.cpython-39.pyc\n",
            "byte-compiling build/bdist.linux-x86_64/egg/graphein/protein/features/graph/__init__.py to __init__.cpython-39.pyc\n",
            "byte-compiling build/bdist.linux-x86_64/egg/graphein/protein/features/graph/structure.py to structure.cpython-39.pyc\n",
            "byte-compiling build/bdist.linux-x86_64/egg/graphein/protein/features/graph/dynamics.py to dynamics.cpython-39.pyc\n",
            "byte-compiling build/bdist.linux-x86_64/egg/graphein/protein/features/pretrained_models/__init__.py to __init__.cpython-39.pyc\n",
            "byte-compiling build/bdist.linux-x86_64/egg/graphein/protein/features/utils.py to utils.cpython-39.pyc\n",
            "byte-compiling build/bdist.linux-x86_64/egg/graphein/protein/features/nodes/__init__.py to __init__.cpython-39.pyc\n",
            "byte-compiling build/bdist.linux-x86_64/egg/graphein/protein/features/nodes/amino_acid.py to amino_acid.cpython-39.pyc\n",
            "byte-compiling build/bdist.linux-x86_64/egg/graphein/protein/features/nodes/dssp.py to dssp.cpython-39.pyc\n",
            "byte-compiling build/bdist.linux-x86_64/egg/graphein/protein/features/nodes/aaindex.py to aaindex.cpython-39.pyc\n",
            "byte-compiling build/bdist.linux-x86_64/egg/graphein/protein/features/nodes/geometry.py to geometry.cpython-39.pyc\n",
            "byte-compiling build/bdist.linux-x86_64/egg/graphein/protein/edges/__init__.py to __init__.cpython-39.pyc\n",
            "byte-compiling build/bdist.linux-x86_64/egg/graphein/protein/edges/intramolecular.py to intramolecular.cpython-39.pyc\n",
            "byte-compiling build/bdist.linux-x86_64/egg/graphein/protein/edges/atomic.py to atomic.cpython-39.pyc\n",
            "byte-compiling build/bdist.linux-x86_64/egg/graphein/protein/edges/distance.py to distance.cpython-39.pyc\n",
            "byte-compiling build/bdist.linux-x86_64/egg/graphein/ppi/config.py to config.cpython-39.pyc\n",
            "byte-compiling build/bdist.linux-x86_64/egg/graphein/ppi/graphs.py to graphs.cpython-39.pyc\n",
            "byte-compiling build/bdist.linux-x86_64/egg/graphein/ppi/graph_metadata.py to graph_metadata.cpython-39.pyc\n",
            "byte-compiling build/bdist.linux-x86_64/egg/graphein/ppi/parse_stringdb.py to parse_stringdb.cpython-39.pyc\n",
            "byte-compiling build/bdist.linux-x86_64/egg/graphein/ppi/__init__.py to __init__.cpython-39.pyc\n",
            "byte-compiling build/bdist.linux-x86_64/egg/graphein/ppi/parse_biogrid.py to parse_biogrid.cpython-39.pyc\n",
            "byte-compiling build/bdist.linux-x86_64/egg/graphein/ppi/edges.py to edges.cpython-39.pyc\n",
            "byte-compiling build/bdist.linux-x86_64/egg/graphein/ppi/visualisation.py to visualisation.cpython-39.pyc\n",
            "byte-compiling build/bdist.linux-x86_64/egg/graphein/ppi/features/node_features.py to node_features.cpython-39.pyc\n",
            "byte-compiling build/bdist.linux-x86_64/egg/graphein/ppi/features/__init__.py to __init__.cpython-39.pyc\n",
            "byte-compiling build/bdist.linux-x86_64/egg/graphein/cli.py to cli.cpython-39.pyc\n",
            "byte-compiling build/bdist.linux-x86_64/egg/graphein/testing/__init__.py to __init__.cpython-39.pyc\n",
            "byte-compiling build/bdist.linux-x86_64/egg/graphein/testing/utils.py to utils.cpython-39.pyc\n",
            "byte-compiling build/bdist.linux-x86_64/egg/tests/rna/__init__.py to __init__.cpython-39.pyc\n",
            "byte-compiling build/bdist.linux-x86_64/egg/tests/rna/test_subgraphs.py to test_subgraphs.cpython-39.pyc\n",
            "byte-compiling build/bdist.linux-x86_64/egg/tests/rna/test_graphs.py to test_graphs.cpython-39.pyc\n",
            "byte-compiling build/bdist.linux-x86_64/egg/tests/rna/test_nussinov.py to test_nussinov.cpython-39.pyc\n",
            "byte-compiling build/bdist.linux-x86_64/egg/tests/ml/__init__.py to __init__.cpython-39.pyc\n",
            "byte-compiling build/bdist.linux-x86_64/egg/tests/ml/test_conversion.py to test_conversion.cpython-39.pyc\n",
            "byte-compiling build/bdist.linux-x86_64/egg/tests/ml/test_torch_geometric_dataset.py to test_torch_geometric_dataset.cpython-39.pyc\n",
            "byte-compiling build/bdist.linux-x86_64/egg/tests/__init__.py to __init__.cpython-39.pyc\n",
            "byte-compiling build/bdist.linux-x86_64/egg/tests/utils/__init__.py to __init__.cpython-39.pyc\n",
            "byte-compiling build/bdist.linux-x86_64/egg/tests/utils/test_yml_parser.py to test_yml_parser.cpython-39.pyc\n",
            "byte-compiling build/bdist.linux-x86_64/egg/tests/utils/test_cli.py to test_cli.cpython-39.pyc\n",
            "byte-compiling build/bdist.linux-x86_64/egg/tests/test_graphein.py to test_graphein.cpython-39.pyc\n",
            "byte-compiling build/bdist.linux-x86_64/egg/tests/grn/__init__.py to __init__.cpython-39.pyc\n",
            "byte-compiling build/bdist.linux-x86_64/egg/tests/grn/test_graphs.py to test_graphs.cpython-39.pyc\n",
            "byte-compiling build/bdist.linux-x86_64/egg/tests/protein/tensor/test_representation.py to test_representation.cpython-39.pyc\n",
            "byte-compiling build/bdist.linux-x86_64/egg/tests/protein/tensor/__init__.py to __init__.cpython-39.pyc\n",
            "byte-compiling build/bdist.linux-x86_64/egg/tests/protein/tensor/test_reconstruction.py to test_reconstruction.cpython-39.pyc\n",
            "byte-compiling build/bdist.linux-x86_64/egg/tests/protein/tensor/test_sequence.py to test_sequence.cpython-39.pyc\n",
            "byte-compiling build/bdist.linux-x86_64/egg/tests/protein/tensor/test_data.py to test_data.cpython-39.pyc\n",
            "byte-compiling build/bdist.linux-x86_64/egg/tests/protein/tensor/test_geometry.py to test_geometry.cpython-39.pyc\n",
            "byte-compiling build/bdist.linux-x86_64/egg/tests/protein/tensor/test_io.py to test_io.cpython-39.pyc\n",
            "byte-compiling build/bdist.linux-x86_64/egg/tests/protein/tensor/test_angles.py to test_angles.cpython-39.pyc\n",
            "byte-compiling build/bdist.linux-x86_64/egg/tests/protein/__init__.py to __init__.cpython-39.pyc\n",
            "byte-compiling build/bdist.linux-x86_64/egg/tests/protein/test_subgraphs.py to test_subgraphs.cpython-39.pyc\n",
            "byte-compiling build/bdist.linux-x86_64/egg/tests/protein/test_graphs.py to test_graphs.cpython-39.pyc\n",
            "byte-compiling build/bdist.linux-x86_64/egg/tests/protein/test_utils.py to test_utils.cpython-39.pyc\n",
            "byte-compiling build/bdist.linux-x86_64/egg/tests/protein/nodes/__init__.py to __init__.cpython-39.pyc\n",
            "byte-compiling build/bdist.linux-x86_64/egg/tests/protein/nodes/features/__init__.py to __init__.cpython-39.pyc\n",
            "byte-compiling build/bdist.linux-x86_64/egg/tests/protein/nodes/features/test_geometry.py to test_geometry.cpython-39.pyc\n",
            "byte-compiling build/bdist.linux-x86_64/egg/tests/protein/nodes/features/test_amino_acid.py to test_amino_acid.cpython-39.pyc\n",
            "byte-compiling build/bdist.linux-x86_64/egg/tests/protein/edges/test_distance.py to test_distance.cpython-39.pyc\n",
            "byte-compiling build/bdist.linux-x86_64/egg/tests/protein/edges/__init__.py to __init__.cpython-39.pyc\n",
            "byte-compiling build/bdist.linux-x86_64/egg/tests/ppi/__init__.py to __init__.cpython-39.pyc\n",
            "byte-compiling build/bdist.linux-x86_64/egg/tests/ppi/test_graphs.py to test_graphs.cpython-39.pyc\n",
            "byte-compiling build/bdist.linux-x86_64/egg/tests/testing/__init__.py to __init__.cpython-39.pyc\n",
            "byte-compiling build/bdist.linux-x86_64/egg/tests/testing/utils.py to utils.cpython-39.pyc\n",
            "creating build/bdist.linux-x86_64/egg/EGG-INFO\n",
            "copying graphein.egg-info/PKG-INFO -> build/bdist.linux-x86_64/egg/EGG-INFO\n",
            "copying graphein.egg-info/SOURCES.txt -> build/bdist.linux-x86_64/egg/EGG-INFO\n",
            "copying graphein.egg-info/dependency_links.txt -> build/bdist.linux-x86_64/egg/EGG-INFO\n",
            "copying graphein.egg-info/entry_points.txt -> build/bdist.linux-x86_64/egg/EGG-INFO\n",
            "copying graphein.egg-info/requires.txt -> build/bdist.linux-x86_64/egg/EGG-INFO\n",
            "copying graphein.egg-info/top_level.txt -> build/bdist.linux-x86_64/egg/EGG-INFO\n",
            "zip_safe flag not set; analyzing archive contents...\n",
            "graphein.grn.__pycache__.parse_regnetwork.cpython-39: module references __file__\n",
            "graphein.grn.__pycache__.parse_trrust.cpython-39: module references __file__\n",
            "graphein.protein.__pycache__.config.cpython-39: module references __file__\n",
            "graphein.protein.features.nodes.__pycache__.amino_acid.cpython-39: module references __file__\n",
            "graphein.protein.features.sequence.__pycache__.embeddings.cpython-39: module references __file__\n",
            "tests.ml.__pycache__.test_torch_geometric_dataset.cpython-39: module references __file__\n",
            "tests.protein.__pycache__.test_graphs.cpython-39: module references __file__\n",
            "tests.protein.__pycache__.test_subgraphs.cpython-39: module references __file__\n",
            "tests.protein.edges.__pycache__.test_distance.cpython-39: module references __file__\n",
            "tests.rna.__pycache__.test_graphs.cpython-39: module references __file__\n",
            "tests.rna.__pycache__.test_subgraphs.cpython-39: module references __file__\n",
            "tests.testing.__pycache__.utils.cpython-39: module references __file__\n",
            "tests.utils.__pycache__.test_cli.cpython-39: module references __file__\n",
            "tests.utils.__pycache__.test_yml_parser.cpython-39: module references __file__\n",
            "creating dist\n",
            "creating 'dist/graphein-1.5.2-py3.9.egg' and adding 'build/bdist.linux-x86_64/egg' to it\n",
            "removing 'build/bdist.linux-x86_64/egg' (and everything under it)\n",
            "Processing graphein-1.5.2-py3.9.egg\n",
            "creating /usr/local/lib/python3.9/dist-packages/graphein-1.5.2-py3.9.egg\n",
            "Extracting graphein-1.5.2-py3.9.egg to /usr/local/lib/python3.9/dist-packages\n",
            "Adding graphein 1.5.2 to easy-install.pth file\n",
            "Installing graphein script to /usr/local/bin\n",
            "\n",
            "Installed /usr/local/lib/python3.9/dist-packages/graphein-1.5.2-py3.9.egg\n",
            "Processing dependencies for graphein==1.5.2\n",
            "Searching for torchtyping\n",
            "Reading https://pypi.org/simple/torchtyping/\n",
            "Downloading https://files.pythonhosted.org/packages/9a/29/4eced5b50c3e8a6fd796c166916171e27bd0e52fe80f212c51ee0d17f7ed/torchtyping-0.1.4-py3-none-any.whl#sha256=485fb6ef3965c39b0de15f00d6f49373e0a3a6993e9733942a63c5e207d35390\n",
            "Best match: torchtyping 0.1.4\n",
            "Processing torchtyping-0.1.4-py3-none-any.whl\n",
            "Installing torchtyping-0.1.4-py3-none-any.whl to /usr/local/lib/python3.9/dist-packages\n",
            "Adding torchtyping 0.1.4 to easy-install.pth file\n",
            "\n",
            "Installed /usr/local/lib/python3.9/dist-packages/torchtyping-0.1.4-py3.9.egg\n",
            "Searching for wget\n",
            "Reading https://pypi.org/simple/wget/\n",
            "Downloading https://files.pythonhosted.org/packages/47/6a/62e288da7bcda82b935ff0c6cfe542970f04e29c756b0e147251b2fb251f/wget-3.2.zip#sha256=35e630eca2aa50ce998b9b1a127bb26b30dfee573702782aa982f875e3f16061\n",
            "Best match: wget 3.2\n",
            "Processing wget-3.2.zip\n",
            "Writing /tmp/easy_install-rco833g7/wget-3.2/setup.cfg\n",
            "Running wget-3.2/setup.py -q bdist_egg --dist-dir /tmp/easy_install-rco833g7/wget-3.2/egg-dist-tmp-6dasie3j\n",
            "zip_safe flag not set; analyzing archive contents...\n",
            "Moving wget-3.2-py3.9.egg to /usr/local/lib/python3.9/dist-packages\n",
            "Adding wget 3.2 to easy-install.pth file\n",
            "\n",
            "Installed /usr/local/lib/python3.9/dist-packages/wget-3.2-py3.9.egg\n",
            "Searching for pyyaml<6.0,>=5.1\n",
            "Reading https://pypi.org/simple/pyyaml/\n",
            "Downloading https://files.pythonhosted.org/packages/3d/1f/2a3705efca3b47161ceaaf52970a9d4b81cc84600818686ecd75093a00a5/PyYAML-5.4.1-cp39-cp39-manylinux1_x86_64.whl#sha256=74c1485f7707cf707a7aef42ef6322b8f97921bd89be2ab6317fd782c2d53183\n",
            "Best match: PyYAML 5.4.1\n",
            "Processing PyYAML-5.4.1-cp39-cp39-manylinux1_x86_64.whl\n",
            "Installing PyYAML-5.4.1-cp39-cp39-manylinux1_x86_64.whl to /usr/local/lib/python3.9/dist-packages\n",
            "Adding PyYAML 5.4.1 to easy-install.pth file\n",
            "\n",
            "Installed /usr/local/lib/python3.9/dist-packages/PyYAML-5.4.1-py3.9-linux-x86_64.egg\n",
            "Searching for rich-click\n",
            "Reading https://pypi.org/simple/rich-click/\n",
            "Downloading https://files.pythonhosted.org/packages/f4/f2/3fbb0e6eee13a484dc8aaca450e9322d267fc3839b6769841492f1594037/rich_click-1.6.1-py3-none-any.whl#sha256=0fcf4d1a09029d79322dd814ab0b2e66ac183633037561881d45abae8a161d95\n",
            "Best match: rich-click 1.6.1\n",
            "Processing rich_click-1.6.1-py3-none-any.whl\n",
            "Installing rich_click-1.6.1-py3-none-any.whl to /usr/local/lib/python3.9/dist-packages\n",
            "Adding rich-click 1.6.1 to easy-install.pth file\n",
            "Installing rich-click script to /usr/local/bin\n",
            "\n",
            "Installed /usr/local/lib/python3.9/dist-packages/rich_click-1.6.1-py3.9.egg\n",
            "Searching for rich\n",
            "Downloading https://files.pythonhosted.org/packages/8c/91/d1b210a5e3c3e076d55a2da815010d136cc2378c4bad6864b66b32de0c97/rich-click-1.6.1.tar.gz#sha256=f8ff96693ec6e261d1544e9f7d9a5811c5ef5d74c8adb4978430fc0dac16777e\n",
            "Best match: rich click-1.6.1\n",
            "Processing rich-click-1.6.1.tar.gz\n",
            "Writing /tmp/easy_install-lw41fakv/rich-click-1.6.1/setup.cfg\n",
            "Running rich-click-1.6.1/setup.py -q bdist_egg --dist-dir /tmp/easy_install-lw41fakv/rich-click-1.6.1/egg-dist-tmp-3r1m6osh\n",
            "zip_safe flag not set; analyzing archive contents...\n",
            "removing '/usr/local/lib/python3.9/dist-packages/rich_click-1.6.1-py3.9.egg' (and everything under it)\n",
            "Moving rich_click-1.6.1-py3.9.egg to /usr/local/lib/python3.9/dist-packages\n",
            "rich-click 1.6.1 is already the active version in easy-install.pth\n",
            "Installing rich-click script to /usr/local/bin\n",
            "\n",
            "Installed /usr/local/lib/python3.9/dist-packages/rich_click-1.6.1-py3.9.egg\n",
            "error: The 'rich' distribution was not found and is required by graphein\n"
          ]
        }
      ]
    },
    {
      "cell_type": "code",
      "source": [
        "!pip install rich"
      ],
      "metadata": {
        "colab": {
          "base_uri": "https://localhost:8080/"
        },
        "id": "U5VPEKZ5yWdf",
        "outputId": "28f532d6-6595-4478-b5af-be4d58d82260"
      },
      "execution_count": 4,
      "outputs": [
        {
          "output_type": "stream",
          "name": "stdout",
          "text": [
            "Looking in indexes: https://pypi.org/simple, https://us-python.pkg.dev/colab-wheels/public/simple/\n",
            "Collecting rich\n",
            "  Downloading rich-13.3.2-py3-none-any.whl (238 kB)\n",
            "\u001b[2K     \u001b[90m━━━━━━━━━━━━━━━━━━━━━━━━━━━━━━━━━━━━━━━\u001b[0m \u001b[32m238.7/238.7 KB\u001b[0m \u001b[31m6.3 MB/s\u001b[0m eta \u001b[36m0:00:00\u001b[0m\n",
            "\u001b[?25hCollecting pygments<3.0.0,>=2.13.0\n",
            "  Downloading Pygments-2.14.0-py3-none-any.whl (1.1 MB)\n",
            "\u001b[2K     \u001b[90m━━━━━━━━━━━━━━━━━━━━━━━━━━━━━━━━━━━━━━━━\u001b[0m \u001b[32m1.1/1.1 MB\u001b[0m \u001b[31m31.7 MB/s\u001b[0m eta \u001b[36m0:00:00\u001b[0m\n",
            "\u001b[?25hCollecting markdown-it-py<3.0.0,>=2.2.0\n",
            "  Downloading markdown_it_py-2.2.0-py3-none-any.whl (84 kB)\n",
            "\u001b[2K     \u001b[90m━━━━━━━━━━━━━━━━━━━━━━━━━━━━━━━━━━━━━━━━\u001b[0m \u001b[32m84.5/84.5 KB\u001b[0m \u001b[31m9.6 MB/s\u001b[0m eta \u001b[36m0:00:00\u001b[0m\n",
            "\u001b[?25hCollecting mdurl~=0.1\n",
            "  Downloading mdurl-0.1.2-py3-none-any.whl (10.0 kB)\n",
            "Installing collected packages: pygments, mdurl, markdown-it-py, rich\n",
            "  Attempting uninstall: pygments\n",
            "    Found existing installation: Pygments 2.6.1\n",
            "    Uninstalling Pygments-2.6.1:\n",
            "      Successfully uninstalled Pygments-2.6.1\n",
            "\u001b[31mERROR: pip's dependency resolver does not currently take into account all the packages that are installed. This behaviour is the source of the following dependency conflicts.\n",
            "ipython 7.9.0 requires jedi>=0.10, which is not installed.\n",
            "graphein 1.5.2 requires biopandas>=0.4.1, which is not installed.\n",
            "graphein 1.5.2 requires biopython, which is not installed.\n",
            "graphein 1.5.2 requires bioservices>=1.10.0, which is not installed.\n",
            "graphein 1.5.2 requires deepdiff, which is not installed.\n",
            "graphein 1.5.2 requires loguru, which is not installed.\n",
            "graphein 1.5.2 requires pyyaml<6.0,>=5.1, but you have pyyaml 6.0 which is incompatible.\u001b[0m\u001b[31m\n",
            "\u001b[0mSuccessfully installed markdown-it-py-2.2.0 mdurl-0.1.2 pygments-2.14.0 rich-13.3.2\n"
          ]
        }
      ]
    },
    {
      "cell_type": "code",
      "source": [
        "# Install graphein if necessary:\n",
        "#!pip install graphein\n",
        "# Install DSSP if necessary:\n",
        "!sudo apt-get install dssp "
      ],
      "metadata": {
        "colab": {
          "base_uri": "https://localhost:8080/"
        },
        "id": "b_Af9rPeyk_F",
        "outputId": "b9cbdf70-9748-47b9-b59f-0040684449bb"
      },
      "execution_count": 6,
      "outputs": [
        {
          "output_type": "stream",
          "name": "stdout",
          "text": [
            "Reading package lists... Done\n",
            "Building dependency tree       \n",
            "Reading state information... Done\n",
            "The following NEW packages will be installed:\n",
            "  dssp\n",
            "0 upgraded, 1 newly installed, 0 to remove and 22 not upgraded.\n",
            "Need to get 264 kB of archives.\n",
            "After this operation, 687 kB of additional disk space will be used.\n",
            "Get:1 http://archive.ubuntu.com/ubuntu focal/universe amd64 dssp amd64 3.0.0-3build1 [264 kB]\n",
            "Fetched 264 kB in 1s (342 kB/s)\n",
            "debconf: unable to initialize frontend: Dialog\n",
            "debconf: (No usable dialog-like program is installed, so the dialog based frontend cannot be used. at /usr/share/perl5/Debconf/FrontEnd/Dialog.pm line 76, <> line 1.)\n",
            "debconf: falling back to frontend: Readline\n",
            "debconf: unable to initialize frontend: Readline\n",
            "debconf: (This frontend requires a controlling tty.)\n",
            "debconf: falling back to frontend: Teletype\n",
            "dpkg-preconfigure: unable to re-open stdin: \n",
            "Selecting previously unselected package dssp.\n",
            "(Reading database ... 128275 files and directories currently installed.)\n",
            "Preparing to unpack .../dssp_3.0.0-3build1_amd64.deb ...\n",
            "Unpacking dssp (3.0.0-3build1) ...\n",
            "Setting up dssp (3.0.0-3build1) ...\n",
            "Processing triggers for man-db (2.9.1-1) ...\n"
          ]
        }
      ]
    },
    {
      "cell_type": "code",
      "source": [
        "from graphein.protein.config import ProteinGraphConfig, DSSPConfig\n",
        "from graphein.protein.graphs import construct_graph\n",
        "from graphein.protein.edges.distance import (\n",
        "    add_aromatic_interactions,\n",
        "    add_disulfide_interactions,\n",
        "    add_hydrophobic_interactions,\n",
        "    add_peptide_bonds,\n",
        ")\n",
        "from graphein.protein.features.nodes import asa, rsa\n",
        "\n",
        "config = ProteinGraphConfig(\n",
        "    edge_construction_functions=[       # List of functions to call to construct edges.\n",
        "        add_hydrophobic_interactions,\n",
        "        add_aromatic_interactions,\n",
        "        add_disulfide_interactions,\n",
        "        add_peptide_bonds,\n",
        "    ],\n",
        "    graph_metadata_functions=[asa, rsa],  # Add ASA and RSA features.\n",
        "    dssp_config=DSSPConfig(),             # Add DSSP config in order to compute ASA and RSA.\n",
        ")\n",
        "\n",
        "g = construct_graph(pdb_code=\"3eiy\", config=config)"
      ],
      "metadata": {
        "colab": {
          "base_uri": "https://localhost:8080/",
          "height": 334,
          "referenced_widgets": [
            "2a4be271efe7457c8f62aa9ebba6456e",
            "b75ec694bcda4dfdadcb097d9214de6e"
          ]
        },
        "id": "33gIAVMsyuCX",
        "outputId": "755dfc1a-4121-4144-cb65-179b21f73347"
      },
      "execution_count": 14,
      "outputs": [
        {
          "output_type": "display_data",
          "data": {
            "text/plain": [
              "Output()"
            ],
            "application/vnd.jupyter.widget-view+json": {
              "version_major": 2,
              "version_minor": 0,
              "model_id": "2a4be271efe7457c8f62aa9ebba6456e"
            }
          },
          "metadata": {}
        },
        {
          "output_type": "display_data",
          "data": {
            "text/plain": [
              "/content/graphein/graphein/protein/graphs.py:153: FutureWarning: The default value of regex will change from True \n",
              "to False in a future version.\n",
              "  df[\"node_id\"] = df[\"node_id\"].str.replace(\":$\", \"\")\n"
            ],
            "text/html": [
              "<pre style=\"white-space:pre;overflow-x:auto;line-height:normal;font-family:Menlo,'DejaVu Sans Mono',consolas,'Courier New',monospace\">/content/graphein/graphein/protein/graphs.py:153: FutureWarning: The default value of regex will change from True \n",
              "to False in a future version.\n",
              "  df[\"node_id\"] = df[\"node_id\"].str.replace(\":$\", \"\")\n",
              "</pre>\n"
            ]
          },
          "metadata": {}
        },
        {
          "output_type": "display_data",
          "data": {
            "text/plain": [
              "/content/graphein/graphein/protein/graphs.py:156: FutureWarning: The default value of regex will change from True \n",
              "to False in a future version.\n",
              "  df[\"node_id\"] = df[\"node_id\"].str.replace(\":$\", \"\")\n"
            ],
            "text/html": [
              "<pre style=\"white-space:pre;overflow-x:auto;line-height:normal;font-family:Menlo,'DejaVu Sans Mono',consolas,'Courier New',monospace\">/content/graphein/graphein/protein/graphs.py:156: FutureWarning: The default value of regex will change from True \n",
              "to False in a future version.\n",
              "  df[\"node_id\"] = df[\"node_id\"].str.replace(\":$\", \"\")\n",
              "</pre>\n"
            ]
          },
          "metadata": {}
        },
        {
          "output_type": "display_data",
          "data": {
            "text/plain": [
              "\u001b[2;36m[03/13/23 16:30:24]\u001b[0m\u001b[2;36m \u001b[0m\u001b[32mDEBUG   \u001b[0m Deprotonating protein. This removes H atoms from the pdb_df dataframe    \u001b]8;id=360100;file:///content/graphein/graphein/protein/graphs.py\u001b\\\u001b[2mgraphs.py\u001b[0m\u001b]8;;\u001b\\\u001b[2m:\u001b[0m\u001b]8;id=811019;file:///content/graphein/graphein/protein/graphs.py#179\u001b\\\u001b[2m179\u001b[0m\u001b]8;;\u001b\\\n"
            ],
            "text/html": [
              "<pre style=\"white-space:pre;overflow-x:auto;line-height:normal;font-family:Menlo,'DejaVu Sans Mono',consolas,'Courier New',monospace\"><span style=\"color: #7fbfbf; text-decoration-color: #7fbfbf\">[03/13/23 16:30:24] </span><span style=\"color: #008000; text-decoration-color: #008000\">DEBUG   </span> Deprotonating protein. This removes H atoms from the pdb_df dataframe    <a href=\"file:///content/graphein/graphein/protein/graphs.py\" target=\"_blank\"><span style=\"color: #7f7f7f; text-decoration-color: #7f7f7f\">graphs.py</span></a><span style=\"color: #7f7f7f; text-decoration-color: #7f7f7f\">:</span><a href=\"file:///content/graphein/graphein/protein/graphs.py#179\" target=\"_blank\"><span style=\"color: #7f7f7f; text-decoration-color: #7f7f7f\">179</span></a>\n",
              "</pre>\n"
            ]
          },
          "metadata": {}
        },
        {
          "output_type": "display_data",
          "data": {
            "text/plain": [
              "\u001b[2;36m                   \u001b[0m\u001b[2;36m \u001b[0m\u001b[32mDEBUG   \u001b[0m Detected \u001b[1;36m174\u001b[0m total nodes                                                 \u001b]8;id=188643;file:///content/graphein/graphein/protein/graphs.py\u001b\\\u001b[2mgraphs.py\u001b[0m\u001b]8;;\u001b\\\u001b[2m:\u001b[0m\u001b]8;id=199244;file:///content/graphein/graphein/protein/graphs.py#431\u001b\\\u001b[2m431\u001b[0m\u001b]8;;\u001b\\\n"
            ],
            "text/html": [
              "<pre style=\"white-space:pre;overflow-x:auto;line-height:normal;font-family:Menlo,'DejaVu Sans Mono',consolas,'Courier New',monospace\"><span style=\"color: #7fbfbf; text-decoration-color: #7fbfbf\">                    </span><span style=\"color: #008000; text-decoration-color: #008000\">DEBUG   </span> Detected <span style=\"color: #008080; text-decoration-color: #008080; font-weight: bold\">174</span> total nodes                                                 <a href=\"file:///content/graphein/graphein/protein/graphs.py\" target=\"_blank\"><span style=\"color: #7f7f7f; text-decoration-color: #7f7f7f\">graphs.py</span></a><span style=\"color: #7f7f7f; text-decoration-color: #7f7f7f\">:</span><a href=\"file:///content/graphein/graphein/protein/graphs.py#431\" target=\"_blank\"><span style=\"color: #7f7f7f; text-decoration-color: #7f7f7f\">431</span></a>\n",
              "</pre>\n"
            ]
          },
          "metadata": {}
        },
        {
          "output_type": "display_data",
          "data": {
            "text/plain": [
              "\u001b[2;36m                   \u001b[0m\u001b[2;36m \u001b[0m\u001b[34mINFO    \u001b[0m Found \u001b[1;36m413\u001b[0m hydrophobic interactions.                                   \u001b]8;id=480575;file:///content/graphein/graphein/protein/edges/distance.py\u001b\\\u001b[2mdistance.py\u001b[0m\u001b]8;;\u001b\\\u001b[2m:\u001b[0m\u001b]8;id=753812;file:///content/graphein/graphein/protein/edges/distance.py#1342\u001b\\\u001b[2m1342\u001b[0m\u001b]8;;\u001b\\\n"
            ],
            "text/html": [
              "<pre style=\"white-space:pre;overflow-x:auto;line-height:normal;font-family:Menlo,'DejaVu Sans Mono',consolas,'Courier New',monospace\"><span style=\"color: #7fbfbf; text-decoration-color: #7fbfbf\">                    </span><span style=\"color: #000080; text-decoration-color: #000080\">INFO    </span> Found <span style=\"color: #008080; text-decoration-color: #008080; font-weight: bold\">413</span> hydrophobic interactions.                                   <a href=\"file:///content/graphein/graphein/protein/edges/distance.py\" target=\"_blank\"><span style=\"color: #7f7f7f; text-decoration-color: #7f7f7f\">distance.py</span></a><span style=\"color: #7f7f7f; text-decoration-color: #7f7f7f\">:</span><a href=\"file:///content/graphein/graphein/protein/edges/distance.py#1342\" target=\"_blank\"><span style=\"color: #7f7f7f; text-decoration-color: #7f7f7f\">1342</span></a>\n",
              "</pre>\n"
            ]
          },
          "metadata": {}
        },
        {
          "output_type": "display_data",
          "data": {
            "text/plain": [
              "\u001b[2;36m                   \u001b[0m\u001b[2;36m \u001b[0m\u001b[34mINFO    \u001b[0m Found: \u001b[1;36m16\u001b[0m aromatic-aromatic interactions                               \u001b]8;id=577944;file:///content/graphein/graphein/protein/edges/distance.py\u001b\\\u001b[2mdistance.py\u001b[0m\u001b]8;;\u001b\\\u001b[2m:\u001b[0m\u001b]8;id=465944;file:///content/graphein/graphein/protein/edges/distance.py#466\u001b\\\u001b[2m466\u001b[0m\u001b]8;;\u001b\\\n"
            ],
            "text/html": [
              "<pre style=\"white-space:pre;overflow-x:auto;line-height:normal;font-family:Menlo,'DejaVu Sans Mono',consolas,'Courier New',monospace\"><span style=\"color: #7fbfbf; text-decoration-color: #7fbfbf\">                    </span><span style=\"color: #000080; text-decoration-color: #000080\">INFO    </span> Found: <span style=\"color: #008080; text-decoration-color: #008080; font-weight: bold\">16</span> aromatic-aromatic interactions                               <a href=\"file:///content/graphein/graphein/protein/edges/distance.py\" target=\"_blank\"><span style=\"color: #7f7f7f; text-decoration-color: #7f7f7f\">distance.py</span></a><span style=\"color: #7f7f7f; text-decoration-color: #7f7f7f\">:</span><a href=\"file:///content/graphein/graphein/protein/edges/distance.py#466\" target=\"_blank\"><span style=\"color: #7f7f7f; text-decoration-color: #7f7f7f\">466</span></a>\n",
              "</pre>\n"
            ]
          },
          "metadata": {}
        },
        {
          "output_type": "display_data",
          "data": {
            "text/plain": [
              "\u001b[2;36m                   \u001b[0m\u001b[2;36m \u001b[0m\u001b[32mDEBUG   \u001b[0m \u001b[1;36m1\u001b[0m CYS residues found. Cannot add disulfide                             \u001b]8;id=207529;file:///content/graphein/graphein/protein/edges/distance.py\u001b\\\u001b[2mdistance.py\u001b[0m\u001b]8;;\u001b\\\u001b[2m:\u001b[0m\u001b]8;id=50665;file:///content/graphein/graphein/protein/edges/distance.py#309\u001b\\\u001b[2m309\u001b[0m\u001b]8;;\u001b\\\n",
              "\u001b[2;36m                    \u001b[0m         interactions with fewer than two CYS residues.                         \u001b[2m               \u001b[0m\n"
            ],
            "text/html": [
              "<pre style=\"white-space:pre;overflow-x:auto;line-height:normal;font-family:Menlo,'DejaVu Sans Mono',consolas,'Courier New',monospace\"><span style=\"color: #7fbfbf; text-decoration-color: #7fbfbf\">                    </span><span style=\"color: #008000; text-decoration-color: #008000\">DEBUG   </span> <span style=\"color: #008080; text-decoration-color: #008080; font-weight: bold\">1</span> CYS residues found. Cannot add disulfide                             <a href=\"file:///content/graphein/graphein/protein/edges/distance.py\" target=\"_blank\"><span style=\"color: #7f7f7f; text-decoration-color: #7f7f7f\">distance.py</span></a><span style=\"color: #7f7f7f; text-decoration-color: #7f7f7f\">:</span><a href=\"file:///content/graphein/graphein/protein/edges/distance.py#309\" target=\"_blank\"><span style=\"color: #7f7f7f; text-decoration-color: #7f7f7f\">309</span></a>\n",
              "<span style=\"color: #7fbfbf; text-decoration-color: #7fbfbf\">                    </span>         interactions with fewer than two CYS residues.                         <span style=\"color: #7f7f7f; text-decoration-color: #7f7f7f\">               </span>\n",
              "</pre>\n"
            ]
          },
          "metadata": {}
        },
        {
          "output_type": "display_data",
          "data": {
            "text/plain": [],
            "text/html": [
              "<pre style=\"white-space:pre;overflow-x:auto;line-height:normal;font-family:Menlo,'DejaVu Sans Mono',consolas,'Courier New',monospace\"></pre>\n"
            ]
          },
          "metadata": {}
        },
        {
          "output_type": "display_data",
          "data": {
            "text/plain": [
              "\n"
            ],
            "text/html": [
              "<pre style=\"white-space:pre;overflow-x:auto;line-height:normal;font-family:Menlo,'DejaVu Sans Mono',consolas,'Courier New',monospace\">\n",
              "</pre>\n"
            ]
          },
          "metadata": {}
        },
        {
          "output_type": "stream",
          "name": "stderr",
          "text": [
            "/usr/local/lib/python3.9/dist-packages/biopandas/pdb/pandas_pdb.py:624: UserWarning: Column model_id is not an expected column and will be skipped.\n",
            "  warn(\n",
            "/usr/local/lib/python3.9/dist-packages/biopandas/pdb/pandas_pdb.py:624: UserWarning: Column node_id is not an expected column and will be skipped.\n",
            "  warn(\n",
            "/usr/local/lib/python3.9/dist-packages/biopandas/pdb/pandas_pdb.py:624: UserWarning: Column residue_id is not an expected column and will be skipped.\n",
            "  warn(\n"
          ]
        },
        {
          "output_type": "display_data",
          "data": {
            "text/plain": [
              "\u001b[2;36m[03/13/23 16:30:25]\u001b[0m\u001b[2;36m \u001b[0m\u001b[34mINFO    \u001b[0m Successfully saved PDB dataframe to \u001b[35m/tmp/tmpaktds_nx/\u001b[0m\u001b[95m3eiy.pdb\u001b[0m             \u001b]8;id=411719;file:///content/graphein/graphein/protein/utils.py\u001b\\\u001b[2mutils.py\u001b[0m\u001b]8;;\u001b\\\u001b[2m:\u001b[0m\u001b]8;id=506603;file:///content/graphein/graphein/protein/utils.py#416\u001b\\\u001b[2m416\u001b[0m\u001b]8;;\u001b\\\n"
            ],
            "text/html": [
              "<pre style=\"white-space:pre;overflow-x:auto;line-height:normal;font-family:Menlo,'DejaVu Sans Mono',consolas,'Courier New',monospace\"><span style=\"color: #7fbfbf; text-decoration-color: #7fbfbf\">[03/13/23 16:30:25] </span><span style=\"color: #000080; text-decoration-color: #000080\">INFO    </span> Successfully saved PDB dataframe to <span style=\"color: #800080; text-decoration-color: #800080\">/tmp/tmpaktds_nx/</span><span style=\"color: #ff00ff; text-decoration-color: #ff00ff\">3eiy.pdb</span>             <a href=\"file:///content/graphein/graphein/protein/utils.py\" target=\"_blank\"><span style=\"color: #7f7f7f; text-decoration-color: #7f7f7f\">utils.py</span></a><span style=\"color: #7f7f7f; text-decoration-color: #7f7f7f\">:</span><a href=\"file:///content/graphein/graphein/protein/utils.py#416\" target=\"_blank\"><span style=\"color: #7f7f7f; text-decoration-color: #7f7f7f\">416</span></a>\n",
              "</pre>\n"
            ]
          },
          "metadata": {}
        }
      ]
    },
    {
      "cell_type": "code",
      "source": [
        "!pip install wget"
      ],
      "metadata": {
        "colab": {
          "base_uri": "https://localhost:8080/"
        },
        "id": "q7Nc09Dny93o",
        "outputId": "c2730243-1d93-4e15-af32-440aba000c15"
      },
      "execution_count": 8,
      "outputs": [
        {
          "output_type": "stream",
          "name": "stdout",
          "text": [
            "Looking in indexes: https://pypi.org/simple, https://us-python.pkg.dev/colab-wheels/public/simple/\n",
            "Requirement already satisfied: wget in /usr/local/lib/python3.9/dist-packages/wget-3.2-py3.9.egg (3.2)\n"
          ]
        }
      ]
    },
    {
      "cell_type": "code",
      "source": [
        "!sudo apt-get install --reinstall python3-wget"
      ],
      "metadata": {
        "colab": {
          "base_uri": "https://localhost:8080/"
        },
        "id": "GFTjpQ3_zBXF",
        "outputId": "249ef315-67b3-4e34-83a3-65850edfe860"
      },
      "execution_count": 10,
      "outputs": [
        {
          "output_type": "stream",
          "name": "stdout",
          "text": [
            "Reading package lists... Done\n",
            "Building dependency tree       \n",
            "Reading state information... Done\n",
            "The following NEW packages will be installed:\n",
            "  python3-wget\n",
            "0 upgraded, 1 newly installed, 0 to remove and 22 not upgraded.\n",
            "Need to get 11.7 kB of archives.\n",
            "After this operation, 45.1 kB of additional disk space will be used.\n",
            "Get:1 http://archive.ubuntu.com/ubuntu focal/universe amd64 python3-wget all 3.2-3 [11.7 kB]\n",
            "Fetched 11.7 kB in 0s (34.4 kB/s)\n",
            "debconf: unable to initialize frontend: Dialog\n",
            "debconf: (No usable dialog-like program is installed, so the dialog based frontend cannot be used. at /usr/share/perl5/Debconf/FrontEnd/Dialog.pm line 76, <> line 1.)\n",
            "debconf: falling back to frontend: Readline\n",
            "debconf: unable to initialize frontend: Readline\n",
            "debconf: (This frontend requires a controlling tty.)\n",
            "debconf: falling back to frontend: Teletype\n",
            "dpkg-preconfigure: unable to re-open stdin: \n",
            "Selecting previously unselected package python3-wget.\n",
            "(Reading database ... 128288 files and directories currently installed.)\n",
            "Preparing to unpack .../python3-wget_3.2-3_all.deb ...\n",
            "Unpacking python3-wget (3.2-3) ...\n",
            "Setting up python3-wget (3.2-3) ...\n"
          ]
        }
      ]
    },
    {
      "cell_type": "code",
      "source": [
        "!pip install biovec  "
      ],
      "metadata": {
        "colab": {
          "base_uri": "https://localhost:8080/"
        },
        "id": "-II5A71QzW1c",
        "outputId": "841ad4c9-09d7-4b62-ab2c-b71650053284"
      },
      "execution_count": 12,
      "outputs": [
        {
          "output_type": "stream",
          "name": "stdout",
          "text": [
            "Looking in indexes: https://pypi.org/simple, https://us-python.pkg.dev/colab-wheels/public/simple/\n",
            "Collecting biovec\n",
            "  Downloading biovec-0.2.7.tar.gz (5.9 kB)\n",
            "  Preparing metadata (setup.py) ... \u001b[?25l\u001b[?25hdone\n",
            "Collecting gensim==3.4.0\n",
            "  Downloading gensim-3.4.0.tar.gz (22.2 MB)\n",
            "\u001b[2K     \u001b[90m━━━━━━━━━━━━━━━━━━━━━━━━━━━━━━━━━━━━━━━━\u001b[0m \u001b[32m22.2/22.2 MB\u001b[0m \u001b[31m25.5 MB/s\u001b[0m eta \u001b[36m0:00:00\u001b[0m\n",
            "\u001b[?25h  Preparing metadata (setup.py) ... \u001b[?25l\u001b[?25hdone\n",
            "Requirement already satisfied: tqdm>=2.0.0 in /usr/local/lib/python3.9/dist-packages (from biovec) (4.65.0)\n",
            "Collecting pyfasta==0.5.2\n",
            "  Downloading pyfasta-0.5.2.tar.gz (19 kB)\n",
            "  Preparing metadata (setup.py) ... \u001b[?25l\u001b[?25hdone\n",
            "Requirement already satisfied: numpy>=1.11.3 in /usr/local/lib/python3.9/dist-packages (from gensim==3.4.0->biovec) (1.22.4)\n",
            "Requirement already satisfied: scipy>=0.18.1 in /usr/local/lib/python3.9/dist-packages (from gensim==3.4.0->biovec) (1.10.1)\n",
            "Requirement already satisfied: six>=1.5.0 in /usr/local/lib/python3.9/dist-packages (from gensim==3.4.0->biovec) (1.15.0)\n",
            "Requirement already satisfied: smart_open>=1.2.1 in /usr/local/lib/python3.9/dist-packages (from gensim==3.4.0->biovec) (6.3.0)\n",
            "Building wheels for collected packages: biovec, gensim, pyfasta\n",
            "  Building wheel for biovec (setup.py) ... \u001b[?25l\u001b[?25hdone\n",
            "  Created wheel for biovec: filename=biovec-0.2.7-py3-none-any.whl size=3464 sha256=296149796a93f0218fe64cadc88d2d08e2c5a1aa4bdffd864ec8a0344cfb27c9\n",
            "  Stored in directory: /root/.cache/pip/wheels/a1/53/c2/dae7fcfb57c5486952f7bc01d42bacd79425e22a269b1f44ca\n",
            "  Building wheel for gensim (setup.py) ... \u001b[?25l\u001b[?25hdone\n",
            "  Created wheel for gensim: filename=gensim-3.4.0-cp39-cp39-linux_x86_64.whl size=23074108 sha256=9ec784fb9eed1ae08efa9e3a5b2e1e48f904b564cdb0c7a0aaafc9bd53009b26\n",
            "  Stored in directory: /root/.cache/pip/wheels/67/c8/36/27bb84452fdf260de76cf8929ee7b2ae83b698c00a8da3ece1\n",
            "  Building wheel for pyfasta (setup.py) ... \u001b[?25l\u001b[?25hdone\n",
            "  Created wheel for pyfasta: filename=pyfasta-0.5.2-py3-none-any.whl size=14237 sha256=ff47437431de0e22e6c8792ebb09762e3229074b9ce50eaa0ad5928a8cd06e97\n",
            "  Stored in directory: /root/.cache/pip/wheels/16/21/6e/5847ef46546a72e1c81c09a2631411fc814e9acacb9b64c16e\n",
            "Successfully built biovec gensim pyfasta\n",
            "Installing collected packages: pyfasta, gensim, biovec\n",
            "  Attempting uninstall: gensim\n",
            "    Found existing installation: gensim 3.6.0\n",
            "    Uninstalling gensim-3.6.0:\n",
            "      Successfully uninstalled gensim-3.6.0\n",
            "Successfully installed biovec-0.2.7 gensim-3.4.0 pyfasta-0.5.2\n"
          ]
        }
      ]
    },
    {
      "cell_type": "code",
      "source": [
        "!pip install pytorch3d "
      ],
      "metadata": {
        "colab": {
          "base_uri": "https://localhost:8080/"
        },
        "id": "xZFwMC9jzi2b",
        "outputId": "385e3368-336f-408b-d677-96ab038d54de"
      },
      "execution_count": 13,
      "outputs": [
        {
          "output_type": "stream",
          "name": "stdout",
          "text": [
            "Looking in indexes: https://pypi.org/simple, https://us-python.pkg.dev/colab-wheels/public/simple/\n",
            "\u001b[31mERROR: Could not find a version that satisfies the requirement pytorch3d (from versions: none)\u001b[0m\u001b[31m\n",
            "\u001b[0m\u001b[31mERROR: No matching distribution found for pytorch3d\u001b[0m\u001b[31m\n",
            "\u001b[0m"
          ]
        }
      ]
    },
    {
      "cell_type": "code",
      "source": [
        "from graphein.protein.visualisation import plotly_protein_structure_graph\n",
        "\n",
        "plotly_protein_structure_graph(g, node_size_multiplier=1)"
      ],
      "metadata": {
        "colab": {
          "base_uri": "https://localhost:8080/",
          "height": 667
        },
        "id": "wFRHSmraztCB",
        "outputId": "96ab2062-361b-435f-d882-b9e59319d04d"
      },
      "execution_count": 15,
      "outputs": [
        {
          "output_type": "display_data",
          "data": {
            "text/html": [
              "<html>\n",
              "<head><meta charset=\"utf-8\" /></head>\n",
              "<body>\n",
              "    <div>            <script src=\"https://cdnjs.cloudflare.com/ajax/libs/mathjax/2.7.5/MathJax.js?config=TeX-AMS-MML_SVG\"></script><script type=\"text/javascript\">if (window.MathJax) {MathJax.Hub.Config({SVG: {font: \"STIX-Web\"}});}</script>                <script type=\"text/javascript\">window.PlotlyConfig = {MathJaxConfig: 'local'};</script>\n",
              "        <script src=\"https://cdn.plot.ly/plotly-2.8.3.min.js\"></script>                <div id=\"05e0f52b-30cd-4588-853c-fb8572020a97\" class=\"plotly-graph-div\" style=\"height:650px; width:620px;\"></div>            <script type=\"text/javascript\">                                    window.PLOTLYENV=window.PLOTLYENV || {};                                    if (document.getElementById(\"05e0f52b-30cd-4588-853c-fb8572020a97\")) {                    Plotly.newPlot(                        \"05e0f52b-30cd-4588-853c-fb8572020a97\",                        [{\"hoverinfo\":\"text+x+y+z\",\"marker\":{\"color\":[[0.227983,0.016007,0.604867,1.0],[0.798216,0.280197,0.469538,1.0],[0.362553,0.003243,0.649245,1.0],[0.362553,0.003243,0.649245,1.0],[0.710549,0.182868,0.550004,1.0],[0.362553,0.003243,0.649245,1.0],[0.710549,0.182868,0.550004,1.0],[0.362553,0.003243,0.649245,1.0],[0.362553,0.003243,0.649245,1.0],[0.362553,0.003243,0.649245,1.0],[0.798216,0.280197,0.469538,1.0],[0.494877,0.01199,0.657865,1.0],[0.362553,0.003243,0.649245,1.0],[0.362553,0.003243,0.649245,1.0],[0.993814,0.704741,0.183043,1.0],[0.362553,0.003243,0.649245,1.0],[0.973416,0.585761,0.25154,1.0],[0.869203,0.374212,0.396738,1.0],[0.869203,0.374212,0.396738,1.0],[0.362553,0.003243,0.649245,1.0],[0.710549,0.182868,0.550004,1.0],[0.710549,0.182868,0.550004,1.0],[0.610667,0.090204,0.619951,1.0],[0.362553,0.003243,0.649245,1.0],[0.362553,0.003243,0.649245,1.0],[0.362553,0.003243,0.649245,1.0],[0.494877,0.01199,0.657865,1.0],[0.710549,0.182868,0.550004,1.0],[0.362553,0.003243,0.649245,1.0],[0.798216,0.280197,0.469538,1.0],[0.362553,0.003243,0.649245,1.0],[0.710549,0.182868,0.550004,1.0],[0.362553,0.003243,0.649245,1.0],[0.362553,0.003243,0.649245,1.0],[0.362553,0.003243,0.649245,1.0],[0.610667,0.090204,0.619951,1.0],[0.362553,0.003243,0.649245,1.0],[0.494877,0.01199,0.657865,1.0],[0.798216,0.280197,0.469538,1.0],[0.494877,0.01199,0.657865,1.0],[0.710549,0.182868,0.550004,1.0],[0.362553,0.003243,0.649245,1.0],[0.362553,0.003243,0.649245,1.0],[0.610667,0.090204,0.619951,1.0],[0.869203,0.374212,0.396738,1.0],[0.362553,0.003243,0.649245,1.0],[0.362553,0.003243,0.649245,1.0],[0.362553,0.003243,0.649245,1.0],[0.710549,0.182868,0.550004,1.0],[0.362553,0.003243,0.649245,1.0],[0.973416,0.585761,0.25154,1.0],[0.710549,0.182868,0.550004,1.0],[0.869203,0.374212,0.396738,1.0],[0.362553,0.003243,0.649245,1.0],[0.798216,0.280197,0.469538,1.0],[0.362553,0.003243,0.649245,1.0],[0.869203,0.374212,0.396738,1.0],[0.973416,0.585761,0.25154,1.0],[0.710549,0.182868,0.550004,1.0],[0.362553,0.003243,0.649245,1.0],[0.362553,0.003243,0.649245,1.0],[0.494877,0.01199,0.657865,1.0],[0.362553,0.003243,0.649245,1.0],[0.362553,0.003243,0.649245,1.0],[0.362553,0.003243,0.649245,1.0],[0.362553,0.003243,0.649245,1.0],[0.362553,0.003243,0.649245,1.0],[0.494877,0.01199,0.657865,1.0],[0.798216,0.280197,0.469538,1.0],[0.362553,0.003243,0.649245,1.0],[0.973416,0.585761,0.25154,1.0],[0.928329,0.472975,0.326067,1.0],[0.973416,0.585761,0.25154,1.0],[0.973416,0.585761,0.25154,1.0],[0.362553,0.003243,0.649245,1.0],[0.494877,0.01199,0.657865,1.0],[0.362553,0.003243,0.649245,1.0],[0.610667,0.090204,0.619951,1.0],[0.710549,0.182868,0.550004,1.0],[0.362553,0.003243,0.649245,1.0],[0.610667,0.090204,0.619951,1.0],[0.362553,0.003243,0.649245,1.0],[0.362553,0.003243,0.649245,1.0],[0.610667,0.090204,0.619951,1.0],[0.973416,0.585761,0.25154,1.0],[0.362553,0.003243,0.649245,1.0],[0.798216,0.280197,0.469538,1.0],[0.362553,0.003243,0.649245,1.0],[0.798216,0.280197,0.469538,1.0],[0.928329,0.472975,0.326067,1.0],[0.362553,0.003243,0.649245,1.0],[0.798216,0.280197,0.469538,1.0],[0.869203,0.374212,0.396738,1.0],[0.362553,0.003243,0.649245,1.0],[0.798216,0.280197,0.469538,1.0],[0.362553,0.003243,0.649245,1.0],[0.362553,0.003243,0.649245,1.0],[0.362553,0.003243,0.649245,1.0],[0.362553,0.003243,0.649245,1.0],[0.362553,0.003243,0.649245,1.0],[0.362553,0.003243,0.649245,1.0],[0.362553,0.003243,0.649245,1.0],[0.494877,0.01199,0.657865,1.0],[0.362553,0.003243,0.649245,1.0],[0.928329,0.472975,0.326067,1.0],[0.928329,0.472975,0.326067,1.0],[0.798216,0.280197,0.469538,1.0],[0.710549,0.182868,0.550004,1.0],[0.710549,0.182868,0.550004,1.0],[0.362553,0.003243,0.649245,1.0],[0.362553,0.003243,0.649245,1.0],[0.362553,0.003243,0.649245,1.0],[0.610667,0.090204,0.619951,1.0],[0.362553,0.003243,0.649245,1.0],[0.362553,0.003243,0.649245,1.0],[0.494877,0.01199,0.657865,1.0],[0.362553,0.003243,0.649245,1.0],[0.362553,0.003243,0.649245,1.0],[0.362553,0.003243,0.649245,1.0],[0.798216,0.280197,0.469538,1.0],[0.362553,0.003243,0.649245,1.0],[0.362553,0.003243,0.649245,1.0],[0.798216,0.280197,0.469538,1.0],[0.362553,0.003243,0.649245,1.0],[0.362553,0.003243,0.649245,1.0],[0.869203,0.374212,0.396738,1.0],[0.710549,0.182868,0.550004,1.0],[0.362553,0.003243,0.649245,1.0],[0.494877,0.01199,0.657865,1.0],[0.928329,0.472975,0.326067,1.0],[0.362553,0.003243,0.649245,1.0],[0.362553,0.003243,0.649245,1.0],[0.362553,0.003243,0.649245,1.0],[0.973416,0.585761,0.25154,1.0],[0.362553,0.003243,0.649245,1.0],[0.362553,0.003243,0.649245,1.0],[0.869203,0.374212,0.396738,1.0],[0.984031,0.835315,0.142528,1.0],[0.362553,0.003243,0.649245,1.0],[0.362553,0.003243,0.649245,1.0],[0.928329,0.472975,0.326067,1.0],[0.362553,0.003243,0.649245,1.0],[0.362553,0.003243,0.649245,1.0],[0.362553,0.003243,0.649245,1.0],[0.362553,0.003243,0.649245,1.0],[0.362553,0.003243,0.649245,1.0],[0.362553,0.003243,0.649245,1.0],[0.362553,0.003243,0.649245,1.0],[0.362553,0.003243,0.649245,1.0],[0.798216,0.280197,0.469538,1.0],[0.362553,0.003243,0.649245,1.0],[0.798216,0.280197,0.469538,1.0],[0.362553,0.003243,0.649245,1.0],[0.362553,0.003243,0.649245,1.0],[0.798216,0.280197,0.469538,1.0],[0.362553,0.003243,0.649245,1.0],[0.362553,0.003243,0.649245,1.0],[0.494877,0.01199,0.657865,1.0],[0.362553,0.003243,0.649245,1.0],[0.494877,0.01199,0.657865,1.0],[0.710549,0.182868,0.550004,1.0],[0.362553,0.003243,0.649245,1.0],[0.362553,0.003243,0.649245,1.0],[0.362553,0.003243,0.649245,1.0],[0.993814,0.704741,0.183043,1.0],[0.362553,0.003243,0.649245,1.0],[0.362553,0.003243,0.649245,1.0],[0.362553,0.003243,0.649245,1.0],[0.710549,0.182868,0.550004,1.0],[0.362553,0.003243,0.649245,1.0],[0.362553,0.003243,0.649245,1.0],[0.494877,0.01199,0.657865,1.0],[0.362553,0.003243,0.649245,1.0],[0.227983,0.016007,0.604867,1.0]],\"opacity\":0.7,\"size\":[21.0,26.0,22.0,22.0,25.0,22.0,25.0,22.0,22.0,22.0,26.0,23.0,22.0,22.0,30.0,22.0,29.0,27.0,27.0,22.0,25.0,25.0,24.0,22.0,22.0,22.0,23.0,25.0,22.0,26.0,22.0,25.0,22.0,22.0,22.0,24.0,22.0,23.0,26.0,23.0,25.0,22.0,22.0,24.0,27.0,22.0,22.0,22.0,25.0,22.0,29.0,25.0,27.0,22.0,26.0,22.0,27.0,29.0,25.0,22.0,22.0,23.0,22.0,22.0,22.0,22.0,22.0,23.0,26.0,22.0,29.0,28.0,29.0,29.0,22.0,23.0,22.0,24.0,25.0,22.0,24.0,22.0,22.0,24.0,29.0,22.0,26.0,22.0,26.0,28.0,22.0,26.0,27.0,22.0,26.0,22.0,22.0,22.0,22.0,22.0,22.0,22.0,23.0,22.0,28.0,28.0,26.0,25.0,25.0,22.0,22.0,22.0,24.0,22.0,22.0,23.0,22.0,22.0,22.0,26.0,22.0,22.0,26.0,22.0,22.0,27.0,25.0,22.0,23.0,28.0,22.0,22.0,22.0,29.0,22.0,22.0,27.0,31.0,22.0,22.0,28.0,22.0,22.0,22.0,22.0,22.0,22.0,22.0,22.0,26.0,22.0,26.0,22.0,22.0,26.0,22.0,22.0,23.0,22.0,23.0,25.0,22.0,22.0,22.0,30.0,22.0,22.0,22.0,25.0,22.0,22.0,23.0,22.0,21.0],\"symbol\":\"circle\"},\"mode\":\"markers\",\"text\":[\"A:SER:2\",\"A:PHE:3\",\"A:SER:4\",\"A:ASN:5\",\"A:VAL:6\",\"A:PRO:7\",\"A:ALA:8\",\"A:GLY:9\",\"A:LYS:10\",\"A:ASP:11\",\"A:LEU:12\",\"A:PRO:13\",\"A:GLN:14\",\"A:ASP:15\",\"A:PHE:16\",\"A:ASN:17\",\"A:VAL:18\",\"A:ILE:19\",\"A:ILE:20\",\"A:GLU:21\",\"A:ILE:22\",\"A:PRO:23\",\"A:ALA:24\",\"A:GLN:25\",\"A:SER:26\",\"A:GLU:27\",\"A:PRO:28\",\"A:VAL:29\",\"A:LYS:30\",\"A:TYR:31\",\"A:GLU:32\",\"A:ALA:33\",\"A:ASP:34\",\"A:LYS:35\",\"A:ALA:36\",\"A:LEU:37\",\"A:GLY:38\",\"A:LEU:39\",\"A:LEU:40\",\"A:VAL:41\",\"A:VAL:42\",\"A:ASP:43\",\"A:ARG:44\",\"A:PHE:45\",\"A:ILE:46\",\"A:GLY:47\",\"A:THR:48\",\"A:GLY:49\",\"A:MET:50\",\"A:ARG:51\",\"A:TYR:52\",\"A:PRO:53\",\"A:VAL:54\",\"A:ASN:55\",\"A:TYR:56\",\"A:GLY:57\",\"A:PHE:58\",\"A:ILE:59\",\"A:PRO:60\",\"A:GLN:61\",\"A:THR:62\",\"A:LEU:63\",\"A:SER:64\",\"A:GLY:65\",\"A:ASP:66\",\"A:GLY:67\",\"A:ASP:68\",\"A:PRO:69\",\"A:VAL:70\",\"A:ASP:71\",\"A:VAL:72\",\"A:LEU:73\",\"A:VAL:74\",\"A:ILE:75\",\"A:THR:76\",\"A:PRO:77\",\"A:PHE:78\",\"A:PRO:79\",\"A:LEU:80\",\"A:LEU:81\",\"A:ALA:82\",\"A:GLY:83\",\"A:SER:84\",\"A:VAL:85\",\"A:VAL:86\",\"A:ARG:87\",\"A:ALA:88\",\"A:ARG:89\",\"A:ALA:90\",\"A:LEU:91\",\"A:GLY:92\",\"A:MET:93\",\"A:LEU:94\",\"A:LYS:95\",\"A:MET:96\",\"A:THR:97\",\"A:ASP:98\",\"A:GLU:99\",\"A:SER:100\",\"A:GLY:101\",\"A:VAL:102\",\"A:ASP:103\",\"A:ALA:104\",\"A:LYS:105\",\"A:LEU:106\",\"A:VAL:107\",\"A:ALA:108\",\"A:VAL:109\",\"A:PRO:110\",\"A:HIS:111\",\"A:ASP:112\",\"A:LYS:113\",\"A:VAL:114\",\"A:CYS:115\",\"A:PRO:116\",\"A:MET:117\",\"A:THR:118\",\"A:ALA:119\",\"A:ASN:120\",\"A:LEU:121\",\"A:LYS:122\",\"A:SER:123\",\"A:ILE:124\",\"A:ASP:125\",\"A:ASP:126\",\"A:VAL:127\",\"A:PRO:128\",\"A:ALA:129\",\"A:TYR:130\",\"A:LEU:131\",\"A:LYS:132\",\"A:ASP:133\",\"A:GLN:134\",\"A:ILE:135\",\"A:LYS:136\",\"A:HIS:137\",\"A:PHE:138\",\"A:PHE:139\",\"A:GLU:140\",\"A:GLN:141\",\"A:TYR:142\",\"A:LYS:143\",\"A:ALA:144\",\"A:LEU:145\",\"A:GLU:146\",\"A:LYS:147\",\"A:GLY:148\",\"A:LYS:149\",\"A:TRP:150\",\"A:VAL:151\",\"A:LYS:152\",\"A:VAL:153\",\"A:GLU:154\",\"A:GLY:155\",\"A:TRP:156\",\"A:ASP:157\",\"A:GLY:158\",\"A:ILE:159\",\"A:ASP:160\",\"A:ALA:161\",\"A:ALA:162\",\"A:HIS:163\",\"A:LYS:164\",\"A:GLU:165\",\"A:ILE:166\",\"A:THR:167\",\"A:ASP:168\",\"A:GLY:169\",\"A:VAL:170\",\"A:ALA:171\",\"A:ASN:172\",\"A:PHE:173\",\"A:LYS:174\",\"A:LYS:175\"],\"x\":[3.259,4.261,4.593,7.351,9.636,12.827,13.463,16.864,19.941,22.265,20.522,20.351,22.326,21.118,17.273,14.124,11.233,7.808,6.335,2.788,2.667,4.714,6.227,3.743,0.912,-2.696,-3.561,-4.811,-3.209,-2.729,-1.576,-0.345,-2.438,0.108,-2.707,-4.397,-1.176,-2.85,-2.802,-5.822,-7.232,-6.825,-8.19,-8.408,-6.049,-8.248,-5.932,-5.269,-1.499,0.901,3.925,7.017,9.007,8.127,6.622,6.543,7.723,10.3,8.675,9.159,9.631,7.455,7.886,6.892,3.284,2.739,3.176,6.253,9.151,8.153,10.48,10.673,12.752,14.131,14.385,14.763,11.36,8.431,8.376,5.481,3.095,3.454,7.003,10.136,13.346,16.701,17.679,20.154,19.509,20.296,18.676,15.233,12.506,11.368,7.77,4.894,1.321,-2.141,-1.091,2.222,5.851,6.375,9.799,10.147,13.374,14.716,16.439,17.739,18.094,21.269,23.979,23.786,19.998,20.191,23.601,21.88,21.572,25.069,26.394,23.756,25.692,23.593,20.56,22.858,23.341,19.6,18.809,17.41,14.362,13.44,14.038,11.757,9.018,8.997,8.711,5.9,4.054,3.966,3.095,0.098,-1.324,-3.656,-4.911,-8.442,-9.007,-10.597,-8.523,-5.309,-2.195,1.612,4.498,7.952,10.734,13.721,16.155,18.577,21.324,22.293,23.112,19.68,18.103,20.029,18.856,15.244,15.736,17.499,14.773,12.06,13.504,13.922,10.408,8.81,10.321,8.602],\"y\":[54.783,51.413,49.745,52.145,51.959,50.031,46.785,48.237,50.322,47.261,43.892,41.67,43.248,46.909,46.837,48.961,48.079,49.672,49.641,48.243,47.809,49.919,48.079,48.001,49.648,48.815,45.259,46.024,44.2,46.58,45.372,47.623,47.426,47.856,48.405,51.142,52.617,52.621,50.69,48.433,46.981,43.221,42.297,43.175,40.66,38.135,37.739,41.493,40.721,43.405,43.167,43.398,45.057,46.907,44.831,45.425,44.098,44.571,46.182,44.57,41.093,38.007,35.307,31.638,32.51,35.181,37.99,40.252,39.25,39.968,41.87,42.593,45.796,46.466,50.22,52.26,54.051,52.73,53.71,55.415,53.083,53.652,55.049,53.57,52.564,51.555,48.293,45.376,41.774,39.97,36.607,35.027,33.156,29.98,28.871,27.078,28.342,27.402,28.565,26.653,27.802,31.242,32.789,36.293,38.275,40.131,43.391,46.729,50.056,51.039,52.129,55.819,55.764,54.054,54.246,52.798,49.368,49.285,46.697,44.177,42.242,39.08,37.354,36.041,39.566,40.132,39.845,36.415,38.016,39.796,36.681,34.796,37.455,37.405,33.639,33.625,36.33,34.206,31.047,32.706,35.723,33.62,31.489,32.926,32.685,29.436,27.724,29.594,28.252,28.584,26.276,27.825,25.724,27.866,30.742,31.106,33.641,36.402,34.177,32.532,36.027,37.073,33.977,34.755,38.343,37.327,34.697,37.272,39.857,37.243,35.776,39.231,39.983,36.759],\"z\":[-0.368,1.102,-2.323,-3.48,-0.457,-1.447,0.378,1.344,0.477,0.452,0.629,2.533,5.367,5.116,4.816,5.479,7.822,7.712,11.228,11.677,15.505,18.016,21.006,23.972,21.988,22.968,21.771,18.207,15.259,12.294,8.868,6.073,2.914,0.134,-2.391,-0.298,1.131,4.595,7.873,8.262,11.515,11.14,14.561,18.265,19.811,21.701,24.683,25.078,24.822,23.476,21.179,23.428,20.582,17.367,14.583,10.82,7.462,4.683,1.622,-1.809,-0.365,-0.575,2.023,1.968,2.911,0.272,2.828,3.039,5.348,9.014,11.382,15.127,15.684,19.213,20.093,23.309,22.662,20.586,16.869,15.076,13.205,9.45,9.743,8.06,9.868,8.303,10.097,10.373,11.382,14.629,13.886,13.722,15.553,13.755,14.259,12.584,12.967,11.687,8.177,8.11,8.476,10.062,10.562,12.036,11.962,14.964,14.095,15.426,13.594,11.68,14.147,13.1,13.562,16.978,18.715,21.806,20.159,18.509,20.978,19.945,17.272,17.119,18.616,21.449,22.696,23.27,26.999,27.87,29.546,26.273,24.18,26.662,26.504,22.674,22.643,25.278,23.261,20.091,22.009,23.718,21.835,19.616,22.514,22.243,18.497,17.247,14.574,15.395,17.077,17.228,17.985,18.42,16.843,17.929,17.367,14.437,13.683,11.25,8.249,8.392,8.571,5.475,3.518,4.441,3.199,-0.131,-0.801,-0.081,-2.44,-5.237,-4.743,-4.915,-8.344,-9.396],\"type\":\"scatter3d\"},{\"hoverinfo\":\"text\",\"line\":{\"color\":[[0.050383,0.029803,0.527975,1.0],[0.050383,0.029803,0.527975,1.0],[0.050383,0.029803,0.527975,1.0],[0.798216,0.280197,0.469538,1.0],[0.798216,0.280197,0.469538,1.0],[0.798216,0.280197,0.469538,1.0],[0.494877,0.01199,0.657865,1.0],[0.494877,0.01199,0.657865,1.0],[0.494877,0.01199,0.657865,1.0],[0.494877,0.01199,0.657865,1.0],[0.494877,0.01199,0.657865,1.0],[0.494877,0.01199,0.657865,1.0],[0.494877,0.01199,0.657865,1.0],[0.494877,0.01199,0.657865,1.0],[0.494877,0.01199,0.657865,1.0],[0.050383,0.029803,0.527975,1.0],[0.050383,0.029803,0.527975,1.0],[0.050383,0.029803,0.527975,1.0],[0.050383,0.029803,0.527975,1.0],[0.050383,0.029803,0.527975,1.0],[0.050383,0.029803,0.527975,1.0],[0.050383,0.029803,0.527975,1.0],[0.050383,0.029803,0.527975,1.0],[0.050383,0.029803,0.527975,1.0],[0.050383,0.029803,0.527975,1.0],[0.050383,0.029803,0.527975,1.0],[0.050383,0.029803,0.527975,1.0],[0.494877,0.01199,0.657865,1.0],[0.494877,0.01199,0.657865,1.0],[0.494877,0.01199,0.657865,1.0],[0.494877,0.01199,0.657865,1.0],[0.494877,0.01199,0.657865,1.0],[0.494877,0.01199,0.657865,1.0],[0.494877,0.01199,0.657865,1.0],[0.494877,0.01199,0.657865,1.0],[0.494877,0.01199,0.657865,1.0],[0.050383,0.029803,0.527975,1.0],[0.050383,0.029803,0.527975,1.0],[0.050383,0.029803,0.527975,1.0],[0.494877,0.01199,0.657865,1.0],[0.494877,0.01199,0.657865,1.0],[0.494877,0.01199,0.657865,1.0],[0.494877,0.01199,0.657865,1.0],[0.494877,0.01199,0.657865,1.0],[0.494877,0.01199,0.657865,1.0],[0.494877,0.01199,0.657865,1.0],[0.494877,0.01199,0.657865,1.0],[0.494877,0.01199,0.657865,1.0],[0.050383,0.029803,0.527975,1.0],[0.050383,0.029803,0.527975,1.0],[0.050383,0.029803,0.527975,1.0],[0.050383,0.029803,0.527975,1.0],[0.050383,0.029803,0.527975,1.0],[0.050383,0.029803,0.527975,1.0],[0.050383,0.029803,0.527975,1.0],[0.050383,0.029803,0.527975,1.0],[0.050383,0.029803,0.527975,1.0],[0.050383,0.029803,0.527975,1.0],[0.050383,0.029803,0.527975,1.0],[0.050383,0.029803,0.527975,1.0],[0.494877,0.01199,0.657865,1.0],[0.494877,0.01199,0.657865,1.0],[0.494877,0.01199,0.657865,1.0],[0.494877,0.01199,0.657865,1.0],[0.494877,0.01199,0.657865,1.0],[0.494877,0.01199,0.657865,1.0],[0.494877,0.01199,0.657865,1.0],[0.494877,0.01199,0.657865,1.0],[0.494877,0.01199,0.657865,1.0],[0.050383,0.029803,0.527975,1.0],[0.050383,0.029803,0.527975,1.0],[0.050383,0.029803,0.527975,1.0],[0.494877,0.01199,0.657865,1.0],[0.494877,0.01199,0.657865,1.0],[0.494877,0.01199,0.657865,1.0],[0.050383,0.029803,0.527975,1.0],[0.050383,0.029803,0.527975,1.0],[0.050383,0.029803,0.527975,1.0],[0.050383,0.029803,0.527975,1.0],[0.050383,0.029803,0.527975,1.0],[0.050383,0.029803,0.527975,1.0],[0.050383,0.029803,0.527975,1.0],[0.050383,0.029803,0.527975,1.0],[0.050383,0.029803,0.527975,1.0],[0.494877,0.01199,0.657865,1.0],[0.494877,0.01199,0.657865,1.0],[0.494877,0.01199,0.657865,1.0],[0.494877,0.01199,0.657865,1.0],[0.494877,0.01199,0.657865,1.0],[0.494877,0.01199,0.657865,1.0],[0.494877,0.01199,0.657865,1.0],[0.494877,0.01199,0.657865,1.0],[0.494877,0.01199,0.657865,1.0],[0.494877,0.01199,0.657865,1.0],[0.494877,0.01199,0.657865,1.0],[0.494877,0.01199,0.657865,1.0],[0.494877,0.01199,0.657865,1.0],[0.494877,0.01199,0.657865,1.0],[0.494877,0.01199,0.657865,1.0],[0.494877,0.01199,0.657865,1.0],[0.494877,0.01199,0.657865,1.0],[0.494877,0.01199,0.657865,1.0],[0.494877,0.01199,0.657865,1.0],[0.494877,0.01199,0.657865,1.0],[0.494877,0.01199,0.657865,1.0],[0.050383,0.029803,0.527975,1.0],[0.050383,0.029803,0.527975,1.0],[0.050383,0.029803,0.527975,1.0],[0.050383,0.029803,0.527975,1.0],[0.050383,0.029803,0.527975,1.0],[0.050383,0.029803,0.527975,1.0],[0.494877,0.01199,0.657865,1.0],[0.494877,0.01199,0.657865,1.0],[0.494877,0.01199,0.657865,1.0],[0.494877,0.01199,0.657865,1.0],[0.494877,0.01199,0.657865,1.0],[0.494877,0.01199,0.657865,1.0],[0.494877,0.01199,0.657865,1.0],[0.494877,0.01199,0.657865,1.0],[0.494877,0.01199,0.657865,1.0],[0.494877,0.01199,0.657865,1.0],[0.494877,0.01199,0.657865,1.0],[0.494877,0.01199,0.657865,1.0],[0.494877,0.01199,0.657865,1.0],[0.494877,0.01199,0.657865,1.0],[0.494877,0.01199,0.657865,1.0],[0.494877,0.01199,0.657865,1.0],[0.494877,0.01199,0.657865,1.0],[0.494877,0.01199,0.657865,1.0],[0.050383,0.029803,0.527975,1.0],[0.050383,0.029803,0.527975,1.0],[0.050383,0.029803,0.527975,1.0],[0.494877,0.01199,0.657865,1.0],[0.494877,0.01199,0.657865,1.0],[0.494877,0.01199,0.657865,1.0],[0.494877,0.01199,0.657865,1.0],[0.494877,0.01199,0.657865,1.0],[0.494877,0.01199,0.657865,1.0],[0.494877,0.01199,0.657865,1.0],[0.494877,0.01199,0.657865,1.0],[0.494877,0.01199,0.657865,1.0],[0.050383,0.029803,0.527975,1.0],[0.050383,0.029803,0.527975,1.0],[0.050383,0.029803,0.527975,1.0],[0.494877,0.01199,0.657865,1.0],[0.494877,0.01199,0.657865,1.0],[0.494877,0.01199,0.657865,1.0],[0.494877,0.01199,0.657865,1.0],[0.494877,0.01199,0.657865,1.0],[0.494877,0.01199,0.657865,1.0],[0.494877,0.01199,0.657865,1.0],[0.494877,0.01199,0.657865,1.0],[0.494877,0.01199,0.657865,1.0],[0.494877,0.01199,0.657865,1.0],[0.494877,0.01199,0.657865,1.0],[0.494877,0.01199,0.657865,1.0],[0.050383,0.029803,0.527975,1.0],[0.050383,0.029803,0.527975,1.0],[0.050383,0.029803,0.527975,1.0],[0.050383,0.029803,0.527975,1.0],[0.050383,0.029803,0.527975,1.0],[0.050383,0.029803,0.527975,1.0],[0.494877,0.01199,0.657865,1.0],[0.494877,0.01199,0.657865,1.0],[0.494877,0.01199,0.657865,1.0],[0.494877,0.01199,0.657865,1.0],[0.494877,0.01199,0.657865,1.0],[0.494877,0.01199,0.657865,1.0],[0.494877,0.01199,0.657865,1.0],[0.494877,0.01199,0.657865,1.0],[0.494877,0.01199,0.657865,1.0],[0.050383,0.029803,0.527975,1.0],[0.050383,0.029803,0.527975,1.0],[0.050383,0.029803,0.527975,1.0],[0.494877,0.01199,0.657865,1.0],[0.494877,0.01199,0.657865,1.0],[0.494877,0.01199,0.657865,1.0],[0.494877,0.01199,0.657865,1.0],[0.494877,0.01199,0.657865,1.0],[0.494877,0.01199,0.657865,1.0],[0.050383,0.029803,0.527975,1.0],[0.050383,0.029803,0.527975,1.0],[0.050383,0.029803,0.527975,1.0],[0.494877,0.01199,0.657865,1.0],[0.494877,0.01199,0.657865,1.0],[0.494877,0.01199,0.657865,1.0],[0.494877,0.01199,0.657865,1.0],[0.494877,0.01199,0.657865,1.0],[0.494877,0.01199,0.657865,1.0],[0.050383,0.029803,0.527975,1.0],[0.050383,0.029803,0.527975,1.0],[0.050383,0.029803,0.527975,1.0],[0.050383,0.029803,0.527975,1.0],[0.050383,0.029803,0.527975,1.0],[0.050383,0.029803,0.527975,1.0],[0.050383,0.029803,0.527975,1.0],[0.050383,0.029803,0.527975,1.0],[0.050383,0.029803,0.527975,1.0],[0.050383,0.029803,0.527975,1.0],[0.050383,0.029803,0.527975,1.0],[0.050383,0.029803,0.527975,1.0],[0.494877,0.01199,0.657865,1.0],[0.494877,0.01199,0.657865,1.0],[0.494877,0.01199,0.657865,1.0],[0.050383,0.029803,0.527975,1.0],[0.050383,0.029803,0.527975,1.0],[0.050383,0.029803,0.527975,1.0],[0.494877,0.01199,0.657865,1.0],[0.494877,0.01199,0.657865,1.0],[0.494877,0.01199,0.657865,1.0],[0.494877,0.01199,0.657865,1.0],[0.494877,0.01199,0.657865,1.0],[0.494877,0.01199,0.657865,1.0],[0.494877,0.01199,0.657865,1.0],[0.494877,0.01199,0.657865,1.0],[0.494877,0.01199,0.657865,1.0],[0.050383,0.029803,0.527975,1.0],[0.050383,0.029803,0.527975,1.0],[0.050383,0.029803,0.527975,1.0],[0.050383,0.029803,0.527975,1.0],[0.050383,0.029803,0.527975,1.0],[0.050383,0.029803,0.527975,1.0],[0.494877,0.01199,0.657865,1.0],[0.494877,0.01199,0.657865,1.0],[0.494877,0.01199,0.657865,1.0],[0.494877,0.01199,0.657865,1.0],[0.494877,0.01199,0.657865,1.0],[0.494877,0.01199,0.657865,1.0],[0.050383,0.029803,0.527975,1.0],[0.050383,0.029803,0.527975,1.0],[0.050383,0.029803,0.527975,1.0],[0.050383,0.029803,0.527975,1.0],[0.050383,0.029803,0.527975,1.0],[0.050383,0.029803,0.527975,1.0],[0.494877,0.01199,0.657865,1.0],[0.494877,0.01199,0.657865,1.0],[0.494877,0.01199,0.657865,1.0],[0.494877,0.01199,0.657865,1.0],[0.494877,0.01199,0.657865,1.0],[0.494877,0.01199,0.657865,1.0],[0.050383,0.029803,0.527975,1.0],[0.050383,0.029803,0.527975,1.0],[0.050383,0.029803,0.527975,1.0],[0.050383,0.029803,0.527975,1.0],[0.050383,0.029803,0.527975,1.0],[0.050383,0.029803,0.527975,1.0],[0.050383,0.029803,0.527975,1.0],[0.050383,0.029803,0.527975,1.0],[0.050383,0.029803,0.527975,1.0],[0.050383,0.029803,0.527975,1.0],[0.050383,0.029803,0.527975,1.0],[0.050383,0.029803,0.527975,1.0],[0.494877,0.01199,0.657865,1.0],[0.494877,0.01199,0.657865,1.0],[0.494877,0.01199,0.657865,1.0],[0.494877,0.01199,0.657865,1.0],[0.494877,0.01199,0.657865,1.0],[0.494877,0.01199,0.657865,1.0],[0.050383,0.029803,0.527975,1.0],[0.050383,0.029803,0.527975,1.0],[0.050383,0.029803,0.527975,1.0],[0.050383,0.029803,0.527975,1.0],[0.050383,0.029803,0.527975,1.0],[0.050383,0.029803,0.527975,1.0],[0.050383,0.029803,0.527975,1.0],[0.050383,0.029803,0.527975,1.0],[0.050383,0.029803,0.527975,1.0],[0.494877,0.01199,0.657865,1.0],[0.494877,0.01199,0.657865,1.0],[0.494877,0.01199,0.657865,1.0],[0.050383,0.029803,0.527975,1.0],[0.050383,0.029803,0.527975,1.0],[0.050383,0.029803,0.527975,1.0],[0.050383,0.029803,0.527975,1.0],[0.050383,0.029803,0.527975,1.0],[0.050383,0.029803,0.527975,1.0],[0.494877,0.01199,0.657865,1.0],[0.494877,0.01199,0.657865,1.0],[0.494877,0.01199,0.657865,1.0],[0.050383,0.029803,0.527975,1.0],[0.050383,0.029803,0.527975,1.0],[0.050383,0.029803,0.527975,1.0],[0.050383,0.029803,0.527975,1.0],[0.050383,0.029803,0.527975,1.0],[0.050383,0.029803,0.527975,1.0],[0.050383,0.029803,0.527975,1.0],[0.050383,0.029803,0.527975,1.0],[0.050383,0.029803,0.527975,1.0],[0.050383,0.029803,0.527975,1.0],[0.050383,0.029803,0.527975,1.0],[0.050383,0.029803,0.527975,1.0],[0.494877,0.01199,0.657865,1.0],[0.494877,0.01199,0.657865,1.0],[0.494877,0.01199,0.657865,1.0],[0.494877,0.01199,0.657865,1.0],[0.494877,0.01199,0.657865,1.0],[0.494877,0.01199,0.657865,1.0],[0.494877,0.01199,0.657865,1.0],[0.494877,0.01199,0.657865,1.0],[0.494877,0.01199,0.657865,1.0],[0.494877,0.01199,0.657865,1.0],[0.494877,0.01199,0.657865,1.0],[0.494877,0.01199,0.657865,1.0],[0.050383,0.029803,0.527975,1.0],[0.050383,0.029803,0.527975,1.0],[0.050383,0.029803,0.527975,1.0],[0.050383,0.029803,0.527975,1.0],[0.050383,0.029803,0.527975,1.0],[0.050383,0.029803,0.527975,1.0],[0.050383,0.029803,0.527975,1.0],[0.050383,0.029803,0.527975,1.0],[0.050383,0.029803,0.527975,1.0],[0.050383,0.029803,0.527975,1.0],[0.050383,0.029803,0.527975,1.0],[0.050383,0.029803,0.527975,1.0],[0.494877,0.01199,0.657865,1.0],[0.494877,0.01199,0.657865,1.0],[0.494877,0.01199,0.657865,1.0],[0.494877,0.01199,0.657865,1.0],[0.494877,0.01199,0.657865,1.0],[0.494877,0.01199,0.657865,1.0],[0.050383,0.029803,0.527975,1.0],[0.050383,0.029803,0.527975,1.0],[0.050383,0.029803,0.527975,1.0],[0.050383,0.029803,0.527975,1.0],[0.050383,0.029803,0.527975,1.0],[0.050383,0.029803,0.527975,1.0],[0.494877,0.01199,0.657865,1.0],[0.494877,0.01199,0.657865,1.0],[0.494877,0.01199,0.657865,1.0],[0.494877,0.01199,0.657865,1.0],[0.494877,0.01199,0.657865,1.0],[0.494877,0.01199,0.657865,1.0],[0.798216,0.280197,0.469538,1.0],[0.798216,0.280197,0.469538,1.0],[0.798216,0.280197,0.469538,1.0],[0.798216,0.280197,0.469538,1.0],[0.798216,0.280197,0.469538,1.0],[0.798216,0.280197,0.469538,1.0],[0.050383,0.029803,0.527975,1.0],[0.050383,0.029803,0.527975,1.0],[0.050383,0.029803,0.527975,1.0],[0.798216,0.280197,0.469538,1.0],[0.798216,0.280197,0.469538,1.0],[0.798216,0.280197,0.469538,1.0],[0.494877,0.01199,0.657865,1.0],[0.494877,0.01199,0.657865,1.0],[0.494877,0.01199,0.657865,1.0],[0.494877,0.01199,0.657865,1.0],[0.494877,0.01199,0.657865,1.0],[0.494877,0.01199,0.657865,1.0],[0.050383,0.029803,0.527975,1.0],[0.050383,0.029803,0.527975,1.0],[0.050383,0.029803,0.527975,1.0],[0.494877,0.01199,0.657865,1.0],[0.494877,0.01199,0.657865,1.0],[0.494877,0.01199,0.657865,1.0],[0.494877,0.01199,0.657865,1.0],[0.494877,0.01199,0.657865,1.0],[0.494877,0.01199,0.657865,1.0],[0.494877,0.01199,0.657865,1.0],[0.494877,0.01199,0.657865,1.0],[0.494877,0.01199,0.657865,1.0],[0.494877,0.01199,0.657865,1.0],[0.494877,0.01199,0.657865,1.0],[0.494877,0.01199,0.657865,1.0],[0.494877,0.01199,0.657865,1.0],[0.494877,0.01199,0.657865,1.0],[0.494877,0.01199,0.657865,1.0],[0.050383,0.029803,0.527975,1.0],[0.050383,0.029803,0.527975,1.0],[0.050383,0.029803,0.527975,1.0],[0.050383,0.029803,0.527975,1.0],[0.050383,0.029803,0.527975,1.0],[0.050383,0.029803,0.527975,1.0],[0.494877,0.01199,0.657865,1.0],[0.494877,0.01199,0.657865,1.0],[0.494877,0.01199,0.657865,1.0],[0.798216,0.280197,0.469538,1.0],[0.798216,0.280197,0.469538,1.0],[0.798216,0.280197,0.469538,1.0],[0.050383,0.029803,0.527975,1.0],[0.050383,0.029803,0.527975,1.0],[0.050383,0.029803,0.527975,1.0],[0.050383,0.029803,0.527975,1.0],[0.050383,0.029803,0.527975,1.0],[0.050383,0.029803,0.527975,1.0],[0.494877,0.01199,0.657865,1.0],[0.494877,0.01199,0.657865,1.0],[0.494877,0.01199,0.657865,1.0],[0.494877,0.01199,0.657865,1.0],[0.494877,0.01199,0.657865,1.0],[0.494877,0.01199,0.657865,1.0],[0.050383,0.029803,0.527975,1.0],[0.050383,0.029803,0.527975,1.0],[0.050383,0.029803,0.527975,1.0],[0.050383,0.029803,0.527975,1.0],[0.050383,0.029803,0.527975,1.0],[0.050383,0.029803,0.527975,1.0],[0.494877,0.01199,0.657865,1.0],[0.494877,0.01199,0.657865,1.0],[0.494877,0.01199,0.657865,1.0],[0.494877,0.01199,0.657865,1.0],[0.494877,0.01199,0.657865,1.0],[0.494877,0.01199,0.657865,1.0],[0.494877,0.01199,0.657865,1.0],[0.494877,0.01199,0.657865,1.0],[0.494877,0.01199,0.657865,1.0],[0.494877,0.01199,0.657865,1.0],[0.494877,0.01199,0.657865,1.0],[0.494877,0.01199,0.657865,1.0],[0.050383,0.029803,0.527975,1.0],[0.050383,0.029803,0.527975,1.0],[0.050383,0.029803,0.527975,1.0],[0.050383,0.029803,0.527975,1.0],[0.050383,0.029803,0.527975,1.0],[0.050383,0.029803,0.527975,1.0],[0.050383,0.029803,0.527975,1.0],[0.050383,0.029803,0.527975,1.0],[0.050383,0.029803,0.527975,1.0],[0.494877,0.01199,0.657865,1.0],[0.494877,0.01199,0.657865,1.0],[0.494877,0.01199,0.657865,1.0],[0.050383,0.029803,0.527975,1.0],[0.050383,0.029803,0.527975,1.0],[0.050383,0.029803,0.527975,1.0],[0.050383,0.029803,0.527975,1.0],[0.050383,0.029803,0.527975,1.0],[0.050383,0.029803,0.527975,1.0],[0.050383,0.029803,0.527975,1.0],[0.050383,0.029803,0.527975,1.0],[0.050383,0.029803,0.527975,1.0],[0.050383,0.029803,0.527975,1.0],[0.050383,0.029803,0.527975,1.0],[0.050383,0.029803,0.527975,1.0],[0.050383,0.029803,0.527975,1.0],[0.050383,0.029803,0.527975,1.0],[0.050383,0.029803,0.527975,1.0],[0.050383,0.029803,0.527975,1.0],[0.050383,0.029803,0.527975,1.0],[0.050383,0.029803,0.527975,1.0],[0.050383,0.029803,0.527975,1.0],[0.050383,0.029803,0.527975,1.0],[0.050383,0.029803,0.527975,1.0],[0.494877,0.01199,0.657865,1.0],[0.494877,0.01199,0.657865,1.0],[0.494877,0.01199,0.657865,1.0],[0.494877,0.01199,0.657865,1.0],[0.494877,0.01199,0.657865,1.0],[0.494877,0.01199,0.657865,1.0],[0.494877,0.01199,0.657865,1.0],[0.494877,0.01199,0.657865,1.0],[0.494877,0.01199,0.657865,1.0],[0.050383,0.029803,0.527975,1.0],[0.050383,0.029803,0.527975,1.0],[0.050383,0.029803,0.527975,1.0],[0.050383,0.029803,0.527975,1.0],[0.050383,0.029803,0.527975,1.0],[0.050383,0.029803,0.527975,1.0],[0.494877,0.01199,0.657865,1.0],[0.494877,0.01199,0.657865,1.0],[0.494877,0.01199,0.657865,1.0],[0.494877,0.01199,0.657865,1.0],[0.494877,0.01199,0.657865,1.0],[0.494877,0.01199,0.657865,1.0],[0.494877,0.01199,0.657865,1.0],[0.494877,0.01199,0.657865,1.0],[0.494877,0.01199,0.657865,1.0],[0.050383,0.029803,0.527975,1.0],[0.050383,0.029803,0.527975,1.0],[0.050383,0.029803,0.527975,1.0],[0.494877,0.01199,0.657865,1.0],[0.494877,0.01199,0.657865,1.0],[0.494877,0.01199,0.657865,1.0],[0.494877,0.01199,0.657865,1.0],[0.494877,0.01199,0.657865,1.0],[0.494877,0.01199,0.657865,1.0],[0.494877,0.01199,0.657865,1.0],[0.494877,0.01199,0.657865,1.0],[0.494877,0.01199,0.657865,1.0],[0.050383,0.029803,0.527975,1.0],[0.050383,0.029803,0.527975,1.0],[0.050383,0.029803,0.527975,1.0],[0.494877,0.01199,0.657865,1.0],[0.494877,0.01199,0.657865,1.0],[0.494877,0.01199,0.657865,1.0],[0.494877,0.01199,0.657865,1.0],[0.494877,0.01199,0.657865,1.0],[0.494877,0.01199,0.657865,1.0],[0.494877,0.01199,0.657865,1.0],[0.494877,0.01199,0.657865,1.0],[0.494877,0.01199,0.657865,1.0],[0.494877,0.01199,0.657865,1.0],[0.494877,0.01199,0.657865,1.0],[0.494877,0.01199,0.657865,1.0],[0.050383,0.029803,0.527975,1.0],[0.050383,0.029803,0.527975,1.0],[0.050383,0.029803,0.527975,1.0],[0.494877,0.01199,0.657865,1.0],[0.494877,0.01199,0.657865,1.0],[0.494877,0.01199,0.657865,1.0],[0.494877,0.01199,0.657865,1.0],[0.494877,0.01199,0.657865,1.0],[0.494877,0.01199,0.657865,1.0],[0.494877,0.01199,0.657865,1.0],[0.494877,0.01199,0.657865,1.0],[0.494877,0.01199,0.657865,1.0],[0.494877,0.01199,0.657865,1.0],[0.494877,0.01199,0.657865,1.0],[0.494877,0.01199,0.657865,1.0],[0.494877,0.01199,0.657865,1.0],[0.494877,0.01199,0.657865,1.0],[0.494877,0.01199,0.657865,1.0],[0.494877,0.01199,0.657865,1.0],[0.494877,0.01199,0.657865,1.0],[0.494877,0.01199,0.657865,1.0],[0.050383,0.029803,0.527975,1.0],[0.050383,0.029803,0.527975,1.0],[0.050383,0.029803,0.527975,1.0],[0.050383,0.029803,0.527975,1.0],[0.050383,0.029803,0.527975,1.0],[0.050383,0.029803,0.527975,1.0],[0.494877,0.01199,0.657865,1.0],[0.494877,0.01199,0.657865,1.0],[0.494877,0.01199,0.657865,1.0],[0.050383,0.029803,0.527975,1.0],[0.050383,0.029803,0.527975,1.0],[0.050383,0.029803,0.527975,1.0],[0.050383,0.029803,0.527975,1.0],[0.050383,0.029803,0.527975,1.0],[0.050383,0.029803,0.527975,1.0],[0.050383,0.029803,0.527975,1.0],[0.050383,0.029803,0.527975,1.0],[0.050383,0.029803,0.527975,1.0],[0.494877,0.01199,0.657865,1.0],[0.494877,0.01199,0.657865,1.0],[0.494877,0.01199,0.657865,1.0],[0.050383,0.029803,0.527975,1.0],[0.050383,0.029803,0.527975,1.0],[0.050383,0.029803,0.527975,1.0],[0.050383,0.029803,0.527975,1.0],[0.050383,0.029803,0.527975,1.0],[0.050383,0.029803,0.527975,1.0],[0.050383,0.029803,0.527975,1.0],[0.050383,0.029803,0.527975,1.0],[0.050383,0.029803,0.527975,1.0],[0.050383,0.029803,0.527975,1.0],[0.050383,0.029803,0.527975,1.0],[0.050383,0.029803,0.527975,1.0],[0.050383,0.029803,0.527975,1.0],[0.050383,0.029803,0.527975,1.0],[0.050383,0.029803,0.527975,1.0],[0.050383,0.029803,0.527975,1.0],[0.050383,0.029803,0.527975,1.0],[0.050383,0.029803,0.527975,1.0],[0.494877,0.01199,0.657865,1.0],[0.494877,0.01199,0.657865,1.0],[0.494877,0.01199,0.657865,1.0],[0.494877,0.01199,0.657865,1.0],[0.494877,0.01199,0.657865,1.0],[0.494877,0.01199,0.657865,1.0],[0.494877,0.01199,0.657865,1.0],[0.494877,0.01199,0.657865,1.0],[0.494877,0.01199,0.657865,1.0],[0.050383,0.029803,0.527975,1.0],[0.050383,0.029803,0.527975,1.0],[0.050383,0.029803,0.527975,1.0],[0.050383,0.029803,0.527975,1.0],[0.050383,0.029803,0.527975,1.0],[0.050383,0.029803,0.527975,1.0],[0.494877,0.01199,0.657865,1.0],[0.494877,0.01199,0.657865,1.0],[0.494877,0.01199,0.657865,1.0],[0.050383,0.029803,0.527975,1.0],[0.050383,0.029803,0.527975,1.0],[0.050383,0.029803,0.527975,1.0],[0.050383,0.029803,0.527975,1.0],[0.050383,0.029803,0.527975,1.0],[0.050383,0.029803,0.527975,1.0],[0.494877,0.01199,0.657865,1.0],[0.494877,0.01199,0.657865,1.0],[0.494877,0.01199,0.657865,1.0],[0.494877,0.01199,0.657865,1.0],[0.494877,0.01199,0.657865,1.0],[0.494877,0.01199,0.657865,1.0],[0.494877,0.01199,0.657865,1.0],[0.494877,0.01199,0.657865,1.0],[0.494877,0.01199,0.657865,1.0],[0.050383,0.029803,0.527975,1.0],[0.050383,0.029803,0.527975,1.0],[0.050383,0.029803,0.527975,1.0],[0.494877,0.01199,0.657865,1.0],[0.494877,0.01199,0.657865,1.0],[0.494877,0.01199,0.657865,1.0],[0.494877,0.01199,0.657865,1.0],[0.494877,0.01199,0.657865,1.0],[0.494877,0.01199,0.657865,1.0],[0.494877,0.01199,0.657865,1.0],[0.494877,0.01199,0.657865,1.0],[0.494877,0.01199,0.657865,1.0],[0.494877,0.01199,0.657865,1.0],[0.494877,0.01199,0.657865,1.0],[0.494877,0.01199,0.657865,1.0],[0.494877,0.01199,0.657865,1.0],[0.494877,0.01199,0.657865,1.0],[0.494877,0.01199,0.657865,1.0],[0.050383,0.029803,0.527975,1.0],[0.050383,0.029803,0.527975,1.0],[0.050383,0.029803,0.527975,1.0],[0.050383,0.029803,0.527975,1.0],[0.050383,0.029803,0.527975,1.0],[0.050383,0.029803,0.527975,1.0],[0.494877,0.01199,0.657865,1.0],[0.494877,0.01199,0.657865,1.0],[0.494877,0.01199,0.657865,1.0],[0.494877,0.01199,0.657865,1.0],[0.494877,0.01199,0.657865,1.0],[0.494877,0.01199,0.657865,1.0],[0.494877,0.01199,0.657865,1.0],[0.494877,0.01199,0.657865,1.0],[0.494877,0.01199,0.657865,1.0],[0.494877,0.01199,0.657865,1.0],[0.494877,0.01199,0.657865,1.0],[0.494877,0.01199,0.657865,1.0],[0.050383,0.029803,0.527975,1.0],[0.050383,0.029803,0.527975,1.0],[0.050383,0.029803,0.527975,1.0],[0.494877,0.01199,0.657865,1.0],[0.494877,0.01199,0.657865,1.0],[0.494877,0.01199,0.657865,1.0],[0.494877,0.01199,0.657865,1.0],[0.494877,0.01199,0.657865,1.0],[0.494877,0.01199,0.657865,1.0],[0.494877,0.01199,0.657865,1.0],[0.494877,0.01199,0.657865,1.0],[0.494877,0.01199,0.657865,1.0],[0.494877,0.01199,0.657865,1.0],[0.494877,0.01199,0.657865,1.0],[0.494877,0.01199,0.657865,1.0],[0.494877,0.01199,0.657865,1.0],[0.494877,0.01199,0.657865,1.0],[0.494877,0.01199,0.657865,1.0],[0.050383,0.029803,0.527975,1.0],[0.050383,0.029803,0.527975,1.0],[0.050383,0.029803,0.527975,1.0],[0.050383,0.029803,0.527975,1.0],[0.050383,0.029803,0.527975,1.0],[0.050383,0.029803,0.527975,1.0],[0.494877,0.01199,0.657865,1.0],[0.494877,0.01199,0.657865,1.0],[0.494877,0.01199,0.657865,1.0],[0.494877,0.01199,0.657865,1.0],[0.494877,0.01199,0.657865,1.0],[0.494877,0.01199,0.657865,1.0],[0.494877,0.01199,0.657865,1.0],[0.494877,0.01199,0.657865,1.0],[0.494877,0.01199,0.657865,1.0],[0.050383,0.029803,0.527975,1.0],[0.050383,0.029803,0.527975,1.0],[0.050383,0.029803,0.527975,1.0],[0.050383,0.029803,0.527975,1.0],[0.050383,0.029803,0.527975,1.0],[0.050383,0.029803,0.527975,1.0],[0.050383,0.029803,0.527975,1.0],[0.050383,0.029803,0.527975,1.0],[0.050383,0.029803,0.527975,1.0],[0.050383,0.029803,0.527975,1.0],[0.050383,0.029803,0.527975,1.0],[0.050383,0.029803,0.527975,1.0],[0.050383,0.029803,0.527975,1.0],[0.050383,0.029803,0.527975,1.0],[0.050383,0.029803,0.527975,1.0],[0.050383,0.029803,0.527975,1.0],[0.050383,0.029803,0.527975,1.0],[0.050383,0.029803,0.527975,1.0],[0.050383,0.029803,0.527975,1.0],[0.050383,0.029803,0.527975,1.0],[0.050383,0.029803,0.527975,1.0],[0.050383,0.029803,0.527975,1.0],[0.050383,0.029803,0.527975,1.0],[0.050383,0.029803,0.527975,1.0],[0.050383,0.029803,0.527975,1.0],[0.050383,0.029803,0.527975,1.0],[0.050383,0.029803,0.527975,1.0],[0.050383,0.029803,0.527975,1.0],[0.050383,0.029803,0.527975,1.0],[0.050383,0.029803,0.527975,1.0],[0.494877,0.01199,0.657865,1.0],[0.494877,0.01199,0.657865,1.0],[0.494877,0.01199,0.657865,1.0],[0.494877,0.01199,0.657865,1.0],[0.494877,0.01199,0.657865,1.0],[0.494877,0.01199,0.657865,1.0],[0.050383,0.029803,0.527975,1.0],[0.050383,0.029803,0.527975,1.0],[0.050383,0.029803,0.527975,1.0],[0.494877,0.01199,0.657865,1.0],[0.494877,0.01199,0.657865,1.0],[0.494877,0.01199,0.657865,1.0],[0.494877,0.01199,0.657865,1.0],[0.494877,0.01199,0.657865,1.0],[0.494877,0.01199,0.657865,1.0],[0.494877,0.01199,0.657865,1.0],[0.494877,0.01199,0.657865,1.0],[0.494877,0.01199,0.657865,1.0],[0.050383,0.029803,0.527975,1.0],[0.050383,0.029803,0.527975,1.0],[0.050383,0.029803,0.527975,1.0],[0.050383,0.029803,0.527975,1.0],[0.050383,0.029803,0.527975,1.0],[0.050383,0.029803,0.527975,1.0],[0.494877,0.01199,0.657865,1.0],[0.494877,0.01199,0.657865,1.0],[0.494877,0.01199,0.657865,1.0],[0.050383,0.029803,0.527975,1.0],[0.050383,0.029803,0.527975,1.0],[0.050383,0.029803,0.527975,1.0],[0.494877,0.01199,0.657865,1.0],[0.494877,0.01199,0.657865,1.0],[0.494877,0.01199,0.657865,1.0],[0.050383,0.029803,0.527975,1.0],[0.050383,0.029803,0.527975,1.0],[0.050383,0.029803,0.527975,1.0],[0.050383,0.029803,0.527975,1.0],[0.050383,0.029803,0.527975,1.0],[0.050383,0.029803,0.527975,1.0],[0.050383,0.029803,0.527975,1.0],[0.050383,0.029803,0.527975,1.0],[0.050383,0.029803,0.527975,1.0],[0.050383,0.029803,0.527975,1.0],[0.050383,0.029803,0.527975,1.0],[0.050383,0.029803,0.527975,1.0],[0.050383,0.029803,0.527975,1.0],[0.050383,0.029803,0.527975,1.0],[0.050383,0.029803,0.527975,1.0],[0.050383,0.029803,0.527975,1.0],[0.050383,0.029803,0.527975,1.0],[0.050383,0.029803,0.527975,1.0],[0.050383,0.029803,0.527975,1.0],[0.050383,0.029803,0.527975,1.0],[0.050383,0.029803,0.527975,1.0],[0.050383,0.029803,0.527975,1.0],[0.050383,0.029803,0.527975,1.0],[0.050383,0.029803,0.527975,1.0],[0.050383,0.029803,0.527975,1.0],[0.050383,0.029803,0.527975,1.0],[0.050383,0.029803,0.527975,1.0],[0.050383,0.029803,0.527975,1.0],[0.050383,0.029803,0.527975,1.0],[0.050383,0.029803,0.527975,1.0],[0.050383,0.029803,0.527975,1.0],[0.050383,0.029803,0.527975,1.0],[0.050383,0.029803,0.527975,1.0],[0.494877,0.01199,0.657865,1.0],[0.494877,0.01199,0.657865,1.0],[0.494877,0.01199,0.657865,1.0],[0.050383,0.029803,0.527975,1.0],[0.050383,0.029803,0.527975,1.0],[0.050383,0.029803,0.527975,1.0],[0.050383,0.029803,0.527975,1.0],[0.050383,0.029803,0.527975,1.0],[0.050383,0.029803,0.527975,1.0],[0.050383,0.029803,0.527975,1.0],[0.050383,0.029803,0.527975,1.0],[0.050383,0.029803,0.527975,1.0],[0.494877,0.01199,0.657865,1.0],[0.494877,0.01199,0.657865,1.0],[0.494877,0.01199,0.657865,1.0],[0.494877,0.01199,0.657865,1.0],[0.494877,0.01199,0.657865,1.0],[0.494877,0.01199,0.657865,1.0],[0.050383,0.029803,0.527975,1.0],[0.050383,0.029803,0.527975,1.0],[0.050383,0.029803,0.527975,1.0],[0.050383,0.029803,0.527975,1.0],[0.050383,0.029803,0.527975,1.0],[0.050383,0.029803,0.527975,1.0],[0.050383,0.029803,0.527975,1.0],[0.050383,0.029803,0.527975,1.0],[0.050383,0.029803,0.527975,1.0],[0.494877,0.01199,0.657865,1.0],[0.494877,0.01199,0.657865,1.0],[0.494877,0.01199,0.657865,1.0],[0.050383,0.029803,0.527975,1.0],[0.050383,0.029803,0.527975,1.0],[0.050383,0.029803,0.527975,1.0],[0.494877,0.01199,0.657865,1.0],[0.494877,0.01199,0.657865,1.0],[0.494877,0.01199,0.657865,1.0],[0.494877,0.01199,0.657865,1.0],[0.494877,0.01199,0.657865,1.0],[0.494877,0.01199,0.657865,1.0],[0.050383,0.029803,0.527975,1.0],[0.050383,0.029803,0.527975,1.0],[0.050383,0.029803,0.527975,1.0],[0.050383,0.029803,0.527975,1.0],[0.050383,0.029803,0.527975,1.0],[0.050383,0.029803,0.527975,1.0],[0.050383,0.029803,0.527975,1.0],[0.050383,0.029803,0.527975,1.0],[0.050383,0.029803,0.527975,1.0],[0.494877,0.01199,0.657865,1.0],[0.494877,0.01199,0.657865,1.0],[0.494877,0.01199,0.657865,1.0],[0.050383,0.029803,0.527975,1.0],[0.050383,0.029803,0.527975,1.0],[0.050383,0.029803,0.527975,1.0],[0.050383,0.029803,0.527975,1.0],[0.050383,0.029803,0.527975,1.0],[0.050383,0.029803,0.527975,1.0],[0.050383,0.029803,0.527975,1.0],[0.050383,0.029803,0.527975,1.0],[0.050383,0.029803,0.527975,1.0],[0.050383,0.029803,0.527975,1.0],[0.050383,0.029803,0.527975,1.0],[0.050383,0.029803,0.527975,1.0],[0.494877,0.01199,0.657865,1.0],[0.494877,0.01199,0.657865,1.0],[0.494877,0.01199,0.657865,1.0],[0.494877,0.01199,0.657865,1.0],[0.494877,0.01199,0.657865,1.0],[0.494877,0.01199,0.657865,1.0],[0.050383,0.029803,0.527975,1.0],[0.050383,0.029803,0.527975,1.0],[0.050383,0.029803,0.527975,1.0],[0.050383,0.029803,0.527975,1.0],[0.050383,0.029803,0.527975,1.0],[0.050383,0.029803,0.527975,1.0],[0.050383,0.029803,0.527975,1.0],[0.050383,0.029803,0.527975,1.0],[0.050383,0.029803,0.527975,1.0],[0.798216,0.280197,0.469538,1.0],[0.798216,0.280197,0.469538,1.0],[0.798216,0.280197,0.469538,1.0],[0.050383,0.029803,0.527975,1.0],[0.050383,0.029803,0.527975,1.0],[0.050383,0.029803,0.527975,1.0],[0.494877,0.01199,0.657865,1.0],[0.494877,0.01199,0.657865,1.0],[0.494877,0.01199,0.657865,1.0],[0.798216,0.280197,0.469538,1.0],[0.798216,0.280197,0.469538,1.0],[0.798216,0.280197,0.469538,1.0],[0.494877,0.01199,0.657865,1.0],[0.494877,0.01199,0.657865,1.0],[0.494877,0.01199,0.657865,1.0],[0.050383,0.029803,0.527975,1.0],[0.050383,0.029803,0.527975,1.0],[0.050383,0.029803,0.527975,1.0],[0.050383,0.029803,0.527975,1.0],[0.050383,0.029803,0.527975,1.0],[0.050383,0.029803,0.527975,1.0],[0.050383,0.029803,0.527975,1.0],[0.050383,0.029803,0.527975,1.0],[0.050383,0.029803,0.527975,1.0],[0.494877,0.01199,0.657865,1.0],[0.494877,0.01199,0.657865,1.0],[0.494877,0.01199,0.657865,1.0],[0.050383,0.029803,0.527975,1.0],[0.050383,0.029803,0.527975,1.0],[0.050383,0.029803,0.527975,1.0],[0.050383,0.029803,0.527975,1.0],[0.050383,0.029803,0.527975,1.0],[0.050383,0.029803,0.527975,1.0],[0.050383,0.029803,0.527975,1.0],[0.050383,0.029803,0.527975,1.0],[0.050383,0.029803,0.527975,1.0],[0.050383,0.029803,0.527975,1.0],[0.050383,0.029803,0.527975,1.0],[0.050383,0.029803,0.527975,1.0],[0.050383,0.029803,0.527975,1.0],[0.050383,0.029803,0.527975,1.0],[0.050383,0.029803,0.527975,1.0],[0.050383,0.029803,0.527975,1.0],[0.050383,0.029803,0.527975,1.0],[0.050383,0.029803,0.527975,1.0],[0.050383,0.029803,0.527975,1.0],[0.050383,0.029803,0.527975,1.0],[0.050383,0.029803,0.527975,1.0],[0.050383,0.029803,0.527975,1.0],[0.050383,0.029803,0.527975,1.0],[0.050383,0.029803,0.527975,1.0],[0.050383,0.029803,0.527975,1.0],[0.050383,0.029803,0.527975,1.0],[0.050383,0.029803,0.527975,1.0],[0.494877,0.01199,0.657865,1.0],[0.494877,0.01199,0.657865,1.0],[0.494877,0.01199,0.657865,1.0],[0.050383,0.029803,0.527975,1.0],[0.050383,0.029803,0.527975,1.0],[0.050383,0.029803,0.527975,1.0],[0.050383,0.029803,0.527975,1.0],[0.050383,0.029803,0.527975,1.0],[0.050383,0.029803,0.527975,1.0],[0.050383,0.029803,0.527975,1.0],[0.050383,0.029803,0.527975,1.0],[0.050383,0.029803,0.527975,1.0],[0.050383,0.029803,0.527975,1.0],[0.050383,0.029803,0.527975,1.0],[0.050383,0.029803,0.527975,1.0],[0.050383,0.029803,0.527975,1.0],[0.050383,0.029803,0.527975,1.0],[0.050383,0.029803,0.527975,1.0],[0.050383,0.029803,0.527975,1.0],[0.050383,0.029803,0.527975,1.0],[0.050383,0.029803,0.527975,1.0],[0.050383,0.029803,0.527975,1.0],[0.050383,0.029803,0.527975,1.0],[0.050383,0.029803,0.527975,1.0],[0.050383,0.029803,0.527975,1.0],[0.050383,0.029803,0.527975,1.0],[0.050383,0.029803,0.527975,1.0],[0.050383,0.029803,0.527975,1.0],[0.050383,0.029803,0.527975,1.0],[0.050383,0.029803,0.527975,1.0],[0.050383,0.029803,0.527975,1.0],[0.050383,0.029803,0.527975,1.0],[0.050383,0.029803,0.527975,1.0],[0.050383,0.029803,0.527975,1.0],[0.050383,0.029803,0.527975,1.0],[0.050383,0.029803,0.527975,1.0],[0.050383,0.029803,0.527975,1.0],[0.050383,0.029803,0.527975,1.0],[0.050383,0.029803,0.527975,1.0],[0.050383,0.029803,0.527975,1.0],[0.050383,0.029803,0.527975,1.0],[0.050383,0.029803,0.527975,1.0],[0.050383,0.029803,0.527975,1.0],[0.050383,0.029803,0.527975,1.0],[0.050383,0.029803,0.527975,1.0],[0.050383,0.029803,0.527975,1.0],[0.050383,0.029803,0.527975,1.0],[0.050383,0.029803,0.527975,1.0],[0.494877,0.01199,0.657865,1.0],[0.494877,0.01199,0.657865,1.0],[0.494877,0.01199,0.657865,1.0],[0.050383,0.029803,0.527975,1.0],[0.050383,0.029803,0.527975,1.0],[0.050383,0.029803,0.527975,1.0],[0.050383,0.029803,0.527975,1.0],[0.050383,0.029803,0.527975,1.0],[0.050383,0.029803,0.527975,1.0],[0.050383,0.029803,0.527975,1.0],[0.050383,0.029803,0.527975,1.0],[0.050383,0.029803,0.527975,1.0],[0.050383,0.029803,0.527975,1.0],[0.050383,0.029803,0.527975,1.0],[0.050383,0.029803,0.527975,1.0],[0.050383,0.029803,0.527975,1.0],[0.050383,0.029803,0.527975,1.0],[0.050383,0.029803,0.527975,1.0],[0.050383,0.029803,0.527975,1.0],[0.050383,0.029803,0.527975,1.0],[0.050383,0.029803,0.527975,1.0],[0.050383,0.029803,0.527975,1.0],[0.050383,0.029803,0.527975,1.0],[0.050383,0.029803,0.527975,1.0],[0.050383,0.029803,0.527975,1.0],[0.050383,0.029803,0.527975,1.0],[0.050383,0.029803,0.527975,1.0],[0.050383,0.029803,0.527975,1.0],[0.050383,0.029803,0.527975,1.0],[0.050383,0.029803,0.527975,1.0]],\"width\":10},\"mode\":\"lines\",\"text\":[\"peptide_bond\",\"peptide_bond\",\"peptide_bond\",\"hydrophobic / aromatic\",\"hydrophobic / aromatic\",\"hydrophobic / aromatic\",\"hydrophobic\",\"hydrophobic\",\"hydrophobic\",\"hydrophobic\",\"hydrophobic\",\"hydrophobic\",\"hydrophobic\",\"hydrophobic\",\"hydrophobic\",\"peptide_bond\",\"peptide_bond\",\"peptide_bond\",\"peptide_bond\",\"peptide_bond\",\"peptide_bond\",\"peptide_bond\",\"peptide_bond\",\"peptide_bond\",\"peptide_bond\",\"peptide_bond\",\"peptide_bond\",\"hydrophobic\",\"hydrophobic\",\"hydrophobic\",\"hydrophobic\",\"hydrophobic\",\"hydrophobic\",\"hydrophobic\",\"hydrophobic\",\"hydrophobic\",\"peptide_bond\",\"peptide_bond\",\"peptide_bond\",\"hydrophobic\",\"hydrophobic\",\"hydrophobic\",\"hydrophobic\",\"hydrophobic\",\"hydrophobic\",\"hydrophobic\",\"hydrophobic\",\"hydrophobic\",\"peptide_bond\",\"peptide_bond\",\"peptide_bond\",\"peptide_bond\",\"peptide_bond\",\"peptide_bond\",\"peptide_bond\",\"peptide_bond\",\"peptide_bond\",\"peptide_bond\",\"peptide_bond\",\"peptide_bond\",\"hydrophobic\",\"hydrophobic\",\"hydrophobic\",\"hydrophobic\",\"hydrophobic\",\"hydrophobic\",\"hydrophobic\",\"hydrophobic\",\"hydrophobic\",\"peptide_bond\",\"peptide_bond\",\"peptide_bond\",\"hydrophobic\",\"hydrophobic\",\"hydrophobic\",\"peptide_bond\",\"peptide_bond\",\"peptide_bond\",\"peptide_bond\",\"peptide_bond\",\"peptide_bond\",\"peptide_bond\",\"peptide_bond\",\"peptide_bond\",\"hydrophobic\",\"hydrophobic\",\"hydrophobic\",\"hydrophobic\",\"hydrophobic\",\"hydrophobic\",\"hydrophobic\",\"hydrophobic\",\"hydrophobic\",\"hydrophobic\",\"hydrophobic\",\"hydrophobic\",\"hydrophobic\",\"hydrophobic\",\"hydrophobic\",\"hydrophobic\",\"hydrophobic\",\"hydrophobic\",\"hydrophobic\",\"hydrophobic\",\"hydrophobic\",\"peptide_bond\",\"peptide_bond\",\"peptide_bond\",\"peptide_bond\",\"peptide_bond\",\"peptide_bond\",\"hydrophobic\",\"hydrophobic\",\"hydrophobic\",\"hydrophobic\",\"hydrophobic\",\"hydrophobic\",\"hydrophobic\",\"hydrophobic\",\"hydrophobic\",\"hydrophobic\",\"hydrophobic\",\"hydrophobic\",\"hydrophobic\",\"hydrophobic\",\"hydrophobic\",\"hydrophobic\",\"hydrophobic\",\"hydrophobic\",\"peptide_bond\",\"peptide_bond\",\"peptide_bond\",\"hydrophobic\",\"hydrophobic\",\"hydrophobic\",\"hydrophobic\",\"hydrophobic\",\"hydrophobic\",\"hydrophobic\",\"hydrophobic\",\"hydrophobic\",\"peptide_bond\",\"peptide_bond\",\"peptide_bond\",\"hydrophobic\",\"hydrophobic\",\"hydrophobic\",\"hydrophobic\",\"hydrophobic\",\"hydrophobic\",\"hydrophobic\",\"hydrophobic\",\"hydrophobic\",\"hydrophobic\",\"hydrophobic\",\"hydrophobic\",\"peptide_bond\",\"peptide_bond\",\"peptide_bond\",\"peptide_bond\",\"peptide_bond\",\"peptide_bond\",\"hydrophobic\",\"hydrophobic\",\"hydrophobic\",\"hydrophobic\",\"hydrophobic\",\"hydrophobic\",\"hydrophobic\",\"hydrophobic\",\"hydrophobic\",\"peptide_bond\",\"peptide_bond\",\"peptide_bond\",\"hydrophobic\",\"hydrophobic\",\"hydrophobic\",\"hydrophobic\",\"hydrophobic\",\"hydrophobic\",\"peptide_bond\",\"peptide_bond\",\"peptide_bond\",\"hydrophobic\",\"hydrophobic\",\"hydrophobic\",\"hydrophobic\",\"hydrophobic\",\"hydrophobic\",\"peptide_bond\",\"peptide_bond\",\"peptide_bond\",\"peptide_bond\",\"peptide_bond\",\"peptide_bond\",\"peptide_bond\",\"peptide_bond\",\"peptide_bond\",\"peptide_bond\",\"peptide_bond\",\"peptide_bond\",\"hydrophobic\",\"hydrophobic\",\"hydrophobic\",\"peptide_bond\",\"peptide_bond\",\"peptide_bond\",\"hydrophobic\",\"hydrophobic\",\"hydrophobic\",\"hydrophobic\",\"hydrophobic\",\"hydrophobic\",\"hydrophobic\",\"hydrophobic\",\"hydrophobic\",\"peptide_bond\",\"peptide_bond\",\"peptide_bond\",\"peptide_bond\",\"peptide_bond\",\"peptide_bond\",\"hydrophobic\",\"hydrophobic\",\"hydrophobic\",\"hydrophobic\",\"hydrophobic\",\"hydrophobic\",\"peptide_bond\",\"peptide_bond\",\"peptide_bond\",\"peptide_bond\",\"peptide_bond\",\"peptide_bond\",\"hydrophobic\",\"hydrophobic\",\"hydrophobic\",\"hydrophobic\",\"hydrophobic\",\"hydrophobic\",\"peptide_bond\",\"peptide_bond\",\"peptide_bond\",\"peptide_bond\",\"peptide_bond\",\"peptide_bond\",\"peptide_bond\",\"peptide_bond\",\"peptide_bond\",\"peptide_bond\",\"peptide_bond\",\"peptide_bond\",\"hydrophobic\",\"hydrophobic\",\"hydrophobic\",\"hydrophobic\",\"hydrophobic\",\"hydrophobic\",\"peptide_bond\",\"peptide_bond\",\"peptide_bond\",\"peptide_bond\",\"peptide_bond\",\"peptide_bond\",\"peptide_bond\",\"peptide_bond\",\"peptide_bond\",\"hydrophobic\",\"hydrophobic\",\"hydrophobic\",\"peptide_bond\",\"peptide_bond\",\"peptide_bond\",\"peptide_bond\",\"peptide_bond\",\"peptide_bond\",\"hydrophobic\",\"hydrophobic\",\"hydrophobic\",\"peptide_bond\",\"peptide_bond\",\"peptide_bond\",\"peptide_bond\",\"peptide_bond\",\"peptide_bond\",\"peptide_bond\",\"peptide_bond\",\"peptide_bond\",\"peptide_bond\",\"peptide_bond\",\"peptide_bond\",\"hydrophobic\",\"hydrophobic\",\"hydrophobic\",\"hydrophobic\",\"hydrophobic\",\"hydrophobic\",\"hydrophobic\",\"hydrophobic\",\"hydrophobic\",\"hydrophobic\",\"hydrophobic\",\"hydrophobic\",\"peptide_bond\",\"peptide_bond\",\"peptide_bond\",\"peptide_bond\",\"peptide_bond\",\"peptide_bond\",\"peptide_bond\",\"peptide_bond\",\"peptide_bond\",\"peptide_bond\",\"peptide_bond\",\"peptide_bond\",\"hydrophobic\",\"hydrophobic\",\"hydrophobic\",\"hydrophobic\",\"hydrophobic\",\"hydrophobic\",\"peptide_bond\",\"peptide_bond\",\"peptide_bond\",\"peptide_bond\",\"peptide_bond\",\"peptide_bond\",\"hydrophobic\",\"hydrophobic\",\"hydrophobic\",\"hydrophobic\",\"hydrophobic\",\"hydrophobic\",\"hydrophobic / aromatic\",\"hydrophobic / aromatic\",\"hydrophobic / aromatic\",\"hydrophobic / aromatic\",\"hydrophobic / aromatic\",\"hydrophobic / aromatic\",\"peptide_bond\",\"peptide_bond\",\"peptide_bond\",\"hydrophobic / aromatic\",\"hydrophobic / aromatic\",\"hydrophobic / aromatic\",\"hydrophobic\",\"hydrophobic\",\"hydrophobic\",\"hydrophobic\",\"hydrophobic\",\"hydrophobic\",\"peptide_bond\",\"peptide_bond\",\"peptide_bond\",\"hydrophobic\",\"hydrophobic\",\"hydrophobic\",\"hydrophobic\",\"hydrophobic\",\"hydrophobic\",\"hydrophobic\",\"hydrophobic\",\"hydrophobic\",\"hydrophobic\",\"hydrophobic\",\"hydrophobic\",\"hydrophobic\",\"hydrophobic\",\"hydrophobic\",\"peptide_bond\",\"peptide_bond\",\"peptide_bond\",\"peptide_bond\",\"peptide_bond\",\"peptide_bond\",\"hydrophobic\",\"hydrophobic\",\"hydrophobic\",\"hydrophobic / aromatic\",\"hydrophobic / aromatic\",\"hydrophobic / aromatic\",\"peptide_bond\",\"peptide_bond\",\"peptide_bond\",\"peptide_bond\",\"peptide_bond\",\"peptide_bond\",\"hydrophobic\",\"hydrophobic\",\"hydrophobic\",\"hydrophobic\",\"hydrophobic\",\"hydrophobic\",\"peptide_bond\",\"peptide_bond\",\"peptide_bond\",\"peptide_bond\",\"peptide_bond\",\"peptide_bond\",\"hydrophobic\",\"hydrophobic\",\"hydrophobic\",\"hydrophobic\",\"hydrophobic\",\"hydrophobic\",\"hydrophobic\",\"hydrophobic\",\"hydrophobic\",\"hydrophobic\",\"hydrophobic\",\"hydrophobic\",\"peptide_bond\",\"peptide_bond\",\"peptide_bond\",\"peptide_bond\",\"peptide_bond\",\"peptide_bond\",\"peptide_bond\",\"peptide_bond\",\"peptide_bond\",\"hydrophobic\",\"hydrophobic\",\"hydrophobic\",\"peptide_bond\",\"peptide_bond\",\"peptide_bond\",\"peptide_bond\",\"peptide_bond\",\"peptide_bond\",\"peptide_bond\",\"peptide_bond\",\"peptide_bond\",\"peptide_bond\",\"peptide_bond\",\"peptide_bond\",\"peptide_bond\",\"peptide_bond\",\"peptide_bond\",\"peptide_bond\",\"peptide_bond\",\"peptide_bond\",\"peptide_bond\",\"peptide_bond\",\"peptide_bond\",\"hydrophobic\",\"hydrophobic\",\"hydrophobic\",\"hydrophobic\",\"hydrophobic\",\"hydrophobic\",\"hydrophobic\",\"hydrophobic\",\"hydrophobic\",\"peptide_bond\",\"peptide_bond\",\"peptide_bond\",\"peptide_bond\",\"peptide_bond\",\"peptide_bond\",\"hydrophobic\",\"hydrophobic\",\"hydrophobic\",\"hydrophobic\",\"hydrophobic\",\"hydrophobic\",\"hydrophobic\",\"hydrophobic\",\"hydrophobic\",\"peptide_bond\",\"peptide_bond\",\"peptide_bond\",\"hydrophobic\",\"hydrophobic\",\"hydrophobic\",\"hydrophobic\",\"hydrophobic\",\"hydrophobic\",\"hydrophobic\",\"hydrophobic\",\"hydrophobic\",\"peptide_bond\",\"peptide_bond\",\"peptide_bond\",\"hydrophobic\",\"hydrophobic\",\"hydrophobic\",\"hydrophobic\",\"hydrophobic\",\"hydrophobic\",\"hydrophobic\",\"hydrophobic\",\"hydrophobic\",\"hydrophobic\",\"hydrophobic\",\"hydrophobic\",\"peptide_bond\",\"peptide_bond\",\"peptide_bond\",\"hydrophobic\",\"hydrophobic\",\"hydrophobic\",\"hydrophobic\",\"hydrophobic\",\"hydrophobic\",\"hydrophobic\",\"hydrophobic\",\"hydrophobic\",\"hydrophobic\",\"hydrophobic\",\"hydrophobic\",\"hydrophobic\",\"hydrophobic\",\"hydrophobic\",\"hydrophobic\",\"hydrophobic\",\"hydrophobic\",\"peptide_bond\",\"peptide_bond\",\"peptide_bond\",\"peptide_bond\",\"peptide_bond\",\"peptide_bond\",\"hydrophobic\",\"hydrophobic\",\"hydrophobic\",\"peptide_bond\",\"peptide_bond\",\"peptide_bond\",\"peptide_bond\",\"peptide_bond\",\"peptide_bond\",\"peptide_bond\",\"peptide_bond\",\"peptide_bond\",\"hydrophobic\",\"hydrophobic\",\"hydrophobic\",\"peptide_bond\",\"peptide_bond\",\"peptide_bond\",\"peptide_bond\",\"peptide_bond\",\"peptide_bond\",\"peptide_bond\",\"peptide_bond\",\"peptide_bond\",\"peptide_bond\",\"peptide_bond\",\"peptide_bond\",\"peptide_bond\",\"peptide_bond\",\"peptide_bond\",\"peptide_bond\",\"peptide_bond\",\"peptide_bond\",\"hydrophobic\",\"hydrophobic\",\"hydrophobic\",\"hydrophobic\",\"hydrophobic\",\"hydrophobic\",\"hydrophobic\",\"hydrophobic\",\"hydrophobic\",\"peptide_bond\",\"peptide_bond\",\"peptide_bond\",\"peptide_bond\",\"peptide_bond\",\"peptide_bond\",\"hydrophobic\",\"hydrophobic\",\"hydrophobic\",\"peptide_bond\",\"peptide_bond\",\"peptide_bond\",\"peptide_bond\",\"peptide_bond\",\"peptide_bond\",\"hydrophobic\",\"hydrophobic\",\"hydrophobic\",\"hydrophobic\",\"hydrophobic\",\"hydrophobic\",\"hydrophobic\",\"hydrophobic\",\"hydrophobic\",\"peptide_bond\",\"peptide_bond\",\"peptide_bond\",\"hydrophobic\",\"hydrophobic\",\"hydrophobic\",\"hydrophobic\",\"hydrophobic\",\"hydrophobic\",\"hydrophobic\",\"hydrophobic\",\"hydrophobic\",\"hydrophobic\",\"hydrophobic\",\"hydrophobic\",\"hydrophobic\",\"hydrophobic\",\"hydrophobic\",\"peptide_bond\",\"peptide_bond\",\"peptide_bond\",\"peptide_bond\",\"peptide_bond\",\"peptide_bond\",\"hydrophobic\",\"hydrophobic\",\"hydrophobic\",\"hydrophobic\",\"hydrophobic\",\"hydrophobic\",\"hydrophobic\",\"hydrophobic\",\"hydrophobic\",\"hydrophobic\",\"hydrophobic\",\"hydrophobic\",\"peptide_bond\",\"peptide_bond\",\"peptide_bond\",\"hydrophobic\",\"hydrophobic\",\"hydrophobic\",\"hydrophobic\",\"hydrophobic\",\"hydrophobic\",\"hydrophobic\",\"hydrophobic\",\"hydrophobic\",\"hydrophobic\",\"hydrophobic\",\"hydrophobic\",\"hydrophobic\",\"hydrophobic\",\"hydrophobic\",\"peptide_bond\",\"peptide_bond\",\"peptide_bond\",\"peptide_bond\",\"peptide_bond\",\"peptide_bond\",\"hydrophobic\",\"hydrophobic\",\"hydrophobic\",\"hydrophobic\",\"hydrophobic\",\"hydrophobic\",\"hydrophobic\",\"hydrophobic\",\"hydrophobic\",\"peptide_bond\",\"peptide_bond\",\"peptide_bond\",\"peptide_bond\",\"peptide_bond\",\"peptide_bond\",\"peptide_bond\",\"peptide_bond\",\"peptide_bond\",\"peptide_bond\",\"peptide_bond\",\"peptide_bond\",\"peptide_bond\",\"peptide_bond\",\"peptide_bond\",\"peptide_bond\",\"peptide_bond\",\"peptide_bond\",\"peptide_bond\",\"peptide_bond\",\"peptide_bond\",\"peptide_bond\",\"peptide_bond\",\"peptide_bond\",\"peptide_bond\",\"peptide_bond\",\"peptide_bond\",\"peptide_bond\",\"peptide_bond\",\"peptide_bond\",\"hydrophobic\",\"hydrophobic\",\"hydrophobic\",\"hydrophobic\",\"hydrophobic\",\"hydrophobic\",\"peptide_bond\",\"peptide_bond\",\"peptide_bond\",\"hydrophobic\",\"hydrophobic\",\"hydrophobic\",\"hydrophobic\",\"hydrophobic\",\"hydrophobic\",\"hydrophobic\",\"hydrophobic\",\"hydrophobic\",\"peptide_bond\",\"peptide_bond\",\"peptide_bond\",\"peptide_bond\",\"peptide_bond\",\"peptide_bond\",\"hydrophobic\",\"hydrophobic\",\"hydrophobic\",\"peptide_bond\",\"peptide_bond\",\"peptide_bond\",\"hydrophobic\",\"hydrophobic\",\"hydrophobic\",\"peptide_bond\",\"peptide_bond\",\"peptide_bond\",\"peptide_bond\",\"peptide_bond\",\"peptide_bond\",\"peptide_bond\",\"peptide_bond\",\"peptide_bond\",\"peptide_bond\",\"peptide_bond\",\"peptide_bond\",\"peptide_bond\",\"peptide_bond\",\"peptide_bond\",\"peptide_bond\",\"peptide_bond\",\"peptide_bond\",\"peptide_bond\",\"peptide_bond\",\"peptide_bond\",\"peptide_bond\",\"peptide_bond\",\"peptide_bond\",\"peptide_bond\",\"peptide_bond\",\"peptide_bond\",\"peptide_bond\",\"peptide_bond\",\"peptide_bond\",\"peptide_bond\",\"peptide_bond\",\"peptide_bond\",\"hydrophobic\",\"hydrophobic\",\"hydrophobic\",\"peptide_bond\",\"peptide_bond\",\"peptide_bond\",\"peptide_bond\",\"peptide_bond\",\"peptide_bond\",\"peptide_bond\",\"peptide_bond\",\"peptide_bond\",\"hydrophobic\",\"hydrophobic\",\"hydrophobic\",\"hydrophobic\",\"hydrophobic\",\"hydrophobic\",\"peptide_bond\",\"peptide_bond\",\"peptide_bond\",\"peptide_bond\",\"peptide_bond\",\"peptide_bond\",\"peptide_bond\",\"peptide_bond\",\"peptide_bond\",\"hydrophobic\",\"hydrophobic\",\"hydrophobic\",\"peptide_bond\",\"peptide_bond\",\"peptide_bond\",\"hydrophobic\",\"hydrophobic\",\"hydrophobic\",\"hydrophobic\",\"hydrophobic\",\"hydrophobic\",\"peptide_bond\",\"peptide_bond\",\"peptide_bond\",\"peptide_bond\",\"peptide_bond\",\"peptide_bond\",\"peptide_bond\",\"peptide_bond\",\"peptide_bond\",\"hydrophobic\",\"hydrophobic\",\"hydrophobic\",\"peptide_bond\",\"peptide_bond\",\"peptide_bond\",\"peptide_bond\",\"peptide_bond\",\"peptide_bond\",\"peptide_bond\",\"peptide_bond\",\"peptide_bond\",\"peptide_bond\",\"peptide_bond\",\"peptide_bond\",\"hydrophobic\",\"hydrophobic\",\"hydrophobic\",\"hydrophobic\",\"hydrophobic\",\"hydrophobic\",\"peptide_bond\",\"peptide_bond\",\"peptide_bond\",\"peptide_bond\",\"peptide_bond\",\"peptide_bond\",\"peptide_bond\",\"peptide_bond\",\"peptide_bond\",\"hydrophobic / aromatic\",\"hydrophobic / aromatic\",\"hydrophobic / aromatic\",\"peptide_bond\",\"peptide_bond\",\"peptide_bond\",\"hydrophobic\",\"hydrophobic\",\"hydrophobic\",\"hydrophobic / aromatic\",\"hydrophobic / aromatic\",\"hydrophobic / aromatic\",\"hydrophobic\",\"hydrophobic\",\"hydrophobic\",\"peptide_bond\",\"peptide_bond\",\"peptide_bond\",\"peptide_bond\",\"peptide_bond\",\"peptide_bond\",\"peptide_bond\",\"peptide_bond\",\"peptide_bond\",\"hydrophobic\",\"hydrophobic\",\"hydrophobic\",\"peptide_bond\",\"peptide_bond\",\"peptide_bond\",\"peptide_bond\",\"peptide_bond\",\"peptide_bond\",\"peptide_bond\",\"peptide_bond\",\"peptide_bond\",\"peptide_bond\",\"peptide_bond\",\"peptide_bond\",\"peptide_bond\",\"peptide_bond\",\"peptide_bond\",\"peptide_bond\",\"peptide_bond\",\"peptide_bond\",\"peptide_bond\",\"peptide_bond\",\"peptide_bond\",\"peptide_bond\",\"peptide_bond\",\"peptide_bond\",\"peptide_bond\",\"peptide_bond\",\"peptide_bond\",\"hydrophobic\",\"hydrophobic\",\"hydrophobic\",\"peptide_bond\",\"peptide_bond\",\"peptide_bond\",\"peptide_bond\",\"peptide_bond\",\"peptide_bond\",\"peptide_bond\",\"peptide_bond\",\"peptide_bond\",\"peptide_bond\",\"peptide_bond\",\"peptide_bond\",\"peptide_bond\",\"peptide_bond\",\"peptide_bond\",\"peptide_bond\",\"peptide_bond\",\"peptide_bond\",\"peptide_bond\",\"peptide_bond\",\"peptide_bond\",\"peptide_bond\",\"peptide_bond\",\"peptide_bond\",\"peptide_bond\",\"peptide_bond\",\"peptide_bond\",\"peptide_bond\",\"peptide_bond\",\"peptide_bond\",\"peptide_bond\",\"peptide_bond\",\"peptide_bond\",\"peptide_bond\",\"peptide_bond\",\"peptide_bond\",\"peptide_bond\",\"peptide_bond\",\"peptide_bond\",\"peptide_bond\",\"peptide_bond\",\"peptide_bond\",\"peptide_bond\",\"peptide_bond\",\"peptide_bond\",\"hydrophobic\",\"hydrophobic\",\"hydrophobic\",\"peptide_bond\",\"peptide_bond\",\"peptide_bond\",\"peptide_bond\",\"peptide_bond\",\"peptide_bond\",\"peptide_bond\",\"peptide_bond\",\"peptide_bond\",\"peptide_bond\",\"peptide_bond\",\"peptide_bond\",\"peptide_bond\",\"peptide_bond\",\"peptide_bond\",\"peptide_bond\",\"peptide_bond\",\"peptide_bond\",\"peptide_bond\",\"peptide_bond\",\"peptide_bond\",\"peptide_bond\",\"peptide_bond\",\"peptide_bond\",\"peptide_bond\",\"peptide_bond\",\"peptide_bond\"],\"x\":[3.259,4.261,null,4.261,7.723,null,4.261,-2.802,null,4.261,-0.345,null,4.261,7.808,null,4.261,4.593,null,4.593,7.351,null,7.351,9.636,null,9.636,12.827,null,9.636,10.136,null,9.636,7.808,null,9.636,8.675,null,12.827,13.463,null,13.463,20.522,null,13.463,10.3,null,13.463,13.504,null,13.463,16.864,null,16.864,19.941,null,19.941,22.265,null,22.265,20.522,null,20.522,15.736,null,20.522,17.273,null,20.522,13.504,null,20.522,20.351,null,20.351,15.736,null,20.351,22.326,null,22.326,21.118,null,21.118,17.273,null,17.273,11.233,null,17.273,10.3,null,17.273,17.679,null,17.273,16.439,null,17.273,15.736,null,17.273,10.48,null,17.273,19.509,null,17.273,14.124,null,14.124,11.233,null,11.233,12.752,null,11.233,10.48,null,11.233,10.3,null,11.233,17.679,null,11.233,6.335,null,11.233,13.346,null,11.233,7.808,null,7.808,10.136,null,7.808,7.723,null,7.808,8.675,null,7.808,6.335,null,6.335,4.714,null,6.335,8.376,null,6.335,13.346,null,6.335,12.752,null,6.335,2.788,null,2.788,2.667,null,2.667,6.622,null,2.667,3.925,null,2.667,-2.729,null,2.667,4.714,null,4.714,8.431,null,4.714,3.095,null,4.714,6.227,null,6.227,9.007,null,6.227,8.431,null,6.227,3.743,null,3.743,0.912,null,0.912,-2.696,null,-2.696,-3.561,null,-3.561,-6.049,null,-3.561,-4.811,null,-4.811,-7.232,null,-4.811,-2.729,null,-4.811,-8.408,null,-4.811,-3.209,null,-3.209,-2.729,null,-2.729,-2.802,null,-2.729,-7.232,null,-2.729,-1.576,null,-1.576,-0.345,null,-0.345,-2.802,null,-0.345,7.723,null,-0.345,-2.438,null,-2.438,0.108,null,0.108,-2.707,null,-2.707,-4.397,null,-4.397,-2.85,null,-4.397,-5.822,null,-4.397,-1.176,null,-1.176,-2.85,null,-2.85,-2.802,null,-2.802,3.095,null,-2.802,-5.822,null,-5.822,-7.232,null,-7.232,-8.408,null,-7.232,-6.825,null,-6.825,-8.19,null,-8.19,-8.408,null,-8.408,-6.049,null,-6.049,4.054,null,-6.049,3.925,null,-6.049,-1.499,null,-6.049,-1.324,null,-6.049,-8.248,null,-8.248,-5.932,null,-5.932,-5.269,null,-5.269,-1.499,null,-1.499,-1.324,null,-1.499,4.054,null,-1.499,0.901,null,0.901,3.925,null,3.925,10.673,null,3.925,4.054,null,3.925,-1.324,null,3.925,6.622,null,3.925,7.017,null,3.925,3.966,null,7.017,8.997,null,7.017,4.054,null,7.017,9.007,null,7.017,13.44,null,9.007,14.131,null,9.007,10.673,null,9.007,8.997,null,9.007,13.44,null,9.007,8.127,null,8.127,6.622,null,6.622,10.673,null,6.622,3.966,null,6.622,6.543,null,6.543,7.723,null,7.723,6.253,null,7.723,8.675,null,7.723,10.3,null,10.3,8.675,null,10.3,9.151,null,10.3,10.48,null,10.3,13.374,null,10.3,15.736,null,8.675,9.159,null,9.159,9.631,null,9.631,7.455,null,7.455,8.81,null,7.455,7.886,null,7.886,6.892,null,6.892,3.284,null,3.284,2.739,null,2.739,3.176,null,3.176,6.253,null,6.253,9.151,null,9.151,10.48,null,9.151,15.736,null,9.151,13.374,null,9.151,8.153,null,8.153,10.48,null,10.48,16.439,null,10.48,12.752,null,10.48,13.374,null,10.48,10.673,null,10.673,8.997,null,10.673,3.966,null,10.673,14.716,null,10.673,12.752,null,12.752,16.439,null,12.752,8.376,null,12.752,18.094,null,12.752,13.346,null,12.752,14.131,null,14.131,14.716,null,14.131,23.756,null,14.131,17.739,null,14.131,20.296,null,14.131,19.6,null,14.131,13.44,null,14.131,14.385,null,14.385,14.763,null,14.763,21.88,null,14.763,11.36,null,11.36,8.431,null,8.431,8.376,null,8.376,13.346,null,8.376,5.481,null,5.481,3.095,null,3.095,3.454,null,3.454,7.003,null,7.003,10.136,null,10.136,13.346,null,13.346,18.094,null,13.346,17.679,null,13.346,19.998,null,13.346,16.701,null,16.701,17.679,null,17.679,16.439,null,17.679,20.154,null,20.154,19.509,null,19.509,15.736,null,19.509,22.293,null,19.509,18.103,null,19.509,20.296,null,20.296,20.56,null,20.296,19.6,null,20.296,14.716,null,20.296,23.756,null,20.296,17.739,null,20.296,18.676,null,18.676,15.233,null,15.233,9.799,null,15.233,18.103,null,15.233,13.374,null,15.233,19.68,null,15.233,12.506,null,12.506,8.997,null,12.506,16.155,null,12.506,3.966,null,12.506,7.77,null,12.506,7.952,null,12.506,11.368,null,11.368,7.77,null,7.77,1.612,null,7.77,3.966,null,7.77,7.952,null,7.77,4.894,null,4.894,1.321,null,1.321,-2.141,null,-2.141,-1.091,null,-1.091,2.222,null,2.222,5.851,null,5.851,6.375,null,6.375,9.799,null,9.799,10.147,null,10.147,13.374,null,13.374,15.736,null,13.374,18.103,null,13.374,14.716,null,14.716,16.155,null,14.716,20.56,null,14.716,19.6,null,14.716,16.439,null,16.439,17.739,null,17.739,23.756,null,17.739,18.094,null,18.094,19.998,null,18.094,21.269,null,21.269,23.979,null,23.979,23.786,null,23.786,19.998,null,19.998,20.191,null,20.191,23.601,null,23.601,21.88,null,21.88,21.572,null,21.572,25.069,null,25.069,26.394,null,26.394,23.756,null,23.756,18.809,null,23.756,25.692,null,25.692,23.593,null,23.593,20.56,null,20.56,16.155,null,20.56,19.6,null,20.56,22.858,null,22.858,23.341,null,23.341,19.6,null,19.6,13.44,null,19.6,18.809,null,18.809,14.362,null,18.809,13.44,null,18.809,17.41,null,17.41,14.362,null,14.362,13.44,null,13.44,8.997,null,13.44,14.038,null,14.038,11.757,null,11.757,9.018,null,9.018,8.997,null,8.997,3.966,null,8.997,16.155,null,8.997,8.711,null,8.711,5.9,null,5.9,4.054,null,4.054,-1.324,null,4.054,3.966,null,3.966,7.952,null,3.966,-1.324,null,3.966,1.612,null,3.966,3.095,null,3.095,0.098,null,0.098,-1.324,null,-1.324,1.612,null,-1.324,-3.656,null,-3.656,-4.911,null,-4.911,-8.442,null,-8.442,-9.007,null,-9.007,-10.597,null,-10.597,-8.523,null,-8.523,-5.309,null,-5.309,-2.195,null,-2.195,1.612,null,1.612,7.952,null,1.612,4.498,null,4.498,7.952,null,7.952,10.734,null,10.734,13.721,null,13.721,16.155,null,16.155,18.577,null,18.577,21.324,null,21.324,22.293,null,22.293,23.112,null,23.112,19.68,null,19.68,18.103,null,18.103,20.029,null,20.029,18.856,null,18.856,15.244,null,15.244,15.736,null,15.736,13.504,null,15.736,17.499,null,17.499,14.773,null,14.773,12.06,null,12.06,13.504,null,13.504,13.922,null,13.922,10.408,null,10.408,8.81,null,8.81,10.321,null,10.321,8.602,null],\"y\":[54.783,51.413,null,51.413,44.098,null,51.413,50.69,null,51.413,47.623,null,51.413,49.672,null,51.413,49.745,null,49.745,52.145,null,52.145,51.959,null,51.959,50.031,null,51.959,53.57,null,51.959,49.672,null,51.959,46.182,null,50.031,46.785,null,46.785,43.892,null,46.785,44.571,null,46.785,39.857,null,46.785,48.237,null,48.237,50.322,null,50.322,47.261,null,47.261,43.892,null,43.892,38.343,null,43.892,46.837,null,43.892,39.857,null,43.892,41.67,null,41.67,38.343,null,41.67,43.248,null,43.248,46.909,null,46.909,46.837,null,46.837,48.079,null,46.837,44.571,null,46.837,48.293,null,46.837,43.391,null,46.837,38.343,null,46.837,41.87,null,46.837,41.774,null,46.837,48.961,null,48.961,48.079,null,48.079,45.796,null,48.079,41.87,null,48.079,44.571,null,48.079,48.293,null,48.079,49.641,null,48.079,52.564,null,48.079,49.672,null,49.672,53.57,null,49.672,44.098,null,49.672,46.182,null,49.672,49.641,null,49.641,49.919,null,49.641,53.71,null,49.641,52.564,null,49.641,45.796,null,49.641,48.243,null,48.243,47.809,null,47.809,44.831,null,47.809,43.167,null,47.809,46.58,null,47.809,49.919,null,49.919,52.73,null,49.919,53.083,null,49.919,48.079,null,48.079,45.057,null,48.079,52.73,null,48.079,48.001,null,48.001,49.648,null,49.648,48.815,null,48.815,45.259,null,45.259,40.66,null,45.259,46.024,null,46.024,46.981,null,46.024,46.58,null,46.024,43.175,null,46.024,44.2,null,44.2,46.58,null,46.58,50.69,null,46.58,46.981,null,46.58,45.372,null,45.372,47.623,null,47.623,50.69,null,47.623,44.098,null,47.623,47.426,null,47.426,47.856,null,47.856,48.405,null,48.405,51.142,null,51.142,52.621,null,51.142,48.433,null,51.142,52.617,null,52.617,52.621,null,52.621,50.69,null,50.69,53.083,null,50.69,48.433,null,48.433,46.981,null,46.981,43.175,null,46.981,43.221,null,43.221,42.297,null,42.297,43.175,null,43.175,40.66,null,40.66,36.33,null,40.66,43.167,null,40.66,40.721,null,40.66,35.723,null,40.66,38.135,null,38.135,37.739,null,37.739,41.493,null,41.493,40.721,null,40.721,35.723,null,40.721,36.33,null,40.721,43.405,null,43.405,43.167,null,43.167,42.593,null,43.167,36.33,null,43.167,35.723,null,43.167,44.831,null,43.167,43.398,null,43.167,34.206,null,43.398,37.405,null,43.398,36.33,null,43.398,45.057,null,43.398,39.796,null,45.057,46.466,null,45.057,42.593,null,45.057,37.405,null,45.057,39.796,null,45.057,46.907,null,46.907,44.831,null,44.831,42.593,null,44.831,34.206,null,44.831,45.425,null,45.425,44.098,null,44.098,40.252,null,44.098,46.182,null,44.098,44.571,null,44.571,46.182,null,44.571,39.25,null,44.571,41.87,null,44.571,38.275,null,44.571,38.343,null,46.182,44.57,null,44.57,41.093,null,41.093,38.007,null,38.007,39.231,null,38.007,35.307,null,35.307,31.638,null,31.638,32.51,null,32.51,35.181,null,35.181,37.99,null,37.99,40.252,null,40.252,39.25,null,39.25,41.87,null,39.25,38.343,null,39.25,38.275,null,39.25,39.968,null,39.968,41.87,null,41.87,43.391,null,41.87,45.796,null,41.87,38.275,null,41.87,42.593,null,42.593,37.405,null,42.593,34.206,null,42.593,40.131,null,42.593,45.796,null,45.796,43.391,null,45.796,53.71,null,45.796,50.056,null,45.796,52.564,null,45.796,46.466,null,46.466,40.131,null,46.466,44.177,null,46.466,46.729,null,46.466,39.97,null,46.466,40.132,null,46.466,39.796,null,46.466,50.22,null,50.22,52.26,null,52.26,52.798,null,52.26,54.051,null,54.051,52.73,null,52.73,53.71,null,53.71,52.564,null,53.71,55.415,null,55.415,53.083,null,53.083,53.652,null,53.652,55.049,null,55.049,53.57,null,53.57,52.564,null,52.564,50.056,null,52.564,48.293,null,52.564,55.764,null,52.564,51.555,null,51.555,48.293,null,48.293,43.391,null,48.293,45.376,null,45.376,41.774,null,41.774,38.343,null,41.774,36.402,null,41.774,36.027,null,41.774,39.97,null,39.97,37.354,null,39.97,40.132,null,39.97,40.131,null,39.97,44.177,null,39.97,46.729,null,39.97,36.607,null,36.607,35.027,null,35.027,32.789,null,35.027,36.027,null,35.027,38.275,null,35.027,32.532,null,35.027,33.156,null,33.156,37.405,null,33.156,30.742,null,33.156,34.206,null,33.156,28.871,null,33.156,27.825,null,33.156,29.98,null,29.98,28.871,null,28.871,28.584,null,28.871,34.206,null,28.871,27.825,null,28.871,27.078,null,27.078,28.342,null,28.342,27.402,null,27.402,28.565,null,28.565,26.653,null,26.653,27.802,null,27.802,31.242,null,31.242,32.789,null,32.789,36.293,null,36.293,38.275,null,38.275,38.343,null,38.275,36.027,null,38.275,40.131,null,40.131,30.742,null,40.131,37.354,null,40.131,40.132,null,40.131,43.391,null,43.391,46.729,null,46.729,44.177,null,46.729,50.056,null,50.056,55.764,null,50.056,51.039,null,51.039,52.129,null,52.129,55.819,null,55.819,55.764,null,55.764,54.054,null,54.054,54.246,null,54.246,52.798,null,52.798,49.368,null,49.368,49.285,null,49.285,46.697,null,46.697,44.177,null,44.177,39.845,null,44.177,42.242,null,42.242,39.08,null,39.08,37.354,null,37.354,30.742,null,37.354,40.132,null,37.354,36.041,null,36.041,39.566,null,39.566,40.132,null,40.132,39.796,null,40.132,39.845,null,39.845,38.016,null,39.845,39.796,null,39.845,36.415,null,36.415,38.016,null,38.016,39.796,null,39.796,37.405,null,39.796,36.681,null,36.681,34.796,null,34.796,37.455,null,37.455,37.405,null,37.405,34.206,null,37.405,30.742,null,37.405,33.639,null,33.639,33.625,null,33.625,36.33,null,36.33,35.723,null,36.33,34.206,null,34.206,27.825,null,34.206,35.723,null,34.206,28.584,null,34.206,31.047,null,31.047,32.706,null,32.706,35.723,null,35.723,28.584,null,35.723,33.62,null,33.62,31.489,null,31.489,32.926,null,32.926,32.685,null,32.685,29.436,null,29.436,27.724,null,27.724,29.594,null,29.594,28.252,null,28.252,28.584,null,28.584,27.825,null,28.584,26.276,null,26.276,27.825,null,27.825,25.724,null,25.724,27.866,null,27.866,30.742,null,30.742,31.106,null,31.106,33.641,null,33.641,36.402,null,36.402,34.177,null,34.177,32.532,null,32.532,36.027,null,36.027,37.073,null,37.073,33.977,null,33.977,34.755,null,34.755,38.343,null,38.343,39.857,null,38.343,37.327,null,37.327,34.697,null,34.697,37.272,null,37.272,39.857,null,39.857,37.243,null,37.243,35.776,null,35.776,39.231,null,39.231,39.983,null,39.983,36.759,null],\"z\":[-0.368,1.102,null,1.102,7.462,null,1.102,7.873,null,1.102,6.073,null,1.102,7.712,null,1.102,-2.323,null,-2.323,-3.48,null,-3.48,-0.457,null,-0.457,-1.447,null,-0.457,8.06,null,-0.457,7.712,null,-0.457,1.622,null,-1.447,0.378,null,0.378,0.629,null,0.378,4.683,null,0.378,-2.44,null,0.378,1.344,null,1.344,0.477,null,0.477,0.452,null,0.452,0.629,null,0.629,3.199,null,0.629,4.816,null,0.629,-2.44,null,0.629,2.533,null,2.533,3.199,null,2.533,5.367,null,5.367,5.116,null,5.116,4.816,null,4.816,7.822,null,4.816,4.683,null,4.816,10.097,null,4.816,14.095,null,4.816,3.199,null,4.816,11.382,null,4.816,11.382,null,4.816,5.479,null,5.479,7.822,null,7.822,15.684,null,7.822,11.382,null,7.822,4.683,null,7.822,10.097,null,7.822,11.228,null,7.822,9.868,null,7.822,7.712,null,7.712,8.06,null,7.712,7.462,null,7.712,1.622,null,7.712,11.228,null,11.228,18.016,null,11.228,16.869,null,11.228,9.868,null,11.228,15.684,null,11.228,11.677,null,11.677,15.505,null,15.505,14.583,null,15.505,21.179,null,15.505,12.294,null,15.505,18.016,null,18.016,20.586,null,18.016,13.205,null,18.016,21.006,null,21.006,20.582,null,21.006,20.586,null,21.006,23.972,null,23.972,21.988,null,21.988,22.968,null,22.968,21.771,null,21.771,19.811,null,21.771,18.207,null,18.207,11.515,null,18.207,12.294,null,18.207,18.265,null,18.207,15.259,null,15.259,12.294,null,12.294,7.873,null,12.294,11.515,null,12.294,8.868,null,8.868,6.073,null,6.073,7.873,null,6.073,7.462,null,6.073,2.914,null,2.914,0.134,null,0.134,-2.391,null,-2.391,-0.298,null,-0.298,4.595,null,-0.298,8.262,null,-0.298,1.131,null,1.131,4.595,null,4.595,7.873,null,7.873,13.205,null,7.873,8.262,null,8.262,11.515,null,11.515,18.265,null,11.515,11.14,null,11.14,14.561,null,14.561,18.265,null,18.265,19.811,null,19.811,23.261,null,19.811,21.179,null,19.811,24.822,null,19.811,21.835,null,19.811,21.701,null,21.701,24.683,null,24.683,25.078,null,25.078,24.822,null,24.822,21.835,null,24.822,23.261,null,24.822,23.476,null,23.476,21.179,null,21.179,15.127,null,21.179,23.261,null,21.179,21.835,null,21.179,14.583,null,21.179,23.428,null,21.179,20.091,null,23.428,22.674,null,23.428,23.261,null,23.428,20.582,null,23.428,26.273,null,20.582,19.213,null,20.582,15.127,null,20.582,22.674,null,20.582,26.273,null,20.582,17.367,null,17.367,14.583,null,14.583,15.127,null,14.583,20.091,null,14.583,10.82,null,10.82,7.462,null,7.462,3.039,null,7.462,1.622,null,7.462,4.683,null,4.683,1.622,null,4.683,5.348,null,4.683,11.382,null,4.683,11.962,null,4.683,3.199,null,1.622,-1.809,null,-1.809,-0.365,null,-0.365,-0.575,null,-0.575,-4.915,null,-0.575,2.023,null,2.023,1.968,null,1.968,2.911,null,2.911,0.272,null,0.272,2.828,null,2.828,3.039,null,3.039,5.348,null,5.348,11.382,null,5.348,3.199,null,5.348,11.962,null,5.348,9.014,null,9.014,11.382,null,11.382,14.095,null,11.382,15.684,null,11.382,11.962,null,11.382,15.127,null,15.127,22.674,null,15.127,20.091,null,15.127,14.964,null,15.127,15.684,null,15.684,14.095,null,15.684,16.869,null,15.684,13.594,null,15.684,9.868,null,15.684,19.213,null,19.213,14.964,null,19.213,19.945,null,19.213,15.426,null,19.213,14.629,null,19.213,23.27,null,19.213,26.273,null,19.213,20.093,null,20.093,23.309,null,23.309,21.806,null,23.309,22.662,null,22.662,20.586,null,20.586,16.869,null,16.869,9.868,null,16.869,15.076,null,15.076,13.205,null,13.205,9.45,null,9.45,9.743,null,9.743,8.06,null,8.06,9.868,null,9.868,13.594,null,9.868,10.097,null,9.868,13.562,null,9.868,8.303,null,8.303,10.097,null,10.097,14.095,null,10.097,10.373,null,10.373,11.382,null,11.382,3.199,null,11.382,11.25,null,11.382,8.571,null,11.382,14.629,null,14.629,18.616,null,14.629,23.27,null,14.629,14.964,null,14.629,19.945,null,14.629,15.426,null,14.629,13.886,null,13.886,13.722,null,13.722,10.562,null,13.722,8.571,null,13.722,11.962,null,13.722,8.392,null,13.722,15.553,null,15.553,22.674,null,15.553,17.367,null,15.553,20.091,null,15.553,14.259,null,15.553,18.42,null,15.553,13.755,null,13.755,14.259,null,14.259,17.228,null,14.259,20.091,null,14.259,18.42,null,14.259,12.584,null,12.584,12.967,null,12.967,11.687,null,11.687,8.177,null,8.177,8.11,null,8.11,8.476,null,8.476,10.062,null,10.062,10.562,null,10.562,12.036,null,12.036,11.962,null,11.962,3.199,null,11.962,8.571,null,11.962,14.964,null,14.964,17.367,null,14.964,18.616,null,14.964,23.27,null,14.964,14.095,null,14.095,15.426,null,15.426,19.945,null,15.426,13.594,null,13.594,13.562,null,13.594,11.68,null,11.68,14.147,null,14.147,13.1,null,13.1,13.562,null,13.562,16.978,null,16.978,18.715,null,18.715,21.806,null,21.806,20.159,null,20.159,18.509,null,18.509,20.978,null,20.978,19.945,null,19.945,26.999,null,19.945,17.272,null,17.272,17.119,null,17.119,18.616,null,18.616,17.367,null,18.616,23.27,null,18.616,21.449,null,21.449,22.696,null,22.696,23.27,null,23.27,26.273,null,23.27,26.999,null,26.999,29.546,null,26.999,26.273,null,26.999,27.87,null,27.87,29.546,null,29.546,26.273,null,26.273,22.674,null,26.273,24.18,null,24.18,26.662,null,26.662,26.504,null,26.504,22.674,null,22.674,20.091,null,22.674,17.367,null,22.674,22.643,null,22.643,25.278,null,25.278,23.261,null,23.261,21.835,null,23.261,20.091,null,20.091,18.42,null,20.091,21.835,null,20.091,17.228,null,20.091,22.009,null,22.009,23.718,null,23.718,21.835,null,21.835,17.228,null,21.835,19.616,null,19.616,22.514,null,22.514,22.243,null,22.243,18.497,null,18.497,17.247,null,17.247,14.574,null,14.574,15.395,null,15.395,17.077,null,17.077,17.228,null,17.228,18.42,null,17.228,17.985,null,17.985,18.42,null,18.42,16.843,null,16.843,17.929,null,17.929,17.367,null,17.367,14.437,null,14.437,13.683,null,13.683,11.25,null,11.25,8.249,null,8.249,8.392,null,8.392,8.571,null,8.571,5.475,null,5.475,3.518,null,3.518,4.441,null,4.441,3.199,null,3.199,-2.44,null,3.199,-0.131,null,-0.131,-0.801,null,-0.801,-0.081,null,-0.081,-2.44,null,-2.44,-5.237,null,-5.237,-4.743,null,-4.743,-4.915,null,-4.915,-8.344,null,-8.344,-9.396,null],\"type\":\"scatter3d\"}],                        {\"height\":650,\"margin\":{\"t\":100},\"scene\":{\"xaxis\":{\"showbackground\":false,\"showgrid\":false,\"showline\":false,\"showticklabels\":false,\"title\":{\"text\":\"\"},\"zeroline\":false},\"yaxis\":{\"showbackground\":false,\"showgrid\":false,\"showline\":false,\"showticklabels\":false,\"title\":{\"text\":\"\"},\"zeroline\":false},\"zaxis\":{\"showbackground\":false,\"showgrid\":false,\"showline\":false,\"showticklabels\":false,\"title\":{\"text\":\"\"},\"zeroline\":false}},\"showlegend\":false,\"width\":620,\"template\":{\"data\":{\"bar\":[{\"error_x\":{\"color\":\"#2a3f5f\"},\"error_y\":{\"color\":\"#2a3f5f\"},\"marker\":{\"line\":{\"color\":\"#E5ECF6\",\"width\":0.5},\"pattern\":{\"fillmode\":\"overlay\",\"size\":10,\"solidity\":0.2}},\"type\":\"bar\"}],\"barpolar\":[{\"marker\":{\"line\":{\"color\":\"#E5ECF6\",\"width\":0.5},\"pattern\":{\"fillmode\":\"overlay\",\"size\":10,\"solidity\":0.2}},\"type\":\"barpolar\"}],\"carpet\":[{\"aaxis\":{\"endlinecolor\":\"#2a3f5f\",\"gridcolor\":\"white\",\"linecolor\":\"white\",\"minorgridcolor\":\"white\",\"startlinecolor\":\"#2a3f5f\"},\"baxis\":{\"endlinecolor\":\"#2a3f5f\",\"gridcolor\":\"white\",\"linecolor\":\"white\",\"minorgridcolor\":\"white\",\"startlinecolor\":\"#2a3f5f\"},\"type\":\"carpet\"}],\"choropleth\":[{\"colorbar\":{\"outlinewidth\":0,\"ticks\":\"\"},\"type\":\"choropleth\"}],\"contour\":[{\"colorbar\":{\"outlinewidth\":0,\"ticks\":\"\"},\"colorscale\":[[0.0,\"#0d0887\"],[0.1111111111111111,\"#46039f\"],[0.2222222222222222,\"#7201a8\"],[0.3333333333333333,\"#9c179e\"],[0.4444444444444444,\"#bd3786\"],[0.5555555555555556,\"#d8576b\"],[0.6666666666666666,\"#ed7953\"],[0.7777777777777778,\"#fb9f3a\"],[0.8888888888888888,\"#fdca26\"],[1.0,\"#f0f921\"]],\"type\":\"contour\"}],\"contourcarpet\":[{\"colorbar\":{\"outlinewidth\":0,\"ticks\":\"\"},\"type\":\"contourcarpet\"}],\"heatmap\":[{\"colorbar\":{\"outlinewidth\":0,\"ticks\":\"\"},\"colorscale\":[[0.0,\"#0d0887\"],[0.1111111111111111,\"#46039f\"],[0.2222222222222222,\"#7201a8\"],[0.3333333333333333,\"#9c179e\"],[0.4444444444444444,\"#bd3786\"],[0.5555555555555556,\"#d8576b\"],[0.6666666666666666,\"#ed7953\"],[0.7777777777777778,\"#fb9f3a\"],[0.8888888888888888,\"#fdca26\"],[1.0,\"#f0f921\"]],\"type\":\"heatmap\"}],\"heatmapgl\":[{\"colorbar\":{\"outlinewidth\":0,\"ticks\":\"\"},\"colorscale\":[[0.0,\"#0d0887\"],[0.1111111111111111,\"#46039f\"],[0.2222222222222222,\"#7201a8\"],[0.3333333333333333,\"#9c179e\"],[0.4444444444444444,\"#bd3786\"],[0.5555555555555556,\"#d8576b\"],[0.6666666666666666,\"#ed7953\"],[0.7777777777777778,\"#fb9f3a\"],[0.8888888888888888,\"#fdca26\"],[1.0,\"#f0f921\"]],\"type\":\"heatmapgl\"}],\"histogram\":[{\"marker\":{\"pattern\":{\"fillmode\":\"overlay\",\"size\":10,\"solidity\":0.2}},\"type\":\"histogram\"}],\"histogram2d\":[{\"colorbar\":{\"outlinewidth\":0,\"ticks\":\"\"},\"colorscale\":[[0.0,\"#0d0887\"],[0.1111111111111111,\"#46039f\"],[0.2222222222222222,\"#7201a8\"],[0.3333333333333333,\"#9c179e\"],[0.4444444444444444,\"#bd3786\"],[0.5555555555555556,\"#d8576b\"],[0.6666666666666666,\"#ed7953\"],[0.7777777777777778,\"#fb9f3a\"],[0.8888888888888888,\"#fdca26\"],[1.0,\"#f0f921\"]],\"type\":\"histogram2d\"}],\"histogram2dcontour\":[{\"colorbar\":{\"outlinewidth\":0,\"ticks\":\"\"},\"colorscale\":[[0.0,\"#0d0887\"],[0.1111111111111111,\"#46039f\"],[0.2222222222222222,\"#7201a8\"],[0.3333333333333333,\"#9c179e\"],[0.4444444444444444,\"#bd3786\"],[0.5555555555555556,\"#d8576b\"],[0.6666666666666666,\"#ed7953\"],[0.7777777777777778,\"#fb9f3a\"],[0.8888888888888888,\"#fdca26\"],[1.0,\"#f0f921\"]],\"type\":\"histogram2dcontour\"}],\"mesh3d\":[{\"colorbar\":{\"outlinewidth\":0,\"ticks\":\"\"},\"type\":\"mesh3d\"}],\"parcoords\":[{\"line\":{\"colorbar\":{\"outlinewidth\":0,\"ticks\":\"\"}},\"type\":\"parcoords\"}],\"pie\":[{\"automargin\":true,\"type\":\"pie\"}],\"scatter\":[{\"marker\":{\"colorbar\":{\"outlinewidth\":0,\"ticks\":\"\"}},\"type\":\"scatter\"}],\"scatter3d\":[{\"line\":{\"colorbar\":{\"outlinewidth\":0,\"ticks\":\"\"}},\"marker\":{\"colorbar\":{\"outlinewidth\":0,\"ticks\":\"\"}},\"type\":\"scatter3d\"}],\"scattercarpet\":[{\"marker\":{\"colorbar\":{\"outlinewidth\":0,\"ticks\":\"\"}},\"type\":\"scattercarpet\"}],\"scattergeo\":[{\"marker\":{\"colorbar\":{\"outlinewidth\":0,\"ticks\":\"\"}},\"type\":\"scattergeo\"}],\"scattergl\":[{\"marker\":{\"colorbar\":{\"outlinewidth\":0,\"ticks\":\"\"}},\"type\":\"scattergl\"}],\"scattermapbox\":[{\"marker\":{\"colorbar\":{\"outlinewidth\":0,\"ticks\":\"\"}},\"type\":\"scattermapbox\"}],\"scatterpolar\":[{\"marker\":{\"colorbar\":{\"outlinewidth\":0,\"ticks\":\"\"}},\"type\":\"scatterpolar\"}],\"scatterpolargl\":[{\"marker\":{\"colorbar\":{\"outlinewidth\":0,\"ticks\":\"\"}},\"type\":\"scatterpolargl\"}],\"scatterternary\":[{\"marker\":{\"colorbar\":{\"outlinewidth\":0,\"ticks\":\"\"}},\"type\":\"scatterternary\"}],\"surface\":[{\"colorbar\":{\"outlinewidth\":0,\"ticks\":\"\"},\"colorscale\":[[0.0,\"#0d0887\"],[0.1111111111111111,\"#46039f\"],[0.2222222222222222,\"#7201a8\"],[0.3333333333333333,\"#9c179e\"],[0.4444444444444444,\"#bd3786\"],[0.5555555555555556,\"#d8576b\"],[0.6666666666666666,\"#ed7953\"],[0.7777777777777778,\"#fb9f3a\"],[0.8888888888888888,\"#fdca26\"],[1.0,\"#f0f921\"]],\"type\":\"surface\"}],\"table\":[{\"cells\":{\"fill\":{\"color\":\"#EBF0F8\"},\"line\":{\"color\":\"white\"}},\"header\":{\"fill\":{\"color\":\"#C8D4E3\"},\"line\":{\"color\":\"white\"}},\"type\":\"table\"}]},\"layout\":{\"annotationdefaults\":{\"arrowcolor\":\"#2a3f5f\",\"arrowhead\":0,\"arrowwidth\":1},\"autotypenumbers\":\"strict\",\"coloraxis\":{\"colorbar\":{\"outlinewidth\":0,\"ticks\":\"\"}},\"colorscale\":{\"diverging\":[[0,\"#8e0152\"],[0.1,\"#c51b7d\"],[0.2,\"#de77ae\"],[0.3,\"#f1b6da\"],[0.4,\"#fde0ef\"],[0.5,\"#f7f7f7\"],[0.6,\"#e6f5d0\"],[0.7,\"#b8e186\"],[0.8,\"#7fbc41\"],[0.9,\"#4d9221\"],[1,\"#276419\"]],\"sequential\":[[0.0,\"#0d0887\"],[0.1111111111111111,\"#46039f\"],[0.2222222222222222,\"#7201a8\"],[0.3333333333333333,\"#9c179e\"],[0.4444444444444444,\"#bd3786\"],[0.5555555555555556,\"#d8576b\"],[0.6666666666666666,\"#ed7953\"],[0.7777777777777778,\"#fb9f3a\"],[0.8888888888888888,\"#fdca26\"],[1.0,\"#f0f921\"]],\"sequentialminus\":[[0.0,\"#0d0887\"],[0.1111111111111111,\"#46039f\"],[0.2222222222222222,\"#7201a8\"],[0.3333333333333333,\"#9c179e\"],[0.4444444444444444,\"#bd3786\"],[0.5555555555555556,\"#d8576b\"],[0.6666666666666666,\"#ed7953\"],[0.7777777777777778,\"#fb9f3a\"],[0.8888888888888888,\"#fdca26\"],[1.0,\"#f0f921\"]]},\"colorway\":[\"#636efa\",\"#EF553B\",\"#00cc96\",\"#ab63fa\",\"#FFA15A\",\"#19d3f3\",\"#FF6692\",\"#B6E880\",\"#FF97FF\",\"#FECB52\"],\"font\":{\"color\":\"#2a3f5f\"},\"geo\":{\"bgcolor\":\"white\",\"lakecolor\":\"white\",\"landcolor\":\"#E5ECF6\",\"showlakes\":true,\"showland\":true,\"subunitcolor\":\"white\"},\"hoverlabel\":{\"align\":\"left\"},\"hovermode\":\"closest\",\"mapbox\":{\"style\":\"light\"},\"paper_bgcolor\":\"white\",\"plot_bgcolor\":\"#E5ECF6\",\"polar\":{\"angularaxis\":{\"gridcolor\":\"white\",\"linecolor\":\"white\",\"ticks\":\"\"},\"bgcolor\":\"#E5ECF6\",\"radialaxis\":{\"gridcolor\":\"white\",\"linecolor\":\"white\",\"ticks\":\"\"}},\"scene\":{\"xaxis\":{\"backgroundcolor\":\"#E5ECF6\",\"gridcolor\":\"white\",\"gridwidth\":2,\"linecolor\":\"white\",\"showbackground\":true,\"ticks\":\"\",\"zerolinecolor\":\"white\"},\"yaxis\":{\"backgroundcolor\":\"#E5ECF6\",\"gridcolor\":\"white\",\"gridwidth\":2,\"linecolor\":\"white\",\"showbackground\":true,\"ticks\":\"\",\"zerolinecolor\":\"white\"},\"zaxis\":{\"backgroundcolor\":\"#E5ECF6\",\"gridcolor\":\"white\",\"gridwidth\":2,\"linecolor\":\"white\",\"showbackground\":true,\"ticks\":\"\",\"zerolinecolor\":\"white\"}},\"shapedefaults\":{\"line\":{\"color\":\"#2a3f5f\"}},\"ternary\":{\"aaxis\":{\"gridcolor\":\"white\",\"linecolor\":\"white\",\"ticks\":\"\"},\"baxis\":{\"gridcolor\":\"white\",\"linecolor\":\"white\",\"ticks\":\"\"},\"bgcolor\":\"#E5ECF6\",\"caxis\":{\"gridcolor\":\"white\",\"linecolor\":\"white\",\"ticks\":\"\"}},\"title\":{\"x\":0.05},\"xaxis\":{\"automargin\":true,\"gridcolor\":\"white\",\"linecolor\":\"white\",\"ticks\":\"\",\"title\":{\"standoff\":15},\"zerolinecolor\":\"white\",\"zerolinewidth\":2},\"yaxis\":{\"automargin\":true,\"gridcolor\":\"white\",\"linecolor\":\"white\",\"ticks\":\"\",\"title\":{\"standoff\":15},\"zerolinecolor\":\"white\",\"zerolinewidth\":2}}}},                        {\"responsive\": true}                    ).then(function(){\n",
              "                            \n",
              "var gd = document.getElementById('05e0f52b-30cd-4588-853c-fb8572020a97');\n",
              "var x = new MutationObserver(function (mutations, observer) {{\n",
              "        var display = window.getComputedStyle(gd).display;\n",
              "        if (!display || display === 'none') {{\n",
              "            console.log([gd, 'removed!']);\n",
              "            Plotly.purge(gd);\n",
              "            observer.disconnect();\n",
              "        }}\n",
              "}});\n",
              "\n",
              "// Listen for the removal of the full notebook cells\n",
              "var notebookContainer = gd.closest('#notebook-container');\n",
              "if (notebookContainer) {{\n",
              "    x.observe(notebookContainer, {childList: true});\n",
              "}}\n",
              "\n",
              "// Listen for the clearing of the current output cell\n",
              "var outputEl = gd.closest('.output');\n",
              "if (outputEl) {{\n",
              "    x.observe(outputEl, {childList: true});\n",
              "}}\n",
              "\n",
              "                        })                };                            </script>        </div>\n",
              "</body>\n",
              "</html>"
            ]
          },
          "metadata": {}
        }
      ]
    },
    {
      "cell_type": "code",
      "source": [
        "from graphein.protein.analysis import plot_residue_composition\n",
        "\n",
        "fig = plot_residue_composition(g, sort_by=\"count\", plot_type=\"pie\") # Can also sort by \"alphabetical\"\n",
        "fig.show()"
      ],
      "metadata": {
        "colab": {
          "base_uri": "https://localhost:8080/",
          "height": 542
        },
        "id": "KPwoP5eBz3cM",
        "outputId": "fa27e7da-66f7-46be-e94e-6cdcc79479fc"
      },
      "execution_count": 16,
      "outputs": [
        {
          "output_type": "display_data",
          "data": {
            "text/html": [
              "<html>\n",
              "<head><meta charset=\"utf-8\" /></head>\n",
              "<body>\n",
              "    <div>            <script src=\"https://cdnjs.cloudflare.com/ajax/libs/mathjax/2.7.5/MathJax.js?config=TeX-AMS-MML_SVG\"></script><script type=\"text/javascript\">if (window.MathJax) {MathJax.Hub.Config({SVG: {font: \"STIX-Web\"}});}</script>                <script type=\"text/javascript\">window.PlotlyConfig = {MathJaxConfig: 'local'};</script>\n",
              "        <script src=\"https://cdn.plot.ly/plotly-2.8.3.min.js\"></script>                <div id=\"efcbae1f-35eb-40cc-b141-e354a244aaf7\" class=\"plotly-graph-div\" style=\"height:525px; width:100%;\"></div>            <script type=\"text/javascript\">                                    window.PLOTLYENV=window.PLOTLYENV || {};                                    if (document.getElementById(\"efcbae1f-35eb-40cc-b141-e354a244aaf7\")) {                    Plotly.newPlot(                        \"efcbae1f-35eb-40cc-b141-e354a244aaf7\",                        [{\"domain\":{\"x\":[0.0,1.0],\"y\":[0.0,1.0]},\"hovertemplate\":\"index=%{label}<br>counts=%{value}<extra></extra>\",\"labels\":[\"VAL\",\"LYS\",\"ASP\",\"ALA\",\"GLY\",\"LEU\",\"PRO\",\"ILE\",\"PHE\",\"GLU\",\"SER\",\"THR\",\"TYR\",\"GLN\",\"ASN\",\"ARG\",\"MET\",\"HIS\",\"TRP\",\"CYS\"],\"legendgroup\":\"\",\"name\":\"\",\"showlegend\":true,\"values\":[19,16,16,15,14,14,12,10,8,8,7,6,5,5,5,4,4,3,2,1],\"type\":\"pie\"}],                        {\"template\":{\"data\":{\"bar\":[{\"error_x\":{\"color\":\"#2a3f5f\"},\"error_y\":{\"color\":\"#2a3f5f\"},\"marker\":{\"line\":{\"color\":\"#E5ECF6\",\"width\":0.5},\"pattern\":{\"fillmode\":\"overlay\",\"size\":10,\"solidity\":0.2}},\"type\":\"bar\"}],\"barpolar\":[{\"marker\":{\"line\":{\"color\":\"#E5ECF6\",\"width\":0.5},\"pattern\":{\"fillmode\":\"overlay\",\"size\":10,\"solidity\":0.2}},\"type\":\"barpolar\"}],\"carpet\":[{\"aaxis\":{\"endlinecolor\":\"#2a3f5f\",\"gridcolor\":\"white\",\"linecolor\":\"white\",\"minorgridcolor\":\"white\",\"startlinecolor\":\"#2a3f5f\"},\"baxis\":{\"endlinecolor\":\"#2a3f5f\",\"gridcolor\":\"white\",\"linecolor\":\"white\",\"minorgridcolor\":\"white\",\"startlinecolor\":\"#2a3f5f\"},\"type\":\"carpet\"}],\"choropleth\":[{\"colorbar\":{\"outlinewidth\":0,\"ticks\":\"\"},\"type\":\"choropleth\"}],\"contour\":[{\"colorbar\":{\"outlinewidth\":0,\"ticks\":\"\"},\"colorscale\":[[0.0,\"#0d0887\"],[0.1111111111111111,\"#46039f\"],[0.2222222222222222,\"#7201a8\"],[0.3333333333333333,\"#9c179e\"],[0.4444444444444444,\"#bd3786\"],[0.5555555555555556,\"#d8576b\"],[0.6666666666666666,\"#ed7953\"],[0.7777777777777778,\"#fb9f3a\"],[0.8888888888888888,\"#fdca26\"],[1.0,\"#f0f921\"]],\"type\":\"contour\"}],\"contourcarpet\":[{\"colorbar\":{\"outlinewidth\":0,\"ticks\":\"\"},\"type\":\"contourcarpet\"}],\"heatmap\":[{\"colorbar\":{\"outlinewidth\":0,\"ticks\":\"\"},\"colorscale\":[[0.0,\"#0d0887\"],[0.1111111111111111,\"#46039f\"],[0.2222222222222222,\"#7201a8\"],[0.3333333333333333,\"#9c179e\"],[0.4444444444444444,\"#bd3786\"],[0.5555555555555556,\"#d8576b\"],[0.6666666666666666,\"#ed7953\"],[0.7777777777777778,\"#fb9f3a\"],[0.8888888888888888,\"#fdca26\"],[1.0,\"#f0f921\"]],\"type\":\"heatmap\"}],\"heatmapgl\":[{\"colorbar\":{\"outlinewidth\":0,\"ticks\":\"\"},\"colorscale\":[[0.0,\"#0d0887\"],[0.1111111111111111,\"#46039f\"],[0.2222222222222222,\"#7201a8\"],[0.3333333333333333,\"#9c179e\"],[0.4444444444444444,\"#bd3786\"],[0.5555555555555556,\"#d8576b\"],[0.6666666666666666,\"#ed7953\"],[0.7777777777777778,\"#fb9f3a\"],[0.8888888888888888,\"#fdca26\"],[1.0,\"#f0f921\"]],\"type\":\"heatmapgl\"}],\"histogram\":[{\"marker\":{\"pattern\":{\"fillmode\":\"overlay\",\"size\":10,\"solidity\":0.2}},\"type\":\"histogram\"}],\"histogram2d\":[{\"colorbar\":{\"outlinewidth\":0,\"ticks\":\"\"},\"colorscale\":[[0.0,\"#0d0887\"],[0.1111111111111111,\"#46039f\"],[0.2222222222222222,\"#7201a8\"],[0.3333333333333333,\"#9c179e\"],[0.4444444444444444,\"#bd3786\"],[0.5555555555555556,\"#d8576b\"],[0.6666666666666666,\"#ed7953\"],[0.7777777777777778,\"#fb9f3a\"],[0.8888888888888888,\"#fdca26\"],[1.0,\"#f0f921\"]],\"type\":\"histogram2d\"}],\"histogram2dcontour\":[{\"colorbar\":{\"outlinewidth\":0,\"ticks\":\"\"},\"colorscale\":[[0.0,\"#0d0887\"],[0.1111111111111111,\"#46039f\"],[0.2222222222222222,\"#7201a8\"],[0.3333333333333333,\"#9c179e\"],[0.4444444444444444,\"#bd3786\"],[0.5555555555555556,\"#d8576b\"],[0.6666666666666666,\"#ed7953\"],[0.7777777777777778,\"#fb9f3a\"],[0.8888888888888888,\"#fdca26\"],[1.0,\"#f0f921\"]],\"type\":\"histogram2dcontour\"}],\"mesh3d\":[{\"colorbar\":{\"outlinewidth\":0,\"ticks\":\"\"},\"type\":\"mesh3d\"}],\"parcoords\":[{\"line\":{\"colorbar\":{\"outlinewidth\":0,\"ticks\":\"\"}},\"type\":\"parcoords\"}],\"pie\":[{\"automargin\":true,\"type\":\"pie\"}],\"scatter\":[{\"marker\":{\"colorbar\":{\"outlinewidth\":0,\"ticks\":\"\"}},\"type\":\"scatter\"}],\"scatter3d\":[{\"line\":{\"colorbar\":{\"outlinewidth\":0,\"ticks\":\"\"}},\"marker\":{\"colorbar\":{\"outlinewidth\":0,\"ticks\":\"\"}},\"type\":\"scatter3d\"}],\"scattercarpet\":[{\"marker\":{\"colorbar\":{\"outlinewidth\":0,\"ticks\":\"\"}},\"type\":\"scattercarpet\"}],\"scattergeo\":[{\"marker\":{\"colorbar\":{\"outlinewidth\":0,\"ticks\":\"\"}},\"type\":\"scattergeo\"}],\"scattergl\":[{\"marker\":{\"colorbar\":{\"outlinewidth\":0,\"ticks\":\"\"}},\"type\":\"scattergl\"}],\"scattermapbox\":[{\"marker\":{\"colorbar\":{\"outlinewidth\":0,\"ticks\":\"\"}},\"type\":\"scattermapbox\"}],\"scatterpolar\":[{\"marker\":{\"colorbar\":{\"outlinewidth\":0,\"ticks\":\"\"}},\"type\":\"scatterpolar\"}],\"scatterpolargl\":[{\"marker\":{\"colorbar\":{\"outlinewidth\":0,\"ticks\":\"\"}},\"type\":\"scatterpolargl\"}],\"scatterternary\":[{\"marker\":{\"colorbar\":{\"outlinewidth\":0,\"ticks\":\"\"}},\"type\":\"scatterternary\"}],\"surface\":[{\"colorbar\":{\"outlinewidth\":0,\"ticks\":\"\"},\"colorscale\":[[0.0,\"#0d0887\"],[0.1111111111111111,\"#46039f\"],[0.2222222222222222,\"#7201a8\"],[0.3333333333333333,\"#9c179e\"],[0.4444444444444444,\"#bd3786\"],[0.5555555555555556,\"#d8576b\"],[0.6666666666666666,\"#ed7953\"],[0.7777777777777778,\"#fb9f3a\"],[0.8888888888888888,\"#fdca26\"],[1.0,\"#f0f921\"]],\"type\":\"surface\"}],\"table\":[{\"cells\":{\"fill\":{\"color\":\"#EBF0F8\"},\"line\":{\"color\":\"white\"}},\"header\":{\"fill\":{\"color\":\"#C8D4E3\"},\"line\":{\"color\":\"white\"}},\"type\":\"table\"}]},\"layout\":{\"annotationdefaults\":{\"arrowcolor\":\"#2a3f5f\",\"arrowhead\":0,\"arrowwidth\":1},\"autotypenumbers\":\"strict\",\"coloraxis\":{\"colorbar\":{\"outlinewidth\":0,\"ticks\":\"\"}},\"colorscale\":{\"diverging\":[[0,\"#8e0152\"],[0.1,\"#c51b7d\"],[0.2,\"#de77ae\"],[0.3,\"#f1b6da\"],[0.4,\"#fde0ef\"],[0.5,\"#f7f7f7\"],[0.6,\"#e6f5d0\"],[0.7,\"#b8e186\"],[0.8,\"#7fbc41\"],[0.9,\"#4d9221\"],[1,\"#276419\"]],\"sequential\":[[0.0,\"#0d0887\"],[0.1111111111111111,\"#46039f\"],[0.2222222222222222,\"#7201a8\"],[0.3333333333333333,\"#9c179e\"],[0.4444444444444444,\"#bd3786\"],[0.5555555555555556,\"#d8576b\"],[0.6666666666666666,\"#ed7953\"],[0.7777777777777778,\"#fb9f3a\"],[0.8888888888888888,\"#fdca26\"],[1.0,\"#f0f921\"]],\"sequentialminus\":[[0.0,\"#0d0887\"],[0.1111111111111111,\"#46039f\"],[0.2222222222222222,\"#7201a8\"],[0.3333333333333333,\"#9c179e\"],[0.4444444444444444,\"#bd3786\"],[0.5555555555555556,\"#d8576b\"],[0.6666666666666666,\"#ed7953\"],[0.7777777777777778,\"#fb9f3a\"],[0.8888888888888888,\"#fdca26\"],[1.0,\"#f0f921\"]]},\"colorway\":[\"#636efa\",\"#EF553B\",\"#00cc96\",\"#ab63fa\",\"#FFA15A\",\"#19d3f3\",\"#FF6692\",\"#B6E880\",\"#FF97FF\",\"#FECB52\"],\"font\":{\"color\":\"#2a3f5f\"},\"geo\":{\"bgcolor\":\"white\",\"lakecolor\":\"white\",\"landcolor\":\"#E5ECF6\",\"showlakes\":true,\"showland\":true,\"subunitcolor\":\"white\"},\"hoverlabel\":{\"align\":\"left\"},\"hovermode\":\"closest\",\"mapbox\":{\"style\":\"light\"},\"paper_bgcolor\":\"white\",\"plot_bgcolor\":\"#E5ECF6\",\"polar\":{\"angularaxis\":{\"gridcolor\":\"white\",\"linecolor\":\"white\",\"ticks\":\"\"},\"bgcolor\":\"#E5ECF6\",\"radialaxis\":{\"gridcolor\":\"white\",\"linecolor\":\"white\",\"ticks\":\"\"}},\"scene\":{\"xaxis\":{\"backgroundcolor\":\"#E5ECF6\",\"gridcolor\":\"white\",\"gridwidth\":2,\"linecolor\":\"white\",\"showbackground\":true,\"ticks\":\"\",\"zerolinecolor\":\"white\"},\"yaxis\":{\"backgroundcolor\":\"#E5ECF6\",\"gridcolor\":\"white\",\"gridwidth\":2,\"linecolor\":\"white\",\"showbackground\":true,\"ticks\":\"\",\"zerolinecolor\":\"white\"},\"zaxis\":{\"backgroundcolor\":\"#E5ECF6\",\"gridcolor\":\"white\",\"gridwidth\":2,\"linecolor\":\"white\",\"showbackground\":true,\"ticks\":\"\",\"zerolinecolor\":\"white\"}},\"shapedefaults\":{\"line\":{\"color\":\"#2a3f5f\"}},\"ternary\":{\"aaxis\":{\"gridcolor\":\"white\",\"linecolor\":\"white\",\"ticks\":\"\"},\"baxis\":{\"gridcolor\":\"white\",\"linecolor\":\"white\",\"ticks\":\"\"},\"bgcolor\":\"#E5ECF6\",\"caxis\":{\"gridcolor\":\"white\",\"linecolor\":\"white\",\"ticks\":\"\"}},\"title\":{\"x\":0.05},\"xaxis\":{\"automargin\":true,\"gridcolor\":\"white\",\"linecolor\":\"white\",\"ticks\":\"\",\"title\":{\"standoff\":15},\"zerolinecolor\":\"white\",\"zerolinewidth\":2},\"yaxis\":{\"automargin\":true,\"gridcolor\":\"white\",\"linecolor\":\"white\",\"ticks\":\"\",\"title\":{\"standoff\":15},\"zerolinecolor\":\"white\",\"zerolinewidth\":2}}},\"legend\":{\"tracegroupgap\":0},\"title\":{\"text\":\"3eiy - Residue Composition\"}},                        {\"responsive\": true}                    ).then(function(){\n",
              "                            \n",
              "var gd = document.getElementById('efcbae1f-35eb-40cc-b141-e354a244aaf7');\n",
              "var x = new MutationObserver(function (mutations, observer) {{\n",
              "        var display = window.getComputedStyle(gd).display;\n",
              "        if (!display || display === 'none') {{\n",
              "            console.log([gd, 'removed!']);\n",
              "            Plotly.purge(gd);\n",
              "            observer.disconnect();\n",
              "        }}\n",
              "}});\n",
              "\n",
              "// Listen for the removal of the full notebook cells\n",
              "var notebookContainer = gd.closest('#notebook-container');\n",
              "if (notebookContainer) {{\n",
              "    x.observe(notebookContainer, {childList: true});\n",
              "}}\n",
              "\n",
              "// Listen for the clearing of the current output cell\n",
              "var outputEl = gd.closest('.output');\n",
              "if (outputEl) {{\n",
              "    x.observe(outputEl, {childList: true});\n",
              "}}\n",
              "\n",
              "                        })                };                            </script>        </div>\n",
              "</body>\n",
              "</html>"
            ]
          },
          "metadata": {}
        }
      ]
    },
    {
      "cell_type": "code",
      "source": [
        "fig = plot_residue_composition(g, sort_by=\"count\", plot_type=\"bar\")\n",
        "fig.show()"
      ],
      "metadata": {
        "colab": {
          "base_uri": "https://localhost:8080/",
          "height": 542
        },
        "id": "MAgMhouQz_CG",
        "outputId": "b44a8e91-7fcb-4e02-f61c-13c7b8e8499f"
      },
      "execution_count": 17,
      "outputs": [
        {
          "output_type": "display_data",
          "data": {
            "text/html": [
              "<html>\n",
              "<head><meta charset=\"utf-8\" /></head>\n",
              "<body>\n",
              "    <div>            <script src=\"https://cdnjs.cloudflare.com/ajax/libs/mathjax/2.7.5/MathJax.js?config=TeX-AMS-MML_SVG\"></script><script type=\"text/javascript\">if (window.MathJax) {MathJax.Hub.Config({SVG: {font: \"STIX-Web\"}});}</script>                <script type=\"text/javascript\">window.PlotlyConfig = {MathJaxConfig: 'local'};</script>\n",
              "        <script src=\"https://cdn.plot.ly/plotly-2.8.3.min.js\"></script>                <div id=\"ae075901-ae5b-40d3-9f35-232dd64521ed\" class=\"plotly-graph-div\" style=\"height:525px; width:100%;\"></div>            <script type=\"text/javascript\">                                    window.PLOTLYENV=window.PLOTLYENV || {};                                    if (document.getElementById(\"ae075901-ae5b-40d3-9f35-232dd64521ed\")) {                    Plotly.newPlot(                        \"ae075901-ae5b-40d3-9f35-232dd64521ed\",                        [{\"alignmentgroup\":\"True\",\"hovertemplate\":\"variable=counts<br>index=%{x}<br>value=%{y}<extra></extra>\",\"legendgroup\":\"counts\",\"marker\":{\"color\":\"#636efa\",\"pattern\":{\"shape\":\"\"}},\"name\":\"counts\",\"offsetgroup\":\"counts\",\"orientation\":\"v\",\"showlegend\":true,\"textposition\":\"auto\",\"x\":[\"VAL\",\"LYS\",\"ASP\",\"ALA\",\"GLY\",\"LEU\",\"PRO\",\"ILE\",\"PHE\",\"GLU\",\"SER\",\"THR\",\"TYR\",\"GLN\",\"ASN\",\"ARG\",\"MET\",\"HIS\",\"TRP\",\"CYS\"],\"xaxis\":\"x\",\"y\":[19,16,16,15,14,14,12,10,8,8,7,6,5,5,5,4,4,3,2,1],\"yaxis\":\"y\",\"type\":\"bar\"}],                        {\"template\":{\"data\":{\"bar\":[{\"error_x\":{\"color\":\"#2a3f5f\"},\"error_y\":{\"color\":\"#2a3f5f\"},\"marker\":{\"line\":{\"color\":\"#E5ECF6\",\"width\":0.5},\"pattern\":{\"fillmode\":\"overlay\",\"size\":10,\"solidity\":0.2}},\"type\":\"bar\"}],\"barpolar\":[{\"marker\":{\"line\":{\"color\":\"#E5ECF6\",\"width\":0.5},\"pattern\":{\"fillmode\":\"overlay\",\"size\":10,\"solidity\":0.2}},\"type\":\"barpolar\"}],\"carpet\":[{\"aaxis\":{\"endlinecolor\":\"#2a3f5f\",\"gridcolor\":\"white\",\"linecolor\":\"white\",\"minorgridcolor\":\"white\",\"startlinecolor\":\"#2a3f5f\"},\"baxis\":{\"endlinecolor\":\"#2a3f5f\",\"gridcolor\":\"white\",\"linecolor\":\"white\",\"minorgridcolor\":\"white\",\"startlinecolor\":\"#2a3f5f\"},\"type\":\"carpet\"}],\"choropleth\":[{\"colorbar\":{\"outlinewidth\":0,\"ticks\":\"\"},\"type\":\"choropleth\"}],\"contour\":[{\"colorbar\":{\"outlinewidth\":0,\"ticks\":\"\"},\"colorscale\":[[0.0,\"#0d0887\"],[0.1111111111111111,\"#46039f\"],[0.2222222222222222,\"#7201a8\"],[0.3333333333333333,\"#9c179e\"],[0.4444444444444444,\"#bd3786\"],[0.5555555555555556,\"#d8576b\"],[0.6666666666666666,\"#ed7953\"],[0.7777777777777778,\"#fb9f3a\"],[0.8888888888888888,\"#fdca26\"],[1.0,\"#f0f921\"]],\"type\":\"contour\"}],\"contourcarpet\":[{\"colorbar\":{\"outlinewidth\":0,\"ticks\":\"\"},\"type\":\"contourcarpet\"}],\"heatmap\":[{\"colorbar\":{\"outlinewidth\":0,\"ticks\":\"\"},\"colorscale\":[[0.0,\"#0d0887\"],[0.1111111111111111,\"#46039f\"],[0.2222222222222222,\"#7201a8\"],[0.3333333333333333,\"#9c179e\"],[0.4444444444444444,\"#bd3786\"],[0.5555555555555556,\"#d8576b\"],[0.6666666666666666,\"#ed7953\"],[0.7777777777777778,\"#fb9f3a\"],[0.8888888888888888,\"#fdca26\"],[1.0,\"#f0f921\"]],\"type\":\"heatmap\"}],\"heatmapgl\":[{\"colorbar\":{\"outlinewidth\":0,\"ticks\":\"\"},\"colorscale\":[[0.0,\"#0d0887\"],[0.1111111111111111,\"#46039f\"],[0.2222222222222222,\"#7201a8\"],[0.3333333333333333,\"#9c179e\"],[0.4444444444444444,\"#bd3786\"],[0.5555555555555556,\"#d8576b\"],[0.6666666666666666,\"#ed7953\"],[0.7777777777777778,\"#fb9f3a\"],[0.8888888888888888,\"#fdca26\"],[1.0,\"#f0f921\"]],\"type\":\"heatmapgl\"}],\"histogram\":[{\"marker\":{\"pattern\":{\"fillmode\":\"overlay\",\"size\":10,\"solidity\":0.2}},\"type\":\"histogram\"}],\"histogram2d\":[{\"colorbar\":{\"outlinewidth\":0,\"ticks\":\"\"},\"colorscale\":[[0.0,\"#0d0887\"],[0.1111111111111111,\"#46039f\"],[0.2222222222222222,\"#7201a8\"],[0.3333333333333333,\"#9c179e\"],[0.4444444444444444,\"#bd3786\"],[0.5555555555555556,\"#d8576b\"],[0.6666666666666666,\"#ed7953\"],[0.7777777777777778,\"#fb9f3a\"],[0.8888888888888888,\"#fdca26\"],[1.0,\"#f0f921\"]],\"type\":\"histogram2d\"}],\"histogram2dcontour\":[{\"colorbar\":{\"outlinewidth\":0,\"ticks\":\"\"},\"colorscale\":[[0.0,\"#0d0887\"],[0.1111111111111111,\"#46039f\"],[0.2222222222222222,\"#7201a8\"],[0.3333333333333333,\"#9c179e\"],[0.4444444444444444,\"#bd3786\"],[0.5555555555555556,\"#d8576b\"],[0.6666666666666666,\"#ed7953\"],[0.7777777777777778,\"#fb9f3a\"],[0.8888888888888888,\"#fdca26\"],[1.0,\"#f0f921\"]],\"type\":\"histogram2dcontour\"}],\"mesh3d\":[{\"colorbar\":{\"outlinewidth\":0,\"ticks\":\"\"},\"type\":\"mesh3d\"}],\"parcoords\":[{\"line\":{\"colorbar\":{\"outlinewidth\":0,\"ticks\":\"\"}},\"type\":\"parcoords\"}],\"pie\":[{\"automargin\":true,\"type\":\"pie\"}],\"scatter\":[{\"marker\":{\"colorbar\":{\"outlinewidth\":0,\"ticks\":\"\"}},\"type\":\"scatter\"}],\"scatter3d\":[{\"line\":{\"colorbar\":{\"outlinewidth\":0,\"ticks\":\"\"}},\"marker\":{\"colorbar\":{\"outlinewidth\":0,\"ticks\":\"\"}},\"type\":\"scatter3d\"}],\"scattercarpet\":[{\"marker\":{\"colorbar\":{\"outlinewidth\":0,\"ticks\":\"\"}},\"type\":\"scattercarpet\"}],\"scattergeo\":[{\"marker\":{\"colorbar\":{\"outlinewidth\":0,\"ticks\":\"\"}},\"type\":\"scattergeo\"}],\"scattergl\":[{\"marker\":{\"colorbar\":{\"outlinewidth\":0,\"ticks\":\"\"}},\"type\":\"scattergl\"}],\"scattermapbox\":[{\"marker\":{\"colorbar\":{\"outlinewidth\":0,\"ticks\":\"\"}},\"type\":\"scattermapbox\"}],\"scatterpolar\":[{\"marker\":{\"colorbar\":{\"outlinewidth\":0,\"ticks\":\"\"}},\"type\":\"scatterpolar\"}],\"scatterpolargl\":[{\"marker\":{\"colorbar\":{\"outlinewidth\":0,\"ticks\":\"\"}},\"type\":\"scatterpolargl\"}],\"scatterternary\":[{\"marker\":{\"colorbar\":{\"outlinewidth\":0,\"ticks\":\"\"}},\"type\":\"scatterternary\"}],\"surface\":[{\"colorbar\":{\"outlinewidth\":0,\"ticks\":\"\"},\"colorscale\":[[0.0,\"#0d0887\"],[0.1111111111111111,\"#46039f\"],[0.2222222222222222,\"#7201a8\"],[0.3333333333333333,\"#9c179e\"],[0.4444444444444444,\"#bd3786\"],[0.5555555555555556,\"#d8576b\"],[0.6666666666666666,\"#ed7953\"],[0.7777777777777778,\"#fb9f3a\"],[0.8888888888888888,\"#fdca26\"],[1.0,\"#f0f921\"]],\"type\":\"surface\"}],\"table\":[{\"cells\":{\"fill\":{\"color\":\"#EBF0F8\"},\"line\":{\"color\":\"white\"}},\"header\":{\"fill\":{\"color\":\"#C8D4E3\"},\"line\":{\"color\":\"white\"}},\"type\":\"table\"}]},\"layout\":{\"annotationdefaults\":{\"arrowcolor\":\"#2a3f5f\",\"arrowhead\":0,\"arrowwidth\":1},\"autotypenumbers\":\"strict\",\"coloraxis\":{\"colorbar\":{\"outlinewidth\":0,\"ticks\":\"\"}},\"colorscale\":{\"diverging\":[[0,\"#8e0152\"],[0.1,\"#c51b7d\"],[0.2,\"#de77ae\"],[0.3,\"#f1b6da\"],[0.4,\"#fde0ef\"],[0.5,\"#f7f7f7\"],[0.6,\"#e6f5d0\"],[0.7,\"#b8e186\"],[0.8,\"#7fbc41\"],[0.9,\"#4d9221\"],[1,\"#276419\"]],\"sequential\":[[0.0,\"#0d0887\"],[0.1111111111111111,\"#46039f\"],[0.2222222222222222,\"#7201a8\"],[0.3333333333333333,\"#9c179e\"],[0.4444444444444444,\"#bd3786\"],[0.5555555555555556,\"#d8576b\"],[0.6666666666666666,\"#ed7953\"],[0.7777777777777778,\"#fb9f3a\"],[0.8888888888888888,\"#fdca26\"],[1.0,\"#f0f921\"]],\"sequentialminus\":[[0.0,\"#0d0887\"],[0.1111111111111111,\"#46039f\"],[0.2222222222222222,\"#7201a8\"],[0.3333333333333333,\"#9c179e\"],[0.4444444444444444,\"#bd3786\"],[0.5555555555555556,\"#d8576b\"],[0.6666666666666666,\"#ed7953\"],[0.7777777777777778,\"#fb9f3a\"],[0.8888888888888888,\"#fdca26\"],[1.0,\"#f0f921\"]]},\"colorway\":[\"#636efa\",\"#EF553B\",\"#00cc96\",\"#ab63fa\",\"#FFA15A\",\"#19d3f3\",\"#FF6692\",\"#B6E880\",\"#FF97FF\",\"#FECB52\"],\"font\":{\"color\":\"#2a3f5f\"},\"geo\":{\"bgcolor\":\"white\",\"lakecolor\":\"white\",\"landcolor\":\"#E5ECF6\",\"showlakes\":true,\"showland\":true,\"subunitcolor\":\"white\"},\"hoverlabel\":{\"align\":\"left\"},\"hovermode\":\"closest\",\"mapbox\":{\"style\":\"light\"},\"paper_bgcolor\":\"white\",\"plot_bgcolor\":\"#E5ECF6\",\"polar\":{\"angularaxis\":{\"gridcolor\":\"white\",\"linecolor\":\"white\",\"ticks\":\"\"},\"bgcolor\":\"#E5ECF6\",\"radialaxis\":{\"gridcolor\":\"white\",\"linecolor\":\"white\",\"ticks\":\"\"}},\"scene\":{\"xaxis\":{\"backgroundcolor\":\"#E5ECF6\",\"gridcolor\":\"white\",\"gridwidth\":2,\"linecolor\":\"white\",\"showbackground\":true,\"ticks\":\"\",\"zerolinecolor\":\"white\"},\"yaxis\":{\"backgroundcolor\":\"#E5ECF6\",\"gridcolor\":\"white\",\"gridwidth\":2,\"linecolor\":\"white\",\"showbackground\":true,\"ticks\":\"\",\"zerolinecolor\":\"white\"},\"zaxis\":{\"backgroundcolor\":\"#E5ECF6\",\"gridcolor\":\"white\",\"gridwidth\":2,\"linecolor\":\"white\",\"showbackground\":true,\"ticks\":\"\",\"zerolinecolor\":\"white\"}},\"shapedefaults\":{\"line\":{\"color\":\"#2a3f5f\"}},\"ternary\":{\"aaxis\":{\"gridcolor\":\"white\",\"linecolor\":\"white\",\"ticks\":\"\"},\"baxis\":{\"gridcolor\":\"white\",\"linecolor\":\"white\",\"ticks\":\"\"},\"bgcolor\":\"#E5ECF6\",\"caxis\":{\"gridcolor\":\"white\",\"linecolor\":\"white\",\"ticks\":\"\"}},\"title\":{\"x\":0.05},\"xaxis\":{\"automargin\":true,\"gridcolor\":\"white\",\"linecolor\":\"white\",\"ticks\":\"\",\"title\":{\"standoff\":15},\"zerolinecolor\":\"white\",\"zerolinewidth\":2},\"yaxis\":{\"automargin\":true,\"gridcolor\":\"white\",\"linecolor\":\"white\",\"ticks\":\"\",\"title\":{\"standoff\":15},\"zerolinecolor\":\"white\",\"zerolinewidth\":2}}},\"xaxis\":{\"anchor\":\"y\",\"domain\":[0.0,1.0],\"title\":{\"text\":\"index\"}},\"yaxis\":{\"anchor\":\"x\",\"domain\":[0.0,1.0],\"title\":{\"text\":\"value\"}},\"legend\":{\"title\":{\"text\":\"variable\"},\"tracegroupgap\":0},\"title\":{\"text\":\"3eiy - Residue Composition\"},\"barmode\":\"relative\"},                        {\"responsive\": true}                    ).then(function(){\n",
              "                            \n",
              "var gd = document.getElementById('ae075901-ae5b-40d3-9f35-232dd64521ed');\n",
              "var x = new MutationObserver(function (mutations, observer) {{\n",
              "        var display = window.getComputedStyle(gd).display;\n",
              "        if (!display || display === 'none') {{\n",
              "            console.log([gd, 'removed!']);\n",
              "            Plotly.purge(gd);\n",
              "            observer.disconnect();\n",
              "        }}\n",
              "}});\n",
              "\n",
              "// Listen for the removal of the full notebook cells\n",
              "var notebookContainer = gd.closest('#notebook-container');\n",
              "if (notebookContainer) {{\n",
              "    x.observe(notebookContainer, {childList: true});\n",
              "}}\n",
              "\n",
              "// Listen for the clearing of the current output cell\n",
              "var outputEl = gd.closest('.output');\n",
              "if (outputEl) {{\n",
              "    x.observe(outputEl, {childList: true});\n",
              "}}\n",
              "\n",
              "                        })                };                            </script>        </div>\n",
              "</body>\n",
              "</html>"
            ]
          },
          "metadata": {}
        }
      ]
    },
    {
      "cell_type": "code",
      "source": [
        "from graphein.protein.analysis import graph_summary\n",
        "\n",
        "graph_summary(g)"
      ],
      "metadata": {
        "colab": {
          "base_uri": "https://localhost:8080/",
          "height": 455
        },
        "id": "zK1JDX5g0Cxp",
        "outputId": "9fa5e1d5-bcef-40cf-812f-7f49044062f0"
      },
      "execution_count": 18,
      "outputs": [
        {
          "output_type": "execute_result",
          "data": {
            "text/plain": [
              "           degree  betweenness_centrality  closeness_centrality  \\\n",
              "node                                                              \n",
              "A:SER:2       1.0                0.000000              0.178719   \n",
              "A:PHE:3       6.0                0.053228              0.217337   \n",
              "A:SER:4       2.0                0.002035              0.179461   \n",
              "A:ASN:5       2.0                0.000750              0.174220   \n",
              "A:VAL:6       5.0                0.017827              0.204734   \n",
              "...           ...                     ...                   ...   \n",
              "A:ALA:171     2.0                0.034513              0.170108   \n",
              "A:ASN:172     2.0                0.024214              0.147863   \n",
              "A:PHE:173     3.0                0.025774              0.135156   \n",
              "A:LYS:174     2.0                0.011561              0.119310   \n",
              "A:LYS:175     1.0                0.000000              0.106658   \n",
              "\n",
              "           eigenvector_centrality  communicability_betweenness_centrality  \\\n",
              "node                                                                        \n",
              "A:SER:2                  0.005605                                0.000954   \n",
              "A:PHE:3                  0.036304                                0.070745   \n",
              "A:SER:4                  0.006686                                0.003441   \n",
              "A:ASN:5                  0.007004                                0.002090   \n",
              "A:VAL:6                  0.038680                                0.026333   \n",
              "...                           ...                                     ...   \n",
              "A:ALA:171                0.008594                                0.037133   \n",
              "A:ASN:172                0.001368                                0.026655   \n",
              "A:PHE:173                0.000269                                0.026477   \n",
              "A:LYS:174                0.000043                                0.011769   \n",
              "A:LYS:175                0.000007                                0.000126   \n",
              "\n",
              "          residue_type position chain  \n",
              "node                                   \n",
              "A:SER:2            SER        2     A  \n",
              "A:PHE:3            PHE        3     A  \n",
              "A:SER:4            SER        4     A  \n",
              "A:ASN:5            ASN        5     A  \n",
              "A:VAL:6            VAL        6     A  \n",
              "...                ...      ...   ...  \n",
              "A:ALA:171          ALA      171     A  \n",
              "A:ASN:172          ASN      172     A  \n",
              "A:PHE:173          PHE      173     A  \n",
              "A:LYS:174          LYS      174     A  \n",
              "A:LYS:175          LYS      175     A  \n",
              "\n",
              "[174 rows x 8 columns]"
            ],
            "text/html": [
              "\n",
              "  <div id=\"df-a27c0eaa-765a-4586-9aa8-8abde5dbfe73\">\n",
              "    <div class=\"colab-df-container\">\n",
              "      <div>\n",
              "<style scoped>\n",
              "    .dataframe tbody tr th:only-of-type {\n",
              "        vertical-align: middle;\n",
              "    }\n",
              "\n",
              "    .dataframe tbody tr th {\n",
              "        vertical-align: top;\n",
              "    }\n",
              "\n",
              "    .dataframe thead th {\n",
              "        text-align: right;\n",
              "    }\n",
              "</style>\n",
              "<table border=\"1\" class=\"dataframe\">\n",
              "  <thead>\n",
              "    <tr style=\"text-align: right;\">\n",
              "      <th></th>\n",
              "      <th>degree</th>\n",
              "      <th>betweenness_centrality</th>\n",
              "      <th>closeness_centrality</th>\n",
              "      <th>eigenvector_centrality</th>\n",
              "      <th>communicability_betweenness_centrality</th>\n",
              "      <th>residue_type</th>\n",
              "      <th>position</th>\n",
              "      <th>chain</th>\n",
              "    </tr>\n",
              "    <tr>\n",
              "      <th>node</th>\n",
              "      <th></th>\n",
              "      <th></th>\n",
              "      <th></th>\n",
              "      <th></th>\n",
              "      <th></th>\n",
              "      <th></th>\n",
              "      <th></th>\n",
              "      <th></th>\n",
              "    </tr>\n",
              "  </thead>\n",
              "  <tbody>\n",
              "    <tr>\n",
              "      <th>A:SER:2</th>\n",
              "      <td>1.0</td>\n",
              "      <td>0.000000</td>\n",
              "      <td>0.178719</td>\n",
              "      <td>0.005605</td>\n",
              "      <td>0.000954</td>\n",
              "      <td>SER</td>\n",
              "      <td>2</td>\n",
              "      <td>A</td>\n",
              "    </tr>\n",
              "    <tr>\n",
              "      <th>A:PHE:3</th>\n",
              "      <td>6.0</td>\n",
              "      <td>0.053228</td>\n",
              "      <td>0.217337</td>\n",
              "      <td>0.036304</td>\n",
              "      <td>0.070745</td>\n",
              "      <td>PHE</td>\n",
              "      <td>3</td>\n",
              "      <td>A</td>\n",
              "    </tr>\n",
              "    <tr>\n",
              "      <th>A:SER:4</th>\n",
              "      <td>2.0</td>\n",
              "      <td>0.002035</td>\n",
              "      <td>0.179461</td>\n",
              "      <td>0.006686</td>\n",
              "      <td>0.003441</td>\n",
              "      <td>SER</td>\n",
              "      <td>4</td>\n",
              "      <td>A</td>\n",
              "    </tr>\n",
              "    <tr>\n",
              "      <th>A:ASN:5</th>\n",
              "      <td>2.0</td>\n",
              "      <td>0.000750</td>\n",
              "      <td>0.174220</td>\n",
              "      <td>0.007004</td>\n",
              "      <td>0.002090</td>\n",
              "      <td>ASN</td>\n",
              "      <td>5</td>\n",
              "      <td>A</td>\n",
              "    </tr>\n",
              "    <tr>\n",
              "      <th>A:VAL:6</th>\n",
              "      <td>5.0</td>\n",
              "      <td>0.017827</td>\n",
              "      <td>0.204734</td>\n",
              "      <td>0.038680</td>\n",
              "      <td>0.026333</td>\n",
              "      <td>VAL</td>\n",
              "      <td>6</td>\n",
              "      <td>A</td>\n",
              "    </tr>\n",
              "    <tr>\n",
              "      <th>...</th>\n",
              "      <td>...</td>\n",
              "      <td>...</td>\n",
              "      <td>...</td>\n",
              "      <td>...</td>\n",
              "      <td>...</td>\n",
              "      <td>...</td>\n",
              "      <td>...</td>\n",
              "      <td>...</td>\n",
              "    </tr>\n",
              "    <tr>\n",
              "      <th>A:ALA:171</th>\n",
              "      <td>2.0</td>\n",
              "      <td>0.034513</td>\n",
              "      <td>0.170108</td>\n",
              "      <td>0.008594</td>\n",
              "      <td>0.037133</td>\n",
              "      <td>ALA</td>\n",
              "      <td>171</td>\n",
              "      <td>A</td>\n",
              "    </tr>\n",
              "    <tr>\n",
              "      <th>A:ASN:172</th>\n",
              "      <td>2.0</td>\n",
              "      <td>0.024214</td>\n",
              "      <td>0.147863</td>\n",
              "      <td>0.001368</td>\n",
              "      <td>0.026655</td>\n",
              "      <td>ASN</td>\n",
              "      <td>172</td>\n",
              "      <td>A</td>\n",
              "    </tr>\n",
              "    <tr>\n",
              "      <th>A:PHE:173</th>\n",
              "      <td>3.0</td>\n",
              "      <td>0.025774</td>\n",
              "      <td>0.135156</td>\n",
              "      <td>0.000269</td>\n",
              "      <td>0.026477</td>\n",
              "      <td>PHE</td>\n",
              "      <td>173</td>\n",
              "      <td>A</td>\n",
              "    </tr>\n",
              "    <tr>\n",
              "      <th>A:LYS:174</th>\n",
              "      <td>2.0</td>\n",
              "      <td>0.011561</td>\n",
              "      <td>0.119310</td>\n",
              "      <td>0.000043</td>\n",
              "      <td>0.011769</td>\n",
              "      <td>LYS</td>\n",
              "      <td>174</td>\n",
              "      <td>A</td>\n",
              "    </tr>\n",
              "    <tr>\n",
              "      <th>A:LYS:175</th>\n",
              "      <td>1.0</td>\n",
              "      <td>0.000000</td>\n",
              "      <td>0.106658</td>\n",
              "      <td>0.000007</td>\n",
              "      <td>0.000126</td>\n",
              "      <td>LYS</td>\n",
              "      <td>175</td>\n",
              "      <td>A</td>\n",
              "    </tr>\n",
              "  </tbody>\n",
              "</table>\n",
              "<p>174 rows × 8 columns</p>\n",
              "</div>\n",
              "      <button class=\"colab-df-convert\" onclick=\"convertToInteractive('df-a27c0eaa-765a-4586-9aa8-8abde5dbfe73')\"\n",
              "              title=\"Convert this dataframe to an interactive table.\"\n",
              "              style=\"display:none;\">\n",
              "        \n",
              "  <svg xmlns=\"http://www.w3.org/2000/svg\" height=\"24px\"viewBox=\"0 0 24 24\"\n",
              "       width=\"24px\">\n",
              "    <path d=\"M0 0h24v24H0V0z\" fill=\"none\"/>\n",
              "    <path d=\"M18.56 5.44l.94 2.06.94-2.06 2.06-.94-2.06-.94-.94-2.06-.94 2.06-2.06.94zm-11 1L8.5 8.5l.94-2.06 2.06-.94-2.06-.94L8.5 2.5l-.94 2.06-2.06.94zm10 10l.94 2.06.94-2.06 2.06-.94-2.06-.94-.94-2.06-.94 2.06-2.06.94z\"/><path d=\"M17.41 7.96l-1.37-1.37c-.4-.4-.92-.59-1.43-.59-.52 0-1.04.2-1.43.59L10.3 9.45l-7.72 7.72c-.78.78-.78 2.05 0 2.83L4 21.41c.39.39.9.59 1.41.59.51 0 1.02-.2 1.41-.59l7.78-7.78 2.81-2.81c.8-.78.8-2.07 0-2.86zM5.41 20L4 18.59l7.72-7.72 1.47 1.35L5.41 20z\"/>\n",
              "  </svg>\n",
              "      </button>\n",
              "      \n",
              "  <style>\n",
              "    .colab-df-container {\n",
              "      display:flex;\n",
              "      flex-wrap:wrap;\n",
              "      gap: 12px;\n",
              "    }\n",
              "\n",
              "    .colab-df-convert {\n",
              "      background-color: #E8F0FE;\n",
              "      border: none;\n",
              "      border-radius: 50%;\n",
              "      cursor: pointer;\n",
              "      display: none;\n",
              "      fill: #1967D2;\n",
              "      height: 32px;\n",
              "      padding: 0 0 0 0;\n",
              "      width: 32px;\n",
              "    }\n",
              "\n",
              "    .colab-df-convert:hover {\n",
              "      background-color: #E2EBFA;\n",
              "      box-shadow: 0px 1px 2px rgba(60, 64, 67, 0.3), 0px 1px 3px 1px rgba(60, 64, 67, 0.15);\n",
              "      fill: #174EA6;\n",
              "    }\n",
              "\n",
              "    [theme=dark] .colab-df-convert {\n",
              "      background-color: #3B4455;\n",
              "      fill: #D2E3FC;\n",
              "    }\n",
              "\n",
              "    [theme=dark] .colab-df-convert:hover {\n",
              "      background-color: #434B5C;\n",
              "      box-shadow: 0px 1px 3px 1px rgba(0, 0, 0, 0.15);\n",
              "      filter: drop-shadow(0px 1px 2px rgba(0, 0, 0, 0.3));\n",
              "      fill: #FFFFFF;\n",
              "    }\n",
              "  </style>\n",
              "\n",
              "      <script>\n",
              "        const buttonEl =\n",
              "          document.querySelector('#df-a27c0eaa-765a-4586-9aa8-8abde5dbfe73 button.colab-df-convert');\n",
              "        buttonEl.style.display =\n",
              "          google.colab.kernel.accessAllowed ? 'block' : 'none';\n",
              "\n",
              "        async function convertToInteractive(key) {\n",
              "          const element = document.querySelector('#df-a27c0eaa-765a-4586-9aa8-8abde5dbfe73');\n",
              "          const dataTable =\n",
              "            await google.colab.kernel.invokeFunction('convertToInteractive',\n",
              "                                                     [key], {});\n",
              "          if (!dataTable) return;\n",
              "\n",
              "          const docLinkHtml = 'Like what you see? Visit the ' +\n",
              "            '<a target=\"_blank\" href=https://colab.research.google.com/notebooks/data_table.ipynb>data table notebook</a>'\n",
              "            + ' to learn more about interactive tables.';\n",
              "          element.innerHTML = '';\n",
              "          dataTable['output_type'] = 'display_data';\n",
              "          await google.colab.output.renderOutput(dataTable, element);\n",
              "          const docLink = document.createElement('div');\n",
              "          docLink.innerHTML = docLinkHtml;\n",
              "          element.appendChild(docLink);\n",
              "        }\n",
              "      </script>\n",
              "    </div>\n",
              "  </div>\n",
              "  "
            ]
          },
          "metadata": {},
          "execution_count": 18
        }
      ]
    },
    {
      "cell_type": "code",
      "source": [
        "graph_summary(g, plot=True)"
      ],
      "metadata": {
        "colab": {
          "base_uri": "https://localhost:8080/",
          "height": 542
        },
        "id": "iWURmr1G0GJM",
        "outputId": "72b9860e-5ffa-4b60-ead2-9f8a6b3d2b96"
      },
      "execution_count": 19,
      "outputs": [
        {
          "output_type": "display_data",
          "data": {
            "text/html": [
              "<html>\n",
              "<head><meta charset=\"utf-8\" /></head>\n",
              "<body>\n",
              "    <div>            <script src=\"https://cdnjs.cloudflare.com/ajax/libs/mathjax/2.7.5/MathJax.js?config=TeX-AMS-MML_SVG\"></script><script type=\"text/javascript\">if (window.MathJax) {MathJax.Hub.Config({SVG: {font: \"STIX-Web\"}});}</script>                <script type=\"text/javascript\">window.PlotlyConfig = {MathJaxConfig: 'local'};</script>\n",
              "        <script src=\"https://cdn.plot.ly/plotly-2.8.3.min.js\"></script>                <div id=\"2902806b-2aff-41bc-92a7-d91efc08e719\" class=\"plotly-graph-div\" style=\"height:525px; width:100%;\"></div>            <script type=\"text/javascript\">                                    window.PLOTLYENV=window.PLOTLYENV || {};                                    if (document.getElementById(\"2902806b-2aff-41bc-92a7-d91efc08e719\")) {                    Plotly.newPlot(                        \"2902806b-2aff-41bc-92a7-d91efc08e719\",                        [{\"coloraxis\":\"coloraxis\",\"name\":\"0\",\"x\":[\"A:SER:2\",\"A:PHE:3\",\"A:SER:4\",\"A:ASN:5\",\"A:VAL:6\",\"A:PRO:7\",\"A:ALA:8\",\"A:GLY:9\",\"A:LYS:10\",\"A:ASP:11\",\"A:LEU:12\",\"A:PRO:13\",\"A:GLN:14\",\"A:ASP:15\",\"A:PHE:16\",\"A:ASN:17\",\"A:VAL:18\",\"A:ILE:19\",\"A:ILE:20\",\"A:GLU:21\",\"A:ILE:22\",\"A:PRO:23\",\"A:ALA:24\",\"A:GLN:25\",\"A:SER:26\",\"A:GLU:27\",\"A:PRO:28\",\"A:VAL:29\",\"A:LYS:30\",\"A:TYR:31\",\"A:GLU:32\",\"A:ALA:33\",\"A:ASP:34\",\"A:LYS:35\",\"A:ALA:36\",\"A:LEU:37\",\"A:GLY:38\",\"A:LEU:39\",\"A:LEU:40\",\"A:VAL:41\",\"A:VAL:42\",\"A:ASP:43\",\"A:ARG:44\",\"A:PHE:45\",\"A:ILE:46\",\"A:GLY:47\",\"A:THR:48\",\"A:GLY:49\",\"A:MET:50\",\"A:ARG:51\",\"A:TYR:52\",\"A:PRO:53\",\"A:VAL:54\",\"A:ASN:55\",\"A:TYR:56\",\"A:GLY:57\",\"A:PHE:58\",\"A:ILE:59\",\"A:PRO:60\",\"A:GLN:61\",\"A:THR:62\",\"A:LEU:63\",\"A:SER:64\",\"A:GLY:65\",\"A:ASP:66\",\"A:GLY:67\",\"A:ASP:68\",\"A:PRO:69\",\"A:VAL:70\",\"A:ASP:71\",\"A:VAL:72\",\"A:LEU:73\",\"A:VAL:74\",\"A:ILE:75\",\"A:THR:76\",\"A:PRO:77\",\"A:PHE:78\",\"A:PRO:79\",\"A:LEU:80\",\"A:LEU:81\",\"A:ALA:82\",\"A:GLY:83\",\"A:SER:84\",\"A:VAL:85\",\"A:VAL:86\",\"A:ARG:87\",\"A:ALA:88\",\"A:ARG:89\",\"A:ALA:90\",\"A:LEU:91\",\"A:GLY:92\",\"A:MET:93\",\"A:LEU:94\",\"A:LYS:95\",\"A:MET:96\",\"A:THR:97\",\"A:ASP:98\",\"A:GLU:99\",\"A:SER:100\",\"A:GLY:101\",\"A:VAL:102\",\"A:ASP:103\",\"A:ALA:104\",\"A:LYS:105\",\"A:LEU:106\",\"A:VAL:107\",\"A:ALA:108\",\"A:VAL:109\",\"A:PRO:110\",\"A:HIS:111\",\"A:ASP:112\",\"A:LYS:113\",\"A:VAL:114\",\"A:CYS:115\",\"A:PRO:116\",\"A:MET:117\",\"A:THR:118\",\"A:ALA:119\",\"A:ASN:120\",\"A:LEU:121\",\"A:LYS:122\",\"A:SER:123\",\"A:ILE:124\",\"A:ASP:125\",\"A:ASP:126\",\"A:VAL:127\",\"A:PRO:128\",\"A:ALA:129\",\"A:TYR:130\",\"A:LEU:131\",\"A:LYS:132\",\"A:ASP:133\",\"A:GLN:134\",\"A:ILE:135\",\"A:LYS:136\",\"A:HIS:137\",\"A:PHE:138\",\"A:PHE:139\",\"A:GLU:140\",\"A:GLN:141\",\"A:TYR:142\",\"A:LYS:143\",\"A:ALA:144\",\"A:LEU:145\",\"A:GLU:146\",\"A:LYS:147\",\"A:GLY:148\",\"A:LYS:149\",\"A:TRP:150\",\"A:VAL:151\",\"A:LYS:152\",\"A:VAL:153\",\"A:GLU:154\",\"A:GLY:155\",\"A:TRP:156\",\"A:ASP:157\",\"A:GLY:158\",\"A:ILE:159\",\"A:ASP:160\",\"A:ALA:161\",\"A:ALA:162\",\"A:HIS:163\",\"A:LYS:164\",\"A:GLU:165\",\"A:ILE:166\",\"A:THR:167\",\"A:ASP:168\",\"A:GLY:169\",\"A:VAL:170\",\"A:ALA:171\",\"A:ASN:172\",\"A:PHE:173\",\"A:LYS:174\",\"A:LYS:175\"],\"y\":[\"degree\",\"betweenness_centrality\",\"closeness_centrality\",\"eigenvector_centrality\",\"communicability_betweenness_centrality\"],\"z\":[[1.0,6.0,2.0,2.0,5.0,2.0,5.0,2.0,2.0,2.0,6.0,3.0,2.0,2.0,10.0,2.0,9.0,7.0,7.0,2.0,5.0,5.0,4.0,2.0,2.0,2.0,3.0,5.0,2.0,6.0,2.0,5.0,2.0,2.0,2.0,4.0,2.0,3.0,6.0,3.0,5.0,2.0,2.0,4.0,7.0,2.0,2.0,2.0,5.0,2.0,9.0,5.0,7.0,2.0,6.0,2.0,7.0,9.0,5.0,2.0,2.0,3.0,2.0,2.0,2.0,2.0,2.0,3.0,6.0,2.0,9.0,8.0,9.0,9.0,2.0,3.0,2.0,4.0,5.0,2.0,4.0,2.0,2.0,4.0,9.0,2.0,6.0,2.0,6.0,8.0,2.0,6.0,7.0,2.0,6.0,2.0,2.0,2.0,2.0,2.0,2.0,2.0,3.0,2.0,8.0,8.0,6.0,5.0,5.0,2.0,2.0,2.0,4.0,2.0,2.0,3.0,2.0,2.0,2.0,6.0,2.0,2.0,6.0,2.0,2.0,7.0,5.0,2.0,3.0,8.0,2.0,2.0,2.0,9.0,2.0,2.0,7.0,11.0,2.0,2.0,8.0,2.0,2.0,2.0,2.0,2.0,2.0,2.0,2.0,6.0,2.0,6.0,2.0,2.0,6.0,2.0,2.0,3.0,2.0,3.0,5.0,2.0,2.0,2.0,10.0,2.0,2.0,2.0,5.0,2.0,2.0,3.0,2.0,1.0],[0.0,0.05322768323082323,0.0020348580086018376,0.0007495644711668368,0.017827287800428075,0.0032122128083002014,0.033450536576057274,0.005574541140477426,0.00006721333512568894,0.005918939166015384,0.026168337343376154,0.004350496748866233,0.00006721333512568894,0.007142983557626576,0.07377594192753176,0.0,0.0570058562945924,0.053595107166094856,0.046866533898437875,0.00426893198694035,0.0595164828632,0.04403567678236315,0.03202395424315709,0.010867240256271029,0.003055076989745626,0.00374292926383261,0.015695904302266552,0.009166478862506558,0.0,0.05632923976925615,0.005291654697452261,0.050464418341478356,0.015958790338418672,0.005696434286978059,0.0011639109199265139,0.008263748746669148,0.0,0.01570137311829784,0.06807058606995642,0.017915721266040713,0.02400274942121759,0.0010961156511633725,0.002036683106449161,0.02862784995456655,0.07483178300153473,0.00978234601457102,0.00006721333512568894,0.0017111342919217995,0.013840900837604453,0.0019652688225195065,0.11629945820462007,0.023518987206021934,0.04485414756152362,0.0009602995186301848,0.05235637710100116,0.028640299051901696,0.10605597991561179,0.12993542100041208,0.060784827206272825,0.04252068825943123,0.03223704798520085,0.025361061813259738,0.0030208712289637157,0.0015347044853698973,0.010612233579030196,0.02096308718838629,0.031448367467993774,0.04318173367855883,0.03974927334748586,0.0,0.1127779643761299,0.17796499146249656,0.105215724804146,0.08247970997055283,0.021267386797811393,0.018719883746525542,0.007680126110339828,0.018172426166758335,0.020862466588271154,0.0032537622750412765,0.02333084206069252,0.0022574078697213517,0.004129164572236551,0.021602153374980386,0.06463612649646866,0.0,0.015241464020113612,0.0013282652581093105,0.05483426890401486,0.04834750953619218,0.005570244534111436,0.08039638381729183,0.07318599486553339,0.0,0.04672173634344856,0.030787018595606872,0.019831244970119583,0.008942684679757973,0.0023639870185895506,0.005049209315575763,0.014380342608856083,0.025336116234343394,0.03698640583361806,0.0126913930418009,0.12060372752927453,0.08314790704419052,0.018416538588878092,0.015173399838335846,0.03482839844444286,0.009611604951696119,0.00006721333512568894,0.001881875354796693,0.03467023008252019,0.011336098600107777,0.003100550116204979,0.00889327911425051,0.0010626487782355505,0.006741546232732693,0.017295122113469476,0.04262003301525125,0.0009131288570729357,0.00172114725060789,0.02519715470557037,0.0002925647115054294,0.0005864155523047848,0.025181374192634245,0.013352129389350197,0.0,0.002774989159247796,0.04896755439381092,0.003428886165141038,0.00006721333512568894,0.008064594141351767,0.06767295797645907,0.0032956098831662907,0.0014139605297691063,0.029819651510095878,0.15593986133993729,0.002960560053506601,0.00040338912331115587,0.07427745500769205,0.03427183953296334,0.02324885257235035,0.012225865611737373,0.001440365768568484,0.0007751937984496123,0.010895521671499623,0.02191850863211262,0.032941495592725606,0.05223817247981863,0.0,0.018512401275767875,0.0013014279660740055,0.0029937406248066287,0.03902716040345175,0.006159141973767595,0.0020763052722993576,0.013142139708210416,0.0008357658159378822,0.006228076676053556,0.02362419516065187,0.004416477766062646,0.00041672267777927163,0.007426511883083747,0.11304090920881336,0.010521184838969489,0.00006721333512568894,0.0009722954675233208,0.0567655559863565,0.034513267165436935,0.02421394377967719,0.025774011587614398,0.011560693641618498,0.0],[0.1787190082644628,0.21733668341708542,0.17946058091286307,0.17421953675730112,0.20473372781065088,0.18948521358159912,0.21733668341708542,0.17927461139896372,0.15585585585585585,0.17816683831101957,0.21571072319201995,0.19548022598870057,0.1752786220871327,0.20329024676850763,0.2536656891495601,0.21464019851116625,0.2578241430700447,0.23159303882195448,0.25,0.22094508301404853,0.2303595206391478,0.23473541383989144,0.22010178117048346,0.1828752642706131,0.1624413145539906,0.16093023255813954,0.1858216970998926,0.1779835390946502,0.17248255234297108,0.20546318289786222,0.19200887902330743,0.20944309927360774,0.17421953675730112,0.15069686411149827,0.13974151857835218,0.1522887323943662,0.1481164383561644,0.17145688800792863,0.20497630331753555,0.1778006166495375,0.17816683831101957,0.1516213847502191,0.15741583257506825,0.18622174381054898,0.21544209215442092,0.1779835390946502,0.15175438596491228,0.16093023255813954,0.19094922737306844,0.20425029515938606,0.25441176470588234,0.2255541069100391,0.2443502824858757,0.21761006289308177,0.25441176470588234,0.23159303882195448,0.24366197183098592,0.26371951219512196,0.22733245729303547,0.1888646288209607,0.1618334892422825,0.14238683127572016,0.125544267053701,0.12200282087447109,0.13622047244094487,0.1550179211469534,0.18020833333333333,0.21625,0.24714285714285714,0.2220795892169448,0.2763578274760383,0.27813504823151125,0.2686335403726708,0.2446958981612447,0.19953863898500576,0.17617107942973523,0.1778006166495375,0.20843373493975903,0.23221476510067113,0.19794050343249428,0.20092915214866433,0.17369477911646586,0.180773249738767,0.21358024691358024,0.24061196105702365,0.2023391812865497,0.2261437908496732,0.2023391812865497,0.23473541383989144,0.24027777777777778,0.21571072319201995,0.242296918767507,0.24297752808988765,0.19794050343249428,0.2189873417721519,0.18153200419727178,0.1550179211469534,0.13536776212832552,0.12446043165467625,0.12729948491537896,0.1440466278101582,0.16666666666666666,0.1977142857142857,0.21046228710462286,0.2617246596066566,0.2665639445300462,0.24679029957203993,0.22179487179487178,0.2232258064516129,0.1832627118644068,0.15599639314697927,0.16747337850919652,0.20023148148148148,0.1689453125,0.14875322441960448,0.15336879432624115,0.13884430176565007,0.1516213847502191,0.17617107942973523,0.2114914425427873,0.17761806981519507,0.18463180362860193,0.2243839169909209,0.18384697130712008,0.1876355748373102,0.2300531914893617,0.20595238095238094,0.17111770524233433,0.1905286343612335,0.2325268817204301,0.18948521358159912,0.17077986179664364,0.20046349942062572,0.24927953890489912,0.20400943396226415,0.1866235167206041,0.22526041666666666,0.25667655786350146,0.20497630331753555,0.18210526315789474,0.22179487179487178,0.1832627118644068,0.15613718411552346,0.1360062893081761,0.12047353760445682,0.1184931506849315,0.13348765432098766,0.15282685512367492,0.1787190082644628,0.21517412935323382,0.18443496801705758,0.21815889029003782,0.18404255319148935,0.19094922737306844,0.23283983849259757,0.19073869900771775,0.1787190082644628,0.19329608938547485,0.17725409836065573,0.19885057471264367,0.2255541069100391,0.18502673796791444,0.17010816125860373,0.1943820224719101,0.23961218836565096,0.1941638608305275,0.16476190476190475,0.16779825412221144,0.20069605568445475,0.17010816125860373,0.14786324786324787,0.13515625,0.1193103448275862,0.10665844636251541],[0.005605007956361709,0.03630374793235314,0.0066863900466723955,0.007004133291308231,0.03867952048761188,0.015609428644124637,0.062423059076288125,0.010236328738068663,0.003877845606239405,0.014880554325355032,0.09250380050868204,0.0438894341845245,0.01291975563714421,0.039792079856168915,0.2448143364550511,0.0771252360841705,0.25472735051882756,0.10518513403208483,0.14662705569523146,0.030616545393926005,0.05167691732214485,0.04131266137027042,0.031225521584908142,0.004986937727622292,0.0010749731918128318,0.001975685000739112,0.01172157782452551,0.007227275212867024,0.0031899832671178218,0.013434309808868358,0.0054369189733996974,0.02178072244008731,0.003450662812301643,0.0005692891767846729,0.00023663450030093436,0.0009633971847529603,0.0005095499382098053,0.0023369678922885296,0.013663640362404023,0.003156790382272903,0.005819556499732367,0.0012292299129875901,0.002142190077515136,0.012645777794901093,0.06671793232108672,0.010741717464376513,0.0028563851862894057,0.00775914615760313,0.04739975868879528,0.030033157394916656,0.14712559866421673,0.10071982247547359,0.12938242236862946,0.03575806963292554,0.10222330533205032,0.02847644610454975,0.08221920205376701,0.23167344740651663,0.0724443263744505,0.011466037771408422,0.001821428157368414,0.0003313886045778174,0.000055994580583244966,0.000031289406746766854,0.00014666752878935918,0.0009186790922248164,0.005803635210209913,0.036671581511000514,0.1494997250269561,0.06554213754051927,0.27501800246671576,0.2191698124593483,0.24965090219610625,0.1774953394648873,0.028219369762848487,0.005282079346363307,0.004917135102973893,0.0265663024431891,0.0946151508691091,0.016381342755358075,0.011487131734969363,0.0030447360650110314,0.008233684271945946,0.050285000608072075,0.17359860955642803,0.04937147080486025,0.1461813880999221,0.03864697240097667,0.10413582024609161,0.13636124587057544,0.03066649743408928,0.06226626750373062,0.09988144579785622,0.026330601236861675,0.07066238173148326,0.011182984403631873,0.0017700305115883616,0.00028153839911333056,0.00005349929501746371,0.00006497759800834149,0.0003673618987061631,0.0023144327211939344,0.014623264835596637,0.030134476751227757,0.18055834000195514,0.18393861960734112,0.18566101632818852,0.10292684392752151,0.09008151795329912,0.014421618857681723,0.003327594016204015,0.007131273720885084,0.04286180760735302,0.0068053785165488505,0.001216764300582106,0.0010756280413956373,0.00046802055517839954,0.001955750396358628,0.01219941363238896,0.0770600941628063,0.014292925031467093,0.015515465336526958,0.08620105232161092,0.016583309797625664,0.021209374829310144,0.12079023250611667,0.05584399352767385,0.013158345632688206,0.0293828726561116,0.12131111101506255,0.019786949580117716,0.006849354679094627,0.024576456806648897,0.15233284451230414,0.02658919844640292,0.019885922282829115,0.10221231541028895,0.17989553613094197,0.03090154789644444,0.020254403759644022,0.10028662780911177,0.015871275663201397,0.002511940101532621,0.0003986102989947057,0.00006986672739738696,0.00005391788295253621,0.00027936047209894347,0.0017555054470950648,0.011091083199239347,0.07008166086859825,0.02167525899643577,0.07030942244501995,0.013199243044139419,0.01518233708556661,0.08513705600657596,0.013898104520776378,0.004881243197993445,0.017717804686869912,0.005741509652448169,0.019470067443993152,0.05810023664429719,0.009885892286000706,0.005930884173295403,0.028528562380190657,0.1788491813656542,0.028513847113717378,0.005835573099883218,0.009283275835684618,0.05429238899206712,0.008593565771359292,0.001368307305326234,0.00026898784021560807,0.00004254367727987553,6.568403077630535e-6],[0.0009537617993683144,0.07074547332206273,0.0034406812570661697,0.0020897459647627272,0.0263331031396422,0.003594123084528147,0.04362137864513158,0.005774518969938705,0.0007259482345013682,0.00738291851209489,0.05584156133576252,0.011600035006970448,0.000894567943372088,0.007852484568000192,0.14639119282979945,0.007803597440108397,0.1468076798603743,0.09425855056692102,0.08676061991360097,0.008467226235881985,0.06949004157223075,0.04821822157188025,0.034426349946898346,0.01035824241846247,0.002434181810974513,0.004097940396727932,0.020661608276739643,0.02091195870269029,0.003181482574317087,0.06153398116810955,0.008079506617490385,0.0598751077964659,0.015160043025253313,0.0044960255001107695,0.0016439104052489474,0.013207614417381889,0.0014967668672083714,0.01816732185011237,0.0750105744953897,0.021599511475065763,0.030222614138244966,0.002055990331907838,0.002948277508840768,0.03267234362103609,0.09428120917686993,0.008986744632978608,0.0007442844026636793,0.004526997475185277,0.03039341520212037,0.006091625426971717,0.16634149179351684,0.050565904751181626,0.08460331391172964,0.005204951739432983,0.08141720111399633,0.021997611205793143,0.12077573676513399,0.1995774554712595,0.08000793380532847,0.041547834767474624,0.03091766767291693,0.024363921525224104,0.00415818062886377,0.0021276899587109868,0.01027149388623536,0.020646314030607776,0.03132839621857642,0.04853511944178083,0.08252177016780687,0.007123418371138119,0.19837817959185583,0.24778409027467238,0.18427553215499778,0.13379047607306876,0.022822710649384306,0.017749201337741986,0.007168525115348833,0.02441566543285234,0.042960762635141064,0.0057056574847120485,0.0246186877182777,0.002376342179472013,0.00445853003407006,0.02824649601831946,0.1050875117184534,0.004087757622759862,0.04265555097224175,0.0038185590930398415,0.06675751988507378,0.08056307109253313,0.007518677406990434,0.08086419863976176,0.09560790344794282,0.0050461230115934706,0.07118798553785334,0.031755276458437724,0.020418567567565826,0.009631971280151422,0.0026859030330944403,0.004880334701685635,0.014186002821539204,0.025173443572058477,0.03813064189341451,0.01597696887024299,0.15710373344444675,0.13372578748364466,0.07212222418635164,0.03897392530259,0.050257033237838374,0.009285056254449385,0.0008718172272741475,0.003918535123746749,0.04009718008278631,0.012288759665895297,0.003410213478359012,0.008369986987697519,0.0014288402529471327,0.00730284480746342,0.018332016832321336,0.05511126444383336,0.0022235118672495452,0.0026005721653402257,0.043056094075653015,0.0018565329693498727,0.00270113596811581,0.058913154689996056,0.02319108560309882,0.0011308849148308484,0.007218367663915449,0.0797665069453856,0.005874000305289671,0.0008414554701600865,0.008772434868244652,0.1235361058093383,0.0046991033168269835,0.0025885002027165645,0.0762706532266012,0.22200763930688766,0.0060618714403492795,0.0028358861577749027,0.11632392276348849,0.03565627791041104,0.023738444577888342,0.012681233060384408,0.0024250914734674123,0.0014800538705550175,0.010768172883735804,0.02179996060300853,0.033227120698991475,0.07460679381633693,0.0032244106212675266,0.04553656605453512,0.0023877439633169678,0.0036896791911988445,0.05940397714194445,0.00707625983217778,0.0019652582162622855,0.012789303182310146,0.0015289146823498,0.011055037198012473,0.03843502817622881,0.00450183103901263,0.0011493331145908372,0.010344641382833952,0.15646213842627527,0.011856933569239784,0.0011621005757810972,0.003287678431980223,0.06832241627825697,0.03713266653857002,0.026654518118819352,0.026476693376936117,0.011769444427516906,0.00012610994140335074]],\"type\":\"heatmap\",\"xaxis\":\"x\",\"yaxis\":\"y\",\"hovertemplate\":\"node: %{x}<br>y: %{y}<br>color: %{z}<extra></extra>\"}],                        {\"template\":{\"data\":{\"bar\":[{\"error_x\":{\"color\":\"#2a3f5f\"},\"error_y\":{\"color\":\"#2a3f5f\"},\"marker\":{\"line\":{\"color\":\"#E5ECF6\",\"width\":0.5},\"pattern\":{\"fillmode\":\"overlay\",\"size\":10,\"solidity\":0.2}},\"type\":\"bar\"}],\"barpolar\":[{\"marker\":{\"line\":{\"color\":\"#E5ECF6\",\"width\":0.5},\"pattern\":{\"fillmode\":\"overlay\",\"size\":10,\"solidity\":0.2}},\"type\":\"barpolar\"}],\"carpet\":[{\"aaxis\":{\"endlinecolor\":\"#2a3f5f\",\"gridcolor\":\"white\",\"linecolor\":\"white\",\"minorgridcolor\":\"white\",\"startlinecolor\":\"#2a3f5f\"},\"baxis\":{\"endlinecolor\":\"#2a3f5f\",\"gridcolor\":\"white\",\"linecolor\":\"white\",\"minorgridcolor\":\"white\",\"startlinecolor\":\"#2a3f5f\"},\"type\":\"carpet\"}],\"choropleth\":[{\"colorbar\":{\"outlinewidth\":0,\"ticks\":\"\"},\"type\":\"choropleth\"}],\"contour\":[{\"colorbar\":{\"outlinewidth\":0,\"ticks\":\"\"},\"colorscale\":[[0.0,\"#0d0887\"],[0.1111111111111111,\"#46039f\"],[0.2222222222222222,\"#7201a8\"],[0.3333333333333333,\"#9c179e\"],[0.4444444444444444,\"#bd3786\"],[0.5555555555555556,\"#d8576b\"],[0.6666666666666666,\"#ed7953\"],[0.7777777777777778,\"#fb9f3a\"],[0.8888888888888888,\"#fdca26\"],[1.0,\"#f0f921\"]],\"type\":\"contour\"}],\"contourcarpet\":[{\"colorbar\":{\"outlinewidth\":0,\"ticks\":\"\"},\"type\":\"contourcarpet\"}],\"heatmap\":[{\"colorbar\":{\"outlinewidth\":0,\"ticks\":\"\"},\"colorscale\":[[0.0,\"#0d0887\"],[0.1111111111111111,\"#46039f\"],[0.2222222222222222,\"#7201a8\"],[0.3333333333333333,\"#9c179e\"],[0.4444444444444444,\"#bd3786\"],[0.5555555555555556,\"#d8576b\"],[0.6666666666666666,\"#ed7953\"],[0.7777777777777778,\"#fb9f3a\"],[0.8888888888888888,\"#fdca26\"],[1.0,\"#f0f921\"]],\"type\":\"heatmap\"}],\"heatmapgl\":[{\"colorbar\":{\"outlinewidth\":0,\"ticks\":\"\"},\"colorscale\":[[0.0,\"#0d0887\"],[0.1111111111111111,\"#46039f\"],[0.2222222222222222,\"#7201a8\"],[0.3333333333333333,\"#9c179e\"],[0.4444444444444444,\"#bd3786\"],[0.5555555555555556,\"#d8576b\"],[0.6666666666666666,\"#ed7953\"],[0.7777777777777778,\"#fb9f3a\"],[0.8888888888888888,\"#fdca26\"],[1.0,\"#f0f921\"]],\"type\":\"heatmapgl\"}],\"histogram\":[{\"marker\":{\"pattern\":{\"fillmode\":\"overlay\",\"size\":10,\"solidity\":0.2}},\"type\":\"histogram\"}],\"histogram2d\":[{\"colorbar\":{\"outlinewidth\":0,\"ticks\":\"\"},\"colorscale\":[[0.0,\"#0d0887\"],[0.1111111111111111,\"#46039f\"],[0.2222222222222222,\"#7201a8\"],[0.3333333333333333,\"#9c179e\"],[0.4444444444444444,\"#bd3786\"],[0.5555555555555556,\"#d8576b\"],[0.6666666666666666,\"#ed7953\"],[0.7777777777777778,\"#fb9f3a\"],[0.8888888888888888,\"#fdca26\"],[1.0,\"#f0f921\"]],\"type\":\"histogram2d\"}],\"histogram2dcontour\":[{\"colorbar\":{\"outlinewidth\":0,\"ticks\":\"\"},\"colorscale\":[[0.0,\"#0d0887\"],[0.1111111111111111,\"#46039f\"],[0.2222222222222222,\"#7201a8\"],[0.3333333333333333,\"#9c179e\"],[0.4444444444444444,\"#bd3786\"],[0.5555555555555556,\"#d8576b\"],[0.6666666666666666,\"#ed7953\"],[0.7777777777777778,\"#fb9f3a\"],[0.8888888888888888,\"#fdca26\"],[1.0,\"#f0f921\"]],\"type\":\"histogram2dcontour\"}],\"mesh3d\":[{\"colorbar\":{\"outlinewidth\":0,\"ticks\":\"\"},\"type\":\"mesh3d\"}],\"parcoords\":[{\"line\":{\"colorbar\":{\"outlinewidth\":0,\"ticks\":\"\"}},\"type\":\"parcoords\"}],\"pie\":[{\"automargin\":true,\"type\":\"pie\"}],\"scatter\":[{\"marker\":{\"colorbar\":{\"outlinewidth\":0,\"ticks\":\"\"}},\"type\":\"scatter\"}],\"scatter3d\":[{\"line\":{\"colorbar\":{\"outlinewidth\":0,\"ticks\":\"\"}},\"marker\":{\"colorbar\":{\"outlinewidth\":0,\"ticks\":\"\"}},\"type\":\"scatter3d\"}],\"scattercarpet\":[{\"marker\":{\"colorbar\":{\"outlinewidth\":0,\"ticks\":\"\"}},\"type\":\"scattercarpet\"}],\"scattergeo\":[{\"marker\":{\"colorbar\":{\"outlinewidth\":0,\"ticks\":\"\"}},\"type\":\"scattergeo\"}],\"scattergl\":[{\"marker\":{\"colorbar\":{\"outlinewidth\":0,\"ticks\":\"\"}},\"type\":\"scattergl\"}],\"scattermapbox\":[{\"marker\":{\"colorbar\":{\"outlinewidth\":0,\"ticks\":\"\"}},\"type\":\"scattermapbox\"}],\"scatterpolar\":[{\"marker\":{\"colorbar\":{\"outlinewidth\":0,\"ticks\":\"\"}},\"type\":\"scatterpolar\"}],\"scatterpolargl\":[{\"marker\":{\"colorbar\":{\"outlinewidth\":0,\"ticks\":\"\"}},\"type\":\"scatterpolargl\"}],\"scatterternary\":[{\"marker\":{\"colorbar\":{\"outlinewidth\":0,\"ticks\":\"\"}},\"type\":\"scatterternary\"}],\"surface\":[{\"colorbar\":{\"outlinewidth\":0,\"ticks\":\"\"},\"colorscale\":[[0.0,\"#0d0887\"],[0.1111111111111111,\"#46039f\"],[0.2222222222222222,\"#7201a8\"],[0.3333333333333333,\"#9c179e\"],[0.4444444444444444,\"#bd3786\"],[0.5555555555555556,\"#d8576b\"],[0.6666666666666666,\"#ed7953\"],[0.7777777777777778,\"#fb9f3a\"],[0.8888888888888888,\"#fdca26\"],[1.0,\"#f0f921\"]],\"type\":\"surface\"}],\"table\":[{\"cells\":{\"fill\":{\"color\":\"#EBF0F8\"},\"line\":{\"color\":\"white\"}},\"header\":{\"fill\":{\"color\":\"#C8D4E3\"},\"line\":{\"color\":\"white\"}},\"type\":\"table\"}]},\"layout\":{\"annotationdefaults\":{\"arrowcolor\":\"#2a3f5f\",\"arrowhead\":0,\"arrowwidth\":1},\"autotypenumbers\":\"strict\",\"coloraxis\":{\"colorbar\":{\"outlinewidth\":0,\"ticks\":\"\"}},\"colorscale\":{\"diverging\":[[0,\"#8e0152\"],[0.1,\"#c51b7d\"],[0.2,\"#de77ae\"],[0.3,\"#f1b6da\"],[0.4,\"#fde0ef\"],[0.5,\"#f7f7f7\"],[0.6,\"#e6f5d0\"],[0.7,\"#b8e186\"],[0.8,\"#7fbc41\"],[0.9,\"#4d9221\"],[1,\"#276419\"]],\"sequential\":[[0.0,\"#0d0887\"],[0.1111111111111111,\"#46039f\"],[0.2222222222222222,\"#7201a8\"],[0.3333333333333333,\"#9c179e\"],[0.4444444444444444,\"#bd3786\"],[0.5555555555555556,\"#d8576b\"],[0.6666666666666666,\"#ed7953\"],[0.7777777777777778,\"#fb9f3a\"],[0.8888888888888888,\"#fdca26\"],[1.0,\"#f0f921\"]],\"sequentialminus\":[[0.0,\"#0d0887\"],[0.1111111111111111,\"#46039f\"],[0.2222222222222222,\"#7201a8\"],[0.3333333333333333,\"#9c179e\"],[0.4444444444444444,\"#bd3786\"],[0.5555555555555556,\"#d8576b\"],[0.6666666666666666,\"#ed7953\"],[0.7777777777777778,\"#fb9f3a\"],[0.8888888888888888,\"#fdca26\"],[1.0,\"#f0f921\"]]},\"colorway\":[\"#636efa\",\"#EF553B\",\"#00cc96\",\"#ab63fa\",\"#FFA15A\",\"#19d3f3\",\"#FF6692\",\"#B6E880\",\"#FF97FF\",\"#FECB52\"],\"font\":{\"color\":\"#2a3f5f\"},\"geo\":{\"bgcolor\":\"white\",\"lakecolor\":\"white\",\"landcolor\":\"#E5ECF6\",\"showlakes\":true,\"showland\":true,\"subunitcolor\":\"white\"},\"hoverlabel\":{\"align\":\"left\"},\"hovermode\":\"closest\",\"mapbox\":{\"style\":\"light\"},\"paper_bgcolor\":\"white\",\"plot_bgcolor\":\"#E5ECF6\",\"polar\":{\"angularaxis\":{\"gridcolor\":\"white\",\"linecolor\":\"white\",\"ticks\":\"\"},\"bgcolor\":\"#E5ECF6\",\"radialaxis\":{\"gridcolor\":\"white\",\"linecolor\":\"white\",\"ticks\":\"\"}},\"scene\":{\"xaxis\":{\"backgroundcolor\":\"#E5ECF6\",\"gridcolor\":\"white\",\"gridwidth\":2,\"linecolor\":\"white\",\"showbackground\":true,\"ticks\":\"\",\"zerolinecolor\":\"white\"},\"yaxis\":{\"backgroundcolor\":\"#E5ECF6\",\"gridcolor\":\"white\",\"gridwidth\":2,\"linecolor\":\"white\",\"showbackground\":true,\"ticks\":\"\",\"zerolinecolor\":\"white\"},\"zaxis\":{\"backgroundcolor\":\"#E5ECF6\",\"gridcolor\":\"white\",\"gridwidth\":2,\"linecolor\":\"white\",\"showbackground\":true,\"ticks\":\"\",\"zerolinecolor\":\"white\"}},\"shapedefaults\":{\"line\":{\"color\":\"#2a3f5f\"}},\"ternary\":{\"aaxis\":{\"gridcolor\":\"white\",\"linecolor\":\"white\",\"ticks\":\"\"},\"baxis\":{\"gridcolor\":\"white\",\"linecolor\":\"white\",\"ticks\":\"\"},\"bgcolor\":\"#E5ECF6\",\"caxis\":{\"gridcolor\":\"white\",\"linecolor\":\"white\",\"ticks\":\"\"}},\"title\":{\"x\":0.05},\"xaxis\":{\"automargin\":true,\"gridcolor\":\"white\",\"linecolor\":\"white\",\"ticks\":\"\",\"title\":{\"standoff\":15},\"zerolinecolor\":\"white\",\"zerolinewidth\":2},\"yaxis\":{\"automargin\":true,\"gridcolor\":\"white\",\"linecolor\":\"white\",\"ticks\":\"\",\"title\":{\"standoff\":15},\"zerolinecolor\":\"white\",\"zerolinewidth\":2}}},\"xaxis\":{\"anchor\":\"y\",\"domain\":[0.0,1.0],\"scaleanchor\":\"y\",\"constrain\":\"domain\",\"title\":{\"text\":\"node\"}},\"yaxis\":{\"anchor\":\"x\",\"domain\":[0.0,1.0],\"autorange\":\"reversed\",\"constrain\":\"domain\"},\"coloraxis\":{\"colorscale\":[[0.0,\"#0d0887\"],[0.1111111111111111,\"#46039f\"],[0.2222222222222222,\"#7201a8\"],[0.3333333333333333,\"#9c179e\"],[0.4444444444444444,\"#bd3786\"],[0.5555555555555556,\"#d8576b\"],[0.6666666666666666,\"#ed7953\"],[0.7777777777777778,\"#fb9f3a\"],[0.8888888888888888,\"#fdca26\"],[1.0,\"#f0f921\"]]},\"margin\":{\"t\":60}},                        {\"responsive\": true}                    ).then(function(){\n",
              "                            \n",
              "var gd = document.getElementById('2902806b-2aff-41bc-92a7-d91efc08e719');\n",
              "var x = new MutationObserver(function (mutations, observer) {{\n",
              "        var display = window.getComputedStyle(gd).display;\n",
              "        if (!display || display === 'none') {{\n",
              "            console.log([gd, 'removed!']);\n",
              "            Plotly.purge(gd);\n",
              "            observer.disconnect();\n",
              "        }}\n",
              "}});\n",
              "\n",
              "// Listen for the removal of the full notebook cells\n",
              "var notebookContainer = gd.closest('#notebook-container');\n",
              "if (notebookContainer) {{\n",
              "    x.observe(notebookContainer, {childList: true});\n",
              "}}\n",
              "\n",
              "// Listen for the clearing of the current output cell\n",
              "var outputEl = gd.closest('.output');\n",
              "if (outputEl) {{\n",
              "    x.observe(outputEl, {childList: true});\n",
              "}}\n",
              "\n",
              "                        })                };                            </script>        </div>\n",
              "</body>\n",
              "</html>"
            ]
          },
          "metadata": {}
        }
      ]
    },
    {
      "cell_type": "code",
      "source": [
        "from graphein.protein.analysis import plot_degree_distribution\n",
        "\n",
        "fig = plot_degree_distribution(g)\n",
        "fig.show()"
      ],
      "metadata": {
        "colab": {
          "base_uri": "https://localhost:8080/",
          "height": 542
        },
        "id": "Bnld-U9B0Kz9",
        "outputId": "a20093ea-fbe9-41ed-9803-95ac19b8eab0"
      },
      "execution_count": 20,
      "outputs": [
        {
          "output_type": "display_data",
          "data": {
            "text/html": [
              "<html>\n",
              "<head><meta charset=\"utf-8\" /></head>\n",
              "<body>\n",
              "    <div>            <script src=\"https://cdnjs.cloudflare.com/ajax/libs/mathjax/2.7.5/MathJax.js?config=TeX-AMS-MML_SVG\"></script><script type=\"text/javascript\">if (window.MathJax) {MathJax.Hub.Config({SVG: {font: \"STIX-Web\"}});}</script>                <script type=\"text/javascript\">window.PlotlyConfig = {MathJaxConfig: 'local'};</script>\n",
              "        <script src=\"https://cdn.plot.ly/plotly-2.8.3.min.js\"></script>                <div id=\"548ccba6-5e91-4709-9e1e-99a0dbe7b595\" class=\"plotly-graph-div\" style=\"height:525px; width:100%;\"></div>            <script type=\"text/javascript\">                                    window.PLOTLYENV=window.PLOTLYENV || {};                                    if (document.getElementById(\"548ccba6-5e91-4709-9e1e-99a0dbe7b595\")) {                    Plotly.newPlot(                        \"548ccba6-5e91-4709-9e1e-99a0dbe7b595\",                        [{\"alignmentgroup\":\"True\",\"bingroup\":\"x\",\"hovertemplate\":\"degree=%{x}<br>count=%{y}<extra></extra>\",\"legendgroup\":\"\",\"marker\":{\"color\":\"#636efa\",\"pattern\":{\"shape\":\"\"}},\"name\":\"\",\"offsetgroup\":\"\",\"orientation\":\"v\",\"showlegend\":false,\"x\":[1,6,2,2,5,2,5,2,2,2,6,3,2,2,10,2,9,7,7,2,5,5,4,2,2,2,3,5,2,6,2,5,2,2,2,4,2,3,6,3,5,2,2,4,7,2,2,2,5,2,9,5,7,2,6,2,7,9,5,2,2,3,2,2,2,2,2,3,6,2,9,8,9,9,2,3,2,4,5,2,4,2,2,4,9,2,6,2,6,8,2,6,7,2,6,2,2,2,2,2,2,2,3,2,8,8,6,5,5,2,2,2,4,2,2,3,2,2,2,6,2,2,6,2,2,7,5,2,3,8,2,2,2,9,2,2,7,11,2,2,8,2,2,2,2,2,2,2,2,6,2,6,2,2,6,2,2,3,2,3,5,2,2,2,10,2,2,2,5,2,2,3,2,1],\"xaxis\":\"x\",\"yaxis\":\"y\",\"type\":\"histogram\"}],                        {\"template\":{\"data\":{\"bar\":[{\"error_x\":{\"color\":\"#2a3f5f\"},\"error_y\":{\"color\":\"#2a3f5f\"},\"marker\":{\"line\":{\"color\":\"#E5ECF6\",\"width\":0.5},\"pattern\":{\"fillmode\":\"overlay\",\"size\":10,\"solidity\":0.2}},\"type\":\"bar\"}],\"barpolar\":[{\"marker\":{\"line\":{\"color\":\"#E5ECF6\",\"width\":0.5},\"pattern\":{\"fillmode\":\"overlay\",\"size\":10,\"solidity\":0.2}},\"type\":\"barpolar\"}],\"carpet\":[{\"aaxis\":{\"endlinecolor\":\"#2a3f5f\",\"gridcolor\":\"white\",\"linecolor\":\"white\",\"minorgridcolor\":\"white\",\"startlinecolor\":\"#2a3f5f\"},\"baxis\":{\"endlinecolor\":\"#2a3f5f\",\"gridcolor\":\"white\",\"linecolor\":\"white\",\"minorgridcolor\":\"white\",\"startlinecolor\":\"#2a3f5f\"},\"type\":\"carpet\"}],\"choropleth\":[{\"colorbar\":{\"outlinewidth\":0,\"ticks\":\"\"},\"type\":\"choropleth\"}],\"contour\":[{\"colorbar\":{\"outlinewidth\":0,\"ticks\":\"\"},\"colorscale\":[[0.0,\"#0d0887\"],[0.1111111111111111,\"#46039f\"],[0.2222222222222222,\"#7201a8\"],[0.3333333333333333,\"#9c179e\"],[0.4444444444444444,\"#bd3786\"],[0.5555555555555556,\"#d8576b\"],[0.6666666666666666,\"#ed7953\"],[0.7777777777777778,\"#fb9f3a\"],[0.8888888888888888,\"#fdca26\"],[1.0,\"#f0f921\"]],\"type\":\"contour\"}],\"contourcarpet\":[{\"colorbar\":{\"outlinewidth\":0,\"ticks\":\"\"},\"type\":\"contourcarpet\"}],\"heatmap\":[{\"colorbar\":{\"outlinewidth\":0,\"ticks\":\"\"},\"colorscale\":[[0.0,\"#0d0887\"],[0.1111111111111111,\"#46039f\"],[0.2222222222222222,\"#7201a8\"],[0.3333333333333333,\"#9c179e\"],[0.4444444444444444,\"#bd3786\"],[0.5555555555555556,\"#d8576b\"],[0.6666666666666666,\"#ed7953\"],[0.7777777777777778,\"#fb9f3a\"],[0.8888888888888888,\"#fdca26\"],[1.0,\"#f0f921\"]],\"type\":\"heatmap\"}],\"heatmapgl\":[{\"colorbar\":{\"outlinewidth\":0,\"ticks\":\"\"},\"colorscale\":[[0.0,\"#0d0887\"],[0.1111111111111111,\"#46039f\"],[0.2222222222222222,\"#7201a8\"],[0.3333333333333333,\"#9c179e\"],[0.4444444444444444,\"#bd3786\"],[0.5555555555555556,\"#d8576b\"],[0.6666666666666666,\"#ed7953\"],[0.7777777777777778,\"#fb9f3a\"],[0.8888888888888888,\"#fdca26\"],[1.0,\"#f0f921\"]],\"type\":\"heatmapgl\"}],\"histogram\":[{\"marker\":{\"pattern\":{\"fillmode\":\"overlay\",\"size\":10,\"solidity\":0.2}},\"type\":\"histogram\"}],\"histogram2d\":[{\"colorbar\":{\"outlinewidth\":0,\"ticks\":\"\"},\"colorscale\":[[0.0,\"#0d0887\"],[0.1111111111111111,\"#46039f\"],[0.2222222222222222,\"#7201a8\"],[0.3333333333333333,\"#9c179e\"],[0.4444444444444444,\"#bd3786\"],[0.5555555555555556,\"#d8576b\"],[0.6666666666666666,\"#ed7953\"],[0.7777777777777778,\"#fb9f3a\"],[0.8888888888888888,\"#fdca26\"],[1.0,\"#f0f921\"]],\"type\":\"histogram2d\"}],\"histogram2dcontour\":[{\"colorbar\":{\"outlinewidth\":0,\"ticks\":\"\"},\"colorscale\":[[0.0,\"#0d0887\"],[0.1111111111111111,\"#46039f\"],[0.2222222222222222,\"#7201a8\"],[0.3333333333333333,\"#9c179e\"],[0.4444444444444444,\"#bd3786\"],[0.5555555555555556,\"#d8576b\"],[0.6666666666666666,\"#ed7953\"],[0.7777777777777778,\"#fb9f3a\"],[0.8888888888888888,\"#fdca26\"],[1.0,\"#f0f921\"]],\"type\":\"histogram2dcontour\"}],\"mesh3d\":[{\"colorbar\":{\"outlinewidth\":0,\"ticks\":\"\"},\"type\":\"mesh3d\"}],\"parcoords\":[{\"line\":{\"colorbar\":{\"outlinewidth\":0,\"ticks\":\"\"}},\"type\":\"parcoords\"}],\"pie\":[{\"automargin\":true,\"type\":\"pie\"}],\"scatter\":[{\"marker\":{\"colorbar\":{\"outlinewidth\":0,\"ticks\":\"\"}},\"type\":\"scatter\"}],\"scatter3d\":[{\"line\":{\"colorbar\":{\"outlinewidth\":0,\"ticks\":\"\"}},\"marker\":{\"colorbar\":{\"outlinewidth\":0,\"ticks\":\"\"}},\"type\":\"scatter3d\"}],\"scattercarpet\":[{\"marker\":{\"colorbar\":{\"outlinewidth\":0,\"ticks\":\"\"}},\"type\":\"scattercarpet\"}],\"scattergeo\":[{\"marker\":{\"colorbar\":{\"outlinewidth\":0,\"ticks\":\"\"}},\"type\":\"scattergeo\"}],\"scattergl\":[{\"marker\":{\"colorbar\":{\"outlinewidth\":0,\"ticks\":\"\"}},\"type\":\"scattergl\"}],\"scattermapbox\":[{\"marker\":{\"colorbar\":{\"outlinewidth\":0,\"ticks\":\"\"}},\"type\":\"scattermapbox\"}],\"scatterpolar\":[{\"marker\":{\"colorbar\":{\"outlinewidth\":0,\"ticks\":\"\"}},\"type\":\"scatterpolar\"}],\"scatterpolargl\":[{\"marker\":{\"colorbar\":{\"outlinewidth\":0,\"ticks\":\"\"}},\"type\":\"scatterpolargl\"}],\"scatterternary\":[{\"marker\":{\"colorbar\":{\"outlinewidth\":0,\"ticks\":\"\"}},\"type\":\"scatterternary\"}],\"surface\":[{\"colorbar\":{\"outlinewidth\":0,\"ticks\":\"\"},\"colorscale\":[[0.0,\"#0d0887\"],[0.1111111111111111,\"#46039f\"],[0.2222222222222222,\"#7201a8\"],[0.3333333333333333,\"#9c179e\"],[0.4444444444444444,\"#bd3786\"],[0.5555555555555556,\"#d8576b\"],[0.6666666666666666,\"#ed7953\"],[0.7777777777777778,\"#fb9f3a\"],[0.8888888888888888,\"#fdca26\"],[1.0,\"#f0f921\"]],\"type\":\"surface\"}],\"table\":[{\"cells\":{\"fill\":{\"color\":\"#EBF0F8\"},\"line\":{\"color\":\"white\"}},\"header\":{\"fill\":{\"color\":\"#C8D4E3\"},\"line\":{\"color\":\"white\"}},\"type\":\"table\"}]},\"layout\":{\"annotationdefaults\":{\"arrowcolor\":\"#2a3f5f\",\"arrowhead\":0,\"arrowwidth\":1},\"autotypenumbers\":\"strict\",\"coloraxis\":{\"colorbar\":{\"outlinewidth\":0,\"ticks\":\"\"}},\"colorscale\":{\"diverging\":[[0,\"#8e0152\"],[0.1,\"#c51b7d\"],[0.2,\"#de77ae\"],[0.3,\"#f1b6da\"],[0.4,\"#fde0ef\"],[0.5,\"#f7f7f7\"],[0.6,\"#e6f5d0\"],[0.7,\"#b8e186\"],[0.8,\"#7fbc41\"],[0.9,\"#4d9221\"],[1,\"#276419\"]],\"sequential\":[[0.0,\"#0d0887\"],[0.1111111111111111,\"#46039f\"],[0.2222222222222222,\"#7201a8\"],[0.3333333333333333,\"#9c179e\"],[0.4444444444444444,\"#bd3786\"],[0.5555555555555556,\"#d8576b\"],[0.6666666666666666,\"#ed7953\"],[0.7777777777777778,\"#fb9f3a\"],[0.8888888888888888,\"#fdca26\"],[1.0,\"#f0f921\"]],\"sequentialminus\":[[0.0,\"#0d0887\"],[0.1111111111111111,\"#46039f\"],[0.2222222222222222,\"#7201a8\"],[0.3333333333333333,\"#9c179e\"],[0.4444444444444444,\"#bd3786\"],[0.5555555555555556,\"#d8576b\"],[0.6666666666666666,\"#ed7953\"],[0.7777777777777778,\"#fb9f3a\"],[0.8888888888888888,\"#fdca26\"],[1.0,\"#f0f921\"]]},\"colorway\":[\"#636efa\",\"#EF553B\",\"#00cc96\",\"#ab63fa\",\"#FFA15A\",\"#19d3f3\",\"#FF6692\",\"#B6E880\",\"#FF97FF\",\"#FECB52\"],\"font\":{\"color\":\"#2a3f5f\"},\"geo\":{\"bgcolor\":\"white\",\"lakecolor\":\"white\",\"landcolor\":\"#E5ECF6\",\"showlakes\":true,\"showland\":true,\"subunitcolor\":\"white\"},\"hoverlabel\":{\"align\":\"left\"},\"hovermode\":\"closest\",\"mapbox\":{\"style\":\"light\"},\"paper_bgcolor\":\"white\",\"plot_bgcolor\":\"#E5ECF6\",\"polar\":{\"angularaxis\":{\"gridcolor\":\"white\",\"linecolor\":\"white\",\"ticks\":\"\"},\"bgcolor\":\"#E5ECF6\",\"radialaxis\":{\"gridcolor\":\"white\",\"linecolor\":\"white\",\"ticks\":\"\"}},\"scene\":{\"xaxis\":{\"backgroundcolor\":\"#E5ECF6\",\"gridcolor\":\"white\",\"gridwidth\":2,\"linecolor\":\"white\",\"showbackground\":true,\"ticks\":\"\",\"zerolinecolor\":\"white\"},\"yaxis\":{\"backgroundcolor\":\"#E5ECF6\",\"gridcolor\":\"white\",\"gridwidth\":2,\"linecolor\":\"white\",\"showbackground\":true,\"ticks\":\"\",\"zerolinecolor\":\"white\"},\"zaxis\":{\"backgroundcolor\":\"#E5ECF6\",\"gridcolor\":\"white\",\"gridwidth\":2,\"linecolor\":\"white\",\"showbackground\":true,\"ticks\":\"\",\"zerolinecolor\":\"white\"}},\"shapedefaults\":{\"line\":{\"color\":\"#2a3f5f\"}},\"ternary\":{\"aaxis\":{\"gridcolor\":\"white\",\"linecolor\":\"white\",\"ticks\":\"\"},\"baxis\":{\"gridcolor\":\"white\",\"linecolor\":\"white\",\"ticks\":\"\"},\"bgcolor\":\"#E5ECF6\",\"caxis\":{\"gridcolor\":\"white\",\"linecolor\":\"white\",\"ticks\":\"\"}},\"title\":{\"x\":0.05},\"xaxis\":{\"automargin\":true,\"gridcolor\":\"white\",\"linecolor\":\"white\",\"ticks\":\"\",\"title\":{\"standoff\":15},\"zerolinecolor\":\"white\",\"zerolinewidth\":2},\"yaxis\":{\"automargin\":true,\"gridcolor\":\"white\",\"linecolor\":\"white\",\"ticks\":\"\",\"title\":{\"standoff\":15},\"zerolinecolor\":\"white\",\"zerolinewidth\":2}}},\"xaxis\":{\"anchor\":\"y\",\"domain\":[0.0,1.0],\"title\":{\"text\":\"degree\"}},\"yaxis\":{\"anchor\":\"x\",\"domain\":[0.0,1.0],\"title\":{\"text\":\"count\"}},\"legend\":{\"tracegroupgap\":0},\"title\":{\"text\":\"3eiy - Degree Distribution\"},\"barmode\":\"relative\"},                        {\"responsive\": true}                    ).then(function(){\n",
              "                            \n",
              "var gd = document.getElementById('548ccba6-5e91-4709-9e1e-99a0dbe7b595');\n",
              "var x = new MutationObserver(function (mutations, observer) {{\n",
              "        var display = window.getComputedStyle(gd).display;\n",
              "        if (!display || display === 'none') {{\n",
              "            console.log([gd, 'removed!']);\n",
              "            Plotly.purge(gd);\n",
              "            observer.disconnect();\n",
              "        }}\n",
              "}});\n",
              "\n",
              "// Listen for the removal of the full notebook cells\n",
              "var notebookContainer = gd.closest('#notebook-container');\n",
              "if (notebookContainer) {{\n",
              "    x.observe(notebookContainer, {childList: true});\n",
              "}}\n",
              "\n",
              "// Listen for the clearing of the current output cell\n",
              "var outputEl = gd.closest('.output');\n",
              "if (outputEl) {{\n",
              "    x.observe(outputEl, {childList: true});\n",
              "}}\n",
              "\n",
              "                        })                };                            </script>        </div>\n",
              "</body>\n",
              "</html>"
            ]
          },
          "metadata": {}
        }
      ]
    },
    {
      "cell_type": "code",
      "source": [
        "from graphein.protein.analysis import plot_degree_by_residue_type\n",
        "\n",
        "fig = plot_degree_by_residue_type(g, normalise_by_residue_occurrence=False)\n",
        "fig.show()"
      ],
      "metadata": {
        "colab": {
          "base_uri": "https://localhost:8080/",
          "height": 542
        },
        "id": "gXd8HLTn0Pg2",
        "outputId": "96148542-9e20-44e4-8b89-0e853e5eeba5"
      },
      "execution_count": 21,
      "outputs": [
        {
          "output_type": "display_data",
          "data": {
            "text/html": [
              "<html>\n",
              "<head><meta charset=\"utf-8\" /></head>\n",
              "<body>\n",
              "    <div>            <script src=\"https://cdnjs.cloudflare.com/ajax/libs/mathjax/2.7.5/MathJax.js?config=TeX-AMS-MML_SVG\"></script><script type=\"text/javascript\">if (window.MathJax) {MathJax.Hub.Config({SVG: {font: \"STIX-Web\"}});}</script>                <script type=\"text/javascript\">window.PlotlyConfig = {MathJaxConfig: 'local'};</script>\n",
              "        <script src=\"https://cdn.plot.ly/plotly-2.8.3.min.js\"></script>                <div id=\"295284cc-80e0-4b31-a2ca-f09410df5d2e\" class=\"plotly-graph-div\" style=\"height:525px; width:100%;\"></div>            <script type=\"text/javascript\">                                    window.PLOTLYENV=window.PLOTLYENV || {};                                    if (document.getElementById(\"295284cc-80e0-4b31-a2ca-f09410df5d2e\")) {                    Plotly.newPlot(                        \"295284cc-80e0-4b31-a2ca-f09410df5d2e\",                        [{\"alignmentgroup\":\"True\",\"bingroup\":\"x\",\"histfunc\":\"sum\",\"hovertemplate\":\"index=%{x}<br>sum of y=%{y}<extra></extra>\",\"legendgroup\":\"\",\"marker\":{\"color\":\"#636efa\",\"pattern\":{\"shape\":\"\"}},\"name\":\"\",\"offsetgroup\":\"\",\"orientation\":\"v\",\"showlegend\":false,\"x\":[\"ILE\",\"GLY\",\"VAL\",\"THR\",\"ALA\",\"GLN\",\"PHE\",\"LYS\",\"TYR\",\"MET\",\"GLU\",\"PRO\",\"TRP\",\"LEU\",\"HIS\",\"ASP\",\"ARG\",\"CYS\",\"SER\",\"ASN\"],\"xaxis\":\"x\",\"y\":[72,28,114,12,57,10,50,31,32,20,16,45,8,76,6,32,8,2,13,10],\"yaxis\":\"y\",\"type\":\"histogram\"}],                        {\"template\":{\"data\":{\"bar\":[{\"error_x\":{\"color\":\"#2a3f5f\"},\"error_y\":{\"color\":\"#2a3f5f\"},\"marker\":{\"line\":{\"color\":\"#E5ECF6\",\"width\":0.5},\"pattern\":{\"fillmode\":\"overlay\",\"size\":10,\"solidity\":0.2}},\"type\":\"bar\"}],\"barpolar\":[{\"marker\":{\"line\":{\"color\":\"#E5ECF6\",\"width\":0.5},\"pattern\":{\"fillmode\":\"overlay\",\"size\":10,\"solidity\":0.2}},\"type\":\"barpolar\"}],\"carpet\":[{\"aaxis\":{\"endlinecolor\":\"#2a3f5f\",\"gridcolor\":\"white\",\"linecolor\":\"white\",\"minorgridcolor\":\"white\",\"startlinecolor\":\"#2a3f5f\"},\"baxis\":{\"endlinecolor\":\"#2a3f5f\",\"gridcolor\":\"white\",\"linecolor\":\"white\",\"minorgridcolor\":\"white\",\"startlinecolor\":\"#2a3f5f\"},\"type\":\"carpet\"}],\"choropleth\":[{\"colorbar\":{\"outlinewidth\":0,\"ticks\":\"\"},\"type\":\"choropleth\"}],\"contour\":[{\"colorbar\":{\"outlinewidth\":0,\"ticks\":\"\"},\"colorscale\":[[0.0,\"#0d0887\"],[0.1111111111111111,\"#46039f\"],[0.2222222222222222,\"#7201a8\"],[0.3333333333333333,\"#9c179e\"],[0.4444444444444444,\"#bd3786\"],[0.5555555555555556,\"#d8576b\"],[0.6666666666666666,\"#ed7953\"],[0.7777777777777778,\"#fb9f3a\"],[0.8888888888888888,\"#fdca26\"],[1.0,\"#f0f921\"]],\"type\":\"contour\"}],\"contourcarpet\":[{\"colorbar\":{\"outlinewidth\":0,\"ticks\":\"\"},\"type\":\"contourcarpet\"}],\"heatmap\":[{\"colorbar\":{\"outlinewidth\":0,\"ticks\":\"\"},\"colorscale\":[[0.0,\"#0d0887\"],[0.1111111111111111,\"#46039f\"],[0.2222222222222222,\"#7201a8\"],[0.3333333333333333,\"#9c179e\"],[0.4444444444444444,\"#bd3786\"],[0.5555555555555556,\"#d8576b\"],[0.6666666666666666,\"#ed7953\"],[0.7777777777777778,\"#fb9f3a\"],[0.8888888888888888,\"#fdca26\"],[1.0,\"#f0f921\"]],\"type\":\"heatmap\"}],\"heatmapgl\":[{\"colorbar\":{\"outlinewidth\":0,\"ticks\":\"\"},\"colorscale\":[[0.0,\"#0d0887\"],[0.1111111111111111,\"#46039f\"],[0.2222222222222222,\"#7201a8\"],[0.3333333333333333,\"#9c179e\"],[0.4444444444444444,\"#bd3786\"],[0.5555555555555556,\"#d8576b\"],[0.6666666666666666,\"#ed7953\"],[0.7777777777777778,\"#fb9f3a\"],[0.8888888888888888,\"#fdca26\"],[1.0,\"#f0f921\"]],\"type\":\"heatmapgl\"}],\"histogram\":[{\"marker\":{\"pattern\":{\"fillmode\":\"overlay\",\"size\":10,\"solidity\":0.2}},\"type\":\"histogram\"}],\"histogram2d\":[{\"colorbar\":{\"outlinewidth\":0,\"ticks\":\"\"},\"colorscale\":[[0.0,\"#0d0887\"],[0.1111111111111111,\"#46039f\"],[0.2222222222222222,\"#7201a8\"],[0.3333333333333333,\"#9c179e\"],[0.4444444444444444,\"#bd3786\"],[0.5555555555555556,\"#d8576b\"],[0.6666666666666666,\"#ed7953\"],[0.7777777777777778,\"#fb9f3a\"],[0.8888888888888888,\"#fdca26\"],[1.0,\"#f0f921\"]],\"type\":\"histogram2d\"}],\"histogram2dcontour\":[{\"colorbar\":{\"outlinewidth\":0,\"ticks\":\"\"},\"colorscale\":[[0.0,\"#0d0887\"],[0.1111111111111111,\"#46039f\"],[0.2222222222222222,\"#7201a8\"],[0.3333333333333333,\"#9c179e\"],[0.4444444444444444,\"#bd3786\"],[0.5555555555555556,\"#d8576b\"],[0.6666666666666666,\"#ed7953\"],[0.7777777777777778,\"#fb9f3a\"],[0.8888888888888888,\"#fdca26\"],[1.0,\"#f0f921\"]],\"type\":\"histogram2dcontour\"}],\"mesh3d\":[{\"colorbar\":{\"outlinewidth\":0,\"ticks\":\"\"},\"type\":\"mesh3d\"}],\"parcoords\":[{\"line\":{\"colorbar\":{\"outlinewidth\":0,\"ticks\":\"\"}},\"type\":\"parcoords\"}],\"pie\":[{\"automargin\":true,\"type\":\"pie\"}],\"scatter\":[{\"marker\":{\"colorbar\":{\"outlinewidth\":0,\"ticks\":\"\"}},\"type\":\"scatter\"}],\"scatter3d\":[{\"line\":{\"colorbar\":{\"outlinewidth\":0,\"ticks\":\"\"}},\"marker\":{\"colorbar\":{\"outlinewidth\":0,\"ticks\":\"\"}},\"type\":\"scatter3d\"}],\"scattercarpet\":[{\"marker\":{\"colorbar\":{\"outlinewidth\":0,\"ticks\":\"\"}},\"type\":\"scattercarpet\"}],\"scattergeo\":[{\"marker\":{\"colorbar\":{\"outlinewidth\":0,\"ticks\":\"\"}},\"type\":\"scattergeo\"}],\"scattergl\":[{\"marker\":{\"colorbar\":{\"outlinewidth\":0,\"ticks\":\"\"}},\"type\":\"scattergl\"}],\"scattermapbox\":[{\"marker\":{\"colorbar\":{\"outlinewidth\":0,\"ticks\":\"\"}},\"type\":\"scattermapbox\"}],\"scatterpolar\":[{\"marker\":{\"colorbar\":{\"outlinewidth\":0,\"ticks\":\"\"}},\"type\":\"scatterpolar\"}],\"scatterpolargl\":[{\"marker\":{\"colorbar\":{\"outlinewidth\":0,\"ticks\":\"\"}},\"type\":\"scatterpolargl\"}],\"scatterternary\":[{\"marker\":{\"colorbar\":{\"outlinewidth\":0,\"ticks\":\"\"}},\"type\":\"scatterternary\"}],\"surface\":[{\"colorbar\":{\"outlinewidth\":0,\"ticks\":\"\"},\"colorscale\":[[0.0,\"#0d0887\"],[0.1111111111111111,\"#46039f\"],[0.2222222222222222,\"#7201a8\"],[0.3333333333333333,\"#9c179e\"],[0.4444444444444444,\"#bd3786\"],[0.5555555555555556,\"#d8576b\"],[0.6666666666666666,\"#ed7953\"],[0.7777777777777778,\"#fb9f3a\"],[0.8888888888888888,\"#fdca26\"],[1.0,\"#f0f921\"]],\"type\":\"surface\"}],\"table\":[{\"cells\":{\"fill\":{\"color\":\"#EBF0F8\"},\"line\":{\"color\":\"white\"}},\"header\":{\"fill\":{\"color\":\"#C8D4E3\"},\"line\":{\"color\":\"white\"}},\"type\":\"table\"}]},\"layout\":{\"annotationdefaults\":{\"arrowcolor\":\"#2a3f5f\",\"arrowhead\":0,\"arrowwidth\":1},\"autotypenumbers\":\"strict\",\"coloraxis\":{\"colorbar\":{\"outlinewidth\":0,\"ticks\":\"\"}},\"colorscale\":{\"diverging\":[[0,\"#8e0152\"],[0.1,\"#c51b7d\"],[0.2,\"#de77ae\"],[0.3,\"#f1b6da\"],[0.4,\"#fde0ef\"],[0.5,\"#f7f7f7\"],[0.6,\"#e6f5d0\"],[0.7,\"#b8e186\"],[0.8,\"#7fbc41\"],[0.9,\"#4d9221\"],[1,\"#276419\"]],\"sequential\":[[0.0,\"#0d0887\"],[0.1111111111111111,\"#46039f\"],[0.2222222222222222,\"#7201a8\"],[0.3333333333333333,\"#9c179e\"],[0.4444444444444444,\"#bd3786\"],[0.5555555555555556,\"#d8576b\"],[0.6666666666666666,\"#ed7953\"],[0.7777777777777778,\"#fb9f3a\"],[0.8888888888888888,\"#fdca26\"],[1.0,\"#f0f921\"]],\"sequentialminus\":[[0.0,\"#0d0887\"],[0.1111111111111111,\"#46039f\"],[0.2222222222222222,\"#7201a8\"],[0.3333333333333333,\"#9c179e\"],[0.4444444444444444,\"#bd3786\"],[0.5555555555555556,\"#d8576b\"],[0.6666666666666666,\"#ed7953\"],[0.7777777777777778,\"#fb9f3a\"],[0.8888888888888888,\"#fdca26\"],[1.0,\"#f0f921\"]]},\"colorway\":[\"#636efa\",\"#EF553B\",\"#00cc96\",\"#ab63fa\",\"#FFA15A\",\"#19d3f3\",\"#FF6692\",\"#B6E880\",\"#FF97FF\",\"#FECB52\"],\"font\":{\"color\":\"#2a3f5f\"},\"geo\":{\"bgcolor\":\"white\",\"lakecolor\":\"white\",\"landcolor\":\"#E5ECF6\",\"showlakes\":true,\"showland\":true,\"subunitcolor\":\"white\"},\"hoverlabel\":{\"align\":\"left\"},\"hovermode\":\"closest\",\"mapbox\":{\"style\":\"light\"},\"paper_bgcolor\":\"white\",\"plot_bgcolor\":\"#E5ECF6\",\"polar\":{\"angularaxis\":{\"gridcolor\":\"white\",\"linecolor\":\"white\",\"ticks\":\"\"},\"bgcolor\":\"#E5ECF6\",\"radialaxis\":{\"gridcolor\":\"white\",\"linecolor\":\"white\",\"ticks\":\"\"}},\"scene\":{\"xaxis\":{\"backgroundcolor\":\"#E5ECF6\",\"gridcolor\":\"white\",\"gridwidth\":2,\"linecolor\":\"white\",\"showbackground\":true,\"ticks\":\"\",\"zerolinecolor\":\"white\"},\"yaxis\":{\"backgroundcolor\":\"#E5ECF6\",\"gridcolor\":\"white\",\"gridwidth\":2,\"linecolor\":\"white\",\"showbackground\":true,\"ticks\":\"\",\"zerolinecolor\":\"white\"},\"zaxis\":{\"backgroundcolor\":\"#E5ECF6\",\"gridcolor\":\"white\",\"gridwidth\":2,\"linecolor\":\"white\",\"showbackground\":true,\"ticks\":\"\",\"zerolinecolor\":\"white\"}},\"shapedefaults\":{\"line\":{\"color\":\"#2a3f5f\"}},\"ternary\":{\"aaxis\":{\"gridcolor\":\"white\",\"linecolor\":\"white\",\"ticks\":\"\"},\"baxis\":{\"gridcolor\":\"white\",\"linecolor\":\"white\",\"ticks\":\"\"},\"bgcolor\":\"#E5ECF6\",\"caxis\":{\"gridcolor\":\"white\",\"linecolor\":\"white\",\"ticks\":\"\"}},\"title\":{\"x\":0.05},\"xaxis\":{\"automargin\":true,\"gridcolor\":\"white\",\"linecolor\":\"white\",\"ticks\":\"\",\"title\":{\"standoff\":15},\"zerolinecolor\":\"white\",\"zerolinewidth\":2},\"yaxis\":{\"automargin\":true,\"gridcolor\":\"white\",\"linecolor\":\"white\",\"ticks\":\"\",\"title\":{\"standoff\":15},\"zerolinecolor\":\"white\",\"zerolinewidth\":2}}},\"xaxis\":{\"anchor\":\"y\",\"domain\":[0.0,1.0],\"title\":{\"text\":\"index\"}},\"yaxis\":{\"anchor\":\"x\",\"domain\":[0.0,1.0],\"title\":{\"text\":\"sum of y\"}},\"legend\":{\"tracegroupgap\":0},\"title\":{\"text\":\"3eiy - Total Degree by Residue Type\"},\"barmode\":\"relative\"},                        {\"responsive\": true}                    ).then(function(){\n",
              "                            \n",
              "var gd = document.getElementById('295284cc-80e0-4b31-a2ca-f09410df5d2e');\n",
              "var x = new MutationObserver(function (mutations, observer) {{\n",
              "        var display = window.getComputedStyle(gd).display;\n",
              "        if (!display || display === 'none') {{\n",
              "            console.log([gd, 'removed!']);\n",
              "            Plotly.purge(gd);\n",
              "            observer.disconnect();\n",
              "        }}\n",
              "}});\n",
              "\n",
              "// Listen for the removal of the full notebook cells\n",
              "var notebookContainer = gd.closest('#notebook-container');\n",
              "if (notebookContainer) {{\n",
              "    x.observe(notebookContainer, {childList: true});\n",
              "}}\n",
              "\n",
              "// Listen for the clearing of the current output cell\n",
              "var outputEl = gd.closest('.output');\n",
              "if (outputEl) {{\n",
              "    x.observe(outputEl, {childList: true});\n",
              "}}\n",
              "\n",
              "                        })                };                            </script>        </div>\n",
              "</body>\n",
              "</html>"
            ]
          },
          "metadata": {}
        }
      ]
    },
    {
      "cell_type": "code",
      "source": [
        "fig = plot_degree_by_residue_type(g, normalise_by_residue_occurrence=True)\n",
        "fig.show()"
      ],
      "metadata": {
        "colab": {
          "base_uri": "https://localhost:8080/",
          "height": 542
        },
        "id": "Omydclsf0TWF",
        "outputId": "6e1c4606-d70f-42de-a342-85488cda818f"
      },
      "execution_count": 22,
      "outputs": [
        {
          "output_type": "display_data",
          "data": {
            "text/html": [
              "<html>\n",
              "<head><meta charset=\"utf-8\" /></head>\n",
              "<body>\n",
              "    <div>            <script src=\"https://cdnjs.cloudflare.com/ajax/libs/mathjax/2.7.5/MathJax.js?config=TeX-AMS-MML_SVG\"></script><script type=\"text/javascript\">if (window.MathJax) {MathJax.Hub.Config({SVG: {font: \"STIX-Web\"}});}</script>                <script type=\"text/javascript\">window.PlotlyConfig = {MathJaxConfig: 'local'};</script>\n",
              "        <script src=\"https://cdn.plot.ly/plotly-2.8.3.min.js\"></script>                <div id=\"22b8493a-b54f-4a5f-97ab-8acbbc01c6fe\" class=\"plotly-graph-div\" style=\"height:525px; width:100%;\"></div>            <script type=\"text/javascript\">                                    window.PLOTLYENV=window.PLOTLYENV || {};                                    if (document.getElementById(\"22b8493a-b54f-4a5f-97ab-8acbbc01c6fe\")) {                    Plotly.newPlot(                        \"22b8493a-b54f-4a5f-97ab-8acbbc01c6fe\",                        [{\"alignmentgroup\":\"True\",\"bingroup\":\"x\",\"histfunc\":\"sum\",\"hovertemplate\":\"index=%{x}<br>sum of y=%{y}<extra></extra>\",\"legendgroup\":\"\",\"marker\":{\"color\":\"#636efa\",\"pattern\":{\"shape\":\"\"}},\"name\":\"\",\"offsetgroup\":\"\",\"orientation\":\"v\",\"showlegend\":false,\"x\":[\"ALA\",\"ARG\",\"ASN\",\"ASP\",\"CYS\",\"GLN\",\"GLU\",\"GLY\",\"HIS\",\"ILE\",\"LEU\",\"LYS\",\"MET\",\"PHE\",\"PRO\",\"SER\",\"THR\",\"TRP\",\"TYR\",\"VAL\"],\"xaxis\":\"x\",\"y\":[3.8,2.0,2.0,2.0,2.0,2.0,2.0,2.0,2.0,7.2,5.428571428571429,1.9375,5.0,6.25,3.75,1.8571428571428572,2.0,4.0,6.4,6.0],\"yaxis\":\"y\",\"type\":\"histogram\"}],                        {\"template\":{\"data\":{\"bar\":[{\"error_x\":{\"color\":\"#2a3f5f\"},\"error_y\":{\"color\":\"#2a3f5f\"},\"marker\":{\"line\":{\"color\":\"#E5ECF6\",\"width\":0.5},\"pattern\":{\"fillmode\":\"overlay\",\"size\":10,\"solidity\":0.2}},\"type\":\"bar\"}],\"barpolar\":[{\"marker\":{\"line\":{\"color\":\"#E5ECF6\",\"width\":0.5},\"pattern\":{\"fillmode\":\"overlay\",\"size\":10,\"solidity\":0.2}},\"type\":\"barpolar\"}],\"carpet\":[{\"aaxis\":{\"endlinecolor\":\"#2a3f5f\",\"gridcolor\":\"white\",\"linecolor\":\"white\",\"minorgridcolor\":\"white\",\"startlinecolor\":\"#2a3f5f\"},\"baxis\":{\"endlinecolor\":\"#2a3f5f\",\"gridcolor\":\"white\",\"linecolor\":\"white\",\"minorgridcolor\":\"white\",\"startlinecolor\":\"#2a3f5f\"},\"type\":\"carpet\"}],\"choropleth\":[{\"colorbar\":{\"outlinewidth\":0,\"ticks\":\"\"},\"type\":\"choropleth\"}],\"contour\":[{\"colorbar\":{\"outlinewidth\":0,\"ticks\":\"\"},\"colorscale\":[[0.0,\"#0d0887\"],[0.1111111111111111,\"#46039f\"],[0.2222222222222222,\"#7201a8\"],[0.3333333333333333,\"#9c179e\"],[0.4444444444444444,\"#bd3786\"],[0.5555555555555556,\"#d8576b\"],[0.6666666666666666,\"#ed7953\"],[0.7777777777777778,\"#fb9f3a\"],[0.8888888888888888,\"#fdca26\"],[1.0,\"#f0f921\"]],\"type\":\"contour\"}],\"contourcarpet\":[{\"colorbar\":{\"outlinewidth\":0,\"ticks\":\"\"},\"type\":\"contourcarpet\"}],\"heatmap\":[{\"colorbar\":{\"outlinewidth\":0,\"ticks\":\"\"},\"colorscale\":[[0.0,\"#0d0887\"],[0.1111111111111111,\"#46039f\"],[0.2222222222222222,\"#7201a8\"],[0.3333333333333333,\"#9c179e\"],[0.4444444444444444,\"#bd3786\"],[0.5555555555555556,\"#d8576b\"],[0.6666666666666666,\"#ed7953\"],[0.7777777777777778,\"#fb9f3a\"],[0.8888888888888888,\"#fdca26\"],[1.0,\"#f0f921\"]],\"type\":\"heatmap\"}],\"heatmapgl\":[{\"colorbar\":{\"outlinewidth\":0,\"ticks\":\"\"},\"colorscale\":[[0.0,\"#0d0887\"],[0.1111111111111111,\"#46039f\"],[0.2222222222222222,\"#7201a8\"],[0.3333333333333333,\"#9c179e\"],[0.4444444444444444,\"#bd3786\"],[0.5555555555555556,\"#d8576b\"],[0.6666666666666666,\"#ed7953\"],[0.7777777777777778,\"#fb9f3a\"],[0.8888888888888888,\"#fdca26\"],[1.0,\"#f0f921\"]],\"type\":\"heatmapgl\"}],\"histogram\":[{\"marker\":{\"pattern\":{\"fillmode\":\"overlay\",\"size\":10,\"solidity\":0.2}},\"type\":\"histogram\"}],\"histogram2d\":[{\"colorbar\":{\"outlinewidth\":0,\"ticks\":\"\"},\"colorscale\":[[0.0,\"#0d0887\"],[0.1111111111111111,\"#46039f\"],[0.2222222222222222,\"#7201a8\"],[0.3333333333333333,\"#9c179e\"],[0.4444444444444444,\"#bd3786\"],[0.5555555555555556,\"#d8576b\"],[0.6666666666666666,\"#ed7953\"],[0.7777777777777778,\"#fb9f3a\"],[0.8888888888888888,\"#fdca26\"],[1.0,\"#f0f921\"]],\"type\":\"histogram2d\"}],\"histogram2dcontour\":[{\"colorbar\":{\"outlinewidth\":0,\"ticks\":\"\"},\"colorscale\":[[0.0,\"#0d0887\"],[0.1111111111111111,\"#46039f\"],[0.2222222222222222,\"#7201a8\"],[0.3333333333333333,\"#9c179e\"],[0.4444444444444444,\"#bd3786\"],[0.5555555555555556,\"#d8576b\"],[0.6666666666666666,\"#ed7953\"],[0.7777777777777778,\"#fb9f3a\"],[0.8888888888888888,\"#fdca26\"],[1.0,\"#f0f921\"]],\"type\":\"histogram2dcontour\"}],\"mesh3d\":[{\"colorbar\":{\"outlinewidth\":0,\"ticks\":\"\"},\"type\":\"mesh3d\"}],\"parcoords\":[{\"line\":{\"colorbar\":{\"outlinewidth\":0,\"ticks\":\"\"}},\"type\":\"parcoords\"}],\"pie\":[{\"automargin\":true,\"type\":\"pie\"}],\"scatter\":[{\"marker\":{\"colorbar\":{\"outlinewidth\":0,\"ticks\":\"\"}},\"type\":\"scatter\"}],\"scatter3d\":[{\"line\":{\"colorbar\":{\"outlinewidth\":0,\"ticks\":\"\"}},\"marker\":{\"colorbar\":{\"outlinewidth\":0,\"ticks\":\"\"}},\"type\":\"scatter3d\"}],\"scattercarpet\":[{\"marker\":{\"colorbar\":{\"outlinewidth\":0,\"ticks\":\"\"}},\"type\":\"scattercarpet\"}],\"scattergeo\":[{\"marker\":{\"colorbar\":{\"outlinewidth\":0,\"ticks\":\"\"}},\"type\":\"scattergeo\"}],\"scattergl\":[{\"marker\":{\"colorbar\":{\"outlinewidth\":0,\"ticks\":\"\"}},\"type\":\"scattergl\"}],\"scattermapbox\":[{\"marker\":{\"colorbar\":{\"outlinewidth\":0,\"ticks\":\"\"}},\"type\":\"scattermapbox\"}],\"scatterpolar\":[{\"marker\":{\"colorbar\":{\"outlinewidth\":0,\"ticks\":\"\"}},\"type\":\"scatterpolar\"}],\"scatterpolargl\":[{\"marker\":{\"colorbar\":{\"outlinewidth\":0,\"ticks\":\"\"}},\"type\":\"scatterpolargl\"}],\"scatterternary\":[{\"marker\":{\"colorbar\":{\"outlinewidth\":0,\"ticks\":\"\"}},\"type\":\"scatterternary\"}],\"surface\":[{\"colorbar\":{\"outlinewidth\":0,\"ticks\":\"\"},\"colorscale\":[[0.0,\"#0d0887\"],[0.1111111111111111,\"#46039f\"],[0.2222222222222222,\"#7201a8\"],[0.3333333333333333,\"#9c179e\"],[0.4444444444444444,\"#bd3786\"],[0.5555555555555556,\"#d8576b\"],[0.6666666666666666,\"#ed7953\"],[0.7777777777777778,\"#fb9f3a\"],[0.8888888888888888,\"#fdca26\"],[1.0,\"#f0f921\"]],\"type\":\"surface\"}],\"table\":[{\"cells\":{\"fill\":{\"color\":\"#EBF0F8\"},\"line\":{\"color\":\"white\"}},\"header\":{\"fill\":{\"color\":\"#C8D4E3\"},\"line\":{\"color\":\"white\"}},\"type\":\"table\"}]},\"layout\":{\"annotationdefaults\":{\"arrowcolor\":\"#2a3f5f\",\"arrowhead\":0,\"arrowwidth\":1},\"autotypenumbers\":\"strict\",\"coloraxis\":{\"colorbar\":{\"outlinewidth\":0,\"ticks\":\"\"}},\"colorscale\":{\"diverging\":[[0,\"#8e0152\"],[0.1,\"#c51b7d\"],[0.2,\"#de77ae\"],[0.3,\"#f1b6da\"],[0.4,\"#fde0ef\"],[0.5,\"#f7f7f7\"],[0.6,\"#e6f5d0\"],[0.7,\"#b8e186\"],[0.8,\"#7fbc41\"],[0.9,\"#4d9221\"],[1,\"#276419\"]],\"sequential\":[[0.0,\"#0d0887\"],[0.1111111111111111,\"#46039f\"],[0.2222222222222222,\"#7201a8\"],[0.3333333333333333,\"#9c179e\"],[0.4444444444444444,\"#bd3786\"],[0.5555555555555556,\"#d8576b\"],[0.6666666666666666,\"#ed7953\"],[0.7777777777777778,\"#fb9f3a\"],[0.8888888888888888,\"#fdca26\"],[1.0,\"#f0f921\"]],\"sequentialminus\":[[0.0,\"#0d0887\"],[0.1111111111111111,\"#46039f\"],[0.2222222222222222,\"#7201a8\"],[0.3333333333333333,\"#9c179e\"],[0.4444444444444444,\"#bd3786\"],[0.5555555555555556,\"#d8576b\"],[0.6666666666666666,\"#ed7953\"],[0.7777777777777778,\"#fb9f3a\"],[0.8888888888888888,\"#fdca26\"],[1.0,\"#f0f921\"]]},\"colorway\":[\"#636efa\",\"#EF553B\",\"#00cc96\",\"#ab63fa\",\"#FFA15A\",\"#19d3f3\",\"#FF6692\",\"#B6E880\",\"#FF97FF\",\"#FECB52\"],\"font\":{\"color\":\"#2a3f5f\"},\"geo\":{\"bgcolor\":\"white\",\"lakecolor\":\"white\",\"landcolor\":\"#E5ECF6\",\"showlakes\":true,\"showland\":true,\"subunitcolor\":\"white\"},\"hoverlabel\":{\"align\":\"left\"},\"hovermode\":\"closest\",\"mapbox\":{\"style\":\"light\"},\"paper_bgcolor\":\"white\",\"plot_bgcolor\":\"#E5ECF6\",\"polar\":{\"angularaxis\":{\"gridcolor\":\"white\",\"linecolor\":\"white\",\"ticks\":\"\"},\"bgcolor\":\"#E5ECF6\",\"radialaxis\":{\"gridcolor\":\"white\",\"linecolor\":\"white\",\"ticks\":\"\"}},\"scene\":{\"xaxis\":{\"backgroundcolor\":\"#E5ECF6\",\"gridcolor\":\"white\",\"gridwidth\":2,\"linecolor\":\"white\",\"showbackground\":true,\"ticks\":\"\",\"zerolinecolor\":\"white\"},\"yaxis\":{\"backgroundcolor\":\"#E5ECF6\",\"gridcolor\":\"white\",\"gridwidth\":2,\"linecolor\":\"white\",\"showbackground\":true,\"ticks\":\"\",\"zerolinecolor\":\"white\"},\"zaxis\":{\"backgroundcolor\":\"#E5ECF6\",\"gridcolor\":\"white\",\"gridwidth\":2,\"linecolor\":\"white\",\"showbackground\":true,\"ticks\":\"\",\"zerolinecolor\":\"white\"}},\"shapedefaults\":{\"line\":{\"color\":\"#2a3f5f\"}},\"ternary\":{\"aaxis\":{\"gridcolor\":\"white\",\"linecolor\":\"white\",\"ticks\":\"\"},\"baxis\":{\"gridcolor\":\"white\",\"linecolor\":\"white\",\"ticks\":\"\"},\"bgcolor\":\"#E5ECF6\",\"caxis\":{\"gridcolor\":\"white\",\"linecolor\":\"white\",\"ticks\":\"\"}},\"title\":{\"x\":0.05},\"xaxis\":{\"automargin\":true,\"gridcolor\":\"white\",\"linecolor\":\"white\",\"ticks\":\"\",\"title\":{\"standoff\":15},\"zerolinecolor\":\"white\",\"zerolinewidth\":2},\"yaxis\":{\"automargin\":true,\"gridcolor\":\"white\",\"linecolor\":\"white\",\"ticks\":\"\",\"title\":{\"standoff\":15},\"zerolinecolor\":\"white\",\"zerolinewidth\":2}}},\"xaxis\":{\"anchor\":\"y\",\"domain\":[0.0,1.0],\"title\":{\"text\":\"index\"}},\"yaxis\":{\"anchor\":\"x\",\"domain\":[0.0,1.0],\"title\":{\"text\":\"sum of y\"}},\"legend\":{\"tracegroupgap\":0},\"title\":{\"text\":\"3eiy - Total Degree by Residue Type (Normalised by Residue Occurrence)\"},\"barmode\":\"relative\"},                        {\"responsive\": true}                    ).then(function(){\n",
              "                            \n",
              "var gd = document.getElementById('22b8493a-b54f-4a5f-97ab-8acbbc01c6fe');\n",
              "var x = new MutationObserver(function (mutations, observer) {{\n",
              "        var display = window.getComputedStyle(gd).display;\n",
              "        if (!display || display === 'none') {{\n",
              "            console.log([gd, 'removed!']);\n",
              "            Plotly.purge(gd);\n",
              "            observer.disconnect();\n",
              "        }}\n",
              "}});\n",
              "\n",
              "// Listen for the removal of the full notebook cells\n",
              "var notebookContainer = gd.closest('#notebook-container');\n",
              "if (notebookContainer) {{\n",
              "    x.observe(notebookContainer, {childList: true});\n",
              "}}\n",
              "\n",
              "// Listen for the clearing of the current output cell\n",
              "var outputEl = gd.closest('.output');\n",
              "if (outputEl) {{\n",
              "    x.observe(outputEl, {childList: true});\n",
              "}}\n",
              "\n",
              "                        })                };                            </script>        </div>\n",
              "</body>\n",
              "</html>"
            ]
          },
          "metadata": {}
        }
      ]
    },
    {
      "cell_type": "code",
      "source": [
        "from graphein.protein.analysis import plot_edge_type_distribution\n",
        "\n",
        "fig = plot_edge_type_distribution(g, plot_type=\"bar\")\n",
        "fig.show()"
      ],
      "metadata": {
        "colab": {
          "base_uri": "https://localhost:8080/",
          "height": 542
        },
        "id": "cxBk-ph90W5e",
        "outputId": "2ded5051-1332-4833-a443-f761bd62af08"
      },
      "execution_count": 23,
      "outputs": [
        {
          "output_type": "display_data",
          "data": {
            "text/html": [
              "<html>\n",
              "<head><meta charset=\"utf-8\" /></head>\n",
              "<body>\n",
              "    <div>            <script src=\"https://cdnjs.cloudflare.com/ajax/libs/mathjax/2.7.5/MathJax.js?config=TeX-AMS-MML_SVG\"></script><script type=\"text/javascript\">if (window.MathJax) {MathJax.Hub.Config({SVG: {font: \"STIX-Web\"}});}</script>                <script type=\"text/javascript\">window.PlotlyConfig = {MathJaxConfig: 'local'};</script>\n",
              "        <script src=\"https://cdn.plot.ly/plotly-2.8.3.min.js\"></script>                <div id=\"256a5fbb-61b8-47aa-8ab4-0686fcaaccef\" class=\"plotly-graph-div\" style=\"height:525px; width:100%;\"></div>            <script type=\"text/javascript\">                                    window.PLOTLYENV=window.PLOTLYENV || {};                                    if (document.getElementById(\"256a5fbb-61b8-47aa-8ab4-0686fcaaccef\")) {                    Plotly.newPlot(                        \"256a5fbb-61b8-47aa-8ab4-0686fcaaccef\",                        [{\"alignmentgroup\":\"True\",\"hovertemplate\":\"variable=counts<br>index=%{x}<br>value=%{y}<extra></extra>\",\"legendgroup\":\"counts\",\"marker\":{\"color\":\"#636efa\",\"pattern\":{\"shape\":\"\"}},\"name\":\"counts\",\"offsetgroup\":\"counts\",\"orientation\":\"v\",\"showlegend\":true,\"textposition\":\"auto\",\"x\":[\"peptide_bond\",\"hydrophobic\",\"aromatic\"],\"xaxis\":\"x\",\"y\":[173,148,7],\"yaxis\":\"y\",\"type\":\"bar\"}],                        {\"template\":{\"data\":{\"bar\":[{\"error_x\":{\"color\":\"#2a3f5f\"},\"error_y\":{\"color\":\"#2a3f5f\"},\"marker\":{\"line\":{\"color\":\"#E5ECF6\",\"width\":0.5},\"pattern\":{\"fillmode\":\"overlay\",\"size\":10,\"solidity\":0.2}},\"type\":\"bar\"}],\"barpolar\":[{\"marker\":{\"line\":{\"color\":\"#E5ECF6\",\"width\":0.5},\"pattern\":{\"fillmode\":\"overlay\",\"size\":10,\"solidity\":0.2}},\"type\":\"barpolar\"}],\"carpet\":[{\"aaxis\":{\"endlinecolor\":\"#2a3f5f\",\"gridcolor\":\"white\",\"linecolor\":\"white\",\"minorgridcolor\":\"white\",\"startlinecolor\":\"#2a3f5f\"},\"baxis\":{\"endlinecolor\":\"#2a3f5f\",\"gridcolor\":\"white\",\"linecolor\":\"white\",\"minorgridcolor\":\"white\",\"startlinecolor\":\"#2a3f5f\"},\"type\":\"carpet\"}],\"choropleth\":[{\"colorbar\":{\"outlinewidth\":0,\"ticks\":\"\"},\"type\":\"choropleth\"}],\"contour\":[{\"colorbar\":{\"outlinewidth\":0,\"ticks\":\"\"},\"colorscale\":[[0.0,\"#0d0887\"],[0.1111111111111111,\"#46039f\"],[0.2222222222222222,\"#7201a8\"],[0.3333333333333333,\"#9c179e\"],[0.4444444444444444,\"#bd3786\"],[0.5555555555555556,\"#d8576b\"],[0.6666666666666666,\"#ed7953\"],[0.7777777777777778,\"#fb9f3a\"],[0.8888888888888888,\"#fdca26\"],[1.0,\"#f0f921\"]],\"type\":\"contour\"}],\"contourcarpet\":[{\"colorbar\":{\"outlinewidth\":0,\"ticks\":\"\"},\"type\":\"contourcarpet\"}],\"heatmap\":[{\"colorbar\":{\"outlinewidth\":0,\"ticks\":\"\"},\"colorscale\":[[0.0,\"#0d0887\"],[0.1111111111111111,\"#46039f\"],[0.2222222222222222,\"#7201a8\"],[0.3333333333333333,\"#9c179e\"],[0.4444444444444444,\"#bd3786\"],[0.5555555555555556,\"#d8576b\"],[0.6666666666666666,\"#ed7953\"],[0.7777777777777778,\"#fb9f3a\"],[0.8888888888888888,\"#fdca26\"],[1.0,\"#f0f921\"]],\"type\":\"heatmap\"}],\"heatmapgl\":[{\"colorbar\":{\"outlinewidth\":0,\"ticks\":\"\"},\"colorscale\":[[0.0,\"#0d0887\"],[0.1111111111111111,\"#46039f\"],[0.2222222222222222,\"#7201a8\"],[0.3333333333333333,\"#9c179e\"],[0.4444444444444444,\"#bd3786\"],[0.5555555555555556,\"#d8576b\"],[0.6666666666666666,\"#ed7953\"],[0.7777777777777778,\"#fb9f3a\"],[0.8888888888888888,\"#fdca26\"],[1.0,\"#f0f921\"]],\"type\":\"heatmapgl\"}],\"histogram\":[{\"marker\":{\"pattern\":{\"fillmode\":\"overlay\",\"size\":10,\"solidity\":0.2}},\"type\":\"histogram\"}],\"histogram2d\":[{\"colorbar\":{\"outlinewidth\":0,\"ticks\":\"\"},\"colorscale\":[[0.0,\"#0d0887\"],[0.1111111111111111,\"#46039f\"],[0.2222222222222222,\"#7201a8\"],[0.3333333333333333,\"#9c179e\"],[0.4444444444444444,\"#bd3786\"],[0.5555555555555556,\"#d8576b\"],[0.6666666666666666,\"#ed7953\"],[0.7777777777777778,\"#fb9f3a\"],[0.8888888888888888,\"#fdca26\"],[1.0,\"#f0f921\"]],\"type\":\"histogram2d\"}],\"histogram2dcontour\":[{\"colorbar\":{\"outlinewidth\":0,\"ticks\":\"\"},\"colorscale\":[[0.0,\"#0d0887\"],[0.1111111111111111,\"#46039f\"],[0.2222222222222222,\"#7201a8\"],[0.3333333333333333,\"#9c179e\"],[0.4444444444444444,\"#bd3786\"],[0.5555555555555556,\"#d8576b\"],[0.6666666666666666,\"#ed7953\"],[0.7777777777777778,\"#fb9f3a\"],[0.8888888888888888,\"#fdca26\"],[1.0,\"#f0f921\"]],\"type\":\"histogram2dcontour\"}],\"mesh3d\":[{\"colorbar\":{\"outlinewidth\":0,\"ticks\":\"\"},\"type\":\"mesh3d\"}],\"parcoords\":[{\"line\":{\"colorbar\":{\"outlinewidth\":0,\"ticks\":\"\"}},\"type\":\"parcoords\"}],\"pie\":[{\"automargin\":true,\"type\":\"pie\"}],\"scatter\":[{\"marker\":{\"colorbar\":{\"outlinewidth\":0,\"ticks\":\"\"}},\"type\":\"scatter\"}],\"scatter3d\":[{\"line\":{\"colorbar\":{\"outlinewidth\":0,\"ticks\":\"\"}},\"marker\":{\"colorbar\":{\"outlinewidth\":0,\"ticks\":\"\"}},\"type\":\"scatter3d\"}],\"scattercarpet\":[{\"marker\":{\"colorbar\":{\"outlinewidth\":0,\"ticks\":\"\"}},\"type\":\"scattercarpet\"}],\"scattergeo\":[{\"marker\":{\"colorbar\":{\"outlinewidth\":0,\"ticks\":\"\"}},\"type\":\"scattergeo\"}],\"scattergl\":[{\"marker\":{\"colorbar\":{\"outlinewidth\":0,\"ticks\":\"\"}},\"type\":\"scattergl\"}],\"scattermapbox\":[{\"marker\":{\"colorbar\":{\"outlinewidth\":0,\"ticks\":\"\"}},\"type\":\"scattermapbox\"}],\"scatterpolar\":[{\"marker\":{\"colorbar\":{\"outlinewidth\":0,\"ticks\":\"\"}},\"type\":\"scatterpolar\"}],\"scatterpolargl\":[{\"marker\":{\"colorbar\":{\"outlinewidth\":0,\"ticks\":\"\"}},\"type\":\"scatterpolargl\"}],\"scatterternary\":[{\"marker\":{\"colorbar\":{\"outlinewidth\":0,\"ticks\":\"\"}},\"type\":\"scatterternary\"}],\"surface\":[{\"colorbar\":{\"outlinewidth\":0,\"ticks\":\"\"},\"colorscale\":[[0.0,\"#0d0887\"],[0.1111111111111111,\"#46039f\"],[0.2222222222222222,\"#7201a8\"],[0.3333333333333333,\"#9c179e\"],[0.4444444444444444,\"#bd3786\"],[0.5555555555555556,\"#d8576b\"],[0.6666666666666666,\"#ed7953\"],[0.7777777777777778,\"#fb9f3a\"],[0.8888888888888888,\"#fdca26\"],[1.0,\"#f0f921\"]],\"type\":\"surface\"}],\"table\":[{\"cells\":{\"fill\":{\"color\":\"#EBF0F8\"},\"line\":{\"color\":\"white\"}},\"header\":{\"fill\":{\"color\":\"#C8D4E3\"},\"line\":{\"color\":\"white\"}},\"type\":\"table\"}]},\"layout\":{\"annotationdefaults\":{\"arrowcolor\":\"#2a3f5f\",\"arrowhead\":0,\"arrowwidth\":1},\"autotypenumbers\":\"strict\",\"coloraxis\":{\"colorbar\":{\"outlinewidth\":0,\"ticks\":\"\"}},\"colorscale\":{\"diverging\":[[0,\"#8e0152\"],[0.1,\"#c51b7d\"],[0.2,\"#de77ae\"],[0.3,\"#f1b6da\"],[0.4,\"#fde0ef\"],[0.5,\"#f7f7f7\"],[0.6,\"#e6f5d0\"],[0.7,\"#b8e186\"],[0.8,\"#7fbc41\"],[0.9,\"#4d9221\"],[1,\"#276419\"]],\"sequential\":[[0.0,\"#0d0887\"],[0.1111111111111111,\"#46039f\"],[0.2222222222222222,\"#7201a8\"],[0.3333333333333333,\"#9c179e\"],[0.4444444444444444,\"#bd3786\"],[0.5555555555555556,\"#d8576b\"],[0.6666666666666666,\"#ed7953\"],[0.7777777777777778,\"#fb9f3a\"],[0.8888888888888888,\"#fdca26\"],[1.0,\"#f0f921\"]],\"sequentialminus\":[[0.0,\"#0d0887\"],[0.1111111111111111,\"#46039f\"],[0.2222222222222222,\"#7201a8\"],[0.3333333333333333,\"#9c179e\"],[0.4444444444444444,\"#bd3786\"],[0.5555555555555556,\"#d8576b\"],[0.6666666666666666,\"#ed7953\"],[0.7777777777777778,\"#fb9f3a\"],[0.8888888888888888,\"#fdca26\"],[1.0,\"#f0f921\"]]},\"colorway\":[\"#636efa\",\"#EF553B\",\"#00cc96\",\"#ab63fa\",\"#FFA15A\",\"#19d3f3\",\"#FF6692\",\"#B6E880\",\"#FF97FF\",\"#FECB52\"],\"font\":{\"color\":\"#2a3f5f\"},\"geo\":{\"bgcolor\":\"white\",\"lakecolor\":\"white\",\"landcolor\":\"#E5ECF6\",\"showlakes\":true,\"showland\":true,\"subunitcolor\":\"white\"},\"hoverlabel\":{\"align\":\"left\"},\"hovermode\":\"closest\",\"mapbox\":{\"style\":\"light\"},\"paper_bgcolor\":\"white\",\"plot_bgcolor\":\"#E5ECF6\",\"polar\":{\"angularaxis\":{\"gridcolor\":\"white\",\"linecolor\":\"white\",\"ticks\":\"\"},\"bgcolor\":\"#E5ECF6\",\"radialaxis\":{\"gridcolor\":\"white\",\"linecolor\":\"white\",\"ticks\":\"\"}},\"scene\":{\"xaxis\":{\"backgroundcolor\":\"#E5ECF6\",\"gridcolor\":\"white\",\"gridwidth\":2,\"linecolor\":\"white\",\"showbackground\":true,\"ticks\":\"\",\"zerolinecolor\":\"white\"},\"yaxis\":{\"backgroundcolor\":\"#E5ECF6\",\"gridcolor\":\"white\",\"gridwidth\":2,\"linecolor\":\"white\",\"showbackground\":true,\"ticks\":\"\",\"zerolinecolor\":\"white\"},\"zaxis\":{\"backgroundcolor\":\"#E5ECF6\",\"gridcolor\":\"white\",\"gridwidth\":2,\"linecolor\":\"white\",\"showbackground\":true,\"ticks\":\"\",\"zerolinecolor\":\"white\"}},\"shapedefaults\":{\"line\":{\"color\":\"#2a3f5f\"}},\"ternary\":{\"aaxis\":{\"gridcolor\":\"white\",\"linecolor\":\"white\",\"ticks\":\"\"},\"baxis\":{\"gridcolor\":\"white\",\"linecolor\":\"white\",\"ticks\":\"\"},\"bgcolor\":\"#E5ECF6\",\"caxis\":{\"gridcolor\":\"white\",\"linecolor\":\"white\",\"ticks\":\"\"}},\"title\":{\"x\":0.05},\"xaxis\":{\"automargin\":true,\"gridcolor\":\"white\",\"linecolor\":\"white\",\"ticks\":\"\",\"title\":{\"standoff\":15},\"zerolinecolor\":\"white\",\"zerolinewidth\":2},\"yaxis\":{\"automargin\":true,\"gridcolor\":\"white\",\"linecolor\":\"white\",\"ticks\":\"\",\"title\":{\"standoff\":15},\"zerolinecolor\":\"white\",\"zerolinewidth\":2}}},\"xaxis\":{\"anchor\":\"y\",\"domain\":[0.0,1.0],\"title\":{\"text\":\"index\"}},\"yaxis\":{\"anchor\":\"x\",\"domain\":[0.0,1.0],\"title\":{\"text\":\"value\"}},\"legend\":{\"title\":{\"text\":\"variable\"},\"tracegroupgap\":0},\"title\":{\"text\":\"3eiy\"},\"barmode\":\"relative\"},                        {\"responsive\": true}                    ).then(function(){\n",
              "                            \n",
              "var gd = document.getElementById('256a5fbb-61b8-47aa-8ab4-0686fcaaccef');\n",
              "var x = new MutationObserver(function (mutations, observer) {{\n",
              "        var display = window.getComputedStyle(gd).display;\n",
              "        if (!display || display === 'none') {{\n",
              "            console.log([gd, 'removed!']);\n",
              "            Plotly.purge(gd);\n",
              "            observer.disconnect();\n",
              "        }}\n",
              "}});\n",
              "\n",
              "// Listen for the removal of the full notebook cells\n",
              "var notebookContainer = gd.closest('#notebook-container');\n",
              "if (notebookContainer) {{\n",
              "    x.observe(notebookContainer, {childList: true});\n",
              "}}\n",
              "\n",
              "// Listen for the clearing of the current output cell\n",
              "var outputEl = gd.closest('.output');\n",
              "if (outputEl) {{\n",
              "    x.observe(outputEl, {childList: true});\n",
              "}}\n",
              "\n",
              "                        })                };                            </script>        </div>\n",
              "</body>\n",
              "</html>"
            ]
          },
          "metadata": {}
        }
      ]
    },
    {
      "cell_type": "code",
      "source": [
        "from graphein.protein.analysis import plot_edge_type_distribution\n",
        "\n",
        "fig = plot_edge_type_distribution(g, plot_type=\"pie\")\n",
        "fig.show()"
      ],
      "metadata": {
        "colab": {
          "base_uri": "https://localhost:8080/",
          "height": 542
        },
        "id": "42dj1t370ara",
        "outputId": "598146e8-06c8-4c04-a2c1-a8f19dd99e7d"
      },
      "execution_count": 24,
      "outputs": [
        {
          "output_type": "display_data",
          "data": {
            "text/html": [
              "<html>\n",
              "<head><meta charset=\"utf-8\" /></head>\n",
              "<body>\n",
              "    <div>            <script src=\"https://cdnjs.cloudflare.com/ajax/libs/mathjax/2.7.5/MathJax.js?config=TeX-AMS-MML_SVG\"></script><script type=\"text/javascript\">if (window.MathJax) {MathJax.Hub.Config({SVG: {font: \"STIX-Web\"}});}</script>                <script type=\"text/javascript\">window.PlotlyConfig = {MathJaxConfig: 'local'};</script>\n",
              "        <script src=\"https://cdn.plot.ly/plotly-2.8.3.min.js\"></script>                <div id=\"a2098ed7-8853-4dfd-b6ec-05f1f6cd44f4\" class=\"plotly-graph-div\" style=\"height:525px; width:100%;\"></div>            <script type=\"text/javascript\">                                    window.PLOTLYENV=window.PLOTLYENV || {};                                    if (document.getElementById(\"a2098ed7-8853-4dfd-b6ec-05f1f6cd44f4\")) {                    Plotly.newPlot(                        \"a2098ed7-8853-4dfd-b6ec-05f1f6cd44f4\",                        [{\"domain\":{\"x\":[0.0,1.0],\"y\":[0.0,1.0]},\"hovertemplate\":\"index=%{label}<br>counts=%{value}<extra></extra>\",\"labels\":[\"peptide_bond\",\"hydrophobic\",\"aromatic\"],\"legendgroup\":\"\",\"name\":\"\",\"showlegend\":true,\"values\":[173,148,7],\"type\":\"pie\"}],                        {\"template\":{\"data\":{\"bar\":[{\"error_x\":{\"color\":\"#2a3f5f\"},\"error_y\":{\"color\":\"#2a3f5f\"},\"marker\":{\"line\":{\"color\":\"#E5ECF6\",\"width\":0.5},\"pattern\":{\"fillmode\":\"overlay\",\"size\":10,\"solidity\":0.2}},\"type\":\"bar\"}],\"barpolar\":[{\"marker\":{\"line\":{\"color\":\"#E5ECF6\",\"width\":0.5},\"pattern\":{\"fillmode\":\"overlay\",\"size\":10,\"solidity\":0.2}},\"type\":\"barpolar\"}],\"carpet\":[{\"aaxis\":{\"endlinecolor\":\"#2a3f5f\",\"gridcolor\":\"white\",\"linecolor\":\"white\",\"minorgridcolor\":\"white\",\"startlinecolor\":\"#2a3f5f\"},\"baxis\":{\"endlinecolor\":\"#2a3f5f\",\"gridcolor\":\"white\",\"linecolor\":\"white\",\"minorgridcolor\":\"white\",\"startlinecolor\":\"#2a3f5f\"},\"type\":\"carpet\"}],\"choropleth\":[{\"colorbar\":{\"outlinewidth\":0,\"ticks\":\"\"},\"type\":\"choropleth\"}],\"contour\":[{\"colorbar\":{\"outlinewidth\":0,\"ticks\":\"\"},\"colorscale\":[[0.0,\"#0d0887\"],[0.1111111111111111,\"#46039f\"],[0.2222222222222222,\"#7201a8\"],[0.3333333333333333,\"#9c179e\"],[0.4444444444444444,\"#bd3786\"],[0.5555555555555556,\"#d8576b\"],[0.6666666666666666,\"#ed7953\"],[0.7777777777777778,\"#fb9f3a\"],[0.8888888888888888,\"#fdca26\"],[1.0,\"#f0f921\"]],\"type\":\"contour\"}],\"contourcarpet\":[{\"colorbar\":{\"outlinewidth\":0,\"ticks\":\"\"},\"type\":\"contourcarpet\"}],\"heatmap\":[{\"colorbar\":{\"outlinewidth\":0,\"ticks\":\"\"},\"colorscale\":[[0.0,\"#0d0887\"],[0.1111111111111111,\"#46039f\"],[0.2222222222222222,\"#7201a8\"],[0.3333333333333333,\"#9c179e\"],[0.4444444444444444,\"#bd3786\"],[0.5555555555555556,\"#d8576b\"],[0.6666666666666666,\"#ed7953\"],[0.7777777777777778,\"#fb9f3a\"],[0.8888888888888888,\"#fdca26\"],[1.0,\"#f0f921\"]],\"type\":\"heatmap\"}],\"heatmapgl\":[{\"colorbar\":{\"outlinewidth\":0,\"ticks\":\"\"},\"colorscale\":[[0.0,\"#0d0887\"],[0.1111111111111111,\"#46039f\"],[0.2222222222222222,\"#7201a8\"],[0.3333333333333333,\"#9c179e\"],[0.4444444444444444,\"#bd3786\"],[0.5555555555555556,\"#d8576b\"],[0.6666666666666666,\"#ed7953\"],[0.7777777777777778,\"#fb9f3a\"],[0.8888888888888888,\"#fdca26\"],[1.0,\"#f0f921\"]],\"type\":\"heatmapgl\"}],\"histogram\":[{\"marker\":{\"pattern\":{\"fillmode\":\"overlay\",\"size\":10,\"solidity\":0.2}},\"type\":\"histogram\"}],\"histogram2d\":[{\"colorbar\":{\"outlinewidth\":0,\"ticks\":\"\"},\"colorscale\":[[0.0,\"#0d0887\"],[0.1111111111111111,\"#46039f\"],[0.2222222222222222,\"#7201a8\"],[0.3333333333333333,\"#9c179e\"],[0.4444444444444444,\"#bd3786\"],[0.5555555555555556,\"#d8576b\"],[0.6666666666666666,\"#ed7953\"],[0.7777777777777778,\"#fb9f3a\"],[0.8888888888888888,\"#fdca26\"],[1.0,\"#f0f921\"]],\"type\":\"histogram2d\"}],\"histogram2dcontour\":[{\"colorbar\":{\"outlinewidth\":0,\"ticks\":\"\"},\"colorscale\":[[0.0,\"#0d0887\"],[0.1111111111111111,\"#46039f\"],[0.2222222222222222,\"#7201a8\"],[0.3333333333333333,\"#9c179e\"],[0.4444444444444444,\"#bd3786\"],[0.5555555555555556,\"#d8576b\"],[0.6666666666666666,\"#ed7953\"],[0.7777777777777778,\"#fb9f3a\"],[0.8888888888888888,\"#fdca26\"],[1.0,\"#f0f921\"]],\"type\":\"histogram2dcontour\"}],\"mesh3d\":[{\"colorbar\":{\"outlinewidth\":0,\"ticks\":\"\"},\"type\":\"mesh3d\"}],\"parcoords\":[{\"line\":{\"colorbar\":{\"outlinewidth\":0,\"ticks\":\"\"}},\"type\":\"parcoords\"}],\"pie\":[{\"automargin\":true,\"type\":\"pie\"}],\"scatter\":[{\"marker\":{\"colorbar\":{\"outlinewidth\":0,\"ticks\":\"\"}},\"type\":\"scatter\"}],\"scatter3d\":[{\"line\":{\"colorbar\":{\"outlinewidth\":0,\"ticks\":\"\"}},\"marker\":{\"colorbar\":{\"outlinewidth\":0,\"ticks\":\"\"}},\"type\":\"scatter3d\"}],\"scattercarpet\":[{\"marker\":{\"colorbar\":{\"outlinewidth\":0,\"ticks\":\"\"}},\"type\":\"scattercarpet\"}],\"scattergeo\":[{\"marker\":{\"colorbar\":{\"outlinewidth\":0,\"ticks\":\"\"}},\"type\":\"scattergeo\"}],\"scattergl\":[{\"marker\":{\"colorbar\":{\"outlinewidth\":0,\"ticks\":\"\"}},\"type\":\"scattergl\"}],\"scattermapbox\":[{\"marker\":{\"colorbar\":{\"outlinewidth\":0,\"ticks\":\"\"}},\"type\":\"scattermapbox\"}],\"scatterpolar\":[{\"marker\":{\"colorbar\":{\"outlinewidth\":0,\"ticks\":\"\"}},\"type\":\"scatterpolar\"}],\"scatterpolargl\":[{\"marker\":{\"colorbar\":{\"outlinewidth\":0,\"ticks\":\"\"}},\"type\":\"scatterpolargl\"}],\"scatterternary\":[{\"marker\":{\"colorbar\":{\"outlinewidth\":0,\"ticks\":\"\"}},\"type\":\"scatterternary\"}],\"surface\":[{\"colorbar\":{\"outlinewidth\":0,\"ticks\":\"\"},\"colorscale\":[[0.0,\"#0d0887\"],[0.1111111111111111,\"#46039f\"],[0.2222222222222222,\"#7201a8\"],[0.3333333333333333,\"#9c179e\"],[0.4444444444444444,\"#bd3786\"],[0.5555555555555556,\"#d8576b\"],[0.6666666666666666,\"#ed7953\"],[0.7777777777777778,\"#fb9f3a\"],[0.8888888888888888,\"#fdca26\"],[1.0,\"#f0f921\"]],\"type\":\"surface\"}],\"table\":[{\"cells\":{\"fill\":{\"color\":\"#EBF0F8\"},\"line\":{\"color\":\"white\"}},\"header\":{\"fill\":{\"color\":\"#C8D4E3\"},\"line\":{\"color\":\"white\"}},\"type\":\"table\"}]},\"layout\":{\"annotationdefaults\":{\"arrowcolor\":\"#2a3f5f\",\"arrowhead\":0,\"arrowwidth\":1},\"autotypenumbers\":\"strict\",\"coloraxis\":{\"colorbar\":{\"outlinewidth\":0,\"ticks\":\"\"}},\"colorscale\":{\"diverging\":[[0,\"#8e0152\"],[0.1,\"#c51b7d\"],[0.2,\"#de77ae\"],[0.3,\"#f1b6da\"],[0.4,\"#fde0ef\"],[0.5,\"#f7f7f7\"],[0.6,\"#e6f5d0\"],[0.7,\"#b8e186\"],[0.8,\"#7fbc41\"],[0.9,\"#4d9221\"],[1,\"#276419\"]],\"sequential\":[[0.0,\"#0d0887\"],[0.1111111111111111,\"#46039f\"],[0.2222222222222222,\"#7201a8\"],[0.3333333333333333,\"#9c179e\"],[0.4444444444444444,\"#bd3786\"],[0.5555555555555556,\"#d8576b\"],[0.6666666666666666,\"#ed7953\"],[0.7777777777777778,\"#fb9f3a\"],[0.8888888888888888,\"#fdca26\"],[1.0,\"#f0f921\"]],\"sequentialminus\":[[0.0,\"#0d0887\"],[0.1111111111111111,\"#46039f\"],[0.2222222222222222,\"#7201a8\"],[0.3333333333333333,\"#9c179e\"],[0.4444444444444444,\"#bd3786\"],[0.5555555555555556,\"#d8576b\"],[0.6666666666666666,\"#ed7953\"],[0.7777777777777778,\"#fb9f3a\"],[0.8888888888888888,\"#fdca26\"],[1.0,\"#f0f921\"]]},\"colorway\":[\"#636efa\",\"#EF553B\",\"#00cc96\",\"#ab63fa\",\"#FFA15A\",\"#19d3f3\",\"#FF6692\",\"#B6E880\",\"#FF97FF\",\"#FECB52\"],\"font\":{\"color\":\"#2a3f5f\"},\"geo\":{\"bgcolor\":\"white\",\"lakecolor\":\"white\",\"landcolor\":\"#E5ECF6\",\"showlakes\":true,\"showland\":true,\"subunitcolor\":\"white\"},\"hoverlabel\":{\"align\":\"left\"},\"hovermode\":\"closest\",\"mapbox\":{\"style\":\"light\"},\"paper_bgcolor\":\"white\",\"plot_bgcolor\":\"#E5ECF6\",\"polar\":{\"angularaxis\":{\"gridcolor\":\"white\",\"linecolor\":\"white\",\"ticks\":\"\"},\"bgcolor\":\"#E5ECF6\",\"radialaxis\":{\"gridcolor\":\"white\",\"linecolor\":\"white\",\"ticks\":\"\"}},\"scene\":{\"xaxis\":{\"backgroundcolor\":\"#E5ECF6\",\"gridcolor\":\"white\",\"gridwidth\":2,\"linecolor\":\"white\",\"showbackground\":true,\"ticks\":\"\",\"zerolinecolor\":\"white\"},\"yaxis\":{\"backgroundcolor\":\"#E5ECF6\",\"gridcolor\":\"white\",\"gridwidth\":2,\"linecolor\":\"white\",\"showbackground\":true,\"ticks\":\"\",\"zerolinecolor\":\"white\"},\"zaxis\":{\"backgroundcolor\":\"#E5ECF6\",\"gridcolor\":\"white\",\"gridwidth\":2,\"linecolor\":\"white\",\"showbackground\":true,\"ticks\":\"\",\"zerolinecolor\":\"white\"}},\"shapedefaults\":{\"line\":{\"color\":\"#2a3f5f\"}},\"ternary\":{\"aaxis\":{\"gridcolor\":\"white\",\"linecolor\":\"white\",\"ticks\":\"\"},\"baxis\":{\"gridcolor\":\"white\",\"linecolor\":\"white\",\"ticks\":\"\"},\"bgcolor\":\"#E5ECF6\",\"caxis\":{\"gridcolor\":\"white\",\"linecolor\":\"white\",\"ticks\":\"\"}},\"title\":{\"x\":0.05},\"xaxis\":{\"automargin\":true,\"gridcolor\":\"white\",\"linecolor\":\"white\",\"ticks\":\"\",\"title\":{\"standoff\":15},\"zerolinecolor\":\"white\",\"zerolinewidth\":2},\"yaxis\":{\"automargin\":true,\"gridcolor\":\"white\",\"linecolor\":\"white\",\"ticks\":\"\",\"title\":{\"standoff\":15},\"zerolinecolor\":\"white\",\"zerolinewidth\":2}}},\"legend\":{\"tracegroupgap\":0},\"title\":{\"text\":\"3eiy\"}},                        {\"responsive\": true}                    ).then(function(){\n",
              "                            \n",
              "var gd = document.getElementById('a2098ed7-8853-4dfd-b6ec-05f1f6cd44f4');\n",
              "var x = new MutationObserver(function (mutations, observer) {{\n",
              "        var display = window.getComputedStyle(gd).display;\n",
              "        if (!display || display === 'none') {{\n",
              "            console.log([gd, 'removed!']);\n",
              "            Plotly.purge(gd);\n",
              "            observer.disconnect();\n",
              "        }}\n",
              "}});\n",
              "\n",
              "// Listen for the removal of the full notebook cells\n",
              "var notebookContainer = gd.closest('#notebook-container');\n",
              "if (notebookContainer) {{\n",
              "    x.observe(notebookContainer, {childList: true});\n",
              "}}\n",
              "\n",
              "// Listen for the clearing of the current output cell\n",
              "var outputEl = gd.closest('.output');\n",
              "if (outputEl) {{\n",
              "    x.observe(outputEl, {childList: true});\n",
              "}}\n",
              "\n",
              "                        })                };                            </script>        </div>\n",
              "</body>\n",
              "</html>"
            ]
          },
          "metadata": {}
        }
      ]
    },
    {
      "cell_type": "code",
      "source": [
        "from graphein.protein.analysis import plot_graph_metric_property_correlation\n",
        "\n",
        "plot_graph_metric_property_correlation(g, diagonal_visible=False)"
      ],
      "metadata": {
        "colab": {
          "base_uri": "https://localhost:8080/",
          "height": 1000
        },
        "id": "lb1W9Bt10fhA",
        "outputId": "16707fc9-2de2-48c4-baa6-c6a06de38ed2"
      },
      "execution_count": 26,
      "outputs": [
        {
          "output_type": "display_data",
          "data": {
            "text/html": [
              "<html>\n",
              "<head><meta charset=\"utf-8\" /></head>\n",
              "<body>\n",
              "    <div>            <script src=\"https://cdnjs.cloudflare.com/ajax/libs/mathjax/2.7.5/MathJax.js?config=TeX-AMS-MML_SVG\"></script><script type=\"text/javascript\">if (window.MathJax) {MathJax.Hub.Config({SVG: {font: \"STIX-Web\"}});}</script>                <script type=\"text/javascript\">window.PlotlyConfig = {MathJaxConfig: 'local'};</script>\n",
              "        <script src=\"https://cdn.plot.ly/plotly-2.8.3.min.js\"></script>                <div id=\"30e7fd63-f2c7-43b0-804b-d590fe318438\" class=\"plotly-graph-div\" style=\"height:1000px; width:1000px;\"></div>            <script type=\"text/javascript\">                                    window.PLOTLYENV=window.PLOTLYENV || {};                                    if (document.getElementById(\"30e7fd63-f2c7-43b0-804b-d590fe318438\")) {                    Plotly.newPlot(                        \"30e7fd63-f2c7-43b0-804b-d590fe318438\",                        [{\"dimensions\":[{\"axis\":{\"matches\":true},\"label\":\"degree\",\"values\":[1.0,2.0,2.0,2.0,2.0,2.0,2.0]},{\"axis\":{\"matches\":true},\"label\":\"betweenness centrality\",\"values\":[0.0,0.0020348580086018376,0.003055076989745626,0.0030208712289637157,0.004129164572236551,0.0023639870185895506,0.00172114725060789]},{\"axis\":{\"matches\":true},\"label\":\"closeness centrality\",\"values\":[0.1787190082644628,0.17946058091286307,0.1624413145539906,0.125544267053701,0.180773249738767,0.12446043165467625,0.18463180362860193]},{\"axis\":{\"matches\":true},\"label\":\"eigenvector centrality\",\"values\":[0.005605007956361675,0.0066863900466723495,0.0010749731918129068,0.000055994580583254656,0.008233684271945945,0.000053499295017533925,0.015515465336527085]},{\"axis\":{\"matches\":true},\"label\":\"communicability betweenness centrality\",\"values\":[0.0009537617993683144,0.0034406812570661697,0.002434181810974513,0.00415818062886377,0.00445853003407006,0.0026859030330944403,0.0026005721653402257]},{\"axis\":{\"matches\":true},\"label\":\"asa\",\"values\":[106,58,34,20,37,95,27]}],\"hovertemplate\":\"<b>%{hovertext}</b><br><br>residue type=SER<br>%{xaxis.title.text}=%{x}<br>%{yaxis.title.text}=%{y}<extra></extra>\",\"hovertext\":[\"A:SER:2\",\"A:SER:4\",\"A:SER:26\",\"A:SER:64\",\"A:SER:84\",\"A:SER:100\",\"A:SER:123\"],\"legendgroup\":\"SER\",\"marker\":{\"color\":\"#636efa\",\"opacity\":0.2,\"symbol\":\"circle\"},\"name\":\"SER\",\"showlegend\":true,\"type\":\"splom\",\"diagonal\":{\"visible\":false}},{\"dimensions\":[{\"axis\":{\"matches\":true},\"label\":\"degree\",\"values\":[6.0,10.0,4.0,7.0,2.0,7.0,11.0,3.0]},{\"axis\":{\"matches\":true},\"label\":\"betweenness centrality\",\"values\":[0.05322768323082323,0.07377594192753176,0.02862784995456655,0.10605597991561179,0.007680126110339828,0.029819651510095878,0.15593986133993729,0.025774011587614398]},{\"axis\":{\"matches\":true},\"label\":\"closeness centrality\",\"values\":[0.21733668341708542,0.2536656891495601,0.18622174381054898,0.24366197183098592,0.1778006166495375,0.22526041666666666,0.25667655786350146,0.13515625]},{\"axis\":{\"matches\":true},\"label\":\"eigenvector centrality\",\"values\":[0.03630374793235291,0.24481433645504982,0.012645777794901352,0.08221920205376645,0.004917135102973872,0.10221231541028998,0.17989553613094333,0.0002689878402155574]},{\"axis\":{\"matches\":true},\"label\":\"communicability betweenness centrality\",\"values\":[0.07074547332206273,0.14639119282979945,0.03267234362103609,0.12077573676513399,0.007168525115348833,0.0762706532266012,0.22200763930688766,0.026476693376936117]},{\"axis\":{\"matches\":true},\"label\":\"asa\",\"values\":[19,0,159,2,163,5,2,102]}],\"hovertemplate\":\"<b>%{hovertext}</b><br><br>residue type=PHE<br>%{xaxis.title.text}=%{x}<br>%{yaxis.title.text}=%{y}<extra></extra>\",\"hovertext\":[\"A:PHE:3\",\"A:PHE:16\",\"A:PHE:45\",\"A:PHE:58\",\"A:PHE:78\",\"A:PHE:138\",\"A:PHE:139\",\"A:PHE:173\"],\"legendgroup\":\"PHE\",\"marker\":{\"color\":\"#EF553B\",\"opacity\":0.2,\"symbol\":\"circle\"},\"name\":\"PHE\",\"showlegend\":true,\"type\":\"splom\",\"diagonal\":{\"visible\":false}},{\"dimensions\":[{\"axis\":{\"matches\":true},\"label\":\"degree\",\"values\":[2.0,2.0,2.0,2.0,2.0]},{\"axis\":{\"matches\":true},\"label\":\"betweenness centrality\",\"values\":[0.0007495644711668368,0.0,0.0009602995186301848,0.017295122113469476,0.02421394377967719]},{\"axis\":{\"matches\":true},\"label\":\"closeness centrality\",\"values\":[0.17421953675730112,0.21464019851116625,0.21761006289308177,0.17617107942973523,0.14786324786324787]},{\"axis\":{\"matches\":true},\"label\":\"eigenvector centrality\",\"values\":[0.007004133291308179,0.07712523608417006,0.035758069632925785,0.01219941363238905,0.0013683073053261854]},{\"axis\":{\"matches\":true},\"label\":\"communicability betweenness centrality\",\"values\":[0.0020897459647627272,0.007803597440108397,0.005204951739432983,0.018332016832321336,0.026654518118819352]},{\"axis\":{\"matches\":true},\"label\":\"asa\",\"values\":[128,13,0,137,78]}],\"hovertemplate\":\"<b>%{hovertext}</b><br><br>residue type=ASN<br>%{xaxis.title.text}=%{x}<br>%{yaxis.title.text}=%{y}<extra></extra>\",\"hovertext\":[\"A:ASN:5\",\"A:ASN:17\",\"A:ASN:55\",\"A:ASN:120\",\"A:ASN:172\"],\"legendgroup\":\"ASN\",\"marker\":{\"color\":\"#00cc96\",\"opacity\":0.2,\"symbol\":\"circle\"},\"name\":\"ASN\",\"showlegend\":true,\"type\":\"splom\",\"diagonal\":{\"visible\":false}},{\"dimensions\":[{\"axis\":{\"matches\":true},\"label\":\"degree\",\"values\":[5.0,9.0,5.0,3.0,5.0,7.0,6.0,9.0,9.0,4.0,9.0,2.0,8.0,5.0,4.0,7.0,6.0,6.0,5.0]},{\"axis\":{\"matches\":true},\"label\":\"betweenness centrality\",\"values\":[0.017827287800428075,0.0570058562945924,0.009166478862506558,0.017915721266040713,0.02400274942121759,0.04485414756152362,0.03974927334748586,0.1127779643761299,0.105215724804146,0.021602153374980386,0.06463612649646866,0.014380342608856083,0.08314790704419052,0.015173399838335846,0.03467023008252019,0.025181374192634245,0.05223817247981863,0.018512401275767875,0.0567655559863565]},{\"axis\":{\"matches\":true},\"label\":\"closeness centrality\",\"values\":[0.20473372781065088,0.2578241430700447,0.1779835390946502,0.1778006166495375,0.17816683831101957,0.2443502824858757,0.24714285714285714,0.2763578274760383,0.2686335403726708,0.21358024691358024,0.24061196105702365,0.1440466278101582,0.2665639445300462,0.22179487179487178,0.20023148148148148,0.2300531914893617,0.21517412935323382,0.21815889029003782,0.20069605568445475]},{\"axis\":{\"matches\":true},\"label\":\"eigenvector centrality\",\"values\":[0.03867952048761157,0.2547273505188264,0.007227275212867291,0.0031567903822729703,0.00581955649973258,0.1293824223686303,0.14949972502695552,0.2750180024667148,0.2496509021961059,0.050285000608071735,0.1735986095564272,0.0003673618987061852,0.18393861960734179,0.10292684392752184,0.042861807607352836,0.12079023250611752,0.07008166086859895,0.07030942244502056,0.05429238899206675]},{\"axis\":{\"matches\":true},\"label\":\"communicability betweenness centrality\",\"values\":[0.0263331031396422,0.1468076798603743,0.02091195870269029,0.021599511475065763,0.030222614138244966,0.08460331391172964,0.08252177016780687,0.19837817959185583,0.18427553215499778,0.02824649601831946,0.1050875117184534,0.014186002821539204,0.13372578748364466,0.03897392530259,0.04009718008278631,0.058913154689996056,0.07460679381633693,0.04553656605453512,0.06832241627825697]},{\"axis\":{\"matches\":true},\"label\":\"asa\",\"values\":[29,0,18,62,72,5,0,0,0,75,10,116,1,0,83,4,25,26,25]}],\"hovertemplate\":\"<b>%{hovertext}</b><br><br>residue type=VAL<br>%{xaxis.title.text}=%{x}<br>%{yaxis.title.text}=%{y}<extra></extra>\",\"hovertext\":[\"A:VAL:6\",\"A:VAL:18\",\"A:VAL:29\",\"A:VAL:41\",\"A:VAL:42\",\"A:VAL:54\",\"A:VAL:70\",\"A:VAL:72\",\"A:VAL:74\",\"A:VAL:85\",\"A:VAL:86\",\"A:VAL:102\",\"A:VAL:107\",\"A:VAL:109\",\"A:VAL:114\",\"A:VAL:127\",\"A:VAL:151\",\"A:VAL:153\",\"A:VAL:170\"],\"legendgroup\":\"VAL\",\"marker\":{\"color\":\"#ab63fa\",\"opacity\":0.2,\"symbol\":\"circle\"},\"name\":\"VAL\",\"showlegend\":true,\"type\":\"splom\",\"diagonal\":{\"visible\":false}},{\"dimensions\":[{\"axis\":{\"matches\":true},\"label\":\"degree\",\"values\":[2.0,3.0,5.0,3.0,5.0,5.0,3.0,3.0,4.0,5.0,2.0,5.0]},{\"axis\":{\"matches\":true},\"label\":\"betweenness centrality\",\"values\":[0.0032122128083002014,0.004350496748866233,0.04403567678236315,0.015695904302266552,0.023518987206021934,0.060784827206272825,0.04318173367855883,0.018719883746525542,0.018172426166758335,0.03482839844444286,0.003100550116204979,0.013352129389350197]},{\"axis\":{\"matches\":true},\"label\":\"closeness centrality\",\"values\":[0.18948521358159912,0.19548022598870057,0.23473541383989144,0.1858216970998926,0.2255541069100391,0.22733245729303547,0.21625,0.17617107942973523,0.20843373493975903,0.2232258064516129,0.14875322441960448,0.20595238095238094]},{\"axis\":{\"matches\":true},\"label\":\"eigenvector centrality\",\"values\":[0.01560942864412453,0.04388943418452417,0.04131266137027042,0.011721577824525813,0.10071982247547444,0.07244432637445002,0.036671581511000306,0.005282079346363323,0.026566302443189173,0.09008151795329893,0.0012167643005820533,0.05584399352767437]},{\"axis\":{\"matches\":true},\"label\":\"communicability betweenness centrality\",\"values\":[0.003594123084528147,0.011600035006970448,0.04821822157188025,0.020661608276739643,0.050565904751181626,0.08000793380532847,0.04853511944178083,0.017749201337741986,0.02441566543285234,0.050257033237838374,0.003410213478359012,0.02319108560309882]},{\"axis\":{\"matches\":true},\"label\":\"asa\",\"values\":[71,26,25,31,20,1,19,72,80,3,77,60]}],\"hovertemplate\":\"<b>%{hovertext}</b><br><br>residue type=PRO<br>%{xaxis.title.text}=%{x}<br>%{yaxis.title.text}=%{y}<extra></extra>\",\"hovertext\":[\"A:PRO:7\",\"A:PRO:13\",\"A:PRO:23\",\"A:PRO:28\",\"A:PRO:53\",\"A:PRO:60\",\"A:PRO:69\",\"A:PRO:77\",\"A:PRO:79\",\"A:PRO:110\",\"A:PRO:116\",\"A:PRO:128\"],\"legendgroup\":\"PRO\",\"marker\":{\"color\":\"#FFA15A\",\"opacity\":0.2,\"symbol\":\"circle\"},\"name\":\"PRO\",\"showlegend\":true,\"type\":\"splom\",\"diagonal\":{\"visible\":false}},{\"dimensions\":[{\"axis\":{\"matches\":true},\"label\":\"degree\",\"values\":[5.0,4.0,5.0,2.0,4.0,6.0,6.0,3.0,6.0,2.0,2.0,2.0,3.0,5.0,2.0]},{\"axis\":{\"matches\":true},\"label\":\"betweenness centrality\",\"values\":[0.033450536576057274,0.03202395424315709,0.050464418341478356,0.0011639109199265139,0.02333084206069252,0.015241464020113612,0.05483426890401486,0.03698640583361806,0.018416538588878092,0.006741546232732693,0.0,0.02324885257235035,0.006228076676053556,0.02362419516065187,0.034513267165436935]},{\"axis\":{\"matches\":true},\"label\":\"closeness centrality\",\"values\":[0.21733668341708542,0.22010178117048346,0.20944309927360774,0.13974151857835218,0.20092915214866433,0.2261437908496732,0.23473541383989144,0.1977142857142857,0.24679029957203993,0.1516213847502191,0.17111770524233433,0.15613718411552346,0.19885057471264367,0.2255541069100391,0.17010816125860373]},{\"axis\":{\"matches\":true},\"label\":\"eigenvector centrality\",\"values\":[0.06242305907628766,0.031225521584908336,0.021780722440087174,0.000236634500300996,0.011487131734969427,0.14618138809992132,0.10413582024609136,0.014623264835596712,0.1856610163281882,0.001955750396358642,0.013158345632688397,0.002511940101532581,0.019470067443993183,0.058100236644297185,0.008593565771359174]},{\"axis\":{\"matches\":true},\"label\":\"communicability betweenness centrality\",\"values\":[0.04362137864513158,0.034426349946898346,0.0598751077964659,0.0016439104052489474,0.0246186877182777,0.04265555097224175,0.06675751988507378,0.03813064189341451,0.07212222418635164,0.00730284480746342,0.0011308849148308484,0.023738444577888342,0.011055037198012473,0.03843502817622881,0.03713266653857002]},{\"axis\":{\"matches\":true},\"label\":\"asa\",\"values\":[6,14,9,95,42,1,5,12,0,22,65,64,21,0,54]}],\"hovertemplate\":\"<b>%{hovertext}</b><br><br>residue type=ALA<br>%{xaxis.title.text}=%{x}<br>%{yaxis.title.text}=%{y}<extra></extra>\",\"hovertext\":[\"A:ALA:8\",\"A:ALA:24\",\"A:ALA:33\",\"A:ALA:36\",\"A:ALA:82\",\"A:ALA:88\",\"A:ALA:90\",\"A:ALA:104\",\"A:ALA:108\",\"A:ALA:119\",\"A:ALA:129\",\"A:ALA:144\",\"A:ALA:161\",\"A:ALA:162\",\"A:ALA:171\"],\"legendgroup\":\"ALA\",\"marker\":{\"color\":\"#19d3f3\",\"opacity\":0.2,\"symbol\":\"circle\"},\"name\":\"ALA\",\"showlegend\":true,\"type\":\"splom\",\"diagonal\":{\"visible\":false}},{\"dimensions\":[{\"axis\":{\"matches\":true},\"label\":\"degree\",\"values\":[2.0,2.0,2.0,2.0,2.0,2.0,2.0,2.0,2.0,2.0,2.0,2.0,2.0,2.0]},{\"axis\":{\"matches\":true},\"label\":\"betweenness centrality\",\"values\":[0.005574541140477426,0.0,0.00978234601457102,0.0017111342919217995,0.028640299051901696,0.0015347044853698973,0.02096308718838629,0.0022574078697213517,0.005570244534111436,0.005049209315575763,0.010895521671499623,0.0029937406248066287,0.0020763052722993576,0.0009722954675233208]},{\"axis\":{\"matches\":true},\"label\":\"closeness centrality\",\"values\":[0.17927461139896372,0.1481164383561644,0.1779835390946502,0.16093023255813954,0.23159303882195448,0.12200282087447109,0.1550179211469534,0.17369477911646586,0.21571072319201995,0.12729948491537896,0.13348765432098766,0.19094922737306844,0.1787190082644628,0.16779825412221144]},{\"axis\":{\"matches\":true},\"label\":\"eigenvector centrality\",\"values\":[0.010236328738068588,0.0005095499382098285,0.01074171746437666,0.007759146157603193,0.028476446104549764,0.00003128940674674621,0.0009186790922247668,0.00304473606501111,0.03066649743408945,0.00006497759800840453,0.00027936047209899237,0.015182337085566678,0.004881243197993442,0.00928327583568453]},{\"axis\":{\"matches\":true},\"label\":\"communicability betweenness centrality\",\"values\":[0.005774518969938705,0.0014967668672083714,0.008986744632978608,0.004526997475185277,0.021997611205793143,0.0021276899587109868,0.020646314030607776,0.002376342179472013,0.007518677406990434,0.004880334701685635,0.010768172883735804,0.0036896791911988445,0.0019652582162622855,0.003287678431980223]},{\"axis\":{\"matches\":true},\"label\":\"asa\",\"values\":[16,17,40,39,0,81,44,30,0,33,65,19,22,1]}],\"hovertemplate\":\"<b>%{hovertext}</b><br><br>residue type=GLY<br>%{xaxis.title.text}=%{x}<br>%{yaxis.title.text}=%{y}<extra></extra>\",\"hovertext\":[\"A:GLY:9\",\"A:GLY:38\",\"A:GLY:47\",\"A:GLY:49\",\"A:GLY:57\",\"A:GLY:65\",\"A:GLY:67\",\"A:GLY:83\",\"A:GLY:92\",\"A:GLY:101\",\"A:GLY:148\",\"A:GLY:155\",\"A:GLY:158\",\"A:GLY:169\"],\"legendgroup\":\"GLY\",\"marker\":{\"color\":\"#FF6692\",\"opacity\":0.2,\"symbol\":\"circle\"},\"name\":\"GLY\",\"showlegend\":true,\"type\":\"splom\",\"diagonal\":{\"visible\":false}},{\"dimensions\":[{\"axis\":{\"matches\":true},\"label\":\"degree\",\"values\":[2.0,2.0,2.0,2.0,2.0,2.0,2.0,2.0,2.0,2.0,2.0,2.0,2.0,2.0,2.0,1.0]},{\"axis\":{\"matches\":true},\"label\":\"betweenness centrality\",\"values\":[0.00006721333512568894,0.0,0.005696434286978059,0.0,0.0126913930418009,0.001881875354796693,0.0009131288570729357,0.003428886165141038,0.0032956098831662907,0.03427183953296334,0.0007751937984496123,0.02191850863211262,0.0,0.00041672267777927163,0.011560693641618498,0.0]},{\"axis\":{\"matches\":true},\"label\":\"closeness centrality\",\"values\":[0.15585585585585585,0.17248255234297108,0.15069686411149827,0.19794050343249428,0.21046228710462286,0.16747337850919652,0.17761806981519507,0.18948521358159912,0.20400943396226415,0.1832627118644068,0.1184931506849315,0.15282685512367492,0.18443496801705758,0.17010816125860373,0.1193103448275862,0.10665844636251541]},{\"axis\":{\"matches\":true},\"label\":\"eigenvector centrality\",\"values\":[0.003877845606239339,0.003189983267117973,0.000569289176784704,0.02633060123686185,0.03013447675122778,0.007131273720884984,0.014292925031467195,0.019786949580117914,0.026589198446403114,0.015871275663201564,0.00005391788295256263,0.0017555054470951798,0.021675258996435954,0.005930884173295428,0.000042543677279853954,6.568403077569056e-6]},{\"axis\":{\"matches\":true},\"label\":\"communicability betweenness centrality\",\"values\":[0.0007259482345013682,0.003181482574317087,0.0044960255001107695,0.0050461230115934706,0.01597696887024299,0.003918535123746749,0.0022235118672495452,0.005874000305289671,0.0046991033168269835,0.03565627791041104,0.0014800538705550175,0.02179996060300853,0.0032244106212675266,0.0011493331145908372,0.011769444427516906,0.00012610994140335074]},{\"axis\":{\"matches\":true},\"label\":\"asa\",\"values\":[144,13,69,84,7,82,123,41,64,13,107,61,42,131,158,229]}],\"hovertemplate\":\"<b>%{hovertext}</b><br><br>residue type=LYS<br>%{xaxis.title.text}=%{x}<br>%{yaxis.title.text}=%{y}<extra></extra>\",\"hovertext\":[\"A:LYS:10\",\"A:LYS:30\",\"A:LYS:35\",\"A:LYS:95\",\"A:LYS:105\",\"A:LYS:113\",\"A:LYS:122\",\"A:LYS:132\",\"A:LYS:136\",\"A:LYS:143\",\"A:LYS:147\",\"A:LYS:149\",\"A:LYS:152\",\"A:LYS:164\",\"A:LYS:174\",\"A:LYS:175\"],\"legendgroup\":\"LYS\",\"marker\":{\"color\":\"#B6E880\",\"opacity\":0.2,\"symbol\":\"circle\"},\"name\":\"LYS\",\"showlegend\":true,\"type\":\"splom\",\"diagonal\":{\"visible\":false}},{\"dimensions\":[{\"axis\":{\"matches\":true},\"label\":\"degree\",\"values\":[2.0,2.0,2.0,2.0,2.0,2.0,2.0,2.0,2.0,2.0,2.0,2.0,2.0,2.0,2.0,2.0]},{\"axis\":{\"matches\":true},\"label\":\"betweenness centrality\",\"values\":[0.005918939166015384,0.007142983557626576,0.015958790338418672,0.0010961156511633725,0.010612233579030196,0.031448367467993774,0.0,0.019831244970119583,0.025336116234343394,0.00006721333512568894,0.0002925647115054294,0.0005864155523047848,0.00006721333512568894,0.006159141973767595,0.0008357658159378822,0.00006721333512568894]},{\"axis\":{\"matches\":true},\"label\":\"closeness centrality\",\"values\":[0.17816683831101957,0.20329024676850763,0.17421953675730112,0.1516213847502191,0.13622047244094487,0.18020833333333333,0.2220795892169448,0.1550179211469534,0.16666666666666666,0.15599639314697927,0.18384697130712008,0.1876355748373102,0.17077986179664364,0.19073869900771775,0.17725409836065573,0.16476190476190475]},{\"axis\":{\"matches\":true},\"label\":\"eigenvector centrality\",\"values\":[0.014880554325354902,0.03979207985616864,0.0034506628123016367,0.001229229912987591,0.00014666752878933422,0.00580363521020985,0.06554213754051906,0.001770030511588374,0.0023144327211940333,0.0033275940162039936,0.016583309797625796,0.021209374829310318,0.006849354679094707,0.013898104520776434,0.005741509652448143,0.005835573099883158]},{\"axis\":{\"matches\":true},\"label\":\"communicability betweenness centrality\",\"values\":[0.00738291851209489,0.007852484568000192,0.015160043025253313,0.002055990331907838,0.01027149388623536,0.03132839621857642,0.007123418371138119,0.020418567567565826,0.025173443572058477,0.0008718172272741475,0.0018565329693498727,0.00270113596811581,0.0008414554701600865,0.00707625983217778,0.0015289146823498,0.0011621005757810972]},{\"axis\":{\"matches\":true},\"label\":\"asa\",\"values\":[90,22,51,71,68,85,19,16,10,69,122,70,104,73,135,67]}],\"hovertemplate\":\"<b>%{hovertext}</b><br><br>residue type=ASP<br>%{xaxis.title.text}=%{x}<br>%{yaxis.title.text}=%{y}<extra></extra>\",\"hovertext\":[\"A:ASP:11\",\"A:ASP:15\",\"A:ASP:34\",\"A:ASP:43\",\"A:ASP:66\",\"A:ASP:68\",\"A:ASP:71\",\"A:ASP:98\",\"A:ASP:103\",\"A:ASP:112\",\"A:ASP:125\",\"A:ASP:126\",\"A:ASP:133\",\"A:ASP:157\",\"A:ASP:160\",\"A:ASP:168\"],\"legendgroup\":\"ASP\",\"marker\":{\"color\":\"#FF97FF\",\"opacity\":0.2,\"symbol\":\"circle\"},\"name\":\"ASP\",\"showlegend\":true,\"type\":\"splom\",\"diagonal\":{\"visible\":false}},{\"dimensions\":[{\"axis\":{\"matches\":true},\"label\":\"degree\",\"values\":[6.0,4.0,3.0,6.0,3.0,8.0,5.0,2.0,8.0,7.0,8.0,6.0,8.0,2.0]},{\"axis\":{\"matches\":true},\"label\":\"betweenness centrality\",\"values\":[0.026168337343376154,0.008263748746669148,0.01570137311829784,0.06807058606995642,0.025361061813259738,0.17796499146249656,0.020862466588271154,0.0032537622750412765,0.04834750953619218,0.07318599486553339,0.12060372752927453,0.04262003301525125,0.04896755439381092,0.012225865611737373]},{\"axis\":{\"matches\":true},\"label\":\"closeness centrality\",\"values\":[0.21571072319201995,0.1522887323943662,0.17145688800792863,0.20497630331753555,0.14238683127572016,0.27813504823151125,0.23221476510067113,0.19794050343249428,0.24027777777777778,0.24297752808988765,0.2617246596066566,0.2114914425427873,0.2325268817204301,0.1360062893081761]},{\"axis\":{\"matches\":true},\"label\":\"eigenvector centrality\",\"values\":[0.09250380050868144,0.000963397184753015,0.002336967892288545,0.013663640362404077,0.00033138860457780254,0.21916981245934927,0.09461515086910878,0.01638134275535811,0.13636124587057608,0.09988144579785696,0.1805583400019548,0.07706009416280686,0.12131111101506344,0.00039861029899466603]},{\"axis\":{\"matches\":true},\"label\":\"communicability betweenness centrality\",\"values\":[0.05584156133576252,0.013207614417381889,0.01816732185011237,0.0750105744953897,0.024363921525224104,0.24778409027467238,0.042960762635141064,0.0057056574847120485,0.08056307109253313,0.09560790344794282,0.15710373344444675,0.05511126444383336,0.0797665069453856,0.012681233060384408]},{\"axis\":{\"matches\":true},\"label\":\"asa\",\"values\":[62,112,113,54,58,1,42,137,0,0,0,32,18,128]}],\"hovertemplate\":\"<b>%{hovertext}</b><br><br>residue type=LEU<br>%{xaxis.title.text}=%{x}<br>%{yaxis.title.text}=%{y}<extra></extra>\",\"hovertext\":[\"A:LEU:12\",\"A:LEU:37\",\"A:LEU:39\",\"A:LEU:40\",\"A:LEU:63\",\"A:LEU:73\",\"A:LEU:80\",\"A:LEU:81\",\"A:LEU:91\",\"A:LEU:94\",\"A:LEU:106\",\"A:LEU:121\",\"A:LEU:131\",\"A:LEU:145\"],\"legendgroup\":\"LEU\",\"marker\":{\"color\":\"#FECB52\",\"opacity\":0.2,\"symbol\":\"circle\"},\"name\":\"LEU\",\"showlegend\":true,\"type\":\"splom\",\"diagonal\":{\"visible\":false}},{\"dimensions\":[{\"axis\":{\"matches\":true},\"label\":\"degree\",\"values\":[2.0,2.0,2.0,2.0,2.0]},{\"axis\":{\"matches\":true},\"label\":\"betweenness centrality\",\"values\":[0.00006721333512568894,0.010867240256271029,0.04252068825943123,0.008064594141351767,0.00040338912331115587]},{\"axis\":{\"matches\":true},\"label\":\"closeness centrality\",\"values\":[0.1752786220871327,0.1828752642706131,0.1888646288209607,0.20046349942062572,0.18210526315789474]},{\"axis\":{\"matches\":true},\"label\":\"eigenvector centrality\",\"values\":[0.012919755637144118,0.004986937727622357,0.011466037771408378,0.024576456806649116,0.020254403759644296]},{\"axis\":{\"matches\":true},\"label\":\"communicability betweenness centrality\",\"values\":[0.000894567943372088,0.01035824241846247,0.041547834767474624,0.008772434868244652,0.0028358861577749027]},{\"axis\":{\"matches\":true},\"label\":\"asa\",\"values\":[87,105,67,91,84]}],\"hovertemplate\":\"<b>%{hovertext}</b><br><br>residue type=GLN<br>%{xaxis.title.text}=%{x}<br>%{yaxis.title.text}=%{y}<extra></extra>\",\"hovertext\":[\"A:GLN:14\",\"A:GLN:25\",\"A:GLN:61\",\"A:GLN:134\",\"A:GLN:141\"],\"legendgroup\":\"GLN\",\"marker\":{\"color\":\"#636efa\",\"opacity\":0.2,\"symbol\":\"circle\"},\"name\":\"GLN\",\"showlegend\":true,\"type\":\"splom\",\"diagonal\":{\"visible\":false}},{\"dimensions\":[{\"axis\":{\"matches\":true},\"label\":\"degree\",\"values\":[7.0,7.0,5.0,7.0,9.0,9.0,6.0,9.0,3.0,10.0]},{\"axis\":{\"matches\":true},\"label\":\"betweenness centrality\",\"values\":[0.053595107166094856,0.046866533898437875,0.0595164828632,0.07483178300153473,0.12993542100041208,0.08247970997055283,0.02519715470557037,0.06767295797645907,0.013142139708210416,0.11304090920881336]},{\"axis\":{\"matches\":true},\"label\":\"closeness centrality\",\"values\":[0.23159303882195448,0.25,0.2303595206391478,0.21544209215442092,0.26371951219512196,0.2446958981612447,0.2243839169909209,0.24927953890489912,0.19329608938547485,0.23961218836565096]},{\"axis\":{\"matches\":true},\"label\":\"eigenvector centrality\",\"values\":[0.10518513403208421,0.1466270556952308,0.051676917322145195,0.0667179323210875,0.23167344740651555,0.17749533946488819,0.08620105232161142,0.1523328445123052,0.017717804686869783,0.17884918136565328]},{\"axis\":{\"matches\":true},\"label\":\"communicability betweenness centrality\",\"values\":[0.09425855056692102,0.08676061991360097,0.06949004157223075,0.09428120917686993,0.1995774554712595,0.13379047607306876,0.043056094075653015,0.1235361058093383,0.012789303182310146,0.15646213842627527]},{\"axis\":{\"matches\":true},\"label\":\"asa\",\"values\":[1,0,2,11,0,20,7,2,52,0]}],\"hovertemplate\":\"<b>%{hovertext}</b><br><br>residue type=ILE<br>%{xaxis.title.text}=%{x}<br>%{yaxis.title.text}=%{y}<extra></extra>\",\"hovertext\":[\"A:ILE:19\",\"A:ILE:20\",\"A:ILE:22\",\"A:ILE:46\",\"A:ILE:59\",\"A:ILE:75\",\"A:ILE:124\",\"A:ILE:135\",\"A:ILE:159\",\"A:ILE:166\"],\"legendgroup\":\"ILE\",\"marker\":{\"color\":\"#EF553B\",\"opacity\":0.2,\"symbol\":\"circle\"},\"name\":\"ILE\",\"showlegend\":true,\"type\":\"splom\",\"diagonal\":{\"visible\":false}},{\"dimensions\":[{\"axis\":{\"matches\":true},\"label\":\"degree\",\"values\":[2.0,2.0,2.0,2.0,2.0,2.0,2.0,2.0]},{\"axis\":{\"matches\":true},\"label\":\"betweenness centrality\",\"values\":[0.00426893198694035,0.00374292926383261,0.005291654697452261,0.008942684679757973,0.002960560053506601,0.001440365768568484,0.0013014279660740055,0.007426511883083747]},{\"axis\":{\"matches\":true},\"label\":\"closeness centrality\",\"values\":[0.22094508301404853,0.16093023255813954,0.19200887902330743,0.13536776212832552,0.20497630331753555,0.12047353760445682,0.18404255319148935,0.1943820224719101]},{\"axis\":{\"matches\":true},\"label\":\"eigenvector centrality\",\"values\":[0.03061654539392596,0.0019756850007392394,0.005436918973399708,0.00028153839911334444,0.030901547896444746,0.0000698667273973664,0.01319924304413949,0.028528562380190515]},{\"axis\":{\"matches\":true},\"label\":\"communicability betweenness centrality\",\"values\":[0.008467226235881985,0.004097940396727932,0.008079506617490385,0.009631971280151422,0.0060618714403492795,0.0024250914734674123,0.0023877439633169678,0.010344641382833952]},{\"axis\":{\"matches\":true},\"label\":\"asa\",\"values\":[11,142,72,59,75,33,114,35]}],\"hovertemplate\":\"<b>%{hovertext}</b><br><br>residue type=GLU<br>%{xaxis.title.text}=%{x}<br>%{yaxis.title.text}=%{y}<extra></extra>\",\"hovertext\":[\"A:GLU:21\",\"A:GLU:27\",\"A:GLU:32\",\"A:GLU:99\",\"A:GLU:140\",\"A:GLU:146\",\"A:GLU:154\",\"A:GLU:165\"],\"legendgroup\":\"GLU\",\"marker\":{\"color\":\"#00cc96\",\"opacity\":0.2,\"symbol\":\"circle\"},\"name\":\"GLU\",\"showlegend\":true,\"type\":\"splom\",\"diagonal\":{\"visible\":false}},{\"dimensions\":[{\"axis\":{\"matches\":true},\"label\":\"degree\",\"values\":[6.0,9.0,6.0,3.0,8.0]},{\"axis\":{\"matches\":true},\"label\":\"betweenness centrality\",\"values\":[0.05632923976925615,0.11629945820462007,0.05235637710100116,0.002774989159247796,0.07427745500769205]},{\"axis\":{\"matches\":true},\"label\":\"closeness centrality\",\"values\":[0.20546318289786222,0.25441176470588234,0.25441176470588234,0.1905286343612335,0.22179487179487178]},{\"axis\":{\"matches\":true},\"label\":\"eigenvector centrality\",\"values\":[0.013434309808868589,0.147125598664218,0.10222330533205097,0.029382872656111853,0.1002866278091128]},{\"axis\":{\"matches\":true},\"label\":\"communicability betweenness centrality\",\"values\":[0.06153398116810955,0.16634149179351684,0.08141720111399633,0.007218367663915449,0.11632392276348849]},{\"axis\":{\"matches\":true},\"label\":\"asa\",\"values\":[88,2,4,149,7]}],\"hovertemplate\":\"<b>%{hovertext}</b><br><br>residue type=TYR<br>%{xaxis.title.text}=%{x}<br>%{yaxis.title.text}=%{y}<extra></extra>\",\"hovertext\":[\"A:TYR:31\",\"A:TYR:52\",\"A:TYR:56\",\"A:TYR:130\",\"A:TYR:142\"],\"legendgroup\":\"TYR\",\"marker\":{\"color\":\"#ab63fa\",\"opacity\":0.2,\"symbol\":\"circle\"},\"name\":\"TYR\",\"showlegend\":true,\"type\":\"splom\",\"diagonal\":{\"visible\":false}},{\"dimensions\":[{\"axis\":{\"matches\":true},\"label\":\"degree\",\"values\":[2.0,2.0,2.0,2.0]},{\"axis\":{\"matches\":true},\"label\":\"betweenness centrality\",\"values\":[0.002036683106449161,0.0019652688225195065,0.0,0.0013282652581093105]},{\"axis\":{\"matches\":true},\"label\":\"closeness centrality\",\"values\":[0.15741583257506825,0.20425029515938606,0.2023391812865497,0.2023391812865497]},{\"axis\":{\"matches\":true},\"label\":\"eigenvector centrality\",\"values\":[0.002142190077515164,0.030033157394916948,0.04937147080485997,0.03864697240097646]},{\"axis\":{\"matches\":true},\"label\":\"communicability betweenness centrality\",\"values\":[0.002948277508840768,0.006091625426971717,0.004087757622759862,0.0038185590930398415]},{\"axis\":{\"matches\":true},\"label\":\"asa\",\"values\":[40,107,79,47]}],\"hovertemplate\":\"<b>%{hovertext}</b><br><br>residue type=ARG<br>%{xaxis.title.text}=%{x}<br>%{yaxis.title.text}=%{y}<extra></extra>\",\"hovertext\":[\"A:ARG:44\",\"A:ARG:51\",\"A:ARG:87\",\"A:ARG:89\"],\"legendgroup\":\"ARG\",\"marker\":{\"color\":\"#FFA15A\",\"opacity\":0.2,\"symbol\":\"circle\"},\"name\":\"ARG\",\"showlegend\":true,\"type\":\"splom\",\"diagonal\":{\"visible\":false}},{\"dimensions\":[{\"axis\":{\"matches\":true},\"label\":\"degree\",\"values\":[2.0,2.0,2.0,2.0,2.0,2.0]},{\"axis\":{\"matches\":true},\"label\":\"betweenness centrality\",\"values\":[0.00006721333512568894,0.03223704798520085,0.021267386797811393,0.030787018595606872,0.0010626487782355505,0.010521184838969489]},{\"axis\":{\"matches\":true},\"label\":\"closeness centrality\",\"values\":[0.15175438596491228,0.1618334892422825,0.19953863898500576,0.18153200419727178,0.13884430176565007,0.1941638608305275]},{\"axis\":{\"matches\":true},\"label\":\"eigenvector centrality\",\"values\":[0.0028563851862894543,0.0018214281573684394,0.028219369762848678,0.011182984403632008,0.0004680205551783783,0.028513847113717194]},{\"axis\":{\"matches\":true},\"label\":\"communicability betweenness centrality\",\"values\":[0.0007442844026636793,0.03091766767291693,0.022822710649384306,0.031755276458437724,0.0014288402529471327,0.011856933569239784]},{\"axis\":{\"matches\":true},\"label\":\"asa\",\"values\":[42,4,30,36,10,72]}],\"hovertemplate\":\"<b>%{hovertext}</b><br><br>residue type=THR<br>%{xaxis.title.text}=%{x}<br>%{yaxis.title.text}=%{y}<extra></extra>\",\"hovertext\":[\"A:THR:48\",\"A:THR:62\",\"A:THR:76\",\"A:THR:97\",\"A:THR:118\",\"A:THR:167\"],\"legendgroup\":\"THR\",\"marker\":{\"color\":\"#19d3f3\",\"opacity\":0.2,\"symbol\":\"circle\"},\"name\":\"THR\",\"showlegend\":true,\"type\":\"splom\",\"diagonal\":{\"visible\":false}},{\"dimensions\":[{\"axis\":{\"matches\":true},\"label\":\"degree\",\"values\":[5.0,6.0,6.0,3.0]},{\"axis\":{\"matches\":true},\"label\":\"betweenness centrality\",\"values\":[0.013840900837604453,0.08039638381729183,0.04672173634344856,0.00889327911425051]},{\"axis\":{\"matches\":true},\"label\":\"closeness centrality\",\"values\":[0.19094922737306844,0.242296918767507,0.2189873417721519,0.15336879432624115]},{\"axis\":{\"matches\":true},\"label\":\"eigenvector centrality\",\"values\":[0.04739975868879582,0.06226626750373083,0.07066238173148387,0.0010756280413955867]},{\"axis\":{\"matches\":true},\"label\":\"communicability betweenness centrality\",\"values\":[0.03039341520212037,0.08086419863976176,0.07118798553785334,0.008369986987697519]},{\"axis\":{\"matches\":true},\"label\":\"asa\",\"values\":[46,12,4,140]}],\"hovertemplate\":\"<b>%{hovertext}</b><br><br>residue type=MET<br>%{xaxis.title.text}=%{x}<br>%{yaxis.title.text}=%{y}<extra></extra>\",\"hovertext\":[\"A:MET:50\",\"A:MET:93\",\"A:MET:96\",\"A:MET:117\"],\"legendgroup\":\"MET\",\"marker\":{\"color\":\"#FF6692\",\"opacity\":0.2,\"symbol\":\"circle\"},\"name\":\"MET\",\"showlegend\":true,\"type\":\"splom\",\"diagonal\":{\"visible\":false}},{\"dimensions\":[{\"axis\":{\"matches\":true},\"label\":\"degree\",\"values\":[2.0,2.0,2.0]},{\"axis\":{\"matches\":true},\"label\":\"betweenness centrality\",\"values\":[0.009611604951696119,0.0014139605297691063,0.004416477766062646]},{\"axis\":{\"matches\":true},\"label\":\"closeness centrality\",\"values\":[0.1832627118644068,0.1866235167206041,0.18502673796791444]},{\"axis\":{\"matches\":true},\"label\":\"eigenvector centrality\",\"values\":[0.014421618857681708,0.01988592228282935,0.009885892286000763]},{\"axis\":{\"matches\":true},\"label\":\"communicability betweenness centrality\",\"values\":[0.009285056254449385,0.0025885002027165645,0.00450183103901263]},{\"axis\":{\"matches\":true},\"label\":\"asa\",\"values\":[60,102,42]}],\"hovertemplate\":\"<b>%{hovertext}</b><br><br>residue type=HIS<br>%{xaxis.title.text}=%{x}<br>%{yaxis.title.text}=%{y}<extra></extra>\",\"hovertext\":[\"A:HIS:111\",\"A:HIS:137\",\"A:HIS:163\"],\"legendgroup\":\"HIS\",\"marker\":{\"color\":\"#B6E880\",\"opacity\":0.2,\"symbol\":\"circle\"},\"name\":\"HIS\",\"showlegend\":true,\"type\":\"splom\",\"diagonal\":{\"visible\":false}},{\"dimensions\":[{\"axis\":{\"matches\":true},\"label\":\"degree\",\"values\":[2.0]},{\"axis\":{\"matches\":true},\"label\":\"betweenness centrality\",\"values\":[0.011336098600107777]},{\"axis\":{\"matches\":true},\"label\":\"closeness centrality\",\"values\":[0.1689453125]},{\"axis\":{\"matches\":true},\"label\":\"eigenvector centrality\",\"values\":[0.00680537851654876]},{\"axis\":{\"matches\":true},\"label\":\"communicability betweenness centrality\",\"values\":[0.012288759665895297]},{\"axis\":{\"matches\":true},\"label\":\"asa\",\"values\":[8]}],\"hovertemplate\":\"<b>%{hovertext}</b><br><br>residue type=CYS<br>%{xaxis.title.text}=%{x}<br>%{yaxis.title.text}=%{y}<extra></extra>\",\"hovertext\":[\"A:CYS:115\"],\"legendgroup\":\"CYS\",\"marker\":{\"color\":\"#FF97FF\",\"opacity\":0.2,\"symbol\":\"circle\"},\"name\":\"CYS\",\"showlegend\":true,\"type\":\"splom\",\"diagonal\":{\"visible\":false}},{\"dimensions\":[{\"axis\":{\"matches\":true},\"label\":\"degree\",\"values\":[2.0,6.0]},{\"axis\":{\"matches\":true},\"label\":\"betweenness centrality\",\"values\":[0.032941495592725606,0.03902716040345175]},{\"axis\":{\"matches\":true},\"label\":\"closeness centrality\",\"values\":[0.1787190082644628,0.23283983849259757]},{\"axis\":{\"matches\":true},\"label\":\"eigenvector centrality\",\"values\":[0.011091083199239488,0.08513705600657644]},{\"axis\":{\"matches\":true},\"label\":\"communicability betweenness centrality\",\"values\":[0.033227120698991475,0.05940397714194445]},{\"axis\":{\"matches\":true},\"label\":\"asa\",\"values\":[137,78]}],\"hovertemplate\":\"<b>%{hovertext}</b><br><br>residue type=TRP<br>%{xaxis.title.text}=%{x}<br>%{yaxis.title.text}=%{y}<extra></extra>\",\"hovertext\":[\"A:TRP:150\",\"A:TRP:156\"],\"legendgroup\":\"TRP\",\"marker\":{\"color\":\"#FECB52\",\"opacity\":0.2,\"symbol\":\"circle\"},\"name\":\"TRP\",\"showlegend\":true,\"type\":\"splom\",\"diagonal\":{\"visible\":false}}],                        {\"template\":{\"data\":{\"bar\":[{\"error_x\":{\"color\":\"#2a3f5f\"},\"error_y\":{\"color\":\"#2a3f5f\"},\"marker\":{\"line\":{\"color\":\"#E5ECF6\",\"width\":0.5},\"pattern\":{\"fillmode\":\"overlay\",\"size\":10,\"solidity\":0.2}},\"type\":\"bar\"}],\"barpolar\":[{\"marker\":{\"line\":{\"color\":\"#E5ECF6\",\"width\":0.5},\"pattern\":{\"fillmode\":\"overlay\",\"size\":10,\"solidity\":0.2}},\"type\":\"barpolar\"}],\"carpet\":[{\"aaxis\":{\"endlinecolor\":\"#2a3f5f\",\"gridcolor\":\"white\",\"linecolor\":\"white\",\"minorgridcolor\":\"white\",\"startlinecolor\":\"#2a3f5f\"},\"baxis\":{\"endlinecolor\":\"#2a3f5f\",\"gridcolor\":\"white\",\"linecolor\":\"white\",\"minorgridcolor\":\"white\",\"startlinecolor\":\"#2a3f5f\"},\"type\":\"carpet\"}],\"choropleth\":[{\"colorbar\":{\"outlinewidth\":0,\"ticks\":\"\"},\"type\":\"choropleth\"}],\"contour\":[{\"colorbar\":{\"outlinewidth\":0,\"ticks\":\"\"},\"colorscale\":[[0.0,\"#0d0887\"],[0.1111111111111111,\"#46039f\"],[0.2222222222222222,\"#7201a8\"],[0.3333333333333333,\"#9c179e\"],[0.4444444444444444,\"#bd3786\"],[0.5555555555555556,\"#d8576b\"],[0.6666666666666666,\"#ed7953\"],[0.7777777777777778,\"#fb9f3a\"],[0.8888888888888888,\"#fdca26\"],[1.0,\"#f0f921\"]],\"type\":\"contour\"}],\"contourcarpet\":[{\"colorbar\":{\"outlinewidth\":0,\"ticks\":\"\"},\"type\":\"contourcarpet\"}],\"heatmap\":[{\"colorbar\":{\"outlinewidth\":0,\"ticks\":\"\"},\"colorscale\":[[0.0,\"#0d0887\"],[0.1111111111111111,\"#46039f\"],[0.2222222222222222,\"#7201a8\"],[0.3333333333333333,\"#9c179e\"],[0.4444444444444444,\"#bd3786\"],[0.5555555555555556,\"#d8576b\"],[0.6666666666666666,\"#ed7953\"],[0.7777777777777778,\"#fb9f3a\"],[0.8888888888888888,\"#fdca26\"],[1.0,\"#f0f921\"]],\"type\":\"heatmap\"}],\"heatmapgl\":[{\"colorbar\":{\"outlinewidth\":0,\"ticks\":\"\"},\"colorscale\":[[0.0,\"#0d0887\"],[0.1111111111111111,\"#46039f\"],[0.2222222222222222,\"#7201a8\"],[0.3333333333333333,\"#9c179e\"],[0.4444444444444444,\"#bd3786\"],[0.5555555555555556,\"#d8576b\"],[0.6666666666666666,\"#ed7953\"],[0.7777777777777778,\"#fb9f3a\"],[0.8888888888888888,\"#fdca26\"],[1.0,\"#f0f921\"]],\"type\":\"heatmapgl\"}],\"histogram\":[{\"marker\":{\"pattern\":{\"fillmode\":\"overlay\",\"size\":10,\"solidity\":0.2}},\"type\":\"histogram\"}],\"histogram2d\":[{\"colorbar\":{\"outlinewidth\":0,\"ticks\":\"\"},\"colorscale\":[[0.0,\"#0d0887\"],[0.1111111111111111,\"#46039f\"],[0.2222222222222222,\"#7201a8\"],[0.3333333333333333,\"#9c179e\"],[0.4444444444444444,\"#bd3786\"],[0.5555555555555556,\"#d8576b\"],[0.6666666666666666,\"#ed7953\"],[0.7777777777777778,\"#fb9f3a\"],[0.8888888888888888,\"#fdca26\"],[1.0,\"#f0f921\"]],\"type\":\"histogram2d\"}],\"histogram2dcontour\":[{\"colorbar\":{\"outlinewidth\":0,\"ticks\":\"\"},\"colorscale\":[[0.0,\"#0d0887\"],[0.1111111111111111,\"#46039f\"],[0.2222222222222222,\"#7201a8\"],[0.3333333333333333,\"#9c179e\"],[0.4444444444444444,\"#bd3786\"],[0.5555555555555556,\"#d8576b\"],[0.6666666666666666,\"#ed7953\"],[0.7777777777777778,\"#fb9f3a\"],[0.8888888888888888,\"#fdca26\"],[1.0,\"#f0f921\"]],\"type\":\"histogram2dcontour\"}],\"mesh3d\":[{\"colorbar\":{\"outlinewidth\":0,\"ticks\":\"\"},\"type\":\"mesh3d\"}],\"parcoords\":[{\"line\":{\"colorbar\":{\"outlinewidth\":0,\"ticks\":\"\"}},\"type\":\"parcoords\"}],\"pie\":[{\"automargin\":true,\"type\":\"pie\"}],\"scatter\":[{\"marker\":{\"colorbar\":{\"outlinewidth\":0,\"ticks\":\"\"}},\"type\":\"scatter\"}],\"scatter3d\":[{\"line\":{\"colorbar\":{\"outlinewidth\":0,\"ticks\":\"\"}},\"marker\":{\"colorbar\":{\"outlinewidth\":0,\"ticks\":\"\"}},\"type\":\"scatter3d\"}],\"scattercarpet\":[{\"marker\":{\"colorbar\":{\"outlinewidth\":0,\"ticks\":\"\"}},\"type\":\"scattercarpet\"}],\"scattergeo\":[{\"marker\":{\"colorbar\":{\"outlinewidth\":0,\"ticks\":\"\"}},\"type\":\"scattergeo\"}],\"scattergl\":[{\"marker\":{\"colorbar\":{\"outlinewidth\":0,\"ticks\":\"\"}},\"type\":\"scattergl\"}],\"scattermapbox\":[{\"marker\":{\"colorbar\":{\"outlinewidth\":0,\"ticks\":\"\"}},\"type\":\"scattermapbox\"}],\"scatterpolar\":[{\"marker\":{\"colorbar\":{\"outlinewidth\":0,\"ticks\":\"\"}},\"type\":\"scatterpolar\"}],\"scatterpolargl\":[{\"marker\":{\"colorbar\":{\"outlinewidth\":0,\"ticks\":\"\"}},\"type\":\"scatterpolargl\"}],\"scatterternary\":[{\"marker\":{\"colorbar\":{\"outlinewidth\":0,\"ticks\":\"\"}},\"type\":\"scatterternary\"}],\"surface\":[{\"colorbar\":{\"outlinewidth\":0,\"ticks\":\"\"},\"colorscale\":[[0.0,\"#0d0887\"],[0.1111111111111111,\"#46039f\"],[0.2222222222222222,\"#7201a8\"],[0.3333333333333333,\"#9c179e\"],[0.4444444444444444,\"#bd3786\"],[0.5555555555555556,\"#d8576b\"],[0.6666666666666666,\"#ed7953\"],[0.7777777777777778,\"#fb9f3a\"],[0.8888888888888888,\"#fdca26\"],[1.0,\"#f0f921\"]],\"type\":\"surface\"}],\"table\":[{\"cells\":{\"fill\":{\"color\":\"#EBF0F8\"},\"line\":{\"color\":\"white\"}},\"header\":{\"fill\":{\"color\":\"#C8D4E3\"},\"line\":{\"color\":\"white\"}},\"type\":\"table\"}]},\"layout\":{\"annotationdefaults\":{\"arrowcolor\":\"#2a3f5f\",\"arrowhead\":0,\"arrowwidth\":1},\"autotypenumbers\":\"strict\",\"coloraxis\":{\"colorbar\":{\"outlinewidth\":0,\"ticks\":\"\"}},\"colorscale\":{\"diverging\":[[0,\"#8e0152\"],[0.1,\"#c51b7d\"],[0.2,\"#de77ae\"],[0.3,\"#f1b6da\"],[0.4,\"#fde0ef\"],[0.5,\"#f7f7f7\"],[0.6,\"#e6f5d0\"],[0.7,\"#b8e186\"],[0.8,\"#7fbc41\"],[0.9,\"#4d9221\"],[1,\"#276419\"]],\"sequential\":[[0.0,\"#0d0887\"],[0.1111111111111111,\"#46039f\"],[0.2222222222222222,\"#7201a8\"],[0.3333333333333333,\"#9c179e\"],[0.4444444444444444,\"#bd3786\"],[0.5555555555555556,\"#d8576b\"],[0.6666666666666666,\"#ed7953\"],[0.7777777777777778,\"#fb9f3a\"],[0.8888888888888888,\"#fdca26\"],[1.0,\"#f0f921\"]],\"sequentialminus\":[[0.0,\"#0d0887\"],[0.1111111111111111,\"#46039f\"],[0.2222222222222222,\"#7201a8\"],[0.3333333333333333,\"#9c179e\"],[0.4444444444444444,\"#bd3786\"],[0.5555555555555556,\"#d8576b\"],[0.6666666666666666,\"#ed7953\"],[0.7777777777777778,\"#fb9f3a\"],[0.8888888888888888,\"#fdca26\"],[1.0,\"#f0f921\"]]},\"colorway\":[\"#636efa\",\"#EF553B\",\"#00cc96\",\"#ab63fa\",\"#FFA15A\",\"#19d3f3\",\"#FF6692\",\"#B6E880\",\"#FF97FF\",\"#FECB52\"],\"font\":{\"color\":\"#2a3f5f\"},\"geo\":{\"bgcolor\":\"white\",\"lakecolor\":\"white\",\"landcolor\":\"#E5ECF6\",\"showlakes\":true,\"showland\":true,\"subunitcolor\":\"white\"},\"hoverlabel\":{\"align\":\"left\"},\"hovermode\":\"closest\",\"mapbox\":{\"style\":\"light\"},\"paper_bgcolor\":\"white\",\"plot_bgcolor\":\"#E5ECF6\",\"polar\":{\"angularaxis\":{\"gridcolor\":\"white\",\"linecolor\":\"white\",\"ticks\":\"\"},\"bgcolor\":\"#E5ECF6\",\"radialaxis\":{\"gridcolor\":\"white\",\"linecolor\":\"white\",\"ticks\":\"\"}},\"scene\":{\"xaxis\":{\"backgroundcolor\":\"#E5ECF6\",\"gridcolor\":\"white\",\"gridwidth\":2,\"linecolor\":\"white\",\"showbackground\":true,\"ticks\":\"\",\"zerolinecolor\":\"white\"},\"yaxis\":{\"backgroundcolor\":\"#E5ECF6\",\"gridcolor\":\"white\",\"gridwidth\":2,\"linecolor\":\"white\",\"showbackground\":true,\"ticks\":\"\",\"zerolinecolor\":\"white\"},\"zaxis\":{\"backgroundcolor\":\"#E5ECF6\",\"gridcolor\":\"white\",\"gridwidth\":2,\"linecolor\":\"white\",\"showbackground\":true,\"ticks\":\"\",\"zerolinecolor\":\"white\"}},\"shapedefaults\":{\"line\":{\"color\":\"#2a3f5f\"}},\"ternary\":{\"aaxis\":{\"gridcolor\":\"white\",\"linecolor\":\"white\",\"ticks\":\"\"},\"baxis\":{\"gridcolor\":\"white\",\"linecolor\":\"white\",\"ticks\":\"\"},\"bgcolor\":\"#E5ECF6\",\"caxis\":{\"gridcolor\":\"white\",\"linecolor\":\"white\",\"ticks\":\"\"}},\"title\":{\"x\":0.05},\"xaxis\":{\"automargin\":true,\"gridcolor\":\"white\",\"linecolor\":\"white\",\"ticks\":\"\",\"title\":{\"standoff\":15},\"zerolinecolor\":\"white\",\"zerolinewidth\":2},\"yaxis\":{\"automargin\":true,\"gridcolor\":\"white\",\"linecolor\":\"white\",\"ticks\":\"\",\"title\":{\"standoff\":15},\"zerolinecolor\":\"white\",\"zerolinewidth\":2}}},\"legend\":{\"title\":{\"text\":\"residue type\"},\"tracegroupgap\":0},\"title\":{\"text\":\"3eiy - Correlation of Graph Metrics with Properties (Coloured by residue_type)\"},\"dragmode\":\"select\",\"height\":1000,\"width\":1000,\"font\":{\"size\":10}},                        {\"responsive\": true}                    ).then(function(){\n",
              "                            \n",
              "var gd = document.getElementById('30e7fd63-f2c7-43b0-804b-d590fe318438');\n",
              "var x = new MutationObserver(function (mutations, observer) {{\n",
              "        var display = window.getComputedStyle(gd).display;\n",
              "        if (!display || display === 'none') {{\n",
              "            console.log([gd, 'removed!']);\n",
              "            Plotly.purge(gd);\n",
              "            observer.disconnect();\n",
              "        }}\n",
              "}});\n",
              "\n",
              "// Listen for the removal of the full notebook cells\n",
              "var notebookContainer = gd.closest('#notebook-container');\n",
              "if (notebookContainer) {{\n",
              "    x.observe(notebookContainer, {childList: true});\n",
              "}}\n",
              "\n",
              "// Listen for the clearing of the current output cell\n",
              "var outputEl = gd.closest('.output');\n",
              "if (outputEl) {{\n",
              "    x.observe(outputEl, {childList: true});\n",
              "}}\n",
              "\n",
              "                        })                };                            </script>        </div>\n",
              "</body>\n",
              "</html>"
            ]
          },
          "metadata": {}
        }
      ]
    },
    {
      "cell_type": "code",
      "source": [
        "plot_graph_metric_property_correlation(g, diagonal_visible=False, colour_by=None)"
      ],
      "metadata": {
        "colab": {
          "base_uri": "https://localhost:8080/",
          "height": 1000
        },
        "id": "Afw_PHP90kNQ",
        "outputId": "9e0ceb3a-a341-4f7f-877d-10e432df5746"
      },
      "execution_count": 27,
      "outputs": [
        {
          "output_type": "display_data",
          "data": {
            "text/html": [
              "<html>\n",
              "<head><meta charset=\"utf-8\" /></head>\n",
              "<body>\n",
              "    <div>            <script src=\"https://cdnjs.cloudflare.com/ajax/libs/mathjax/2.7.5/MathJax.js?config=TeX-AMS-MML_SVG\"></script><script type=\"text/javascript\">if (window.MathJax) {MathJax.Hub.Config({SVG: {font: \"STIX-Web\"}});}</script>                <script type=\"text/javascript\">window.PlotlyConfig = {MathJaxConfig: 'local'};</script>\n",
              "        <script src=\"https://cdn.plot.ly/plotly-2.8.3.min.js\"></script>                <div id=\"ccdd3b88-b5aa-4a09-902f-23dc9528392c\" class=\"plotly-graph-div\" style=\"height:1000px; width:1000px;\"></div>            <script type=\"text/javascript\">                                    window.PLOTLYENV=window.PLOTLYENV || {};                                    if (document.getElementById(\"ccdd3b88-b5aa-4a09-902f-23dc9528392c\")) {                    Plotly.newPlot(                        \"ccdd3b88-b5aa-4a09-902f-23dc9528392c\",                        [{\"dimensions\":[{\"axis\":{\"matches\":true},\"label\":\"degree\",\"values\":[1.0,6.0,2.0,2.0,5.0,2.0,5.0,2.0,2.0,2.0,6.0,3.0,2.0,2.0,10.0,2.0,9.0,7.0,7.0,2.0,5.0,5.0,4.0,2.0,2.0,2.0,3.0,5.0,2.0,6.0,2.0,5.0,2.0,2.0,2.0,4.0,2.0,3.0,6.0,3.0,5.0,2.0,2.0,4.0,7.0,2.0,2.0,2.0,5.0,2.0,9.0,5.0,7.0,2.0,6.0,2.0,7.0,9.0,5.0,2.0,2.0,3.0,2.0,2.0,2.0,2.0,2.0,3.0,6.0,2.0,9.0,8.0,9.0,9.0,2.0,3.0,2.0,4.0,5.0,2.0,4.0,2.0,2.0,4.0,9.0,2.0,6.0,2.0,6.0,8.0,2.0,6.0,7.0,2.0,6.0,2.0,2.0,2.0,2.0,2.0,2.0,2.0,3.0,2.0,8.0,8.0,6.0,5.0,5.0,2.0,2.0,2.0,4.0,2.0,2.0,3.0,2.0,2.0,2.0,6.0,2.0,2.0,6.0,2.0,2.0,7.0,5.0,2.0,3.0,8.0,2.0,2.0,2.0,9.0,2.0,2.0,7.0,11.0,2.0,2.0,8.0,2.0,2.0,2.0,2.0,2.0,2.0,2.0,2.0,6.0,2.0,6.0,2.0,2.0,6.0,2.0,2.0,3.0,2.0,3.0,5.0,2.0,2.0,2.0,10.0,2.0,2.0,2.0,5.0,2.0,2.0,3.0,2.0,1.0]},{\"axis\":{\"matches\":true},\"label\":\"betweenness centrality\",\"values\":[0.0,0.05322768323082323,0.0020348580086018376,0.0007495644711668368,0.017827287800428075,0.0032122128083002014,0.033450536576057274,0.005574541140477426,0.00006721333512568894,0.005918939166015384,0.026168337343376154,0.004350496748866233,0.00006721333512568894,0.007142983557626576,0.07377594192753176,0.0,0.0570058562945924,0.053595107166094856,0.046866533898437875,0.00426893198694035,0.0595164828632,0.04403567678236315,0.03202395424315709,0.010867240256271029,0.003055076989745626,0.00374292926383261,0.015695904302266552,0.009166478862506558,0.0,0.05632923976925615,0.005291654697452261,0.050464418341478356,0.015958790338418672,0.005696434286978059,0.0011639109199265139,0.008263748746669148,0.0,0.01570137311829784,0.06807058606995642,0.017915721266040713,0.02400274942121759,0.0010961156511633725,0.002036683106449161,0.02862784995456655,0.07483178300153473,0.00978234601457102,0.00006721333512568894,0.0017111342919217995,0.013840900837604453,0.0019652688225195065,0.11629945820462007,0.023518987206021934,0.04485414756152362,0.0009602995186301848,0.05235637710100116,0.028640299051901696,0.10605597991561179,0.12993542100041208,0.060784827206272825,0.04252068825943123,0.03223704798520085,0.025361061813259738,0.0030208712289637157,0.0015347044853698973,0.010612233579030196,0.02096308718838629,0.031448367467993774,0.04318173367855883,0.03974927334748586,0.0,0.1127779643761299,0.17796499146249656,0.105215724804146,0.08247970997055283,0.021267386797811393,0.018719883746525542,0.007680126110339828,0.018172426166758335,0.020862466588271154,0.0032537622750412765,0.02333084206069252,0.0022574078697213517,0.004129164572236551,0.021602153374980386,0.06463612649646866,0.0,0.015241464020113612,0.0013282652581093105,0.05483426890401486,0.04834750953619218,0.005570244534111436,0.08039638381729183,0.07318599486553339,0.0,0.04672173634344856,0.030787018595606872,0.019831244970119583,0.008942684679757973,0.0023639870185895506,0.005049209315575763,0.014380342608856083,0.025336116234343394,0.03698640583361806,0.0126913930418009,0.12060372752927453,0.08314790704419052,0.018416538588878092,0.015173399838335846,0.03482839844444286,0.009611604951696119,0.00006721333512568894,0.001881875354796693,0.03467023008252019,0.011336098600107777,0.003100550116204979,0.00889327911425051,0.0010626487782355505,0.006741546232732693,0.017295122113469476,0.04262003301525125,0.0009131288570729357,0.00172114725060789,0.02519715470557037,0.0002925647115054294,0.0005864155523047848,0.025181374192634245,0.013352129389350197,0.0,0.002774989159247796,0.04896755439381092,0.003428886165141038,0.00006721333512568894,0.008064594141351767,0.06767295797645907,0.0032956098831662907,0.0014139605297691063,0.029819651510095878,0.15593986133993729,0.002960560053506601,0.00040338912331115587,0.07427745500769205,0.03427183953296334,0.02324885257235035,0.012225865611737373,0.001440365768568484,0.0007751937984496123,0.010895521671499623,0.02191850863211262,0.032941495592725606,0.05223817247981863,0.0,0.018512401275767875,0.0013014279660740055,0.0029937406248066287,0.03902716040345175,0.006159141973767595,0.0020763052722993576,0.013142139708210416,0.0008357658159378822,0.006228076676053556,0.02362419516065187,0.004416477766062646,0.00041672267777927163,0.007426511883083747,0.11304090920881336,0.010521184838969489,0.00006721333512568894,0.0009722954675233208,0.0567655559863565,0.034513267165436935,0.02421394377967719,0.025774011587614398,0.011560693641618498,0.0]},{\"axis\":{\"matches\":true},\"label\":\"closeness centrality\",\"values\":[0.1787190082644628,0.21733668341708542,0.17946058091286307,0.17421953675730112,0.20473372781065088,0.18948521358159912,0.21733668341708542,0.17927461139896372,0.15585585585585585,0.17816683831101957,0.21571072319201995,0.19548022598870057,0.1752786220871327,0.20329024676850763,0.2536656891495601,0.21464019851116625,0.2578241430700447,0.23159303882195448,0.25,0.22094508301404853,0.2303595206391478,0.23473541383989144,0.22010178117048346,0.1828752642706131,0.1624413145539906,0.16093023255813954,0.1858216970998926,0.1779835390946502,0.17248255234297108,0.20546318289786222,0.19200887902330743,0.20944309927360774,0.17421953675730112,0.15069686411149827,0.13974151857835218,0.1522887323943662,0.1481164383561644,0.17145688800792863,0.20497630331753555,0.1778006166495375,0.17816683831101957,0.1516213847502191,0.15741583257506825,0.18622174381054898,0.21544209215442092,0.1779835390946502,0.15175438596491228,0.16093023255813954,0.19094922737306844,0.20425029515938606,0.25441176470588234,0.2255541069100391,0.2443502824858757,0.21761006289308177,0.25441176470588234,0.23159303882195448,0.24366197183098592,0.26371951219512196,0.22733245729303547,0.1888646288209607,0.1618334892422825,0.14238683127572016,0.125544267053701,0.12200282087447109,0.13622047244094487,0.1550179211469534,0.18020833333333333,0.21625,0.24714285714285714,0.2220795892169448,0.2763578274760383,0.27813504823151125,0.2686335403726708,0.2446958981612447,0.19953863898500576,0.17617107942973523,0.1778006166495375,0.20843373493975903,0.23221476510067113,0.19794050343249428,0.20092915214866433,0.17369477911646586,0.180773249738767,0.21358024691358024,0.24061196105702365,0.2023391812865497,0.2261437908496732,0.2023391812865497,0.23473541383989144,0.24027777777777778,0.21571072319201995,0.242296918767507,0.24297752808988765,0.19794050343249428,0.2189873417721519,0.18153200419727178,0.1550179211469534,0.13536776212832552,0.12446043165467625,0.12729948491537896,0.1440466278101582,0.16666666666666666,0.1977142857142857,0.21046228710462286,0.2617246596066566,0.2665639445300462,0.24679029957203993,0.22179487179487178,0.2232258064516129,0.1832627118644068,0.15599639314697927,0.16747337850919652,0.20023148148148148,0.1689453125,0.14875322441960448,0.15336879432624115,0.13884430176565007,0.1516213847502191,0.17617107942973523,0.2114914425427873,0.17761806981519507,0.18463180362860193,0.2243839169909209,0.18384697130712008,0.1876355748373102,0.2300531914893617,0.20595238095238094,0.17111770524233433,0.1905286343612335,0.2325268817204301,0.18948521358159912,0.17077986179664364,0.20046349942062572,0.24927953890489912,0.20400943396226415,0.1866235167206041,0.22526041666666666,0.25667655786350146,0.20497630331753555,0.18210526315789474,0.22179487179487178,0.1832627118644068,0.15613718411552346,0.1360062893081761,0.12047353760445682,0.1184931506849315,0.13348765432098766,0.15282685512367492,0.1787190082644628,0.21517412935323382,0.18443496801705758,0.21815889029003782,0.18404255319148935,0.19094922737306844,0.23283983849259757,0.19073869900771775,0.1787190082644628,0.19329608938547485,0.17725409836065573,0.19885057471264367,0.2255541069100391,0.18502673796791444,0.17010816125860373,0.1943820224719101,0.23961218836565096,0.1941638608305275,0.16476190476190475,0.16779825412221144,0.20069605568445475,0.17010816125860373,0.14786324786324787,0.13515625,0.1193103448275862,0.10665844636251541]},{\"axis\":{\"matches\":true},\"label\":\"eigenvector centrality\",\"values\":[0.0056050079563617645,0.036303747932353365,0.006686390046672452,0.007004133291308267,0.038679520487611925,0.015609428644124722,0.06242305907628835,0.010236328738068762,0.0038778456062394224,0.014880554325355098,0.0925038005086825,0.043889434184524734,0.012919755637144315,0.03979207985616908,0.24481433645505196,0.07712523608417078,0.2547273505188283,0.10518513403208501,0.14662705569523166,0.030616545393925977,0.05167691732214452,0.04131266137027034,0.031225521584908066,0.004986937727622295,0.0010749731918128394,0.001975685000739214,0.011721577824525575,0.007227275212867292,0.003189983267118,0.013434309808868578,0.005436918973399813,0.02178072244008747,0.0034506628123017204,0.0005692891767847368,0.00023663450030104416,0.0009633971847530693,0.0005095499382098545,0.0023369678922886402,0.013663640362404295,0.00315679038227306,0.00581955649973265,0.0012292299129876367,0.0021421900775151505,0.012645777794901204,0.06671793232108623,0.01074171746437644,0.002856385186289477,0.007759146157603095,0.047399758688794855,0.030033157394916424,0.14712559866421554,0.10071982247547306,0.12938242236862904,0.035758069632925375,0.10222330533204957,0.028476446104549646,0.08221920205376726,0.23167344740651763,0.07244432637445068,0.011466037771408472,0.0018214281573684645,0.000331388604577804,0.00005599458058322105,0.000031289406746719386,0.0001466675287892868,0.000918679092224774,0.005803635210209906,0.03667158151100063,0.1494997250269567,0.06554213754051952,0.27501800246671626,0.21916981245934772,0.24965090219610656,0.17749533946488752,0.028219369762848535,0.005282079346363282,0.004917135102973835,0.026566302443189117,0.09461515086910917,0.016381342755358123,0.011487131734969423,0.003044736065011052,0.008233684271945988,0.05028500060807212,0.17359860955642833,0.04937147080486039,0.14618138809992243,0.038646972400976816,0.10413582024609214,0.13636124587057566,0.030666497434089328,0.06226626750373058,0.09988144579785509,0.026330601236861213,0.07066238173148205,0.011182984403631652,0.0017700305115883265,0.0002815383991133299,0.00005349929501750958,0.00006497759800833066,0.0003673618987060847,0.0023144327211939313,0.014623264835596615,0.030134476751227903,0.18055834000195584,0.18393861960734112,0.18566101632818904,0.1029268439275217,0.09008151795329929,0.014421618857681761,0.0033275940162039606,0.007131273720885021,0.04286180760735306,0.006805378516548831,0.0012167643005820555,0.0010756280413955657,0.00046802055517836854,0.0019557503963586282,0.012199413632389005,0.07706009416280657,0.014292925031467103,0.015515465336527009,0.08620105232161086,0.016583309797625675,0.02120937482931016,0.12079023250611681,0.055843993527673885,0.013158345632688268,0.029382872656111562,0.12131111101506241,0.01978694958011775,0.006849354679094617,0.024576456806648807,0.15233284451230308,0.02658919844640274,0.01988592228282896,0.102212315410288,0.17989553613094003,0.030901547896444087,0.020254403759643838,0.10028662780911066,0.01587127566320118,0.0025119401015324875,0.00039861029899463144,0.00006986672739733441,0.00005391788295254777,0.0002793604720989625,0.0017555054470950742,0.011091083199239125,0.07008166086859716,0.021675258996435316,0.0703094224450188,0.013199243044139128,0.015182337085566452,0.08513705600657553,0.01389810452077629,0.004881243197993451,0.017717804686869947,0.0057415096524481325,0.01947006744399318,0.05810023664429735,0.00988589228600079,0.005930884173295492,0.02852856238019086,0.178849181365655,0.028513847113717544,0.00583557309988325,0.009283275835684687,0.054292388992067425,0.008593565771359288,0.001368307305326183,0.00026898784021556096,0.00004254367727985674,6.568403077575327e-6]},{\"axis\":{\"matches\":true},\"label\":\"communicability betweenness centrality\",\"values\":[0.0009537617993683144,0.07074547332206273,0.0034406812570661697,0.0020897459647627272,0.0263331031396422,0.003594123084528147,0.04362137864513158,0.005774518969938705,0.0007259482345013682,0.00738291851209489,0.05584156133576252,0.011600035006970448,0.000894567943372088,0.007852484568000192,0.14639119282979945,0.007803597440108397,0.1468076798603743,0.09425855056692102,0.08676061991360097,0.008467226235881985,0.06949004157223075,0.04821822157188025,0.034426349946898346,0.01035824241846247,0.002434181810974513,0.004097940396727932,0.020661608276739643,0.02091195870269029,0.003181482574317087,0.06153398116810955,0.008079506617490385,0.0598751077964659,0.015160043025253313,0.0044960255001107695,0.0016439104052489474,0.013207614417381889,0.0014967668672083714,0.01816732185011237,0.0750105744953897,0.021599511475065763,0.030222614138244966,0.002055990331907838,0.002948277508840768,0.03267234362103609,0.09428120917686993,0.008986744632978608,0.0007442844026636793,0.004526997475185277,0.03039341520212037,0.006091625426971717,0.16634149179351684,0.050565904751181626,0.08460331391172964,0.005204951739432983,0.08141720111399633,0.021997611205793143,0.12077573676513399,0.1995774554712595,0.08000793380532847,0.041547834767474624,0.03091766767291693,0.024363921525224104,0.00415818062886377,0.0021276899587109868,0.01027149388623536,0.020646314030607776,0.03132839621857642,0.04853511944178083,0.08252177016780687,0.007123418371138119,0.19837817959185583,0.24778409027467238,0.18427553215499778,0.13379047607306876,0.022822710649384306,0.017749201337741986,0.007168525115348833,0.02441566543285234,0.042960762635141064,0.0057056574847120485,0.0246186877182777,0.002376342179472013,0.00445853003407006,0.02824649601831946,0.1050875117184534,0.004087757622759862,0.04265555097224175,0.0038185590930398415,0.06675751988507378,0.08056307109253313,0.007518677406990434,0.08086419863976176,0.09560790344794282,0.0050461230115934706,0.07118798553785334,0.031755276458437724,0.020418567567565826,0.009631971280151422,0.0026859030330944403,0.004880334701685635,0.014186002821539204,0.025173443572058477,0.03813064189341451,0.01597696887024299,0.15710373344444675,0.13372578748364466,0.07212222418635164,0.03897392530259,0.050257033237838374,0.009285056254449385,0.0008718172272741475,0.003918535123746749,0.04009718008278631,0.012288759665895297,0.003410213478359012,0.008369986987697519,0.0014288402529471327,0.00730284480746342,0.018332016832321336,0.05511126444383336,0.0022235118672495452,0.0026005721653402257,0.043056094075653015,0.0018565329693498727,0.00270113596811581,0.058913154689996056,0.02319108560309882,0.0011308849148308484,0.007218367663915449,0.0797665069453856,0.005874000305289671,0.0008414554701600865,0.008772434868244652,0.1235361058093383,0.0046991033168269835,0.0025885002027165645,0.0762706532266012,0.22200763930688766,0.0060618714403492795,0.0028358861577749027,0.11632392276348849,0.03565627791041104,0.023738444577888342,0.012681233060384408,0.0024250914734674123,0.0014800538705550175,0.010768172883735804,0.02179996060300853,0.033227120698991475,0.07460679381633693,0.0032244106212675266,0.04553656605453512,0.0023877439633169678,0.0036896791911988445,0.05940397714194445,0.00707625983217778,0.0019652582162622855,0.012789303182310146,0.0015289146823498,0.011055037198012473,0.03843502817622881,0.00450183103901263,0.0011493331145908372,0.010344641382833952,0.15646213842627527,0.011856933569239784,0.0011621005757810972,0.003287678431980223,0.06832241627825697,0.03713266653857002,0.026654518118819352,0.026476693376936117,0.011769444427516906,0.00012610994140335074]},{\"axis\":{\"matches\":true},\"label\":\"asa\",\"values\":[106,19,58,128,29,71,6,16,144,90,62,26,87,22,0,13,0,1,0,11,2,25,14,105,34,142,31,18,13,88,72,9,51,69,95,112,17,113,54,62,72,71,40,159,11,40,42,39,46,107,2,20,5,0,4,0,2,0,1,67,4,58,20,81,68,44,85,19,0,19,0,1,0,20,30,72,163,80,42,137,42,30,37,75,10,79,1,47,5,0,0,12,0,84,4,36,16,59,95,33,116,10,12,7,0,1,0,0,3,60,69,82,83,8,77,140,10,22,137,32,123,27,7,122,70,4,60,65,149,18,41,104,91,2,64,102,5,2,75,84,7,13,64,128,33,107,65,61,137,25,42,26,114,19,78,73,22,52,135,21,0,42,131,35,0,72,67,1,25,54,78,102,158,229]}],\"hovertemplate\":\"<b>%{hovertext}</b><br><br>%{xaxis.title.text}=%{x}<br>%{yaxis.title.text}=%{y}<extra></extra>\",\"hovertext\":[\"A:SER:2\",\"A:PHE:3\",\"A:SER:4\",\"A:ASN:5\",\"A:VAL:6\",\"A:PRO:7\",\"A:ALA:8\",\"A:GLY:9\",\"A:LYS:10\",\"A:ASP:11\",\"A:LEU:12\",\"A:PRO:13\",\"A:GLN:14\",\"A:ASP:15\",\"A:PHE:16\",\"A:ASN:17\",\"A:VAL:18\",\"A:ILE:19\",\"A:ILE:20\",\"A:GLU:21\",\"A:ILE:22\",\"A:PRO:23\",\"A:ALA:24\",\"A:GLN:25\",\"A:SER:26\",\"A:GLU:27\",\"A:PRO:28\",\"A:VAL:29\",\"A:LYS:30\",\"A:TYR:31\",\"A:GLU:32\",\"A:ALA:33\",\"A:ASP:34\",\"A:LYS:35\",\"A:ALA:36\",\"A:LEU:37\",\"A:GLY:38\",\"A:LEU:39\",\"A:LEU:40\",\"A:VAL:41\",\"A:VAL:42\",\"A:ASP:43\",\"A:ARG:44\",\"A:PHE:45\",\"A:ILE:46\",\"A:GLY:47\",\"A:THR:48\",\"A:GLY:49\",\"A:MET:50\",\"A:ARG:51\",\"A:TYR:52\",\"A:PRO:53\",\"A:VAL:54\",\"A:ASN:55\",\"A:TYR:56\",\"A:GLY:57\",\"A:PHE:58\",\"A:ILE:59\",\"A:PRO:60\",\"A:GLN:61\",\"A:THR:62\",\"A:LEU:63\",\"A:SER:64\",\"A:GLY:65\",\"A:ASP:66\",\"A:GLY:67\",\"A:ASP:68\",\"A:PRO:69\",\"A:VAL:70\",\"A:ASP:71\",\"A:VAL:72\",\"A:LEU:73\",\"A:VAL:74\",\"A:ILE:75\",\"A:THR:76\",\"A:PRO:77\",\"A:PHE:78\",\"A:PRO:79\",\"A:LEU:80\",\"A:LEU:81\",\"A:ALA:82\",\"A:GLY:83\",\"A:SER:84\",\"A:VAL:85\",\"A:VAL:86\",\"A:ARG:87\",\"A:ALA:88\",\"A:ARG:89\",\"A:ALA:90\",\"A:LEU:91\",\"A:GLY:92\",\"A:MET:93\",\"A:LEU:94\",\"A:LYS:95\",\"A:MET:96\",\"A:THR:97\",\"A:ASP:98\",\"A:GLU:99\",\"A:SER:100\",\"A:GLY:101\",\"A:VAL:102\",\"A:ASP:103\",\"A:ALA:104\",\"A:LYS:105\",\"A:LEU:106\",\"A:VAL:107\",\"A:ALA:108\",\"A:VAL:109\",\"A:PRO:110\",\"A:HIS:111\",\"A:ASP:112\",\"A:LYS:113\",\"A:VAL:114\",\"A:CYS:115\",\"A:PRO:116\",\"A:MET:117\",\"A:THR:118\",\"A:ALA:119\",\"A:ASN:120\",\"A:LEU:121\",\"A:LYS:122\",\"A:SER:123\",\"A:ILE:124\",\"A:ASP:125\",\"A:ASP:126\",\"A:VAL:127\",\"A:PRO:128\",\"A:ALA:129\",\"A:TYR:130\",\"A:LEU:131\",\"A:LYS:132\",\"A:ASP:133\",\"A:GLN:134\",\"A:ILE:135\",\"A:LYS:136\",\"A:HIS:137\",\"A:PHE:138\",\"A:PHE:139\",\"A:GLU:140\",\"A:GLN:141\",\"A:TYR:142\",\"A:LYS:143\",\"A:ALA:144\",\"A:LEU:145\",\"A:GLU:146\",\"A:LYS:147\",\"A:GLY:148\",\"A:LYS:149\",\"A:TRP:150\",\"A:VAL:151\",\"A:LYS:152\",\"A:VAL:153\",\"A:GLU:154\",\"A:GLY:155\",\"A:TRP:156\",\"A:ASP:157\",\"A:GLY:158\",\"A:ILE:159\",\"A:ASP:160\",\"A:ALA:161\",\"A:ALA:162\",\"A:HIS:163\",\"A:LYS:164\",\"A:GLU:165\",\"A:ILE:166\",\"A:THR:167\",\"A:ASP:168\",\"A:GLY:169\",\"A:VAL:170\",\"A:ALA:171\",\"A:ASN:172\",\"A:PHE:173\",\"A:LYS:174\",\"A:LYS:175\"],\"legendgroup\":\"\",\"marker\":{\"color\":\"#636efa\",\"opacity\":0.2,\"symbol\":\"circle\"},\"name\":\"\",\"showlegend\":false,\"type\":\"splom\",\"diagonal\":{\"visible\":false}}],                        {\"template\":{\"data\":{\"bar\":[{\"error_x\":{\"color\":\"#2a3f5f\"},\"error_y\":{\"color\":\"#2a3f5f\"},\"marker\":{\"line\":{\"color\":\"#E5ECF6\",\"width\":0.5},\"pattern\":{\"fillmode\":\"overlay\",\"size\":10,\"solidity\":0.2}},\"type\":\"bar\"}],\"barpolar\":[{\"marker\":{\"line\":{\"color\":\"#E5ECF6\",\"width\":0.5},\"pattern\":{\"fillmode\":\"overlay\",\"size\":10,\"solidity\":0.2}},\"type\":\"barpolar\"}],\"carpet\":[{\"aaxis\":{\"endlinecolor\":\"#2a3f5f\",\"gridcolor\":\"white\",\"linecolor\":\"white\",\"minorgridcolor\":\"white\",\"startlinecolor\":\"#2a3f5f\"},\"baxis\":{\"endlinecolor\":\"#2a3f5f\",\"gridcolor\":\"white\",\"linecolor\":\"white\",\"minorgridcolor\":\"white\",\"startlinecolor\":\"#2a3f5f\"},\"type\":\"carpet\"}],\"choropleth\":[{\"colorbar\":{\"outlinewidth\":0,\"ticks\":\"\"},\"type\":\"choropleth\"}],\"contour\":[{\"colorbar\":{\"outlinewidth\":0,\"ticks\":\"\"},\"colorscale\":[[0.0,\"#0d0887\"],[0.1111111111111111,\"#46039f\"],[0.2222222222222222,\"#7201a8\"],[0.3333333333333333,\"#9c179e\"],[0.4444444444444444,\"#bd3786\"],[0.5555555555555556,\"#d8576b\"],[0.6666666666666666,\"#ed7953\"],[0.7777777777777778,\"#fb9f3a\"],[0.8888888888888888,\"#fdca26\"],[1.0,\"#f0f921\"]],\"type\":\"contour\"}],\"contourcarpet\":[{\"colorbar\":{\"outlinewidth\":0,\"ticks\":\"\"},\"type\":\"contourcarpet\"}],\"heatmap\":[{\"colorbar\":{\"outlinewidth\":0,\"ticks\":\"\"},\"colorscale\":[[0.0,\"#0d0887\"],[0.1111111111111111,\"#46039f\"],[0.2222222222222222,\"#7201a8\"],[0.3333333333333333,\"#9c179e\"],[0.4444444444444444,\"#bd3786\"],[0.5555555555555556,\"#d8576b\"],[0.6666666666666666,\"#ed7953\"],[0.7777777777777778,\"#fb9f3a\"],[0.8888888888888888,\"#fdca26\"],[1.0,\"#f0f921\"]],\"type\":\"heatmap\"}],\"heatmapgl\":[{\"colorbar\":{\"outlinewidth\":0,\"ticks\":\"\"},\"colorscale\":[[0.0,\"#0d0887\"],[0.1111111111111111,\"#46039f\"],[0.2222222222222222,\"#7201a8\"],[0.3333333333333333,\"#9c179e\"],[0.4444444444444444,\"#bd3786\"],[0.5555555555555556,\"#d8576b\"],[0.6666666666666666,\"#ed7953\"],[0.7777777777777778,\"#fb9f3a\"],[0.8888888888888888,\"#fdca26\"],[1.0,\"#f0f921\"]],\"type\":\"heatmapgl\"}],\"histogram\":[{\"marker\":{\"pattern\":{\"fillmode\":\"overlay\",\"size\":10,\"solidity\":0.2}},\"type\":\"histogram\"}],\"histogram2d\":[{\"colorbar\":{\"outlinewidth\":0,\"ticks\":\"\"},\"colorscale\":[[0.0,\"#0d0887\"],[0.1111111111111111,\"#46039f\"],[0.2222222222222222,\"#7201a8\"],[0.3333333333333333,\"#9c179e\"],[0.4444444444444444,\"#bd3786\"],[0.5555555555555556,\"#d8576b\"],[0.6666666666666666,\"#ed7953\"],[0.7777777777777778,\"#fb9f3a\"],[0.8888888888888888,\"#fdca26\"],[1.0,\"#f0f921\"]],\"type\":\"histogram2d\"}],\"histogram2dcontour\":[{\"colorbar\":{\"outlinewidth\":0,\"ticks\":\"\"},\"colorscale\":[[0.0,\"#0d0887\"],[0.1111111111111111,\"#46039f\"],[0.2222222222222222,\"#7201a8\"],[0.3333333333333333,\"#9c179e\"],[0.4444444444444444,\"#bd3786\"],[0.5555555555555556,\"#d8576b\"],[0.6666666666666666,\"#ed7953\"],[0.7777777777777778,\"#fb9f3a\"],[0.8888888888888888,\"#fdca26\"],[1.0,\"#f0f921\"]],\"type\":\"histogram2dcontour\"}],\"mesh3d\":[{\"colorbar\":{\"outlinewidth\":0,\"ticks\":\"\"},\"type\":\"mesh3d\"}],\"parcoords\":[{\"line\":{\"colorbar\":{\"outlinewidth\":0,\"ticks\":\"\"}},\"type\":\"parcoords\"}],\"pie\":[{\"automargin\":true,\"type\":\"pie\"}],\"scatter\":[{\"marker\":{\"colorbar\":{\"outlinewidth\":0,\"ticks\":\"\"}},\"type\":\"scatter\"}],\"scatter3d\":[{\"line\":{\"colorbar\":{\"outlinewidth\":0,\"ticks\":\"\"}},\"marker\":{\"colorbar\":{\"outlinewidth\":0,\"ticks\":\"\"}},\"type\":\"scatter3d\"}],\"scattercarpet\":[{\"marker\":{\"colorbar\":{\"outlinewidth\":0,\"ticks\":\"\"}},\"type\":\"scattercarpet\"}],\"scattergeo\":[{\"marker\":{\"colorbar\":{\"outlinewidth\":0,\"ticks\":\"\"}},\"type\":\"scattergeo\"}],\"scattergl\":[{\"marker\":{\"colorbar\":{\"outlinewidth\":0,\"ticks\":\"\"}},\"type\":\"scattergl\"}],\"scattermapbox\":[{\"marker\":{\"colorbar\":{\"outlinewidth\":0,\"ticks\":\"\"}},\"type\":\"scattermapbox\"}],\"scatterpolar\":[{\"marker\":{\"colorbar\":{\"outlinewidth\":0,\"ticks\":\"\"}},\"type\":\"scatterpolar\"}],\"scatterpolargl\":[{\"marker\":{\"colorbar\":{\"outlinewidth\":0,\"ticks\":\"\"}},\"type\":\"scatterpolargl\"}],\"scatterternary\":[{\"marker\":{\"colorbar\":{\"outlinewidth\":0,\"ticks\":\"\"}},\"type\":\"scatterternary\"}],\"surface\":[{\"colorbar\":{\"outlinewidth\":0,\"ticks\":\"\"},\"colorscale\":[[0.0,\"#0d0887\"],[0.1111111111111111,\"#46039f\"],[0.2222222222222222,\"#7201a8\"],[0.3333333333333333,\"#9c179e\"],[0.4444444444444444,\"#bd3786\"],[0.5555555555555556,\"#d8576b\"],[0.6666666666666666,\"#ed7953\"],[0.7777777777777778,\"#fb9f3a\"],[0.8888888888888888,\"#fdca26\"],[1.0,\"#f0f921\"]],\"type\":\"surface\"}],\"table\":[{\"cells\":{\"fill\":{\"color\":\"#EBF0F8\"},\"line\":{\"color\":\"white\"}},\"header\":{\"fill\":{\"color\":\"#C8D4E3\"},\"line\":{\"color\":\"white\"}},\"type\":\"table\"}]},\"layout\":{\"annotationdefaults\":{\"arrowcolor\":\"#2a3f5f\",\"arrowhead\":0,\"arrowwidth\":1},\"autotypenumbers\":\"strict\",\"coloraxis\":{\"colorbar\":{\"outlinewidth\":0,\"ticks\":\"\"}},\"colorscale\":{\"diverging\":[[0,\"#8e0152\"],[0.1,\"#c51b7d\"],[0.2,\"#de77ae\"],[0.3,\"#f1b6da\"],[0.4,\"#fde0ef\"],[0.5,\"#f7f7f7\"],[0.6,\"#e6f5d0\"],[0.7,\"#b8e186\"],[0.8,\"#7fbc41\"],[0.9,\"#4d9221\"],[1,\"#276419\"]],\"sequential\":[[0.0,\"#0d0887\"],[0.1111111111111111,\"#46039f\"],[0.2222222222222222,\"#7201a8\"],[0.3333333333333333,\"#9c179e\"],[0.4444444444444444,\"#bd3786\"],[0.5555555555555556,\"#d8576b\"],[0.6666666666666666,\"#ed7953\"],[0.7777777777777778,\"#fb9f3a\"],[0.8888888888888888,\"#fdca26\"],[1.0,\"#f0f921\"]],\"sequentialminus\":[[0.0,\"#0d0887\"],[0.1111111111111111,\"#46039f\"],[0.2222222222222222,\"#7201a8\"],[0.3333333333333333,\"#9c179e\"],[0.4444444444444444,\"#bd3786\"],[0.5555555555555556,\"#d8576b\"],[0.6666666666666666,\"#ed7953\"],[0.7777777777777778,\"#fb9f3a\"],[0.8888888888888888,\"#fdca26\"],[1.0,\"#f0f921\"]]},\"colorway\":[\"#636efa\",\"#EF553B\",\"#00cc96\",\"#ab63fa\",\"#FFA15A\",\"#19d3f3\",\"#FF6692\",\"#B6E880\",\"#FF97FF\",\"#FECB52\"],\"font\":{\"color\":\"#2a3f5f\"},\"geo\":{\"bgcolor\":\"white\",\"lakecolor\":\"white\",\"landcolor\":\"#E5ECF6\",\"showlakes\":true,\"showland\":true,\"subunitcolor\":\"white\"},\"hoverlabel\":{\"align\":\"left\"},\"hovermode\":\"closest\",\"mapbox\":{\"style\":\"light\"},\"paper_bgcolor\":\"white\",\"plot_bgcolor\":\"#E5ECF6\",\"polar\":{\"angularaxis\":{\"gridcolor\":\"white\",\"linecolor\":\"white\",\"ticks\":\"\"},\"bgcolor\":\"#E5ECF6\",\"radialaxis\":{\"gridcolor\":\"white\",\"linecolor\":\"white\",\"ticks\":\"\"}},\"scene\":{\"xaxis\":{\"backgroundcolor\":\"#E5ECF6\",\"gridcolor\":\"white\",\"gridwidth\":2,\"linecolor\":\"white\",\"showbackground\":true,\"ticks\":\"\",\"zerolinecolor\":\"white\"},\"yaxis\":{\"backgroundcolor\":\"#E5ECF6\",\"gridcolor\":\"white\",\"gridwidth\":2,\"linecolor\":\"white\",\"showbackground\":true,\"ticks\":\"\",\"zerolinecolor\":\"white\"},\"zaxis\":{\"backgroundcolor\":\"#E5ECF6\",\"gridcolor\":\"white\",\"gridwidth\":2,\"linecolor\":\"white\",\"showbackground\":true,\"ticks\":\"\",\"zerolinecolor\":\"white\"}},\"shapedefaults\":{\"line\":{\"color\":\"#2a3f5f\"}},\"ternary\":{\"aaxis\":{\"gridcolor\":\"white\",\"linecolor\":\"white\",\"ticks\":\"\"},\"baxis\":{\"gridcolor\":\"white\",\"linecolor\":\"white\",\"ticks\":\"\"},\"bgcolor\":\"#E5ECF6\",\"caxis\":{\"gridcolor\":\"white\",\"linecolor\":\"white\",\"ticks\":\"\"}},\"title\":{\"x\":0.05},\"xaxis\":{\"automargin\":true,\"gridcolor\":\"white\",\"linecolor\":\"white\",\"ticks\":\"\",\"title\":{\"standoff\":15},\"zerolinecolor\":\"white\",\"zerolinewidth\":2},\"yaxis\":{\"automargin\":true,\"gridcolor\":\"white\",\"linecolor\":\"white\",\"ticks\":\"\",\"title\":{\"standoff\":15},\"zerolinecolor\":\"white\",\"zerolinewidth\":2}}},\"legend\":{\"tracegroupgap\":0},\"title\":{\"text\":\"3eiy - Correlation of Graph Metrics with Properties\"},\"dragmode\":\"select\",\"height\":1000,\"width\":1000,\"font\":{\"size\":10}},                        {\"responsive\": true}                    ).then(function(){\n",
              "                            \n",
              "var gd = document.getElementById('ccdd3b88-b5aa-4a09-902f-23dc9528392c');\n",
              "var x = new MutationObserver(function (mutations, observer) {{\n",
              "        var display = window.getComputedStyle(gd).display;\n",
              "        if (!display || display === 'none') {{\n",
              "            console.log([gd, 'removed!']);\n",
              "            Plotly.purge(gd);\n",
              "            observer.disconnect();\n",
              "        }}\n",
              "}});\n",
              "\n",
              "// Listen for the removal of the full notebook cells\n",
              "var notebookContainer = gd.closest('#notebook-container');\n",
              "if (notebookContainer) {{\n",
              "    x.observe(notebookContainer, {childList: true});\n",
              "}}\n",
              "\n",
              "// Listen for the clearing of the current output cell\n",
              "var outputEl = gd.closest('.output');\n",
              "if (outputEl) {{\n",
              "    x.observe(outputEl, {childList: true});\n",
              "}}\n",
              "\n",
              "                        })                };                            </script>        </div>\n",
              "</body>\n",
              "</html>"
            ]
          },
          "metadata": {}
        }
      ]
    },
    {
      "cell_type": "code",
      "source": [
        "['b_factor', 'pka_cooh_alpha', 'pka_nh3', 'pka_rgroup', 'isoelectric_points', 'molecularweight', 'numbercodons', 'bulkiness', 'polarityzimmerman', 'polaritygrantham', 'refractivity', 'recognitionfactors', 'hphob_eisenberg', 'hphob_sweet', 'hphob_woods', 'hphob_doolittle', 'hphob_manavalan', 'hphob_leo', 'hphob_black', 'hphob_breese', 'hphob_fauchere', 'hphob_guy', 'hphob_janin', 'hphob_miyazawa', 'hphob_argos', 'hphob_roseman', 'hphob_tanford', 'hphob_wolfenden', 'hphob_welling', 'hphob_wilson', 'hphob_parker', 'hphob_ph3_4', 'hphob_ph7_5', 'hphob_mobility', 'hplchfba', 'hplctfa', 'transmembranetendency', 'hplc2_1', 'hplc7_4', 'buriedresidues', 'accessibleresidues', 'hphob_chothia', 'hphob_rose', 'ratioside', 'averageburied', 'averageflexibility', 'alpha_helixfasman', 'beta_sheetfasman', 'beta_turnfasman', 'alpha_helixroux', 'beta_sheetroux', 'beta_turnroux', 'coilroux', 'alpha_helixlevitt', 'beta_sheetlevitt', 'beta_turnlevitt', 'totalbeta_strand', 'antiparallelbeta_strand', 'parallelbeta_strand', 'a_a_composition', 'a_a_swiss_prot', 'relativemutability']"
      ],
      "metadata": {
        "colab": {
          "base_uri": "https://localhost:8080/"
        },
        "id": "-V8NBtbZ0tsQ",
        "outputId": "bafad82d-db5b-4cd9-b84d-61fa4dcbdb02"
      },
      "execution_count": 28,
      "outputs": [
        {
          "output_type": "execute_result",
          "data": {
            "text/plain": [
              "['b_factor',\n",
              " 'pka_cooh_alpha',\n",
              " 'pka_nh3',\n",
              " 'pka_rgroup',\n",
              " 'isoelectric_points',\n",
              " 'molecularweight',\n",
              " 'numbercodons',\n",
              " 'bulkiness',\n",
              " 'polarityzimmerman',\n",
              " 'polaritygrantham',\n",
              " 'refractivity',\n",
              " 'recognitionfactors',\n",
              " 'hphob_eisenberg',\n",
              " 'hphob_sweet',\n",
              " 'hphob_woods',\n",
              " 'hphob_doolittle',\n",
              " 'hphob_manavalan',\n",
              " 'hphob_leo',\n",
              " 'hphob_black',\n",
              " 'hphob_breese',\n",
              " 'hphob_fauchere',\n",
              " 'hphob_guy',\n",
              " 'hphob_janin',\n",
              " 'hphob_miyazawa',\n",
              " 'hphob_argos',\n",
              " 'hphob_roseman',\n",
              " 'hphob_tanford',\n",
              " 'hphob_wolfenden',\n",
              " 'hphob_welling',\n",
              " 'hphob_wilson',\n",
              " 'hphob_parker',\n",
              " 'hphob_ph3_4',\n",
              " 'hphob_ph7_5',\n",
              " 'hphob_mobility',\n",
              " 'hplchfba',\n",
              " 'hplctfa',\n",
              " 'transmembranetendency',\n",
              " 'hplc2_1',\n",
              " 'hplc7_4',\n",
              " 'buriedresidues',\n",
              " 'accessibleresidues',\n",
              " 'hphob_chothia',\n",
              " 'hphob_rose',\n",
              " 'ratioside',\n",
              " 'averageburied',\n",
              " 'averageflexibility',\n",
              " 'alpha_helixfasman',\n",
              " 'beta_sheetfasman',\n",
              " 'beta_turnfasman',\n",
              " 'alpha_helixroux',\n",
              " 'beta_sheetroux',\n",
              " 'beta_turnroux',\n",
              " 'coilroux',\n",
              " 'alpha_helixlevitt',\n",
              " 'beta_sheetlevitt',\n",
              " 'beta_turnlevitt',\n",
              " 'totalbeta_strand',\n",
              " 'antiparallelbeta_strand',\n",
              " 'parallelbeta_strand',\n",
              " 'a_a_composition',\n",
              " 'a_a_swiss_prot',\n",
              " 'relativemutability']"
            ]
          },
          "metadata": {},
          "execution_count": 28
        }
      ]
    },
    {
      "cell_type": "code",
      "source": [
        "for _, d in g.nodes(data=True):\n",
        "    print(d.keys())\n",
        "    break"
      ],
      "metadata": {
        "colab": {
          "base_uri": "https://localhost:8080/"
        },
        "id": "SX0utpxR02gj",
        "outputId": "f4f69c75-5a7e-4e7f-fb1d-2f09b88e90c6"
      },
      "execution_count": 29,
      "outputs": [
        {
          "output_type": "stream",
          "name": "stdout",
          "text": [
            "dict_keys(['chain_id', 'residue_name', 'residue_number', 'atom_type', 'element_symbol', 'coords', 'b_factor', 'meiler', 'asa', 'rsa'])\n"
          ]
        }
      ]
    },
    {
      "cell_type": "code",
      "source": [
        "from functools import partial\n",
        "from graphein.protein.features.nodes import expasy_protein_scale\n",
        "\n",
        "# Construct the graph with the expasy features.\n",
        "config = ProteinGraphConfig(\n",
        "    edge_construction_functions=[\n",
        "        add_hydrophobic_interactions,\n",
        "        add_aromatic_interactions,\n",
        "        add_disulfide_interactions,\n",
        "        add_peptide_bonds,\n",
        "    ],\n",
        "    node_metadata_functions=[partial(expasy_protein_scale, add_separate=True)], # Add expasy scale (add partial it so each feature is added under a separate key)\n",
        ")\n",
        "g = construct_graph(\n",
        "    pdb_code=\"3eiy\",\n",
        "    config=config\n",
        "    )\n",
        "\n",
        "# Plot\n",
        "plot_graph_metric_property_correlation(\n",
        "    g,\n",
        "    diagonal_visible=False,\n",
        "    colour_by=\"residue_type\",\n",
        "    properties=[\n",
        "        \"pka_rgroup\",\n",
        "        \"isoelectric_points\",\n",
        "        \"bulkiness\",\n",
        "        \"transmembranetendency\",\n",
        "        \"coilroux\",\n",
        "        \"relativemutability\"\n",
        "        ]\n",
        "    )"
      ],
      "metadata": {
        "colab": {
          "base_uri": "https://localhost:8080/",
          "height": 1000,
          "referenced_widgets": [
            "5eb65fba773d44e1aed3e2c079c50197",
            "348d10674e2748a3be014b4946fcb13b"
          ]
        },
        "id": "RtHeQl5R07O5",
        "outputId": "586982eb-c5c9-4f25-fa4f-ed3ae45a7614"
      },
      "execution_count": 30,
      "outputs": [
        {
          "output_type": "display_data",
          "data": {
            "text/plain": [
              "Output()"
            ],
            "application/vnd.jupyter.widget-view+json": {
              "version_major": 2,
              "version_minor": 0,
              "model_id": "5eb65fba773d44e1aed3e2c079c50197"
            }
          },
          "metadata": {}
        },
        {
          "output_type": "display_data",
          "data": {
            "text/plain": [
              "/content/graphein/graphein/protein/graphs.py:153: FutureWarning:\n",
              "\n",
              "The default value of regex will change from True to False in a future version.\n",
              "\n"
            ],
            "text/html": [
              "<pre style=\"white-space:pre;overflow-x:auto;line-height:normal;font-family:Menlo,'DejaVu Sans Mono',consolas,'Courier New',monospace\">/content/graphein/graphein/protein/graphs.py:153: FutureWarning:\n",
              "\n",
              "The default value of regex will change from True to False in a future version.\n",
              "\n",
              "</pre>\n"
            ]
          },
          "metadata": {}
        },
        {
          "output_type": "display_data",
          "data": {
            "text/plain": [
              "/content/graphein/graphein/protein/graphs.py:156: FutureWarning:\n",
              "\n",
              "The default value of regex will change from True to False in a future version.\n",
              "\n"
            ],
            "text/html": [
              "<pre style=\"white-space:pre;overflow-x:auto;line-height:normal;font-family:Menlo,'DejaVu Sans Mono',consolas,'Courier New',monospace\">/content/graphein/graphein/protein/graphs.py:156: FutureWarning:\n",
              "\n",
              "The default value of regex will change from True to False in a future version.\n",
              "\n",
              "</pre>\n"
            ]
          },
          "metadata": {}
        },
        {
          "output_type": "display_data",
          "data": {
            "text/plain": [
              "\u001b[2;36m[03/13/23 16:35:44]\u001b[0m\u001b[2;36m \u001b[0m\u001b[32mDEBUG   \u001b[0m Deprotonating protein. This removes H atoms from the pdb_df dataframe    \u001b]8;id=854159;file:///content/graphein/graphein/protein/graphs.py\u001b\\\u001b[2mgraphs.py\u001b[0m\u001b]8;;\u001b\\\u001b[2m:\u001b[0m\u001b]8;id=905657;file:///content/graphein/graphein/protein/graphs.py#179\u001b\\\u001b[2m179\u001b[0m\u001b]8;;\u001b\\\n"
            ],
            "text/html": [
              "<pre style=\"white-space:pre;overflow-x:auto;line-height:normal;font-family:Menlo,'DejaVu Sans Mono',consolas,'Courier New',monospace\"><span style=\"color: #7fbfbf; text-decoration-color: #7fbfbf\">[03/13/23 16:35:44] </span><span style=\"color: #008000; text-decoration-color: #008000\">DEBUG   </span> Deprotonating protein. This removes H atoms from the pdb_df dataframe    <a href=\"file:///content/graphein/graphein/protein/graphs.py\" target=\"_blank\"><span style=\"color: #7f7f7f; text-decoration-color: #7f7f7f\">graphs.py</span></a><span style=\"color: #7f7f7f; text-decoration-color: #7f7f7f\">:</span><a href=\"file:///content/graphein/graphein/protein/graphs.py#179\" target=\"_blank\"><span style=\"color: #7f7f7f; text-decoration-color: #7f7f7f\">179</span></a>\n",
              "</pre>\n"
            ]
          },
          "metadata": {}
        },
        {
          "output_type": "display_data",
          "data": {
            "text/plain": [
              "\u001b[2;36m                   \u001b[0m\u001b[2;36m \u001b[0m\u001b[32mDEBUG   \u001b[0m Detected \u001b[1;36m174\u001b[0m total nodes                                                 \u001b]8;id=778170;file:///content/graphein/graphein/protein/graphs.py\u001b\\\u001b[2mgraphs.py\u001b[0m\u001b]8;;\u001b\\\u001b[2m:\u001b[0m\u001b]8;id=226472;file:///content/graphein/graphein/protein/graphs.py#431\u001b\\\u001b[2m431\u001b[0m\u001b]8;;\u001b\\\n"
            ],
            "text/html": [
              "<pre style=\"white-space:pre;overflow-x:auto;line-height:normal;font-family:Menlo,'DejaVu Sans Mono',consolas,'Courier New',monospace\"><span style=\"color: #7fbfbf; text-decoration-color: #7fbfbf\">                    </span><span style=\"color: #008000; text-decoration-color: #008000\">DEBUG   </span> Detected <span style=\"color: #008080; text-decoration-color: #008080; font-weight: bold\">174</span> total nodes                                                 <a href=\"file:///content/graphein/graphein/protein/graphs.py\" target=\"_blank\"><span style=\"color: #7f7f7f; text-decoration-color: #7f7f7f\">graphs.py</span></a><span style=\"color: #7f7f7f; text-decoration-color: #7f7f7f\">:</span><a href=\"file:///content/graphein/graphein/protein/graphs.py#431\" target=\"_blank\"><span style=\"color: #7f7f7f; text-decoration-color: #7f7f7f\">431</span></a>\n",
              "</pre>\n"
            ]
          },
          "metadata": {}
        },
        {
          "output_type": "display_data",
          "data": {
            "text/plain": [
              "\u001b[2;36m                   \u001b[0m\u001b[2;36m \u001b[0m\u001b[32mDEBUG   \u001b[0m Reading Expasy protein scales from:                                   \u001b]8;id=426991;file:///content/graphein/graphein/protein/features/nodes/amino_acid.py\u001b\\\u001b[2mamino_acid.py\u001b[0m\u001b]8;;\u001b\\\u001b[2m:\u001b[0m\u001b]8;id=89236;file:///content/graphein/graphein/protein/features/nodes/amino_acid.py#39\u001b\\\u001b[2m39\u001b[0m\u001b]8;;\u001b\\\n",
              "\u001b[2;36m                    \u001b[0m         \u001b[35m/content/graphein/graphein/protein/features/nodes/\u001b[0m\u001b[95mamino_acid_properti\u001b[0m \u001b[2m                \u001b[0m\n",
              "\u001b[2;36m                    \u001b[0m         \u001b[95mes.csv\u001b[0m                                                                \u001b[2m                \u001b[0m\n"
            ],
            "text/html": [
              "<pre style=\"white-space:pre;overflow-x:auto;line-height:normal;font-family:Menlo,'DejaVu Sans Mono',consolas,'Courier New',monospace\"><span style=\"color: #7fbfbf; text-decoration-color: #7fbfbf\">                    </span><span style=\"color: #008000; text-decoration-color: #008000\">DEBUG   </span> Reading Expasy protein scales from:                                   <a href=\"file:///content/graphein/graphein/protein/features/nodes/amino_acid.py\" target=\"_blank\"><span style=\"color: #7f7f7f; text-decoration-color: #7f7f7f\">amino_acid.py</span></a><span style=\"color: #7f7f7f; text-decoration-color: #7f7f7f\">:</span><a href=\"file:///content/graphein/graphein/protein/features/nodes/amino_acid.py#39\" target=\"_blank\"><span style=\"color: #7f7f7f; text-decoration-color: #7f7f7f\">39</span></a>\n",
              "<span style=\"color: #7fbfbf; text-decoration-color: #7fbfbf\">                    </span>         <span style=\"color: #800080; text-decoration-color: #800080\">/content/graphein/graphein/protein/features/nodes/</span><span style=\"color: #ff00ff; text-decoration-color: #ff00ff\">amino_acid_properti</span> <span style=\"color: #7f7f7f; text-decoration-color: #7f7f7f\">                </span>\n",
              "<span style=\"color: #7fbfbf; text-decoration-color: #7fbfbf\">                    </span>         <span style=\"color: #ff00ff; text-decoration-color: #ff00ff\">es.csv</span>                                                                <span style=\"color: #7f7f7f; text-decoration-color: #7f7f7f\">                </span>\n",
              "</pre>\n"
            ]
          },
          "metadata": {}
        },
        {
          "output_type": "display_data",
          "data": {
            "text/plain": [
              "\u001b[2;36m[03/13/23 16:35:45]\u001b[0m\u001b[2;36m \u001b[0m\u001b[34mINFO    \u001b[0m Found \u001b[1;36m413\u001b[0m hydrophobic interactions.                                   \u001b]8;id=936423;file:///content/graphein/graphein/protein/edges/distance.py\u001b\\\u001b[2mdistance.py\u001b[0m\u001b]8;;\u001b\\\u001b[2m:\u001b[0m\u001b]8;id=377626;file:///content/graphein/graphein/protein/edges/distance.py#1342\u001b\\\u001b[2m1342\u001b[0m\u001b]8;;\u001b\\\n"
            ],
            "text/html": [
              "<pre style=\"white-space:pre;overflow-x:auto;line-height:normal;font-family:Menlo,'DejaVu Sans Mono',consolas,'Courier New',monospace\"><span style=\"color: #7fbfbf; text-decoration-color: #7fbfbf\">[03/13/23 16:35:45] </span><span style=\"color: #000080; text-decoration-color: #000080\">INFO    </span> Found <span style=\"color: #008080; text-decoration-color: #008080; font-weight: bold\">413</span> hydrophobic interactions.                                   <a href=\"file:///content/graphein/graphein/protein/edges/distance.py\" target=\"_blank\"><span style=\"color: #7f7f7f; text-decoration-color: #7f7f7f\">distance.py</span></a><span style=\"color: #7f7f7f; text-decoration-color: #7f7f7f\">:</span><a href=\"file:///content/graphein/graphein/protein/edges/distance.py#1342\" target=\"_blank\"><span style=\"color: #7f7f7f; text-decoration-color: #7f7f7f\">1342</span></a>\n",
              "</pre>\n"
            ]
          },
          "metadata": {}
        },
        {
          "output_type": "display_data",
          "data": {
            "text/plain": [
              "\u001b[2;36m                   \u001b[0m\u001b[2;36m \u001b[0m\u001b[34mINFO    \u001b[0m Found: \u001b[1;36m16\u001b[0m aromatic-aromatic interactions                               \u001b]8;id=626179;file:///content/graphein/graphein/protein/edges/distance.py\u001b\\\u001b[2mdistance.py\u001b[0m\u001b]8;;\u001b\\\u001b[2m:\u001b[0m\u001b]8;id=33119;file:///content/graphein/graphein/protein/edges/distance.py#466\u001b\\\u001b[2m466\u001b[0m\u001b]8;;\u001b\\\n"
            ],
            "text/html": [
              "<pre style=\"white-space:pre;overflow-x:auto;line-height:normal;font-family:Menlo,'DejaVu Sans Mono',consolas,'Courier New',monospace\"><span style=\"color: #7fbfbf; text-decoration-color: #7fbfbf\">                    </span><span style=\"color: #000080; text-decoration-color: #000080\">INFO    </span> Found: <span style=\"color: #008080; text-decoration-color: #008080; font-weight: bold\">16</span> aromatic-aromatic interactions                               <a href=\"file:///content/graphein/graphein/protein/edges/distance.py\" target=\"_blank\"><span style=\"color: #7f7f7f; text-decoration-color: #7f7f7f\">distance.py</span></a><span style=\"color: #7f7f7f; text-decoration-color: #7f7f7f\">:</span><a href=\"file:///content/graphein/graphein/protein/edges/distance.py#466\" target=\"_blank\"><span style=\"color: #7f7f7f; text-decoration-color: #7f7f7f\">466</span></a>\n",
              "</pre>\n"
            ]
          },
          "metadata": {}
        },
        {
          "output_type": "display_data",
          "data": {
            "text/plain": [
              "\u001b[2;36m                   \u001b[0m\u001b[2;36m \u001b[0m\u001b[32mDEBUG   \u001b[0m \u001b[1;36m1\u001b[0m CYS residues found. Cannot add disulfide                             \u001b]8;id=34142;file:///content/graphein/graphein/protein/edges/distance.py\u001b\\\u001b[2mdistance.py\u001b[0m\u001b]8;;\u001b\\\u001b[2m:\u001b[0m\u001b]8;id=79987;file:///content/graphein/graphein/protein/edges/distance.py#309\u001b\\\u001b[2m309\u001b[0m\u001b]8;;\u001b\\\n",
              "\u001b[2;36m                    \u001b[0m         interactions with fewer than two CYS residues.                         \u001b[2m               \u001b[0m\n"
            ],
            "text/html": [
              "<pre style=\"white-space:pre;overflow-x:auto;line-height:normal;font-family:Menlo,'DejaVu Sans Mono',consolas,'Courier New',monospace\"><span style=\"color: #7fbfbf; text-decoration-color: #7fbfbf\">                    </span><span style=\"color: #008000; text-decoration-color: #008000\">DEBUG   </span> <span style=\"color: #008080; text-decoration-color: #008080; font-weight: bold\">1</span> CYS residues found. Cannot add disulfide                             <a href=\"file:///content/graphein/graphein/protein/edges/distance.py\" target=\"_blank\"><span style=\"color: #7f7f7f; text-decoration-color: #7f7f7f\">distance.py</span></a><span style=\"color: #7f7f7f; text-decoration-color: #7f7f7f\">:</span><a href=\"file:///content/graphein/graphein/protein/edges/distance.py#309\" target=\"_blank\"><span style=\"color: #7f7f7f; text-decoration-color: #7f7f7f\">309</span></a>\n",
              "<span style=\"color: #7fbfbf; text-decoration-color: #7fbfbf\">                    </span>         interactions with fewer than two CYS residues.                         <span style=\"color: #7f7f7f; text-decoration-color: #7f7f7f\">               </span>\n",
              "</pre>\n"
            ]
          },
          "metadata": {}
        },
        {
          "output_type": "display_data",
          "data": {
            "text/plain": [],
            "text/html": [
              "<pre style=\"white-space:pre;overflow-x:auto;line-height:normal;font-family:Menlo,'DejaVu Sans Mono',consolas,'Courier New',monospace\"></pre>\n"
            ]
          },
          "metadata": {}
        },
        {
          "output_type": "display_data",
          "data": {
            "text/plain": [
              "\n"
            ],
            "text/html": [
              "<pre style=\"white-space:pre;overflow-x:auto;line-height:normal;font-family:Menlo,'DejaVu Sans Mono',consolas,'Courier New',monospace\">\n",
              "</pre>\n"
            ]
          },
          "metadata": {}
        },
        {
          "output_type": "display_data",
          "data": {
            "text/html": [
              "<html>\n",
              "<head><meta charset=\"utf-8\" /></head>\n",
              "<body>\n",
              "    <div>            <script src=\"https://cdnjs.cloudflare.com/ajax/libs/mathjax/2.7.5/MathJax.js?config=TeX-AMS-MML_SVG\"></script><script type=\"text/javascript\">if (window.MathJax) {MathJax.Hub.Config({SVG: {font: \"STIX-Web\"}});}</script>                <script type=\"text/javascript\">window.PlotlyConfig = {MathJaxConfig: 'local'};</script>\n",
              "        <script src=\"https://cdn.plot.ly/plotly-2.8.3.min.js\"></script>                <div id=\"ef7222a7-e7f4-4d73-9d0d-aa06532428a4\" class=\"plotly-graph-div\" style=\"height:1000px; width:1000px;\"></div>            <script type=\"text/javascript\">                                    window.PLOTLYENV=window.PLOTLYENV || {};                                    if (document.getElementById(\"ef7222a7-e7f4-4d73-9d0d-aa06532428a4\")) {                    Plotly.newPlot(                        \"ef7222a7-e7f4-4d73-9d0d-aa06532428a4\",                        [{\"dimensions\":[{\"axis\":{\"matches\":true},\"label\":\"degree\",\"values\":[1.0,2.0,2.0,2.0,2.0,2.0,2.0]},{\"axis\":{\"matches\":true},\"label\":\"betweenness centrality\",\"values\":[0.0,0.0020348580086018376,0.003055076989745626,0.0030208712289637157,0.004129164572236551,0.0023639870185895506,0.00172114725060789]},{\"axis\":{\"matches\":true},\"label\":\"closeness centrality\",\"values\":[0.1787190082644628,0.17946058091286307,0.1624413145539906,0.125544267053701,0.180773249738767,0.12446043165467625,0.18463180362860193]},{\"axis\":{\"matches\":true},\"label\":\"eigenvector centrality\",\"values\":[0.005605007956361791,0.0066863900466724874,0.0010749731918128123,0.00005599458058321847,0.008233684271945964,0.000053499295017550154,0.015515465336526972]},{\"axis\":{\"matches\":true},\"label\":\"communicability betweenness centrality\",\"values\":[0.0009537617993683144,0.0034406812570661697,0.002434181810974513,0.00415818062886377,0.00445853003407006,0.0026859030330944403,0.0026005721653402257]},{\"axis\":{\"matches\":true},\"label\":\"pka rgroup\",\"values\":[7.0,7.0,7.0,7.0,7.0,7.0,7.0]},{\"axis\":{\"matches\":true},\"label\":\"isoelectric points\",\"values\":[5.68,5.68,5.68,5.68,5.68,5.68,5.68]},{\"axis\":{\"matches\":true},\"label\":\"bulkiness\",\"values\":[9.47,9.47,9.47,9.47,9.47,9.47,9.47]},{\"axis\":{\"matches\":true},\"label\":\"transmembranetendency\",\"values\":[-0.53,-0.53,-0.53,-0.53,-0.53,-0.53,-0.53]},{\"axis\":{\"matches\":true},\"label\":\"coilroux\",\"values\":[1.13,1.13,1.13,1.13,1.13,1.13,1.13]},{\"axis\":{\"matches\":true},\"label\":\"relativemutability\",\"values\":[120.0,120.0,120.0,120.0,120.0,120.0,120.0]}],\"hovertemplate\":\"<b>%{hovertext}</b><br><br>residue type=SER<br>%{xaxis.title.text}=%{x}<br>%{yaxis.title.text}=%{y}<extra></extra>\",\"hovertext\":[\"A:SER:2\",\"A:SER:4\",\"A:SER:26\",\"A:SER:64\",\"A:SER:84\",\"A:SER:100\",\"A:SER:123\"],\"legendgroup\":\"SER\",\"marker\":{\"color\":\"#636efa\",\"opacity\":0.2,\"symbol\":\"circle\"},\"name\":\"SER\",\"showlegend\":true,\"type\":\"splom\",\"diagonal\":{\"visible\":false}},{\"dimensions\":[{\"axis\":{\"matches\":true},\"label\":\"degree\",\"values\":[6.0,10.0,4.0,7.0,2.0,7.0,11.0,3.0]},{\"axis\":{\"matches\":true},\"label\":\"betweenness centrality\",\"values\":[0.05322768323082323,0.07377594192753176,0.02862784995456655,0.10605597991561179,0.007680126110339828,0.029819651510095878,0.15593986133993729,0.025774011587614398]},{\"axis\":{\"matches\":true},\"label\":\"closeness centrality\",\"values\":[0.21733668341708542,0.2536656891495601,0.18622174381054898,0.24366197183098592,0.1778006166495375,0.22526041666666666,0.25667655786350146,0.13515625]},{\"axis\":{\"matches\":true},\"label\":\"eigenvector centrality\",\"values\":[0.03630374793235325,0.24481433645505124,0.012645777794901135,0.08221920205376715,0.004917135102973881,0.10221231541028847,0.1798955361309414,0.0002689878402155383]},{\"axis\":{\"matches\":true},\"label\":\"communicability betweenness centrality\",\"values\":[0.07074547332206273,0.14639119282979945,0.03267234362103609,0.12077573676513399,0.007168525115348833,0.0762706532266012,0.22200763930688766,0.026476693376936117]},{\"axis\":{\"matches\":true},\"label\":\"pka rgroup\",\"values\":[7.0,7.0,7.0,7.0,7.0,7.0,7.0,7.0]},{\"axis\":{\"matches\":true},\"label\":\"isoelectric points\",\"values\":[5.91,5.91,5.91,5.91,5.91,5.91,5.91,5.91]},{\"axis\":{\"matches\":true},\"label\":\"bulkiness\",\"values\":[19.8,19.8,19.8,19.8,19.8,19.8,19.8,19.8]},{\"axis\":{\"matches\":true},\"label\":\"transmembranetendency\",\"values\":[1.98,1.98,1.98,1.98,1.98,1.98,1.98,1.98]},{\"axis\":{\"matches\":true},\"label\":\"coilroux\",\"values\":[0.797,0.797,0.797,0.797,0.797,0.797,0.797,0.797]},{\"axis\":{\"matches\":true},\"label\":\"relativemutability\",\"values\":[41.0,41.0,41.0,41.0,41.0,41.0,41.0,41.0]}],\"hovertemplate\":\"<b>%{hovertext}</b><br><br>residue type=PHE<br>%{xaxis.title.text}=%{x}<br>%{yaxis.title.text}=%{y}<extra></extra>\",\"hovertext\":[\"A:PHE:3\",\"A:PHE:16\",\"A:PHE:45\",\"A:PHE:58\",\"A:PHE:78\",\"A:PHE:138\",\"A:PHE:139\",\"A:PHE:173\"],\"legendgroup\":\"PHE\",\"marker\":{\"color\":\"#EF553B\",\"opacity\":0.2,\"symbol\":\"circle\"},\"name\":\"PHE\",\"showlegend\":true,\"type\":\"splom\",\"diagonal\":{\"visible\":false}},{\"dimensions\":[{\"axis\":{\"matches\":true},\"label\":\"degree\",\"values\":[2.0,2.0,2.0,2.0,2.0]},{\"axis\":{\"matches\":true},\"label\":\"betweenness centrality\",\"values\":[0.0007495644711668368,0.0,0.0009602995186301848,0.017295122113469476,0.02421394377967719]},{\"axis\":{\"matches\":true},\"label\":\"closeness centrality\",\"values\":[0.17421953675730112,0.21464019851116625,0.21761006289308177,0.17617107942973523,0.14786324786324787]},{\"axis\":{\"matches\":true},\"label\":\"eigenvector centrality\",\"values\":[0.007004133291308259,0.0771252360841705,0.03575806963292543,0.012199413632388963,0.0013683073053261808]},{\"axis\":{\"matches\":true},\"label\":\"communicability betweenness centrality\",\"values\":[0.0020897459647627272,0.007803597440108397,0.005204951739432983,0.018332016832321336,0.026654518118819352]},{\"axis\":{\"matches\":true},\"label\":\"pka rgroup\",\"values\":[13.2,13.2,13.2,13.2,13.2]},{\"axis\":{\"matches\":true},\"label\":\"isoelectric points\",\"values\":[10.76,10.76,10.76,10.76,10.76]},{\"axis\":{\"matches\":true},\"label\":\"bulkiness\",\"values\":[12.82,12.82,12.82,12.82,12.82]},{\"axis\":{\"matches\":true},\"label\":\"transmembranetendency\",\"values\":[-1.62,-1.62,-1.62,-1.62,-1.62]},{\"axis\":{\"matches\":true},\"label\":\"coilroux\",\"values\":[1.167,1.167,1.167,1.167,1.167]},{\"axis\":{\"matches\":true},\"label\":\"relativemutability\",\"values\":[134.0,134.0,134.0,134.0,134.0]}],\"hovertemplate\":\"<b>%{hovertext}</b><br><br>residue type=ASN<br>%{xaxis.title.text}=%{x}<br>%{yaxis.title.text}=%{y}<extra></extra>\",\"hovertext\":[\"A:ASN:5\",\"A:ASN:17\",\"A:ASN:55\",\"A:ASN:120\",\"A:ASN:172\"],\"legendgroup\":\"ASN\",\"marker\":{\"color\":\"#00cc96\",\"opacity\":0.2,\"symbol\":\"circle\"},\"name\":\"ASN\",\"showlegend\":true,\"type\":\"splom\",\"diagonal\":{\"visible\":false}},{\"dimensions\":[{\"axis\":{\"matches\":true},\"label\":\"degree\",\"values\":[5.0,9.0,5.0,3.0,5.0,7.0,6.0,9.0,9.0,4.0,9.0,2.0,8.0,5.0,4.0,7.0,6.0,6.0,5.0]},{\"axis\":{\"matches\":true},\"label\":\"betweenness centrality\",\"values\":[0.017827287800428075,0.0570058562945924,0.009166478862506558,0.017915721266040713,0.02400274942121759,0.04485414756152362,0.03974927334748586,0.1127779643761299,0.105215724804146,0.021602153374980386,0.06463612649646866,0.014380342608856083,0.08314790704419052,0.015173399838335846,0.03467023008252019,0.025181374192634245,0.05223817247981863,0.018512401275767875,0.0567655559863565]},{\"axis\":{\"matches\":true},\"label\":\"closeness centrality\",\"values\":[0.20473372781065088,0.2578241430700447,0.1779835390946502,0.1778006166495375,0.17816683831101957,0.2443502824858757,0.24714285714285714,0.2763578274760383,0.2686335403726708,0.21358024691358024,0.24061196105702365,0.1440466278101582,0.2665639445300462,0.22179487179487178,0.20023148148148148,0.2300531914893617,0.21517412935323382,0.21815889029003782,0.20069605568445475]},{\"axis\":{\"matches\":true},\"label\":\"eigenvector centrality\",\"values\":[0.038679520487611925,0.25472735051882767,0.0072272752128670886,0.0031567903822729807,0.005819556499732456,0.12938242236862943,0.14949972502695622,0.2750180024667158,0.24965090219610656,0.05028500060807206,0.17359860955642814,0.0003673618987061248,0.18393861960734129,0.10292684392752167,0.04286180760735305,0.12079023250611691,0.07008166086859802,0.07030942244501967,0.054292388992067155]},{\"axis\":{\"matches\":true},\"label\":\"communicability betweenness centrality\",\"values\":[0.0263331031396422,0.1468076798603743,0.02091195870269029,0.021599511475065763,0.030222614138244966,0.08460331391172964,0.08252177016780687,0.19837817959185583,0.18427553215499778,0.02824649601831946,0.1050875117184534,0.014186002821539204,0.13372578748364466,0.03897392530259,0.04009718008278631,0.058913154689996056,0.07460679381633693,0.04553656605453512,0.06832241627825697]},{\"axis\":{\"matches\":true},\"label\":\"pka rgroup\",\"values\":[7.0,7.0,7.0,7.0,7.0,7.0,7.0,7.0,7.0,7.0,7.0,7.0,7.0,7.0,7.0,7.0,7.0,7.0,7.0]},{\"axis\":{\"matches\":true},\"label\":\"isoelectric points\",\"values\":[6.02,6.02,6.02,6.02,6.02,6.02,6.02,6.02,6.02,6.02,6.02,6.02,6.02,6.02,6.02,6.02,6.02,6.02,6.02]},{\"axis\":{\"matches\":true},\"label\":\"bulkiness\",\"values\":[21.57,21.57,21.57,21.57,21.57,21.57,21.57,21.57,21.57,21.57,21.57,21.57,21.57,21.57,21.57,21.57,21.57,21.57,21.57]},{\"axis\":{\"matches\":true},\"label\":\"transmembranetendency\",\"values\":[1.46,1.46,1.46,1.46,1.46,1.46,1.46,1.46,1.46,1.46,1.46,1.46,1.46,1.46,1.46,1.46,1.46,1.46,1.46]},{\"axis\":{\"matches\":true},\"label\":\"coilroux\",\"values\":[0.772,0.772,0.772,0.772,0.772,0.772,0.772,0.772,0.772,0.772,0.772,0.772,0.772,0.772,0.772,0.772,0.772,0.772,0.772]},{\"axis\":{\"matches\":true},\"label\":\"relativemutability\",\"values\":[74.0,74.0,74.0,74.0,74.0,74.0,74.0,74.0,74.0,74.0,74.0,74.0,74.0,74.0,74.0,74.0,74.0,74.0,74.0]}],\"hovertemplate\":\"<b>%{hovertext}</b><br><br>residue type=VAL<br>%{xaxis.title.text}=%{x}<br>%{yaxis.title.text}=%{y}<extra></extra>\",\"hovertext\":[\"A:VAL:6\",\"A:VAL:18\",\"A:VAL:29\",\"A:VAL:41\",\"A:VAL:42\",\"A:VAL:54\",\"A:VAL:70\",\"A:VAL:72\",\"A:VAL:74\",\"A:VAL:85\",\"A:VAL:86\",\"A:VAL:102\",\"A:VAL:107\",\"A:VAL:109\",\"A:VAL:114\",\"A:VAL:127\",\"A:VAL:151\",\"A:VAL:153\",\"A:VAL:170\"],\"legendgroup\":\"VAL\",\"marker\":{\"color\":\"#ab63fa\",\"opacity\":0.2,\"symbol\":\"circle\"},\"name\":\"VAL\",\"showlegend\":true,\"type\":\"splom\",\"diagonal\":{\"visible\":false}},{\"dimensions\":[{\"axis\":{\"matches\":true},\"label\":\"degree\",\"values\":[2.0,3.0,5.0,3.0,5.0,5.0,3.0,3.0,4.0,5.0,2.0,5.0]},{\"axis\":{\"matches\":true},\"label\":\"betweenness centrality\",\"values\":[0.0032122128083002014,0.004350496748866233,0.04403567678236315,0.015695904302266552,0.023518987206021934,0.060784827206272825,0.04318173367855883,0.018719883746525542,0.018172426166758335,0.03482839844444286,0.003100550116204979,0.013352129389350197]},{\"axis\":{\"matches\":true},\"label\":\"closeness centrality\",\"values\":[0.18948521358159912,0.19548022598870057,0.23473541383989144,0.1858216970998926,0.2255541069100391,0.22733245729303547,0.21625,0.17617107942973523,0.20843373493975903,0.2232258064516129,0.14875322441960448,0.20595238095238094]},{\"axis\":{\"matches\":true},\"label\":\"eigenvector centrality\",\"values\":[0.015609428644124672,0.04388943418452443,0.04131266137027037,0.011721577824525561,0.1007198224754734,0.07244432637445063,0.03667158151100062,0.0052820793463633645,0.02656630244318917,0.09008151795329934,0.0012167643005821004,0.05584399352767395]},{\"axis\":{\"matches\":true},\"label\":\"communicability betweenness centrality\",\"values\":[0.003594123084528147,0.011600035006970448,0.04821822157188025,0.020661608276739643,0.050565904751181626,0.08000793380532847,0.04853511944178083,0.017749201337741986,0.02441566543285234,0.050257033237838374,0.003410213478359012,0.02319108560309882]},{\"axis\":{\"matches\":true},\"label\":\"pka rgroup\",\"values\":[7.0,7.0,7.0,7.0,7.0,7.0,7.0,7.0,7.0,7.0,7.0,7.0]},{\"axis\":{\"matches\":true},\"label\":\"isoelectric points\",\"values\":[6.3,6.3,6.3,6.3,6.3,6.3,6.3,6.3,6.3,6.3,6.3,6.3]},{\"axis\":{\"matches\":true},\"label\":\"bulkiness\",\"values\":[17.43,17.43,17.43,17.43,17.43,17.43,17.43,17.43,17.43,17.43,17.43,17.43]},{\"axis\":{\"matches\":true},\"label\":\"transmembranetendency\",\"values\":[-1.44,-1.44,-1.44,-1.44,-1.44,-1.44,-1.44,-1.44,-1.44,-1.44,-1.44,-1.44]},{\"axis\":{\"matches\":true},\"label\":\"coilroux\",\"values\":[1.54,1.54,1.54,1.54,1.54,1.54,1.54,1.54,1.54,1.54,1.54,1.54]},{\"axis\":{\"matches\":true},\"label\":\"relativemutability\",\"values\":[56.0,56.0,56.0,56.0,56.0,56.0,56.0,56.0,56.0,56.0,56.0,56.0]}],\"hovertemplate\":\"<b>%{hovertext}</b><br><br>residue type=PRO<br>%{xaxis.title.text}=%{x}<br>%{yaxis.title.text}=%{y}<extra></extra>\",\"hovertext\":[\"A:PRO:7\",\"A:PRO:13\",\"A:PRO:23\",\"A:PRO:28\",\"A:PRO:53\",\"A:PRO:60\",\"A:PRO:69\",\"A:PRO:77\",\"A:PRO:79\",\"A:PRO:110\",\"A:PRO:116\",\"A:PRO:128\"],\"legendgroup\":\"PRO\",\"marker\":{\"color\":\"#FFA15A\",\"opacity\":0.2,\"symbol\":\"circle\"},\"name\":\"PRO\",\"showlegend\":true,\"type\":\"splom\",\"diagonal\":{\"visible\":false}},{\"dimensions\":[{\"axis\":{\"matches\":true},\"label\":\"degree\",\"values\":[5.0,4.0,5.0,2.0,4.0,6.0,6.0,3.0,6.0,2.0,2.0,2.0,3.0,5.0,2.0]},{\"axis\":{\"matches\":true},\"label\":\"betweenness centrality\",\"values\":[0.033450536576057274,0.03202395424315709,0.050464418341478356,0.0011639109199265139,0.02333084206069252,0.015241464020113612,0.05483426890401486,0.03698640583361806,0.018416538588878092,0.006741546232732693,0.0,0.02324885257235035,0.006228076676053556,0.02362419516065187,0.034513267165436935]},{\"axis\":{\"matches\":true},\"label\":\"closeness centrality\",\"values\":[0.21733668341708542,0.22010178117048346,0.20944309927360774,0.13974151857835218,0.20092915214866433,0.2261437908496732,0.23473541383989144,0.1977142857142857,0.24679029957203993,0.1516213847502191,0.17111770524233433,0.15613718411552346,0.19885057471264367,0.2255541069100391,0.17010816125860373]},{\"axis\":{\"matches\":true},\"label\":\"eigenvector centrality\",\"values\":[0.06242305907628804,0.031225521584908107,0.021780722440087445,0.00023663450030098716,0.011487131734969376,0.14618138809992215,0.10413582024609172,0.014623264835596617,0.18566101632818877,0.001955750396358625,0.013158345632688287,0.0025119401015325153,0.019470067443993207,0.05810023664429727,0.008593565771359219]},{\"axis\":{\"matches\":true},\"label\":\"communicability betweenness centrality\",\"values\":[0.04362137864513158,0.034426349946898346,0.0598751077964659,0.0016439104052489474,0.0246186877182777,0.04265555097224175,0.06675751988507378,0.03813064189341451,0.07212222418635164,0.00730284480746342,0.0011308849148308484,0.023738444577888342,0.011055037198012473,0.03843502817622881,0.03713266653857002]},{\"axis\":{\"matches\":true},\"label\":\"pka rgroup\",\"values\":[7.0,7.0,7.0,7.0,7.0,7.0,7.0,7.0,7.0,7.0,7.0,7.0,7.0,7.0,7.0]},{\"axis\":{\"matches\":true},\"label\":\"isoelectric points\",\"values\":[6.11,6.11,6.11,6.11,6.11,6.11,6.11,6.11,6.11,6.11,6.11,6.11,6.11,6.11,6.11]},{\"axis\":{\"matches\":true},\"label\":\"bulkiness\",\"values\":[11.5,11.5,11.5,11.5,11.5,11.5,11.5,11.5,11.5,11.5,11.5,11.5,11.5,11.5,11.5]},{\"axis\":{\"matches\":true},\"label\":\"transmembranetendency\",\"values\":[0.38,0.38,0.38,0.38,0.38,0.38,0.38,0.38,0.38,0.38,0.38,0.38,0.38,0.38,0.38]},{\"axis\":{\"matches\":true},\"label\":\"coilroux\",\"values\":[0.824,0.824,0.824,0.824,0.824,0.824,0.824,0.824,0.824,0.824,0.824,0.824,0.824,0.824,0.824]},{\"axis\":{\"matches\":true},\"label\":\"relativemutability\",\"values\":[100.0,100.0,100.0,100.0,100.0,100.0,100.0,100.0,100.0,100.0,100.0,100.0,100.0,100.0,100.0]}],\"hovertemplate\":\"<b>%{hovertext}</b><br><br>residue type=ALA<br>%{xaxis.title.text}=%{x}<br>%{yaxis.title.text}=%{y}<extra></extra>\",\"hovertext\":[\"A:ALA:8\",\"A:ALA:24\",\"A:ALA:33\",\"A:ALA:36\",\"A:ALA:82\",\"A:ALA:88\",\"A:ALA:90\",\"A:ALA:104\",\"A:ALA:108\",\"A:ALA:119\",\"A:ALA:129\",\"A:ALA:144\",\"A:ALA:161\",\"A:ALA:162\",\"A:ALA:171\"],\"legendgroup\":\"ALA\",\"marker\":{\"color\":\"#19d3f3\",\"opacity\":0.2,\"symbol\":\"circle\"},\"name\":\"ALA\",\"showlegend\":true,\"type\":\"splom\",\"diagonal\":{\"visible\":false}},{\"dimensions\":[{\"axis\":{\"matches\":true},\"label\":\"degree\",\"values\":[2.0,2.0,2.0,2.0,2.0,2.0,2.0,2.0,2.0,2.0,2.0,2.0,2.0,2.0]},{\"axis\":{\"matches\":true},\"label\":\"betweenness centrality\",\"values\":[0.005574541140477426,0.0,0.00978234601457102,0.0017111342919217995,0.028640299051901696,0.0015347044853698973,0.02096308718838629,0.0022574078697213517,0.005570244534111436,0.005049209315575763,0.010895521671499623,0.0029937406248066287,0.0020763052722993576,0.0009722954675233208]},{\"axis\":{\"matches\":true},\"label\":\"closeness centrality\",\"values\":[0.17927461139896372,0.1481164383561644,0.1779835390946502,0.16093023255813954,0.23159303882195448,0.12200282087447109,0.1550179211469534,0.17369477911646586,0.21571072319201995,0.12729948491537896,0.13348765432098766,0.19094922737306844,0.1787190082644628,0.16779825412221144]},{\"axis\":{\"matches\":true},\"label\":\"eigenvector centrality\",\"values\":[0.010236328738068633,0.0005095499382098891,0.01074171746437645,0.0077591461576030415,0.028476446104549722,0.00003128940674678698,0.0009186790922248638,0.003044736065011027,0.03066649743408931,0.00006497759800835881,0.00027936047209896553,0.015182337085566601,0.0048812431979934736,0.00928327583568457]},{\"axis\":{\"matches\":true},\"label\":\"communicability betweenness centrality\",\"values\":[0.005774518969938705,0.0014967668672083714,0.008986744632978608,0.004526997475185277,0.021997611205793143,0.0021276899587109868,0.020646314030607776,0.002376342179472013,0.007518677406990434,0.004880334701685635,0.010768172883735804,0.0036896791911988445,0.0019652582162622855,0.003287678431980223]},{\"axis\":{\"matches\":true},\"label\":\"pka rgroup\",\"values\":[7.0,7.0,7.0,7.0,7.0,7.0,7.0,7.0,7.0,7.0,7.0,7.0,7.0,7.0]},{\"axis\":{\"matches\":true},\"label\":\"isoelectric points\",\"values\":[6.06,6.06,6.06,6.06,6.06,6.06,6.06,6.06,6.06,6.06,6.06,6.06,6.06,6.06]},{\"axis\":{\"matches\":true},\"label\":\"bulkiness\",\"values\":[3.4,3.4,3.4,3.4,3.4,3.4,3.4,3.4,3.4,3.4,3.4,3.4,3.4,3.4]},{\"axis\":{\"matches\":true},\"label\":\"transmembranetendency\",\"values\":[-0.19,-0.19,-0.19,-0.19,-0.19,-0.19,-0.19,-0.19,-0.19,-0.19,-0.19,-0.19,-0.19,-0.19]},{\"axis\":{\"matches\":true},\"label\":\"coilroux\",\"values\":[1.251,1.251,1.251,1.251,1.251,1.251,1.251,1.251,1.251,1.251,1.251,1.251,1.251,1.251]},{\"axis\":{\"matches\":true},\"label\":\"relativemutability\",\"values\":[49.0,49.0,49.0,49.0,49.0,49.0,49.0,49.0,49.0,49.0,49.0,49.0,49.0,49.0]}],\"hovertemplate\":\"<b>%{hovertext}</b><br><br>residue type=GLY<br>%{xaxis.title.text}=%{x}<br>%{yaxis.title.text}=%{y}<extra></extra>\",\"hovertext\":[\"A:GLY:9\",\"A:GLY:38\",\"A:GLY:47\",\"A:GLY:49\",\"A:GLY:57\",\"A:GLY:65\",\"A:GLY:67\",\"A:GLY:83\",\"A:GLY:92\",\"A:GLY:101\",\"A:GLY:148\",\"A:GLY:155\",\"A:GLY:158\",\"A:GLY:169\"],\"legendgroup\":\"GLY\",\"marker\":{\"color\":\"#FF6692\",\"opacity\":0.2,\"symbol\":\"circle\"},\"name\":\"GLY\",\"showlegend\":true,\"type\":\"splom\",\"diagonal\":{\"visible\":false}},{\"dimensions\":[{\"axis\":{\"matches\":true},\"label\":\"degree\",\"values\":[2.0,2.0,2.0,2.0,2.0,2.0,2.0,2.0,2.0,2.0,2.0,2.0,2.0,2.0,2.0,1.0]},{\"axis\":{\"matches\":true},\"label\":\"betweenness centrality\",\"values\":[0.00006721333512568894,0.0,0.005696434286978059,0.0,0.0126913930418009,0.001881875354796693,0.0009131288570729357,0.003428886165141038,0.0032956098831662907,0.03427183953296334,0.0007751937984496123,0.02191850863211262,0.0,0.00041672267777927163,0.011560693641618498,0.0]},{\"axis\":{\"matches\":true},\"label\":\"closeness centrality\",\"values\":[0.15585585585585585,0.17248255234297108,0.15069686411149827,0.19794050343249428,0.21046228710462286,0.16747337850919652,0.17761806981519507,0.18948521358159912,0.20400943396226415,0.1832627118644068,0.1184931506849315,0.15282685512367492,0.18443496801705758,0.17010816125860373,0.1193103448275862,0.10665844636251541]},{\"axis\":{\"matches\":true},\"label\":\"eigenvector centrality\",\"values\":[0.003877845606239345,0.0031899832671178634,0.0005692891767847512,0.026330601236861574,0.03013447675122778,0.007131273720885054,0.01429292503146713,0.019786949580117816,0.026589198446402874,0.01587127566320127,0.000053917882952485044,0.001755505447095081,0.021675258996435715,0.005930884173295463,0.000042543677279834994,6.568403077573551e-6]},{\"axis\":{\"matches\":true},\"label\":\"communicability betweenness centrality\",\"values\":[0.0007259482345013682,0.003181482574317087,0.0044960255001107695,0.0050461230115934706,0.01597696887024299,0.003918535123746749,0.0022235118672495452,0.005874000305289671,0.0046991033168269835,0.03565627791041104,0.0014800538705550175,0.02179996060300853,0.0032244106212675266,0.0011493331145908372,0.011769444427516906,0.00012610994140335074]},{\"axis\":{\"matches\":true},\"label\":\"pka rgroup\",\"values\":[10.28,10.28,10.28,10.28,10.28,10.28,10.28,10.28,10.28,10.28,10.28,10.28,10.28,10.28,10.28,10.28]},{\"axis\":{\"matches\":true},\"label\":\"isoelectric points\",\"values\":[9.47,9.47,9.47,9.47,9.47,9.47,9.47,9.47,9.47,9.47,9.47,9.47,9.47,9.47,9.47,9.47]},{\"axis\":{\"matches\":true},\"label\":\"bulkiness\",\"values\":[15.71,15.71,15.71,15.71,15.71,15.71,15.71,15.71,15.71,15.71,15.71,15.71,15.71,15.71,15.71,15.71]},{\"axis\":{\"matches\":true},\"label\":\"transmembranetendency\",\"values\":[-3.46,-3.46,-3.46,-3.46,-3.46,-3.46,-3.46,-3.46,-3.46,-3.46,-3.46,-3.46,-3.46,-3.46,-3.46,-3.46]},{\"axis\":{\"matches\":true},\"label\":\"coilroux\",\"values\":[0.897,0.897,0.897,0.897,0.897,0.897,0.897,0.897,0.897,0.897,0.897,0.897,0.897,0.897,0.897,0.897]},{\"axis\":{\"matches\":true},\"label\":\"relativemutability\",\"values\":[56.0,56.0,56.0,56.0,56.0,56.0,56.0,56.0,56.0,56.0,56.0,56.0,56.0,56.0,56.0,56.0]}],\"hovertemplate\":\"<b>%{hovertext}</b><br><br>residue type=LYS<br>%{xaxis.title.text}=%{x}<br>%{yaxis.title.text}=%{y}<extra></extra>\",\"hovertext\":[\"A:LYS:10\",\"A:LYS:30\",\"A:LYS:35\",\"A:LYS:95\",\"A:LYS:105\",\"A:LYS:113\",\"A:LYS:122\",\"A:LYS:132\",\"A:LYS:136\",\"A:LYS:143\",\"A:LYS:147\",\"A:LYS:149\",\"A:LYS:152\",\"A:LYS:164\",\"A:LYS:174\",\"A:LYS:175\"],\"legendgroup\":\"LYS\",\"marker\":{\"color\":\"#B6E880\",\"opacity\":0.2,\"symbol\":\"circle\"},\"name\":\"LYS\",\"showlegend\":true,\"type\":\"splom\",\"diagonal\":{\"visible\":false}},{\"dimensions\":[{\"axis\":{\"matches\":true},\"label\":\"degree\",\"values\":[2.0,2.0,2.0,2.0,2.0,2.0,2.0,2.0,2.0,2.0,2.0,2.0,2.0,2.0,2.0,2.0]},{\"axis\":{\"matches\":true},\"label\":\"betweenness centrality\",\"values\":[0.005918939166015384,0.007142983557626576,0.015958790338418672,0.0010961156511633725,0.010612233579030196,0.031448367467993774,0.0,0.019831244970119583,0.025336116234343394,0.00006721333512568894,0.0002925647115054294,0.0005864155523047848,0.00006721333512568894,0.006159141973767595,0.0008357658159378822,0.00006721333512568894]},{\"axis\":{\"matches\":true},\"label\":\"closeness centrality\",\"values\":[0.17816683831101957,0.20329024676850763,0.17421953675730112,0.1516213847502191,0.13622047244094487,0.18020833333333333,0.2220795892169448,0.1550179211469534,0.16666666666666666,0.15599639314697927,0.18384697130712008,0.1876355748373102,0.17077986179664364,0.19073869900771775,0.17725409836065573,0.16476190476190475]},{\"axis\":{\"matches\":true},\"label\":\"eigenvector centrality\",\"values\":[0.014880554325354975,0.039792079856168866,0.003450662812301663,0.0012292299129875908,0.00014666752878936772,0.005803635210209974,0.06554213754051934,0.0017700305115883961,0.002314432721193927,0.0033275940162039767,0.016583309797625647,0.021209374829310144,0.006849354679094671,0.01389810452077639,0.005741509652448144,0.005835573099883212]},{\"axis\":{\"matches\":true},\"label\":\"communicability betweenness centrality\",\"values\":[0.00738291851209489,0.007852484568000192,0.015160043025253313,0.002055990331907838,0.01027149388623536,0.03132839621857642,0.007123418371138119,0.020418567567565826,0.025173443572058477,0.0008718172272741475,0.0018565329693498727,0.00270113596811581,0.0008414554701600865,0.00707625983217778,0.0015289146823498,0.0011621005757810972]},{\"axis\":{\"matches\":true},\"label\":\"pka rgroup\",\"values\":[3.65,3.65,3.65,3.65,3.65,3.65,3.65,3.65,3.65,3.65,3.65,3.65,3.65,3.65,3.65,3.65]},{\"axis\":{\"matches\":true},\"label\":\"isoelectric points\",\"values\":[2.98,2.98,2.98,2.98,2.98,2.98,2.98,2.98,2.98,2.98,2.98,2.98,2.98,2.98,2.98,2.98]},{\"axis\":{\"matches\":true},\"label\":\"bulkiness\",\"values\":[11.68,11.68,11.68,11.68,11.68,11.68,11.68,11.68,11.68,11.68,11.68,11.68,11.68,11.68,11.68,11.68]},{\"axis\":{\"matches\":true},\"label\":\"transmembranetendency\",\"values\":[-3.27,-3.27,-3.27,-3.27,-3.27,-3.27,-3.27,-3.27,-3.27,-3.27,-3.27,-3.27,-3.27,-3.27,-3.27,-3.27]},{\"axis\":{\"matches\":true},\"label\":\"coilroux\",\"values\":[1.197,1.197,1.197,1.197,1.197,1.197,1.197,1.197,1.197,1.197,1.197,1.197,1.197,1.197,1.197,1.197]},{\"axis\":{\"matches\":true},\"label\":\"relativemutability\",\"values\":[106.0,106.0,106.0,106.0,106.0,106.0,106.0,106.0,106.0,106.0,106.0,106.0,106.0,106.0,106.0,106.0]}],\"hovertemplate\":\"<b>%{hovertext}</b><br><br>residue type=ASP<br>%{xaxis.title.text}=%{x}<br>%{yaxis.title.text}=%{y}<extra></extra>\",\"hovertext\":[\"A:ASP:11\",\"A:ASP:15\",\"A:ASP:34\",\"A:ASP:43\",\"A:ASP:66\",\"A:ASP:68\",\"A:ASP:71\",\"A:ASP:98\",\"A:ASP:103\",\"A:ASP:112\",\"A:ASP:125\",\"A:ASP:126\",\"A:ASP:133\",\"A:ASP:157\",\"A:ASP:160\",\"A:ASP:168\"],\"legendgroup\":\"ASP\",\"marker\":{\"color\":\"#FF97FF\",\"opacity\":0.2,\"symbol\":\"circle\"},\"name\":\"ASP\",\"showlegend\":true,\"type\":\"splom\",\"diagonal\":{\"visible\":false}},{\"dimensions\":[{\"axis\":{\"matches\":true},\"label\":\"degree\",\"values\":[6.0,4.0,3.0,6.0,3.0,8.0,5.0,2.0,8.0,7.0,8.0,6.0,8.0,2.0]},{\"axis\":{\"matches\":true},\"label\":\"betweenness centrality\",\"values\":[0.026168337343376154,0.008263748746669148,0.01570137311829784,0.06807058606995642,0.025361061813259738,0.17796499146249656,0.020862466588271154,0.0032537622750412765,0.04834750953619218,0.07318599486553339,0.12060372752927453,0.04262003301525125,0.04896755439381092,0.012225865611737373]},{\"axis\":{\"matches\":true},\"label\":\"closeness centrality\",\"values\":[0.21571072319201995,0.1522887323943662,0.17145688800792863,0.20497630331753555,0.14238683127572016,0.27813504823151125,0.23221476510067113,0.19794050343249428,0.24027777777777778,0.24297752808988765,0.2617246596066566,0.2114914425427873,0.2325268817204301,0.1360062893081761]},{\"axis\":{\"matches\":true},\"label\":\"eigenvector centrality\",\"values\":[0.09250380050868197,0.0009633971847530281,0.002336967892288599,0.013663640362404174,0.00033138860457780205,0.2191698124593483,0.09461515086910927,0.01638134275535817,0.13636124587057555,0.09988144579785604,0.18055834000195536,0.07706009416280654,0.1213111110150626,0.0003986102989946486]},{\"axis\":{\"matches\":true},\"label\":\"communicability betweenness centrality\",\"values\":[0.05584156133576252,0.013207614417381889,0.01816732185011237,0.0750105744953897,0.024363921525224104,0.24778409027467238,0.042960762635141064,0.0057056574847120485,0.08056307109253313,0.09560790344794282,0.15710373344444675,0.05511126444383336,0.0797665069453856,0.012681233060384408]},{\"axis\":{\"matches\":true},\"label\":\"pka rgroup\",\"values\":[7.0,7.0,7.0,7.0,7.0,7.0,7.0,7.0,7.0,7.0,7.0,7.0,7.0,7.0]},{\"axis\":{\"matches\":true},\"label\":\"isoelectric points\",\"values\":[6.04,6.04,6.04,6.04,6.04,6.04,6.04,6.04,6.04,6.04,6.04,6.04,6.04,6.04]},{\"axis\":{\"matches\":true},\"label\":\"bulkiness\",\"values\":[21.4,21.4,21.4,21.4,21.4,21.4,21.4,21.4,21.4,21.4,21.4,21.4,21.4,21.4]},{\"axis\":{\"matches\":true},\"label\":\"transmembranetendency\",\"values\":[1.82,1.82,1.82,1.82,1.82,1.82,1.82,1.82,1.82,1.82,1.82,1.82,1.82,1.82]},{\"axis\":{\"matches\":true},\"label\":\"coilroux\",\"values\":[0.81,0.81,0.81,0.81,0.81,0.81,0.81,0.81,0.81,0.81,0.81,0.81,0.81,0.81]},{\"axis\":{\"matches\":true},\"label\":\"relativemutability\",\"values\":[40.0,40.0,40.0,40.0,40.0,40.0,40.0,40.0,40.0,40.0,40.0,40.0,40.0,40.0]}],\"hovertemplate\":\"<b>%{hovertext}</b><br><br>residue type=LEU<br>%{xaxis.title.text}=%{x}<br>%{yaxis.title.text}=%{y}<extra></extra>\",\"hovertext\":[\"A:LEU:12\",\"A:LEU:37\",\"A:LEU:39\",\"A:LEU:40\",\"A:LEU:63\",\"A:LEU:73\",\"A:LEU:80\",\"A:LEU:81\",\"A:LEU:91\",\"A:LEU:94\",\"A:LEU:106\",\"A:LEU:121\",\"A:LEU:131\",\"A:LEU:145\"],\"legendgroup\":\"LEU\",\"marker\":{\"color\":\"#FECB52\",\"opacity\":0.2,\"symbol\":\"circle\"},\"name\":\"LEU\",\"showlegend\":true,\"type\":\"splom\",\"diagonal\":{\"visible\":false}},{\"dimensions\":[{\"axis\":{\"matches\":true},\"label\":\"degree\",\"values\":[2.0,2.0,2.0,2.0,2.0]},{\"axis\":{\"matches\":true},\"label\":\"betweenness centrality\",\"values\":[0.00006721333512568894,0.010867240256271029,0.04252068825943123,0.008064594141351767,0.00040338912331115587]},{\"axis\":{\"matches\":true},\"label\":\"closeness centrality\",\"values\":[0.1752786220871327,0.1828752642706131,0.1888646288209607,0.20046349942062572,0.18210526315789474]},{\"axis\":{\"matches\":true},\"label\":\"eigenvector centrality\",\"values\":[0.012919755637144226,0.00498693772762226,0.011466037771408498,0.024576456806648952,0.02025440375964396]},{\"axis\":{\"matches\":true},\"label\":\"communicability betweenness centrality\",\"values\":[0.000894567943372088,0.01035824241846247,0.041547834767474624,0.008772434868244652,0.0028358861577749027]},{\"axis\":{\"matches\":true},\"label\":\"pka rgroup\",\"values\":[7.0,7.0,7.0,7.0,7.0]},{\"axis\":{\"matches\":true},\"label\":\"isoelectric points\",\"values\":[5.65,5.65,5.65,5.65,5.65]},{\"axis\":{\"matches\":true},\"label\":\"bulkiness\",\"values\":[14.45,14.45,14.45,14.45,14.45]},{\"axis\":{\"matches\":true},\"label\":\"transmembranetendency\",\"values\":[-1.84,-1.84,-1.84,-1.84,-1.84]},{\"axis\":{\"matches\":true},\"label\":\"coilroux\",\"values\":[0.947,0.947,0.947,0.947,0.947]},{\"axis\":{\"matches\":true},\"label\":\"relativemutability\",\"values\":[93.0,93.0,93.0,93.0,93.0]}],\"hovertemplate\":\"<b>%{hovertext}</b><br><br>residue type=GLN<br>%{xaxis.title.text}=%{x}<br>%{yaxis.title.text}=%{y}<extra></extra>\",\"hovertext\":[\"A:GLN:14\",\"A:GLN:25\",\"A:GLN:61\",\"A:GLN:134\",\"A:GLN:141\"],\"legendgroup\":\"GLN\",\"marker\":{\"color\":\"#636efa\",\"opacity\":0.2,\"symbol\":\"circle\"},\"name\":\"GLN\",\"showlegend\":true,\"type\":\"splom\",\"diagonal\":{\"visible\":false}},{\"dimensions\":[{\"axis\":{\"matches\":true},\"label\":\"degree\",\"values\":[7.0,7.0,5.0,7.0,9.0,9.0,6.0,9.0,3.0,10.0]},{\"axis\":{\"matches\":true},\"label\":\"betweenness centrality\",\"values\":[0.053595107166094856,0.046866533898437875,0.0595164828632,0.07483178300153473,0.12993542100041208,0.08247970997055283,0.02519715470557037,0.06767295797645907,0.013142139708210416,0.11304090920881336]},{\"axis\":{\"matches\":true},\"label\":\"closeness centrality\",\"values\":[0.23159303882195448,0.25,0.2303595206391478,0.21544209215442092,0.26371951219512196,0.2446958981612447,0.2243839169909209,0.24927953890489912,0.19329608938547485,0.23961218836565096]},{\"axis\":{\"matches\":true},\"label\":\"eigenvector centrality\",\"values\":[0.10518513403208496,0.14662705569523163,0.05167691732214464,0.0667179323210863,0.23167344740651682,0.17749533946488763,0.08620105232161099,0.15233284451230392,0.017717804686869922,0.17884918136565417]},{\"axis\":{\"matches\":true},\"label\":\"communicability betweenness centrality\",\"values\":[0.09425855056692102,0.08676061991360097,0.06949004157223075,0.09428120917686993,0.1995774554712595,0.13379047607306876,0.043056094075653015,0.1235361058093383,0.012789303182310146,0.15646213842627527]},{\"axis\":{\"matches\":true},\"label\":\"pka rgroup\",\"values\":[7.0,7.0,7.0,7.0,7.0,7.0,7.0,7.0,7.0,7.0]},{\"axis\":{\"matches\":true},\"label\":\"isoelectric points\",\"values\":[6.04,6.04,6.04,6.04,6.04,6.04,6.04,6.04,6.04,6.04]},{\"axis\":{\"matches\":true},\"label\":\"bulkiness\",\"values\":[21.4,21.4,21.4,21.4,21.4,21.4,21.4,21.4,21.4,21.4]},{\"axis\":{\"matches\":true},\"label\":\"transmembranetendency\",\"values\":[1.97,1.97,1.97,1.97,1.97,1.97,1.97,1.97,1.97,1.97]},{\"axis\":{\"matches\":true},\"label\":\"coilroux\",\"values\":[0.886,0.886,0.886,0.886,0.886,0.886,0.886,0.886,0.886,0.886]},{\"axis\":{\"matches\":true},\"label\":\"relativemutability\",\"values\":[96.0,96.0,96.0,96.0,96.0,96.0,96.0,96.0,96.0,96.0]}],\"hovertemplate\":\"<b>%{hovertext}</b><br><br>residue type=ILE<br>%{xaxis.title.text}=%{x}<br>%{yaxis.title.text}=%{y}<extra></extra>\",\"hovertext\":[\"A:ILE:19\",\"A:ILE:20\",\"A:ILE:22\",\"A:ILE:46\",\"A:ILE:59\",\"A:ILE:75\",\"A:ILE:124\",\"A:ILE:135\",\"A:ILE:159\",\"A:ILE:166\"],\"legendgroup\":\"ILE\",\"marker\":{\"color\":\"#EF553B\",\"opacity\":0.2,\"symbol\":\"circle\"},\"name\":\"ILE\",\"showlegend\":true,\"type\":\"splom\",\"diagonal\":{\"visible\":false}},{\"dimensions\":[{\"axis\":{\"matches\":true},\"label\":\"degree\",\"values\":[2.0,2.0,2.0,2.0,2.0,2.0,2.0,2.0]},{\"axis\":{\"matches\":true},\"label\":\"betweenness centrality\",\"values\":[0.00426893198694035,0.00374292926383261,0.005291654697452261,0.008942684679757973,0.002960560053506601,0.001440365768568484,0.0013014279660740055,0.007426511883083747]},{\"axis\":{\"matches\":true},\"label\":\"closeness centrality\",\"values\":[0.22094508301404853,0.16093023255813954,0.19200887902330743,0.13536776212832552,0.20497630331753555,0.12047353760445682,0.18404255319148935,0.1943820224719101]},{\"axis\":{\"matches\":true},\"label\":\"eigenvector centrality\",\"values\":[0.030616545393925956,0.0019756850007391392,0.005436918973399693,0.00028153839911335257,0.030901547896444337,0.00006986672739730748,0.013199243044139367,0.028528562380190678]},{\"axis\":{\"matches\":true},\"label\":\"communicability betweenness centrality\",\"values\":[0.008467226235881985,0.004097940396727932,0.008079506617490385,0.009631971280151422,0.0060618714403492795,0.0024250914734674123,0.0023877439633169678,0.010344641382833952]},{\"axis\":{\"matches\":true},\"label\":\"pka rgroup\",\"values\":[4.25,4.25,4.25,4.25,4.25,4.25,4.25,4.25]},{\"axis\":{\"matches\":true},\"label\":\"isoelectric points\",\"values\":[3.08,3.08,3.08,3.08,3.08,3.08,3.08,3.08]},{\"axis\":{\"matches\":true},\"label\":\"bulkiness\",\"values\":[13.57,13.57,13.57,13.57,13.57,13.57,13.57,13.57]},{\"axis\":{\"matches\":true},\"label\":\"transmembranetendency\",\"values\":[-2.9,-2.9,-2.9,-2.9,-2.9,-2.9,-2.9,-2.9]},{\"axis\":{\"matches\":true},\"label\":\"coilroux\",\"values\":[0.761,0.761,0.761,0.761,0.761,0.761,0.761,0.761]},{\"axis\":{\"matches\":true},\"label\":\"relativemutability\",\"values\":[102.0,102.0,102.0,102.0,102.0,102.0,102.0,102.0]}],\"hovertemplate\":\"<b>%{hovertext}</b><br><br>residue type=GLU<br>%{xaxis.title.text}=%{x}<br>%{yaxis.title.text}=%{y}<extra></extra>\",\"hovertext\":[\"A:GLU:21\",\"A:GLU:27\",\"A:GLU:32\",\"A:GLU:99\",\"A:GLU:140\",\"A:GLU:146\",\"A:GLU:154\",\"A:GLU:165\"],\"legendgroup\":\"GLU\",\"marker\":{\"color\":\"#00cc96\",\"opacity\":0.2,\"symbol\":\"circle\"},\"name\":\"GLU\",\"showlegend\":true,\"type\":\"splom\",\"diagonal\":{\"visible\":false}},{\"dimensions\":[{\"axis\":{\"matches\":true},\"label\":\"degree\",\"values\":[6.0,9.0,6.0,3.0,8.0]},{\"axis\":{\"matches\":true},\"label\":\"betweenness centrality\",\"values\":[0.05632923976925615,0.11629945820462007,0.05235637710100116,0.002774989159247796,0.07427745500769205]},{\"axis\":{\"matches\":true},\"label\":\"closeness centrality\",\"values\":[0.20546318289786222,0.25441176470588234,0.25441176470588234,0.1905286343612335,0.22179487179487178]},{\"axis\":{\"matches\":true},\"label\":\"eigenvector centrality\",\"values\":[0.013434309808868386,0.14712559866421612,0.10222330533205001,0.029382872656111614,0.10028662780911131]},{\"axis\":{\"matches\":true},\"label\":\"communicability betweenness centrality\",\"values\":[0.06153398116810955,0.16634149179351684,0.08141720111399633,0.007218367663915449,0.11632392276348849]},{\"axis\":{\"matches\":true},\"label\":\"pka rgroup\",\"values\":[10.07,10.07,10.07,10.07,10.07]},{\"axis\":{\"matches\":true},\"label\":\"isoelectric points\",\"values\":[5.63,5.63,5.63,5.63,5.63]},{\"axis\":{\"matches\":true},\"label\":\"bulkiness\",\"values\":[18.03,18.03,18.03,18.03,18.03]},{\"axis\":{\"matches\":true},\"label\":\"transmembranetendency\",\"values\":[0.49,0.49,0.49,0.49,0.49]},{\"axis\":{\"matches\":true},\"label\":\"coilroux\",\"values\":[1.109,1.109,1.109,1.109,1.109]},{\"axis\":{\"matches\":true},\"label\":\"relativemutability\",\"values\":[41.0,41.0,41.0,41.0,41.0]}],\"hovertemplate\":\"<b>%{hovertext}</b><br><br>residue type=TYR<br>%{xaxis.title.text}=%{x}<br>%{yaxis.title.text}=%{y}<extra></extra>\",\"hovertext\":[\"A:TYR:31\",\"A:TYR:52\",\"A:TYR:56\",\"A:TYR:130\",\"A:TYR:142\"],\"legendgroup\":\"TYR\",\"marker\":{\"color\":\"#ab63fa\",\"opacity\":0.2,\"symbol\":\"circle\"},\"name\":\"TYR\",\"showlegend\":true,\"type\":\"splom\",\"diagonal\":{\"visible\":false}},{\"dimensions\":[{\"axis\":{\"matches\":true},\"label\":\"degree\",\"values\":[2.0,2.0,2.0,2.0]},{\"axis\":{\"matches\":true},\"label\":\"betweenness centrality\",\"values\":[0.002036683106449161,0.0019652688225195065,0.0,0.0013282652581093105]},{\"axis\":{\"matches\":true},\"label\":\"closeness centrality\",\"values\":[0.15741583257506825,0.20425029515938606,0.2023391812865497,0.2023391812865497]},{\"axis\":{\"matches\":true},\"label\":\"eigenvector centrality\",\"values\":[0.0021421900775151046,0.030033157394916507,0.04937147080486035,0.038646972400976705]},{\"axis\":{\"matches\":true},\"label\":\"communicability betweenness centrality\",\"values\":[0.002948277508840768,0.006091625426971717,0.004087757622759862,0.0038185590930398415]},{\"axis\":{\"matches\":true},\"label\":\"pka rgroup\",\"values\":[13.2,13.2,13.2,13.2]},{\"axis\":{\"matches\":true},\"label\":\"isoelectric points\",\"values\":[10.76,10.76,10.76,10.76]},{\"axis\":{\"matches\":true},\"label\":\"bulkiness\",\"values\":[14.28,14.28,14.28,14.28]},{\"axis\":{\"matches\":true},\"label\":\"transmembranetendency\",\"values\":[-2.57,-2.57,-2.57,-2.57]},{\"axis\":{\"matches\":true},\"label\":\"coilroux\",\"values\":[0.893,0.893,0.893,0.893]},{\"axis\":{\"matches\":true},\"label\":\"relativemutability\",\"values\":[65.0,65.0,65.0,65.0]}],\"hovertemplate\":\"<b>%{hovertext}</b><br><br>residue type=ARG<br>%{xaxis.title.text}=%{x}<br>%{yaxis.title.text}=%{y}<extra></extra>\",\"hovertext\":[\"A:ARG:44\",\"A:ARG:51\",\"A:ARG:87\",\"A:ARG:89\"],\"legendgroup\":\"ARG\",\"marker\":{\"color\":\"#FFA15A\",\"opacity\":0.2,\"symbol\":\"circle\"},\"name\":\"ARG\",\"showlegend\":true,\"type\":\"splom\",\"diagonal\":{\"visible\":false}},{\"dimensions\":[{\"axis\":{\"matches\":true},\"label\":\"degree\",\"values\":[2.0,2.0,2.0,2.0,2.0,2.0]},{\"axis\":{\"matches\":true},\"label\":\"betweenness centrality\",\"values\":[0.00006721333512568894,0.03223704798520085,0.021267386797811393,0.030787018595606872,0.0010626487782355505,0.010521184838969489]},{\"axis\":{\"matches\":true},\"label\":\"closeness centrality\",\"values\":[0.15175438596491228,0.1618334892422825,0.19953863898500576,0.18153200419727178,0.13884430176565007,0.1941638608305275]},{\"axis\":{\"matches\":true},\"label\":\"eigenvector centrality\",\"values\":[0.0028563851862893836,0.0018214281573684416,0.02821936976284855,0.0111829844036319,0.00046802055517835276,0.02851384711371742]},{\"axis\":{\"matches\":true},\"label\":\"communicability betweenness centrality\",\"values\":[0.0007442844026636793,0.03091766767291693,0.022822710649384306,0.031755276458437724,0.0014288402529471327,0.011856933569239784]},{\"axis\":{\"matches\":true},\"label\":\"pka rgroup\",\"values\":[7.0,7.0,7.0,7.0,7.0,7.0]},{\"axis\":{\"matches\":true},\"label\":\"isoelectric points\",\"values\":[5.6,5.6,5.6,5.6,5.6,5.6]},{\"axis\":{\"matches\":true},\"label\":\"bulkiness\",\"values\":[15.77,15.77,15.77,15.77,15.77,15.77]},{\"axis\":{\"matches\":true},\"label\":\"transmembranetendency\",\"values\":[-0.32,-0.32,-0.32,-0.32,-0.32,-0.32]},{\"axis\":{\"matches\":true},\"label\":\"coilroux\",\"values\":[1.148,1.148,1.148,1.148,1.148,1.148]},{\"axis\":{\"matches\":true},\"label\":\"relativemutability\",\"values\":[97.0,97.0,97.0,97.0,97.0,97.0]}],\"hovertemplate\":\"<b>%{hovertext}</b><br><br>residue type=THR<br>%{xaxis.title.text}=%{x}<br>%{yaxis.title.text}=%{y}<extra></extra>\",\"hovertext\":[\"A:THR:48\",\"A:THR:62\",\"A:THR:76\",\"A:THR:97\",\"A:THR:118\",\"A:THR:167\"],\"legendgroup\":\"THR\",\"marker\":{\"color\":\"#19d3f3\",\"opacity\":0.2,\"symbol\":\"circle\"},\"name\":\"THR\",\"showlegend\":true,\"type\":\"splom\",\"diagonal\":{\"visible\":false}},{\"dimensions\":[{\"axis\":{\"matches\":true},\"label\":\"degree\",\"values\":[5.0,6.0,6.0,3.0]},{\"axis\":{\"matches\":true},\"label\":\"betweenness centrality\",\"values\":[0.013840900837604453,0.08039638381729183,0.04672173634344856,0.00889327911425051]},{\"axis\":{\"matches\":true},\"label\":\"closeness centrality\",\"values\":[0.19094922737306844,0.242296918767507,0.2189873417721519,0.15336879432624115]},{\"axis\":{\"matches\":true},\"label\":\"eigenvector centrality\",\"values\":[0.04739975868879501,0.06226626750373063,0.07066238173148302,0.0010756280413955766]},{\"axis\":{\"matches\":true},\"label\":\"communicability betweenness centrality\",\"values\":[0.03039341520212037,0.08086419863976176,0.07118798553785334,0.008369986987697519]},{\"axis\":{\"matches\":true},\"label\":\"pka rgroup\",\"values\":[7.0,7.0,7.0,7.0]},{\"axis\":{\"matches\":true},\"label\":\"isoelectric points\",\"values\":[5.74,5.74,5.74,5.74]},{\"axis\":{\"matches\":true},\"label\":\"bulkiness\",\"values\":[16.25,16.25,16.25,16.25]},{\"axis\":{\"matches\":true},\"label\":\"transmembranetendency\",\"values\":[1.4,1.4,1.4,1.4]},{\"axis\":{\"matches\":true},\"label\":\"coilroux\",\"values\":[0.81,0.81,0.81,0.81]},{\"axis\":{\"matches\":true},\"label\":\"relativemutability\",\"values\":[94.0,94.0,94.0,94.0]}],\"hovertemplate\":\"<b>%{hovertext}</b><br><br>residue type=MET<br>%{xaxis.title.text}=%{x}<br>%{yaxis.title.text}=%{y}<extra></extra>\",\"hovertext\":[\"A:MET:50\",\"A:MET:93\",\"A:MET:96\",\"A:MET:117\"],\"legendgroup\":\"MET\",\"marker\":{\"color\":\"#FF6692\",\"opacity\":0.2,\"symbol\":\"circle\"},\"name\":\"MET\",\"showlegend\":true,\"type\":\"splom\",\"diagonal\":{\"visible\":false}},{\"dimensions\":[{\"axis\":{\"matches\":true},\"label\":\"degree\",\"values\":[2.0,2.0,2.0]},{\"axis\":{\"matches\":true},\"label\":\"betweenness centrality\",\"values\":[0.009611604951696119,0.0014139605297691063,0.004416477766062646]},{\"axis\":{\"matches\":true},\"label\":\"closeness centrality\",\"values\":[0.1832627118644068,0.1866235167206041,0.18502673796791444]},{\"axis\":{\"matches\":true},\"label\":\"eigenvector centrality\",\"values\":[0.014421618857681758,0.019885922282829083,0.00988589228600076]},{\"axis\":{\"matches\":true},\"label\":\"communicability betweenness centrality\",\"values\":[0.009285056254449385,0.0025885002027165645,0.00450183103901263]},{\"axis\":{\"matches\":true},\"label\":\"pka rgroup\",\"values\":[5.97,5.97,5.97]},{\"axis\":{\"matches\":true},\"label\":\"isoelectric points\",\"values\":[7.64,7.64,7.64]},{\"axis\":{\"matches\":true},\"label\":\"bulkiness\",\"values\":[13.69,13.69,13.69]},{\"axis\":{\"matches\":true},\"label\":\"transmembranetendency\",\"values\":[-1.44,-1.44,-1.44]},{\"axis\":{\"matches\":true},\"label\":\"coilroux\",\"values\":[1.068,1.068,1.068]},{\"axis\":{\"matches\":true},\"label\":\"relativemutability\",\"values\":[66.0,66.0,66.0]}],\"hovertemplate\":\"<b>%{hovertext}</b><br><br>residue type=HIS<br>%{xaxis.title.text}=%{x}<br>%{yaxis.title.text}=%{y}<extra></extra>\",\"hovertext\":[\"A:HIS:111\",\"A:HIS:137\",\"A:HIS:163\"],\"legendgroup\":\"HIS\",\"marker\":{\"color\":\"#B6E880\",\"opacity\":0.2,\"symbol\":\"circle\"},\"name\":\"HIS\",\"showlegend\":true,\"type\":\"splom\",\"diagonal\":{\"visible\":false}},{\"dimensions\":[{\"axis\":{\"matches\":true},\"label\":\"degree\",\"values\":[2.0]},{\"axis\":{\"matches\":true},\"label\":\"betweenness centrality\",\"values\":[0.011336098600107777]},{\"axis\":{\"matches\":true},\"label\":\"closeness centrality\",\"values\":[0.1689453125]},{\"axis\":{\"matches\":true},\"label\":\"eigenvector centrality\",\"values\":[0.0068053785165488635]},{\"axis\":{\"matches\":true},\"label\":\"communicability betweenness centrality\",\"values\":[0.012288759665895297]},{\"axis\":{\"matches\":true},\"label\":\"pka rgroup\",\"values\":[8.33]},{\"axis\":{\"matches\":true},\"label\":\"isoelectric points\",\"values\":[5.02]},{\"axis\":{\"matches\":true},\"label\":\"bulkiness\",\"values\":[13.46]},{\"axis\":{\"matches\":true},\"label\":\"transmembranetendency\",\"values\":[-0.3]},{\"axis\":{\"matches\":true},\"label\":\"coilroux\",\"values\":[0.953]},{\"axis\":{\"matches\":true},\"label\":\"relativemutability\",\"values\":[20.0]}],\"hovertemplate\":\"<b>%{hovertext}</b><br><br>residue type=CYS<br>%{xaxis.title.text}=%{x}<br>%{yaxis.title.text}=%{y}<extra></extra>\",\"hovertext\":[\"A:CYS:115\"],\"legendgroup\":\"CYS\",\"marker\":{\"color\":\"#FF97FF\",\"opacity\":0.2,\"symbol\":\"circle\"},\"name\":\"CYS\",\"showlegend\":true,\"type\":\"splom\",\"diagonal\":{\"visible\":false}},{\"dimensions\":[{\"axis\":{\"matches\":true},\"label\":\"degree\",\"values\":[2.0,6.0]},{\"axis\":{\"matches\":true},\"label\":\"betweenness centrality\",\"values\":[0.032941495592725606,0.03902716040345175]},{\"axis\":{\"matches\":true},\"label\":\"closeness centrality\",\"values\":[0.1787190082644628,0.23283983849259757]},{\"axis\":{\"matches\":true},\"label\":\"eigenvector centrality\",\"values\":[0.011091083199239389,0.08513705600657595]},{\"axis\":{\"matches\":true},\"label\":\"communicability betweenness centrality\",\"values\":[0.033227120698991475,0.05940397714194445]},{\"axis\":{\"matches\":true},\"label\":\"pka rgroup\",\"values\":[7.0,7.0]},{\"axis\":{\"matches\":true},\"label\":\"isoelectric points\",\"values\":[5.88,5.88]},{\"axis\":{\"matches\":true},\"label\":\"bulkiness\",\"values\":[21.67,21.67]},{\"axis\":{\"matches\":true},\"label\":\"transmembranetendency\",\"values\":[1.53,1.53]},{\"axis\":{\"matches\":true},\"label\":\"coilroux\",\"values\":[0.941,0.941]},{\"axis\":{\"matches\":true},\"label\":\"relativemutability\",\"values\":[18.0,18.0]}],\"hovertemplate\":\"<b>%{hovertext}</b><br><br>residue type=TRP<br>%{xaxis.title.text}=%{x}<br>%{yaxis.title.text}=%{y}<extra></extra>\",\"hovertext\":[\"A:TRP:150\",\"A:TRP:156\"],\"legendgroup\":\"TRP\",\"marker\":{\"color\":\"#FECB52\",\"opacity\":0.2,\"symbol\":\"circle\"},\"name\":\"TRP\",\"showlegend\":true,\"type\":\"splom\",\"diagonal\":{\"visible\":false}}],                        {\"template\":{\"data\":{\"bar\":[{\"error_x\":{\"color\":\"#2a3f5f\"},\"error_y\":{\"color\":\"#2a3f5f\"},\"marker\":{\"line\":{\"color\":\"#E5ECF6\",\"width\":0.5},\"pattern\":{\"fillmode\":\"overlay\",\"size\":10,\"solidity\":0.2}},\"type\":\"bar\"}],\"barpolar\":[{\"marker\":{\"line\":{\"color\":\"#E5ECF6\",\"width\":0.5},\"pattern\":{\"fillmode\":\"overlay\",\"size\":10,\"solidity\":0.2}},\"type\":\"barpolar\"}],\"carpet\":[{\"aaxis\":{\"endlinecolor\":\"#2a3f5f\",\"gridcolor\":\"white\",\"linecolor\":\"white\",\"minorgridcolor\":\"white\",\"startlinecolor\":\"#2a3f5f\"},\"baxis\":{\"endlinecolor\":\"#2a3f5f\",\"gridcolor\":\"white\",\"linecolor\":\"white\",\"minorgridcolor\":\"white\",\"startlinecolor\":\"#2a3f5f\"},\"type\":\"carpet\"}],\"choropleth\":[{\"colorbar\":{\"outlinewidth\":0,\"ticks\":\"\"},\"type\":\"choropleth\"}],\"contour\":[{\"colorbar\":{\"outlinewidth\":0,\"ticks\":\"\"},\"colorscale\":[[0.0,\"#0d0887\"],[0.1111111111111111,\"#46039f\"],[0.2222222222222222,\"#7201a8\"],[0.3333333333333333,\"#9c179e\"],[0.4444444444444444,\"#bd3786\"],[0.5555555555555556,\"#d8576b\"],[0.6666666666666666,\"#ed7953\"],[0.7777777777777778,\"#fb9f3a\"],[0.8888888888888888,\"#fdca26\"],[1.0,\"#f0f921\"]],\"type\":\"contour\"}],\"contourcarpet\":[{\"colorbar\":{\"outlinewidth\":0,\"ticks\":\"\"},\"type\":\"contourcarpet\"}],\"heatmap\":[{\"colorbar\":{\"outlinewidth\":0,\"ticks\":\"\"},\"colorscale\":[[0.0,\"#0d0887\"],[0.1111111111111111,\"#46039f\"],[0.2222222222222222,\"#7201a8\"],[0.3333333333333333,\"#9c179e\"],[0.4444444444444444,\"#bd3786\"],[0.5555555555555556,\"#d8576b\"],[0.6666666666666666,\"#ed7953\"],[0.7777777777777778,\"#fb9f3a\"],[0.8888888888888888,\"#fdca26\"],[1.0,\"#f0f921\"]],\"type\":\"heatmap\"}],\"heatmapgl\":[{\"colorbar\":{\"outlinewidth\":0,\"ticks\":\"\"},\"colorscale\":[[0.0,\"#0d0887\"],[0.1111111111111111,\"#46039f\"],[0.2222222222222222,\"#7201a8\"],[0.3333333333333333,\"#9c179e\"],[0.4444444444444444,\"#bd3786\"],[0.5555555555555556,\"#d8576b\"],[0.6666666666666666,\"#ed7953\"],[0.7777777777777778,\"#fb9f3a\"],[0.8888888888888888,\"#fdca26\"],[1.0,\"#f0f921\"]],\"type\":\"heatmapgl\"}],\"histogram\":[{\"marker\":{\"pattern\":{\"fillmode\":\"overlay\",\"size\":10,\"solidity\":0.2}},\"type\":\"histogram\"}],\"histogram2d\":[{\"colorbar\":{\"outlinewidth\":0,\"ticks\":\"\"},\"colorscale\":[[0.0,\"#0d0887\"],[0.1111111111111111,\"#46039f\"],[0.2222222222222222,\"#7201a8\"],[0.3333333333333333,\"#9c179e\"],[0.4444444444444444,\"#bd3786\"],[0.5555555555555556,\"#d8576b\"],[0.6666666666666666,\"#ed7953\"],[0.7777777777777778,\"#fb9f3a\"],[0.8888888888888888,\"#fdca26\"],[1.0,\"#f0f921\"]],\"type\":\"histogram2d\"}],\"histogram2dcontour\":[{\"colorbar\":{\"outlinewidth\":0,\"ticks\":\"\"},\"colorscale\":[[0.0,\"#0d0887\"],[0.1111111111111111,\"#46039f\"],[0.2222222222222222,\"#7201a8\"],[0.3333333333333333,\"#9c179e\"],[0.4444444444444444,\"#bd3786\"],[0.5555555555555556,\"#d8576b\"],[0.6666666666666666,\"#ed7953\"],[0.7777777777777778,\"#fb9f3a\"],[0.8888888888888888,\"#fdca26\"],[1.0,\"#f0f921\"]],\"type\":\"histogram2dcontour\"}],\"mesh3d\":[{\"colorbar\":{\"outlinewidth\":0,\"ticks\":\"\"},\"type\":\"mesh3d\"}],\"parcoords\":[{\"line\":{\"colorbar\":{\"outlinewidth\":0,\"ticks\":\"\"}},\"type\":\"parcoords\"}],\"pie\":[{\"automargin\":true,\"type\":\"pie\"}],\"scatter\":[{\"marker\":{\"colorbar\":{\"outlinewidth\":0,\"ticks\":\"\"}},\"type\":\"scatter\"}],\"scatter3d\":[{\"line\":{\"colorbar\":{\"outlinewidth\":0,\"ticks\":\"\"}},\"marker\":{\"colorbar\":{\"outlinewidth\":0,\"ticks\":\"\"}},\"type\":\"scatter3d\"}],\"scattercarpet\":[{\"marker\":{\"colorbar\":{\"outlinewidth\":0,\"ticks\":\"\"}},\"type\":\"scattercarpet\"}],\"scattergeo\":[{\"marker\":{\"colorbar\":{\"outlinewidth\":0,\"ticks\":\"\"}},\"type\":\"scattergeo\"}],\"scattergl\":[{\"marker\":{\"colorbar\":{\"outlinewidth\":0,\"ticks\":\"\"}},\"type\":\"scattergl\"}],\"scattermapbox\":[{\"marker\":{\"colorbar\":{\"outlinewidth\":0,\"ticks\":\"\"}},\"type\":\"scattermapbox\"}],\"scatterpolar\":[{\"marker\":{\"colorbar\":{\"outlinewidth\":0,\"ticks\":\"\"}},\"type\":\"scatterpolar\"}],\"scatterpolargl\":[{\"marker\":{\"colorbar\":{\"outlinewidth\":0,\"ticks\":\"\"}},\"type\":\"scatterpolargl\"}],\"scatterternary\":[{\"marker\":{\"colorbar\":{\"outlinewidth\":0,\"ticks\":\"\"}},\"type\":\"scatterternary\"}],\"surface\":[{\"colorbar\":{\"outlinewidth\":0,\"ticks\":\"\"},\"colorscale\":[[0.0,\"#0d0887\"],[0.1111111111111111,\"#46039f\"],[0.2222222222222222,\"#7201a8\"],[0.3333333333333333,\"#9c179e\"],[0.4444444444444444,\"#bd3786\"],[0.5555555555555556,\"#d8576b\"],[0.6666666666666666,\"#ed7953\"],[0.7777777777777778,\"#fb9f3a\"],[0.8888888888888888,\"#fdca26\"],[1.0,\"#f0f921\"]],\"type\":\"surface\"}],\"table\":[{\"cells\":{\"fill\":{\"color\":\"#EBF0F8\"},\"line\":{\"color\":\"white\"}},\"header\":{\"fill\":{\"color\":\"#C8D4E3\"},\"line\":{\"color\":\"white\"}},\"type\":\"table\"}]},\"layout\":{\"annotationdefaults\":{\"arrowcolor\":\"#2a3f5f\",\"arrowhead\":0,\"arrowwidth\":1},\"autotypenumbers\":\"strict\",\"coloraxis\":{\"colorbar\":{\"outlinewidth\":0,\"ticks\":\"\"}},\"colorscale\":{\"diverging\":[[0,\"#8e0152\"],[0.1,\"#c51b7d\"],[0.2,\"#de77ae\"],[0.3,\"#f1b6da\"],[0.4,\"#fde0ef\"],[0.5,\"#f7f7f7\"],[0.6,\"#e6f5d0\"],[0.7,\"#b8e186\"],[0.8,\"#7fbc41\"],[0.9,\"#4d9221\"],[1,\"#276419\"]],\"sequential\":[[0.0,\"#0d0887\"],[0.1111111111111111,\"#46039f\"],[0.2222222222222222,\"#7201a8\"],[0.3333333333333333,\"#9c179e\"],[0.4444444444444444,\"#bd3786\"],[0.5555555555555556,\"#d8576b\"],[0.6666666666666666,\"#ed7953\"],[0.7777777777777778,\"#fb9f3a\"],[0.8888888888888888,\"#fdca26\"],[1.0,\"#f0f921\"]],\"sequentialminus\":[[0.0,\"#0d0887\"],[0.1111111111111111,\"#46039f\"],[0.2222222222222222,\"#7201a8\"],[0.3333333333333333,\"#9c179e\"],[0.4444444444444444,\"#bd3786\"],[0.5555555555555556,\"#d8576b\"],[0.6666666666666666,\"#ed7953\"],[0.7777777777777778,\"#fb9f3a\"],[0.8888888888888888,\"#fdca26\"],[1.0,\"#f0f921\"]]},\"colorway\":[\"#636efa\",\"#EF553B\",\"#00cc96\",\"#ab63fa\",\"#FFA15A\",\"#19d3f3\",\"#FF6692\",\"#B6E880\",\"#FF97FF\",\"#FECB52\"],\"font\":{\"color\":\"#2a3f5f\"},\"geo\":{\"bgcolor\":\"white\",\"lakecolor\":\"white\",\"landcolor\":\"#E5ECF6\",\"showlakes\":true,\"showland\":true,\"subunitcolor\":\"white\"},\"hoverlabel\":{\"align\":\"left\"},\"hovermode\":\"closest\",\"mapbox\":{\"style\":\"light\"},\"paper_bgcolor\":\"white\",\"plot_bgcolor\":\"#E5ECF6\",\"polar\":{\"angularaxis\":{\"gridcolor\":\"white\",\"linecolor\":\"white\",\"ticks\":\"\"},\"bgcolor\":\"#E5ECF6\",\"radialaxis\":{\"gridcolor\":\"white\",\"linecolor\":\"white\",\"ticks\":\"\"}},\"scene\":{\"xaxis\":{\"backgroundcolor\":\"#E5ECF6\",\"gridcolor\":\"white\",\"gridwidth\":2,\"linecolor\":\"white\",\"showbackground\":true,\"ticks\":\"\",\"zerolinecolor\":\"white\"},\"yaxis\":{\"backgroundcolor\":\"#E5ECF6\",\"gridcolor\":\"white\",\"gridwidth\":2,\"linecolor\":\"white\",\"showbackground\":true,\"ticks\":\"\",\"zerolinecolor\":\"white\"},\"zaxis\":{\"backgroundcolor\":\"#E5ECF6\",\"gridcolor\":\"white\",\"gridwidth\":2,\"linecolor\":\"white\",\"showbackground\":true,\"ticks\":\"\",\"zerolinecolor\":\"white\"}},\"shapedefaults\":{\"line\":{\"color\":\"#2a3f5f\"}},\"ternary\":{\"aaxis\":{\"gridcolor\":\"white\",\"linecolor\":\"white\",\"ticks\":\"\"},\"baxis\":{\"gridcolor\":\"white\",\"linecolor\":\"white\",\"ticks\":\"\"},\"bgcolor\":\"#E5ECF6\",\"caxis\":{\"gridcolor\":\"white\",\"linecolor\":\"white\",\"ticks\":\"\"}},\"title\":{\"x\":0.05},\"xaxis\":{\"automargin\":true,\"gridcolor\":\"white\",\"linecolor\":\"white\",\"ticks\":\"\",\"title\":{\"standoff\":15},\"zerolinecolor\":\"white\",\"zerolinewidth\":2},\"yaxis\":{\"automargin\":true,\"gridcolor\":\"white\",\"linecolor\":\"white\",\"ticks\":\"\",\"title\":{\"standoff\":15},\"zerolinecolor\":\"white\",\"zerolinewidth\":2}}},\"legend\":{\"title\":{\"text\":\"residue type\"},\"tracegroupgap\":0},\"title\":{\"text\":\"3eiy - Correlation of Graph Metrics with Properties (Coloured by residue_type)\"},\"dragmode\":\"select\",\"height\":1000,\"width\":1000,\"font\":{\"size\":10}},                        {\"responsive\": true}                    ).then(function(){\n",
              "                            \n",
              "var gd = document.getElementById('ef7222a7-e7f4-4d73-9d0d-aa06532428a4');\n",
              "var x = new MutationObserver(function (mutations, observer) {{\n",
              "        var display = window.getComputedStyle(gd).display;\n",
              "        if (!display || display === 'none') {{\n",
              "            console.log([gd, 'removed!']);\n",
              "            Plotly.purge(gd);\n",
              "            observer.disconnect();\n",
              "        }}\n",
              "}});\n",
              "\n",
              "// Listen for the removal of the full notebook cells\n",
              "var notebookContainer = gd.closest('#notebook-container');\n",
              "if (notebookContainer) {{\n",
              "    x.observe(notebookContainer, {childList: true});\n",
              "}}\n",
              "\n",
              "// Listen for the clearing of the current output cell\n",
              "var outputEl = gd.closest('.output');\n",
              "if (outputEl) {{\n",
              "    x.observe(outputEl, {childList: true});\n",
              "}}\n",
              "\n",
              "                        })                };                            </script>        </div>\n",
              "</body>\n",
              "</html>"
            ]
          },
          "metadata": {}
        }
      ]
    },
    {
      "cell_type": "code",
      "source": [],
      "metadata": {
        "id": "tU4EOhgw0-KK"
      },
      "execution_count": null,
      "outputs": []
    }
  ]
}